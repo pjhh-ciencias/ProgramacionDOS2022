{
 "cells": [
  {
   "cell_type": "code",
   "execution_count": 10,
   "metadata": {},
   "outputs": [
    {
     "name": "stdout",
     "output_type": "stream",
     "text": [
      "[\n",
      "1\n",
      ",\n",
      "\n",
      "5\n",
      "]\n"
     ]
    }
   ],
   "source": [
    "entrada=input('Dame una lista')\n",
    "lista=[] # Creamos una lista vacia\n",
    "for x in entrada:\n",
    "    codigo=''\n",
    "    if x != \"[\" or x !=\"]\":\n",
    "        print(x)\n",
    "        if x == ',':\n",
    "            print(codigo)\n",
    "            lista.append(codigo)\n",
    "            codigo=''\n",
    "        else:\n",
    "            codigo = codigo + x"
   ]
  },
  {
   "cell_type": "code",
   "execution_count": 119,
   "metadata": {},
   "outputs": [
    {
     "name": "stdout",
     "output_type": "stream",
     "text": [
      "\t\t    1     \t    2     \t    3     \t    4     \t    5     \t    6     \t    7     \t    8     \t    9     \t    10    \t\n",
      "    1     \t    1     \t    2     \t    3     \t    4     \t    5     \t    6     \t    7     \t    8     \t    9     \t    10    \t\n",
      "    2     \t    2     \t    4     \t    6     \t    8     \t    10    \t    12    \t    14    \t    16    \t    18    \t    20    \t\n",
      "    3     \t    3     \t    6     \t    9     \t    12    \t    15    \t    18    \t    21    \t    24    \t    27    \t    30    \t\n",
      "    4     \t    4     \t    8     \t    12    \t    16    \t    20    \t    24    \t    28    \t    32    \t    36    \t    40    \t\n",
      "    5     \t    5     \t    10    \t    15    \t    20    \t    25    \t    30    \t    35    \t    40    \t    45    \t    50    \t\n",
      "    6     \t    6     \t    12    \t    18    \t    24    \t    30    \t    36    \t    42    \t    48    \t    54    \t    60    \t\n",
      "    7     \t    7     \t    14    \t    21    \t    28    \t    35    \t    42    \t    49    \t    56    \t    63    \t    70    \t\n",
      "    8     \t    8     \t    16    \t    24    \t    32    \t    40    \t    48    \t    56    \t    64    \t    72    \t    80    \t\n",
      "    9     \t    9     \t    18    \t    27    \t    36    \t    45    \t    54    \t    63    \t    72    \t    81    \t    90    \t\n",
      "    10    \t    10    \t    20    \t    30    \t    40    \t    50    \t    60    \t    70    \t    80    \t    90    \t   100    \t\n"
     ]
    }
   ],
   "source": [
    "MIN = 1\n",
    "MAX = 10\n",
    "print(f\"\\t\\t\", end=\"\")\n",
    "for i in range(MIN, MAX + 1):\n",
    "    print(f\"{i :^10d}\", end=\"\\t\")\n",
    "print()\n",
    "\n",
    "for i in range(MIN, MAX + 1):\n",
    "    print(\"{:^10d}\".format(i), end=\"\\t\")\n",
    "    for j in range(MIN, MAX + 1):\n",
    "        print(\"{:^10d}\".format(i*j), end=\"\\t\")\n",
    "    print()\n"
   ]
  },
  {
   "cell_type": "code",
   "execution_count": 2,
   "metadata": {},
   "outputs": [
    {
     "name": "stdout",
     "output_type": "stream",
     "text": [
      "{'Escribe': 1, 'un': 1, 'programa': 1, 'en': 2, 'Python': 1, 'que': 1, 'lea': 1, 'una': 1, 'línea': 1, 'de': 3, 'texto': 1, 'y': 1, 'determine': 1, 'e': 1, 'imprima': 1, 'el': 1, 'número': 1, 'ocurrencias': 1, 'cada': 1, 'palabra': 1, 'la': 1, 'cadena': 1}\n",
      "Palabra       Total   \n",
      "Escribe         1     \n",
      "Python          1     \n",
      "cada            1     \n",
      "cadena          1     \n",
      "de              3     \n",
      "determine       1     \n",
      "e               1     \n",
      "el              1     \n",
      "en              2     \n",
      "imprima         1     \n",
      "la              1     \n",
      "lea             1     \n",
      "línea           1     \n",
      "número          1     \n",
      "ocurrencias     1     \n",
      "palabra         1     \n",
      "programa        1     \n",
      "que             1     \n",
      "texto           1     \n",
      "un              1     \n",
      "una             1     \n",
      "y               1     \n",
      "\n",
      "Número de palabras únicas: 22\n"
     ]
    }
   ],
   "source": [
    "text = ('Escribe un programa en Python que lea una línea de texto y determine e imprima el número de ocurrencias de cada palabra en la cadena')\n",
    "\n",
    "word_counts = {}\n",
    "\n",
    "for word in text.split():\n",
    "    if word in word_counts:\n",
    "        word_counts[word] += 1  # update existing key-value pair\n",
    "    else:\n",
    "        word_counts[word] = 1  # insert new key-value pair\n",
    "\n",
    "print(word_counts)\n",
    "print(f'{\"Palabra\":<12}{\"Total\":^10}')\n",
    "\n",
    "for word, count in sorted(word_counts.items()):\n",
    "    print(f'{word:<12}{count:^10}')\n",
    "print('\\nNúmero de palabras únicas:', len(word_counts))"
   ]
  },
  {
   "cell_type": "code",
   "execution_count": null,
   "metadata": {},
   "outputs": [],
   "source": []
  }
 ],
 "metadata": {
  "kernelspec": {
   "display_name": "Python 3",
   "language": "python",
   "name": "python3"
  },
  "language_info": {
   "codemirror_mode": {
    "name": "ipython",
    "version": 3
   },
   "file_extension": ".py",
   "mimetype": "text/x-python",
   "name": "python",
   "nbconvert_exporter": "python",
   "pygments_lexer": "ipython3",
   "version": "3.11.2"
  },
  "orig_nbformat": 4,
  "vscode": {
   "interpreter": {
    "hash": "1606ed296fe21ab67c1d4b49f3f22d72247524c93f58d404930dbd4d15d6017c"
   }
  }
 },
 "nbformat": 4,
 "nbformat_minor": 2
}
