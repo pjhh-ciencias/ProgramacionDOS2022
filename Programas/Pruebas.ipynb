{
 "cells": [
  {
   "cell_type": "code",
   "execution_count": 10,
   "metadata": {},
   "outputs": [
    {
     "name": "stdout",
     "output_type": "stream",
     "text": [
      "[\n",
      "1\n",
      ",\n",
      "\n",
      "5\n",
      "]\n"
     ]
    }
   ],
   "source": [
    "entrada=input('Dame una lista')\n",
    "lista=[] # Creamos una lista vacia\n",
    "for x in entrada:\n",
    "    codigo=''\n",
    "    if x != \"[\" or x !=\"]\":\n",
    "        print(x)\n",
    "        if x == ',':\n",
    "            print(codigo)\n",
    "            lista.append(codigo)\n",
    "            codigo=''\n",
    "        else:\n",
    "            codigo = codigo + x"
   ]
  },
  {
   "cell_type": "code",
   "execution_count": 59,
   "metadata": {},
   "outputs": [
    {
     "name": "stdout",
     "output_type": "stream",
     "text": [
      "          1          2          3          4          5          6          7          8          9          10         \n",
      "1        1          2          3          4          5          6          7          8          9          10         \n",
      "2        2          4          6          8          10         12         14         16         18         20         \n",
      "3        3          6          9          12         15         18         21         24         27         30         \n",
      "4        4          8          12         16         20         24         28         32         36         40         \n",
      "5        5          10         15         20         25         30         35         40         45         50         \n",
      "6        6          12         18         24         30         36         42         48         54         60         \n",
      "7        7          14         21         28         35         42         49         56         63         70         \n",
      "8        8          16         24         32         40         48         56         64         72         80         \n",
      "9        9          18         27         36         45         54         63         72         81         90         \n",
      "10       10         20         30         40         50         60         70         80         90         100        \n"
     ]
    }
   ],
   "source": [
    "MIN = 1\n",
    "MAX = 10\n",
    "print(\"          \", end=\"\")\n",
    "for i in range(MIN, MAX + 1):\n",
    "    print(f\"{i : <10}\", end=\" \")\n",
    "print()\n",
    "\n",
    "for i in range(MIN, MAX + 1):\n",
    "    print(\"{:<8}\".format(i), end=\" \")\n",
    "    for j in range(MIN, MAX + 1):\n",
    "        print(\"{:<10}\".format(i*j), end=\" \")\n",
    "    print()\n"
   ]
  },
  {
   "cell_type": "code",
   "execution_count": null,
   "metadata": {},
   "outputs": [],
   "source": []
  }
 ],
 "metadata": {
  "kernelspec": {
   "display_name": "Python 3",
   "language": "python",
   "name": "python3"
  },
  "language_info": {
   "codemirror_mode": {
    "name": "ipython",
    "version": 3
   },
   "file_extension": ".py",
   "mimetype": "text/x-python",
   "name": "python",
   "nbconvert_exporter": "python",
   "pygments_lexer": "ipython3",
   "version": "3.11.1"
  },
  "orig_nbformat": 4,
  "vscode": {
   "interpreter": {
    "hash": "1606ed296fe21ab67c1d4b49f3f22d72247524c93f58d404930dbd4d15d6017c"
   }
  }
 },
 "nbformat": 4,
 "nbformat_minor": 2
}
