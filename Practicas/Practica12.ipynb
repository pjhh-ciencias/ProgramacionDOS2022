{
 "cells": [
  {
   "attachments": {},
   "cell_type": "markdown",
   "metadata": {},
   "source": [
    "# <center>Prácticas 12 </center>\n",
    "<center>\n",
    "<img src=\"../Imagenes/gorila_music.png\" alt=\"\", width=\"25%\" height=\"auto\">\n",
    "</center>"
   ]
  },
  {
   "attachments": {},
   "cell_type": "markdown",
   "metadata": {},
   "source": [
    "## Práctica 12.1\n",
    "\n",
    "#### Escribir un programa en Python que genere de forma aleatoria  las temperaturas promedio minimas y maximas mensuales durante un año particula, estas tiene que ser tomadas de manera uniforme entre 20 C y 40  y además para cada mes la temperatura mínima debe ser menor o igual que la temperatura maxima correspondiente.Almacenar estas en listas.\n",
    "\n",
    "#### Luego utilizando matplotlib.pytplot.subplots realiza la gráfica de estas temperaturas promedio mensual, en una gráfica deben estar las correspondientes a las temperaturas mínimas, en otra las temperaturas máximas y en una tercera subgrafica que aparezcan ambas. Utiliza un arreglo de ejes de tamaño $3 \\times 1$. Replica el estilo de la siguiente gráfica: \n",
    "\n",
    "<center>\n",
    "<img src=\"../Imagenes/\" alt=\"\", width=\"25%\" height=\"auto\">\n",
    "</center>"
   ]
  },
  {
   "attachments": {},
   "cell_type": "markdown",
   "metadata": {},
   "source": [
    "## Práctica 12.2 \n",
    "\n",
    "#### Crear una clase `vector` con atributos y métodos similares a los de la clase punto creadas en una clase previa. Crear un método llamado `dibujar` en el cual utilicen la librería matplotlib para representar gráficamente el vector en el plano, como se aprecia en el siguiente gráfico:\n",
    "\n",
    "\n",
    "<center>\n",
    "<img src=\"../Imagenes/\" alt=\"\", width=\"25%\" height=\"auto\">\n",
    "</center>\n",
    "\n",
    "\n"
   ]
  },
  {
   "attachments": {},
   "cell_type": "markdown",
   "metadata": {},
   "source": [
    "## Práctica 12.3"
   ]
  },
  {
   "attachments": {},
   "cell_type": "markdown",
   "metadata": {},
   "source": [
    "#### Escribe un programa en Python que implemente la clase vector creada en la Práctica 12.2 que solicite al usuario las coordenadas de dos vectores y represente geométricamente "
   ]
  },
  {
   "attachments": {},
   "cell_type": "markdown",
   "metadata": {},
   "source": []
  }
 ],
 "metadata": {
  "kernelspec": {
   "display_name": "Python 3",
   "language": "python",
   "name": "python3"
  },
  "language_info": {
   "codemirror_mode": {
    "name": "ipython",
    "version": 3
   },
   "file_extension": ".py",
   "mimetype": "text/x-python",
   "name": "python",
   "nbconvert_exporter": "python",
   "pygments_lexer": "ipython3",
   "version": "3.11.2"
  },
  "orig_nbformat": 4
 },
 "nbformat": 4,
 "nbformat_minor": 2
}
