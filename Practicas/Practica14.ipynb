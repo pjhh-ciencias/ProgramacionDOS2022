{
 "cells": [
  {
   "attachments": {},
   "cell_type": "markdown",
   "metadata": {},
   "source": [
    "# <center>Práctica 14 </center>\n",
    "<center>\n",
    "<img src=\"../Imagenes/gorila_music.png\" alt=\"\", width=\"25%\" height=\"auto\">\n",
    "</center>"
   ]
  },
  {
   "attachments": {},
   "cell_type": "markdown",
   "metadata": {},
   "source": [
    "## Práctica 14.1 Problema del coleccionista de estampas"
   ]
  },
  {
   "attachments": {},
   "cell_type": "markdown",
   "metadata": {},
   "source": [
    "#### Un coleccionista está tratando de completar un conjunto de $N$ estampas diferentes. Inicialmente, el coleccionista no tiene ninguna estampa. En cada adquisicion, el coleccionista adquiere una estampa al azar. La estampa puede ser una nuevo, que no se ha adquirido anteriormente, o puede ser duplicado, es decir, una estampa que ya ha sido adquirida anteriormente. Se desea determinar el número promedio de estampas que debe adquirir el coleccionista para completar la colección completa de $N$ estampas.\n",
    "\n",
    "#### Escribe un programa en Python que simule el problema del coleccionista de estampas y calcule el número promedio de estampas requeridos para completar la coleccion completa."
   ]
  },
  {
   "attachments": {},
   "cell_type": "markdown",
   "metadata": {},
   "source": [
    "## Práctica 14.2 El problema de los sombreros de Euler\n",
    "\n",
    "#### Cuatro profesores de la UMAR campus Huatulco, cada uno con su sombrero, van a un concierto de opera en el autorio de la Universida y al entrar dejan los sombreros en el guardarropa que se encuentra en la entrada. A la salida cada uno toma al azar un sombrero. Escribe un programa en pytho que te permita estimar la probabilidad de que ninguno de los profesores tome su sombrero."
   ]
  },
  {
   "attachments": {},
   "cell_type": "markdown",
   "metadata": {},
   "source": [
    "## Práctica 14.3 La Ruina del Jugador\n",
    "\n",
    "#### Un jugador de apuestas juega contra la banca partidas sucesivas e independientes. En cada partida, la probabilidad de ganar es igual a la de perder: $p=\\frac{1}{2}$. Si el jugador pierde, entrega un *pelucholar* a la banca, y si gana recibe la misma cantidad. La fortuna del jugador depende  por lo  tanto del al azar, de acuerdo con los resultados de las distintas partidas. El jugador tiene previsto retirarse tanto si llega a ganar $6$ *pelucholares*  como si llega a perder $4$ *pelucholares*.\n",
    "\n",
    "#### Escribe un programa en python que te permita estimar  la probabilidad de alcanzar esos $6$ *pelucholares* de beneficio."
   ]
  },
  {
   "attachments": {},
   "cell_type": "markdown",
   "metadata": {},
   "source": []
  },
  {
   "attachments": {},
   "cell_type": "markdown",
   "metadata": {},
   "source": []
  }
 ],
 "metadata": {
  "kernelspec": {
   "display_name": "Python 3",
   "language": "python",
   "name": "python3"
  },
  "language_info": {
   "codemirror_mode": {
    "name": "ipython",
    "version": 3
   },
   "file_extension": ".py",
   "mimetype": "text/x-python",
   "name": "python",
   "nbconvert_exporter": "python",
   "pygments_lexer": "ipython3",
   "version": "3.11.2"
  },
  "orig_nbformat": 4
 },
 "nbformat": 4,
 "nbformat_minor": 2
}
