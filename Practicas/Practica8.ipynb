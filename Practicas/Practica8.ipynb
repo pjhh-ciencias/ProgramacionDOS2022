{
 "cells": [
  {
   "attachments": {},
   "cell_type": "markdown",
   "metadata": {},
   "source": [
    "# A practicar ... \n",
    "<center>\n",
    "<img src=\"../Imagenes/gorila_music.png\" alt=\"\", width=\"25%\" height=\"auto\">\n",
    "<!-- ![Tablero de ajedrez](./Quizes_Imagenes/tablero_ajedrez.jpg) -->\n",
    "</center>"
   ]
  },
  {
   "attachments": {},
   "cell_type": "markdown",
   "metadata": {},
   "source": [
    "## Práctica 8.1\n",
    "\n",
    "#### Cree un programa en Python que sume todos los números ingresados por el usuario mientras ignora cualquier entrada que no sea un número válido. El programa debe mostrar la suma actual después de ingresar cada número y debe mostrar un mensaje apropiado después de cada entrada no numérica y luego continuar sumando cualquier número adicional ingresado por el usuario. El programa debe terminar cuando el usuario ingrese una línea en blanco. Asegúrate de que el programa funcione correctamente tanto para números enteros como de punto flotante."
   ]
  },
  {
   "cell_type": "markdown",
   "metadata": {},
   "source": []
  }
 ],
 "metadata": {
  "language_info": {
   "name": "python"
  },
  "orig_nbformat": 4
 },
 "nbformat": 4,
 "nbformat_minor": 2
}
