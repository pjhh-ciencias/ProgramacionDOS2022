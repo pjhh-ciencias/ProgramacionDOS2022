{
 "cells": [
  {
   "attachments": {},
   "cell_type": "markdown",
   "metadata": {},
   "source": [
    "# A practicar ... \n",
    "<center>\n",
    "<img src=\"../Imagenes/gorila_music.png\" alt=\"\", width=\"25%\" height=\"auto\">\n",
    "<!-- ![Tablero de ajedrez](./Quizes_Imagenes/tablero_ajedrez.jpg) -->\n",
    "</center>"
   ]
  },
  {
   "attachments": {},
   "cell_type": "markdown",
   "metadata": {},
   "source": [
    "## Práctica 8.1\n",
    "\n",
    "#### Cree un programa en Python que sume todos los números ingresados por el usuario mientras ignora cualquier entrada que no sea un número válido. El programa debe mostrar la suma actual después de ingresar cada número y debe mostrar un mensaje apropiado después de cada entrada no numérica y luego continuar sumando cualquier número adicional ingresado por el usuario. El programa debe terminar cuando el usuario ingrese una espacio en blanco. Asegúrate de que el programa funcione correctamente tanto para números enteros como de punto flotante."
   ]
  },
  {
   "attachments": {},
   "cell_type": "markdown",
   "metadata": {},
   "source": [
    "**Solución:**"
   ]
  },
  {
   "cell_type": "code",
   "execution_count": null,
   "metadata": {},
   "outputs": [],
   "source": [
    "suma =0;\n",
    "while True:\n",
    "    x = input(\"Ingrese un número (Ingresa espacio en blanco para terminar\")\n",
    "    if x == \" \":\n",
    "        break\n",
    "    try:\n",
    "        num = float(x)\n",
    "        suma += num\n",
    "        print(f\"Suma total: {suma}\")\n",
    "    except ValueError:\n",
    "        print(f\"Error: '{x}' no representa un número.\")\n",
    "\n",
    "print(f\"Suma final: {suma}\")\n",
    "\n"
   ]
  },
  {
   "attachments": {},
   "cell_type": "markdown",
   "metadata": {},
   "source": [
    "## Práctica 8.2\n",
    "\n",
    "#### Escriba una función llamada `convertir_y_sumar` que tome una lista de cadenas de caracteres como argumento y cree una nueva lista apartir de estas cadenas conviertiendo en  números (incluso de punto flotante) las cadenas admitibles, omitiendo las cadenas que no se puedan convertir en números (ue `try-except`),  luego calcule y devuelva la suma de los elementos en la lista resultante. Por ejemplo, si la lista recibida como argumento es: \n",
    "`['1', '1a', 'H3', '5', '80', 'Actuaria']` \n",
    "#### la lista resultante debe ser \n",
    "`[1,5,80]` \n",
    "#### y la funcion debe devolver   `86`. La función también debe contemplar la posibilidad de que ninguna cadena corresponda a un número, mandar un mensaje adecuado en ese caso.    "
   ]
  },
  {
   "cell_type": "code",
   "execution_count": 88,
   "metadata": {},
   "outputs": [
    {
     "name": "stdout",
     "output_type": "stream",
     "text": [
      "Ninguno de las cadenas ingresadas representa un número válido\n"
     ]
    }
   ],
   "source": [
    "def convertir_y_sumar(lista):\n",
    "    sum = 0; bandera = False\n",
    "    for x in lista:\n",
    "        try:\n",
    "            num = float(x)\n",
    "            sum += num\n",
    "            bandera = True\n",
    "        except ValueError:\n",
    "            pass\n",
    "    if bandera == True:\n",
    "        return sum\n",
    "    else:\n",
    "        print('Ninguno de las cadenas ingresadas representa un número válido')\n",
    "        \n",
    "            \n",
    "lista = ['1o', '1a', 'H3', '5j', '80d', 'Actuaria']\n",
    "\n",
    "convertir_y_sumar(lista)"
   ]
  },
  {
   "attachments": {},
   "cell_type": "markdown",
   "metadata": {},
   "source": [
    "## Práctica 8.3\n",
    "\n",
    "#### Escribe una función en Python llamada `divide_o_cuadra` que recibe como argumento un número entero y devuelva la raíz cuadrada del número si este es mayor o igual que cero y divisible por $5$, o bien en caso contrario devuelva el residuo de dividir el número entre $5$. Por ejemplo, si recibe como argumento $10$, entonces su función debería devolver  la raíz cuadrada, $3.16$."
   ]
  },
  {
   "cell_type": "code",
   "execution_count": 93,
   "metadata": {},
   "outputs": [
    {
     "name": "stdout",
     "output_type": "stream",
     "text": [
      "2.23606797749979\n"
     ]
    }
   ],
   "source": [
    "def divide_o_cuadra(x):\n",
    "        try :\n",
    "            num = int(x)\n",
    "            if num >= 0 and num % 5 == 0:\n",
    "                return num**(.5)                 \n",
    "            else:\n",
    "                return num % 5\n",
    "        except ValueError:\n",
    "            pass\n",
    "\n",
    "x=input('Ingresa un número entero')\n",
    "print(divide_o_cuadra(x))\n",
    "\n",
    "    \n"
   ]
  },
  {
   "attachments": {},
   "cell_type": "markdown",
   "metadata": {},
   "source": [
    "## Practica 8.4\n",
    "\n",
    "#### Escriba una función en Python llamada `valor_más_largo` que reciba como argumento un diccionario y devuelva el primer valor más largo del diccionario. Por ejemplo, el siguiente diccionario debería devolver: manzana como el primer valor más largo.\n",
    "\n",
    "`frutas = {'fruta': 'manzana', 'color': 'verde'}`"
   ]
  },
  {
   "cell_type": "code",
   "execution_count": 95,
   "metadata": {},
   "outputs": [
    {
     "name": "stdout",
     "output_type": "stream",
     "text": [
      "Manzana verde\n"
     ]
    }
   ],
   "source": [
    "def valor_mas_largo(diccionario):\n",
    "    values = list(diccionario.values())\n",
    "    mas_largo = values[0]\n",
    "    for valor in values:\n",
    "        if len(valor) > len(mas_largo):\n",
    "            mas_largo = valor\n",
    "    return mas_largo\n",
    "\n",
    "diccionario =  {'fruta' : 'manzana', 'Fruta' :'Manzana verde',  'color' : 'verde'}\n",
    "print(valor_mas_largo(diccionario))\n"
   ]
  },
  {
   "cell_type": "code",
   "execution_count": 96,
   "metadata": {},
   "outputs": [
    {
     "name": "stdout",
     "output_type": "stream",
     "text": [
      "Help on list object:\n",
      "\n",
      "class list(object)\n",
      " |  list(iterable=(), /)\n",
      " |  \n",
      " |  Built-in mutable sequence.\n",
      " |  \n",
      " |  If no argument is given, the constructor creates a new empty list.\n",
      " |  The argument must be an iterable if specified.\n",
      " |  \n",
      " |  Methods defined here:\n",
      " |  \n",
      " |  __add__(self, value, /)\n",
      " |      Return self+value.\n",
      " |  \n",
      " |  __contains__(self, key, /)\n",
      " |      Return key in self.\n",
      " |  \n",
      " |  __delitem__(self, key, /)\n",
      " |      Delete self[key].\n",
      " |  \n",
      " |  __eq__(self, value, /)\n",
      " |      Return self==value.\n",
      " |  \n",
      " |  __ge__(self, value, /)\n",
      " |      Return self>=value.\n",
      " |  \n",
      " |  __getattribute__(self, name, /)\n",
      " |      Return getattr(self, name).\n",
      " |  \n",
      " |  __getitem__(...)\n",
      " |      x.__getitem__(y) <==> x[y]\n",
      " |  \n",
      " |  __gt__(self, value, /)\n",
      " |      Return self>value.\n",
      " |  \n",
      " |  __iadd__(self, value, /)\n",
      " |      Implement self+=value.\n",
      " |  \n",
      " |  __imul__(self, value, /)\n",
      " |      Implement self*=value.\n",
      " |  \n",
      " |  __init__(self, /, *args, **kwargs)\n",
      " |      Initialize self.  See help(type(self)) for accurate signature.\n",
      " |  \n",
      " |  __iter__(self, /)\n",
      " |      Implement iter(self).\n",
      " |  \n",
      " |  __le__(self, value, /)\n",
      " |      Return self<=value.\n",
      " |  \n",
      " |  __len__(self, /)\n",
      " |      Return len(self).\n",
      " |  \n",
      " |  __lt__(self, value, /)\n",
      " |      Return self<value.\n",
      " |  \n",
      " |  __mul__(self, value, /)\n",
      " |      Return self*value.\n",
      " |  \n",
      " |  __ne__(self, value, /)\n",
      " |      Return self!=value.\n",
      " |  \n",
      " |  __repr__(self, /)\n",
      " |      Return repr(self).\n",
      " |  \n",
      " |  __reversed__(self, /)\n",
      " |      Return a reverse iterator over the list.\n",
      " |  \n",
      " |  __rmul__(self, value, /)\n",
      " |      Return value*self.\n",
      " |  \n",
      " |  __setitem__(self, key, value, /)\n",
      " |      Set self[key] to value.\n",
      " |  \n",
      " |  __sizeof__(self, /)\n",
      " |      Return the size of the list in memory, in bytes.\n",
      " |  \n",
      " |  append(self, object, /)\n",
      " |      Append object to the end of the list.\n",
      " |  \n",
      " |  clear(self, /)\n",
      " |      Remove all items from list.\n",
      " |  \n",
      " |  copy(self, /)\n",
      " |      Return a shallow copy of the list.\n",
      " |  \n",
      " |  count(self, value, /)\n",
      " |      Return number of occurrences of value.\n",
      " |  \n",
      " |  extend(self, iterable, /)\n",
      " |      Extend list by appending elements from the iterable.\n",
      " |  \n",
      " |  index(self, value, start=0, stop=9223372036854775807, /)\n",
      " |      Return first index of value.\n",
      " |      \n",
      " |      Raises ValueError if the value is not present.\n",
      " |  \n",
      " |  insert(self, index, object, /)\n",
      " |      Insert object before index.\n",
      " |  \n",
      " |  pop(self, index=-1, /)\n",
      " |      Remove and return item at index (default last).\n",
      " |      \n",
      " |      Raises IndexError if list is empty or index is out of range.\n",
      " |  \n",
      " |  remove(self, value, /)\n",
      " |      Remove first occurrence of value.\n",
      " |      \n",
      " |      Raises ValueError if the value is not present.\n",
      " |  \n",
      " |  reverse(self, /)\n",
      " |      Reverse *IN PLACE*.\n",
      " |  \n",
      " |  sort(self, /, *, key=None, reverse=False)\n",
      " |      Sort the list in ascending order and return None.\n",
      " |      \n",
      " |      The sort is in-place (i.e. the list itself is modified) and stable (i.e. the\n",
      " |      order of two equal elements is maintained).\n",
      " |      \n",
      " |      If a key function is given, apply it once to each list item and sort them,\n",
      " |      ascending or descending, according to their function values.\n",
      " |      \n",
      " |      The reverse flag can be set to sort in descending order.\n",
      " |  \n",
      " |  ----------------------------------------------------------------------\n",
      " |  Class methods defined here:\n",
      " |  \n",
      " |  __class_getitem__(...) from builtins.type\n",
      " |      See PEP 585\n",
      " |  \n",
      " |  ----------------------------------------------------------------------\n",
      " |  Static methods defined here:\n",
      " |  \n",
      " |  __new__(*args, **kwargs) from builtins.type\n",
      " |      Create and return a new object.  See help(type) for accurate signature.\n",
      " |  \n",
      " |  ----------------------------------------------------------------------\n",
      " |  Data and other attributes defined here:\n",
      " |  \n",
      " |  __hash__ = None\n",
      "\n"
     ]
    }
   ],
   "source": [
    "help(list())"
   ]
  },
  {
   "attachments": {},
   "cell_type": "markdown",
   "metadata": {},
   "source": [
    "## Practica 8.5\n",
    "\n",
    "#### Escribe una función en Python llamada `revisa_duplicados` que reciba como argumentos al menos un par de listas. La función debe verificar si las listas tienen duplicados en común. Si hay duplicados, la función debe devolver una lista con los elementos duplicados. Si no hay duplicados, la función debería devolver el mensaje \"*Sin duplicados*\". "
   ]
  },
  {
   "attachments": {},
   "cell_type": "markdown",
   "metadata": {},
   "source": [
    "**Solución:**"
   ]
  },
  {
   "cell_type": "code",
   "execution_count": 97,
   "metadata": {},
   "outputs": [
    {
     "name": "stdout",
     "output_type": "stream",
     "text": [
      "{'ocho', 3, 4, 5}\n"
     ]
    }
   ],
   "source": [
    "def revisa_duplicados(*args):\n",
    "    lista = list(args)\n",
    "    duplicados = set(lista[0])\n",
    "    #print(duplicados)\n",
    "    for x in lista[1:len(lista)+1]:\n",
    "        #print(set(x))\n",
    "        duplicados = duplicados.intersection(set(x))\n",
    "    print(duplicados)\n",
    "    \n",
    "    \n",
    "lista1 = [1,2,3,4,5,'seis','siete','ocho']\n",
    "lista2 = ['uno','dos',3,4,5,6,7,'ocho']\n",
    "\n",
    "revisa_duplicados(lista1,lista2)\n",
    "        "
   ]
  },
  {
   "attachments": {},
   "cell_type": "markdown",
   "metadata": {},
   "source": [
    "## Práctica 8.6\n",
    "\n",
    "#### Escribe una función en Python llamada `cuenta_estudiantes` que verifique cuántos estudiantes hay en una escuela. La función recibe como argumento un diccionario. Las claves corresponden a las matriculas de los estudiantes mientras que el correspondiente valor es o bien la cadena 'si' si el estudiante está en la escuela o bien la cadena 'no' si el estudiante no está en la escuela. La función debe devolver el número de estudiantes que se encuentran en la escuela. Por ejemplo mandando a la función el siguiente diccionario la función debe devolver `3`.\n",
    "\n",
    "`registro = {'2021260159':'si','2022260118': 'no', '2022260137':'si', '2022260119': 'si', '2022260121': 'no'}`"
   ]
  },
  {
   "attachments": {},
   "cell_type": "markdown",
   "metadata": {},
   "source": [
    "**Solución:**"
   ]
  },
  {
   "cell_type": "code",
   "execution_count": 100,
   "metadata": {},
   "outputs": [
    {
     "name": "stdout",
     "output_type": "stream",
     "text": [
      "El numero de estudiantes presentes en la escuela es: 5\n"
     ]
    }
   ],
   "source": [
    "def cuenta_estudiantes(diccionario):\n",
    "    conteo = 0\n",
    "    for x in diccionario.values():\n",
    "        if x == 'si':\n",
    "            conteo += 1\n",
    "    return conteo\n",
    "\n",
    "diccionario = registro = {'2021260159':'si','2022260118': 'si', '2022260137':'si', '2022260119': 'si', '2022260121': 'si'}\n",
    "print(f'El numero de estudiantes presentes en la escuela es: {cuenta_estudiantes(diccionario)}')"
   ]
  },
  {
   "attachments": {},
   "cell_type": "markdown",
   "metadata": {},
   "source": [
    "## Práctica 8.7\n",
    "\n",
    "#### Escribe un programa en Python que reciba como argumento una lista de nombres. Esta lista se compone de nombres con letras minúsculas y mayúsculas. El programa debe devolver una tupla de todos los nombres de la lista que sólo tienen letras minúsculas. Además, la tupla debe tener los nombres ordenados alfabéticamente en orden descendente. Por ejemplo si la función recibe la lista \n",
    "`nombres = ['Mateo', 'enrique', 'angel','Pedro', 'tomas', 'Isaias','alan']` \n",
    "#### la función debe  devolver la tupla: \n",
    "`('enrique', 'angel', 'tomas', 'alan')`"
   ]
  },
  {
   "cell_type": "code",
   "execution_count": 101,
   "metadata": {},
   "outputs": [
    {
     "name": "stdout",
     "output_type": "stream",
     "text": [
      "('enrique', 'angel', 'tomas', 'alan')\n"
     ]
    }
   ],
   "source": [
    "nombres = ['Mateo', 'enrique', 'angel','Pedro', 'tomas', 'Isaias','alan']\n",
    "lista = ()\n",
    "for x in nombres:\n",
    "    if x == x.lower():\n",
    "        lista += (x,) \n",
    "print(lista)\n",
    "\n"
   ]
  },
  {
   "attachments": {},
   "cell_type": "markdown",
   "metadata": {},
   "source": [
    "## Práctica 8.8\n",
    "\n",
    "#### Escriba una función en Python llamada `solo_float`, que reciba como argumento dos numeros  `a` y `b`, y devuelva `2` si ambos argumentos son números de punto flotante, o  `1` si sólo un argumento es flotante y devuelve `0` si ninguno de los argumentos es flotante. Por ejemplo si recibe `12.1` y  `23` como argumentos, la función debe devolver un `1`.\n",
    "\n",
    "**Sugerencia:** Utiliza `try-except` junto con la función `isinstance()` \n"
   ]
  },
  {
   "cell_type": "code",
   "execution_count": 104,
   "metadata": {},
   "outputs": [
    {
     "name": "stdout",
     "output_type": "stream",
     "text": [
      "0\n"
     ]
    }
   ],
   "source": [
    "\n",
    "def check(x):\n",
    "    try:\n",
    "        y = int(x)\n",
    "    except:\n",
    "        try:\n",
    "            y = float(x)\n",
    "            return True\n",
    "        except:\n",
    "            return False\n",
    "    \n",
    "\n",
    "def solo_float(a,b):\n",
    "    if check(a)== True and check(b) == True:\n",
    "        return 2\n",
    "    elif check(a)== False and check(b) == False:\n",
    "        return 0\n",
    "    else:\n",
    "        return 1\n",
    "    \n",
    "a = input('Ingresa un número:')\n",
    "b = input('Ingresa otro número:')\n",
    "print(solo_float(a,b))\n",
    "    \n",
    "    \n"
   ]
  },
  {
   "cell_type": "code",
   "execution_count": 103,
   "metadata": {},
   "outputs": [
    {
     "data": {
      "text/plain": [
       "10.1"
      ]
     },
     "execution_count": 103,
     "metadata": {},
     "output_type": "execute_result"
    }
   ],
   "source": [
    "float('10.1')"
   ]
  },
  {
   "attachments": {},
   "cell_type": "markdown",
   "metadata": {},
   "source": [
    "## Práctica 8.9\n",
    "\n",
    "#### Escriba una función en Python llamada `posicion_palabra` que reciba un argumento, una lista de cadenas y devuelva la posicion en la lista de la primera palabra más larga de la lista.  Por ejemplo, si la función recibe como argumento  la siguiente lista debería devolver `2`.\n",
    "\n",
    "`palabras1 = [\"odio\", \"remordimiento\", \"venganza:`\n",
    "\n",
    "#### Mientras que si se recibe como argumento  la  lista de a continuación, debe devolver cero `1`\n",
    "\n",
    "`palabras2 = [\"amor\", \"odio\"]`"
   ]
  },
  {
   "attachments": {},
   "cell_type": "markdown",
   "metadata": {},
   "source": [
    "**Solucion:**"
   ]
  },
  {
   "cell_type": "code",
   "execution_count": 108,
   "metadata": {},
   "outputs": [
    {
     "name": "stdout",
     "output_type": "stream",
     "text": [
      "2\n"
     ]
    }
   ],
   "source": [
    "def posicion_palabra(palabras):\n",
    "    mas_largo = palabras[0]\n",
    "    for palabra in palabras[1:len(palabras)+1]:\n",
    "        if len(palabra) > len(mas_largo):\n",
    "            mas_largo = palabra\n",
    "    return palabras.index(mas_largo) + 1\n",
    "\n",
    "palabras = [\"odio\", \"remordimiento\",\"venganza\"]\n",
    "print(posicion_palabra(palabras))"
   ]
  },
  {
   "attachments": {},
   "cell_type": "markdown",
   "metadata": {},
   "source": [
    "## Práctica 8.10"
   ]
  },
  {
   "attachments": {},
   "cell_type": "markdown",
   "metadata": {},
   "source": [
    "#### Imagina que trabajabas el la escuela un \"Mundo feliz\".  El director sabe que eres muy bueno programando en Python y te solicita  escribir un programa en Python que te permita descubir  cuantos estudiantes de entre hombres y mujeres estan inscritos en la escuela. La escuela a guardado el genero de sus estudiantes en una lista. \n",
    "\n",
    "`genero=['hombre','Mujer','mujer','Hombre','Hombre','hombre','mujer']`\n",
    "\n",
    "#### la funcion debe retornar una lista de tuplas de la siguiente manera:\n",
    "\n",
    "`estudiantes=[('Hombre',4),('Mujer',3)]`\n"
   ]
  },
  {
   "attachments": {},
   "cell_type": "markdown",
   "metadata": {},
   "source": [
    "**Solución:**"
   ]
  },
  {
   "cell_type": "code",
   "execution_count": 109,
   "metadata": {},
   "outputs": [
    {
     "name": "stdout",
     "output_type": "stream",
     "text": [
      "[('Hombre', 4), ('Mujer', 3)]\n"
     ]
    }
   ],
   "source": [
    "def cuenta_genero(genero):\n",
    "    h = 0; m = 0\n",
    "    for x in genero:\n",
    "        if x.lower() == 'hombre':\n",
    "            h +=1\n",
    "        else:\n",
    "            m += 1\n",
    "    return [('Hombre',h),('Mujer',m)]\n",
    "\n",
    "genero=['hombre','Mujer','mujer','Hombre','Hombre','hombre','mujer']\n",
    "print(cuenta_genero(genero))"
   ]
  },
  {
   "attachments": {},
   "cell_type": "markdown",
   "metadata": {},
   "source": [
    "# Práctica 8.11\n",
    "\n",
    "#### Escribe una función que implemente el método babilonico para aproximar la raiz cuadrada de un número entero positivo. La función debe recibir tres argumentos: `a0,numero,iteraciones` y `epsilon` pero sólo el parametro `numero`  debe ser obligatorio (y debe ser un número entero positivo) los otros dos deben tener los siguientes valores predeterminados:  `iteraciones=10` y `epsilon=0.00005`. Donde $a_0$ es una aproximación inicial distinta de cero a la raiz cuadrada de `numero` de  La función debe regresar la aproximación obtenida cuando se cumpla que el numero de iteraciones sea igual a `iteraciones` o bien cuando la diferencia entre dos aproximaciones consecutivas sea menor que el valor de `epsilon`  "
   ]
  },
  {
   "cell_type": "code",
   "execution_count": 116,
   "metadata": {},
   "outputs": [
    {
     "name": "stdout",
     "output_type": "stream",
     "text": [
      "Iteraciones        x_n         x_n - xn-1\n",
      "    1     250.00499999999999545253249.9950000000000045474735088646411895751953125000000000000000000000000000000000000000000000000000000000\n",
      "    2     125.01249980000399375513124.9925001999960016974000609479844570159912109375000000000000000000000000000000000000000000000000000000\n",
      "    3     62.5262479002339688349862.4862518997700249201443511992692947387695312500000000000000000000000000000000000000000000000000000000\n",
      "    4     31.3031071585127449452631.2231407417212238897263887338340282440185546875000000000000000000000000000000000000000000000000000000\n",
      "    5     15.7314178555833361627915.5716893029294087824609960080124437808990478515625000000000000000000000000000000000000000000000000000\n",
      "    6     8.024626580539205633617.7067912750441305291815297096036374568939208984375000000000000000000000000000000000000000000000000000\n",
      "    7     4.323854266651336430983.7007723138878692026310091023333370685577392578125000000000000000000000000000000000000000000000000000\n",
      "    8     2.740114982828782075331.5837392838225543556518459809012711048126220703125000000000000000000000000000000000000000000000000000\n",
      "    9     2.282427963334916931610.4576870194938651437155385792721062898635864257812500000000000000000000000000000000000000000000000000\n",
      "    10    2.236538802498685640780.0458891608362312908298008551355451345443725585937500000000000000000000000000000000000000000000000000\n",
      "    11    2.236068027057655172030.0004707754410304687553434632718563079833984375000000000000000000000000000000000000000000000000000000\n",
      "    12    2.236067977499790249140.0000000495578649228889389632968232035636901855468750000000000000000000000000000000000000000000000000\n",
      "    13    2.236067977499789805050.0000000000000004440892098500626161694526672363281250000000000000000000000000000000000000000000000000\n",
      "    14    2.236067977499789805050.0000000000000000000000000000000000000000000000000000000000000000000000000000000000000000000000000000\n"
     ]
    }
   ],
   "source": [
    "import math\n",
    "\n",
    "def metodo_babilonico(a0, numero, iteraciones=10, epsilon=0.00005):\n",
    "    try:\n",
    "        i =0\n",
    "        print(f'{\"Iteraciones\":10}{\"x_n\":^20}{\"x_n - xn-1\":<10}')\n",
    "        while i < iteraciones:\n",
    "            xn_1 = a0\n",
    "            xn = 0.5*(xn_1 + numero/xn_1)\n",
    "            i += 1\n",
    "            a0 = xn\n",
    "            print(f'{i:^10}{xn:^20.20f}{abs(xn-xn_1):^10.100f}')\n",
    "            if abs(xn-xn_1) < epsilon:\n",
    "                break;\n",
    "    except ZeroDivisionError:\n",
    "        print('La aproximación inicial debe ser distinta de cero')\n",
    "        \n",
    "metodo_babilonico(500,5,iteraciones=50,epsilon=1E-30)           \n",
    "        "
   ]
  },
  {
   "attachments": {},
   "cell_type": "markdown",
   "metadata": {},
   "source": []
  },
  {
   "cell_type": "code",
   "execution_count": 115,
   "metadata": {},
   "outputs": [
    {
     "data": {
      "text/plain": [
       "2.23606797749979"
      ]
     },
     "execution_count": 115,
     "metadata": {},
     "output_type": "execute_result"
    }
   ],
   "source": [
    "5**.5"
   ]
  },
  {
   "cell_type": "code",
   "execution_count": null,
   "metadata": {},
   "outputs": [],
   "source": []
  }
 ],
 "metadata": {
  "kernelspec": {
   "display_name": "Python 3",
   "language": "python",
   "name": "python3"
  },
  "language_info": {
   "codemirror_mode": {
    "name": "ipython",
    "version": 3
   },
   "file_extension": ".py",
   "mimetype": "text/x-python",
   "name": "python",
   "nbconvert_exporter": "python",
   "pygments_lexer": "ipython3",
   "version": "3.11.2"
  },
  "orig_nbformat": 4
 },
 "nbformat": 4,
 "nbformat_minor": 2
}
