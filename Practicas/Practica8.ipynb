{
 "cells": [
  {
   "attachments": {},
   "cell_type": "markdown",
   "metadata": {},
   "source": [
    "# A practicar ... \n",
    "<center>\n",
    "<img src=\"../Imagenes/gorila_music.png\" alt=\"\", width=\"25%\" height=\"auto\">\n",
    "<!-- ![Tablero de ajedrez](./Quizes_Imagenes/tablero_ajedrez.jpg) -->\n",
    "</center>"
   ]
  },
  {
   "attachments": {},
   "cell_type": "markdown",
   "metadata": {},
   "source": [
    "## Práctica 8.1\n",
    "\n",
    "#### Cree un programa en Python que sume todos los números ingresados por el usuario mientras ignora cualquier entrada que no sea un número válido. El programa debe mostrar la suma actual después de ingresar cada número y debe mostrar un mensaje apropiado después de cada entrada no numérica y luego continuar sumando cualquier número adicional ingresado por el usuario. El programa debe terminar cuando el usuario ingrese una espacio en blanco. Asegúrate de que el programa funcione correctamente tanto para números enteros como de punto flotante."
   ]
  },
  {
   "attachments": {},
   "cell_type": "markdown",
   "metadata": {},
   "source": [
    "## Práctica 8.2\n",
    "\n",
    "#### Escriba una función llamada `convertir_y_sumar` que tome una lista de cadenas de caracteres como argumento y cree una nueva lista apartir de estas cadenas conviertiendo en  números (incluso de punto flotante) las cadenas admitibles, omitiendo las cadenas que no se puedan convertir en números (ue `try-except`),  luego calcule y devuelva la suma de los elementos en la lista resultante. Por ejemplo, si la lista recibida como argumento es: \n",
    "`['1', '1a', 'H3', '5', '80', 'Actuaria']` \n",
    "#### la lista resultante debe ser \n",
    "`[1,5,80]` \n",
    "#### y la funcion debe devolver   `86`. La función también debe contemplar la posibilidad de que ninguna cadena corresponda a un número, mandar un mensaje adecuado en ese caso.    "
   ]
  },
  {
   "attachments": {},
   "cell_type": "markdown",
   "metadata": {},
   "source": [
    "## Práctica 8.3\n",
    "\n",
    "#### Escribe una función en Python llamada `divide_o_cuadra` que recibe como argumento un número entero y devuelva la raíz cuadrada del número si este es mayor o igual que cero y divisible por $5$, o bien en caso contrario devuelva el residuo de dividir el número entre $5$. Por ejemplo, si recibe como argumento $10$, entonces su función debería devolver  la raíz cuadrada, $3.16$."
   ]
  },
  {
   "cell_type": "code",
   "execution_count": null,
   "metadata": {},
   "outputs": [],
   "source": [
    "\n",
    "x=input('Ingresa un número')\n",
    "while True:\n",
    "    try :\n",
    "        z = int(x) \n",
    "        break\n",
    "    except ValueError:\n",
    "        x = input('La entrada esperada tiene que ser un número. Ingresa un número ')\n",
    "\n",
    "    \n"
   ]
  },
  {
   "attachments": {},
   "cell_type": "markdown",
   "metadata": {},
   "source": [
    "## Practica 8.4\n",
    "\n",
    "#### Escriba una función en Python llamada `valor_más_largo` que reciba como argumento un diccionario y devuelva el primer valor más largo del diccionario. Por ejemplo, el siguiente diccionario debería devolver: manzana como el primer valor más largo.\n",
    "\n",
    "`frutas = {'fruta': 'manzana', 'color': 'verde'}`"
   ]
  },
  {
   "attachments": {},
   "cell_type": "markdown",
   "metadata": {},
   "source": [
    "## Practica 8.5\n",
    "\n",
    "#### Escribe una función en Python llamada `revisa_duplicados` que reciba como argumentos al menos un par de listas. La función debe verificar si las listas tienen duplicados en común. Si hay duplicados, la función debe devolver una lista con los elementos duplicados. Si no hay duplicados, la función debería devolver el mensaje \"*Sin duplicados*\". "
   ]
  },
  {
   "attachments": {},
   "cell_type": "markdown",
   "metadata": {},
   "source": [
    "## Práctica 8.6\n",
    "\n",
    "#### Escribe una función en Python llamada `cuenta_estudiantes` que verifique cuántos estudiantes hay en una escuela. La función recibe como argumento un diccionario. Las claves corresponden a las matriculas de los estudiantes mientras que el correspondiente valor es o bien la cadena 'si' si el estudiante está en la escuela o bien la cadena 'no' si el estudiante no está en la escuela. La función debe devolver el número de estudiantes que se encuentran en la escuela. Por ejemplo mandando a la función el siguiente diccionario la función debe devolver `3`.\n",
    "\n",
    "`registro = {'2021260159':'si','2022260118': 'no', '2022260137':'si', '2022260119': 'si', '2022260121': 'no'}`"
   ]
  },
  {
   "attachments": {},
   "cell_type": "markdown",
   "metadata": {},
   "source": [
    "## Práctica 8.7\n",
    "\n",
    "#### Escribe un programa en Python que reciba como argumento una lista de nombres. Esta lista se compone de nombres con letras minúsculas y mayúsculas. El programa debe devolver una tupla de todos los nombres de la lista que sólo tienen letras minúsculas. Además, la tupla debe tener los nombres ordenados alfabéticamente en orden descendente. Por ejemplo si la función recibe la lista \n",
    "`nombres = ['Mateo', 'enrique', 'angel','Pedro', 'tomas', 'Isaias','alan']` \n",
    "#### la función debe  devolver la tupla: \n",
    "`('alan','angel','enrique','tomas')`"
   ]
  },
  {
   "attachments": {},
   "cell_type": "markdown",
   "metadata": {},
   "source": [
    "## Práctica 8.8\n",
    "\n",
    "#### Escriba una función en Python llamada `solo_float`, que reciba como argumento dos numeros  `a` y `b`, y devuelva `2` si ambos argumentos son números de punto flotante, o  `1` si sólo un argumento es flotante y devuelve `0` si ninguno de los argumentos es flotante. Por ejemplo si recibe `12.1` y  `23` como argumentos, la función debe devolver un `1`.\n",
    "\n",
    "**Sugerencia:** Utiliza `try-except` junto con la función `isinstance()` \n"
   ]
  },
  {
   "cell_type": "code",
   "execution_count": 24,
   "metadata": {},
   "outputs": [
    {
     "name": "stdout",
     "output_type": "stream",
     "text": [
      "lo ingresado No es un numero de punto flotante Ni un numero entero\n"
     ]
    }
   ],
   "source": [
    "x = input('Dame un numero')\n",
    "try:\n",
    "    y = int(x)\n",
    "    print('Lo ingresado es un numero entero')\n",
    "except:\n",
    "    try:\n",
    "        y = float(x)\n",
    "        print('lo ingresado ES un numero de punto flotante')\n",
    "    except:\n",
    "        print('lo ingresado No es un numero de punto flotante Ni un numero entero')\n"
   ]
  },
  {
   "cell_type": "code",
   "execution_count": 7,
   "metadata": {},
   "outputs": [
    {
     "data": {
      "text/plain": [
       "10.1"
      ]
     },
     "execution_count": 7,
     "metadata": {},
     "output_type": "execute_result"
    }
   ],
   "source": [
    "float('10.1')"
   ]
  },
  {
   "attachments": {},
   "cell_type": "markdown",
   "metadata": {},
   "source": [
    "## Práctica 8.9\n",
    "\n",
    "#### Escriba una función en Python llamada `posicion_palabra` que reciba un argumento, una lista de cadenas y devuelva la posicion en la lista de la primera palabra más larga de la lista.  Por ejemplo, si la función recibe como argumento  la siguiente lista debería devolver `2`.\n",
    "\n",
    "`palabras1 = [\"odio\", \"remordimiento\", \"venganza\"]`\n",
    "\n",
    "#### Mientras que si se recibe como argumento  la  lista de a continuación, debe devolver cero `1`\n",
    "\n",
    "`palabras2 = [\"amor\", \"odio\"]`"
   ]
  },
  {
   "attachments": {},
   "cell_type": "markdown",
   "metadata": {},
   "source": [
    "## Práctica 8.10"
   ]
  },
  {
   "attachments": {},
   "cell_type": "markdown",
   "metadata": {},
   "source": [
    "Imagina que trabajabas el la escuela un \"Mundo feliz\".  El director sabe que eres muy bueno programando en Python y te solicita  escribir un programa en Python que te permita descubir  cuantos estudiantes de entre hombres y mujeres estan inscritos en la escuela. La escuela a guardado el genero de sus estudiantes en una lista. \n",
    "\n",
    "`genero=['hombre','Mujer','mujer','Hombre','Hombre','hombre','mujer']`\n",
    "\n",
    "la funcion debe retornar una lista de tuplas de la siguiente manera:\n",
    "\n",
    "`estudiantes=[('Hombre',4),('Mujer',3)]`\n"
   ]
  },
  {
   "attachments": {},
   "cell_type": "markdown",
   "metadata": {},
   "source": [
    "# Práctica 8.11\n",
    "\n",
    "#### Escribe una función que implemente el método babilonico para aproximar la raiz cuadrada de un número entero positivo. La función debe recibir tres argumentos: `numero,iteraciones` y `epsilon` pero sólo el parametro `numero`  debe ser obligatorio (y debe ser un número entero positivo) los otros dos deben tener los siguientes valores predeterminados: `iteraciones=10` y `epsilon=0.00005`. La función debe regresar la aproximación obtenida cuando se cumpla que el numero de iteraciones sea igual a `iteraciones` o bien cuando la diferencia entre dos aproximaciones  consecutivas sea menor que el valor de `epsilon`  "
   ]
  }
 ],
 "metadata": {
  "kernelspec": {
   "display_name": "Python 3",
   "language": "python",
   "name": "python3"
  },
  "language_info": {
   "codemirror_mode": {
    "name": "ipython",
    "version": 3
   },
   "file_extension": ".py",
   "mimetype": "text/x-python",
   "name": "python",
   "nbconvert_exporter": "python",
   "pygments_lexer": "ipython3",
   "version": "3.11.1"
  },
  "orig_nbformat": 4
 },
 "nbformat": 4,
 "nbformat_minor": 2
}
