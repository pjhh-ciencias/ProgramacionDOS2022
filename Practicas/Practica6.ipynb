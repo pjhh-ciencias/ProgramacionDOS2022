{
 "cells": [
  {
   "attachments": {},
   "cell_type": "markdown",
   "metadata": {},
   "source": [
    "# A practicar ... \n",
    "<center>\n",
    "<img src=\"../Imagenes/gorila_music.png\" alt=\"\", width=\"25%\" height=\"auto\">\n",
    "<!-- ![Tablero de ajedrez](./Quizes_Imagenes/tablero_ajedrez.jpg) -->\n",
    "</center>"
   ]
  },
  {
   "attachments": {},
   "cell_type": "markdown",
   "metadata": {},
   "source": [
    "## Práctica 6.1"
   ]
  },
  {
   "attachments": {},
   "cell_type": "markdown",
   "metadata": {},
   "source": [
    "#### Escribe un programa en Python que lea una línea de texto y determine e imprima el número de ocurrencias de cada palabra en la cadena. También imprime el número total de palabras únicas \n",
    "\n",
    "<center>\n",
    "<img src=\"../Imagenes/contador_palabras.png\" alt=\"\", width=\"25%\" height=\"auto\">\n",
    "<!-- ![Tablero de ajedrez](./Quizes_Imagenes/tablero_ajedrez.jpg) -->\n",
    "</center>"
   ]
  },
  {
   "cell_type": "code",
   "execution_count": 1,
   "metadata": {},
   "outputs": [
    {
     "name": "stdout",
     "output_type": "stream",
     "text": [
      "{}\n",
      "Palabra         Total     \n",
      "Escribe         \t1         \n",
      "Python          \t1         \n",
      "cada            \t1         \n",
      "cadena          \t1         \n",
      "de              \t3         \n",
      "determine       \t1         \n",
      "e               \t1         \n",
      "el              \t1         \n",
      "en              \t2         \n",
      "imprima         \t1         \n",
      "la              \t1         \n",
      "lea             \t1         \n",
      "línea           \t1         \n",
      "número          \t1         \n",
      "ocurrencias     \t1         \n",
      "palabra         \t1         \n",
      "programa        \t1         \n",
      "que             \t1         \n",
      "texto           \t1         \n",
      "un              \t1         \n",
      "una             \t1         \n",
      "y               \t1         \n",
      "\n",
      "Número de palabras únicas: 22\n"
     ]
    }
   ],
   "source": [
    "text = ('Escribe un programa en Python que lea una línea de texto y determine e imprima el número de ocurrencias de cada palabra en la cadena')\n",
    "\n",
    "palabras = {}   # Diccionario vacio\n",
    "#print(palabras)\n",
    "for palabra in text.split():\n",
    "    if palabra in palabras:\n",
    "        palabras[palabra] += 1  \n",
    "    else:\n",
    "        palabras[palabra] = 1  \n",
    "\n",
    "#print(palabras)\n",
    "print(f'{\"Palabra\":<16}{\"Total\":<10}')\n",
    "\n",
    "for palabra, cantidad in sorted(palabras.items()):\n",
    "    print(f'{palabra:<16}\\t{cantidad:<10}')\n",
    "print('\\nNúmero de palabras únicas:', len(palabras))"
   ]
  },
  {
   "attachments": {},
   "cell_type": "markdown",
   "metadata": {},
   "source": [
    "#### **Sugerencia:** Usa el método Split"
   ]
  },
  {
   "cell_type": "code",
   "execution_count": 168,
   "metadata": {},
   "outputs": [
    {
     "name": "stdout",
     "output_type": "stream",
     "text": [
      "['Esto', 'es', 'una', 'linea', 'de', '', 'texto', 'que', 'contiene', 'texto']\n"
     ]
    }
   ],
   "source": [
    "cadena='Esto es una linea de  texto que contiene texto'\n",
    "print(cadena.split(\" \"))"
   ]
  },
  {
   "attachments": {},
   "cell_type": "markdown",
   "metadata": {},
   "source": [
    "## Practica 6.2"
   ]
  },
  {
   "attachments": {},
   "cell_type": "markdown",
   "metadata": {},
   "source": [
    "#### 1. Crear un archivo de texto llamado *'frases.txt'* y almacenar las siguientes tres líneas de texto:\n",
    "  - No te preocupes por tus dificultades en matemáticas. Te aseguro que las mías son aún mayores.\n",
    "  \n",
    "  - Un matemático es una máquina que transforma café en teoremas.\n",
    "\n",
    "  - Si he logrado ver más allá que los demas es porque he andado sobre hombros de gigantes\n",
    "\n",
    "  - No digas no puedo ni en broma, porque el inconsciente no tiene sentido del humor, lo tomará en serio, y te lo \n",
    "  recordará cada vez que lo intentes\n",
    "\n",
    "#### 2. Leer e imprimir el contenido del archivo de texto *'frases.txt'*. Usar el método `read()` \n",
    "\n",
    "#### 3. Leer el contenido del archivo de texto *'frases.txt'* línea a línea. Usar el método `readline()`\n",
    "\n",
    "#### 4. Leer el contenido del archivo de texto *'frases.txt'* y almacenar sus líneas en una lista. Imprimir la cantidad de líneas que tiene el archivo y el contenido del archivo. Usar el método `readlines( )` \n",
    "\n",
    "#### 5. Abrir un archivo de texto con el parámetro \"a\", imprimir su contenido actual y agregar luego dos líneas al final (estas dos lineas tienen que ser frases que a ti te guste y te motiven mucho)."
   ]
  },
  {
   "attachments": {},
   "cell_type": "markdown",
   "metadata": {},
   "source": [
    "**Solución:**"
   ]
  },
  {
   "attachments": {},
   "cell_type": "markdown",
   "metadata": {},
   "source": [
    "1."
   ]
  },
  {
   "cell_type": "code",
   "execution_count": 4,
   "metadata": {},
   "outputs": [
    {
     "name": "stdout",
     "output_type": "stream",
     "text": [
      "No te preocupes por tus dificultades en matemáticas. Te aseguro que las mías son aún mayores.\n",
      "Un matemático es una máquina que transforma café en teoremas.\n",
      "Si he logrado ver más allá que los demas es porque he andado sobre hombros de gigantes\n",
      "No digas no puedo ni en broma, porque el inconsciente no tiene sentido del humor, lo tomará en serio, y te lo recordará cada vez que lo intentes.\n"
     ]
    }
   ],
   "source": [
    "fichero_frases = open('../Python/Archivos/frases.txt','r')\n",
    "contenido_frases = fichero_frases.read()\n",
    "print(contenido_frases)\n",
    "fichero_frases.close()"
   ]
  },
  {
   "attachments": {},
   "cell_type": "markdown",
   "metadata": {},
   "source": [
    "2."
   ]
  },
  {
   "cell_type": "code",
   "execution_count": 13,
   "metadata": {},
   "outputs": [
    {
     "name": "stdout",
     "output_type": "stream",
     "text": [
      "No te preocupes por tus dificultades en matemáticas. Te aseguro que las mías son aún mayores.\n",
      "Un matemático es una máquina que transforma café en teoremas.\n",
      "Si he logrado ver más allá que los demas es porque he andado sobre hombros de gigantes\n",
      "No digas no puedo ni en broma, porque el inconsciente no tiene sentido del humor, lo tomará en serio, y te lo recordará cada vez que lo intentes."
     ]
    }
   ],
   "source": [
    "fichero_frases = open('../Python/Archivos/frases.txt','r')\n",
    "linea_fichero_frases = fichero_frases.readline()\n",
    "while linea_fichero_frases != '':\n",
    "        print(linea_fichero_frases, end='')\n",
    "        linea_fichero_frases = fichero_frases.readline()\n",
    "fichero_frases.close()"
   ]
  },
  {
   "attachments": {},
   "cell_type": "markdown",
   "metadata": {},
   "source": [
    "3."
   ]
  },
  {
   "cell_type": "code",
   "execution_count": 14,
   "metadata": {},
   "outputs": [
    {
     "name": "stdout",
     "output_type": "stream",
     "text": [
      "El archivo frases.txt contiene 4 y su contenido es:\n",
      "\n",
      "No te preocupes por tus dificultades en matemáticas. Te aseguro que las mías son aún mayores.\n",
      "\n",
      "Un matemático es una máquina que transforma café en teoremas.\n",
      "\n",
      "Si he logrado ver más allá que los demas es porque he andado sobre hombros de gigantes\n",
      "\n",
      "No digas no puedo ni en broma, porque el inconsciente no tiene sentido del humor, lo tomará en serio, y te lo recordará cada vez que lo intentes.\n"
     ]
    }
   ],
   "source": [
    "fichero_frases = open('../Python/Archivos/frases.txt','r')\n",
    "contenido_frases = fichero_frases.readlines()\n",
    "print(f'El archivo frases.txt contiene {len(contenido_frases)} y su contenido es:\\n')\n",
    "for linea in contenido_frases:\n",
    "    print(linea)\n",
    "fichero_frases.close()"
   ]
  },
  {
   "attachments": {},
   "cell_type": "markdown",
   "metadata": {},
   "source": [
    "4."
   ]
  },
  {
   "cell_type": "code",
   "execution_count": 24,
   "metadata": {},
   "outputs": [
    {
     "name": "stdout",
     "output_type": "stream",
     "text": [
      "No te preocupes por tus dificultades en matemáticas. Te aseguro que las mías son aún mayores.\n",
      "Un matemático es una máquina que transforma café en teoremas.\n",
      "Si he logrado ver más allá que los demas es porque he andado sobre hombros de gigantes\n",
      "No digas no puedo ni en broma, porque el inconsciente no tiene sentido del humor, lo tomará en serio, y te lo recordará cada vez que lo intentes.\n",
      "--------------------------------------------------\n",
      "No te preocupes por tus dificultades en matemáticas. Te aseguro que las mías son aún mayores.\n",
      "Un matemático es una máquina que transforma café en teoremas.\n",
      "Si he logrado ver más allá que los demas es porque he andado sobre hombros de gigantes\n",
      "No digas no puedo ni en broma, porque el inconsciente no tiene sentido del humor, lo tomará en serio, y te lo recordará cada vez que lo intentes.\n",
      " mi frase1\n",
      " mi frase2\n"
     ]
    }
   ],
   "source": [
    "fichero_frases = open('../Python/Archivos/frases.txt','r')\n",
    "contenido_frases = fichero_frases.read()\n",
    "print(contenido_frases)\n",
    "fichero_frases.close()\n",
    "print('--------------------------------------------------')\n",
    "fichero_frases = open('../Python/Archivos/frases.txt','a')\n",
    "fichero_frases.write('\\nMi frase1')\n",
    "fichero_frases.write('\\nMi frase2')\n",
    "fichero_frases.close()\n",
    "fichero_frases = open('../Python/Archivos/frases.txt','r')\n",
    "contenido_frases = fichero_frases.read()\n",
    "print(contenido_frases)\n",
    "fichero_frases.close()"
   ]
  },
  {
   "attachments": {},
   "cell_type": "markdown",
   "metadata": {},
   "source": [
    "## Practica 6.3 Números de línea de un archivo"
   ]
  },
  {
   "attachments": {},
   "cell_type": "markdown",
   "metadata": {},
   "source": [
    "#### Crea un programa en Python  que lea las líneas del archivo *frases.txt* creado en la **Práctica 6.2** y les agregue números de línea al principio de cada línea, luego almacene las líneas numeradas en un nuevo archivo. Cada línea del archivo nuevo de salida debe comenzar con el número de línea, seguido de dos puntos y un espacio, seguido de la línea del archivo de entrada."
   ]
  },
  {
   "attachments": {},
   "cell_type": "markdown",
   "metadata": {},
   "source": [
    "**Solución:**"
   ]
  },
  {
   "cell_type": "code",
   "execution_count": 11,
   "metadata": {},
   "outputs": [
    {
     "name": "stdout",
     "output_type": "stream",
     "text": [
      "1.- No te preocupes por tus dificultades en matemáticas. Te aseguro que las mías son aún mayores.\n",
      "2.- Un matemático es una máquina que transforma café en teoremas.\n",
      "3.- Si he logrado ver más allá que los demas es porque he andado sobre hombros de gigantes\n",
      "4.- No digas no puedo ni en broma, porque el inconsciente no tiene sentido del humor, lo tomará en serio, y te lo recordará cada vez que lo intentes.\n",
      "\n"
     ]
    }
   ],
   "source": [
    "fichero_frases = open('../Python/Archivos/frases.txt','r')\n",
    "contenido_frases = fichero_frases.readlines()\n",
    "#print(contenido_frases)\n",
    "fichero_frases.close()\n",
    "\n",
    "archivo_nuevo = open('../Python/Archivos/nuevo.txt','w')\n",
    "archivo_nuevo.close()\n",
    "\n",
    "\n",
    "archivo_nuevo = open('../Python/Archivos/nuevo.txt','a')\n",
    "\n",
    "for i,linea in enumerate(contenido_frases):\n",
    "    archivo_nuevo.write('{}.- {}'.format(str(i+1),linea))\n",
    "archivo_nuevo.close()\n",
    "  \n",
    "archivo = open('../Python/Archivos/nuevo.txt','r')\n",
    "contenido = archivo.read()\n",
    "print(contenido)\n",
    "    \n",
    "\n",
    "  "
   ]
  },
  {
   "attachments": {},
   "cell_type": "markdown",
   "metadata": {},
   "source": [
    "## Practica 6.4 Palabras más largas en un archivo"
   ]
  },
  {
   "attachments": {},
   "cell_type": "markdown",
   "metadata": {},
   "source": [
    "#### Crea un programa en Python que identifique la(s) palabra(s) más larga(s) en un archivo. El programa debe imprimir un  mensaje apropiado que incluya la longitud de la palabra más larga, junto con todas las palabras de esa longitud que se encuentran en el archivo. Considera cualquier grupo de caracteres que se encuentren juntos y que no sean espacios en blanco como una palabra, incluso si este incluye dígitos o signos de puntuación."
   ]
  },
  {
   "attachments": {},
   "cell_type": "markdown",
   "metadata": {},
   "source": [
    "**Solución:**"
   ]
  },
  {
   "cell_type": "code",
   "execution_count": 13,
   "metadata": {},
   "outputs": [
    {
     "name": "stdout",
     "output_type": "stream",
     "text": [
      "La longitud de la palabra mas larga es: 12\n",
      "['dificultades', 'matemáticas.', 'inconsciente']\n"
     ]
    }
   ],
   "source": [
    "archivo = open('../Python/Archivos/frases.txt','r')\n",
    "contenido = archivo.read()\n",
    "#print(contenido)\n",
    "archivo.close()\n",
    "\n",
    "palabras = contenido.split()\n",
    "\n",
    "longitud = len(palabras[0])\n",
    "\n",
    "for palabra in palabras:\n",
    "    if len(palabra)>longitud:\n",
    "        longitud = len(palabra)\n",
    "\n",
    "print('La longitud de la palabra mas larga es: {}'.format(longitud))\n",
    "\n",
    "lista = [ palabra for palabra in palabras if len(palabra)==longitud]\n",
    "\n",
    "print(lista)\n",
    " "
   ]
  },
  {
   "attachments": {},
   "cell_type": "markdown",
   "metadata": {},
   "source": [
    "## Funcion `Max()`"
   ]
  },
  {
   "attachments": {},
   "cell_type": "markdown",
   "metadata": {},
   "source": [
    "La función `max()` en Python devuelve el valor máximo de un iterable, que puede ser una *lista*, *tupla*, *conjunto*, o cualquier otro objeto iterable. La sintaxis de la función `max()` es la siguiente:\n",
    "\n",
    "`maximo = max(iterable, *iterables, key=None, default=None)`\n",
    "\n",
    "Donde:\n",
    "\n",
    "* ***`iterable`*** es el objeto iterable del cual se desea obtener el valor máximo.\n",
    " \n",
    "* ***`*iterables`*** son argumentos opcionales adicionales que se pueden incluir si se desea comparar varios iterables juntos.\n",
    " \n",
    "* ***`key`*** es un argumento opcional que especifica una función de un sólo argumento para personalizar el ordenamiento. Por defecto, la comparación se realiza utilizando el orden natural de los elementos.\n",
    "\n",
    "* ***`default`*** es un argumento opcional que especifica el valor a devolver si el iterable está vacío.\n",
    "\n",
    "De esta manera, la función `max()` devuelve el elemento máximo del iterable. Si se especifica el argumento `key`, se utiliza la función especificada para transformar cada elemento del iterable antes de realizar la comparación. El argumento `default` se utiliza si el iterable está vacío y no se puede devolver un valor máximo"
   ]
  },
  {
   "cell_type": "code",
   "execution_count": 16,
   "metadata": {},
   "outputs": [
    {
     "name": "stdout",
     "output_type": "stream",
     "text": [
      "[62, 4, 79, 19, 91, 50, 23, 89, 39, 37]\n",
      "91\n"
     ]
    }
   ],
   "source": [
    "\n",
    "import random \n",
    "numeros = [random.randint(1, 100) for i in range(10)] # Usando list comprehensions\n",
    "print(numeros)\n",
    "maximo = max(numeros)\n",
    "print(maximo)"
   ]
  },
  {
   "cell_type": "code",
   "execution_count": 15,
   "metadata": {},
   "outputs": [
    {
     "name": "stdout",
     "output_type": "stream",
     "text": [
      "dificultades\n",
      "La longitud de la palabra mas larga es: 12\n"
     ]
    }
   ],
   "source": [
    "archivo = open('../Python/Archivos/frases.txt','r')\n",
    "contenido = archivo.read()\n",
    "#print(contenido)\n",
    "archivo.close()\n",
    "\n",
    "#palabras = contenido.split()\n",
    "\n",
    "palabra_mas_larga = max(palabras,key=len)\n",
    "print(palabra_mas_larga)\n",
    "print('La longitud de la palabra mas larga es: {}'.format(len(palabra_mas_larga)))\n"
   ]
  },
  {
   "attachments": {},
   "cell_type": "markdown",
   "metadata": {},
   "source": []
  }
 ],
 "metadata": {
  "kernelspec": {
   "display_name": "Python 3",
   "language": "python",
   "name": "python3"
  },
  "language_info": {
   "codemirror_mode": {
    "name": "ipython",
    "version": 3
   },
   "file_extension": ".py",
   "mimetype": "text/x-python",
   "name": "python",
   "nbconvert_exporter": "python",
   "pygments_lexer": "ipython3",
   "version": "3.11.2"
  },
  "orig_nbformat": 4
 },
 "nbformat": 4,
 "nbformat_minor": 2
}
