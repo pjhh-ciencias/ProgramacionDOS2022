{
 "cells": [
  {
   "attachments": {},
   "cell_type": "markdown",
   "metadata": {},
   "source": [
    "# A practicar ... \n",
    "<center>\n",
    "<img src=\"../Imagenes/gorila_music.png\" alt=\"\", width=\"25%\" height=\"auto\">\n",
    "<!-- ![Tablero de ajedrez](./Quizes_Imagenes/tablero_ajedrez.jpg) -->\n",
    "</center>"
   ]
  },
  {
   "attachments": {},
   "cell_type": "markdown",
   "metadata": {},
   "source": [
    "## Práctica 6.1"
   ]
  },
  {
   "attachments": {},
   "cell_type": "markdown",
   "metadata": {},
   "source": [
    "#### Escribe un programa en Python que lea una línea de texto y determine e imprima el número de ocurrencias de cada palabra en la cadena. También imprime el número total de palabras únicas \n",
    "\n",
    "<center>\n",
    "<img src=\"../Imagenes/contador_palabras.png\" alt=\"\", width=\"25%\" height=\"auto\">\n",
    "<!-- ![Tablero de ajedrez](./Quizes_Imagenes/tablero_ajedrez.jpg) -->\n",
    "</center>"
   ]
  },
  {
   "cell_type": "code",
   "execution_count": 166,
   "metadata": {},
   "outputs": [
    {
     "name": "stdout",
     "output_type": "stream",
     "text": [
      "Palabra         Total     \n",
      "Escribe         \t1         \n",
      "Python          \t1         \n",
      "cada            \t1         \n",
      "cadena          \t1         \n",
      "de              \t3         \n",
      "determine       \t1         \n",
      "e               \t1         \n",
      "el              \t1         \n",
      "en              \t2         \n",
      "imprima         \t1         \n",
      "la              \t1         \n",
      "lea             \t1         \n",
      "línea           \t1         \n",
      "número          \t1         \n",
      "ocurrencias     \t1         \n",
      "palabra         \t1         \n",
      "programa        \t1         \n",
      "que             \t1         \n",
      "texto           \t1         \n",
      "un              \t1         \n",
      "una             \t1         \n",
      "y               \t1         \n",
      "\n",
      "Número de palabras únicas: 22\n"
     ]
    }
   ],
   "source": [
    "text = ('Escribe un programa en Python que lea una línea de texto y determine e imprima el número de ocurrencias de cada palabra en la cadena')\n",
    "\n",
    "palabras = {}\n",
    "\n",
    "for palabra in text.split():\n",
    "    if palabra in palabras:\n",
    "        palabras[palabra] += 1  # update existing key-value pair\n",
    "    else:\n",
    "        palabras[palabra] = 1  # insert new key-value pair\n",
    "\n",
    "#print(palabras)\n",
    "print(f'{\"Palabra\":<16}{\"Total\":<10}')\n",
    "\n",
    "for palabra, cantidad in sorted(palabras.items()):\n",
    "    print(f'{palabra:<16}\\t{cantidad:<10}')\n",
    "print('\\nNúmero de palabras únicas:', len(palabras))"
   ]
  },
  {
   "attachments": {},
   "cell_type": "markdown",
   "metadata": {},
   "source": [
    "#### **Sugerencia:** Usa el método Split"
   ]
  },
  {
   "cell_type": "code",
   "execution_count": 168,
   "metadata": {},
   "outputs": [
    {
     "name": "stdout",
     "output_type": "stream",
     "text": [
      "['Esto', 'es', 'una', 'linea', 'de', '', 'texto', 'que', 'contiene', 'texto']\n"
     ]
    }
   ],
   "source": [
    "cadena='Esto es una linea de  texto que contiene texto'\n",
    "print(cadena.split(\" \"))"
   ]
  },
  {
   "attachments": {},
   "cell_type": "markdown",
   "metadata": {},
   "source": [
    "## Practica 6.2"
   ]
  },
  {
   "attachments": {},
   "cell_type": "markdown",
   "metadata": {},
   "source": [
    "#### 1. Crear un archivo de texto llamado *'frases.txt'* y almacenar las siguientes tres líneas de texto:\n",
    "  - No te preocupes por tus dificultades en matemáticas. Te aseguro que las mías son aún mayores.\n",
    "  \n",
    "  - Un matemático es una máquina que transforma café en teoremas.\n",
    "\n",
    "  - Si he logrado ver más allá que los demas es porque he andado sobre hombros de gigantes\n",
    "\n",
    "  - No digas no puedo ni en broma, porque el inconsciente no tiene sentido del humor, lo tomará en serio, y te lo \n",
    "  recordará cada vez que lo intentes\n",
    "\n",
    "#### 2. Leer e imprimir el contenido del archivo de texto *'frases.txt'*. Usar el método `read()` \n",
    "\n",
    "#### 3. Leer el contenido del archivo de texto *'frases.txt'* línea a línea. Usar el método `readline()`\n",
    "\n",
    "#### 4. Leer el contenido del archivo de texto *'frases.txt'* y almacenar sus líneas en una lista. Imprimir la cantidad de líneas que tiene el archivo y el contenido del archivo. Usar el método `readlines( )` \n",
    "\n",
    "#### 5. Abrir un archivo de texto con el parámetro \"a\", imprimir su contenido actual y agregar luego dos líneas al final (estas dos lineas tienen que ser frases que a ti te guste y te motiven mucho)."
   ]
  },
  {
   "attachments": {},
   "cell_type": "markdown",
   "metadata": {},
   "source": [
    "## Practica 6.3 Números de línea de un archivo"
   ]
  },
  {
   "attachments": {},
   "cell_type": "markdown",
   "metadata": {},
   "source": [
    "#### Crea un programa en Python  que lea las líneas del archivo *frases.txt* creado en la **Práctica 6.1** y les agregue números de línea al principio de cada línea, luego almacene las líneas numeradas en un nuevo archivo. Cada línea del archivo nuevo de salida debe comenzar con el número de línea, seguido de dos puntos y un espacio, seguido de la línea del archivo de entrada."
   ]
  },
  {
   "attachments": {},
   "cell_type": "markdown",
   "metadata": {},
   "source": [
    "## Practica 6.4 Palabras más largas en un archivo"
   ]
  },
  {
   "attachments": {},
   "cell_type": "markdown",
   "metadata": {},
   "source": [
    "#### Crea un programa en Python que identifique la(s) palabra(s) más larga(s) en un archivo. El programa debe imprimir un  mensaje apropiado que incluya la longitud de la palabra más larga, junto con todas las palabras de esa longitud que se encuentran en el archivo. Considera cualquier grupo de caracteres que se encuentren juntos y que no sean espacios en blanco como una palabra, incluso si este incluye dígitos o signos de puntuación."
   ]
  }
 ],
 "metadata": {
  "kernelspec": {
   "display_name": "Python 3",
   "language": "python",
   "name": "python3"
  },
  "language_info": {
   "name": "python",
   "version": "3.11.1"
  },
  "orig_nbformat": 4
 },
 "nbformat": 4,
 "nbformat_minor": 2
}
