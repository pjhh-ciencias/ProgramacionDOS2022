{
 "cells": [
  {
   "cell_type": "markdown",
   "metadata": {},
   "source": [
    "# A practicar ... \n",
    "<center>\n",
    "<img src=\"../Imagenes/gorila_music.png\" alt=\"\", width=\"25%\" height=\"auto\">\n",
    "<!-- ![Tablero de ajedrez](./Quizes_Imagenes/tablero_ajedrez.jpg) -->\n",
    "</center>"
   ]
  },
  {
   "cell_type": "markdown",
   "metadata": {},
   "source": [
    "## Practica 3.1\n",
    "\n",
    "#### Crea un programa en Python que solicute al  usuario que introduzca su nombre. Si la longitud de su nombre es inferior a cinco caracteres, pide que introduzcan su apellido y los unan (sin espacios), luego que muestra el nombre en mayúsculas. Si la longitud del nombre es de cinco o más caracteres, muestre su nombre en minúsculas, en caso contrario muestralo en mayusculas.."
   ]
  },
  {
   "cell_type": "markdown",
   "metadata": {},
   "source": [
    "## Práctica 3.2\n",
    "\n",
    "#### Crea un programa en Python que solicite al usuario que ingrese su nombre y luego imprime cada letra (una a una) de su nombre en líneas separada (dejando saltos de línea)."
   ]
  },
  {
   "cell_type": "markdown",
   "metadata": {},
   "source": [
    "## Práctica 3.3\n",
    "\n",
    "#### Crea un programa en Python que solicite al usuario un  número menor que 50 y luego impria hacia atras desde $50$ a ese número."
   ]
  },
  {
   "cell_type": "markdown",
   "metadata": {},
   "source": [
    "## Práctica 3.4\n",
    "\n",
    "#### Crea un programa en Python que solicite al usuario números enteros hasta que la suma de los numeros ingresados sea mayor que $50$. Cada vez que se ingresa un número imprime la suma acumulada. Cuando la suma sea mayor que $50$ deten el ciclo e imprime esta.\n"
   ]
  },
  {
   "cell_type": "markdown",
   "metadata": {},
   "source": [
    "## Práctica 3.5\n",
    "\n",
    "#### Crea un programa en Python que solicite al usuario que ingrese un número y luego ingrese un segundo número. Suma estos dos números y enseguida pregunta al usuario si quiere añadir otro número. Si introducen \"Y\" o \"y\" (Yes), pídele que introduzca otro número y sigue añadiendo números hasta que no respondan \"y\" o \"Y\". Una vez que el bucle se haya detenido, muestra el total."
   ]
  }
 ],
 "metadata": {
  "language_info": {
   "name": "python"
  },
  "orig_nbformat": 4
 },
 "nbformat": 4,
 "nbformat_minor": 2
}
