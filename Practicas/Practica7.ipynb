{
 "cells": [
  {
   "attachments": {},
   "cell_type": "markdown",
   "metadata": {},
   "source": [
    "# A practicar ... \n",
    "<center>\n",
    "<img src=\"../Imagenes/gorila_music.png\" alt=\"\", width=\"25%\" height=\"auto\">\n",
    "<!-- ![Tablero de ajedrez](./Quizes_Imagenes/tablero_ajedrez.jpg) -->\n",
    "</center>"
   ]
  },
  {
   "attachments": {},
   "cell_type": "markdown",
   "metadata": {},
   "source": [
    "## Práctica 7.1\n",
    "\n",
    "#### Crea una función en Python llamada `caracter` que reciba una cadena y devuelve una lista de los caracteres únicos de la cadena de texto."
   ]
  },
  {
   "attachments": {},
   "cell_type": "markdown",
   "metadata": {},
   "source": [
    "####\n",
    "<center>\n",
    "<img src=\"../Imagenes/\" alt=\"\", width=\"25%\" height=\"auto\">\n",
    "<!-- ![Tablero de ajedrez](./Quizes_Imagenes/tablero_ajedrez.jpg) -->\n",
    "</center>"
   ]
  },
  {
   "attachments": {},
   "cell_type": "markdown",
   "metadata": {},
   "source": [
    "## Practica 7.2 \n",
    "\n",
    "#### Crea un programa en Python lea un archivo de texto y luego solicite al usuario una palabra que desea buscar dentro de la cadena de texto y determine e imprima cuántas veces se encuentra la palabra en la cadena. Crea una función que se llame *busqueda* y reciba como argumentos: la cadena y la palabra a buscar, y devuelva el número de veces que aparece la palabra en la cadena."
   ]
  },
  {
   "cell_type": "markdown",
   "metadata": {},
   "source": [
    "#### "
   ]
  },
  {
   "attachments": {},
   "cell_type": "markdown",
   "metadata": {},
   "source": [
    "## Practica 7.3"
   ]
  },
  {
   "attachments": {},
   "cell_type": "markdown",
   "metadata": {},
   "source": [
    "#### Generar aleatoriamente $10$ números enteros entre $-100$ y $100$, almacenarlos en una lista. Escribir  un programa en Python que  determine cuantos de ellos son positivos, cuantos negativos y cuantos igual cero."
   ]
  },
  {
   "attachments": {},
   "cell_type": "markdown",
   "metadata": {},
   "source": [
    "#### "
   ]
  },
  {
   "attachments": {},
   "cell_type": "markdown",
   "metadata": {},
   "source": [
    "## Practica 7.4 Calculando la hipotenusa"
   ]
  },
  {
   "attachments": {},
   "cell_type": "markdown",
   "metadata": {},
   "source": [
    "#### Escribe una función en Python que se llame `hipotenusa` y que reciba las longitudes de los dos catetos (lados más cortos) de un triángulo rectángulo como sus parámetros y devuelva el valor de la hipotenusa del triángulo, calculada mediante el teorema de Pitágoras. Fuera de la función se deben solicitar al usuario las longitudes de los catetos del triángulo rectángulo, luego llama a la funcion `hipotenusa(cateto1,cateto2)` para calcular la longitud de la hipotenusa y muestre el resultado."
   ]
  },
  {
   "attachments": {},
   "cell_type": "markdown",
   "metadata": {},
   "source": [
    "#### "
   ]
  },
  {
   "attachments": {},
   "cell_type": "markdown",
   "metadata": {},
   "source": [
    "## 7.5 \n",
    "\n",
    "#### En un Bahias de Huatulco, el costo del servicio de taxi consiste en una **tarifa base** de $5.00 pesos más $2.5 por cada 120 metros recorridos. Escribe una función en Python que se llame  `tarifa_taxi` y que reciba como parametro la distancia recorrida (en kilómetros) como único parámetro y devuelva la tarifa total como único resultado. Fuera de la función solicita al usuario la distancia recorrida en kilómetros y luego llame a la función `tarifa_taxi(distancia)` para calcular el costo total e imprima el resultado.\n",
    "\n",
    "#### **Sugerencia:**  Las tarifas de los taxis cambian con el tiempo. Utiliza constantes para representar la tarifa base y la parte variable de la tarifa para que el programa se pueda actualizar fácilmente cuando aumenten las tarifas."
   ]
  },
  {
   "cell_type": "markdown",
   "metadata": {},
   "source": []
  },
  {
   "attachments": {},
   "cell_type": "markdown",
   "metadata": {},
   "source": [
    "## Práctica 7.6\n",
    "\n",
    "#### Un minorista en línea ofrece envío exprés para muchos de sus artículos a una tarifa de $10.95 para el primer artículo de un pedido y $2.95 para cada artículo subsiguiente en el mismo pedido. Escribe una función que tome el número de artículos en el pedido como su único parámetro. Devuelve los gastos de envío del pedido como resultado de la función. Fuera de la función solicite al usuario que ingrese la cantidad de artículos comprados  e imprime el cargo de envío."
   ]
  },
  {
   "attachments": {},
   "cell_type": "markdown",
   "metadata": {},
   "source": [
    "## Práctica 7.7 \n",
    "\n",
    "#### Si tiene 3 popotes, posiblemente de diferentes longitudes, puede o no ser posible colocarlos de manera que formen un triángulo cuando sus extremos se toquen. Por ejemplo, si todas los popotes tienen una longitud de 6 cm, entonces uno puede construir fácilmente un triángulo equilátero usándolas. Sin embargo, si un popote mide 6 cm de largo, mientras que las otras dos miden sólo 2 cm cada una, entonces no se puede formar un triángulo. De manera más general, si cualquier longitud es mayor o igual que la suma de las otras dos, entonces las longitudes no se pueden usar para formar un triángulo. De lo contrario, pueden formar un triángulo. Esta propiedad es conocida como Desigualdad del triángulo. \n",
    "\n",
    "#### Escribe una función `check_triangulo `que  determine si tres longitudes pueden o no formar un triángulo. La función recibe 3 parámetros y devolverá un resultado booleano. Si alguna de las longitudes es menor o igual a 0, su función debería devolver `False`. De lo contrario, debe determinar si las longitudes se pueden usar o no para formar un triángulo usando el método descrito en el párrafo anterior e imprimir el resultado apropiado. Además, escriba un programa que solicite al usuario las 3 longitudes del usuario y llame a la funcion check_triangulo."
   ]
  },
  {
   "cell_type": "markdown",
   "metadata": {},
   "source": []
  }
 ],
 "metadata": {
  "language_info": {
   "name": "python"
  },
  "orig_nbformat": 4
 },
 "nbformat": 4,
 "nbformat_minor": 2
}
