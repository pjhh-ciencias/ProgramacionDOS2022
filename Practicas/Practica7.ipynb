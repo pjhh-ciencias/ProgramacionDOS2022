{
 "cells": [
  {
   "attachments": {},
   "cell_type": "markdown",
   "metadata": {},
   "source": [
    "# A practicar ... \n",
    "<center>\n",
    "<img src=\"../Imagenes/gorila_music.png\" alt=\"\", width=\"25%\" height=\"auto\">\n",
    "<!-- ![Tablero de ajedrez](./Quizes_Imagenes/tablero_ajedrez.jpg) -->\n",
    "</center>"
   ]
  },
  {
   "attachments": {},
   "cell_type": "markdown",
   "metadata": {},
   "source": [
    "## Práctica 7.1\n",
    "\n",
    "#### Crea una función en Python llamada `caracter` que reciba una cadena y devuelve una lista de los caracteres únicos de la cadena de texto."
   ]
  },
  {
   "attachments": {},
   "cell_type": "markdown",
   "metadata": {},
   "source": [
    "**Solución:**"
   ]
  },
  {
   "cell_type": "code",
   "execution_count": 8,
   "metadata": {},
   "outputs": [
    {
     "name": "stdout",
     "output_type": "stream",
     "text": [
      "['H', 'o', 'l', 'a', 'm', 'u', 'n', 'd', 'o']\n"
     ]
    }
   ],
   "source": [
    "def caracter(cadena):\n",
    "    caracteres_unicos = []\n",
    "    caracteres_unicos = [caracter for caracter in cadena if caracter not in caracteres_unicos] # Utilizando list comprehensions\n",
    "    caracteres_unicos.remove(' ') # Quitando espacios en blanco\n",
    "    return caracteres_unicos\n",
    "\n",
    "cadena = 'Hola mundo'\n",
    "print(caracter(cadena))\n"
   ]
  },
  {
   "attachments": {},
   "cell_type": "markdown",
   "metadata": {},
   "source": [
    "####\n",
    "<center>\n",
    "<img src=\"../Imagenes/\" alt=\"\", width=\"25%\" height=\"auto\">\n",
    "<!-- ![Tablero de ajedrez](./Quizes_Imagenes/tablero_ajedrez.jpg) -->\n",
    "</center>"
   ]
  },
  {
   "attachments": {},
   "cell_type": "markdown",
   "metadata": {},
   "source": [
    "## Practica 7.2 \n",
    "\n",
    "#### Crea un programa en Python lea un archivo de texto y luego solicite al usuario una palabra que desea buscar dentro de la cadena de texto y determine e imprima cuántas veces se encuentra la palabra en la cadena. Crea una función que se llame *busqueda* y reciba como argumentos: la cadena y la palabra a buscar, y devuelva el número de veces que aparece la palabra en la cadena."
   ]
  },
  {
   "attachments": {},
   "cell_type": "markdown",
   "metadata": {},
   "source": [
    "**Solución:**"
   ]
  },
  {
   "cell_type": "code",
   "execution_count": 25,
   "metadata": {},
   "outputs": [
    {
     "name": "stdout",
     "output_type": "stream",
     "text": [
      "4\n"
     ]
    }
   ],
   "source": [
    "fichero = open('../Python/Archivos/frases.txt','r', encoding='utf-8') # OJO con el uso de encoding\n",
    "text = fichero.read()\n",
    "fichero.close()\n",
    "\n",
    "palabras = {}   # Diccionario vacio\n",
    "#print(palabras)\n",
    "for palabra in text.lower().split(): # OJO con el uso de lower() y split()\n",
    "    if palabra.lower() in palabras:\n",
    "        palabras[palabra.lower()] += 1  \n",
    "    else:\n",
    "        palabras[palabra.lower()] = 1  \n",
    "\n",
    "palabra = 'No'\n",
    "print(palabras[palabra.lower()])\n",
    "#print(palabras)\n",
    "# print(f'{\"Palabra\":<16}{\"Total\":<10}')\n",
    "\n",
    "# for palabra, cantidad in sorted(palabras.items()):\n",
    "#     print(f'{palabra:<15}\\t{cantidad:^10}')\n",
    "# print('\\nNúmero de palabras únicas:', len(palabras))"
   ]
  },
  {
   "cell_type": "code",
   "execution_count": 21,
   "metadata": {},
   "outputs": [
    {
     "name": "stdout",
     "output_type": "stream",
     "text": [
      "La palabra NO esta presente en el archivo de texto y aparece 4 veces en todo el archivo.\n"
     ]
    }
   ],
   "source": [
    "def busqueda (contenido,palabra):\n",
    "    if palabra in contenido:    \n",
    "        contador = 0 \n",
    "        for x in contenido.split():\n",
    "            if palabra.lower() == x.lower():\n",
    "                contador +=1\n",
    "        print('La palabra {} esta presente en el archivo de texto y aparece {} veces en todo el archivo.'.format(palabra.upper(),contador))\n",
    "    else:\n",
    "        print('La palabra {} no se encuentra presenta el el archivo.'.format(palabra))\n",
    "\n",
    "archivo = open('../Python/Archivos/frases.txt','r')\n",
    "contenido = archivo.read()\n",
    "archivo.close()\n",
    "\n",
    "palabra = input('Ingresa la palabra que deseas buscar en el archivo de texto')\n",
    "\n",
    "busqueda(contenido,palabra)"
   ]
  },
  {
   "attachments": {},
   "cell_type": "markdown",
   "metadata": {},
   "source": [
    "#### "
   ]
  },
  {
   "attachments": {},
   "cell_type": "markdown",
   "metadata": {},
   "source": [
    "## Practica 7.3"
   ]
  },
  {
   "attachments": {},
   "cell_type": "markdown",
   "metadata": {},
   "source": [
    "#### Generar aleatoriamente $10$ números enteros entre $-100$ y $100$, almacenarlos en una lista. Escribir  un programa en Python que  determine cuantos de ellos son positivos, cuantos negativos y cuantos igual cero."
   ]
  },
  {
   "attachments": {},
   "cell_type": "markdown",
   "metadata": {},
   "source": [
    "**Solución:**"
   ]
  },
  {
   "cell_type": "code",
   "execution_count": 46,
   "metadata": {},
   "outputs": [
    {
     "name": "stdout",
     "output_type": "stream",
     "text": [
      "[46, 23, 20, -98, -34, -77, -31, -14, 79, -17]\n",
      "De entre todos los números aleatorios generados 4 son positivos, 6 negativos y 0 son igual a 0\n"
     ]
    }
   ],
   "source": [
    "import random\n",
    "#numeros = [random.randint(-100,100) for i in range(0,10)] # Utilizando list comprehensions \n",
    "numeros = random.sample(range(-100,101),10)\n",
    "print(numeros)\n",
    "positivos, negativos, cero  = (0,0,0)\n",
    "for numero in numeros:\n",
    "    if numero > 0:\n",
    "        positivos +=1\n",
    "    elif numero < 0:\n",
    "        negativos +=1\n",
    "    else:\n",
    "        cero += 1\n",
    "print('De entre todos los números aleatorios generados {} son positivos, {} negativos y {} son igual a 0'.format(positivos,negativos,cero) )\n",
    "\n",
    "\n"
   ]
  },
  {
   "attachments": {},
   "cell_type": "markdown",
   "metadata": {},
   "source": [
    "#### "
   ]
  },
  {
   "attachments": {},
   "cell_type": "markdown",
   "metadata": {},
   "source": [
    "## Practica 7.4 Calculando la hipotenusa"
   ]
  },
  {
   "attachments": {},
   "cell_type": "markdown",
   "metadata": {},
   "source": [
    "#### Escribe una función en Python que se llame `hipotenusa` y que reciba las longitudes de los dos catetos (lados más cortos) de un triángulo rectángulo como sus parámetros y devuelva el valor de la hipotenusa del triángulo, calculada mediante el teorema de Pitágoras. Fuera de la función se deben solicitar al usuario las longitudes de los catetos del triángulo rectángulo, luego llama a la funcion `hipotenusa(cateto1,cateto2)` para calcular la longitud de la hipotenusa y muestre el resultado."
   ]
  },
  {
   "attachments": {},
   "cell_type": "markdown",
   "metadata": {},
   "source": [
    "**Solucion:**"
   ]
  },
  {
   "cell_type": "code",
   "execution_count": 55,
   "metadata": {},
   "outputs": [
    {
     "name": "stdout",
     "output_type": "stream",
     "text": [
      "La longitud de la hipotenusa cuyos catetos tienen longitudes 3.0 y 4.0 es 5.0\n"
     ]
    }
   ],
   "source": [
    "import math \n",
    "\n",
    "def hipotenusa (cateto1,cateto2):\n",
    "    return math.sqrt(cateto1**2 + cateto2**2)\n",
    "\n",
    "cateto1 = float(input('Ingresa las longitudes del primer cateto del triangulo rectángulo:'))\n",
    "cateto2 = float(input('Ingresa las longitudes del segundo cateto del triangulo rectángulo:'))\n",
    "\n",
    "print('La longitud de la hipotenusa cuyos catetos tienen longitudes {} y {} es {}'.format(cateto1,cateto2,hipotenusa(cateto1,cateto2)))"
   ]
  },
  {
   "attachments": {},
   "cell_type": "markdown",
   "metadata": {},
   "source": [
    "## 7.5 \n",
    "\n",
    "#### En un Bahias de Huatulco, el costo del servicio de taxi consiste en una **tarifa base** de $5.00 pesos más $2.5 por cada 120 metros recorridos. Escribe una función en Python que se llame  `tarifa_taxi` y que reciba como parametro la distancia recorrida (en kilómetros) como único parámetro y devuelva la tarifa total como único resultado. Fuera de la función solicita al usuario la distancia recorrida en kilómetros y luego llame a la función `tarifa_taxi(distancia)` para calcular el costo total e imprima el resultado.\n",
    "\n",
    "#### **Sugerencia:**  Las tarifas de los taxis cambian con el tiempo. Utiliza constantes para representar la tarifa base y la parte variable de la tarifa para que el programa se pueda actualizar fácilmente cuando aumenten las tarifas."
   ]
  },
  {
   "attachments": {},
   "cell_type": "markdown",
   "metadata": {},
   "source": [
    "**Solución:**"
   ]
  },
  {
   "cell_type": "code",
   "execution_count": 59,
   "metadata": {},
   "outputs": [
    {
     "name": "stdout",
     "output_type": "stream",
     "text": [
      "El costo total por el servicio de taxi es: $30.0 pumadollares\n"
     ]
    }
   ],
   "source": [
    "def tarifa_taxi(distancia) :\n",
    "    tarifa_base = 5.0 #Banderazo\n",
    "    tarifa_variable = 2.5 # Costo por cada 120 metros\n",
    "    return tarifa_base + tarifa_variable*((distancia*1000)/120)\n",
    "\n",
    "\n",
    "distancia = float(input('Ingresa la distancia (en kilometros) recorrida:'))\n",
    "print('El costo total por el servicio de taxi es: ${} pumadollares'.format(tarifa_taxi(distancia)))"
   ]
  },
  {
   "attachments": {},
   "cell_type": "markdown",
   "metadata": {},
   "source": [
    "## Práctica 7.6\n",
    "\n",
    "#### Un minorista en línea ofrece envío exprés para muchos de sus artículos a una tarifa de $10.95 para el primer artículo de un pedido y $2.95 para cada artículo subsiguiente en el mismo pedido. Escribe una función que se llame `gasto_envio` que reciba el número de artículos en el pedido como su único parámetro. Devuelve los gastos de envío del pedido como resultado de la función. Fuera de la función solicite al usuario que ingrese la cantidad de artículos comprados  e imprime el cargo de envío."
   ]
  },
  {
   "attachments": {},
   "cell_type": "markdown",
   "metadata": {},
   "source": [
    "**Solución:**"
   ]
  },
  {
   "cell_type": "code",
   "execution_count": 70,
   "metadata": {},
   "outputs": [
    {
     "name": "stdout",
     "output_type": "stream",
     "text": [
      "El costo de envio envio es: $13.90\n"
     ]
    }
   ],
   "source": [
    "def gasto_envio(num_articulos):\n",
    "    \n",
    "    if num_articulos == 0:\n",
    "        return 0\n",
    "    elif num_articulos == 1:\n",
    "        return 10.95\n",
    "    else:\n",
    "        return 10.95 + 2.95*(num_articulos-1)\n",
    "\n",
    "num_articulos = int(input('Ingresa el numero de articulos en el pedido:'))\n",
    "print('El costo de envio envio es: ${:.2f}'.format(gasto_envio(num_articulos)))\n",
    "\n",
    "#print('El costo de envio envio es: ${}'.format(gasto_envio(int(input('Ingresa el numero de articulos en el pedido:')))))"
   ]
  },
  {
   "attachments": {},
   "cell_type": "markdown",
   "metadata": {},
   "source": [
    "## Práctica 7.7 \n",
    "\n",
    "#### Si tienes $3$ popotes, posiblemente de diferentes longitudes, puede o no ser posible colocarlos de manera que formen un triángulo cuando sus extremos se toquen. Por ejemplo, si todas los popotes tienen una longitud de $6$cm, entonces uno puede construir fácilmente un triángulo equilátero usándolas. Sin embargo, si un popote mide $6$ cm de largo, mientras que las otras dos miden sólo $2$ cm cada una, entonces no se puede formar un triángulo. De manera más general, si cualquier longitud es mayor o igual que la suma de las otras dos, entonces las longitudes no se pueden usar para formar un triángulo. De lo contrario, pueden formar un triángulo. Esta propiedad es conocida como **Desigualdad del triángulo**. \n",
    "\n",
    "#### Escribe una función `check_triangulo `que  determine si tres longitudes pueden o no formar un triángulo. La función recibe 3 parámetros y devolverá un resultado booleano. Si alguna de las longitudes es menor o igual a $0$, su función debería devolver `False`. De lo contrario, debe determinar si las longitudes se pueden usar o no para formar un triángulo usando el método descrito en el párrafo anterior e imprimir el resultado apropiado. Además, escriba un programa que solicite al usuario las 3 longitudes del usuario y llame a la funcion `check_triangulo`."
   ]
  },
  {
   "attachments": {},
   "cell_type": "markdown",
   "metadata": {},
   "source": [
    "**Solución:**"
   ]
  },
  {
   "cell_type": "code",
   "execution_count": 71,
   "metadata": {},
   "outputs": [
    {
     "name": "stdout",
     "output_type": "stream",
     "text": [
      "Con tres popotes de longitudes 3.0,4.0 y 5.0 pueden formar un triángulo \n"
     ]
    }
   ],
   "source": [
    "def check_triangulo (a,b,c):\n",
    "    if a < 0 or b < 0 or c < 0 or a + b <= c or a + c <= b or b + c <= a :\n",
    "        return False\n",
    "    else:\n",
    "        return True\n",
    "\n",
    "a = float(input('Ingresa la longitud del lado a del triangulo:'))\n",
    "b = float(input('Ingresa la longitud del lado b del triangulo:'))\n",
    "c = float(input('Ingresa la longitud del lado c del triangulo:'))\n",
    "\n",
    "if check_triangulo(a,b,c) == True:\n",
    "    print('Con tres popotes de longitudes {},{} y {} puedes formar un triángulo '.format(a,b,c))\n",
    "else:\n",
    "    print('No es posible formar un triángulo con tres popotes de longitudes {},{} y {}'.format(a,b,c))"
   ]
  },
  {
   "cell_type": "code",
   "execution_count": null,
   "metadata": {},
   "outputs": [],
   "source": []
  }
 ],
 "metadata": {
  "kernelspec": {
   "display_name": "Python 3",
   "language": "python",
   "name": "python3"
  },
  "language_info": {
   "codemirror_mode": {
    "name": "ipython",
    "version": 3
   },
   "file_extension": ".py",
   "mimetype": "text/x-python",
   "name": "python",
   "nbconvert_exporter": "python",
   "pygments_lexer": "ipython3",
   "version": "3.11.1"
  },
  "orig_nbformat": 4
 },
 "nbformat": 4,
 "nbformat_minor": 2
}
