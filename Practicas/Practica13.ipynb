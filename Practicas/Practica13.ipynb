{
 "cells": [
  {
   "attachments": {},
   "cell_type": "markdown",
   "metadata": {},
   "source": [
    "# <center>Práctica 13 </center>\n",
    "<center>\n",
    "<img src=\"../Imagenes/gorila_music.png\" alt=\"\", width=\"25%\" height=\"auto\">\n",
    "</center>"
   ]
  },
  {
   "attachments": {},
   "cell_type": "markdown",
   "metadata": {},
   "source": [
    "## Práctica 13.1\n",
    "\n",
    "#### "
   ]
  },
  {
   "attachments": {},
   "cell_type": "markdown",
   "metadata": {},
   "source": [
    "1. Utilizando la libreria Pandas crea una serie llamada `duracion_polizas` que contenga la duración de las pólizas de seguros de vida para 10 clientes, simular la duración (en años) de los polizas como un número entero entre 0 y 30.   \n",
    "\n",
    "2. Calcula la duración promedio de las pólizas utilizando la función `mean()`.\n",
    "\n",
    "3. Encuentra la duración máxima de las pólizas utilizando la función `max()`.\n",
    "\n",
    "4. Encuentra la duración mínima de las pólizas utilizando la función `min()`.\n",
    "\n",
    "5. Verifica si alguna de las pólizas tiene una duración mayor a 25 años utilizando la función `any()`.\n",
    "\n",
    "6. Calcula el tiempo total de duración de todas las pólizas utilizando la función `sum()`.\n",
    "\n",
    "7. Crea una nueva Serie llamada duracion_polizas_meses que convierta la duración de las pólizas de años a meses.\n",
    "\n",
    "8. Imprime la duración de las pólizas para los clientes que tienen una duración superior a 20 años.\n",
    "\n",
    "9. Calcula el porcentaje de pólizas que tienen una duración inferior a 15 años."
   ]
  }
 ],
 "metadata": {
  "kernelspec": {
   "display_name": "Python 3",
   "language": "python",
   "name": "python3"
  },
  "language_info": {
   "codemirror_mode": {
    "name": "ipython",
    "version": 3
   },
   "file_extension": ".py",
   "mimetype": "text/x-python",
   "name": "python",
   "nbconvert_exporter": "python",
   "pygments_lexer": "ipython3",
   "version": "3.11.2"
  },
  "orig_nbformat": 4
 },
 "nbformat": 4,
 "nbformat_minor": 2
}
