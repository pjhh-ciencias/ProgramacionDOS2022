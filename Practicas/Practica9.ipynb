{
 "cells": [
  {
   "attachments": {},
   "cell_type": "markdown",
   "metadata": {},
   "source": [
    "# A practicar ... \n",
    "<center>\n",
    "<img src=\"../Imagenes/gorila_music.png\" alt=\"\", width=\"25%\" height=\"auto\">\n",
    "<!-- ![Tablero de ajedrez](./Quizes_Imagenes/tablero_ajedrez.jpg) -->\n",
    "</center>"
   ]
  },
  {
   "attachments": {},
   "cell_type": "markdown",
   "metadata": {},
   "source": [
    "## Práctica 9.1\n",
    "\n",
    "#### Escribe un programa en Python que genere un número aleatorio $n$ entre $1$ y $10$ e imprima todos los subconjuntos no vacios del conjunto $\\{1,2,\\ldots,n\\}$\n",
    "\n",
    "<center>\n",
    "<img src=\"../Imagenes/Subconjuntos.JPG\" alt=\"\", width=\"35%\" height=\"auto\">\n",
    "<!-- ![Tablero de ajedrez](./Quizes_Imagenes/tablero_ajedrez.jpg) -->\n",
    "</center>"
   ]
  },
  {
   "cell_type": "code",
   "execution_count": 16,
   "metadata": {},
   "outputs": [
    {
     "name": "stdout",
     "output_type": "stream",
     "text": [
      "El número aleatorio obtenido es n= 4\n",
      "Los subconjuntos del conjunto {1, 2, 3, 4} son:\n",
      "{1}\n",
      "{2}\n",
      "{3}\n",
      "{4}\n",
      "{1, 2}\n",
      "{1, 3}\n",
      "{1, 4}\n",
      "{2, 3}\n",
      "{2, 4}\n",
      "{3, 4}\n",
      "{1, 2, 3}\n",
      "{1, 2, 4}\n",
      "{1, 3, 4}\n",
      "{2, 3, 4}\n",
      "{1, 2, 3, 4}\n"
     ]
    }
   ],
   "source": [
    "def agrega_elemento(n,lista):\n",
    "    copia_lista = lista.copy()\n",
    "    for x in lista:\n",
    "        #print(copia_lista)\n",
    "        #print('x=',x)\n",
    "        #print('union=',{n}.union(x))\n",
    "        if {n}.union(x) not in copia_lista:\n",
    "            #print(copia_lista)\n",
    "            copia_lista.append({n}.union(x))\n",
    "    return copia_lista\n",
    "\n",
    "import random\n",
    "\n",
    "n=random.randint(1,11)\n",
    "print('El número aleatorio obtenido es n=',n)\n",
    "lista = [{i} for i in range(1,n+1)]\n",
    "#print(lista)\n",
    "\n",
    "\n",
    "for i in range(1,n+1):\n",
    "    #print(agrega_elemento(i,lista))\n",
    "    lista = agrega_elemento(i,lista)\n",
    "\n",
    "#print(lista)\n",
    "#print(len(lista))\n",
    "\n",
    "print('Los subconjuntos del conjunto {} son:'.format(set(range(1,n+1))))\n",
    "\n",
    "\n",
    "for i in range(1,n+1):\n",
    "    for x in lista:    \n",
    "        if len(x)== i:\n",
    "            print(x)"
   ]
  },
  {
   "attachments": {},
   "cell_type": "markdown",
   "metadata": {},
   "source": [
    "## Práctica 9.2 Fracciones"
   ]
  },
  {
   "attachments": {},
   "cell_type": "markdown",
   "metadata": {},
   "source": [
    "* Crear una `clase Fraccion`, que cuente con dos atributos de instancia: `dividendo` y `divisor`, que se asignan en el constructor de la clase,  y se imprimen como `X/Y` en el método `__str__`. Configurar los metodos de acceso y asignación con `property` para evitar crear una fracción con divisor igual a cero.\n",
    "\n",
    "* Crear un método `sumar` que recibe otra fracción y devuelve una nueva fracción con la suma de ambas.\n",
    "\n",
    "* Crear un método `restar` que recibe otra fracción y devuelve una nueva fracción con la resta de la primera menos la recibida.\n",
    " \n",
    "* Crear un método `multiplicar` que recibe otra fracción y devuelve una nueva fracción con el producto de ambas.\n",
    "\n",
    "* Crear un método `dividir` que recibe otra fracción y devuelve una nueva fracción con la division de la primera entre la recibida .\n",
    "\n",
    "* Crear un método `simplificar` que modifica la fracción actual de forma que los valores del dividendo y divisor sean los menores posibles.\n",
    "\n",
    "* Utilizar el sobrecargo de operadores para definir los correspondientes operaciones entre fracciones.\n",
    "\n"
   ]
  },
  {
   "attachments": {},
   "cell_type": "markdown",
   "metadata": {},
   "source": []
  }
 ],
 "metadata": {
  "kernelspec": {
   "display_name": "Python 3",
   "language": "python",
   "name": "python3"
  },
  "language_info": {
   "codemirror_mode": {
    "name": "ipython",
    "version": 3
   },
   "file_extension": ".py",
   "mimetype": "text/x-python",
   "name": "python",
   "nbconvert_exporter": "python",
   "pygments_lexer": "ipython3",
   "version": "3.11.2"
  },
  "orig_nbformat": 4
 },
 "nbformat": 4,
 "nbformat_minor": 2
}
