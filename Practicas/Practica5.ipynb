{
 "cells": [
  {
   "cell_type": "markdown",
   "metadata": {},
   "source": [
    "# A practicar ... \n",
    "<center>\n",
    "<img src=\"../Imagenes/gorila_music.png\" alt=\"\", width=\"25%\" height=\"auto\">\n",
    "<!-- ![Tablero de ajedrez](./Quizes_Imagenes/tablero_ajedrez.jpg) -->\n",
    "</center>"
   ]
  },
  {
   "cell_type": "markdown",
   "metadata": {},
   "source": [
    "## Práctica 5.1\n",
    "\n",
    "#### Cree dos conjuntos de estudiantes, uno para los que presentaron un examen y otro para los que enviaron un proyecto.\n",
    "\n"
   ]
  },
  {
   "cell_type": "code",
   "execution_count": null,
   "metadata": {},
   "outputs": [],
   "source": [
    "examen={'Benito','Maribel','Ximena','Doroteo','Flavia','Ignacio','Francisco','Lucia','Anahi','Juan','Pedro','Santiago','Lluvia'}\n",
    "\n",
    "proyecto={'Heriberto','Ximena','Flavio','Concepcion','Fernando','Francisco','Jesus','Pedro','Santiago','Sebastian','Coral'}"
   ]
  },
  {
   "cell_type": "code",
   "execution_count": null,
   "metadata": {},
   "outputs": [],
   "source": [
    "print(examen)\n",
    "print(proyecto)"
   ]
  },
  {
   "cell_type": "markdown",
   "metadata": {},
   "source": [
    "#### Usando estos conjuntos responde las siguientes preguntas:\n",
    "\n",
    "* ##### ¿Qué estudiantes presentaron el examen y enviaron el proyecto?\n",
    "* ##### ¿Qué estudiantes sólo presentaron el examen?\n",
    "* ##### ¿Qué estudiantes sólo presentaron el proyecto?\n",
    "* ##### Haga una lista de todos los estudiantes que presentaron el examen y el proyecto (o ambos).\n",
    "* ##### Haga una lista de todos los estudiantes que  presentaron el examen y el proyecto (pero no ambos)."
   ]
  },
  {
   "cell_type": "markdown",
   "metadata": {},
   "source": [
    "## Practica 5.2 \n",
    "\n",
    "#### Crea un programa en Python \n",
    "<center>\n",
    "<img src=\"../Imagenes/barra_numeros.jpg\" alt=\"\", width=\"35%\" height=\"auto\">\n",
    "</center>"
   ]
  },
  {
   "cell_type": "markdown",
   "metadata": {},
   "source": [
    "**Solución:**"
   ]
  },
  {
   "cell_type": "code",
   "execution_count": 16,
   "metadata": {},
   "outputs": [
    {
     "name": "stdout",
     "output_type": "stream",
     "text": [
      "\n",
      " Grafica de barras de números\n",
      "\n",
      "  Indice         Valor               Barra        \n",
      "    0                19            ******************* \n",
      "    1                20            ********************\n",
      "    2                15            ***************     \n",
      "    3                 7            *******             \n",
      "    4                11            ***********         \n"
     ]
    }
   ],
   "source": [
    "numeros = [19, 20, 15, 7, 11]\n",
    "print('\\n Grafica de barras de números\\n')\n",
    "print(f'{\"Indice\":^10}{\"Valor\":^20}{\"Barra\":^20}')\n",
    "for index, value in enumerate(numeros):\n",
    "    print(f'{index:^10}{value:^25}{\"*\"*value:<20}')"
   ]
  },
  {
   "cell_type": "markdown",
   "metadata": {},
   "source": [
    "## Práctica 5.3 Zodiaco Chino\n",
    "\n",
    "#### El zodíaco Chino asigna animales a los años en un ciclo de $12$ años. En la siguiente tabla se muestra un ciclo de $12$ años. El patrón se repite a partir de ahí, siendo $2012$ otro año del dragón y $1999$ otro año de la liebre.\n",
    "\n",
    "<center>\n",
    "<img src=\"../Imagenes/Zodiaco_chino.jpg\" alt=\"\", width=\"auto\" height=\"auto\">\n",
    "</center>\n",
    "\n",
    "#### Escriba un programa en Python que solicite al usuario un año y muestre el animal asociado con ese año. El  programa debe funcionar correctamente para cualquier año mayor o igual a cero, no solo para los enumerados en la tabla."
   ]
  },
  {
   "cell_type": "markdown",
   "metadata": {},
   "source": [
    "## Practica 5.4 ¿Qué día de la semana es el 1 de enero?\n",
    "\n",
    "#### La siguiente fórmula se puede utilizar para determinar el día de la semana para el 1 de enero en un año determinado:\n",
    "\n",
    "$$ \\mathrm{dia\\_semana}= \\left( \\mathrm{año} + \\left \\lfloor \\frac{\\mathrm{año} - 1}{4} \\right\\rfloor - \\left \\lfloor \\frac{\\mathrm{año} - 1}{100} \\right\\rfloor  + \\left \\lfloor \\frac{\\mathrm{año} - 1}{400} \\right\\rfloor  \\right)\\% 7    $$\n",
    "\n",
    "#### El resultado calculado por esta fórmula es un número entero que representa el día de la semana. El domingo está representado por $0$. Los días restantes de la semana siguen en secuencia hasta el sábado, que está representado por $6$.\n",
    "\n",
    "#### Usa la fórmula anterior para escribir un programa solicite al usuario un  año   e informe el día de la semana para el $1$ de enero de ese año La salida del  programa debe incluir el nombre completo del día de la semana, no solo el número entero devuelto por la fórmula."
   ]
  },
  {
   "cell_type": "markdown",
   "metadata": {},
   "source": [
    "## Practica 5.5\n",
    "\n",
    "#### En un estado en particular, las placas de  automóviles más antiguas constan de tres letras mayúsculas seguidas de tres dígitos. Cuando se habían utilizado todas las matrículas que seguían ese patrón, se cambió el formato a cuatro dígitos seguidos de tres letras mayúsculas. \n",
    "\n",
    "#### Escribe  un programa en Python que solicite al usuario una cadena de caracteres. Entonces, evalua e imprime  un mensaje que indique si los caracteres son válidos para una placa de estilo más antiguo o para una placa de estilo más nuevo. El programa debe mostrar un mensaje apropiado si la cadena ingresada por el usuario no es válida para ningún estilo de matrícula."
   ]
  },
  {
   "cell_type": "markdown",
   "metadata": {},
   "source": [
    "## Práctica 5.6\n",
    "\n",
    "#### Crea un programa en Python que imprima la tabla Pitagórica que muestre los productos de todas las combinaciones de números enteros desde $1$ a $1$ hasta $10$ por $10$ inclusive. La tabla Pitagórica debe incluir una fila de etiquetas en la parte superior. que contenga los números del $1$ al $10$. También debe incluir etiquetas en el lado izquierdo que contengan los números del $1$ al $10$. El resultado esperado del programa se muestra a continuación:\n",
    "\n",
    "<center>\n",
    "<img src=\"../Imagenes/tabla_pitagorica.jpg\" alt=\"\", width=\"auto\" height=\"auto\">\n",
    "</center>\n",
    "\n"
   ]
  }
 ],
 "metadata": {
  "kernelspec": {
   "display_name": "Python 3",
   "language": "python",
   "name": "python3"
  },
  "language_info": {
   "codemirror_mode": {
    "name": "ipython",
    "version": 3
   },
   "file_extension": ".py",
   "mimetype": "text/x-python",
   "name": "python",
   "nbconvert_exporter": "python",
   "pygments_lexer": "ipython3",
   "version": "3.11.0"
  },
  "orig_nbformat": 4
 },
 "nbformat": 4,
 "nbformat_minor": 2
}
