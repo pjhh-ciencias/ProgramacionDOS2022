{
 "cells": [
  {
   "attachments": {},
   "cell_type": "markdown",
   "metadata": {},
   "source": [
    "# <center>Prácticas 11 </center>\n",
    "<center>\n",
    "<img src=\"../Imagenes/gorila_music.png\" alt=\"\", width=\"25%\" height=\"auto\">\n",
    "<!-- ![Tablero de ajedrez](./Quizes_Imagenes/tablero_ajedrez.jpg) -->\n",
    "</center>"
   ]
  },
  {
   "attachments": {},
   "cell_type": "markdown",
   "metadata": {},
   "source": [
    "## Práctica 11.1\n",
    "\n",
    "#### Sea $s\\colon [a,b] \\to \\mathbb{R}$ una función escalonada definida como \n",
    "\n",
    "#### $$s(x):= \\displaystyle{\\sum_{i=1}^{n} \\alpha_{i} \\cdot  \\chi_{[x_{i-1},x_{i}]}(x) }$$ \n",
    "\n",
    "#### donde $ p = \\{ a = x_{0} < x_{1}< \\cdots< b = x_{n} \\}$ es una partición del intervalo $[a,b]$. Crea un programa en Python que utilice la librería `matplotlib` para realizar la gráfica de la función escalonada $s(x)$, asume que tienes almacenado los valores que toma la función escalonada en un arreglo $y = [\\alpha_{1}, \\alpha_{2}, \\ldots , \\alpha_{n}]$     "
   ]
  },
  {
   "cell_type": "code",
   "execution_count": null,
   "metadata": {
    "vscode": {
     "languageId": "plaintext"
    }
   },
   "outputs": [],
   "source": []
  },
  {
   "attachments": {},
   "cell_type": "markdown",
   "metadata": {},
   "source": [
    "## Práctica 11.2 "
   ]
  },
  {
   "attachments": {},
   "cell_type": "markdown",
   "metadata": {},
   "source": [
    "#### Escribe un programa en Python que solicite al usuario un intervalo cerrado $[a,b]$ y una función $f(x)$ continua en $[a,b]$ (la función  debe ser ingresada en como una `string` y representar una función válida en python). Luego, solicita al usuario un número natural $n$ y crea una partición homogenea  $P:=\\{a = x_{0}, x_{1}, \\ldots, x_{n-1}, x_{n}=b \\}$  de longitud $n$ de $[a,b]$. Enseguida para cada $i=1,\\ldots,n$ en cada subintervalo $[x_{i-1},x_{i}]$ elige de manera uniforme un punto $r_{i} \\in [x_{i-1},x_{i}]$. Utiliza la libreraria Matplotlib para representar graficamente la función escalonada $\\displaystyle{\\displaystyle{\\sum_{i=1}^{n} f(r_{i}) \\cdot  \\chi_{[x_{i-1},x_{i}]}(x) }}$   y la función $f(x)$ en el intervalo $[a,b]$. Finalmente, calcula la suma de Riemmann $\\displaystyle{\\displaystyle{\\sum_{i=1}^{n} f(r_{i}) \\cdot (x_{i}-x_{i-1}) }}$\n",
    "\n",
    "\n",
    "#### Por ejemplo si $a=-\\pi$, $b=\\pi$, $f(x)=$'np.sin(x)' y $n=50$. Se debe visualizar algo mucho mejor a esto (inspirence en los estilos):\n",
    "\n"
   ]
  },
  {
   "attachments": {},
   "cell_type": "markdown",
   "metadata": {},
   "source": [
    "<center>\n",
    "<img src=\"../Imagenes/sr.png\" alt=\"\", width=\"100%\" height=\"auto\">\n",
    "</center>"
   ]
  },
  {
   "attachments": {},
   "cell_type": "markdown",
   "metadata": {},
   "source": [
    "<left>\n",
    "<img src=\"../Imagenes/sr_.png\" alt=\"\", width=\"45%\" height=\"auto\">\n",
    "</left>"
   ]
  },
  {
   "attachments": {},
   "cell_type": "markdown",
   "metadata": {},
   "source": []
  }
 ],
 "metadata": {
  "kernelspec": {
   "display_name": "Python 3",
   "language": "python",
   "name": "python3"
  },
  "language_info": {
   "codemirror_mode": {
    "name": "ipython",
    "version": 3
   },
   "file_extension": ".py",
   "mimetype": "text/x-python",
   "name": "python",
   "nbconvert_exporter": "python",
   "pygments_lexer": "ipython3",
   "version": "3.11.2"
  },
  "orig_nbformat": 4
 },
 "nbformat": 4,
 "nbformat_minor": 2
}
