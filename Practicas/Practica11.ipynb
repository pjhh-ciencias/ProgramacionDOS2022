{
 "cells": [
  {
   "attachments": {},
   "cell_type": "markdown",
   "metadata": {},
   "source": [
    "# <center>Prácticas 11 </center>\n",
    "<center>\n",
    "<img src=\"../Imagenes/gorila_music.png\" alt=\"\", width=\"25%\" height=\"auto\">\n",
    "<!-- ![Tablero de ajedrez](./Quizes_Imagenes/tablero_ajedrez.jpg) -->\n",
    "</center>"
   ]
  },
  {
   "attachments": {},
   "cell_type": "markdown",
   "metadata": {},
   "source": [
    "## Práctica 11.1\n",
    "\n",
    "#### Sea $s\\colon [a,b] \\to \\mathbb{R}$ una función escalonada definida como \n",
    "\n",
    "#### $$s(x):= \\displaystyle{\\sum_{i=1}^{n} \\alpha_{i} \\cdot  \\chi_{[x_{i-1},x_{i}]}(x) }$$ \n",
    "\n",
    "#### donde $ p = \\{ a = x_{0} < x_{1}< \\cdots< b = x_{n} \\}$ es una partición del intervalo $[a,b]$. Crea un programa en Python que utilice la librería `matplotlib` para realizar la gráfica de la función escalonada $s(x)$, asume que tienes almacenado los valores que toma la función escalonada en un arreglo $y = [\\alpha_{1}, \\alpha_{2}, \\ldots , \\alpha_{n}]$     "
   ]
  },
  {
   "cell_type": "code",
   "execution_count": null,
   "metadata": {
    "vscode": {
     "languageId": "plaintext"
    }
   },
   "outputs": [],
   "source": []
  },
  {
   "attachments": {},
   "cell_type": "markdown",
   "metadata": {},
   "source": [
    "## Práctica 11.2 "
   ]
  },
  {
   "attachments": {},
   "cell_type": "markdown",
   "metadata": {},
   "source": []
  }
 ],
 "metadata": {
  "kernelspec": {
   "display_name": "Python 3",
   "language": "python",
   "name": "python3"
  },
  "language_info": {
   "codemirror_mode": {
    "name": "ipython",
    "version": 3
   },
   "file_extension": ".py",
   "mimetype": "text/x-python",
   "name": "python",
   "nbconvert_exporter": "python",
   "pygments_lexer": "ipython3",
   "version": "3.11.2"
  },
  "orig_nbformat": 4
 },
 "nbformat": 4,
 "nbformat_minor": 2
}
