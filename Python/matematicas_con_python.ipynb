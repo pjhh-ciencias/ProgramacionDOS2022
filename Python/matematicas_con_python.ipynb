{
 "cells": [
  {
   "cell_type": "markdown",
   "metadata": {},
   "source": [
    "# Matemáticas con Python \n",
    "\n",
    "Python se usa ampliamente en *finanzas, simulación, ciencia de datos, análisis estadístico* y en muchos otros campos de trabajo matemáticos intensivos. La razón es que Python hace que trabajar con números sea muy fácil e intuitivo\n",
    "\n",
    "## Operadores aritméticos\n",
    "\n",
    "Enseguida presentamos los operadores aritméticos más comunes que  permiten manipular números en Python."
   ]
  },
  {
   "cell_type": "markdown",
   "metadata": {},
   "source": [
    "### Suma \n",
    "\n",
    "Sean $x,y \\in \\mathbb{R}$, en Python para calcular la suma $x+ y$  utilizamos el operador `+`"
   ]
  },
  {
   "cell_type": "code",
   "execution_count": null,
   "metadata": {},
   "outputs": [
    {
     "data": {
      "text/plain": [
       "7"
      ]
     },
     "metadata": {},
     "output_type": "display_data"
    }
   ],
   "source": [
    "x = 2\n",
    "y = 5\n",
    "\n",
    "sum = x+y \n",
    "sum\n",
    "#print(sum)"
   ]
  },
  {
   "cell_type": "markdown",
   "metadata": {},
   "source": [
    "### Resta\n",
    "\n",
    "Sean $x,y \\in \\mathbb{R}$, en Python para determinar la diferencia $x-y$  utilizamos el operador `-`"
   ]
  },
  {
   "cell_type": "code",
   "execution_count": null,
   "metadata": {},
   "outputs": [
    {
     "name": "stdout",
     "output_type": "stream",
     "text": [
      "-3\n"
     ]
    }
   ],
   "source": [
    "x = 2\n",
    "y = 5\n",
    "\n",
    "dif= x-y\n",
    "print(dif)"
   ]
  },
  {
   "cell_type": "markdown",
   "metadata": {},
   "source": [
    "### Multiplicación \n",
    "\n",
    "Sean $x,y \\in \\mathbb{R}$,  en Python para calcular el producto $x\\cdot y$ utilizamos el operador `*`"
   ]
  },
  {
   "cell_type": "code",
   "execution_count": null,
   "metadata": {},
   "outputs": [
    {
     "name": "stdout",
     "output_type": "stream",
     "text": [
      "15\n"
     ]
    }
   ],
   "source": [
    "x=5\n",
    "y=3\n",
    "\n",
    "prod=x*y\n",
    "print(prod)"
   ]
  },
  {
   "cell_type": "markdown",
   "metadata": {},
   "source": [
    "### División\n",
    "\n",
    "Sean $x,y \\in \\mathbb{R}$ con $y\\not= 0$, en Python para calcular la división $x\\div y$   utilizamos el operador `/`"
   ]
  },
  {
   "cell_type": "code",
   "execution_count": null,
   "metadata": {},
   "outputs": [
    {
     "name": "stdout",
     "output_type": "stream",
     "text": [
      "16.666666666666668\n"
     ]
    }
   ],
   "source": [
    "x = 50\n",
    "y = 3\n",
    "\n",
    "div = x / y\n",
    "print(div)"
   ]
  },
  {
   "cell_type": "code",
   "execution_count": null,
   "metadata": {},
   "outputs": [
    {
     "name": "stdout",
     "output_type": "stream",
     "text": [
      "25.0\n"
     ]
    }
   ],
   "source": [
    "x = 50\n",
    "y = 2\n",
    "\n",
    "div = x / y\n",
    "print(div)"
   ]
  },
  {
   "cell_type": "markdown",
   "metadata": {},
   "source": [
    "### Módulo\n",
    "\n",
    "Sean $a,b \\in \\mathbb{R}$, en Python para encontrar el resto de la división $b\\div a$ se utiliza el operador `%`"
   ]
  },
  {
   "cell_type": "code",
   "execution_count": null,
   "metadata": {},
   "outputs": [
    {
     "name": "stdout",
     "output_type": "stream",
     "text": [
      "1.0\n"
     ]
    }
   ],
   "source": [
    "a=2.5\n",
    "b=6\n",
    "\n",
    "c=b%a\n",
    "print(c)"
   ]
  },
  {
   "cell_type": "markdown",
   "metadata": {},
   "source": [
    "### Potencia \n",
    "\n",
    "Sean $a,n \\in \\mathbb{R}$, para determinar la potencia $a^{n}$ en Python utilizamos el operador: `**`"
   ]
  },
  {
   "cell_type": "code",
   "execution_count": null,
   "metadata": {},
   "outputs": [
    {
     "name": "stdout",
     "output_type": "stream",
     "text": [
      "1.0\n"
     ]
    }
   ],
   "source": [
    "a=-1\n",
    "n=-2\n",
    "\n",
    "pot= a**n\n",
    "print(pot)"
   ]
  },
  {
   "cell_type": "markdown",
   "metadata": {},
   "source": [
    "## Jerarquía de operaciones\n",
    "\n",
    "El orden de las operaciones: PEMDAS."
   ]
  },
  {
   "cell_type": "code",
   "execution_count": null,
   "metadata": {},
   "outputs": [
    {
     "name": "stdout",
     "output_type": "stream",
     "text": [
      "25.0\n",
      "25.0\n"
     ]
    }
   ],
   "source": [
    "x = (4 * 5) + (20 / (2**2))\n",
    "\n",
    "y=4 * 5 + 20 / 2**2\n",
    "\n",
    "print(x)\n",
    "print(y)"
   ]
  },
  {
   "cell_type": "markdown",
   "metadata": {},
   "source": [
    "## Tipos de números de Python\n",
    "\n",
    "Hay tres tipos de números en Python, y son los siguientes:\n",
    "\n",
    "* ***Int*** : Enteros\n",
    "* ***Float*** : Números de punto flotante\n",
    "* ***Complex*** : Números complejos o imaginarios"
   ]
  },
  {
   "cell_type": "code",
   "execution_count": null,
   "metadata": {},
   "outputs": [
    {
     "name": "stdout",
     "output_type": "stream",
     "text": [
      "<class 'int'>\n",
      "<class 'float'>\n",
      "<class 'complex'>\n"
     ]
    }
   ],
   "source": [
    "i=2 #Entero\n",
    "f=2.5  #Float\n",
    "c=1+4j #Complex\n",
    "\n",
    "print(type(i))\n",
    "print(type(f))\n",
    "print(type(c))"
   ]
  },
  {
   "cell_type": "markdown",
   "metadata": {},
   "source": [
    "\n",
    "### Int\n",
    "\n",
    "Tipo de dato utilizado para representar  números enteros (sin decimales) tales como:\n",
    "\n",
    "$$\\ldots, -2,-1,0,1,2,4,5,\\ldots$$"
   ]
  },
  {
   "cell_type": "code",
   "execution_count": null,
   "metadata": {},
   "outputs": [],
   "source": [
    "a=2\n",
    "b=7\n",
    "c=-3"
   ]
  },
  {
   "cell_type": "markdown",
   "metadata": {},
   "source": [
    "\n",
    "### Float\n",
    "\n",
    "Tipo de dato utilizado para representar números de puto flotante como:\n",
    "\n",
    "$$\\ldots, -2.5,-1.1, -1,-0.5, 0.0 , 0.5, 0.75, 1.25, \\ldots$$"
   ]
  },
  {
   "cell_type": "code",
   "execution_count": null,
   "metadata": {},
   "outputs": [],
   "source": [
    "f1=1.25\n",
    "f2=3.141516\n",
    "f3=-.75"
   ]
  },
  {
   "cell_type": "markdown",
   "metadata": {},
   "source": [
    "### Complex\n",
    "\n",
    "Este tipo de dato se utiliza para almacenar **números complejos** o **imaginarios** i.e. números de la forma:\n",
    "$a + bj$ donde $a,b \\in \\mathbb{R}$ y $j$ es la unidad imaginaria definida tal que  $j^{2}=-1$ "
   ]
  },
  {
   "cell_type": "code",
   "execution_count": null,
   "metadata": {},
   "outputs": [],
   "source": [
    "z= 2+8j\n",
    "w=-1.5 + 5j\n",
    "u=4j\n"
   ]
  },
  {
   "cell_type": "markdown",
   "metadata": {},
   "source": []
  },
  {
   "cell_type": "markdown",
   "metadata": {},
   "source": [
    "## Conversión de tipo de número"
   ]
  },
  {
   "cell_type": "code",
   "execution_count": null,
   "metadata": {},
   "outputs": [
    {
     "name": "stdout",
     "output_type": "stream",
     "text": [
      "5.0\n",
      "<class 'float'>\n",
      "7\n",
      "<class 'int'>\n",
      "<class 'complex'>\n",
      "(5+0j)\n"
     ]
    }
   ],
   "source": [
    "a = 5   # int\n",
    "b = 7.5 # float\n",
    "c = 10j  # complex\n",
    "\n",
    "f = float(a)\n",
    "i = int(b)\n",
    "c = complex(a)\n",
    "\n",
    "print(f)\n",
    "print(type(f))\n",
    "\n",
    "print(i)\n",
    "print(type(i))\n",
    "\n",
    "print(type(c))\n",
    "print(c)\n"
   ]
  },
  {
   "cell_type": "markdown",
   "metadata": {},
   "source": [
    "Tenga en cuenta que no puede convertir números complejos en otra cosa."
   ]
  },
  {
   "cell_type": "markdown",
   "metadata": {},
   "source": [
    "## Funciones matemáticas en Python\n",
    "\n",
    "Mencionamos antes que Python se usa mucho en cualquier campo que utilice matemáticas. Los métodos integrados que proporciona Python son una gran razón para ello. Estos son algunos de los más comunes:"
   ]
  },
  {
   "cell_type": "markdown",
   "metadata": {},
   "source": [
    "### Valor absoluto\n",
    "\n",
    "Sea $x \\in \\mathbb{R}$,  en Python para obtener el **valor absoluto** de $x$,  $|x|$ utilizamos el  método: `abs()`"
   ]
  },
  {
   "cell_type": "code",
   "execution_count": null,
   "metadata": {},
   "outputs": [
    {
     "name": "stdout",
     "output_type": "stream",
     "text": [
      "34\n"
     ]
    }
   ],
   "source": [
    "number = -34\n",
    "print(abs(number))"
   ]
  },
  {
   "cell_type": "markdown",
   "metadata": {},
   "source": [
    "### Función máximo entero (función piso o  floor )\n",
    "\n",
    "La función máximo entero $\\lfloor \\cdot \\rfloor\\colon \\mathbb{R} \\to \\mathbb{N} $ asigna  a cada número real $x$ el mayor número entero $n$ menor o igual  que $x$ i.e. \n",
    "$$\\lfloor x\\rfloor := \\max\\{k \\in \\mathbb{Z} \\colon k\\leq x\\}$$\n",
    "de esta manera:\n",
    "$$\\lfloor x\\rfloor = n \\Longleftrightarrow n\\leq x <n+1  $$   \n",
    "\n",
    "**Observación:** Para utilizar este  y otros métodos matemáticos, se debe importar el módulo `.math`"
   ]
  },
  {
   "cell_type": "code",
   "execution_count": null,
   "metadata": {},
   "outputs": [
    {
     "name": "stdout",
     "output_type": "stream",
     "text": [
      "-7\n"
     ]
    }
   ],
   "source": [
    "import math\n",
    "\n",
    "number = 6.87\n",
    "print(math.floor(number))"
   ]
  },
  {
   "cell_type": "code",
   "execution_count": null,
   "metadata": {},
   "outputs": [
    {
     "name": "stdout",
     "output_type": "stream",
     "text": [
      "-2\n"
     ]
    }
   ],
   "source": [
    "number=-1.5\n",
    "\n",
    "print(math.floor(number))"
   ]
  },
  {
   "cell_type": "markdown",
   "metadata": {},
   "source": [
    "### Función techo (función ceil)\n",
    "\n",
    "La función techo $\\lceil \\cdot \\rceil\\colon \\mathbb{R} \\to \\mathbb{N} $ asigna  a cada número real $x$ el menor número entero $n$ mayor o igual  que $x$ i.e. \n",
    "$$\\lceil x\\rceil := \\min\\{k \\in \\mathbb{Z} \\colon x \\leq k\\}$$\n",
    "de esta manera:\n",
    "$$\\lceil x\\rceil = n \\Longleftrightarrow n-1< x \\leq n  $$   \n",
    "\n",
    "**Observación:** Similarmente para utilizar este se debe importar el módulo `.math`"
   ]
  },
  {
   "cell_type": "code",
   "execution_count": null,
   "metadata": {},
   "outputs": [
    {
     "name": "stdout",
     "output_type": "stream",
     "text": [
      "7\n"
     ]
    }
   ],
   "source": [
    "number = 6.21\n",
    "print(math.ceil(number))"
   ]
  },
  {
   "cell_type": "code",
   "execution_count": null,
   "metadata": {},
   "outputs": [
    {
     "name": "stdout",
     "output_type": "stream",
     "text": [
      "-2\n"
     ]
    }
   ],
   "source": [
    "number = -2.1\n",
    "print(math.ceil(number))"
   ]
  },
  {
   "cell_type": "markdown",
   "metadata": {},
   "source": [
    "### Logaritmo natural\n",
    "\n",
    "Sea $x \\in \\mathbb{R}^{+}$, en Python para determinar el logaritmo natural de $x$, $ln(x)$"
   ]
  }
 ],
 "metadata": {
  "kernelspec": {
   "display_name": "Python 3",
   "language": "python",
   "name": "python3"
  },
  "language_info": {
   "name": "python",
   "version": "3.11.0"
  },
  "orig_nbformat": 4,
  "vscode": {
   "interpreter": {
    "hash": "ce4d963573401a72c80fabe1ef75418dde5088fa46d743e51eca5fefbd048d5c"
   }
  }
 },
 "nbformat": 4,
 "nbformat_minor": 2
}
