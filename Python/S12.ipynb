{
 "cells": [
  {
   "attachments": {},
   "cell_type": "markdown",
   "metadata": {},
   "source": [
    "# Argumentos Plot"
   ]
  },
  {
   "attachments": {},
   "cell_type": "markdown",
   "metadata": {},
   "source": [
    "## Argumento `title`"
   ]
  },
  {
   "attachments": {},
   "cell_type": "markdown",
   "metadata": {},
   "source": [
    "Para agregar un título a un gráfico en Matplotlib, puedes utilizar la función plt.title(). Esta función acepta una cadena de texto que se utilizará como título del gráfico. Aquí tienes un ejemplo de cómo utilizar plt.title():"
   ]
  },
  {
   "cell_type": "code",
   "execution_count": null,
   "metadata": {},
   "outputs": [],
   "source": [
    "import matplotlib.pyplot as plt\n",
    "\n",
    "x = [1, 2, 3, 4, 5]\n",
    "y = [2, 4, 6, 8, 10]\n",
    "\n",
    "plt.plot(x, y)\n",
    "plt.title(\"Mi gráfica\", fontsize = 30, color = 'gold', pad = 10)\n",
    "plt.show()\n",
    "\n",
    "\n"
   ]
  },
  {
   "attachments": {},
   "cell_type": "markdown",
   "metadata": {},
   "source": [
    "<center>\n",
    "<table>\n",
    "  <thead>\n",
    "    <tr>\n",
    "      <th>Argumento</th>\n",
    "      <th>Descripción</th>\n",
    "      <th>Ejemplo de Uso</th>\n",
    "      <th>Valores Posibles</th>\n",
    "    </tr>\n",
    "  </thead>\n",
    "  <tbody>\n",
    "    <tr>\n",
    "      <td>label</td>\n",
    "      <td>Etiqueta del gráfico</td>\n",
    "      <td>plt.title(\"Gráfico de ejemplo\")</td>\n",
    "      <td>Cualquier cadena de texto</td>\n",
    "    </tr>\n",
    "    <tr>\n",
    "      <td>fontsize</td>\n",
    "      <td>Tamaño de la fuente del título</td>\n",
    "      <td>plt.title(\"Gráfico de ejemplo\", fontsize=16)</td>\n",
    "      <td>Número entero positivo</td>\n",
    "    </tr>\n",
    "    <tr>\n",
    "      <td>color</td>\n",
    "      <td>Color del texto del título</td>\n",
    "      <td>plt.title(\"Gráfico de ejemplo\", color='blue')</td>\n",
    "      <td>Nombre de color (por ejemplo, 'blue', 'red')</td>\n",
    "    </tr>\n",
    "    <tr>\n",
    "      <td>pad</td>\n",
    "      <td>Espaciado entre el título y el gráfico</td>\n",
    "      <td>plt.title(\"Gráfico de ejemplo\", pad=20)</td>\n",
    "      <td>Número positivo</td>\n",
    "    </tr>\n",
    "    <tr>\n",
    "      <td>loc</td>\n",
    "      <td>Ubicación del título en el gráfico</td>\n",
    "      <td>plt.title(\"Gráfico de ejemplo\", loc='right')</td>\n",
    "      <td>'center', 'left', 'right'</td>\n",
    "    </tr>\n",
    "    <tr>\n",
    "      <td>fontdict</td>\n",
    "      <td>Diccionario con opciones de formato del título</td>\n",
    "      <td>plt.title(\"Gráfico de ejemplo\", fontdict={'fontsize': 16})</td>\n",
    "      <td>Diccionario con opciones de formato</td>\n",
    "    </tr>\n",
    "    <tr>\n",
    "      <td>verticalalignment</td>\n",
    "      <td>Alineación vertical del título</td>\n",
    "      <td>plt.title(\"Gráfico de ejemplo\", verticalalignment='bottom')</td>\n",
    "      <td>'center', 'top', 'bottom'</td>\n",
    "    </tr>\n",
    "    <tr>\n",
    "      <td>horizontalalignment</td>\n",
    "      <td>Alineación horizontal del título</td>\n",
    "      <td>plt.title(\"Gráfico de ejemplo\", horizontalalignment='center')</td>\n",
    "      <td>'center', 'left', 'right'</td>\n",
    "    </tr>\n",
    "  </tbody>\n",
    "</table>\n",
    "\n",
    "</center>"
   ]
  },
  {
   "attachments": {},
   "cell_type": "markdown",
   "metadata": {},
   "source": [
    "## Argumento `linewidth`"
   ]
  },
  {
   "attachments": {},
   "cell_type": "markdown",
   "metadata": {},
   "source": [
    "El argumento `linewidth` en la función `plt.plot()` se utiliza para especificar el grosor de la línea en un gráfico. El argumento `linewidth` acepta un valor numérico que representa el grosor de la línea en puntos. Puedes especificar un número entero o decimal para ajustar el grosor de la línea."
   ]
  },
  {
   "cell_type": "code",
   "execution_count": null,
   "metadata": {},
   "outputs": [],
   "source": [
    "import matplotlib.pyplot as plt\n",
    "\n",
    "x = [1, 2, 3, 4, 5]\n",
    "y = [2, 4, 6, 8, 10]\n",
    "\n",
    "plt.plot(x, y, linewidth=5)\n",
    "plt.title(\"Mi gráfica\", fontsize = 30, color = 'gold', pad = 10)\n",
    "plt.show()"
   ]
  },
  {
   "attachments": {},
   "cell_type": "markdown",
   "metadata": {},
   "source": [
    "## "
   ]
  },
  {
   "attachments": {},
   "cell_type": "markdown",
   "metadata": {},
   "source": [
    "## Argumento `color`"
   ]
  },
  {
   "attachments": {},
   "cell_type": "markdown",
   "metadata": {},
   "source": [
    "El argumento `color` en la función `plt.plot()` se utiliza para especificar el color de la línea o los marcadores en un gráfico. Hay varias formas de utilizar el argumento color:"
   ]
  },
  {
   "attachments": {},
   "cell_type": "markdown",
   "metadata": {},
   "source": [
    "<center>\n",
    "<table>\n",
    "  <thead>\n",
    "    <tr>\n",
    "      <th>Argumento color</th>\n",
    "      <th>Descripción</th>\n",
    "      <th>Ejemplo</th>\n",
    "    </tr>\n",
    "  </thead>\n",
    "  <tbody>\n",
    "    <tr>\n",
    "      <td>Nombre de color</td>\n",
    "      <td>Especifica el color por nombre.</td>\n",
    "      <td><code>color='red',  'cyan', 'magenta', 'yellow', 'black', 'white','aqua', 'fuchsia', 'lime', 'navy', 'silver'</code></td>\n",
    "    </tr>\n",
    "    <tr>\n",
    "      <td>Código hexadecimal</td>\n",
    "      <td>Especifica el color por código hexadecimal.</td>\n",
    "      <td><code>color='#FF0000'</code></td>\n",
    "    </tr>\n",
    "    <tr>\n",
    "      <td>Código RGB</td>\n",
    "      <td>Especifica el color por código RGB (0 a 1).</td>\n",
    "      <td><code>color=(0.2, 0.4, 0.6)</code></td>\n",
    "    </tr>\n",
    "  </tbody>\n",
    "</table>\n",
    "\n",
    "</center>\n",
    "\n",
    "Además de los nombres de colores que mencioné anteriormente, aquí tienes una lista adicional de nombres de colores que puedes utilizar en Matplotlib:\n",
    "\n",
    "* **Gris:** 'gray', 'dimgray', 'lightgray', 'darkgray', 'gainsboro', 'lightsteelblue', 'slategray', 'lightslategray', 'dimgrey', 'lightslategrey'\n",
    "\n",
    "* **Marrón:** 'brown', 'maroon', 'saddlebrown', 'sienna', 'chocolate', 'peru', 'rosybrown', 'sandybrown', 'tan'\n",
    "\n",
    "* **Púrpura:** 'purple', 'indigo', 'darkorchid', 'darkviolet', 'mediumorchid', 'blueviolet', 'mediumpurple', 'rebeccapurple', 'plum', 'violet'\n",
    "\n",
    "* **Rosa:** 'pink', 'lightpink', 'hotpink', 'deeppink', 'palevioletred', 'mediumvioletred'\n",
    "\n",
    "* **Naranja:** 'orange', 'darkorange', 'coral', 'tomato', 'orangered', 'gold'\n",
    "\n",
    "* **Amarillo:** 'yellow', 'lightyellow', 'lemonchiffon', 'lightgoldenrodyellow', 'palegoldenrod', 'khaki'\n",
    "\n",
    "* **Verde:** 'green', 'darkgreen', 'forestgreen', 'limegreen', 'mediumseagreen', 'seagreen', 'olive', 'olivedrab', 'chartreuse', 'lawngreen'\n",
    "\n",
    "* **Cian:** 'cyan', 'darkcyan', 'teal', 'lightcyan', 'aquamarine', 'mediumaquamarine', 'paleturquoise', 'turquoise', 'mediumturquoise'\n",
    "\n",
    "* **Azul:** 'blue', 'navy', 'darkblue', 'mediumblue', 'royalblue', 'cornflowerblue', 'lightblue', 'deepskyblue', 'dodgerblue', 'steelblue', 'skyblue', 'lightskyblue', 'slateblue', 'mediumslateblue'"
   ]
  },
  {
   "cell_type": "code",
   "execution_count": null,
   "metadata": {},
   "outputs": [],
   "source": [
    "import matplotlib.pyplot as plt\n",
    "import numpy as np\n",
    "\n",
    "x = np.arange(-5,6,1)\n",
    "y = 2*x\n",
    "z= -2*x\n",
    "w= 0*x\n",
    "\n",
    "plt.plot(x, y, linewidth=1, color='gold')\n",
    "plt.plot(x, z, linewidth=1, color='#FF0000')\n",
    "plt.plot(x, w, linewidth=5, color=(0.85, 0.1, 0.9))\n",
    "plt.plot(np.zeros(21),np.array(range(-10,11)),linewidth =  5,  color = 'k')\n",
    "plt.title(\"Mi gráfica\", fontsize = 30, color = 'tomato', pad = 10)\n",
    "\n",
    "plt.show()"
   ]
  },
  {
   "cell_type": "code",
   "execution_count": null,
   "metadata": {},
   "outputs": [],
   "source": [
    "np.zeros(2)"
   ]
  },
  {
   "attachments": {},
   "cell_type": "markdown",
   "metadata": {},
   "source": [
    "## Argumento `marker` "
   ]
  },
  {
   "attachments": {},
   "cell_type": "markdown",
   "metadata": {},
   "source": [
    "El argumento `marker` en la función `plt.plot()` se utiliza para agregar marcadores en los puntos de datos:"
   ]
  },
  {
   "attachments": {},
   "cell_type": "markdown",
   "metadata": {},
   "source": [
    "<center>\n",
    "<table>\n",
    "  <thead>\n",
    "    <tr>\n",
    "      <th>Marker</th>\n",
    "      <th>Descripción</th>\n",
    "      <th>Ejemplo</th>\n",
    "    </tr>\n",
    "  </thead>\n",
    "  <tbody>\n",
    "    <tr>\n",
    "      <td>.</td>\n",
    "      <td>Marcador de punto</td>\n",
    "      <td><code>marker='.' </code></td>\n",
    "    </tr>\n",
    "    <tr>\n",
    "      <td>,</td>\n",
    "      <td>Marcador de pixel</td>\n",
    "      <td><code>marker=',' </code></td>\n",
    "    </tr>\n",
    "    <tr>\n",
    "      <td>o</td>\n",
    "      <td>Marcador circular</td>\n",
    "      <td><code>marker='o' </code></td>\n",
    "    </tr>\n",
    "    <tr>\n",
    "      <td>v</td>\n",
    "      <td>Marcador de triángulo hacia abajo</td>\n",
    "      <td><code>marker='v' </code></td>\n",
    "    </tr>\n",
    "    <tr>\n",
    "      <td>^</td>\n",
    "      <td>Marcador de triángulo hacia arriba</td>\n",
    "      <td><code>marker='^' </code></td>\n",
    "    </tr>\n",
    "    <tr>\n",
    "      <td>&lt;</td>\n",
    "      <td>Marcador de triángulo hacia la izquierda</td>\n",
    "      <td><code>marker='&lt;' </code></td>\n",
    "    </tr>\n",
    "    <tr>\n",
    "      <td>&gt;</td>\n",
    "      <td>Marcador de triángulo hacia la derecha</td>\n",
    "      <td><code>marker='&gt;' </code></td>\n",
    "    </tr>\n",
    "    <tr>\n",
    "      <td>1</td>\n",
    "      <td>Marcador de triángulo hacia abajo (fino)</code></td>\n",
    "      <td><code>marker='1' </code></td>\n",
    "    </tr>\n",
    "    <tr>\n",
    "      <td>2</td>\n",
    "      <td>Marcador de triángulo hacia arriba (fino)</code></td>\n",
    "      <td><code>marker='2' </code></td>\n",
    "    </tr>\n",
    "    <tr>\n",
    "      <td>3</td>\n",
    "      <td>Marcador de triángulo hacia la izquierda (fino)</code></td>\n",
    "      <td><code>marker='3' </code></td>\n",
    "    </tr>\n",
    "    <tr>\n",
    "      <td>4</td>\n",
    "      <td>Marcador de triángulo hacia la derecha (fino)</code></td>\n",
    "      <td><code>marker='4' </code></td>\n",
    "    </tr>\n",
    "    <tr>\n",
    "      <td>s</td>\n",
    "      <td>Marcador cuadrado</td>\n",
    "      <td><code>marker='s' </code></td>\n",
    "    </tr>\n",
    "    <tr>\n",
    "      <td>p</td>\n",
    "      <td>Marcador de pentágono</td>\n",
    "      <td><code>marker='p' </code></td>\n",
    "    </tr>\n",
    "    <tr>\n",
    "      <td>*</td>\n",
    "      <td>Marcador de estrella</td>\n",
    "      <td><code>marker='*' </code></td>\n",
    "    </tr>\n",
    "    <tr>\n",
    "      <td>h</td>\n",
    "      <td>Marcador de hexágono (1)</code></td>\n",
    "      <td><code>marker='h' </code></td>\n",
    "    </tr>\n",
    "    <tr>\n",
    "      <td>H</td>\n",
    "      <td>Marcador de hexágono (2)</code></td>\n",
    "      <td><code>marker='H' </code></td>\n",
    "    </tr>\n",
    "    <tr>\n",
    "      <td>+</td>\n",
    "      <td>Marcador de cruz</td>\n",
    "      <td><code>marker='+' </code></td>\n",
    "    </tr>\n",
    "    <tr>\n",
    "      <td>x</td>\n",
    "      <td>Marcador de equis</td>\n",
    "      <td><code>marker='x' </code></td>\n",
    "    </tr>\n",
    "    <tr>\n",
    "      <td>D</td>\n",
    "      <td>Marcador de diamante</td>\n",
    "      <td><code>marker='D' </code></td>\n",
    "    </tr>\n",
    "    <tr>\n",
    "      <td>d</td>\n",
    "      <td>Marcador de diamante delgado</td>\n",
    "      <td><code>marker='d' </code></td>\n",
    "    </tr>\n",
    "  </tbody>\n",
    "</table>\n",
    "\n",
    "</center>"
   ]
  },
  {
   "cell_type": "code",
   "execution_count": null,
   "metadata": {},
   "outputs": [],
   "source": [
    "import matplotlib.pyplot as plt\n",
    "import numpy as np\n",
    "\n",
    "x = np.arange(-5,6,1)\n",
    "y = 2*x\n",
    "z= -2*x\n",
    "w= 0*x\n",
    "\n",
    "plt.plot(x, y, linewidth=0.5, color='gold', marker = 'v')\n",
    "plt.plot(x, z, linewidth=0.5,color='#FF0000', marker = '*' )\n",
    "plt.title(\"Mi gráfica\", fontsize = 30, color = 'tomato', pad = 10)\n",
    "plt.show()"
   ]
  },
  {
   "attachments": {},
   "cell_type": "markdown",
   "metadata": {},
   "source": [
    "## Argumento `markersize` "
   ]
  },
  {
   "attachments": {},
   "cell_type": "markdown",
   "metadata": {},
   "source": [
    "El argumento `markersize` en la función `plt.plot()` de Matplotlib se utiliza para especificar el tamaño de los marcadores en un gráfico. Te permite controlar el tamaño de los puntos o símbolos utilizados para representar los datos en el gráfico."
   ]
  },
  {
   "cell_type": "code",
   "execution_count": null,
   "metadata": {},
   "outputs": [],
   "source": [
    "import matplotlib.pyplot as plt\n",
    "import numpy as np\n",
    "\n",
    "x = np.arange(-5,6,1)\n",
    "y = 2*x\n",
    "z= -2*x\n",
    "w= 0*x\n",
    "\n",
    "plt.plot(x, y, linewidth=0.5, color='gold', marker = 'v', markersize = 5)\n",
    "plt.plot(x, z, linewidth=0.5,color='#FF0000', marker = '*',markersize = 20 )\n",
    "plt.title(\"Mi gráfica\", fontsize = 30, color = 'tomato', pad = 10)\n",
    "plt.show()\n",
    "\n"
   ]
  },
  {
   "attachments": {},
   "cell_type": "markdown",
   "metadata": {},
   "source": [
    "## Argumento `markerfacecolor`"
   ]
  },
  {
   "attachments": {},
   "cell_type": "markdown",
   "metadata": {},
   "source": [
    "El argumento `markerfacecolor` en la función `plt.plot()` se utiliza para especificar el color del relleno de los marcadores en un gráfico. Puedes utilizarlo para personalizar el color del área interior de los marcadores"
   ]
  },
  {
   "cell_type": "code",
   "execution_count": null,
   "metadata": {},
   "outputs": [],
   "source": [
    "import matplotlib.pyplot as plt\n",
    "import numpy as np\n",
    "\n",
    "x = np.arange(-5,6,1)\n",
    "y = 2*x\n",
    "\n",
    "plt.plot(x, y, linewidth=0.5, color='blue', marker = 'h', markersize = 10, markerfacecolor='lightblue')\n",
    "plt.plot(x, z, linewidth=0.5,color='#FF0000', marker = '*',markersize = 20, markerfacecolor='cyan' )\n",
    "plt.title(\"Mi gráfica\", fontsize = 30, color = 'tomato', pad = 10)\n",
    "plt.show()\n",
    "\n",
    "\n"
   ]
  },
  {
   "attachments": {},
   "cell_type": "markdown",
   "metadata": {},
   "source": [
    "## Argumento `markeredgecolor`"
   ]
  },
  {
   "attachments": {},
   "cell_type": "markdown",
   "metadata": {},
   "source": [
    "El argumento `markeredgecolor` se puede utilizar junto con el argumento marker para personalizar el color del borde de los marcadores. Al igual que con `markerfacecolor`, puedes utilizar diferentes formas de especificar el color."
   ]
  },
  {
   "cell_type": "code",
   "execution_count": null,
   "metadata": {},
   "outputs": [],
   "source": [
    "import matplotlib.pyplot as plt\n",
    "import numpy as np\n",
    "\n",
    "x = np.arange(-5,6,1)\n",
    "y = 2*x\n",
    "\n",
    "plt.plot(x, y, linewidth=0.5, color='blue', marker = 'h', markersize = 10, markerfacecolor='gold', markeredgecolor = 'r')\n",
    "plt.plot(x, z, linewidth=0.5,color='#FF0000', marker = '*',markersize = 20, markerfacecolor='cyan',markeredgecolor = 'g' )\n",
    "plt.title(\"Mi gráfica\", fontsize = 30, color = 'tomato', pad = 10)\n",
    "plt.show()\n"
   ]
  },
  {
   "attachments": {},
   "cell_type": "markdown",
   "metadata": {},
   "source": [
    "## Argumento `alpha` "
   ]
  },
  {
   "attachments": {},
   "cell_type": "markdown",
   "metadata": {},
   "source": [
    "El argumento `alpha` en la función `plt.plot()` de Matplotlib se utiliza para controlar la transparencia de la línea o los marcadores en un gráfico. Permite ajustar la opacidad de los elementos trazos, donde un valor de alpha menor a 1 los hará más transparentes y un valor de 1 los hará completamente opacos."
   ]
  },
  {
   "cell_type": "code",
   "execution_count": null,
   "metadata": {},
   "outputs": [],
   "source": [
    "import matplotlib.pyplot as plt\n",
    "import numpy as np\n",
    "\n",
    "x = np.arange(-5,6,1)\n",
    "y = 2*x\n",
    "\n",
    "plt.plot(x, y, linewidth=0.5, color='blue', marker = 'h', markersize = 10, markerfacecolor='gold', markeredgecolor = 'r', alpha = 0.1)\n",
    "plt.plot(x, z, linewidth=0.5,color='#FF0000', marker = '*',markersize = 20, markerfacecolor='cyan',markeredgecolor = 'g', alpha = 0.75 )\n",
    "plt.title(\"Mi gráfica\", fontsize = 30, color = 'tomato', pad = 10)\n",
    "plt.show()\n"
   ]
  },
  {
   "attachments": {},
   "cell_type": "markdown",
   "metadata": {},
   "source": [
    "## El argumento `scalex`"
   ]
  },
  {
   "attachments": {},
   "cell_type": "markdown",
   "metadata": {},
   "source": [
    "El argumento `scalex` en Matplotlib se utiliza para controlar si el eje x del gráfico se escala automáticamente según los datos proporcionados o si se mantiene fijo.\n",
    "\n",
    "* **scalex:** Este argumento se utiliza para controlar el escalado del eje x del gráfico. Acepta dos posibles valores:\n",
    "  * **True:** (valor predeterminado): Permite el escalado automático del eje x en función de los datos proporcionados. Los valores de x se ajustarán automáticamente al rango del gráfico.\n",
    "  * **False:** Desactiva el escalado automático del eje x y mantiene los valores de x tal como se especificaron en los datos proporcionados. Los valores de x se mostrarán sin ajustes en el gráfico.\n",
    "\n",
    "\n",
    "  \n",
    "* **scaley:** Este argumento se utiliza de manera similar al scalex, pero se aplica al eje y del gráfico. También acepta dos posibles valores:\n",
    "    * **True:** (valor predeterminado): Permite el escalado automático del eje y en función de los datos proporcionados. Los valores de y se ajustarán automáticamente al rango del gráfico.\n",
    "    * **False:** Desactiva el escalado automático del eje y y mantiene los valores de y tal como se especificaron en los datos proporcionados. Los valores de y se mostrarán sin ajustes en el gráfico."
   ]
  },
  {
   "cell_type": "code",
   "execution_count": null,
   "metadata": {},
   "outputs": [],
   "source": [
    "import matplotlib.pyplot as plt\n",
    "import numpy as np\n",
    "\n",
    "x = np.arange(-5,6,1)\n",
    "y = 2*x\n",
    "\n",
    "plt.plot(x, y, linewidth=0.5, color='blue', marker = 'h', markersize = 10, markerfacecolor='gold', markeredgecolor = 'r', alpha = .95, scalex =False, scaley =False)\n",
    "plt.plot(x, z, linewidth=0.5,color='#FF0000', marker = '*',markersize = 20, markerfacecolor='cyan',markeredgecolor = 'g', alpha = 0.75, scalex =False, scaley =True )\n",
    "plt.title(\"Mi gráfica\", fontsize = 30, color = 'tomato', pad = 10)\n",
    "plt.show()"
   ]
  },
  {
   "attachments": {},
   "cell_type": "markdown",
   "metadata": {},
   "source": [
    "Con una escala logarítmica en el eje x, los valores se distribuyen en una escala logarítmica, lo que puede ser útil cuando los datos abarcan un amplio rango y se desean resaltar diferencias en los valores más pequeños."
   ]
  },
  {
   "attachments": {},
   "cell_type": "markdown",
   "metadata": {},
   "source": [
    "## Argumento `legend`"
   ]
  },
  {
   "attachments": {},
   "cell_type": "markdown",
   "metadata": {},
   "source": [
    "El argumento `legend` en la función `plt.plot()` de Matplotlib proporciona varias configuraciones adicionales para personalizar la apariencia y ubicación de la leyenda en el gráfico. Algunas de las configuraciones más comunes son las siguientes:"
   ]
  },
  {
   "attachments": {},
   "cell_type": "markdown",
   "metadata": {},
   "source": [
    "<center>\n",
    "<table>\n",
    "  <tr>\n",
    "    <th>Argumento</th>\n",
    "    <th>Descripción</th>\n",
    "    <th>Posibles Valores</th>\n",
    "    <th>Ejemplo</th>\n",
    "  </tr>\n",
    "  <tr>\n",
    "    <td>loc</td>\n",
    "    <td>Especifica la ubicación de la leyenda en el gráfico.</td>\n",
    "    <td>'best', 'upper right', 'upper left', 'lower left', 'lower right', 'right', 'center left', 'center right', 'lower center', 'upper center', 'center'</td>\n",
    "    <td>plt.legend(loc='upper right')</td>\n",
    "  </tr>\n",
    "  <tr>\n",
    "    <td>title</td>\n",
    "    <td>Establece un título para la leyenda.</td>\n",
    "    <td>Cualquier cadena de texto</td>\n",
    "    <td>plt.legend(title='Leyenda')</td>\n",
    "  </tr>\n",
    "  <tr>\n",
    "    <td>fontsize</td>\n",
    "    <td>Especifica el tamaño de fuente de la leyenda.</td>\n",
    "    <td>Valor numérico (por ejemplo, 10, 12, 14)</td>\n",
    "    <td>plt.legend(fontsize=12)</td>\n",
    "  </tr>\n",
    "  <tr>\n",
    "    <td>frameon</td>\n",
    "    <td>Indica si se muestra un marco alrededor de la leyenda.</td>\n",
    "    <td>True, False</td>\n",
    "    <td>plt.legend(frameon=False)</td>\n",
    "  </tr>\n",
    "  <tr>\n",
    "    <td>shadow</td>\n",
    "    <td>Añade una sombra a la leyenda.</td>\n",
    "    <td>True, False</td>\n",
    "    <td>plt.legend(shadow=True)</td>\n",
    "  </tr>\n",
    "  <tr>\n",
    "    <td>borderaxespad</td>\n",
    "    <td>Ajusta el espaciado entre la leyenda y los ejes del gráfico.</td>\n",
    "    <td>Valor numérico (por ejemplo, 0.5, 1.0)</td>\n",
    "    <td>plt.legend(borderaxespad=0.5)</td>\n",
    "  </tr>\n",
    "  <tr>\n",
    "    <td>bbox_to_anchor</td>\n",
    "    <td>Permite posicionar la leyenda utilizando coordenadas relativas al gráfico.</td>\n",
    "    <td>Tupla de coordenadas (por ejemplo, (0.5, 0.5))</td>\n",
    "    <td>plt.legend(bbox_to_anchor=(0.5, 0.5))</td>\n",
    "  </tr>\n",
    "</table>\n",
    "\n",
    "</center>"
   ]
  },
  {
   "cell_type": "code",
   "execution_count": null,
   "metadata": {},
   "outputs": [],
   "source": [
    "import matplotlib.pyplot as plt\n",
    "import numpy as np\n",
    "\n",
    "x = np.arange(-5,6,1)\n",
    "y = 2*x\n",
    "\n",
    "\n",
    "\n",
    "#plt.plot(x, y, linewidth=0.5, color='blue', marker = 'h', markersize = 10, markerfacecolor='gold', markeredgecolor = 'r', alpha = 0.1)\n",
    "plt.plot(x, z, linewidth=0.5, color='#FF0000', marker = '*',markersize = 20, markerfacecolor='cyan',markeredgecolor = 'g', alpha = 0.75 )\n",
    "plt.title(\"Mi gráfica\", fontsize = 30, color = 'tomato', pad = 10)\n",
    "plt.legend(title = 'Mi titulo', shadow = True, borderaxespad = 0.5, frameon = True, fontsize = 50 )\n",
    "plt.show()"
   ]
  },
  {
   "cell_type": "code",
   "execution_count": null,
   "metadata": {},
   "outputs": [],
   "source": [
    "import matplotlib.pyplot as plt\n",
    "import numpy as np\n",
    "\n",
    "x = np.arange(-5,6,1)\n",
    "y = 2*x\n",
    "\n",
    "\n",
    "\n",
    "plt.plot(x, y, linewidth=0.5, color='blue', marker = 'h', markersize = 10, markerfacecolor='gold', markeredgecolor = 'r', alpha = 0.1, label = '$y=x$')\n",
    "plt.plot(x, z, linewidth=0.5, color='#FF0000', marker = '*',markersize = 20, markerfacecolor='cyan',markeredgecolor = 'g', alpha = 0.75, label = '$y=-x$' )\n",
    "plt.title(\"Mi gráfica\", fontsize = 30, color = 'tomato', pad = 10)\n",
    "plt.legend(title = 'Mi titulo', shadow = True, borderaxespad = 0.5, frameon = True, fontsize = 10 )\n",
    "plt.show()"
   ]
  },
  {
   "attachments": {},
   "cell_type": "markdown",
   "metadata": {},
   "source": [
    "## Argumento `grid`"
   ]
  },
  {
   "attachments": {},
   "cell_type": "markdown",
   "metadata": {},
   "source": [
    "El argumento `grid` en la función `plt.plot()` de Matplotlib se utiliza para controlar si se muestra una cuadrícula en el fondo del gráfico. La cuadrícula consiste en líneas horizontales y verticales que se extienden a lo largo del gráfico."
   ]
  },
  {
   "attachments": {},
   "cell_type": "markdown",
   "metadata": {},
   "source": [
    "<center>\n",
    "<table>\n",
    "  <tr>\n",
    "    <th>Valor</th>\n",
    "    <th>Descripción</th>\n",
    "  </tr>\n",
    "  <tr>\n",
    "    <td>True</td>\n",
    "    <td>Muestra la cuadrícula en el fondo del gráfico.</td>\n",
    "  </tr>\n",
    "  <tr>\n",
    "    <td>False</td>\n",
    "    <td>No muestra la cuadrícula.</td>\n",
    "  </tr>\n",
    "  <tr>\n",
    "    <td>'major'</td>\n",
    "    <td>Muestra la cuadrícula solo en las ubicaciones de las marcas principales en los ejes.</td>\n",
    "  </tr>\n",
    "  <tr>\n",
    "    <td>'minor'</td>\n",
    "    <td>Muestra la cuadrícula solo en las ubicaciones de las marcas menores en los ejes.</td>\n",
    "  </tr>\n",
    "</table>\n",
    "\n",
    "</center>"
   ]
  },
  {
   "cell_type": "code",
   "execution_count": null,
   "metadata": {},
   "outputs": [],
   "source": [
    "import matplotlib.pyplot as plt\n",
    "import numpy as np\n",
    "\n",
    "x = np.arange(-5,6,1)\n",
    "y = 2*x\n",
    "\n",
    "plt.plot(x, y, linewidth=0.5, color='blue', marker = 'h', markersize = 10, markerfacecolor='gold', markeredgecolor = 'r', alpha = 0.1, label = '$y=x$')\n",
    "plt.plot(x, z, linewidth=0.5, color='#FF0000', marker = '*',markersize = 20, markerfacecolor='cyan',markeredgecolor = 'g', alpha = 0.75, label = '$y=-x$' )\n",
    "plt.title(\"Mi gráfica\", fontsize = 30, color = 'tomato', pad = 10)\n",
    "plt.legend(title = 'Mi titulo', shadow = True, borderaxespad = 0.5, frameon = True, fontsize = 10 )\n",
    "plt.grid(True)\n",
    "plt.show()"
   ]
  },
  {
   "attachments": {},
   "cell_type": "markdown",
   "metadata": {},
   "source": [
    "## Argumento `plt.xticks()` y `plt.yticks()`"
   ]
  },
  {
   "attachments": {},
   "cell_type": "markdown",
   "metadata": {},
   "source": [
    "Los argumentos `plt.xticks()` y `plt.yticks()` en la función `plt.plot()` de Matplotlib se utilizan para personalizar las marcas y etiquetas en los ejes x e y de un gráfico respectivamente. Estas funciones permiten controlar las posiciones y los textos de las marcas en los ejes para mejorar la legibilidad y la presentación de los datos."
   ]
  },
  {
   "cell_type": "code",
   "execution_count": null,
   "metadata": {},
   "outputs": [],
   "source": [
    "import matplotlib.pyplot as plt\n",
    "\n",
    "x = [1, 2, 3, 4, 5]\n",
    "y = [2, 4, 6, 8, 10]\n",
    "\n",
    "plt.plot(x, y)\n",
    "plt.grid()\n",
    "\n",
    "plt.xticks(x, ['a', 'b', 'c','d','e'])\n",
    "plt.yticks(y, ['f(a)','f(b)','f(c)','f(d)','f(e)'])\n",
    "plt.show()\n"
   ]
  },
  {
   "attachments": {},
   "cell_type": "markdown",
   "metadata": {},
   "source": [
    "Los argumentos opcionales que se pueden utilizar con las funciones plt.xticks() y plt.yticks() en Matplotlib permiten personalizar aún más las marcas y etiquetas en los ejes x e y de un gráfico:\n",
    "\n",
    "<center>\n",
    "<table>\n",
    "  <thead>\n",
    "    <tr>\n",
    "      <th>Argumento</th>\n",
    "      <th>Descripción</th>\n",
    "      <th>Ejemplo de Uso</th>\n",
    "    </tr>\n",
    "  </thead>\n",
    "  <tbody>\n",
    "    <tr>\n",
    "      <td>labels</td>\n",
    "      <td>Etiquetas personalizadas para las marcas</td>\n",
    "      <td>plt.xticks([1, 3, 5], labels=['A', 'B', 'C'])</td>\n",
    "    </tr>\n",
    "    <tr>\n",
    "      <td>rotation</td>\n",
    "      <td>Rotación de las etiquetas en grados</td>\n",
    "      <td>plt.xticks(rotation=45)</td>\n",
    "    </tr>\n",
    "    <tr>\n",
    "      <td>fontsize</td>\n",
    "      <td>Tamaño de la fuente de las etiquetas</td>\n",
    "      <td>plt.xticks(fontsize=12)</td>\n",
    "    </tr>\n",
    "    <tr>\n",
    "      <td>color</td>\n",
    "      <td>Color de las etiquetas de las marcas</td>\n",
    "      <td>plt.xticks(color='red')</td>\n",
    "    </tr>\n",
    "    <tr>\n",
    "      <td>alpha</td>\n",
    "      <td>Transparencia de las etiquetas</td>\n",
    "      <td>plt.xticks(alpha=0.5)</td>\n",
    "    </tr>\n",
    "    <tr>\n",
    "      <td>horizontalalignment (solo para plt.yticks())</td>\n",
    "      <td>Alineación horizontal de las etiquetas en el eje y</td>\n",
    "      <td>plt.yticks(horizontalalignment='right')</td>\n",
    "    </tr>\n",
    "    <tr>\n",
    "      <td>verticalalignment (solo para plt.xticks())</td>\n",
    "      <td>Alineación vertical de las etiquetas en el eje x</td>\n",
    "      <td>plt.xticks(verticalalignment='top')</td>\n",
    "    </tr>\n",
    "  </tbody>\n",
    "</table>\n",
    "\n",
    "</center>"
   ]
  },
  {
   "attachments": {},
   "cell_type": "markdown",
   "metadata": {},
   "source": [
    "# Graficando funciones "
   ]
  },
  {
   "attachments": {},
   "cell_type": "markdown",
   "metadata": {},
   "source": [
    "## función `linspace()`"
   ]
  },
  {
   "attachments": {},
   "cell_type": "markdown",
   "metadata": {},
   "source": [
    "La función `linspace()` de `NumPy` se utiliza para **generar una secuencia de números espaciados uniformemente dentro de un intervalo especificado**."
   ]
  },
  {
   "attachments": {},
   "cell_type": "markdown",
   "metadata": {},
   "source": [
    "La sintaxis general de la función linspace() es la siguiente:\n",
    "\n",
    "`np.linspace(start, stop, num=50, endpoint=True, retstep=False, dtype=None)`\n"
   ]
  },
  {
   "attachments": {},
   "cell_type": "markdown",
   "metadata": {},
   "source": [
    "*   **start:** Es el valor de inicio de la secuencia.\n",
    "\n",
    "*  **stop:** Es el valor final de la secuencia. Este valor está incluido en la secuencia, a menos que se especifique `endpoint=False`.\n",
    " \n",
    "*  **num:** Especifica el número de elementos que se generarán en la secuencia. Por defecto, es igual a 50.\n",
    "\n",
    "* **endpoint:** Un valor booleano que indica si el stop debe incluirse en la secuencia o no. Si se establece en `False`, el `stop` no se incluirá en la secuencia generada. Por defecto, es `True`.\n",
    "  \n",
    "* **retstep:** Un valor booleano que indica si se debe devolver el espaciado entre los elementos de la secuencia. Si se establece en `True`, la función devuelve una tupla donde el segundo elemento es el espaciado entre los elementos. Por defecto, es `False`.\n",
    "\n",
    "* **dtype:** Especifica el tipo de datos de los elementos en la secuencia generada. Por defecto, se utiliza el tipo de datos de los argumentos `start` y `stop`."
   ]
  },
  {
   "attachments": {},
   "cell_type": "markdown",
   "metadata": {},
   "source": [
    "Algunos ejemplos de tipos de datos (`dtype`) que se pueden especificar al utilizar `NumPy`:"
   ]
  },
  {
   "attachments": {},
   "cell_type": "markdown",
   "metadata": {},
   "source": [
    "<center>\n",
    "<table>\n",
    "  <thead>\n",
    "    <tr>\n",
    "      <th>Tipo de Datos</th>\n",
    "      <th>Descripción</th>\n",
    "      <th>Ejemplo</th>\n",
    "    </tr>\n",
    "  </thead>\n",
    "  <tbody>\n",
    "    <tr>\n",
    "      <td>int</td>\n",
    "      <td>Entero</td>\n",
    "      <td><code>np.array([1, 2, 3], dtype=int)</code></td>\n",
    "    </tr>\n",
    "    <tr>\n",
    "      <td>float</td>\n",
    "      <td>Número de punto flotante</td>\n",
    "      <td><code>np.array([1.0, 2.5, 3.7], dtype=float)</code></td>\n",
    "    </tr>\n",
    "    <tr>\n",
    "      <td>bool</td>\n",
    "      <td>Valor booleano</td>\n",
    "      <td><code>np.array([True, False, True], dtype=bool)</code></td>\n",
    "    </tr>\n",
    "    <tr>\n",
    "      <td>str</td>\n",
    "      <td>Cadena de caracteres</td>\n",
    "      <td><code>np.array([\"hola\", \"mundo\"], dtype=str)</code></td>\n",
    "    </tr>\n",
    "    <tr>\n",
    "      <td>complex</td>\n",
    "      <td>Número complejo</td>\n",
    "      <td><code>np.array([2 + 3j, 4 - 2j], dtype=complex)</code></td>\n",
    "    </tr>\n",
    "    <tr>\n",
    "      <td>uint</td>\n",
    "      <td>Entero sin signo</td>\n",
    "      <td><code>np.array([10, 20, 30], dtype=np.uint16)</code></td>\n",
    "    </tr>\n",
    "  </tbody>\n",
    "</table>\n",
    "</center>\n"
   ]
  },
  {
   "cell_type": "code",
   "execution_count": null,
   "metadata": {},
   "outputs": [],
   "source": [
    "import numpy as np\n",
    "\n",
    "a=0; b=1\n",
    "\n",
    "particion = np.linspace(a, b, 100)\n",
    "\n",
    "print(particion)"
   ]
  },
  {
   "attachments": {},
   "cell_type": "markdown",
   "metadata": {},
   "source": [
    "## Configurar la impresión de decimales "
   ]
  },
  {
   "attachments": {},
   "cell_type": "markdown",
   "metadata": {},
   "source": [
    "Si deseas mostrar solo dos decimales al imprimir los valores de un `array` `NumPy`, puedes utilizar la función `np.set_printoptions()` de NumPy y configurar el atributo precision en 2."
   ]
  },
  {
   "cell_type": "code",
   "execution_count": null,
   "metadata": {},
   "outputs": [],
   "source": [
    "np.set_printoptions(precision=2)"
   ]
  },
  {
   "cell_type": "code",
   "execution_count": null,
   "metadata": {},
   "outputs": [],
   "source": [
    "print(particion)"
   ]
  },
  {
   "attachments": {},
   "cell_type": "markdown",
   "metadata": {},
   "source": [
    "Esto **afectará la visualización de todos los arrays NumPy en tu código después de llamar a `np.set_printoptions()`.** Si deseas restaurar la configuración predeterminada, utiliza `np.set_printoptions(precision=8)` estableciendo el valor de precision en su valor predeterminado, que es 8."
   ]
  },
  {
   "cell_type": "code",
   "execution_count": null,
   "metadata": {},
   "outputs": [],
   "source": [
    "np.set_printoptions(precision = 8)\n",
    "print(particion)"
   ]
  },
  {
   "attachments": {},
   "cell_type": "markdown",
   "metadata": {},
   "source": [
    "## Gráfica de la función seno y coseno"
   ]
  },
  {
   "cell_type": "code",
   "execution_count": null,
   "metadata": {},
   "outputs": [],
   "source": [
    "import matplotlib.pyplot as plt\n",
    "import numpy as np\n",
    "\n",
    "def funcion(x):\n",
    "    return np.sin(x)\n",
    "\n",
    "x = np.linspace(-2*np.pi, 2*np.pi, 100) \n",
    "y = funcion(x)\n",
    "z = np.cos(x)\n",
    "\n",
    "\n",
    "plt.plot(x, y, label=\"$Sen(x)$\", color='darkcyan', linestyle = '-', linewidth =1  )\n",
    "plt.plot(x, z, label=\"$Cos(x)$\", color='lime', linestyle = '-', linewidth =1  )\n",
    "plt.xlabel('x')\n",
    "plt.ylabel('y')\n",
    "plt.title('Gráfico de la función seno')\n",
    "plt.grid(True)\n",
    "\n",
    "plt.legend()\n",
    "# Mostrar el gráfico\n",
    "plt.show()\n"
   ]
  },
  {
   "cell_type": "code",
   "execution_count": null,
   "metadata": {},
   "outputs": [],
   "source": []
  },
  {
   "cell_type": "code",
   "execution_count": null,
   "metadata": {},
   "outputs": [],
   "source": []
  }
 ],
 "metadata": {
  "kernelspec": {
   "display_name": "Python 3",
   "language": "python",
   "name": "python3"
  },
  "language_info": {
   "codemirror_mode": {
    "name": "ipython",
    "version": 3
   },
   "file_extension": ".py",
   "mimetype": "text/x-python",
   "name": "python",
   "nbconvert_exporter": "python",
   "pygments_lexer": "ipython3",
   "version": "3.9.13"
  },
  "orig_nbformat": 4
 },
 "nbformat": 4,
 "nbformat_minor": 2
}
