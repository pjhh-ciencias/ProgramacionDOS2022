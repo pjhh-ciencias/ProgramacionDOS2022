{
 "cells": [
  {
   "cell_type": "markdown",
   "metadata": {},
   "source": [
    "# Diccionarios en Python"
   ]
  },
  {
   "attachments": {},
   "cell_type": "markdown",
   "metadata": {},
   "source": [
    "Los diccionarios en Python son una estructura de datos que permite almacenar contenido en forma de *llave* y *valor*."
   ]
  },
  {
   "attachments": {},
   "cell_type": "markdown",
   "metadata": {},
   "source": [
    "Un diccionario en Python es una colección de elementos, donde cada elemento  tiene una **llave** `key` y un **valor** `value`. Los diccionarios se pueden crear con paréntesis {} separando con una coma cada par key: value. "
   ]
  },
  {
   "attachments": {},
   "cell_type": "markdown",
   "metadata": {},
   "source": [
    "## Propiedades de los diccionario en Python son las siguientes:"
   ]
  },
  {
   "attachments": {},
   "cell_type": "markdown",
   "metadata": {},
   "source": [
    "\n",
    "* Son **dinámicos**, se pueden añadir o eliminar elementos.\n",
    "\n",
    "* Son **indexados**, los elementos del diccionario son accesibles a través del `key`.\n",
    "\n",
    "* Son **anidados**, un diccionario puede contener a otro diccionario en su campo `value`."
   ]
  },
  {
   "attachments": {},
   "cell_type": "markdown",
   "metadata": {},
   "source": [
    "## Crear diccionario Python"
   ]
  },
  {
   "attachments": {},
   "cell_type": "markdown",
   "metadata": {},
   "source": [
    "### Método 1"
   ]
  },
  {
   "cell_type": "code",
   "execution_count": 6,
   "metadata": {},
   "outputs": [
    {
     "name": "stdout",
     "output_type": "stream",
     "text": [
      "{'Nombre': 'Sara', 'Edad': 27}\n"
     ]
    }
   ],
   "source": [
    "diccionario1 = {\"Nombre\": \"Sara\", \"Edad\": 27}\n",
    "print(diccionario1)"
   ]
  },
  {
   "attachments": {},
   "cell_type": "markdown",
   "metadata": {},
   "source": [
    "### Método 2"
   ]
  },
  {
   "attachments": {},
   "cell_type": "markdown",
   "metadata": {},
   "source": [
    "Otra forma equivalente de crear un diccionario en Python es usando el constructor `dict( )` e introduciendo los pares *key:value* entre paréntesis."
   ]
  },
  {
   "attachments": {},
   "cell_type": "markdown",
   "metadata": {},
   "source": [
    "Las pares *key-value* pueden ser tuplas:"
   ]
  },
  {
   "cell_type": "code",
   "execution_count": 3,
   "metadata": {},
   "outputs": [
    {
     "name": "stdout",
     "output_type": "stream",
     "text": [
      "{'Nombre': 'Sara', 'Edad': 27}\n"
     ]
    }
   ],
   "source": [
    "diccionario2 = dict([(\"Nombre\",\"Sara\"),(\"Edad\", 27)])\n",
    "#diccionario2 = dict(((\"Nombre\",\"Sara\"),(\"Edad\", 27)))\n",
    "print(diccionario2)"
   ]
  },
  {
   "attachments": {},
   "cell_type": "markdown",
   "metadata": {},
   "source": [
    "Las pares *key-value* pueden ser listas:"
   ]
  },
  {
   "cell_type": "code",
   "execution_count": 5,
   "metadata": {},
   "outputs": [
    {
     "name": "stdout",
     "output_type": "stream",
     "text": [
      "{'Nombre': 'Sara', 'Edad': 27}\n"
     ]
    }
   ],
   "source": [
    "diccionario3 = dict(([\"Nombre\",\"Sara\"],[\"Edad\", 27]))\n",
    "#diccionario3 = dict([[\"Nombre\",\"Sara\"],[\"Edad\", 27]])\n",
    "print(diccionario3)"
   ]
  },
  {
   "cell_type": "markdown",
   "metadata": {},
   "source": []
  },
  {
   "attachments": {},
   "cell_type": "markdown",
   "metadata": {},
   "source": [
    "### Método 3"
   ]
  },
  {
   "attachments": {},
   "cell_type": "markdown",
   "metadata": {},
   "source": [
    "Otra forma de utilizar el constructor `dict` para crear un diccionario es el siguiente: "
   ]
  },
  {
   "cell_type": "code",
   "execution_count": 8,
   "metadata": {},
   "outputs": [
    {
     "name": "stdout",
     "output_type": "stream",
     "text": [
      "{'Nombre': 'Sara', 'Edad': 27}\n"
     ]
    }
   ],
   "source": [
    "diccionario3 = dict(Nombre='Sara', Edad=27)\n",
    "print(diccionario3)"
   ]
  },
  {
   "attachments": {},
   "cell_type": "markdown",
   "metadata": {},
   "source": [
    "**Observación:** En este último método los *keys* no son cadenas. "
   ]
  },
  {
   "attachments": {},
   "cell_type": "markdown",
   "metadata": {},
   "source": [
    "## Acceder, modificar y agregar nuevos elementos"
   ]
  },
  {
   "attachments": {},
   "cell_type": "markdown",
   "metadata": {},
   "source": [
    "Se puede **acceder a los elementos** de un diccionario  utilizando el key asociado `[key]` o también con la función `get()`"
   ]
  },
  {
   "cell_type": "code",
   "execution_count": 9,
   "metadata": {},
   "outputs": [
    {
     "name": "stdout",
     "output_type": "stream",
     "text": [
      "Sara\n",
      "Sara\n"
     ]
    }
   ],
   "source": [
    "print(diccionario1['Nombre'])\n",
    "\n",
    "print(diccionario1.get('Nombre')) "
   ]
  },
  {
   "attachments": {},
   "cell_type": "markdown",
   "metadata": {},
   "source": [
    "Para **modificar un elemento** basta con usar `[ ]` con el nombre del `key` y asignar el `valor` que queremos."
   ]
  },
  {
   "cell_type": "code",
   "execution_count": 10,
   "metadata": {},
   "outputs": [
    {
     "name": "stdout",
     "output_type": "stream",
     "text": [
      "{'Nombre': 'Laura', 'Edad': 27}\n"
     ]
    }
   ],
   "source": [
    "diccionario1['Nombre'] = \"Laura\"\n",
    "print(diccionario1)"
   ]
  },
  {
   "attachments": {},
   "cell_type": "markdown",
   "metadata": {},
   "source": [
    "**Si el `key` al que accedemos no existe, se añade automáticamente.**"
   ]
  },
  {
   "cell_type": "code",
   "execution_count": 13,
   "metadata": {},
   "outputs": [
    {
     "name": "stdout",
     "output_type": "stream",
     "text": [
      "{'Nombre': 'Laura', 'Edad': 27, 'Direccion': 'Calle 13'}\n"
     ]
    }
   ],
   "source": [
    "diccionario1['Direccion'] = \"Calle 13\"\n",
    "print(diccionario1)"
   ]
  },
  {
   "attachments": {},
   "cell_type": "markdown",
   "metadata": {},
   "source": [
    "## Eliminar una entrada"
   ]
  },
  {
   "attachments": {},
   "cell_type": "markdown",
   "metadata": {},
   "source": [
    "Una entrada en el diccionario puede ser removida usando uno de los siguientes métodos:"
   ]
  },
  {
   "attachments": {},
   "cell_type": "markdown",
   "metadata": {},
   "source": [
    "### Método 1:"
   ]
  },
  {
   "attachments": {},
   "cell_type": "markdown",
   "metadata": {},
   "source": [
    "El método **pop(`key`)** elimina la entrada con la clave especificada. Este método devuelve el valor de la clave que se está eliminando. Si la clave no está presente, se devolverá un valor predeterminado (si se ha establecido mediante `setdefault()`). Si no se ha establecido un valor predeterminado, se generará un error."
   ]
  },
  {
   "cell_type": "code",
   "execution_count": 12,
   "metadata": {},
   "outputs": [
    {
     "name": "stdout",
     "output_type": "stream",
     "text": [
      "{'nombre': 'Antonio', 'apellido': 'López', 'edad': 45}\n",
      "45\n",
      "{'nombre': 'Antonio', 'apellido': 'López'}\n"
     ]
    }
   ],
   "source": [
    "diccionario =  {'nombre': 'Antonio', 'apellido': 'López', 'edad': 45}\n",
    "print(diccionario)\n",
    "\n",
    "print(diccionario.pop('edad'))\n",
    "print(diccionario)"
   ]
  },
  {
   "attachments": {},
   "cell_type": "markdown",
   "metadata": {},
   "source": [
    "### Método 2"
   ]
  },
  {
   "attachments": {},
   "cell_type": "markdown",
   "metadata": {},
   "source": [
    "El método **popitem()** elimina el último elemento insertado en el diccionario (¡aunque antes de Python 3.7 se eliminó un elemento aleatorio en el diccionario!). El par `key-value` que se elimina se devuelve desde el método."
   ]
  },
  {
   "cell_type": "code",
   "execution_count": 13,
   "metadata": {},
   "outputs": [
    {
     "name": "stdout",
     "output_type": "stream",
     "text": [
      "{'nombre': 'Antonio', 'apellido': 'López', 'edad': 45}\n",
      "('edad', 45)\n",
      "{'nombre': 'Antonio', 'apellido': 'López'}\n"
     ]
    }
   ],
   "source": [
    "diccionario =  {'nombre': 'Antonio', 'apellido': 'López', 'edad': 45}\n",
    "print(diccionario)\n",
    "\n",
    "print(diccionario.popitem())\n",
    "print(diccionario)"
   ]
  },
  {
   "attachments": {},
   "cell_type": "markdown",
   "metadata": {},
   "source": [
    "### Método 3"
   ]
  },
  {
   "attachments": {},
   "cell_type": "markdown",
   "metadata": {},
   "source": [
    "La palabra clave `del` elimina la entrada con la `key` especificada del diccionario. Esta palabra clave simplemente elimina el elemento; no devuelve el valor asociado. Es potencialmente más eficiente que **pop(`key`)**."
   ]
  },
  {
   "cell_type": "code",
   "execution_count": 16,
   "metadata": {},
   "outputs": [
    {
     "name": "stdout",
     "output_type": "stream",
     "text": [
      "{'nombre': 'Antonio', 'apellido': 'López', 'edad': 45}\n"
     ]
    }
   ],
   "source": [
    "diccionario =  {'nombre': 'Antonio', 'apellido': 'López', 'edad': 45}\n",
    "print(diccionario)\n",
    "\n",
    "del diccionario['edad']\n",
    "#print(diccionario)"
   ]
  },
  {
   "attachments": {},
   "cell_type": "markdown",
   "metadata": {},
   "source": [
    "## Iterar diccionario"
   ]
  },
  {
   "attachments": {},
   "cell_type": "markdown",
   "metadata": {},
   "source": [
    "Los diccionarios se pueden iterar de manera muy similar a las listas u otras estructuras de datos. Para imprimir los key. En el siguiente código imprime los *key* del diccionario:"
   ]
  },
  {
   "cell_type": "code",
   "execution_count": 16,
   "metadata": {},
   "outputs": [
    {
     "name": "stdout",
     "output_type": "stream",
     "text": [
      "Nombre\n",
      "Edad\n",
      "Direccion\n"
     ]
    }
   ],
   "source": [
    "for x in diccionario1:\n",
    "    print(x)"
   ]
  },
  {
   "attachments": {},
   "cell_type": "markdown",
   "metadata": {},
   "source": [
    "Se puede imprimir también sólo el *value*."
   ]
  },
  {
   "cell_type": "code",
   "execution_count": 18,
   "metadata": {},
   "outputs": [
    {
     "name": "stdout",
     "output_type": "stream",
     "text": [
      "Laura\n",
      "27\n",
      "Calle 13\n"
     ]
    }
   ],
   "source": [
    "for x in diccionario1:\n",
    "    print(diccionario1[x])"
   ]
  },
  {
   "attachments": {},
   "cell_type": "markdown",
   "metadata": {},
   "source": [
    "O si queremos imprimir el *key* y el *value* a la vez."
   ]
  },
  {
   "cell_type": "code",
   "execution_count": 19,
   "metadata": {},
   "outputs": [
    {
     "name": "stdout",
     "output_type": "stream",
     "text": [
      "Nombre Laura\n",
      "Edad 27\n",
      "Direccion Calle 13\n"
     ]
    }
   ],
   "source": [
    "for x, y in diccionario1.items():\n",
    "    print(x, y)"
   ]
  },
  {
   "attachments": {},
   "cell_type": "markdown",
   "metadata": {},
   "source": [
    "## Diccionarios anidados"
   ]
  },
  {
   "attachments": {},
   "cell_type": "markdown",
   "metadata": {},
   "source": [
    "Los diccionarios en Python pueden contener uno dentro de otro. Podemos ver como los valores anidado uno y dos del diccionario d contienen a su vez otro diccionario."
   ]
  },
  {
   "cell_type": "code",
   "execution_count": 22,
   "metadata": {},
   "outputs": [
    {
     "name": "stdout",
     "output_type": "stream",
     "text": [
      "{'diccionario1': {'a': 1, 'b': 2}, 'diccionario2': {'a': 1, 'b': 2}}\n"
     ]
    }
   ],
   "source": [
    "d1 = {\"a\": 1, \"b\": 2}\n",
    "\n",
    "d2 = {\"a\": 1, \"b\": 2}\n",
    "\n",
    "diccionario = {\"diccionario1\" : d1, \"diccionario2\" : d2}\n",
    "\n",
    "print(diccionario)"
   ]
  },
  {
   "attachments": {},
   "cell_type": "markdown",
   "metadata": {},
   "source": [
    "## Métodos de diccionarios en Python"
   ]
  },
  {
   "attachments": {},
   "cell_type": "markdown",
   "metadata": {},
   "source": [
    "<table >\n",
    "<tr>\n",
    "<td><b><tt>len(D)</tt></b>\n",
    "<td>Devuelve la longitud del diccionario <tt>D</tt>.\n",
    "<tr>\n",
    "<td><b><tt>D[k]</tt></b>\n",
    "<td>Devuelve el valor de la clave <tt>k</tt> del diccionario <tt>D</tt>, <br>\n",
    "o un error si <tt>k</tt> no se encuentra en el diccionario.\n",
    "<tr>\n",
    "<td><b><tt>D[k] = v</tt></b>\n",
    "<td>Asigna el valor <tt>v</tt> a la clave <tt>k</tt> del diccionario <tt>D</tt>.\n",
    "<tr>\n",
    "<td><b><tt>del D[k]</tt></b>\n",
    "<td>Elimina el item <tt>k</tt> del diccionario <tt>D</tt>.\n",
    "<tr>\n",
    "<td><b><tt>k in D</tt></b>\n",
    "<td>Devuelve <tt>True</tt> si <tt>k</tt> es una clave de <tt>D</tt>.\n",
    "<tr>\n",
    "<td><b><tt>D.keys()</tt></b>\n",
    "<td>Devuelve todas las claves en el diccionario <tt>D</tt>.\n",
    "<tr>\n",
    "<td><b><tt>D.values()</tt></b>\n",
    "<td>Devuelve todos los valores en el diccionario <tt>D</tt>.\n",
    "<tr>\n",
    "<td><b><tt>D.items()</tt></b>\n",
    "<td>Devuelve tuples <tt>(clave, valor)</tt> por cada ítem en el diccionario <tt>D</tt>.\n",
    "<tr>\n",
    "<td><b><tt>D.clear()</tt></b>\n",
    "<td>Borra todos los ítem en el diccionario <tt>D</tt>.\n",
    "<tr>\n",
    "<td><b><tt>D.copy()</tt></b>\n",
    "<td>Devuelve una copia del diccionario <tt>D</tt>.\n",
    "<tr>\n",
    "<td><b><tt>D1.update(D2)</tt></b>\n",
    "<td>Fusiona todas las entradas de <tt>D2</tt> en <tt>D1</tt>. Similar a<br>\n",
    "<tt>for (k, v) in D2.items(): D1[k] = v</tt>.\n",
    "<tr>\n",
    "<td><b><tt>D.get(k [, default])</tt></b>\n",
    "<td>Similar a <tt>D[k]</tt>, pero si <tt>k</tt> no se encuentra en el diccionario devuelve<br>\n",
    "el default (o <tt>None</tt> si no hay default) en vez de dar un error.\n",
    "<tr>\n",
    "<td><b><tt>D.setdefault(k, [, default])</tt></b>\n",
    "<td>Similar a <tt>D.get(key, default)</tt>, pero además asigna la clave <tt>k</tt><br>\n",
    "al valor por default si no se encuentra en el diccionario.\n",
    "<tr>\n",
    "<td><b><tt>D.popitem()</tt></b>\n",
    "<td>Devuelve y elimina un par arbitrario <tt>(clave, valor)</tt>.\n",
    "<tr>\n",
    "<td><b><tt>D.pop(k [, default])</tt></b>\n",
    "<td>Si <tt>k</tt> se encuentra en el diccionario, devuelve <tt>D[k]</tt> y borra <tt>k</tt>.<br>\n",
    "De lo contrario, devuelve el default.\n",
    "<tr>\n",
    "<td><b><tt>D.fromkeys(seq [, value])</tt></b>\n",
    "<td>Crea un nuevo diccionario con claves a partir de una secuencia <tt>seq</tt><br>\n",
    "y con valores asignados a <tt>value</tt>.\n",
    "</table>"
   ]
  },
  {
   "cell_type": "markdown",
   "metadata": {},
   "source": []
  }
 ],
 "metadata": {
  "kernelspec": {
   "display_name": "Python 3",
   "language": "python",
   "name": "python3"
  },
  "language_info": {
   "codemirror_mode": {
    "name": "ipython",
    "version": 3
   },
   "file_extension": ".py",
   "mimetype": "text/x-python",
   "name": "python",
   "nbconvert_exporter": "python",
   "pygments_lexer": "ipython3",
   "version": "3.11.1"
  },
  "orig_nbformat": 4
 },
 "nbformat": 4,
 "nbformat_minor": 2
}
