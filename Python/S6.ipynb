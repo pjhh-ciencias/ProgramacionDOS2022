{
 "cells": [
  {
   "cell_type": "markdown",
   "metadata": {},
   "source": [
    "# Diccionarios en Python"
   ]
  },
  {
   "attachments": {},
   "cell_type": "markdown",
   "metadata": {},
   "source": [
    "Los diccionarios en Python son una estructura de datos que permite almacenar contenido en forma de **llave** y **valor**."
   ]
  },
  {
   "attachments": {},
   "cell_type": "markdown",
   "metadata": {},
   "source": [
    "Un diccionario en Python es una colección de elementos, donde cada elemento  tiene una **llave** `key` y un **valor** `value`. Los diccionarios se pueden crear con paréntesis {} separando con una coma cada par key: value. "
   ]
  },
  {
   "attachments": {},
   "cell_type": "markdown",
   "metadata": {},
   "source": [
    "## Propiedades de los diccionario en Python son las siguientes:"
   ]
  },
  {
   "attachments": {},
   "cell_type": "markdown",
   "metadata": {},
   "source": [
    "\n",
    "* Son **dinámicos**, se pueden añadir o eliminar elementos.\n",
    "\n",
    "* Son **indexados**, los elementos del diccionario son accesibles a través del `key`.\n",
    "\n",
    "* Son **anidados**, un diccionario puede contener a otro diccionario en su campo `value`."
   ]
  },
  {
   "attachments": {},
   "cell_type": "markdown",
   "metadata": {},
   "source": [
    "## Crear diccionario Python"
   ]
  },
  {
   "attachments": {},
   "cell_type": "markdown",
   "metadata": {},
   "source": [
    "### Método 1"
   ]
  },
  {
   "cell_type": "code",
   "execution_count": 19,
   "metadata": {},
   "outputs": [
    {
     "name": "stdout",
     "output_type": "stream",
     "text": [
      "<class 'dict'>\n",
      "{'Nombre': 'Sara', 'Edad': 27}\n"
     ]
    }
   ],
   "source": [
    "diccionario1 = {\"Nombre\": \"Sara\", \"Edad\": 27}\n",
    "print(type(diccionario1))\n",
    "print(diccionario1)"
   ]
  },
  {
   "attachments": {},
   "cell_type": "markdown",
   "metadata": {},
   "source": [
    "### Método 2"
   ]
  },
  {
   "attachments": {},
   "cell_type": "markdown",
   "metadata": {},
   "source": [
    "Otra forma equivalente de crear un diccionario en Python es usando el constructor `dict( )` e introduciendo los pares *key:value* entre paréntesis."
   ]
  },
  {
   "attachments": {},
   "cell_type": "markdown",
   "metadata": {},
   "source": [
    "Las pares *key-value* pueden ser tuplas:"
   ]
  },
  {
   "cell_type": "code",
   "execution_count": 20,
   "metadata": {},
   "outputs": [
    {
     "name": "stdout",
     "output_type": "stream",
     "text": [
      "{'Nombre': 'Sara', 'Edad': 27}\n"
     ]
    }
   ],
   "source": [
    "#diccionario2 = dict([(\"Nombre\",\"Sara\"),(\"Edad\", 27)])\n",
    "diccionario2 = dict(((\"Nombre\",\"Sara\"),(\"Edad\", 27)))\n",
    "print(diccionario2)"
   ]
  },
  {
   "attachments": {},
   "cell_type": "markdown",
   "metadata": {},
   "source": [
    "Las pares *key-value* pueden ser listas:"
   ]
  },
  {
   "cell_type": "code",
   "execution_count": 22,
   "metadata": {},
   "outputs": [
    {
     "name": "stdout",
     "output_type": "stream",
     "text": [
      "{'Nombre': 'Sara', 'Edad': 27}\n"
     ]
    }
   ],
   "source": [
    "#diccionario3 = dict(([\"Nombre\",\"Sara\"],[\"Edad\", 27]))\n",
    "diccionario3 = dict([[\"Nombre\",\"Sara\"],[\"Edad\", 27]])\n",
    "print(diccionario3)"
   ]
  },
  {
   "cell_type": "markdown",
   "metadata": {},
   "source": []
  },
  {
   "attachments": {},
   "cell_type": "markdown",
   "metadata": {},
   "source": [
    "### Método 3"
   ]
  },
  {
   "attachments": {},
   "cell_type": "markdown",
   "metadata": {},
   "source": [
    "Otra forma de utilizar el constructor `dict` para crear un diccionario es el siguiente: "
   ]
  },
  {
   "cell_type": "code",
   "execution_count": 23,
   "metadata": {},
   "outputs": [
    {
     "name": "stdout",
     "output_type": "stream",
     "text": [
      "{'Nombre': 'Sara', 'Edad': 27}\n"
     ]
    }
   ],
   "source": [
    "diccionario3 = dict(Nombre='Sara', Edad=27)\n",
    "print(diccionario3)"
   ]
  },
  {
   "attachments": {},
   "cell_type": "markdown",
   "metadata": {},
   "source": [
    "**Observación:** En este último método los *keys* no son cadenas. "
   ]
  },
  {
   "attachments": {},
   "cell_type": "markdown",
   "metadata": {},
   "source": [
    "## Acceder, modificar y agregar nuevos elementos"
   ]
  },
  {
   "attachments": {},
   "cell_type": "markdown",
   "metadata": {},
   "source": [
    "Se puede **acceder a los elementos** de un diccionario  utilizando el key asociado `[key]` o también con la función `get()`"
   ]
  },
  {
   "cell_type": "code",
   "execution_count": 27,
   "metadata": {},
   "outputs": [
    {
     "name": "stdout",
     "output_type": "stream",
     "text": [
      "Sara\n"
     ]
    }
   ],
   "source": [
    "diccionario1 = {\"Nombre\": \"Sara\", \"Edad\": 27}\n",
    "#print(diccionario1['Nombre'])\n",
    "#print(diccionario1['Edad'])\n",
    "\n",
    "print(diccionario1.get('Nombre')) "
   ]
  },
  {
   "attachments": {},
   "cell_type": "markdown",
   "metadata": {},
   "source": [
    "Para **modificar un elemento** basta con usar `[ ]` con el nombre del `key` y asignar el `valor` que queremos."
   ]
  },
  {
   "cell_type": "code",
   "execution_count": 29,
   "metadata": {},
   "outputs": [
    {
     "name": "stdout",
     "output_type": "stream",
     "text": [
      "{'Nombre': 'Laura', 'Edad': 27}\n"
     ]
    }
   ],
   "source": [
    "nombre='Laura'\n",
    "diccionario1['Nombre'] = nombre\n",
    "print(diccionario1)"
   ]
  },
  {
   "attachments": {},
   "cell_type": "markdown",
   "metadata": {},
   "source": [
    "**Si el `key` al que accedemos no existe, se añade automáticamente.**"
   ]
  },
  {
   "cell_type": "code",
   "execution_count": 30,
   "metadata": {},
   "outputs": [
    {
     "name": "stdout",
     "output_type": "stream",
     "text": [
      "{'Nombre': 'Laura', 'Edad': 27, 'Direccion': 'Calle 13'}\n"
     ]
    }
   ],
   "source": [
    "diccionario1['Direccion'] = \"Calle 13\"\n",
    "print(diccionario1)"
   ]
  },
  {
   "attachments": {},
   "cell_type": "markdown",
   "metadata": {},
   "source": [
    "## Eliminar una entrada"
   ]
  },
  {
   "attachments": {},
   "cell_type": "markdown",
   "metadata": {},
   "source": [
    "Una entrada en el diccionario puede ser removida usando uno de los siguientes métodos:"
   ]
  },
  {
   "attachments": {},
   "cell_type": "markdown",
   "metadata": {},
   "source": [
    "### Método 1:"
   ]
  },
  {
   "attachments": {},
   "cell_type": "markdown",
   "metadata": {},
   "source": [
    "El método **pop(`key`)** elimina la entrada con la clave especificada. Este método devuelve el valor de la clave que se está eliminando. Si la clave no está presente, se devolverá un valor predeterminado (si se ha establecido mediante `setdefault()`). Si no se ha establecido un valor predeterminado, se generará un error."
   ]
  },
  {
   "cell_type": "code",
   "execution_count": 33,
   "metadata": {},
   "outputs": [
    {
     "name": "stdout",
     "output_type": "stream",
     "text": [
      "{'nombre': 'Antonio', 'apellido': 'López', 'edad': 45}\n",
      "45\n",
      "{'nombre': 'Antonio', 'apellido': 'López'}\n"
     ]
    }
   ],
   "source": [
    "diccionario =  {'nombre': 'Antonio', 'apellido': 'López', 'edad': 45}\n",
    "print(diccionario)\n",
    "\n",
    "\n",
    "print(diccionario.pop('edad'))\n",
    "print(diccionario)\n",
    "\n"
   ]
  },
  {
   "attachments": {},
   "cell_type": "markdown",
   "metadata": {},
   "source": [
    "### Método 2"
   ]
  },
  {
   "attachments": {},
   "cell_type": "markdown",
   "metadata": {},
   "source": [
    "El método **popitem()** elimina el último elemento insertado en el diccionario (¡aunque antes de Python 3.7 se eliminó un elemento aleatorio en el diccionario!). El par `key-value` que se elimina se devuelve desde el método."
   ]
  },
  {
   "cell_type": "code",
   "execution_count": 35,
   "metadata": {},
   "outputs": [
    {
     "name": "stdout",
     "output_type": "stream",
     "text": [
      "{'nombre': 'Antonio', 'apellido': 'López', 'edad': 45}\n",
      "('edad', 45)\n",
      "{'nombre': 'Antonio', 'apellido': 'López'}\n"
     ]
    }
   ],
   "source": [
    "diccionario =  {'nombre': 'Antonio', 'apellido': 'López', 'edad': 45}\n",
    "print(diccionario)\n",
    "\n",
    "print(diccionario.popitem())\n",
    "print(diccionario)"
   ]
  },
  {
   "attachments": {},
   "cell_type": "markdown",
   "metadata": {},
   "source": [
    "### Método 3"
   ]
  },
  {
   "attachments": {},
   "cell_type": "markdown",
   "metadata": {},
   "source": [
    "La palabra clave `del` elimina la entrada con la `key` especificada del diccionario. Esta palabra clave simplemente elimina el elemento; no devuelve el valor asociado. Es potencialmente más eficiente que **pop(`key`)**."
   ]
  },
  {
   "cell_type": "code",
   "execution_count": 36,
   "metadata": {},
   "outputs": [
    {
     "name": "stdout",
     "output_type": "stream",
     "text": [
      "{'nombre': 'Antonio', 'apellido': 'López', 'edad': 45}\n",
      "{'nombre': 'Antonio', 'apellido': 'López'}\n"
     ]
    }
   ],
   "source": [
    "diccionario =  {'nombre': 'Antonio', 'apellido': 'López', 'edad': 45}\n",
    "print(diccionario)\n",
    "\n",
    "del diccionario['edad']\n",
    "print(diccionario)"
   ]
  },
  {
   "attachments": {},
   "cell_type": "markdown",
   "metadata": {},
   "source": [
    "## Iterar diccionario"
   ]
  },
  {
   "attachments": {},
   "cell_type": "markdown",
   "metadata": {},
   "source": [
    "Los diccionarios se pueden iterar de manera muy similar a las listas u otras estructuras de datos. Para imprimir los key. En el siguiente código imprime los *key* del diccionario:"
   ]
  },
  {
   "cell_type": "code",
   "execution_count": 37,
   "metadata": {},
   "outputs": [
    {
     "name": "stdout",
     "output_type": "stream",
     "text": [
      "Nombre\n",
      "Edad\n"
     ]
    }
   ],
   "source": [
    "diccionario1 = {\"Nombre\": \"Sara\", \"Edad\": 27}\n",
    "for x in diccionario1:\n",
    "    print(x)"
   ]
  },
  {
   "attachments": {},
   "cell_type": "markdown",
   "metadata": {},
   "source": [
    "Se puede imprimir también sólo el *value*."
   ]
  },
  {
   "cell_type": "code",
   "execution_count": 38,
   "metadata": {},
   "outputs": [
    {
     "name": "stdout",
     "output_type": "stream",
     "text": [
      "Sara\n",
      "27\n"
     ]
    }
   ],
   "source": [
    "for x in diccionario1:\n",
    "    print(diccionario1[x])"
   ]
  },
  {
   "attachments": {},
   "cell_type": "markdown",
   "metadata": {},
   "source": [
    "O si queremos imprimir el *key* y el *value* a la vez."
   ]
  },
  {
   "cell_type": "code",
   "execution_count": 39,
   "metadata": {},
   "outputs": [
    {
     "name": "stdout",
     "output_type": "stream",
     "text": [
      "Nombre Sara\n",
      "Edad 27\n"
     ]
    }
   ],
   "source": [
    "for x, y in diccionario1.items():\n",
    "    print(x, y)"
   ]
  },
  {
   "attachments": {},
   "cell_type": "markdown",
   "metadata": {},
   "source": [
    "## Diccionarios anidados"
   ]
  },
  {
   "attachments": {},
   "cell_type": "markdown",
   "metadata": {},
   "source": [
    "Los diccionarios en Python pueden contener uno dentro de otro. Podemos ver como los valores anidado uno y dos del diccionario d contienen a su vez otro diccionario."
   ]
  },
  {
   "cell_type": "code",
   "execution_count": 40,
   "metadata": {},
   "outputs": [
    {
     "name": "stdout",
     "output_type": "stream",
     "text": [
      "{'diccionario1': {'a': 1, 'b': 2}, 'diccionario2': {'c': 3, 'd': 4}}\n"
     ]
    }
   ],
   "source": [
    "d1 = {\"a\": 1, \"b\": 2}\n",
    "\n",
    "d2 = {\"c\": 3, \"d\": 4}\n",
    "\n",
    "diccionario = {\"diccionario1\" : d1, \"diccionario2\" : d2}\n",
    "\n",
    "print(diccionario)"
   ]
  },
  {
   "attachments": {},
   "cell_type": "markdown",
   "metadata": {},
   "source": [
    "## Crear un diccionario vacio\n",
    "\n",
    "Para crear un conjunto vacío, simplemente llama al constructor `set( )` sin parámetros. `{ }` **NO crea un conjunto vacío, sino un diccionario vacío.** Usa `set( )` si quieres crear un conjunto sin elementos."
   ]
  },
  {
   "attachments": {},
   "cell_type": "markdown",
   "metadata": {},
   "source": [
    "## Métodos de diccionarios en Python"
   ]
  },
  {
   "attachments": {},
   "cell_type": "markdown",
   "metadata": {},
   "source": [
    "<table >\n",
    "<tr>\n",
    "<td><b><tt>len(D)</tt></b>\n",
    "<td>Devuelve la longitud del diccionario <tt>D</tt>.\n",
    "<tr>\n",
    "<td><b><tt>D[k]</tt></b>\n",
    "<td>Devuelve el valor de la clave <tt>k</tt> del diccionario <tt>D</tt>, <br>\n",
    "o un error si <tt>k</tt> no se encuentra en el diccionario.\n",
    "<tr>\n",
    "<td><b><tt>D[k] = v</tt></b>\n",
    "<td>Asigna el valor <tt>v</tt> a la clave <tt>k</tt> del diccionario <tt>D</tt>.\n",
    "<tr>\n",
    "<td><b><tt>del D[k]</tt></b>\n",
    "<td>Elimina el item <tt>k</tt> del diccionario <tt>D</tt>.\n",
    "<tr>\n",
    "<td><b><tt>k in D</tt></b>\n",
    "<td>Devuelve <tt>True</tt> si <tt>k</tt> es una clave de <tt>D</tt>.\n",
    "<tr>\n",
    "<td><b><tt>D.keys()</tt></b>\n",
    "<td>Devuelve todas las claves en el diccionario <tt>D</tt>.\n",
    "<tr>\n",
    "<td><b><tt>D.values()</tt></b>\n",
    "<td>Devuelve todos los valores en el diccionario <tt>D</tt>.\n",
    "<tr>\n",
    "<td><b><tt>D.items()</tt></b>\n",
    "<td>Devuelve tuples <tt>(clave, valor)</tt> por cada ítem en el diccionario <tt>D</tt>.\n",
    "<tr>\n",
    "<td><b><tt>D.clear()</tt></b>\n",
    "<td>Borra todos los ítem en el diccionario <tt>D</tt>.\n",
    "<tr>\n",
    "<td><b><tt>D.copy()</tt></b>\n",
    "<td>Devuelve una copia del diccionario <tt>D</tt>.\n",
    "<tr>\n",
    "<td><b><tt>D1.update(D2)</tt></b>\n",
    "<td>Fusiona todas las entradas de <tt>D2</tt> en <tt>D1</tt>. Similar a<br>\n",
    "<tt>for (k, v) in D2.items(): D1[k] = v</tt>.\n",
    "<tr>\n",
    "<td><b><tt>D.get(k [, default])</tt></b>\n",
    "<td>Similar a <tt>D[k]</tt>, pero si <tt>k</tt> no se encuentra en el diccionario devuelve<br>\n",
    "el default (o <tt>None</tt> si no hay default) en vez de dar un error.\n",
    "<tr>\n",
    "<td><b><tt>D.setdefault(k, [, default])</tt></b>\n",
    "<td>Similar a <tt>D.get(key, default)</tt>, pero además asigna la clave <tt>k</tt><br>\n",
    "al valor por default si no se encuentra en el diccionario.\n",
    "<tr>\n",
    "<td><b><tt>D.popitem()</tt></b>\n",
    "<td>Devuelve y elimina un par arbitrario <tt>(clave, valor)</tt>.\n",
    "<tr>\n",
    "<td><b><tt>D.pop(k [, default])</tt></b>\n",
    "<td>Si <tt>k</tt> se encuentra en el diccionario, devuelve <tt>D[k]</tt> y borra <tt>k</tt>.<br>\n",
    "De lo contrario, devuelve el default.\n",
    "<tr>\n",
    "<td><b><tt>D.fromkeys(seq [, value])</tt></b>\n",
    "<td>Crea un nuevo diccionario con claves a partir de una secuencia <tt>seq</tt><br>\n",
    "y con valores asignados a <tt>value</tt>.\n",
    "</table>"
   ]
  },
  {
   "attachments": {},
   "cell_type": "markdown",
   "metadata": {},
   "source": [
    "# A practicar ... \n",
    "<center>\n",
    "<img src=\"../Imagenes/gorila_music.png\" alt=\"\", width=\"25%\" height=\"auto\">\n",
    "<!-- ![Tablero de ajedrez](./Quizes_Imagenes/tablero_ajedrez.jpg) -->\n",
    "</center>"
   ]
  },
  {
   "attachments": {},
   "cell_type": "markdown",
   "metadata": {},
   "source": [
    "# Práctica 6.1"
   ]
  },
  {
   "attachments": {},
   "cell_type": "markdown",
   "metadata": {},
   "source": [
    "### Escribe un programa en Python que lea una línea de texto y determine e imprima el número de ocurrencias de cada palabra en la cadena. También imprime el número total de palabras únicas \n",
    "\n",
    "<center>\n",
    "<img src=\"../Imagenes/contador_palabras.png\" alt=\"\", width=\"25%\" height=\"auto\">\n",
    "<!-- ![Tablero de ajedrez](./Quizes_Imagenes/tablero_ajedrez.jpg) -->\n",
    "</center>"
   ]
  },
  {
   "cell_type": "markdown",
   "metadata": {},
   "source": []
  },
  {
   "cell_type": "code",
   "execution_count": 53,
   "metadata": {},
   "outputs": [
    {
     "ename": "TypeError",
     "evalue": "split() takes at most 2 arguments (3 given)",
     "output_type": "error",
     "traceback": [
      "\u001b[0;31m---------------------------------------------------------------------------\u001b[0m",
      "\u001b[0;31mTypeError\u001b[0m                                 Traceback (most recent call last)",
      "Cell \u001b[0;32mIn[53], line 2\u001b[0m\n\u001b[1;32m      1\u001b[0m cadena\u001b[39m=\u001b[39m\u001b[39m'\u001b[39m\u001b[39mEsto es una linea de  texto que contiene texto\u001b[39m\u001b[39m'\u001b[39m\n\u001b[0;32m----> 2\u001b[0m \u001b[39mprint\u001b[39m(cadena\u001b[39m.\u001b[39;49msplit(\u001b[39m\"\u001b[39;49m\u001b[39m \u001b[39;49m\u001b[39m\"\u001b[39;49m,maxsplit\u001b[39m=\u001b[39;49m\u001b[39m5\u001b[39;49m,SuppotsIndex\u001b[39m=\u001b[39;49m\u001b[39m0\u001b[39;49m))\n",
      "\u001b[0;31mTypeError\u001b[0m: split() takes at most 2 arguments (3 given)"
     ]
    }
   ],
   "source": [
    "cadena='Esto es una linea de  texto que contiene texto'\n",
    "print(cadena.split(\" \",maxsplit=5))\n"
   ]
  },
  {
   "attachments": {},
   "cell_type": "markdown",
   "metadata": {},
   "source": [
    "# Archivos en Python "
   ]
  },
  {
   "attachments": {},
   "cell_type": "markdown",
   "metadata": {},
   "source": [
    "Al igual que en otros lenguajes de programación, en Python es posible *abrir ficheros* y *leer su contenido*. Los ficheros o archivos pueden ser de lo más variado, desde un simple texto a contenido binario. Ahora nos veremos como **leer un fichero de texto**."
   ]
  },
  {
   "attachments": {},
   "cell_type": "markdown",
   "metadata": {},
   "source": [
    "## Leer archivos en Python"
   ]
  },
  {
   "attachments": {},
   "cell_type": "markdown",
   "metadata": {},
   "source": [
    "Imagínate entonces que tienes un archivo de texto con unos datos, como podría ser un **.txt** o un **.csv**, y quieres leer su contenido para realizar algún tipo de operaciones sobre el mismo."
   ]
  },
  {
   "attachments": {},
   "cell_type": "markdown",
   "metadata": {},
   "source": [
    "Podemos abrir el fichero con la función `open( )` pasando como argumento el nombre del fichero que queremos abrir."
   ]
  },
  {
   "cell_type": "code",
   "execution_count": 8,
   "metadata": {},
   "outputs": [
    {
     "name": "stdout",
     "output_type": "stream",
     "text": [
      "<_io.TextIOWrapper name='../Python/Archivos/archivo.txt' mode='r' encoding='utf-8'>\n"
     ]
    }
   ],
   "source": [
    "archivo = open('../Python/Archivos/archivo.txt')\n",
    "type(archivo)\n",
    "print(archivo)"
   ]
  },
  {
   "attachments": {},
   "cell_type": "markdown",
   "metadata": {},
   "source": [
    "### Método 1:  `read( )`"
   ]
  },
  {
   "attachments": {},
   "cell_type": "markdown",
   "metadata": {},
   "source": [
    "Con `open()` tendremos ya en fichero el contenido del documento listo para usar, y podemos imprimir su contenido con `read( )`. El siguiente código imprime todo el fichero."
   ]
  },
  {
   "cell_type": "code",
   "execution_count": 9,
   "metadata": {},
   "outputs": [
    {
     "name": "stdout",
     "output_type": "stream",
     "text": [
      "Contenido de la primera línea\n",
      "Contenido de la segunda línea\n",
      "Contenido de la tercera línea\n",
      "Contenido de la cuarta línea\n"
     ]
    }
   ],
   "source": [
    "print(archivo.read())"
   ]
  },
  {
   "attachments": {},
   "cell_type": "markdown",
   "metadata": {},
   "source": [
    "### Método 2:  `readline( )`"
   ]
  },
  {
   "attachments": {},
   "cell_type": "markdown",
   "metadata": {},
   "source": [
    "Es posible también leer un número de líneas determinado y no todo el fichero de golpe. Para ello hacemos uso de la función `readline( )`. Cada vez que se llama a la función, se lee una línea."
   ]
  },
  {
   "cell_type": "code",
   "execution_count": 11,
   "metadata": {},
   "outputs": [
    {
     "name": "stdout",
     "output_type": "stream",
     "text": [
      "Contenido de la primera línea\n",
      "\n",
      "Contenido de la segunda línea\n",
      "\n"
     ]
    }
   ],
   "source": [
    "archivo = open('../Python/Archivos/archivo.txt')\n",
    "print(archivo.readline())\n",
    "print(archivo.readline())"
   ]
  },
  {
   "attachments": {},
   "cell_type": "markdown",
   "metadata": {},
   "source": [
    "**Observación:** Es muy importante saber que una vez hayas leído todas las línea del archivo, la función ya no devolverá nada, porque se habrá llegado al final. Si quieres que readline() funcione otra vez, podrías por ejemplo volver a leer el fichero con open(). "
   ]
  },
  {
   "attachments": {},
   "cell_type": "markdown",
   "metadata": {},
   "source": [
    "Otra forma de usar `readline( )` es pasando como argumento un número. Este número **leerá un determinado número de caracteres**. El siguiente código lee todo el fichero carácter por carácter."
   ]
  },
  {
   "cell_type": "code",
   "execution_count": 14,
   "metadata": {},
   "outputs": [
    {
     "name": "stdout",
     "output_type": "stream",
     "text": [
      "C\n",
      "o\n",
      "n\n",
      "t\n",
      "e\n",
      "n\n",
      "i\n",
      "d\n",
      "o\n",
      " \n",
      "d\n",
      "e\n",
      " \n",
      "l\n",
      "a\n",
      " \n",
      "p\n",
      "r\n",
      "i\n",
      "m\n",
      "e\n",
      "r\n",
      "a\n",
      " \n",
      "l\n",
      "í\n",
      "n\n",
      "e\n",
      "a\n",
      "\n",
      "\n",
      "C\n",
      "o\n",
      "n\n",
      "t\n",
      "e\n",
      "n\n",
      "i\n",
      "d\n",
      "o\n",
      " \n",
      "d\n",
      "e\n",
      " \n",
      "l\n",
      "a\n",
      " \n",
      "s\n",
      "e\n",
      "g\n",
      "u\n",
      "n\n",
      "d\n",
      "a\n",
      " \n",
      "l\n",
      "í\n",
      "n\n",
      "e\n",
      "a\n",
      "\n",
      "\n",
      "C\n",
      "o\n",
      "n\n",
      "t\n",
      "e\n",
      "n\n",
      "i\n",
      "d\n",
      "o\n",
      " \n",
      "d\n",
      "e\n",
      " \n",
      "l\n",
      "a\n",
      " \n",
      "t\n",
      "e\n",
      "r\n",
      "c\n",
      "e\n",
      "r\n",
      "a\n",
      " \n",
      "l\n",
      "í\n",
      "n\n",
      "e\n",
      "a\n",
      "\n",
      "\n",
      "C\n",
      "o\n",
      "n\n",
      "t\n",
      "e\n",
      "n\n",
      "i\n",
      "d\n",
      "o\n",
      " \n",
      "d\n",
      "e\n",
      " \n",
      "l\n",
      "a\n",
      " \n",
      "c\n",
      "u\n",
      "a\n",
      "r\n",
      "t\n",
      "a\n",
      " \n",
      "l\n",
      "í\n",
      "n\n",
      "e\n",
      "a\n"
     ]
    }
   ],
   "source": [
    "archivo = open('../Python/Archivos/archivo.txt')\n",
    "caracter = archivo.readline(1)\n",
    "while caracter != \"\":\n",
    "    print(caracter)\n",
    "    caracter = archivo.readline(1)"
   ]
  },
  {
   "attachments": {},
   "cell_type": "markdown",
   "metadata": {},
   "source": [
    "### Método 3: `readlines( )`"
   ]
  },
  {
   "attachments": {},
   "cell_type": "markdown",
   "metadata": {},
   "source": [
    "Existe otro método llamado `readlines( )`, que devuelve una lista donde cada elemento es una línea del fichero."
   ]
  },
  {
   "cell_type": "code",
   "execution_count": 15,
   "metadata": {},
   "outputs": [
    {
     "name": "stdout",
     "output_type": "stream",
     "text": [
      "['Contenido de la primera línea\\n', 'Contenido de la segunda línea\\n', 'Contenido de la tercera línea\\n', 'Contenido de la cuarta línea']\n"
     ]
    }
   ],
   "source": [
    "archivo = open('../Python/Archivos/archivo.txt')\n",
    "lineas = archivo.readlines()\n",
    "print(lineas)"
   ]
  },
  {
   "attachments": {},
   "cell_type": "markdown",
   "metadata": {},
   "source": [
    "De manera muy sencilla podemos iterar las líneas e imprimirlas por pantalla."
   ]
  },
  {
   "cell_type": "code",
   "execution_count": 17,
   "metadata": {},
   "outputs": [
    {
     "name": "stdout",
     "output_type": "stream",
     "text": [
      "Contenido de la primera línea\n",
      "\n",
      "Contenido de la segunda línea\n",
      "\n",
      "Contenido de la tercera línea\n",
      "\n",
      "Contenido de la cuarta línea\n"
     ]
    }
   ],
   "source": [
    "archivo = open('../Python/Archivos/archivo.txt')\n",
    "lineas = archivo.readlines()\n",
    "for linea in lineas:\n",
    "    print(linea)"
   ]
  },
  {
   "attachments": {},
   "cell_type": "markdown",
   "metadata": {},
   "source": [
    "## Argumentos de `open()`"
   ]
  },
  {
   "attachments": {},
   "cell_type": "markdown",
   "metadata": {},
   "source": [
    "Hasta ahora hemos visto la función open() con tan sólo un argumento de entrada, el nombre del fichero. Lo cierto es que existe un segundo argumento que es importante especificar. Se trata del modo de apertura del fichero."
   ]
  },
  {
   "attachments": {},
   "cell_type": "markdown",
   "metadata": {},
   "source": [
    "* `‘r’`: Por defecto, para leer el fichero.\n",
    "* `‘w’`: Para escribir en el fichero.\n",
    "* `‘x’`: Para la creación, fallando si ya existe.\n",
    "* `‘a’`: Para añadir contenido a un fichero existente.\n",
    "* `‘b’`: Para abrir en modo binario."
   ]
  },
  {
   "attachments": {},
   "cell_type": "markdown",
   "metadata": {},
   "source": [
    "Por lo tanto lo estrictamete correcto si queremos leer el fichero sería hacer lo siguiente. Aunque el modo `r` sea por defecto, es una buena práctica indicarlo para darle a entender a otras personas que lean nuestro código que no queremos modificarlo, tan solo leerlo."
   ]
  },
  {
   "cell_type": "code",
   "execution_count": 18,
   "metadata": {},
   "outputs": [],
   "source": [
    "archivo = open('../Python/Archivos/archivo.txt','r')"
   ]
  },
  {
   "attachments": {},
   "cell_type": "markdown",
   "metadata": {},
   "source": [
    "## Cerrar archivos"
   ]
  },
  {
   "attachments": {},
   "cell_type": "markdown",
   "metadata": {},
   "source": [
    "Otra cosa que debemos hacer cuando trabajamos con ficheros en Python, es cerrarlos una vez que ya hemos acabado con ellos. Aunque es verdad que el fichero normalmente acabará siendo cerrado automáticamente, es importante especificarlo para evitar tener comportamientos inesperados."
   ]
  },
  {
   "attachments": {},
   "cell_type": "markdown",
   "metadata": {},
   "source": [
    "En resumen cuando queremos cerrar un fichero sólo tenemos que usar la función close() sobre el mismo. Por lo tanto tenemos tres pasos:\n",
    "\n",
    "* Abrir el fichero que queramos. En modo texto usaremos ‘r’.\n",
    "  \n",
    "* Usar el fichero para recopilar o procesar los datos que necesitábamos.\n",
    "\n",
    "* Cuando hayamos acabado, cerramos el fichero."
   ]
  },
  {
   "attachments": {},
   "cell_type": "markdown",
   "metadata": {},
   "source": [
    "### Método 1"
   ]
  },
  {
   "cell_type": "code",
   "execution_count": 19,
   "metadata": {},
   "outputs": [],
   "source": [
    "archivo = open('../Python/Archivos/archivo.txt','r')\n",
    "archivo.close()"
   ]
  },
  {
   "attachments": {},
   "cell_type": "markdown",
   "metadata": {},
   "source": [
    "### Método 2"
   ]
  },
  {
   "cell_type": "code",
   "execution_count": null,
   "metadata": {},
   "outputs": [],
   "source": []
  },
  {
   "attachments": {},
   "cell_type": "markdown",
   "metadata": {},
   "source": [
    "### Método 3"
   ]
  },
  {
   "cell_type": "markdown",
   "metadata": {},
   "source": []
  }
 ],
 "metadata": {
  "kernelspec": {
   "display_name": "Python 3",
   "language": "python",
   "name": "python3"
  },
  "language_info": {
   "codemirror_mode": {
    "name": "ipython",
    "version": 3
   },
   "file_extension": ".py",
   "mimetype": "text/x-python",
   "name": "python",
   "nbconvert_exporter": "python",
   "pygments_lexer": "ipython3",
   "version": "3.11.2"
  },
  "orig_nbformat": 4
 },
 "nbformat": 4,
 "nbformat_minor": 2
}
