{
 "cells": [
  {
   "cell_type": "markdown",
   "metadata": {},
   "source": [
    "# Diccionarios en Python"
   ]
  },
  {
   "attachments": {},
   "cell_type": "markdown",
   "metadata": {},
   "source": [
    "Los diccionarios en Python son una estructura de datos que permite almacenar contenido en forma de **llave** y **valor**."
   ]
  },
  {
   "attachments": {},
   "cell_type": "markdown",
   "metadata": {},
   "source": [
    "Un diccionario en Python es una colección de elementos, donde cada elemento  tiene una **llave** `key` y un **valor** `value`. Los diccionarios se pueden crear con paréntesis {} separando con una coma cada par key: value. "
   ]
  },
  {
   "attachments": {},
   "cell_type": "markdown",
   "metadata": {},
   "source": [
    "## Propiedades de los diccionario en Python son las siguientes:"
   ]
  },
  {
   "attachments": {},
   "cell_type": "markdown",
   "metadata": {},
   "source": [
    "\n",
    "* Son **dinámicos**, se pueden añadir o eliminar elementos.\n",
    "\n",
    "* Son **indexados**, los elementos del diccionario son accesibles a través del `key`.\n",
    "\n",
    "* Son **anidados**, un diccionario puede contener a otro diccionario en su campo `value`."
   ]
  },
  {
   "attachments": {},
   "cell_type": "markdown",
   "metadata": {},
   "source": [
    "## Crear diccionario Python"
   ]
  },
  {
   "attachments": {},
   "cell_type": "markdown",
   "metadata": {},
   "source": [
    "### Método 1"
   ]
  },
  {
   "cell_type": "code",
   "execution_count": null,
   "metadata": {},
   "outputs": [],
   "source": [
    "diccionario1 = {\"Nombre\": \"Sara\", \"Edad\": 27}\n",
    "print(type(diccionario1))\n",
    "print(diccionario1)"
   ]
  },
  {
   "attachments": {},
   "cell_type": "markdown",
   "metadata": {},
   "source": [
    "### Método 2"
   ]
  },
  {
   "attachments": {},
   "cell_type": "markdown",
   "metadata": {},
   "source": [
    "Otra forma equivalente de crear un diccionario en Python es usando el constructor `dict( )` e introduciendo los pares *key:value* entre paréntesis."
   ]
  },
  {
   "attachments": {},
   "cell_type": "markdown",
   "metadata": {},
   "source": [
    "Las pares *key-value* pueden ser tuplas:"
   ]
  },
  {
   "cell_type": "code",
   "execution_count": null,
   "metadata": {},
   "outputs": [],
   "source": [
    "#diccionario2 = dict([(\"Nombre\",\"Sara\"),(\"Edad\", 27)])\n",
    "diccionario2 = dict(((\"Nombre\",\"Sara\"),(\"Edad\", 27)))\n",
    "print(diccionario2)"
   ]
  },
  {
   "attachments": {},
   "cell_type": "markdown",
   "metadata": {},
   "source": [
    "Las pares *key-value* pueden ser listas:"
   ]
  },
  {
   "cell_type": "code",
   "execution_count": null,
   "metadata": {},
   "outputs": [],
   "source": [
    "#diccionario3 = dict(([\"Nombre\",\"Sara\"],[\"Edad\", 27]))\n",
    "diccionario3 = dict([[\"Nombre\",\"Sara\"],[\"Edad\", 27]])\n",
    "print(diccionario3)"
   ]
  },
  {
   "cell_type": "markdown",
   "metadata": {},
   "source": []
  },
  {
   "attachments": {},
   "cell_type": "markdown",
   "metadata": {},
   "source": [
    "### Método 3"
   ]
  },
  {
   "attachments": {},
   "cell_type": "markdown",
   "metadata": {},
   "source": [
    "Otra forma de utilizar el constructor `dict` para crear un diccionario es el siguiente: "
   ]
  },
  {
   "cell_type": "code",
   "execution_count": null,
   "metadata": {},
   "outputs": [],
   "source": [
    "diccionario3 = dict(Nombre='Sara', Edad=27)\n",
    "print(diccionario3)"
   ]
  },
  {
   "attachments": {},
   "cell_type": "markdown",
   "metadata": {},
   "source": [
    "**Observación:** En este último método los *keys* no son cadenas. "
   ]
  },
  {
   "attachments": {},
   "cell_type": "markdown",
   "metadata": {},
   "source": [
    "## Acceder, modificar y agregar nuevos elementos"
   ]
  },
  {
   "attachments": {},
   "cell_type": "markdown",
   "metadata": {},
   "source": [
    "Se puede **acceder a los elementos** de un diccionario  utilizando el key asociado `[key]` o también con la función `get()`"
   ]
  },
  {
   "cell_type": "code",
   "execution_count": null,
   "metadata": {},
   "outputs": [],
   "source": [
    "diccionario1 = {\"Nombre\": \"Sara\", \"Edad\": 27}\n",
    "#print(diccionario1['Nombre'])\n",
    "#print(diccionario1['Edad'])\n",
    "\n",
    "print(diccionario1.get('Nombre')) "
   ]
  },
  {
   "attachments": {},
   "cell_type": "markdown",
   "metadata": {},
   "source": [
    "Para **modificar un elemento** basta con usar `[ ]` con el nombre del `key` y asignar el `valor` que queremos."
   ]
  },
  {
   "cell_type": "code",
   "execution_count": null,
   "metadata": {},
   "outputs": [],
   "source": [
    "nombre='Laura'\n",
    "diccionario1['Nombre'] = nombre\n",
    "print(diccionario1)"
   ]
  },
  {
   "attachments": {},
   "cell_type": "markdown",
   "metadata": {},
   "source": [
    "**Si el `key` al que accedemos no existe, se añade automáticamente.**"
   ]
  },
  {
   "cell_type": "code",
   "execution_count": null,
   "metadata": {},
   "outputs": [],
   "source": [
    "diccionario1['Direccion'] = \"Calle 13\"\n",
    "print(diccionario1)"
   ]
  },
  {
   "attachments": {},
   "cell_type": "markdown",
   "metadata": {},
   "source": [
    "## Eliminar una entrada"
   ]
  },
  {
   "attachments": {},
   "cell_type": "markdown",
   "metadata": {},
   "source": [
    "Una entrada en el diccionario puede ser removida usando uno de los siguientes métodos:"
   ]
  },
  {
   "attachments": {},
   "cell_type": "markdown",
   "metadata": {},
   "source": [
    "### Método 1:"
   ]
  },
  {
   "attachments": {},
   "cell_type": "markdown",
   "metadata": {},
   "source": [
    "El método **pop(`key`)** elimina la entrada con la clave especificada. Este método devuelve el valor de la clave que se está eliminando. Si la clave no está presente, se devolverá un valor predeterminado (si se ha establecido mediante `setdefault()`). Si no se ha establecido un valor predeterminado, se generará un error."
   ]
  },
  {
   "cell_type": "code",
   "execution_count": null,
   "metadata": {},
   "outputs": [],
   "source": [
    "diccionario =  {'nombre': 'Antonio', 'apellido': 'López', 'edad': 45}\n",
    "print(diccionario)\n",
    "\n",
    "\n",
    "print(diccionario.pop('edad'))\n",
    "print(diccionario)\n",
    "\n"
   ]
  },
  {
   "attachments": {},
   "cell_type": "markdown",
   "metadata": {},
   "source": [
    "### Método 2"
   ]
  },
  {
   "attachments": {},
   "cell_type": "markdown",
   "metadata": {},
   "source": [
    "El método **popitem()** elimina el último elemento insertado en el diccionario (¡aunque antes de Python 3.7 se eliminó un elemento aleatorio en el diccionario!). El par `key-value` que se elimina se devuelve desde el método."
   ]
  },
  {
   "cell_type": "code",
   "execution_count": null,
   "metadata": {},
   "outputs": [],
   "source": [
    "diccionario =  {'nombre': 'Antonio', 'apellido': 'López', 'edad': 45}\n",
    "print(diccionario)\n",
    "\n",
    "print(diccionario.popitem())\n",
    "print(diccionario)"
   ]
  },
  {
   "attachments": {},
   "cell_type": "markdown",
   "metadata": {},
   "source": [
    "### Método 3"
   ]
  },
  {
   "attachments": {},
   "cell_type": "markdown",
   "metadata": {},
   "source": [
    "La palabra clave `del` elimina la entrada con la `key` especificada del diccionario. Esta palabra clave simplemente elimina el elemento; no devuelve el valor asociado. Es potencialmente más eficiente que **pop(`key`)**."
   ]
  },
  {
   "cell_type": "code",
   "execution_count": null,
   "metadata": {},
   "outputs": [],
   "source": [
    "diccionario =  {'nombre': 'Antonio', 'apellido': 'López', 'edad': 45}\n",
    "print(diccionario)\n",
    "\n",
    "del diccionario['edad']\n",
    "print(diccionario)"
   ]
  },
  {
   "attachments": {},
   "cell_type": "markdown",
   "metadata": {},
   "source": [
    "## Iterar diccionario"
   ]
  },
  {
   "attachments": {},
   "cell_type": "markdown",
   "metadata": {},
   "source": [
    "Los diccionarios se pueden iterar de manera muy similar a las listas u otras estructuras de datos. Para imprimir los key. En el siguiente código imprime los *key* del diccionario:"
   ]
  },
  {
   "cell_type": "code",
   "execution_count": null,
   "metadata": {},
   "outputs": [],
   "source": [
    "diccionario1 = {\"Nombre\": \"Sara\", \"Edad\": 27}\n",
    "for x in diccionario1:\n",
    "    print(x)"
   ]
  },
  {
   "attachments": {},
   "cell_type": "markdown",
   "metadata": {},
   "source": [
    "Se puede imprimir también sólo el *value*."
   ]
  },
  {
   "cell_type": "code",
   "execution_count": null,
   "metadata": {},
   "outputs": [],
   "source": [
    "for x in diccionario1:\n",
    "    print(diccionario1[x])"
   ]
  },
  {
   "attachments": {},
   "cell_type": "markdown",
   "metadata": {},
   "source": [
    "O si queremos imprimir el *key* y el *value* a la vez."
   ]
  },
  {
   "cell_type": "code",
   "execution_count": null,
   "metadata": {},
   "outputs": [],
   "source": [
    "for x, y in diccionario1.items():\n",
    "    print(x, y)"
   ]
  },
  {
   "attachments": {},
   "cell_type": "markdown",
   "metadata": {},
   "source": [
    "## Diccionarios anidados"
   ]
  },
  {
   "attachments": {},
   "cell_type": "markdown",
   "metadata": {},
   "source": [
    "Los diccionarios en Python pueden contener uno dentro de otro. Podemos ver como los valores anidado uno y dos del diccionario d contienen a su vez otro diccionario."
   ]
  },
  {
   "cell_type": "code",
   "execution_count": null,
   "metadata": {},
   "outputs": [],
   "source": [
    "d1 = {\"a\": 1, \"b\": 2}\n",
    "\n",
    "d2 = {\"c\": 3, \"d\": 4}\n",
    "\n",
    "diccionario = {\"diccionario1\" : d1, \"diccionario2\" : d2}\n",
    "\n",
    "print(diccionario)"
   ]
  },
  {
   "attachments": {},
   "cell_type": "markdown",
   "metadata": {},
   "source": [
    "## Crear un diccionario vacio\n",
    "\n",
    "Para crear un conjunto vacío, simplemente llama al constructor `set( )` sin parámetros. `{ }` **NO crea un conjunto vacío, sino un diccionario vacío.** Usa `set( )` si quieres crear un conjunto sin elementos."
   ]
  },
  {
   "attachments": {},
   "cell_type": "markdown",
   "metadata": {},
   "source": [
    "## Métodos de diccionarios en Python"
   ]
  },
  {
   "attachments": {},
   "cell_type": "markdown",
   "metadata": {},
   "source": [
    "<table >\n",
    "<tr>\n",
    "<td><b><tt>len(D)</tt></b>\n",
    "<td>Devuelve la longitud del diccionario <tt>D</tt>.\n",
    "<tr>\n",
    "<td><b><tt>D[k]</tt></b>\n",
    "<td>Devuelve el valor de la clave <tt>k</tt> del diccionario <tt>D</tt>, <br>\n",
    "o un error si <tt>k</tt> no se encuentra en el diccionario.\n",
    "<tr>\n",
    "<td><b><tt>D[k] = v</tt></b>\n",
    "<td>Asigna el valor <tt>v</tt> a la clave <tt>k</tt> del diccionario <tt>D</tt>.\n",
    "<tr>\n",
    "<td><b><tt>del D[k]</tt></b>\n",
    "<td>Elimina el item <tt>k</tt> del diccionario <tt>D</tt>.\n",
    "<tr>\n",
    "<td><b><tt>k in D</tt></b>\n",
    "<td>Devuelve <tt>True</tt> si <tt>k</tt> es una clave de <tt>D</tt>.\n",
    "<tr>\n",
    "<td><b><tt>D.keys()</tt></b>\n",
    "<td>Devuelve todas las claves en el diccionario <tt>D</tt>.\n",
    "<tr>\n",
    "<td><b><tt>D.values()</tt></b>\n",
    "<td>Devuelve todos los valores en el diccionario <tt>D</tt>.\n",
    "<tr>\n",
    "<td><b><tt>D.items()</tt></b>\n",
    "<td>Devuelve tuples <tt>(clave, valor)</tt> por cada ítem en el diccionario <tt>D</tt>.\n",
    "<tr>\n",
    "<td><b><tt>D.clear()</tt></b>\n",
    "<td>Borra todos los ítem en el diccionario <tt>D</tt>.\n",
    "<tr>\n",
    "<td><b><tt>D.copy()</tt></b>\n",
    "<td>Devuelve una copia del diccionario <tt>D</tt>.\n",
    "<tr>\n",
    "<td><b><tt>D1.update(D2)</tt></b>\n",
    "<td>Fusiona todas las entradas de <tt>D2</tt> en <tt>D1</tt>. Similar a<br>\n",
    "<tt>for (k, v) in D2.items(): D1[k] = v</tt>.\n",
    "<tr>\n",
    "<td><b><tt>D.get(k [, default])</tt></b>\n",
    "<td>Similar a <tt>D[k]</tt>, pero si <tt>k</tt> no se encuentra en el diccionario devuelve<br>\n",
    "el default (o <tt>None</tt> si no hay default) en vez de dar un error.\n",
    "<tr>\n",
    "<td><b><tt>D.setdefault(k, [, default])</tt></b>\n",
    "<td>Similar a <tt>D.get(key, default)</tt>, pero además asigna la clave <tt>k</tt><br>\n",
    "al valor por default si no se encuentra en el diccionario.\n",
    "<tr>\n",
    "<td><b><tt>D.popitem()</tt></b>\n",
    "<td>Devuelve y elimina un par arbitrario <tt>(clave, valor)</tt>.\n",
    "<tr>\n",
    "<td><b><tt>D.pop(k [, default])</tt></b>\n",
    "<td>Si <tt>k</tt> se encuentra en el diccionario, devuelve <tt>D[k]</tt> y borra <tt>k</tt>.<br>\n",
    "De lo contrario, devuelve el default.\n",
    "<tr>\n",
    "<td><b><tt>D.fromkeys(seq [, value])</tt></b>\n",
    "<td>Crea un nuevo diccionario con claves a partir de una secuencia <tt>seq</tt><br>\n",
    "y con valores asignados a <tt>value</tt>.\n",
    "</table>"
   ]
  },
  {
   "attachments": {},
   "cell_type": "markdown",
   "metadata": {},
   "source": [
    "## A practicar ... \n",
    "<center>\n",
    "<img src=\"../Imagenes/gorila_music.png\" alt=\"\", width=\"25%\" height=\"auto\">\n",
    "<!-- ![Tablero de ajedrez](./Quizes_Imagenes/tablero_ajedrez.jpg) -->\n",
    "</center>"
   ]
  },
  {
   "attachments": {},
   "cell_type": "markdown",
   "metadata": {},
   "source": [
    "### Práctica 6.1"
   ]
  },
  {
   "attachments": {},
   "cell_type": "markdown",
   "metadata": {},
   "source": [
    "#### Escribe un programa en Python que lea una línea de texto y determine e imprima el número de ocurrencias de cada palabra en la cadena. También imprime el número total de palabras únicas \n",
    "\n",
    "<center>\n",
    "<img src=\"../Imagenes/contador_palabras.png\" alt=\"\", width=\"25%\" height=\"auto\">\n",
    "<!-- ![Tablero de ajedrez](./Quizes_Imagenes/tablero_ajedrez.jpg) -->\n",
    "</center>"
   ]
  },
  {
   "cell_type": "markdown",
   "metadata": {},
   "source": []
  },
  {
   "cell_type": "code",
   "execution_count": null,
   "metadata": {},
   "outputs": [],
   "source": [
    "cadena='Esto es una linea de  texto que contiene texto'\n",
    "print(cadena.split(\" \",maxsplit=5))\n"
   ]
  },
  {
   "attachments": {},
   "cell_type": "markdown",
   "metadata": {},
   "source": [
    "# Archivos en Python "
   ]
  },
  {
   "attachments": {},
   "cell_type": "markdown",
   "metadata": {},
   "source": [
    "Al igual que en otros lenguajes de programación, en Python es posible **abrir archivos de texto** y **leer su contenido**. Los archivos o archivos pueden ser de lo más variado, desde un simple texto a contenido binario. Ahora nos veremos como **leer un archivo de texto**."
   ]
  },
  {
   "attachments": {},
   "cell_type": "markdown",
   "metadata": {},
   "source": [
    "## Abrir archivos en Python"
   ]
  },
  {
   "attachments": {},
   "cell_type": "markdown",
   "metadata": {},
   "source": [
    "Imagínate entonces que tienes un archivo de texto con unos datos, como podría ser un **.txt** o un **.csv**, y quieres leer su contenido para realizar algún tipo de operaciones sobre el mismo."
   ]
  },
  {
   "attachments": {},
   "cell_type": "markdown",
   "metadata": {},
   "source": [
    "Podemos utilizar la función `open( )` para abrir el archivo que queremos abrir pasando como *argumento* el nombre o la ruta del archivo."
   ]
  },
  {
   "cell_type": "code",
   "execution_count": 20,
   "metadata": {},
   "outputs": [],
   "source": [
    "archivo = open('../Python/Archivos/archivo.txt')"
   ]
  },
  {
   "attachments": {},
   "cell_type": "markdown",
   "metadata": {},
   "source": [
    "La función `open()` retorna un **objeto file**. Los objetos file contienen métodos y atributos que se usan para recolectar información sobre el archivo que acabamos de abrir, así como también para manipular dicho archivo."
   ]
  },
  {
   "cell_type": "markdown",
   "metadata": {},
   "source": [
    "## Argumentos de `open()`"
   ]
  },
  {
   "attachments": {},
   "cell_type": "markdown",
   "metadata": {},
   "source": [
    "La función `open()` tiene un segundo argumento que es importante especificar. Se trata del **modo de apertura del archivo**."
   ]
  },
  {
   "attachments": {},
   "cell_type": "markdown",
   "metadata": {},
   "source": [
    "* `‘r’`: Este es el valor por defecto para el segundo argumento, se utiliza para indicar que se quiere leer el archivo.\n",
    "  \n",
    "* `‘w’`: Para escribir en el archivo sin embargo si el archivo ya existe, se crea uno nuevo con el nombre indicado.\n",
    "  \n",
    "* `‘x’`: Para la creación de un archivo, devuelve un error si ya existe un archivo con el nombre especificado.\n",
    "  \n",
    "* `‘a’`: El archivo se abre para añadir contenido a un archivo ya existente.\n",
    "  \n",
    "* `‘b’`: Para abrir el archivo en modo binario."
   ]
  },
  {
   "attachments": {},
   "cell_type": "markdown",
   "metadata": {},
   "source": [
    "Aunque el modo `r` sea por defecto, es una buena práctica indicarlo para darle a entender a otras personas que lean nuestro código que no queremos modificarlo, tan solo leerlo. Por lo tanto lo estrictamete correcto si queremos sólo leer el archivo sería hacer lo siguiente. "
   ]
  },
  {
   "cell_type": "code",
   "execution_count": 2,
   "metadata": {},
   "outputs": [],
   "source": [
    "archivo = open('../Python/Archivos/archivo.txt','r')"
   ]
  },
  {
   "attachments": {},
   "cell_type": "markdown",
   "metadata": {},
   "source": [
    "## Imprimir archivos en Python"
   ]
  },
  {
   "attachments": {},
   "cell_type": "markdown",
   "metadata": {},
   "source": [
    "### Método 1:  `read( )`"
   ]
  },
  {
   "attachments": {},
   "cell_type": "markdown",
   "metadata": {},
   "source": [
    "Con `open()` tendremos ya en archivo el contenido del documento listo para usar, y podemos imprimir su contenido con `read( )`. El siguiente código imprime todo el archivo."
   ]
  },
  {
   "cell_type": "code",
   "execution_count": 4,
   "metadata": {},
   "outputs": [
    {
     "name": "stdout",
     "output_type": "stream",
     "text": [
      "Contenido de la primera línea\n",
      "Contenido de la segunda línea\n",
      "Contenido de la tercera línea\n",
      "Contenido de la cuarta línea\n",
      "Contenido de la quinta línea\n",
      "Contenido de la sexta línea\n"
     ]
    }
   ],
   "source": [
    "archivo = open('../Python/Archivos/archivo.txt','r')\n",
    "print(archivo.read())"
   ]
  },
  {
   "attachments": {},
   "cell_type": "markdown",
   "metadata": {},
   "source": [
    "### Método 2:  `readline( )`"
   ]
  },
  {
   "attachments": {},
   "cell_type": "markdown",
   "metadata": {},
   "source": [
    "Es posible también **leer un número de líneas determinado** y no todo el archivo de golpe. Para ello hacemos uso de la función `readline( )`. Cada vez que se llama a la función, se lee una línea."
   ]
  },
  {
   "cell_type": "code",
   "execution_count": 6,
   "metadata": {},
   "outputs": [
    {
     "name": "stdout",
     "output_type": "stream",
     "text": [
      "Contenido de la primera línea\n",
      "\n"
     ]
    }
   ],
   "source": [
    "archivo = open('../Python/Archivos/archivo.txt')\n",
    "print(archivo.readline())\n",
    "#print(archivo.readline())\n",
    "#print(archivo.readline())"
   ]
  },
  {
   "attachments": {},
   "cell_type": "markdown",
   "metadata": {},
   "source": [
    "**Observación:** Es muy importante saber que **una vez hayas leído todas las línea del archivo, la función ya no devolverá nada, porque se habrá llegado al final**. Si quieres que `readline( )` funcione otra vez, podrías por ejemplo volver a leer el archivo con `open()`. "
   ]
  },
  {
   "attachments": {},
   "cell_type": "markdown",
   "metadata": {},
   "source": [
    "El método `readline()` lee línea por línea el archivo. Podemos utilizar un bucle `while` para leer líneas mientras que no se haya llegado al final. Es por eso por lo que comparamos **linea != ''**, ya que se devuelve un string vació cuando se ha llegado al final."
   ]
  },
  {
   "cell_type": "code",
   "execution_count": 11,
   "metadata": {},
   "outputs": [
    {
     "name": "stdout",
     "output_type": "stream",
     "text": [
      "Contenido de la primera línea\n",
      "Contenido de la segunda línea\n",
      "Contenido de la tercera línea\n",
      "Contenido de la cuarta línea\n",
      "Contenido de la quinta línea\n",
      "Contenido de la sexta línea"
     ]
    }
   ],
   "source": [
    "archivo = open('../Python/Archivos/archivo.txt')\n",
    "linea = archivo.readline()\n",
    "while linea != '':\n",
    "        print(linea, end='')\n",
    "        linea = archivo.readline()"
   ]
  },
  {
   "attachments": {},
   "cell_type": "markdown",
   "metadata": {},
   "source": [
    "#### `readline(#)`"
   ]
  },
  {
   "cell_type": "markdown",
   "metadata": {},
   "source": [
    "Otra forma de usar `readline( )` es pasando como argumento un número. Este número **leerá un determinado número de caracteres**. El siguiente código lee todo el archivo carácter por carácter."
   ]
  },
  {
   "cell_type": "code",
   "execution_count": null,
   "metadata": {},
   "outputs": [
    {
     "name": "stdout",
     "output_type": "stream",
     "text": [
      "C\n",
      "onten\n",
      "ido d\n",
      "e la \n",
      "prime\n",
      "ra lí\n",
      "nea\n",
      "\n",
      "Conte\n",
      "nido \n",
      "de la\n",
      " segu\n",
      "nda l\n",
      "ínea\n",
      "\n",
      "Conte\n",
      "nido \n",
      "de la\n",
      " terc\n",
      "era l\n",
      "ínea\n",
      "\n",
      "Conte\n",
      "nido \n",
      "de la\n",
      " cuar\n",
      "ta lí\n",
      "nea\n",
      "\n",
      "Conte\n",
      "nido \n",
      "de la\n",
      " quin\n",
      "ta lí\n",
      "nea\n",
      "\n",
      "Conte\n",
      "nido \n",
      "de la\n",
      " sext\n",
      "a lín\n",
      "ea\n"
     ]
    }
   ],
   "source": [
    "archivo = open('../Python/Archivos/archivo.txt')\n",
    "caracter = archivo.readline(1)\n",
    "#print(caracter)\n",
    "while caracter != \"\":\n",
    "    print(caracter)\n",
    "    caracter = archivo.readline(5)\n"
   ]
  },
  {
   "attachments": {},
   "cell_type": "markdown",
   "metadata": {},
   "source": [
    "### Método 3: `readlines( )`"
   ]
  },
  {
   "attachments": {},
   "cell_type": "markdown",
   "metadata": {},
   "source": [
    "Existe otro método llamado `readlines( )`, que **devuelve una lista donde cada elemento es una línea del archivo de texto**."
   ]
  },
  {
   "cell_type": "code",
   "execution_count": 10,
   "metadata": {},
   "outputs": [
    {
     "name": "stdout",
     "output_type": "stream",
     "text": [
      "['Contenido de la primera línea\\n', 'Contenido de la segunda línea\\n', 'Contenido de la tercera línea\\n', 'Contenido de la cuarta línea\\n', 'Contenido de la quinta línea\\n', 'Contenido de la sexta línea']\n"
     ]
    }
   ],
   "source": [
    "archivo = open('../Python/Archivos/archivo.txt')\n",
    "lineas = archivo.readlines()\n",
    "print(lineas)"
   ]
  },
  {
   "attachments": {},
   "cell_type": "markdown",
   "metadata": {},
   "source": [
    "De manera muy sencilla podemos **iterar las líneas e imprimirlas en pantalla**."
   ]
  },
  {
   "cell_type": "code",
   "execution_count": 9,
   "metadata": {},
   "outputs": [
    {
     "name": "stdout",
     "output_type": "stream",
     "text": [
      "Contenido de la primera línea\n",
      "\n",
      "Contenido de la segunda línea\n",
      "\n",
      "Contenido de la tercera línea\n",
      "\n",
      "Contenido de la cuarta línea\n",
      "\n",
      "Contenido de la quinta línea\n",
      "\n",
      "Contenido de la sexta línea\n"
     ]
    }
   ],
   "source": [
    "archivo = open('../Python/Archivos/archivo.txt')\n",
    "lineas = archivo.readlines()\n",
    "for linea in lineas:\n",
    "    print(linea)"
   ]
  },
  {
   "attachments": {},
   "cell_type": "markdown",
   "metadata": {},
   "source": [
    "## Cerrar archivos"
   ]
  },
  {
   "attachments": {},
   "cell_type": "markdown",
   "metadata": {},
   "source": [
    "Otra cosa que debemos hacer cuando trabajamos con archivos en Python, es **cerrarlos una vez que ya hemos acabado con ellos**. Aunque es verdad que el archivo normalmente acabará siendo cerrado automáticamente, es importante especificarlo para evitar tener comportamientos inesperados.\n",
    "\n",
    "Cuando queremos cerrar un archivo sólo tenemos que usar la función `close()`"
   ]
  },
  {
   "attachments": {},
   "cell_type": "markdown",
   "metadata": {},
   "source": [
    "En **resumen** cuando trabajamos con archivos en Python se siguen en general tres pasos:\n",
    "\n",
    "* Abrir el archivo que queramos. En modo texto se tiene por defecto:  `‘r’`.\n",
    "  \n",
    "* Usamos el archivo para *recopilar* o *procesar* los datos que necesitábamos.\n",
    "\n",
    "* Cuando hayamos acabado, cerramos el archivo implementando la función: `close()` ."
   ]
  },
  {
   "attachments": {},
   "cell_type": "markdown",
   "metadata": {},
   "source": [
    "### Método 1"
   ]
  },
  {
   "cell_type": "code",
   "execution_count": 12,
   "metadata": {},
   "outputs": [],
   "source": [
    "archivo = open('../Python/Archivos/archivo.txt','r')\n",
    "\n",
    "archivo.close()"
   ]
  },
  {
   "attachments": {},
   "cell_type": "markdown",
   "metadata": {},
   "source": [
    "### Método 2"
   ]
  },
  {
   "attachments": {},
   "cell_type": "markdown",
   "metadata": {},
   "source": [
    "Existen otras formas de hacerlo, como con el uso de **excepciones** que veremos más adelante. \n",
    "\n",
    "No pasa nada si aún no entiendes pleamente el uso de `try` y `finally`, el bloque de código en la sección `finally` se ejecuta siempre sin importar si hay un error o no. De esta manera el `close( )` siempre será ejecutado."
   ]
  },
  {
   "cell_type": "code",
   "execution_count": 13,
   "metadata": {},
   "outputs": [],
   "source": [
    "archivo = open('../Python/Archivos/archivo.txt','r')\n",
    "try:\n",
    "    # Aquí agregas las instrucciones para indicar lo que quieres realizar con el archivo\n",
    "    pass\n",
    "finally:\n",
    "    # Esta sección siempre se ejecuta\n",
    "    archivo.close()"
   ]
  },
  {
   "attachments": {},
   "cell_type": "markdown",
   "metadata": {},
   "source": [
    "### Método 3"
   ]
  },
  {
   "attachments": {},
   "cell_type": "markdown",
   "metadata": {},
   "source": [
    "Y por si no fuera poco, existe otra forma de cerrar el archivo automáticamente. Si hacemos uso de `with()`, el archivo **se cerrará automáticamente una vez se salga de ese bloque de código**."
   ]
  },
  {
   "cell_type": "code",
   "execution_count": null,
   "metadata": {},
   "outputs": [],
   "source": [
    "with open('../Python/Archivos/archivo.txt','r') as archivo:\n",
    "    # Aquí agregas las instrucciones para indicar lo que quieres realizar con el archivo\n",
    "    lineas = archivo.readlines()\n",
    "    for linea in lineas:\n",
    "        print(linea)\n",
    "    pass"
   ]
  },
  {
   "attachments": {},
   "cell_type": "markdown",
   "metadata": {},
   "source": [
    "Como `readlines()` nos devuelve directamente una lista que podemos iterar con las líneas. Podemos utilizar el ciclo `for` de la siguiente manera:"
   ]
  },
  {
   "cell_type": "code",
   "execution_count": 31,
   "metadata": {},
   "outputs": [
    {
     "name": "stdout",
     "output_type": "stream",
     "text": [
      "Contenido de la primera línea\n",
      "Contenido de la segunda línea\n",
      "Contenido de la tercera línea\n",
      "Contenido de la cuarta línea\n",
      "Contenido de la quinta línea\n",
      "Contenido de la sexta línea"
     ]
    }
   ],
   "source": [
    "with open('../Python/Archivos/archivo.txt','r') as archivo:\n",
    "    for linea in archivo.readlines(): \n",
    "        print(linea, end='')"
   ]
  },
  {
   "attachments": {},
   "cell_type": "markdown",
   "metadata": {},
   "source": [
    "Nótese que usamos el `end=''` para decirle a Python que no imprima el salto de línea `\\n` al final del `print`. Pero puede ser simplificado aún más de la siguiente manera."
   ]
  },
  {
   "cell_type": "code",
   "execution_count": 32,
   "metadata": {},
   "outputs": [
    {
     "name": "stdout",
     "output_type": "stream",
     "text": [
      "Contenido de la primera línea\n",
      "Contenido de la segunda línea\n",
      "Contenido de la tercera línea\n",
      "Contenido de la cuarta línea\n",
      "Contenido de la quinta línea\n",
      "Contenido de la sexta línea"
     ]
    }
   ],
   "source": [
    "with open('../Python/Archivos/archivo.txt','r') as archivo:\n",
    "    for linea in archivo:\n",
    "        print(linea, end='')"
   ]
  },
  {
   "attachments": {},
   "cell_type": "markdown",
   "metadata": {},
   "source": [
    "# Escribir archivos en Python"
   ]
  },
  {
   "attachments": {},
   "cell_type": "markdown",
   "metadata": {},
   "source": [
    "Imagínate que tienes unos datos que te gustaría guardar en un archivo para su posterior análisis. A continuación veremos como guardarlos en un archivo, por ejemplo, `.txt`."
   ]
  },
  {
   "attachments": {},
   "cell_type": "markdown",
   "metadata": {},
   "source": [
    "Lo primero que debemos de hacer es **crear un objeto para el archivo**, con el nombre que queramos. Además del nombre se puede pasar un segundo parámetro que indica el **modo en el que se tratará el archivo**. \n",
    "\n",
    "* `‘w’`: Borra el archivo si ya existiese y crea uno nuevo con el nombre indicado.\n",
    "* `‘a’`: Añadirá el contenido al final del archivo si ya existiese (append end Inglés)\n",
    "* `‘x’`: Si ya existe el archivo se devuelve un error."
   ]
  },
  {
   "attachments": {},
   "cell_type": "markdown",
   "metadata": {},
   "source": [
    "Por lo tanto con la siguiente línea estamos creando un archivo con el *mi_primer_archivo.txt.*"
   ]
  },
  {
   "cell_type": "code",
   "execution_count": 34,
   "metadata": {},
   "outputs": [],
   "source": [
    "archivo = open(\"../Python/Archivos/mi_primer_archivo.txt\", 'w')"
   ]
  },
  {
   "attachments": {},
   "cell_type": "markdown",
   "metadata": {},
   "source": [
    "El uso de `‘x’` hace que si el archivo ya existe se devuelve un error. En el siguiente código intentamos crear un archivo con el mismo nombre: *mi_primer_archivo.txt* con la opción `‘x’`. Por lo tanto se devolverá un error."
   ]
  },
  {
   "cell_type": "code",
   "execution_count": 10,
   "metadata": {},
   "outputs": [
    {
     "ename": "FileExistsError",
     "evalue": "[Errno 17] File exists: '../Python/Archivos/mi_primer_archivo.txt'",
     "output_type": "error",
     "traceback": [
      "\u001b[0;31m---------------------------------------------------------------------------\u001b[0m",
      "\u001b[0;31mFileExistsError\u001b[0m                           Traceback (most recent call last)",
      "Cell \u001b[0;32mIn[10], line 1\u001b[0m\n\u001b[0;32m----> 1\u001b[0m archivo \u001b[39m=\u001b[39m \u001b[39mopen\u001b[39;49m(\u001b[39m\"\u001b[39;49m\u001b[39m../Python/Archivos/mi_primer_archivo.txt\u001b[39;49m\u001b[39m\"\u001b[39;49m, \u001b[39m'\u001b[39;49m\u001b[39mx\u001b[39;49m\u001b[39m'\u001b[39;49m)\n",
      "File \u001b[0;32m/Library/Frameworks/Python.framework/Versions/3.11/lib/python3.11/site-packages/IPython/core/interactiveshell.py:282\u001b[0m, in \u001b[0;36m_modified_open\u001b[0;34m(file, *args, **kwargs)\u001b[0m\n\u001b[1;32m    275\u001b[0m \u001b[39mif\u001b[39;00m file \u001b[39min\u001b[39;00m {\u001b[39m0\u001b[39m, \u001b[39m1\u001b[39m, \u001b[39m2\u001b[39m}:\n\u001b[1;32m    276\u001b[0m     \u001b[39mraise\u001b[39;00m \u001b[39mValueError\u001b[39;00m(\n\u001b[1;32m    277\u001b[0m         \u001b[39mf\u001b[39m\u001b[39m\"\u001b[39m\u001b[39mIPython won\u001b[39m\u001b[39m'\u001b[39m\u001b[39mt let you open fd=\u001b[39m\u001b[39m{\u001b[39;00mfile\u001b[39m}\u001b[39;00m\u001b[39m by default \u001b[39m\u001b[39m\"\u001b[39m\n\u001b[1;32m    278\u001b[0m         \u001b[39m\"\u001b[39m\u001b[39mas it is likely to crash IPython. If you know what you are doing, \u001b[39m\u001b[39m\"\u001b[39m\n\u001b[1;32m    279\u001b[0m         \u001b[39m\"\u001b[39m\u001b[39myou can use builtins\u001b[39m\u001b[39m'\u001b[39m\u001b[39m open.\u001b[39m\u001b[39m\"\u001b[39m\n\u001b[1;32m    280\u001b[0m     )\n\u001b[0;32m--> 282\u001b[0m \u001b[39mreturn\u001b[39;00m io_open(file, \u001b[39m*\u001b[39;49margs, \u001b[39m*\u001b[39;49m\u001b[39m*\u001b[39;49mkwargs)\n",
      "\u001b[0;31mFileExistsError\u001b[0m: [Errno 17] File exists: '../Python/Archivos/mi_primer_archivo.txt'"
     ]
    }
   ],
   "source": [
    "archivo = open(\"../Python/Archivos/mi_primer_archivo.txt\", 'x')"
   ]
  },
  {
   "attachments": {},
   "cell_type": "markdown",
   "metadata": {},
   "source": [
    "Si por lo contrario **queremos añadir contenido al ya existente en un archivo de texto previo**, podemos hacerlo en el modo `append` como se ha indicado antes."
   ]
  },
  {
   "cell_type": "code",
   "execution_count": 35,
   "metadata": {},
   "outputs": [],
   "source": [
    "archivo = open(\"../Python/Archivos/mi_primer_archivo.txt\", 'a')"
   ]
  },
  {
   "attachments": {},
   "cell_type": "markdown",
   "metadata": {},
   "source": [
    "## Método 1: "
   ]
  },
  {
   "cell_type": "code",
   "execution_count": 1,
   "metadata": {},
   "outputs": [],
   "source": [
    "#archivo = open(\"datos_guardados.txt\", 'w')\n",
    "archivo = open(\"../Python/Archivos/mi_primer_archivo.txt\", 'a')\n",
    "archivo.write(\"\\n Esta es la ultima linea que voy a agregar\")\n",
    "archivo.close()"
   ]
  },
  {
   "attachments": {},
   "cell_type": "markdown",
   "metadata": {},
   "source": [
    "Por lo tanto si ahora abrimos el archivo *archivo.txt*, veremos como efectivamente contiene la línea: \"Esta es la ultima linea que voy a agregar\".\n",
    "\n",
    "Es muy importante el uso de `close( )` ya que si dejamos el archivo abierto, podríamos llegar a tener un comportamiento inesperado que queremos evitar. Por lo tanto, siempre que se abre un archivo es necesario cerrarlo cuando hayamos acabado."
   ]
  },
  {
   "attachments": {},
   "cell_type": "markdown",
   "metadata": {},
   "source": [
    "Ahora **vamos a guardar una lista de elementos en el archivo**, donde cada elemento de la lista se almacenará en una línea distinta."
   ]
  },
  {
   "cell_type": "code",
   "execution_count": 6,
   "metadata": {},
   "outputs": [],
   "source": [
    "archivo = open(\"../Python/Archivos/mi_primer_archivo.txt\", 'w')\n",
    "lista = [\"Edith\", \"Miguel\", \"Dalia\", \"Franco\", \"Javier\"]\n",
    "for linea in lista:\n",
    "    archivo.write(linea + \"\\n\")    \n",
    "archivo.close()"
   ]
  },
  {
   "attachments": {},
   "cell_type": "markdown",
   "metadata": {},
   "source": [
    "**Observaciòn:** Estamos almacenando la línea mas `\\n`. Es importante añadir el salto de línea porque por defecto no se añade, y si queremos que cada elemento de la lista se almacena en una línea distinta, será necesario su uso."
   ]
  },
  {
   "attachments": {},
   "cell_type": "markdown",
   "metadata": {},
   "source": [
    "## Método 2"
   ]
  },
  {
   "attachments": {},
   "cell_type": "markdown",
   "metadata": {},
   "source": [
    "También podemos usar el método `writelines( )` y pasarle una lista. Dicho método se encargará de guardar todos los elementos de la lista en el archivo."
   ]
  },
  {
   "cell_type": "code",
   "execution_count": 13,
   "metadata": {},
   "outputs": [
    {
     "name": "stdout",
     "output_type": "stream",
     "text": [
      "EdithMiguelDaliaFrancoJavier\n"
     ]
    }
   ],
   "source": [
    "archivo = open(\"../Python/Archivos/mi_primer_archivo.txt\", 'w')\n",
    "lista = [\"Edith\", \"Miguel\", \"Dalia\", \"Franco\", \"Javier\"]\n",
    "archivo.writelines(lista)\n",
    "archivo = open(\"../Python/Archivos/mi_primer_archivo.txt\", 'r')\n",
    "print(archivo.read())\n",
    "archivo.close()\n"
   ]
  },
  {
   "attachments": {},
   "cell_type": "markdown",
   "metadata": {},
   "source": [
    "**Observación:** En realidad lo que se guarda es *EdithMiguelDaliaFrancoJavier*, todo junto. Si queremos que cada elemento se almacene en una línea distinta, deberíamos añadir el salto de línea en cada elemento de la lista como se muestra a continuación."
   ]
  },
  {
   "cell_type": "code",
   "execution_count": 12,
   "metadata": {},
   "outputs": [
    {
     "name": "stdout",
     "output_type": "stream",
     "text": [
      "Edith\n",
      "Miguel\n",
      "Dalia\n",
      "Franco\n",
      "Javier\n",
      "\n"
     ]
    }
   ],
   "source": [
    "archivo = open(\"../Python/Archivos/mi_primer_archivo.txt\", 'w')\n",
    "lista = [\"Edith\\n\", \"Miguel\\n\", \"Dalia\\n\", \"Franco\\n\", \"Javier\\n\"]\n",
    "\n",
    "archivo.writelines(lista)\n",
    "archivo = open(\"../Python/Archivos/mi_primer_archivo.txt\", 'r')\n",
    "print(archivo.read())\n",
    "archivo.close()\n"
   ]
  },
  {
   "attachments": {},
   "cell_type": "markdown",
   "metadata": {},
   "source": [
    "## Usando el `with`"
   ]
  },
  {
   "attachments": {},
   "cell_type": "markdown",
   "metadata": {},
   "source": [
    "Utilizando la instrucción `with` podemos ahorrararnos una línea de código. En este caso nos podemos ahorrar la llamada al `close()` ya que se realiza automáticamente. El código anterior se podría reescribir de la siguiente manera:"
   ]
  },
  {
   "cell_type": "code",
   "execution_count": 9,
   "metadata": {},
   "outputs": [
    {
     "name": "stdout",
     "output_type": "stream",
     "text": [
      "Edith\n",
      "Miguel\n",
      "Dalia\n",
      "Franco\n",
      "Javier\n",
      "\n"
     ]
    }
   ],
   "source": [
    "lista = [\"Edith\\n\", \"Miguel\\n\", \"Dalia\\n\", \"Franco\\n\", \"Javier\\n\"]\n",
    "with open(\"../Python/Archivos/mi_primer_archivo.txt\", 'w') as archivo:\n",
    "     archivo.writelines(lista)\n",
    "     \n",
    "archivo = open(\"../Python/Archivos/mi_primer_archivo.txt\", 'r')\n",
    "print(archivo.read())\n",
    "archivo.close()\n"
   ]
  },
  {
   "attachments": {},
   "cell_type": "markdown",
   "metadata": {},
   "source": [
    "# A practicar ... \n",
    "<center>\n",
    "<img src=\"../Imagenes/gorila_music.png\" alt=\"\", width=\"25%\" height=\"auto\">\n",
    "<!-- ![Tablero de ajedrez](./Quizes_Imagenes/tablero_ajedrez.jpg) -->\n",
    "</center>"
   ]
  },
  {
   "attachments": {},
   "cell_type": "markdown",
   "metadata": {},
   "source": [
    "# Practica\n",
    "\n",
    "### 1. Crear un archivo de texto llamado 'frases.txt' y almacenar las siguientes tres líneas de texto:\n",
    "####  - No te preocupes por tus dificultades en matemáticas. Te aseguro que las mías son aún mayores.\n",
    "#### - Un matemático es una máquina que transforma café en teoremas.\n",
    "####  - Si he logrado ver más haya que los demas es porque he andado sobre hombros de gigantes\n",
    "####  - No digas no puedo ni en broma, porque el inconsciente no tiene sentido del humor, lo tomará en serio, y te lo recordará cada vez que lo intentes\n",
    "\n",
    "### 2. Leer e imprimir el contenido del archivo de texto 'frases.txt'.\n",
    "\n",
    "### 3. Leer el contenido del archivo de texto 'frases.txt' línea a línea.\n",
    "\n",
    "### 4. Leer el contenido del archivo de texto 'frases.txt' y almacenar sus líneas en una lista. Imprimir la cantidad de líneas que tiene el archivo y el contenido del archivo.\n",
    "\n",
    "### 5. Abrir un archivo de texto con el parámetro \"a\", imprimir su contenido actual y agregar luego dos líneas al final (estas dos lineas tienen que ser frases que a ti te guste y te motiven mucho)."
   ]
  },
  {
   "attachments": {},
   "cell_type": "markdown",
   "metadata": {},
   "source": [
    "## Practica 6.2 Números de línea de un archivo"
   ]
  },
  {
   "attachments": {},
   "cell_type": "markdown",
   "metadata": {},
   "source": [
    "### Crea un programa en Python  que lea las líneas de un archivo, les agregue números de línea al principio de cada línea y luego almacene las líneas numeradas en un nuevo archivo. Cada línea del archivo nuevo de salida debe comenzar con el número de línea, seguido de dos puntos y un espacio, seguido de la línea del archivo de entrada."
   ]
  },
  {
   "attachments": {},
   "cell_type": "markdown",
   "metadata": {},
   "source": [
    "## Practica 6.2 Palabras más largas en un archivo"
   ]
  },
  {
   "attachments": {},
   "cell_type": "markdown",
   "metadata": {},
   "source": [
    "### Crea un programa en Python que identifique la(s) palabra(s) más larga(s) en un archivo. El programa debe imprimir un  mensaje apropiado que incluya la longitud de la palabra más larga, junto con todas las palabras de esa longitud que se encuentran en el archivo. Considera cualquier grupo de caracteres que se encuentren juntos y que no sean espacios en blanco como una palabra, incluso si este incluye dígitos o signos de puntuación."
   ]
  },
  {
   "cell_type": "code",
   "execution_count": 11,
   "metadata": {},
   "outputs": [
    {
     "name": "stdout",
     "output_type": "stream",
     "text": [
      "año\n"
     ]
    }
   ],
   "source": []
  },
  {
   "cell_type": "markdown",
   "metadata": {},
   "source": []
  }
 ],
 "metadata": {
  "kernelspec": {
   "display_name": "Python 3",
   "language": "python",
   "name": "python3"
  },
  "language_info": {
   "codemirror_mode": {
    "name": "ipython",
    "version": 3
   },
   "file_extension": ".py",
   "mimetype": "text/x-python",
   "name": "python",
   "nbconvert_exporter": "python",
   "pygments_lexer": "ipython3",
   "version": "3.11.2"
  },
  "orig_nbformat": 4
 },
 "nbformat": 4,
 "nbformat_minor": 2
}
