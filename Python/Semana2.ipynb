{
 "cells": [
  {
   "cell_type": "markdown",
   "metadata": {},
   "source": [
    "# Escribir/ imprimir en Python"
   ]
  },
  {
   "cell_type": "markdown",
   "metadata": {},
   "source": [
    "### Mi primer programa en Python"
   ]
  },
  {
   "cell_type": "markdown",
   "metadata": {},
   "source": [
    "Para escribir o imprimir  un mensaje (cadena de caracteres) en Python utilizamos el comando `print( )`,  encerrando  entre comillas simples ` '... ' `  o dobles `\"...\"` el mensaje obteniendo el mismo resultado: "
   ]
  },
  {
   "cell_type": "code",
   "execution_count": null,
   "metadata": {},
   "outputs": [
    {
     "name": "stdout",
     "output_type": "stream",
     "text": [
      "¡Hola mundo!\n"
     ]
    }
   ],
   "source": [
    "print('¡Hola mundo!') #Utilizando comillas simples"
   ]
  },
  {
   "cell_type": "code",
   "execution_count": null,
   "metadata": {},
   "outputs": [
    {
     "name": "stdout",
     "output_type": "stream",
     "text": [
      "¡Hola mundo!\n"
     ]
    }
   ],
   "source": [
    "print(\"¡Hola mundo!\") #Utilizando comillas dobles"
   ]
  },
  {
   "cell_type": "markdown",
   "metadata": {},
   "source": [
    "Si necesitas imprimir comillas simples o dobles dentro del mensaje, puedes combinarlas de la siguiente manera:"
   ]
  },
  {
   "cell_type": "code",
   "execution_count": null,
   "metadata": {},
   "outputs": [
    {
     "name": "stdout",
     "output_type": "stream",
     "text": [
      "Le gusta que le digan \"Beto\" \n"
     ]
    }
   ],
   "source": [
    "print('Le gusta que le digan \"Beto\" ')"
   ]
  },
  {
   "cell_type": "code",
   "execution_count": null,
   "metadata": {},
   "outputs": [
    {
     "name": "stdout",
     "output_type": "stream",
     "text": [
      "Le gusta que le digan 'Beto'\n"
     ]
    }
   ],
   "source": [
    "print(\"Le gusta que le digan 'Beto'\")"
   ]
  },
  {
   "cell_type": "markdown",
   "metadata": {},
   "source": [
    "O bien puedes utilizar `\\` para *escapar comillas*:"
   ]
  },
  {
   "cell_type": "code",
   "execution_count": null,
   "metadata": {},
   "outputs": [
    {
     "name": "stdout",
     "output_type": "stream",
     "text": [
      "Le gusta que le digan \"Beto\" \n"
     ]
    }
   ],
   "source": [
    "print(\"Le gusta que le digan \\\"Beto\\\" \")"
   ]
  },
  {
   "attachments": {},
   "cell_type": "markdown",
   "metadata": {},
   "source": [
    "La instrucción `print( )` también trabaja con enteros."
   ]
  },
  {
   "attachments": {},
   "cell_type": "markdown",
   "metadata": {},
   "source": [
    "#### **Observación:**\n",
    "\n",
    "Cuando se escribe un número grande podríamos estar tentados a usar comas para separar grupos de tres dígitos, como en $1,000,000$. Esto no es un número entero válido en Python, pero sí es aceptado en una sentencia como:\n"
   ]
  },
  {
   "cell_type": "code",
   "execution_count": null,
   "metadata": {},
   "outputs": [],
   "source": [
    "print (1,000,000)"
   ]
  },
  {
   "cell_type": "markdown",
   "metadata": {},
   "source": [
    "## Salto de línea"
   ]
  },
  {
   "cell_type": "code",
   "execution_count": null,
   "metadata": {},
   "outputs": [
    {
     "data": {
      "text/plain": [
       "'Primera linea de texto\\n Segunda linea de texto'"
      ]
     },
     "metadata": {},
     "output_type": "display_data"
    }
   ],
   "source": [
    "texto=\"Primera linea de texto\\n Segunda linea de texto\"\n",
    "texto\n",
    "#print(texto)"
   ]
  },
  {
   "cell_type": "markdown",
   "metadata": {},
   "source": [
    "**Observacíon:** La función `print()` produce una salida más legible, omitiendo las comillas que la encierran e imprimiendo caracteres especiales y escapados:"
   ]
  },
  {
   "cell_type": "markdown",
   "metadata": {},
   "source": [
    "Si no quieres que los caracteres precedidos por \\ se interpreten como caracteres especiales, puedes usar cadenas sin formato agregando una r antes de la primera comilla:"
   ]
  },
  {
   "cell_type": "code",
   "execution_count": null,
   "metadata": {},
   "outputs": [
    {
     "name": "stdout",
     "output_type": "stream",
     "text": [
      "C:\n",
      "ame\n",
      "C:\\name\n"
     ]
    }
   ],
   "source": [
    "print('C:\\name')\n",
    "print(r'C:\\name')"
   ]
  },
  {
   "cell_type": "markdown",
   "metadata": {},
   "source": [
    "## Imprimir  múltiples líneas"
   ]
  },
  {
   "cell_type": "markdown",
   "metadata": {},
   "source": [
    "Las cadenas de texto literales pueden contener múltiples líneas. Una forma es usar triples comillas: \n",
    "`\"\"\". . .\"\"\"` o `'''. . .'''`. Los fin de línea son incluidos automáticamente, pero es posible prevenir esto agregando una `\\` al final de la línea. Por ejemplo:"
   ]
  },
  {
   "cell_type": "code",
   "execution_count": null,
   "metadata": {},
   "outputs": [
    {
     "name": "stdout",
     "output_type": "stream",
     "text": [
      "Usage: thingy [OPTIONS]\n",
      "     -h                    Display this usage message\n",
      "     -H hostname               Hostname to connect to\n",
      "\n"
     ]
    }
   ],
   "source": [
    "print(\"\"\"\\\n",
    "Usage: thingy [OPTIONS]\n",
    "     -h                    Display this usage message\n",
    "     -H hostname               Hostname to connect to\n",
    "\"\"\")"
   ]
  },
  {
   "attachments": {},
   "cell_type": "markdown",
   "metadata": {},
   "source": [
    "El comando `print( )` también funciona con variables. Puedes utilizar el comando `print( )` para imprimir el valor de una variable: "
   ]
  },
  {
   "cell_type": "code",
   "execution_count": null,
   "metadata": {},
   "outputs": [
    {
     "name": "stdout",
     "output_type": "stream",
     "text": [
      "50\n"
     ]
    }
   ],
   "source": [
    "x = 50\n",
    "print(x)"
   ]
  },
  {
   "cell_type": "markdown",
   "metadata": {},
   "source": [
    "También puedes imprimir un mensaje para acompañar el valor de la variable:"
   ]
  },
  {
   "cell_type": "code",
   "execution_count": null,
   "metadata": {},
   "outputs": [
    {
     "name": "stdout",
     "output_type": "stream",
     "text": [
      "El valor de la variable x es:  50\n"
     ]
    }
   ],
   "source": [
    "print('El valor de la variable x es: ', x)"
   ]
  },
  {
   "cell_type": "markdown",
   "metadata": {},
   "source": [
    "# Uso del punto y coma en Python"
   ]
  },
  {
   "cell_type": "markdown",
   "metadata": {},
   "source": [
    "El punto y coma permite escribir distintas instrucciones en una misma línea. Por ejemplo, puedes asignar valores a distintas variables en una sóla linea utilizando **;** para separar cada asignación: "
   ]
  },
  {
   "cell_type": "code",
   "execution_count": null,
   "metadata": {},
   "outputs": [
    {
     "data": {
      "text/plain": [
       "10"
      ]
     },
     "metadata": {},
     "output_type": "display_data"
    }
   ],
   "source": [
    "x=3; y=2; z=5; x+y+z"
   ]
  },
  {
   "cell_type": "code",
   "execution_count": null,
   "metadata": {},
   "outputs": [
    {
     "name": "stdout",
     "output_type": "stream",
     "text": [
      "Hola\n",
      "Mundo\n"
     ]
    }
   ],
   "source": [
    "print(\"Hola\"); print(\"Mundo\")"
   ]
  },
  {
   "cell_type": "markdown",
   "metadata": {},
   "source": [
    "De ahí que terminar las líneas con este carácter, si bien no es necesario, no genera ningún error:"
   ]
  },
  {
   "cell_type": "code",
   "execution_count": null,
   "metadata": {},
   "outputs": [
    {
     "name": "stdout",
     "output_type": "stream",
     "text": [
      "Hola\n"
     ]
    }
   ],
   "source": [
    "print(\"Hola\"); # Terminar una instrucción con ; no es necesario pero tampoco produce un error."
   ]
  },
  {
   "cell_type": "markdown",
   "metadata": {},
   "source": [
    "# Variables en Python"
   ]
  },
  {
   "cell_type": "markdown",
   "metadata": {},
   "source": [
    "\n",
    "## Declaración (asignación) de variables en Python \n",
    "\n",
    "La declararación de  una variable es increíblemente simple en Python. Las **variables** son una forma de almacenar un dato y son una parte fundamental de Python, como lo son con cualquier lenguaje de programación. Las variables tienen dos componentes, el ***nombre*** o ***identificador*** y su ***valor***. "
   ]
  },
  {
   "cell_type": "code",
   "execution_count": null,
   "metadata": {},
   "outputs": [
    {
     "name": "stdout",
     "output_type": "stream",
     "text": [
      "1\n",
      "Cadena de caracteres\n"
     ]
    }
   ],
   "source": [
    "x = 1 # Declaración de la variable x \n",
    "y = \"Esto es una cadena de caracteres\" # Declaración de la variable y\n",
    "print(x)\n",
    "print(y)"
   ]
  },
  {
   "cell_type": "markdown",
   "metadata": {},
   "source": [
    "Las variables en Python se crean simplemente asignando (estableciendo) sus valores, eso es todo,  no hay más que hacer. De esta manera a diferencia de otros lenguajes de programación, **no es necesario especificar el tipo de dato** de  la  variable, **se realiza automáticamente**, Python detecta que tipo de dato es el que se esta almacenando."
   ]
  },
  {
   "attachments": {},
   "cell_type": "markdown",
   "metadata": {},
   "source": [
    "## Reglas de nomenclatura para variables en Python"
   ]
  },
  {
   "attachments": {},
   "cell_type": "markdown",
   "metadata": {},
   "source": [
    "Los programadores generalmente escogemos nombres significativos para las variables (especifiquen para qué se usa o que almacena la variable).\n",
    "\n",
    "Los nombres de variables pueden ser arbitrariamente largos. Pueden contener letras y números, pero tienen que empezar con una letra. Aunque es permitido usar letras mayúsculas, por convención no lo haremos. Si lo hacemos, recuerda que las letras mayúsculas importan, `Pablo` y `pablo` denotan variables diferentes."
   ]
  },
  {
   "attachments": {},
   "cell_type": "markdown",
   "metadata": {},
   "source": [
    "\n",
    "Estas son algunas buenas reglas para **nombres validos de variables en Python** :\n",
    "\n",
    "* El nombre de la variable debe comenzar con una letra minuscula.\n",
    "\n",
    "* El nombre de la variable no puede comenzar con un número o símbolo.\n",
    "\n",
    "* Dentro del  nombre de la variable, solo puede contener caracteres alfanuméricos, con la única excepción de los guiones bajos que a menudo se usa en nombres con múltiples palabras, tales como: `umar_huatulco`\n",
    "\n",
    "Bajo estas reglas, enseguida se muestran  algunos ejemplos de nombres de variables  válidos de Python:"
   ]
  },
  {
   "cell_type": "code",
   "execution_count": null,
   "metadata": {},
   "outputs": [],
   "source": [
    "variable\n",
    "Variable\n",
    "variable_1\n",
    "_variable_"
   ]
  },
  {
   "cell_type": "markdown",
   "metadata": {},
   "source": [
    "Enseguida se muestran algunos  ejemplos de nombres de variables de Python no válidos:"
   ]
  },
  {
   "cell_type": "code",
   "execution_count": null,
   "metadata": {},
   "outputs": [
    {
     "ename": "SyntaxError",
     "evalue": "invalid decimal literal (3658697568.py, line 1)",
     "output_type": "error",
     "traceback": [
      "\u001b[1;36m  Cell \u001b[1;32mIn [18], line 1\u001b[1;36m\u001b[0m\n",
      "\n",
      "\u001b[1;33m    0variable\u001b[0m\n",
      "\n",
      "\u001b[1;37m    ^\u001b[0m\n",
      "\n",
      "\u001b[1;31mSyntaxError\u001b[0m\u001b[1;31m:\u001b[0m invalid decimal literal\n"
     ]
    }
   ],
   "source": [
    "0variable\n",
    "&variable\n",
    "%variable_1\n",
    "$variable_ = 3"
   ]
  },
  {
   "cell_type": "markdown",
   "metadata": {},
   "source": [
    "#### **Observación** \n",
    "\n",
    "Es muy importante tener en cuenta que Python distingue mayúsculas de minúsculas, así que `Hola` es un identificador y `hola` es otro identificador."
   ]
  },
  {
   "cell_type": "markdown",
   "metadata": {},
   "source": [
    "## Palabras reservadas en Python "
   ]
  },
  {
   "cell_type": "markdown",
   "metadata": {},
   "source": [
    "Python reserva $31$ palabras para describir la estructura del programa, y no permite que se usen como identificadores (nombres de variables). Cuando en un programa nos encontramos con que un nombre no es admitido pese a que su formato es válido, seguramente se trata de una de las palabras de esta lista, a la que llamaremos de **palabras reservadas**. A continuación se presenta una  lista completa de las palabras reservadas de Python:"
   ]
  },
  {
   "cell_type": "markdown",
   "metadata": {},
   "source": [
    "<pre>\n",
    "<b>\n",
    "and        del       from     not      while\n",
    "as         elif      global   or       with\n",
    "assert     else      if       pass     yield\n",
    "break      except    import   print\n",
    "class      exec      in       raise\n",
    "continue   finally   is       return\n",
    "def        for       lambda   try\n",
    "</b>\n",
    "</pre>"
   ]
  },
  {
   "cell_type": "markdown",
   "metadata": {},
   "source": [
    "# Operadores, expresiones y sentencias en Python"
   ]
  },
  {
   "cell_type": "markdown",
   "metadata": {},
   "source": [
    "En Python es importante distinguir  entre ***operadores***, ***expresiones*** y ***sentencias***, ya que son las formas básicas que componen la estructura de cualquier programa."
   ]
  },
  {
   "cell_type": "markdown",
   "metadata": {},
   "source": [
    "## Operadores"
   ]
  },
  {
   "attachments": {},
   "cell_type": "markdown",
   "metadata": {},
   "source": [
    "En Python, los ***operadores*** son **simbolos especiales que actuan sobre una, dos o más variables y/o literales para  realizar cálculos y comparaciones** en *expresiones*. Algunos de los operadores más comunes en Python son:\n",
    "\n",
    "* **Aritméticos**:   `+`,  `-`,  `*` , `/` , `%` (*módulo*), `//` (*división entera*), `**` (potencia)\n",
    "\n",
    "* **Asignación**:  `=`, `+=`, `-=`, `*=`, `/=`, `%=`, `//=`, `**=`\n",
    "\n",
    "* **Comparación**:  `==`, `!=`, `<`,` >`,` <=`,` >=`\n",
    "\n",
    "* **Lógicos**:  `and`, `or`, `not`\n",
    "\n",
    "* **Pertenencia**:  `in`, `not in`\n",
    "\n",
    "* **Identidad**:  `is`, `is not`\n",
    "\n",
    "Los operadores se utilizan para crear *expresiones* que se evalúan obteniendo valores booleanos, números, cadenas de texto, etc. \n",
    "\n",
    "Por ejemplo, `2 + 3` es una expresión que utiliza el operador de *suma* `+` para calcular el valor `5`."
   ]
  },
  {
   "attachments": {},
   "cell_type": "markdown",
   "metadata": {},
   "source": [
    "## Expresiones"
   ]
  },
  {
   "attachments": {},
   "cell_type": "markdown",
   "metadata": {},
   "source": [
    "En Python, una ***expresión*** es una **secuencia de *valores*, *variables* y *operadores* que produce un resultado cuando se evalúa**. Las expresiones pueden ser muy simples, como un número o una variable, o más complejas, combinando varios valores y operadores. Los siguientes son ejemplos de expresiones en Python:"
   ]
  },
  {
   "cell_type": "code",
   "execution_count": 5,
   "metadata": {},
   "outputs": [
    {
     "data": {
      "text/plain": [
       "5"
      ]
     },
     "execution_count": 5,
     "metadata": {},
     "output_type": "execute_result"
    }
   ],
   "source": [
    "2 + 3 #suma de dos números."
   ]
  },
  {
   "cell_type": "code",
   "execution_count": 1,
   "metadata": {},
   "outputs": [
    {
     "data": {
      "text/plain": [
       "'hola mundo'"
      ]
     },
     "execution_count": 1,
     "metadata": {},
     "output_type": "execute_result"
    }
   ],
   "source": [
    "\"hola\" + \" mundo\" # concatenación de dos cadenas de texto."
   ]
  },
  {
   "cell_type": "code",
   "execution_count": 5,
   "metadata": {},
   "outputs": [
    {
     "data": {
      "text/plain": [
       "3"
      ]
     },
     "execution_count": 5,
     "metadata": {},
     "output_type": "execute_result"
    }
   ],
   "source": [
    "10 // 3 # división entera de dos números."
   ]
  },
  {
   "cell_type": "code",
   "execution_count": 3,
   "metadata": {},
   "outputs": [
    {
     "data": {
      "text/plain": [
       "4"
      ]
     },
     "execution_count": 3,
     "metadata": {},
     "output_type": "execute_result"
    }
   ],
   "source": [
    "len(\"hola\")  # llamada a una función que devuelve el número de caracteres en una cadena."
   ]
  },
  {
   "attachments": {},
   "cell_type": "markdown",
   "metadata": {},
   "source": [
    "En Python, las expresiones se utilizan en muchos lugares, como en *asignaciones de variables*, en *argumentos de funciones*, en  *condicionales*, etc."
   ]
  },
  {
   "attachments": {},
   "cell_type": "markdown",
   "metadata": {},
   "source": [
    "### Evaluar vs mostrar el valor de una expresión"
   ]
  },
  {
   "attachments": {},
   "cell_type": "markdown",
   "metadata": {},
   "source": [
    "La **evaluación de una expresión** produce un valor, esta es la razón por la que las expresiones pueden aparecer en el lado derecho de las sentencias de asignación. Un valor, por si mismo, se considera como una expresión, lo mismo ocurre para las variables."
   ]
  },
  {
   "cell_type": "code",
   "execution_count": 1,
   "metadata": {},
   "outputs": [
    {
     "data": {
      "text/plain": [
       "32"
      ]
     },
     "execution_count": 1,
     "metadata": {},
     "output_type": "execute_result"
    }
   ],
   "source": [
    "32"
   ]
  },
  {
   "cell_type": "code",
   "execution_count": 2,
   "metadata": {},
   "outputs": [
    {
     "data": {
      "text/plain": [
       "2"
      ]
     },
     "execution_count": 2,
     "metadata": {},
     "output_type": "execute_result"
    }
   ],
   "source": [
    "x=2\n",
    "x"
   ]
  },
  {
   "attachments": {},
   "cell_type": "markdown",
   "metadata": {},
   "source": [
    "Aunque es un poco confuso, **evaluar una expresión no es lo mismo que mostrar un valor**."
   ]
  },
  {
   "cell_type": "code",
   "execution_count": 6,
   "metadata": {},
   "outputs": [
    {
     "data": {
      "text/plain": [
       "'Saber matemáticas es sexy'"
      ]
     },
     "execution_count": 6,
     "metadata": {},
     "output_type": "execute_result"
    }
   ],
   "source": [
    "mensaje = \"Saber matemáticas es sexy\"\n",
    "mensaje"
   ]
  },
  {
   "cell_type": "code",
   "execution_count": 7,
   "metadata": {},
   "outputs": [
    {
     "name": "stdout",
     "output_type": "stream",
     "text": [
      "Saber matemáticas es sexy\n"
     ]
    }
   ],
   "source": [
    "print (mensaje)"
   ]
  },
  {
   "attachments": {},
   "cell_type": "markdown",
   "metadata": {},
   "source": [
    "Cuando el interprete  de Python muestra el valor de una expresión que ha evaluado, usa el mismo formato que se usaría para introducir un valor. En el caso de las cadenas, esto implicaría que se incluyen las comillas. Pero la sentencia print despliega el valor de la expresión que, en este caso, es el contenido de la cadena."
   ]
  },
  {
   "attachments": {},
   "cell_type": "markdown",
   "metadata": {},
   "source": [
    "## Sentencias"
   ]
  },
  {
   "attachments": {},
   "cell_type": "markdown",
   "metadata": {},
   "source": [
    "En Python, una **sentencia** o **declaración** es una instrucción que representa una acción o una operación que se debe realizar. Una sentencia puede estar formada por una o varias *expresiones*, aunque no siempre es así. Algunos de los tipos más comunes de sentencias en Python son:\n",
    "\n",
    "* **Asignación**: asigna un valor a una variable: `x = 10`\n",
    "\n",
    "* **Condicionales**: ejecutan un bloque de código solo si se cumple una condición: `if x > 0: print(\"x es positivo\")`\n",
    "\n",
    "* **Bucles**: ejecutan un bloque de código repetidas veces: `for i in range(10): print(i)`\n",
    "\n",
    "* **Funciones**: definen un bloque de código que se puede ejecutar varias veces: `def sumar(a, b): return a + b`\n",
    "\n",
    "* **Importaciones**: importan módulos o paquetes externos para usarlos en el código:` import math`\n",
    "\n",
    "* **Clases**: definen un tipo de objeto que se puede crear y utilizar en el código: `class Auto: pass`\n",
    "\n",
    "Las sentencias en Python son ejecutadas secuencialmente, de arriba a abajo, en el orden en que aparecen en el código. Cada sentencia debe terminar con un ***salto de línea*** (`\\n`) o con un *punto y coma* (`;`), aunque en Python generalmente se utiliza un salto de línea para separar sentencias. "
   ]
  },
  {
   "attachments": {},
   "cell_type": "markdown",
   "metadata": {},
   "source": [
    "Las sentencias son las instrucciones que componen los programas  y determinan su comportamiento."
   ]
  },
  {
   "attachments": {},
   "cell_type": "markdown",
   "metadata": {},
   "source": [
    "### Sentencias de más de una línea en Python\n"
   ]
  },
  {
   "attachments": {},
   "cell_type": "markdown",
   "metadata": {},
   "source": [
    "En Python usualmente, las sentencias ocupan una sola línea. Por ejemplo:"
   ]
  },
  {
   "cell_type": "code",
   "execution_count": 11,
   "metadata": {},
   "outputs": [],
   "source": [
    "a=2+3"
   ]
  },
  {
   "attachments": {},
   "cell_type": "markdown",
   "metadata": {},
   "source": [
    "Sin embargo, algunas  sentencias  son muy largas y pueden  ocupar más de una línea. Para **dividir una sentencia en varias líneas** se utiliza el carácter **`\\`**:"
   ]
  },
  {
   "cell_type": "code",
   "execution_count": 12,
   "metadata": {},
   "outputs": [
    {
     "data": {
      "text/plain": [
       "28"
      ]
     },
     "execution_count": 12,
     "metadata": {},
     "output_type": "execute_result"
    }
   ],
   "source": [
    "a = 1 + 2 + 3 + \\\n",
    "    4 + 5 + 6 + \\\n",
    "    7\n",
    "a"
   ]
  },
  {
   "attachments": {},
   "cell_type": "markdown",
   "metadata": {},
   "source": [
    "Además, de la separación explícita (la que se realiza con el carácter `\\`), en Python la continuación de línea es implícita siempre y cuando la expresión vaya dentro de los caracteres `( )`, `[ ]` y `{ }`."
   ]
  },
  {
   "attachments": {},
   "cell_type": "markdown",
   "metadata": {},
   "source": [
    "Por ejemplo, podemos inicializar una lista del siguiente modo:"
   ]
  },
  {
   "cell_type": "code",
   "execution_count": 13,
   "metadata": {},
   "outputs": [],
   "source": [
    "a = [1, 2, 7,\n",
    "     3, 8, 4,\n",
    "     9]"
   ]
  },
  {
   "attachments": {},
   "cell_type": "markdown",
   "metadata": {},
   "source": [
    "# Bloques de código (Identación)"
   ]
  },
  {
   "attachments": {},
   "cell_type": "markdown",
   "metadata": {},
   "source": [
    "El **sangrado** o **indentación** consiste en mover un bloque de texto hacia la derecha insertando espacios o tabuladores al principio de la línea, dejando un margen a la izquierda. Un **bloque comienza con un nuevo sangrado y acaba con la primera línea cuyo sangrado sea menor**. "
   ]
  },
  {
   "attachments": {},
   "cell_type": "markdown",
   "metadata": {},
   "source": [
    "En Python, un **bloque de código** es un conjunto de instrucciones que se ejecutan juntas como una unidad. Los bloques de código **se delimitan mediante indentación** y generalmente se utilizan para agrupar instrucciones dentro de *funciones*, *bucles*, *condicionales*, entre otros. Por ejemplo:"
   ]
  },
  {
   "cell_type": "code",
   "execution_count": 25,
   "metadata": {},
   "outputs": [
    {
     "name": "stdout",
     "output_type": "stream",
     "text": [
      "x es un número positivo\n",
      "El valor actual de x es 1\n"
     ]
    }
   ],
   "source": [
    "x=2 \n",
    "if x > 0:\n",
    "    print(\"x es un número positivo\")\n",
    "    x = x - 1\n",
    "    print('El valor actual de x es',x)"
   ]
  },
  {
   "attachments": {},
   "cell_type": "markdown",
   "metadata": {},
   "source": [
    "En este ejemplo, el bloque de código dentro del `if` está delimitado por la indentación de las líneas `print` y `x = x - 1`. Estas líneas se ejecutarán juntas si la condición `x > 0` se cumple. Observa que **no fue necesario indicar el fin de la instrucción `If`, ni el uso de corchetes** como en otros lenguajes de programación."
   ]
  },
  {
   "attachments": {},
   "cell_type": "markdown",
   "metadata": {},
   "source": [
    "Por otro lado, observemos que el código siguiente nos genera un error de sintaxis. "
   ]
  },
  {
   "cell_type": "code",
   "execution_count": null,
   "metadata": {},
   "outputs": [
    {
     "ename": "IndentationError",
     "evalue": "expected an indented block after 'if' statement on line 1 (1246467150.py, line 2)",
     "output_type": "error",
     "traceback": [
      "\u001b[1;36m  Cell \u001b[1;32mIn[2], line 2\u001b[1;36m\u001b[0m\n",
      "\n",
      "\u001b[1;33m    print(\"True\")\u001b[0m\n",
      "\n",
      "\u001b[1;37m    ^\u001b[0m\n",
      "\n",
      "\u001b[1;31mIndentationError\u001b[0m\u001b[1;31m:\u001b[0m expected an indented block after 'if' statement on line 1\n"
     ]
    }
   ],
   "source": [
    "if True:\n",
    "print(\"True\")\n",
    "else:\n",
    "print(\"False\")"
   ]
  },
  {
   "attachments": {},
   "cell_type": "markdown",
   "metadata": {},
   "source": [
    "Por lo tanto, el código en Python **debe estar perfectamente identado** o de lo contrario no se ejecutará o se ejecutará en una forma no deseada."
   ]
  },
  {
   "cell_type": "code",
   "execution_count": 23,
   "metadata": {},
   "outputs": [
    {
     "name": "stdout",
     "output_type": "stream",
     "text": [
      "El valor actual de x es -2\n"
     ]
    }
   ],
   "source": [
    "x=-2\n",
    "if x > 0:\n",
    "    print(\"x es un número positivo\")\n",
    "    x = x - 1\n",
    "print('El valor actual de x es',x)"
   ]
  },
  {
   "attachments": {},
   "cell_type": "markdown",
   "metadata": {},
   "source": [
    "#### **Observación:**\n",
    "\n",
    "De nuevo, la guía de estilo de Python **recomienda usar los espacios en lugar de las tabulaciones** para realizar el sangrado **se suelen utilizar $4$ espacios**."
   ]
  },
  {
   "attachments": {},
   "cell_type": "markdown",
   "metadata": {},
   "source": [
    "# Comentarios en Python"
   ]
  },
  {
   "attachments": {},
   "cell_type": "markdown",
   "metadata": {},
   "source": [
    "Los **comentarios en Python comienzan con `#`** y lo que le sigue es el comentario en sí. "
   ]
  },
  {
   "cell_type": "code",
   "execution_count": 26,
   "metadata": {},
   "outputs": [
    {
     "name": "stdout",
     "output_type": "stream",
     "text": [
      "¡Hola mundo!\n"
     ]
    }
   ],
   "source": [
    "print(\"¡Hola mundo!\") # Comentando una instrucción."
   ]
  },
  {
   "attachments": {},
   "cell_type": "markdown",
   "metadata": {},
   "source": [
    " Para escribir **comentarios que ocupan varias líneas**, simplemente escribe cada una de las líneas anteponiendo el carácter `#`:"
   ]
  },
  {
   "cell_type": "code",
   "execution_count": 27,
   "metadata": {},
   "outputs": [
    {
     "name": "stdout",
     "output_type": "stream",
     "text": [
      "¡Hola mundo!\n"
     ]
    }
   ],
   "source": [
    "# Primera linea de  comentario \n",
    "# Segunda  linea de  comentario \n",
    "# Como puede ver, en Python puedes agregar comentarios  de varias lineas utilizando el simbolo: #  \n",
    "\n",
    "print(\"¡Hola mundo!\") "
   ]
  },
  {
   "attachments": {},
   "cell_type": "markdown",
   "metadata": {},
   "source": [
    "También puedes **escribir un comentario en varias líneas** si lo encierras entre tres comillas simples **`'''`** o dobles **`\"\"\"`**"
   ]
  },
  {
   "cell_type": "code",
   "execution_count": 16,
   "metadata": {},
   "outputs": [
    {
     "name": "stdout",
     "output_type": "stream",
     "text": [
      "2\n"
     ]
    }
   ],
   "source": [
    "a = 2\n",
    "'''Este comentario\n",
    "también ocupa 2 líneas'''\n",
    "print(a)"
   ]
  },
  {
   "attachments": {},
   "cell_type": "markdown",
   "metadata": {},
   "source": [
    "# Docstrings"
   ]
  },
  {
   "attachments": {},
   "cell_type": "markdown",
   "metadata": {},
   "source": [
    "Los **docstrings** son un tipo de comentarios especiales que se usan para documentar un *módulo*, *función*, *clase* o *método*. En realidad son la primera sentencia de cada uno de ellos y se encierran entre tres comillas simples o dobles. Los docstrings son utilizados para generar la **documentación de un programa**  al programador de forma fácil e intuitiva.\n",
    "\n",
    "Veámoslo con un ejemplo:"
   ]
  },
  {
   "cell_type": "code",
   "execution_count": 28,
   "metadata": {},
   "outputs": [],
   "source": [
    "def suma(a, b):\n",
    "    \"\"\"Esta función devuelve la suma de los parámetros a y b\"\"\"\n",
    "    return a + b"
   ]
  },
  {
   "attachments": {},
   "cell_type": "markdown",
   "metadata": {},
   "source": [
    "#### **MUY IMPORTANTE** \n",
    "No te preocupes si no entiendes totalmente lo que  hacen cada uno de los elementos y estructuras en los  ejemplos anteriores, profundizaremos en ellos más adelante. \n",
    "<!-- Por el momento es  importante que comprendas e identifiques los conceptos de *Operador*, *Expresión*,  *Sentencia* y *bloques de código*. -->"
   ]
  },
  {
   "attachments": {},
   "cell_type": "markdown",
   "metadata": {},
   "source": [
    "# Leer en Python"
   ]
  },
  {
   "attachments": {},
   "cell_type": "markdown",
   "metadata": {},
   "source": [
    "## Función `input( )`"
   ]
  },
  {
   "cell_type": "markdown",
   "metadata": {},
   "source": [
    "La **función `input()`** en Python es una función integrada que se utiliza para leer una línea de entrada desde la consola o la entrada estándar del sistema. Esta función **toma una cadena como argumento**, que se utiliza para mostrar un mensaje o una indicación al usuario sobre lo que se espera que ingrese. La función input() espera hasta que el usuario ingrese una línea de texto y presione la tecla `Enter`. Luego, **devuelve el texto ingresado por el usuario como una cadena**.\n",
    "\n",
    "Por ejemplo, para leer el nombre del usuario y mostrar un saludo, se puede hacer lo siguiente:"
   ]
  },
  {
   "cell_type": "code",
   "execution_count": null,
   "metadata": {},
   "outputs": [
    {
     "name": "stdout",
     "output_type": "stream",
     "text": [
      "¡Hola, Jorge!\n"
     ]
    }
   ],
   "source": [
    "nombre = input(\"Ingrese su nombre: \") # Solicita, lee y almacena una cadena de caracteres en la variable nombre.\n",
    "print(\"¡Hola, \" + nombre + \"!\")"
   ]
  },
  {
   "cell_type": "markdown",
   "metadata": {},
   "source": [
    "El el código anterior la función `input( )` muestra un mensaje solicitando  al usuario que ingrese su nombre. Luego, el nombre ingresado se guarda en la variable `nombre`. Finalmente, se muestra un mensaje de saludo utilizando el valor de nombre."
   ]
  },
  {
   "cell_type": "markdown",
   "metadata": {},
   "source": [
    "#### **Nota:**\n",
    "\n",
    "**En el contexto de la función input() de Python**, el prompt es el mensaje que se muestra al usuario antes de que se espere que ingrese una entrada de texto. El prompt se proporciona como un argumento a la función `input( )`, y se muestra al usuario como una indicación de lo que se espera que ingrese. Por ejemplo, el el código anterior  se muestra un prompt que le pide al usuario que ingrese su nombre."
   ]
  },
  {
   "cell_type": "code",
   "execution_count": null,
   "metadata": {},
   "outputs": [
    {
     "ename": "ValueError",
     "evalue": "invalid literal for int() with base 10: 'k'",
     "output_type": "error",
     "traceback": [
      "\u001b[1;31m---------------------------------------------------------------------------\u001b[0m\n",
      "\u001b[1;31mValueError\u001b[0m                                Traceback (most recent call last)\n",
      "Cell \u001b[1;32mIn[3], line 1\u001b[0m\n",
      "\u001b[1;32m----> 1\u001b[0m w \u001b[39m=\u001b[39m \u001b[39mint\u001b[39;49m(\u001b[39minput\u001b[39;49m(\u001b[39m'\u001b[39;49m\u001b[39mDame un número entero\u001b[39;49m\u001b[39m'\u001b[39;49m)) \u001b[39m# Solicita y lee  número entero y lo almacena en la variable  x\u001b[39;00m\n",
      "\n",
      "\u001b[1;31mValueError\u001b[0m: invalid literal for int() with base 10: 'k'"
     ]
    }
   ],
   "source": [
    "w = int(input('Dame un número entero')) # Solicita y lee  número entero y lo almacena en la variable  x"
   ]
  },
  {
   "cell_type": "code",
   "execution_count": null,
   "metadata": {},
   "outputs": [
    {
     "name": "stdout",
     "output_type": "stream",
     "text": [
      "7\n"
     ]
    }
   ],
   "source": [
    "print(w)"
   ]
  },
  {
   "cell_type": "code",
   "execution_count": null,
   "metadata": {},
   "outputs": [],
   "source": [
    "a = float(input()) # Leer un número real y lo almacena en la variable a. "
   ]
  },
  {
   "cell_type": "markdown",
   "metadata": {},
   "source": [
    "#### Combinación de la función input( ) "
   ]
  },
  {
   "attachments": {},
   "cell_type": "markdown",
   "metadata": {},
   "source": [
    "La **función `input( )` en Python siempre devuelve una cadena** incluso si el usuario ingresó un número. Si necesita realizar operaciones numéricas con la entrada del usuario, es posible que deba **convertir la cadena en un tipo de datos numérico** utilizando la función **`int( )`** o **`float( )`**, según corresponda. Por ejemplo:"
   ]
  },
  {
   "cell_type": "code",
   "execution_count": 1,
   "metadata": {},
   "outputs": [
    {
     "name": "stdout",
     "output_type": "stream",
     "text": [
      "La suma es: 10\n"
     ]
    }
   ],
   "source": [
    "numero1 = int(input(\"Ingrese el primer número: \"))\n",
    "numero2 = int(input(\"Ingrese el segundo número: \"))\n",
    "resultado = numero1 + numero2\n",
    "print(\"La suma es:\", resultado)\n"
   ]
  },
  {
   "cell_type": "markdown",
   "metadata": {},
   "source": []
  }
 ],
 "metadata": {
  "kernelspec": {
   "display_name": "Python 3",
   "language": "python",
   "name": "python3"
  },
  "language_info": {
   "codemirror_mode": {
    "name": "ipython",
    "version": 3
   },
   "file_extension": ".py",
   "mimetype": "text/x-python",
   "name": "python",
   "nbconvert_exporter": "python",
   "pygments_lexer": "ipython3",
   "version": "3.11.1"
  },
  "orig_nbformat": 4,
  "vscode": {
   "interpreter": {
    "hash": "1606ed296fe21ab67c1d4b49f3f22d72247524c93f58d404930dbd4d15d6017c"
   }
  }
 },
 "nbformat": 4,
 "nbformat_minor": 2
}
