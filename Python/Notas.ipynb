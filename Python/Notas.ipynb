{
 "cells": [
  {
   "cell_type": "markdown",
   "metadata": {},
   "source": [
    "## assert"
   ]
  },
  {
   "cell_type": "markdown",
   "metadata": {},
   "source": [
    "El uso de assert en Python nos permite realizar comprobaciones. Si la expresión contenida dentro del mismo es False, se lanzará una excepción, concretamente AssertionError. Veamos un ejemplo:"
   ]
  },
  {
   "cell_type": "code",
   "execution_count": null,
   "metadata": {},
   "outputs": [
    {
     "ename": "AssertionError",
     "evalue": "",
     "output_type": "error",
     "traceback": [
      "\u001b[0;31m---------------------------------------------------------------------------\u001b[0m\n",
      "\u001b[0;31mAssertionError\u001b[0m                            Traceback (most recent call last)\n",
      "Cell \u001b[0;32mIn[22], line 1\u001b[0m\n",
      "\u001b[0;32m----> 1\u001b[0m \u001b[39massert\u001b[39;00m(\u001b[39m1\u001b[39m\u001b[39m==\u001b[39m\u001b[39m2\u001b[39m)\n",
      "\n",
      "\u001b[0;31mAssertionError\u001b[0m: "
     ]
    }
   ],
   "source": [
    "assert(1==2)"
   ]
  },
  {
   "cell_type": "markdown",
   "metadata": {},
   "source": [
    "Es decir, si el contenido existente dentro del assert es igual a False, se lanzará la excepción. Se podría conseguir el mismo resultado haciendo lo siguiente, pero el uso de assert() resulta más cómodo."
   ]
  },
  {
   "cell_type": "code",
   "execution_count": null,
   "metadata": {},
   "outputs": [
    {
     "ename": "NameError",
     "evalue": "name 'condicion' is not defined",
     "output_type": "error",
     "traceback": [
      "\u001b[0;31m---------------------------------------------------------------------------\u001b[0m\n",
      "\u001b[0;31mNameError\u001b[0m                                 Traceback (most recent call last)\n",
      "Cell \u001b[0;32mIn[23], line 1\u001b[0m\n",
      "\u001b[0;32m----> 1\u001b[0m \u001b[39mif\u001b[39;00m condicion:\n",
      "\u001b[1;32m      2\u001b[0m     \u001b[39mraise\u001b[39;00m \u001b[39mAssertionError\u001b[39;00m()\n",
      "\n",
      "\u001b[0;31mNameError\u001b[0m: name 'condicion' is not defined"
     ]
    }
   ],
   "source": [
    "if condicion:\n",
    "    raise AssertionError()"
   ]
  },
  {
   "cell_type": "markdown",
   "metadata": {},
   "source": [
    "Podemos también añadir un texto con información relevante acerca del assert()."
   ]
  },
  {
   "cell_type": "code",
   "execution_count": null,
   "metadata": {},
   "outputs": [
    {
     "ename": "AssertionError",
     "evalue": "El assert falló",
     "output_type": "error",
     "traceback": [
      "\u001b[0;31m---------------------------------------------------------------------------\u001b[0m\n",
      "\u001b[0;31mAssertionError\u001b[0m                            Traceback (most recent call last)\n",
      "Cell \u001b[0;32mIn[25], line 1\u001b[0m\n",
      "\u001b[0;32m----> 1\u001b[0m \u001b[39massert\u001b[39;00m \u001b[39m1\u001b[39m\u001b[39m==\u001b[39m\u001b[39m2\u001b[39m, \u001b[39m\"\u001b[39m\u001b[39mEl assert falló\u001b[39m\u001b[39m\"\u001b[39m\n",
      "\n",
      "\u001b[0;31mAssertionError\u001b[0m: El assert falló"
     ]
    }
   ],
   "source": [
    "assert 1==2, \"El assert falló\""
   ]
  },
  {
   "cell_type": "markdown",
   "metadata": {},
   "source": [
    "Aunque mucho cuidado, ya que la expresión anterior no es equivalente a la siguiente, siendo la misma errónea. Esto se debe a que en realidad se está evaluando bool((False, \"El assert falló\")), lo que resulta ser siempre True. De hecho el siguiente código no lanzaría una excepción, cuando realmente se esperaría que lo hiciera."
   ]
  },
  {
   "cell_type": "markdown",
   "metadata": {},
   "source": [
    "### assert() en funciones"
   ]
  },
  {
   "cell_type": "markdown",
   "metadata": {},
   "source": [
    "Puede resultar útil usar `assert()` cuando queremos realizar alguna comprobación, como podría ser dentro de una función. En el siguiente ejemplo tenemos una función `suma()` que sólo suma las variables si son números enteros."
   ]
  },
  {
   "cell_type": "code",
   "execution_count": null,
   "metadata": {},
   "outputs": [],
   "source": [
    "def suma(a, b):\n",
    "    assert(type(a) == int)\n",
    "    assert(type(b) == int)\n",
    "    return a+b"
   ]
  },
  {
   "cell_type": "code",
   "execution_count": null,
   "metadata": {},
   "outputs": [
    {
     "ename": "SyntaxError",
     "evalue": "invalid syntax (553101005.py, line 1)",
     "output_type": "error",
     "traceback": [
      "\u001b[0;36m  Cell \u001b[0;32mIn[31], line 1\u001b[0;36m\u001b[0m\n",
      "\u001b[0;31m    $ python -O\u001b[0m\n",
      "\u001b[0m    ^\u001b[0m\n",
      "\u001b[0;31mSyntaxError\u001b[0m\u001b[0;31m:\u001b[0m invalid syntax\n"
     ]
    }
   ],
   "source": [
    "suma(3.0, 5.0)"
   ]
  },
  {
   "cell_type": "code",
   "execution_count": null,
   "metadata": {},
   "outputs": [
    {
     "data": {
      "text/plain": [
       "8"
      ]
     },
     "metadata": {},
     "output_type": "display_data"
    }
   ],
   "source": [
    "suma(3, 5)"
   ]
  },
  {
   "attachments": {},
   "cell_type": "markdown",
   "metadata": {},
   "source": [
    "Escriba una función llamada divide_o_cuadrar que recibe como argumento (un número) y devuelva la raíz cuadrada del número si este es divisible por 5, o bien devuelva el residuo de dividir entre 5 si no es divisible por 5. Por ejemplo, si pasa 10 como argumento , entonces su función debería devolver 3.16 como la raíz cuadrada."
   ]
  },
  {
   "attachments": {},
   "cell_type": "markdown",
   "metadata": {},
   "source": [
    "Escriba una función llamada valor_más_largo que tome un diccionario como argumento y devuelva el primer valor más largo del diccionario. Por ejemplo, el siguiente diccionario debería devolver: manzana como el valor más largo.\n",
    "\n",
    "frutas = {'fruta': 'manzana', 'color': 'verde'}"
   ]
  },
  {
   "attachments": {},
   "cell_type": "markdown",
   "metadata": {},
   "source": [
    "Escriba una función llamada convert_add que tome una lista de cadenas como argumento y la convierta en números enteros y sume la lista. Por ejemplo, ['1', '3', '5'] debe convertirse en [1, 3, 5] y sumarse a 9"
   ]
  },
  {
   "attachments": {},
   "cell_type": "markdown",
   "metadata": {},
   "source": [
    "Escribe una función llamada check_duplicates que tome una lista de cadenas como argumento. La función debe verificar si la lista tiene duplicados. Si hay duplicados, la función debería devolver los duplicados. Si no hay duplicados, la función debería devolver \"Sin duplicados\". Por ejemplo, la lista de frutas a continuación debería devolver manzana como un duplicado y la lista de nombres debería devolver \"sin duplicados\".\n",
    "\n",
    "frutas = ['manzana', 'naranja', 'plátano', 'manzana']\n",
    "nombres = ['Yoda', 'Moisés', 'Joshua', 'Mark']"
   ]
  },
  {
   "attachments": {},
   "cell_type": "markdown",
   "metadata": {},
   "source": [
    "Escribe una función llamada check_check que verifique cuántos estudiantes hay en la escuela. La función toma un diccionario como parámetro. Si el estudiante está en la escuela, el diccionario dice 'sí'. Si el estudiante no está en la escuela, el diccionario dice 'no'. Su función debe devolver el número de estudiantes en la escuela. Utilice el diccionario a continuación. Su función debe devolver 3.\n",
    "\n",
    "registro = {'Miguel':'sí','Juan': 'no', 'Pedro':'sí', 'María': 'sí'}"
   ]
  },
  {
   "attachments": {},
   "cell_type": "markdown",
   "metadata": {},
   "source": [
    "nombres = [\"kerry\", \"dickson\", \"John\", \"Mary\", \"carol\", \"Rose\", \"adam\"]\n",
    "\n",
    "Se le da una lista de nombres arriba. Esta lista se compone de nombres de letras minúsculas y mayúsculas. Su tarea es escribir un código que devuelva una tupla de todos los nombres de la lista que solo tienen letras minúsculas. Su tupla debe tener nombres ordenados alfabéticamente en orden descendente. Usando la lista anterior, su código debería devolver:\n",
    "\n",
    "('kerry', 'dickson', 'carol', 'adam')"
   ]
  },
  {
   "cell_type": "markdown",
   "metadata": {},
   "source": []
  }
 ],
 "metadata": {
  "kernelspec": {
   "display_name": "Python 3",
   "language": "python",
   "name": "python3"
  },
  "language_info": {
   "codemirror_mode": {
    "name": "ipython",
    "version": 3
   },
   "file_extension": ".py",
   "mimetype": "text/x-python",
   "name": "python",
   "nbconvert_exporter": "python",
   "pygments_lexer": "ipython3",
   "version": "3.11.0"
  },
  "orig_nbformat": 4
 },
 "nbformat": 4,
 "nbformat_minor": 2
}
