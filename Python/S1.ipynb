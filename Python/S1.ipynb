{
 "cells": [
  {
   "attachments": {},
   "cell_type": "markdown",
   "metadata": {},
   "source": [
    "# Introducción al lenguaje de programación Python "
   ]
  },
  {
   "attachments": {},
   "cell_type": "markdown",
   "metadata": {},
   "source": [
    "**Python** es un lenguaje de programación **potente** y **fácil de aprender**. Tiene *estructuras de datos de alto nivel eficientes* y un simple pero efectivo sistema de programación **orientado a objetos**. La elegante **sintaxis** de Python y su **tipado dinámico**, junto a su naturaleza **interpretada** lo convierten en un lenguaje ideal para desarrollo rápido de aplicaciones en muchas áreas, para la mayoría de sistemas operativos."
   ]
  },
  {
   "attachments": {},
   "cell_type": "markdown",
   "metadata": {},
   "source": [
    "Python es un **lenguaje de programación de alto nivel** cuya máxima es la *legibilidad del código*. Las principales características de Python son las siguientes:\n",
    "\n",
    "* Es **multiparadigma**: soporta la *programación estructurada* y la *programación orientada a objetos* entre otros. <!-- y la *programación funcional*. -->\n",
    "\n",
    "* Es **multiplataforma**: Se puede encontrar un ***intérprete de Python*** para los principales sistemas operativos: *Windows*, *Linux* y *Mac OS*. Además, se puede reutilizar el mismo código en cada una de las plataformas.\n",
    "\n",
    "* Es de **tipado dinámico**: El tipo de las variables se decide en tiempo de ejecución, no es necesario definir el tipo de dato de las  variables que utilizaremos.\n",
    "\n",
    "* Es **fuertemente tipado**: No se puede usar una variable en un contexto fuera de su tipo. Si se quisiera, habría que hacer una *conversión de tipos*.\n",
    "\n",
    "* Es **interpretado**: El código no se compila a lenguaje máquina."
   ]
  },
  {
   "attachments": {},
   "cell_type": "markdown",
   "metadata": {},
   "source": [
    "#### **Recuerda:** \n",
    "\n",
    "Un **lenguaje de programación interpretado** es un lenguaje en el que las instrucciones escritas en el código fuente son ejecutadas directamente por un **intérprete**, en lugar de ser compiladas previamente a un código binario. En un lenguaje interpretado, *el intérprete lee el código fuente línea por línea y ejecuta inmediatamente cada instrucción*. Esto significa que el código se puede ejecutar y probar sin tener que compilarlo antes, lo que puede ser útil para el desarrollo y la depuración.\n",
    "\n",
    "Sin embargo, a diferencia de los lenguajes compilados, los lenguajes interpretados pueden ser **más lentos** al ejecutarse y pueden requerir más memoria. Algunos ejemplos de lenguajes de programación interpretados incluyen ***Python***, ***Ruby***, ***JavaScript*** y ***PHP***.\n",
    "\n",
    " El hecho de que Python sea interpretado quiere decir que es necesario un intérprete que permita ejecutar un programa o **script** escrito en Python sin necesidad de compilarlo."
   ]
  },
  {
   "attachments": {},
   "cell_type": "markdown",
   "metadata": {},
   "source": [
    "# Programación orientada a objetos\n",
    "\n",
    "El paradigma de **Programación Orientada a Objetos** es un paradigma que se centra en la definición de **clases** y **objetos** que interactúan entre sí para realizar tareas específicas. Cada objeto puede mantener sus propios datos (tambien conocido como **estado**)  así bien se definen los **comportamientos** que describen lo que el objeto puede realizar.\n",
    "\n",
    "<!-- Bajo este paradigma de programación un programa esta formado de un conjunto de estos objetos cooperando entre si.  -->"
   ]
  },
  {
   "attachments": {},
   "cell_type": "markdown",
   "metadata": {},
   "source": [
    "# ¿Qué necesitas para escribir programas en Python"
   ]
  },
  {
   "attachments": {},
   "cell_type": "markdown",
   "metadata": {},
   "source": [
    "* Como mínimo es necesario  instalar el <a href=\"https://www.python.org/downloads/\" title=\"\">***interprete de  Python***</a> en tu computadora.\n",
    "\n",
    "*  También vas a necesitar algún **editor de textos** en el cual escribir tus programas. Por ejemplo en Windows el ***bloc de notas***\n",
    "\n",
    "* Sin embargo, usar un **Entorno de Desarrollo Integrado** (**IDE** por sus siglas en Ingles) tales como ***Visual Studio Code***, ***Spider*** o  ***Pycharm*** (por mencionar algunos), hara mucho más facil escribir y correr tus programas."
   ]
  },
  {
   "attachments": {},
   "cell_type": "markdown",
   "metadata": {},
   "source": [
    "## Interprete "
   ]
  },
  {
   "attachments": {},
   "cell_type": "markdown",
   "metadata": {},
   "source": [
    "Python es un **lenguaje de programación interpretado**, lo que significa que los programas escritos en Python no se compilan a un código binario antes de ejecutarse, sino que se interpretan en tiempo real por un *intérprete*. Un **intérprete de Python** es un programa que lee y ejecuta el código escrito en el *lenguaje de programación Python*. \n",
    "\n",
    "El intérprete de Python está disponible en varias plataformas, incluyendo Windows, macOS y Linux. El intérprete de Python es un componente fundamental para el desarrollo en Python, ya que permite a los desarrolladores escribir y ejecutar código en tiempo real, lo que les permite ver los resultados de sus programas de inmediato.\n",
    "\n",
    "Hay varios intérpretes de Python disponibles, incluyendo el intérprete **CPython**, que es el intérprete oficial y más utilizado para Python, así como intérpretes alternativos como **Jython**, **IronPython** y **PyPy**. Además, muchos sistemas operativos vienen con una versión de Python preinstalada, por lo que puede ejecutar scripts de Python en su ordenador sin tener que instalar nada adicional."
   ]
  },
  {
   "attachments": {},
   "cell_type": "markdown",
   "metadata": {},
   "source": [
    "# ¿Cómo ejecutar programas \"escritos\" en el  lenguaje de programación Python?"
   ]
  },
  {
   "attachments": {},
   "cell_type": "markdown",
   "metadata": {},
   "source": [
    "Existen muchas maneras en las cuales puedes ejecutar un programa en Python:\n",
    "\n",
    "* Usando el **interprete de Python** via el  ***REPL  de Python***.\n",
    "\n",
    "* **Almacenar en un archivo** y **ejecutarlo desde la consola** o simbolo de  usando el comando Python.\n",
    "\n",
    "* Utilizando un  **Entorno de Desarrollo Integrado**  como ***VSCode***, ***Spider***, ***Pycharm***  etc. \n"
   ]
  },
  {
   "attachments": {},
   "cell_type": "markdown",
   "metadata": {},
   "source": [
    "## Interactuando con el interprete de Python:  **REPL de Python**"
   ]
  },
  {
   "attachments": {},
   "cell_type": "markdown",
   "metadata": {},
   "source": [
    "Un aspecto interesante del uso de Python es que se puede usar (y se usa con mucha frecuencia) de manera interactiva a través del **REPL de Python**, con comandos individuales que se ingresan y se ejecutan uno a la vez. \n",
    "\n",
    "**REPL** es un acrónimo que significa: \"**R**ead-**E**val-**P**rint-**L**oop\" (bucle de lectura-evaluación-impresión) lo que significa que el *REPL de  Python lee la entrada del usuario, la  evalua como una expresion de Python, imprime la salida de lo que fue evaluado y  esta listo para la siguiente entrada*."
   ]
  },
  {
   "attachments": {},
   "cell_type": "markdown",
   "metadata": {},
   "source": [
    "El **REPL de Python** es una herramienta útil para **aprender Python**, **probar pequeños fragmentos de código** y **hacer calculos simples** (como por ejemplo usar Python como una calculadora básica). Es una forma rápida y sencilla de interactuar con el interprete de Python.\n",
    "\n",
    "Para **acceder al REPL de Python**,  tienes que  abrir  un ***terminal***  o un ***símbolo del sistema*** y escribir \"*`python`*\" (sin comillas) y enseguida presionar *`Enter`*. Inmediatamente estaras dentro del ***REPL de Python*** y podras ingresar cualquier instrucción valida  de Python."
   ]
  },
  {
   "attachments": {},
   "cell_type": "markdown",
   "metadata": {},
   "source": [
    "**Para salir de la consola interactiva (REPL)**  y **regresar a la consola del sistema**, presione *`Ctrl+Z`* y presione *`Enter`* en Windows o *`Ctrl+D`* en Mac OS o Linux. Alternativamente puedes tambien ejecutar el comando Python *`exit( )`* o *`quit( )`* ."
   ]
  },
  {
   "attachments": {},
   "cell_type": "markdown",
   "metadata": {},
   "source": [
    "#### **Nota:**\n",
    "***Prompt*** es un término que se refiere a un mensaje o indicación que se muestra al usuario para pedirle que realice alguna acción o proporcione alguna información. En informática, el término \"prompt\" se utiliza comúnmente en referencia a la línea de comandos, donde se muestra un mensaje para indicar al usuario que está listo para recibir una entrada de texto.\n",
    "\n",
    "Por ejemplo, **en el intérprete de la línea de comandos de Python, el prompt predeterminado es el símbolo de `>>>`**, que indica que está listo para recibir instrucciones en Python. El usuario puede escribir código o comandos en la línea de comandos después del prompt y luego presionar Enter para ejecutarlos.\n"
   ]
  }
 ],
 "metadata": {
  "kernelspec": {
   "display_name": "Python 3",
   "language": "python",
   "name": "python3"
  },
  "language_info": {
   "codemirror_mode": {
    "name": "ipython",
    "version": 3
   },
   "file_extension": ".py",
   "mimetype": "text/x-python",
   "name": "python",
   "nbconvert_exporter": "python",
   "pygments_lexer": "ipython3",
   "version": "3.11.1"
  },
  "orig_nbformat": 4,
  "vscode": {
   "interpreter": {
    "hash": "1606ed296fe21ab67c1d4b49f3f22d72247524c93f58d404930dbd4d15d6017c"
   }
  }
 },
 "nbformat": 4,
 "nbformat_minor": 2
}
