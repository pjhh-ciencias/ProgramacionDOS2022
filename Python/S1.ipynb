{
 "cells": [
  {
   "attachments": {},
   "cell_type": "markdown",
   "metadata": {},
   "source": [
    "# Introducción al lenguaje de programación Python "
   ]
  },
  {
   "attachments": {},
   "cell_type": "markdown",
   "metadata": {},
   "source": [
    "**Python** es un lenguaje de programación **potente** y **fácil de aprender**. Tiene *estructuras de datos de alto nivel eficientes* y un simple pero efectivo sistema de programación **orientado a objetos**. La elegante **sintaxis** de Python y su **tipado dinámico**, junto a su naturaleza **interpretada** lo convierten en un lenguaje ideal para desarrollo rápido de aplicaciones en muchas áreas, para la mayoría de sistemas operativos."
   ]
  },
  {
   "attachments": {},
   "cell_type": "markdown",
   "metadata": {},
   "source": [
    "Python es un **lenguaje de programación de alto nivel** cuya máxima es la *legibilidad del código*. Las principales características de Python son las siguientes:\n",
    "\n",
    "* Es **multiparadigma**: soporta la *programación estructurada* y la *programación orientada a objetos* entre otros. <!-- y la *programación funcional*. -->\n",
    "\n",
    "* Es **multiplataforma**: Se puede encontrar un ***intérprete de Python*** para los principales sistemas operativos: *Windows*, *Linux* y *Mac OS*. Además, se puede reutilizar el mismo código en cada una de las plataformas.\n",
    "\n",
    "* Es de **tipado dinámico**: El tipo de las variables se decide en tiempo de ejecución, no es necesario definir el tipo de dato de las  variables que utilizaremos.\n",
    "\n",
    "* Es **fuertemente tipado**: No se puede usar una variable en un contexto fuera de su tipo. Si se quisiera, habría que hacer una *conversión de tipos*.\n",
    "\n",
    "* Es **interpretado**: El código no se compila a lenguaje máquina."
   ]
  },
  {
   "attachments": {},
   "cell_type": "markdown",
   "metadata": {},
   "source": [
    "#### **Recuerda:** \n",
    "\n",
    "Un **lenguaje de programación interpretado** es un lenguaje en el que las instrucciones escritas en el código fuente son ejecutadas directamente por un **intérprete**, en lugar de ser compiladas previamente a un código binario. En un lenguaje interpretado, *el intérprete lee el código fuente línea por línea y ejecuta inmediatamente cada instrucción*. Esto significa que el código se puede ejecutar y probar sin tener que compilarlo antes, lo que puede ser útil para el desarrollo y la depuración.\n",
    "\n",
    "Sin embargo, a diferencia de los lenguajes compilados, los lenguajes interpretados pueden ser **más lentos** al ejecutarse y pueden requerir más memoria. Algunos ejemplos de lenguajes de programación interpretados incluyen ***Python***, ***Ruby***, ***JavaScript*** y ***PHP***.\n",
    "\n",
    " El hecho de que Python sea interpretado quiere decir que es necesario un intérprete que permita ejecutar un programa o **script** escrito en Python sin necesidad de compilarlo."
   ]
  },
  {
   "attachments": {},
   "cell_type": "markdown",
   "metadata": {},
   "source": [
    "# Programación orientada a objetos\n",
    "\n",
    "El paradigma de **Programación Orientada a Objetos** es un paradigma que se centra en la definición de **clases** y **objetos** que interactúan entre sí para realizar tareas específicas. Cada objeto puede mantener sus propios datos (tambien conocido como **estado**)  así bien se definen los **comportamientos** que describen lo que el objeto puede realizar.\n",
    "\n",
    "<!-- Bajo este paradigma de programación un programa esta formado de un conjunto de estos objetos cooperando entre si.  -->"
   ]
  },
  {
   "attachments": {},
   "cell_type": "markdown",
   "metadata": {},
   "source": [
    "# ¿Qué necesitas para escribir programas en Python"
   ]
  },
  {
   "attachments": {},
   "cell_type": "markdown",
   "metadata": {},
   "source": [
    "* Como mínimo es necesario  instalar el <a href=\"https://www.python.org/downloads/\" title=\"\">***interprete de  Python***</a> en tu computadora. En el caso de Windows tener cuidado con lo siguiente <a href=\"https://github.com/pjhh-ciencias/ProgramacionDOS/blob/main/Imagenes/Python.JPG\" target=\"_blank\"> <font size=\"5\"> <b> path</b></font></a>\n",
    "\n",
    "*  También vas a necesitar algún **editor de textos** en el cual escribir tus programas. Por ejemplo en Windows el ***bloc de notas***\n",
    "\n",
    "* Sin embargo, usar un **Entorno de Desarrollo Integrado** (**IDE** por sus siglas en Ingles) tales como ***Visual Studio Code***, ***Spider*** o  ***Pycharm*** (por mencionar algunos), hara mucho más facil escribir y correr tus programas."
   ]
  },
  {
   "attachments": {},
   "cell_type": "markdown",
   "metadata": {},
   "source": [
    "## Interprete "
   ]
  },
  {
   "attachments": {},
   "cell_type": "markdown",
   "metadata": {},
   "source": [
    "Python es un **lenguaje de programación interpretado**, lo que significa que los programas escritos en Python no se compilan a un código binario antes de ejecutarse, sino que se interpretan en tiempo real por un *intérprete*. Un **intérprete de Python** es un programa que lee y ejecuta el código escrito en el *lenguaje de programación Python*. \n",
    "\n",
    "El intérprete de Python está disponible en varias plataformas, incluyendo Windows, macOS y Linux. El intérprete de Python es un componente fundamental para el desarrollo en Python, ya que permite a los desarrolladores escribir y ejecutar código en tiempo real, lo que les permite ver los resultados de sus programas de inmediato.\n",
    "\n",
    "Hay varios intérpretes de Python disponibles, incluyendo el intérprete **CPython**, que es el intérprete oficial y más utilizado para Python, así como intérpretes alternativos como **Jython**, **IronPython** y **PyPy**. Además, muchos sistemas operativos vienen con una versión de Python preinstalada, por lo que puede ejecutar scripts de Python en su ordenador sin tener que instalar nada adicional."
   ]
  },
  {
   "attachments": {},
   "cell_type": "markdown",
   "metadata": {},
   "source": [
    "# ¿Cómo ejecutar programas \"escritos\" en el  lenguaje de programación Python?"
   ]
  },
  {
   "attachments": {},
   "cell_type": "markdown",
   "metadata": {},
   "source": [
    "Existen muchas maneras en las cuales puedes ejecutar un programa en Python:\n",
    "\n",
    "* Usando el **interprete de Python** via el  ***REPL  de Python***.\n",
    "\n",
    "* **Almacenar en un archivo** y **ejecutarlo desde la consola** o simbolo de  usando el comando Python.\n",
    "\n",
    "* Utilizando un  **Entorno de Desarrollo Integrado**  como ***VSCode***, ***Spider***, ***Pycharm***  etc. \n"
   ]
  },
  {
   "attachments": {},
   "cell_type": "markdown",
   "metadata": {},
   "source": [
    "## Interactuando con el interprete de Python:  **REPL de Python**"
   ]
  },
  {
   "attachments": {},
   "cell_type": "markdown",
   "metadata": {},
   "source": [
    "Un aspecto interesante del uso de Python es que se puede usar (y se usa con mucha frecuencia) de manera interactiva a través del **REPL de Python**, con comandos individuales que se ingresan y se ejecutan uno a la vez. \n",
    "\n",
    "**REPL** es un acrónimo que significa: \"**R**ead-**E**val-**P**rint-**L**oop\" (bucle de lectura-evaluación-impresión) lo que significa que el *REPL de  Python lee la entrada del usuario, la  evalua como una expresion de Python, imprime la salida de lo que fue evaluado y  esta listo para la siguiente entrada*."
   ]
  },
  {
   "attachments": {},
   "cell_type": "markdown",
   "metadata": {},
   "source": [
    "El **REPL de Python** es una herramienta útil para **aprender Python**, **probar pequeños fragmentos de código** y **hacer calculos simples** (como por ejemplo usar Python como una calculadora básica). Es una forma rápida y sencilla de interactuar con el interprete de Python.\n",
    "\n",
    "Para **acceder al REPL de Python**,  tienes que  abrir  un ***terminal***  o un ***símbolo del sistema*** y escribir \"*`python`*\" (sin comillas) y enseguida presionar *`Enter`*. Inmediatamente estaras dentro del ***REPL de Python*** y podras ingresar cualquier instrucción valida  de Python."
   ]
  },
  {
   "attachments": {},
   "cell_type": "markdown",
   "metadata": {},
   "source": [
    "**Para salir de la consola interactiva (REPL)**  y **regresar a la consola del sistema**, presione *`Ctrl+Z`* y presione *`Enter`* en Windows o *`Ctrl+D`* en Mac OS o Linux. Alternativamente puedes tambien ejecutar el comando Python *`exit( )`* o *`quit( )`* ."
   ]
  },
  {
   "attachments": {},
   "cell_type": "markdown",
   "metadata": {},
   "source": [
    "#### **Nota:**\n",
    "***Prompt*** es un término que se refiere a un mensaje o indicación que se muestra al usuario para pedirle que realice alguna acción o proporcione alguna información. En informática, el término \"prompt\" se utiliza comúnmente en referencia a la línea de comandos, donde se muestra un mensaje para indicar al usuario que está listo para recibir una entrada de texto.\n",
    "\n",
    "Por ejemplo, **en el intérprete de la línea de comandos de Python, el prompt predeterminado es el símbolo de `>>>`**, que indica que está listo para recibir instrucciones en Python. El usuario puede escribir código o comandos en la línea de comandos después del prompt y luego presionar Enter para ejecutarlos.\n"
   ]
  },
  {
   "cell_type": "markdown",
   "metadata": {},
   "source": [
    "## Ejecutando un archivo Python"
   ]
  },
  {
   "attachments": {},
   "cell_type": "markdown",
   "metadata": {},
   "source": [
    "Es posible por supuesto almacenar los comando Python en un archivo. Se crea entonces un archivo de programa que puede ser ejecutado como un argumento de el comando `python` .\n",
    "\n",
    "De esta manera, resulta muy sencillo crear programas en el lenguaje  Python que puedan ser almacenados en un archivo y  entonces ejecutarlo cuando se requiera en cualquier plataforma como se requiera (Windows, Linux o Mac). Esto ilustra la naturaleza multiplataforma de Python y esta es justamente una de las razones por las que Python es muy popular."
   ]
  },
  {
   "attachments": {},
   "cell_type": "markdown",
   "metadata": {},
   "source": [
    "#### **Nota:** \n",
    "\n",
    "El **símbolo del sistema** es una característica de Microsoft Windows que permite a los usuarios acceder a las herramientas y recursos del sistema operativo. Es también conocido como ***cmd***  o ***interfaz de línea de comandos***.\n",
    "\n",
    "Puedes acceder al símbolo del sistema en Windows  haciendo clic en \"*inicio*\",  escribiendo *cmd* en el cuadro de busqueda y presionando Enter. Una vez en el símbolo del sistema, puedes ejecutar comandos y scipts para realizar diversas tareas, como administrar archivos. Es importante tener precaución  al usar el símbolo del sistema ya que los comandos y scripts pueden tener un impacto significativo en el sistema operativo y los datos del usuario si se utilizan incorrectamente.  "
   ]
  },
  {
   "cell_type": "markdown",
   "metadata": {},
   "source": [
    "# Escribir/ imprimir en Python"
   ]
  },
  {
   "cell_type": "markdown",
   "metadata": {},
   "source": [
    "### Mi primer programa en Python"
   ]
  },
  {
   "cell_type": "markdown",
   "metadata": {},
   "source": [
    "Para escribir o imprimir  un mensaje (cadena de caracteres) en Python utilizamos el comando `print( )`,  encerrando  entre comillas simples ` '... ' `  o dobles `\"...\"` el mensaje obteniendo el mismo resultado: "
   ]
  },
  {
   "cell_type": "code",
   "execution_count": null,
   "metadata": {},
   "outputs": [
    {
     "name": "stdout",
     "output_type": "stream",
     "text": [
      "¡Hola mundo!\n"
     ]
    }
   ],
   "source": [
    "print('¡Hola mundo!') #Utilizando comillas simples"
   ]
  },
  {
   "cell_type": "code",
   "execution_count": null,
   "metadata": {},
   "outputs": [
    {
     "name": "stdout",
     "output_type": "stream",
     "text": [
      "¡Hola mundo!\n"
     ]
    }
   ],
   "source": [
    "print(\"¡Hola mundo!\") #Utilizando comillas dobles"
   ]
  },
  {
   "cell_type": "markdown",
   "metadata": {},
   "source": [
    "Si necesitas imprimir comillas simples o dobles dentro del mensaje, puedes combinarlas de la siguiente manera:"
   ]
  },
  {
   "cell_type": "code",
   "execution_count": null,
   "metadata": {},
   "outputs": [
    {
     "name": "stdout",
     "output_type": "stream",
     "text": [
      "Le gusta que le digan \"Beto\" \n"
     ]
    }
   ],
   "source": [
    "print('Le gusta que le digan \"Beto\" ')"
   ]
  },
  {
   "cell_type": "code",
   "execution_count": null,
   "metadata": {},
   "outputs": [
    {
     "name": "stdout",
     "output_type": "stream",
     "text": [
      "Le gusta que le digan 'Beto'\n"
     ]
    }
   ],
   "source": [
    "print(\"Le gusta que le digan 'Beto'\")"
   ]
  },
  {
   "cell_type": "markdown",
   "metadata": {},
   "source": [
    "O bien puedes utilizar `\\` para *escapar comillas*:"
   ]
  },
  {
   "cell_type": "code",
   "execution_count": null,
   "metadata": {},
   "outputs": [
    {
     "name": "stdout",
     "output_type": "stream",
     "text": [
      "Le gusta que le digan \"Beto\" \n"
     ]
    }
   ],
   "source": [
    "print(\"Le gusta que le digan \\\"Beto\\\" \")"
   ]
  },
  {
   "cell_type": "markdown",
   "metadata": {},
   "source": [
    "La instrucción `print( )` también trabaja con enteros."
   ]
  },
  {
   "cell_type": "markdown",
   "metadata": {},
   "source": [
    "#### **Observación:**\n",
    "\n",
    "Cuando se escribe un número grande podríamos estar tentados a usar comas para separar grupos de tres dígitos, como en $1,000,000$. Esto no es un número entero válido en Python, pero sí es aceptado en una sentencia como:\n"
   ]
  },
  {
   "cell_type": "code",
   "execution_count": 1,
   "metadata": {},
   "outputs": [
    {
     "name": "stdout",
     "output_type": "stream",
     "text": [
      "1 0 0\n"
     ]
    }
   ],
   "source": [
    "print (1,000,000)"
   ]
  },
  {
   "cell_type": "markdown",
   "metadata": {},
   "source": [
    "## Salto de línea"
   ]
  },
  {
   "cell_type": "code",
   "execution_count": 9,
   "metadata": {},
   "outputs": [
    {
     "data": {
      "text/plain": [
       "'Primera linea de texto \\n Segunda linea de texto'"
      ]
     },
     "execution_count": 9,
     "metadata": {},
     "output_type": "execute_result"
    }
   ],
   "source": [
    "texto=\"Primera linea de texto \\n Segunda linea de texto\"\n",
    "texto\n",
    "#print(texto)"
   ]
  },
  {
   "cell_type": "markdown",
   "metadata": {},
   "source": [
    "**Observacíon:** La función `print()` produce una salida más legible, omitiendo las comillas que la encierran e imprimiendo caracteres especiales y escapados:"
   ]
  },
  {
   "attachments": {},
   "cell_type": "markdown",
   "metadata": {},
   "source": [
    "**Si no quieres que los caracteres precedidos por**  `\\` **se interpreten como caracteres especiales**, puedes usar cadenas sin formato agregando una `r` antes de la primera comilla:"
   ]
  },
  {
   "cell_type": "code",
   "execution_count": 1,
   "metadata": {},
   "outputs": [
    {
     "name": "stdout",
     "output_type": "stream",
     "text": [
      "C:\n",
      "ame\n",
      "C:\\name\n"
     ]
    }
   ],
   "source": [
    "print('C:\\name')\n",
    "print(r'C:\\name')"
   ]
  },
  {
   "cell_type": "markdown",
   "metadata": {},
   "source": [
    "## Imprimir  múltiples líneas"
   ]
  },
  {
   "attachments": {},
   "cell_type": "markdown",
   "metadata": {},
   "source": [
    "**Las cadenas de texto literales pueden contener múltiples líneas**. Una forma es usar triples comillas: \n",
    "`\"\"\". . .\"\"\"` o `'''. . .'''`. Los fin de línea son incluidos automáticamente, pero es posible prevenir esto agregando una `\\` al final de la línea. Por ejemplo:"
   ]
  },
  {
   "cell_type": "code",
   "execution_count": 2,
   "metadata": {},
   "outputs": [
    {
     "name": "stdout",
     "output_type": "stream",
     "text": [
      "Prrimera linea\n",
      "     segunda linea \n",
      "           tercera linea\n",
      "\n"
     ]
    }
   ],
   "source": [
    "print(\"\"\"\\\n",
    "Prrimera linea\n",
    "     segunda linea \n",
    "           tercera linea\n",
    "\"\"\")"
   ]
  },
  {
   "cell_type": "markdown",
   "metadata": {},
   "source": [
    "El comando `print( )` también funciona con variables. Puedes utilizar el comando `print( )` para imprimir el valor de una variable: "
   ]
  },
  {
   "cell_type": "code",
   "execution_count": null,
   "metadata": {},
   "outputs": [
    {
     "name": "stdout",
     "output_type": "stream",
     "text": [
      "50\n"
     ]
    }
   ],
   "source": [
    "x = 50\n",
    "print(x)"
   ]
  },
  {
   "cell_type": "markdown",
   "metadata": {},
   "source": [
    "También puedes imprimir un mensaje para acompañar el valor de la variable:"
   ]
  },
  {
   "cell_type": "code",
   "execution_count": null,
   "metadata": {},
   "outputs": [
    {
     "name": "stdout",
     "output_type": "stream",
     "text": [
      "El valor de la variable x es:  50\n"
     ]
    }
   ],
   "source": [
    "print('El valor de la variable x es: ', x)"
   ]
  },
  {
   "cell_type": "markdown",
   "metadata": {},
   "source": [
    "# Uso del punto y coma en Python"
   ]
  },
  {
   "cell_type": "markdown",
   "metadata": {},
   "source": [
    "El punto y coma permite escribir distintas instrucciones en una misma línea. Por ejemplo, puedes asignar valores a distintas variables en una sóla linea utilizando **;** para separar cada asignación: "
   ]
  },
  {
   "cell_type": "code",
   "execution_count": 1,
   "metadata": {},
   "outputs": [
    {
     "data": {
      "text/plain": [
       "10"
      ]
     },
     "execution_count": 1,
     "metadata": {},
     "output_type": "execute_result"
    }
   ],
   "source": [
    "x=3; y=2; z=5; x+y+z"
   ]
  },
  {
   "cell_type": "code",
   "execution_count": 5,
   "metadata": {},
   "outputs": [
    {
     "name": "stdout",
     "output_type": "stream",
     "text": [
      "1 2 3\n"
     ]
    }
   ],
   "source": [
    "x=1;y=2;z=3\n",
    "print(x,y,z)"
   ]
  },
  {
   "cell_type": "code",
   "execution_count": 2,
   "metadata": {},
   "outputs": [
    {
     "name": "stdout",
     "output_type": "stream",
     "text": [
      "Hola\n",
      "Mundo\n"
     ]
    }
   ],
   "source": [
    "print(\"Hola\"); print(\"Mundo\")"
   ]
  },
  {
   "cell_type": "markdown",
   "metadata": {},
   "source": [
    "De ahí que terminar las líneas con este carácter, si bien no es necesario, no genera ningún error:"
   ]
  },
  {
   "cell_type": "code",
   "execution_count": 1,
   "metadata": {},
   "outputs": [
    {
     "name": "stdout",
     "output_type": "stream",
     "text": [
      "Hola\n"
     ]
    }
   ],
   "source": [
    "print(\"Hola\"); # Terminar una instrucción con ; no es necesario pero tampoco produce un error."
   ]
  },
  {
   "cell_type": "code",
   "execution_count": null,
   "metadata": {},
   "outputs": [],
   "source": []
  }
 ],
 "metadata": {
  "kernelspec": {
   "display_name": "Python 3",
   "language": "python",
   "name": "python3"
  },
  "language_info": {
   "codemirror_mode": {
    "name": "ipython",
    "version": 3
   },
   "file_extension": ".py",
   "mimetype": "text/x-python",
   "name": "python",
   "nbconvert_exporter": "python",
   "pygments_lexer": "ipython3",
   "version": "3.9.13"
  },
  "orig_nbformat": 4,
  "vscode": {
   "interpreter": {
    "hash": "1606ed296fe21ab67c1d4b49f3f22d72247524c93f58d404930dbd4d15d6017c"
   }
  }
 },
 "nbformat": 4,
 "nbformat_minor": 2
}
