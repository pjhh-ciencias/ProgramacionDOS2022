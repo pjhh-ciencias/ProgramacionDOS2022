{
 "cells": [
  {
   "cell_type": "code",
   "execution_count": 17,
   "metadata": {},
   "outputs": [
    {
     "name": "stdout",
     "output_type": "stream",
     "text": [
      "[{1, 2}, {1, 3}, {1, 4}, {1, 5}, {1, 6}, {1, 7}, {8, 1}, {1, 9}, {1, 10}, {2, 3}, {2, 4}, {2, 5}, {2, 6}, {2, 7}, {8, 2}, {9, 2}, {2, 10}, {3, 4}, {3, 5}, {3, 6}, {3, 7}, {8, 3}, {9, 3}, {10, 3}, {4, 5}, {4, 6}, {4, 7}, {8, 4}, {9, 4}, {10, 4}, {5, 6}, {5, 7}, {8, 5}, {9, 5}, {10, 5}, {6, 7}, {8, 6}, {9, 6}, {10, 6}, {8, 7}, {9, 7}, {10, 7}, {8, 9}, {8, 10}, {9, 10}]\n"
     ]
    }
   ],
   "source": [
    "def mi_funcion(n,lista):\n",
    "    mi_lista = []\n",
    "    for x in lista:\n",
    "        mi_lista.append({n}.union({x}))\n",
    "    return mi_lista\n",
    "\n",
    "\n",
    "subconjuntos2 = []\n",
    "\n",
    "lista = list(range(1,11))\n",
    "for n in lista:\n",
    "# print( mi_funcion(n,lista[n:len(lista)]))\n",
    "    subconjuntos2 += mi_funcion(n,lista[n:len(lista)])\n",
    "\n",
    "print(subconjuntos2)\n",
    "#len(subconjuntos2)\n"
   ]
  },
  {
   "cell_type": "code",
   "execution_count": null,
   "metadata": {},
   "outputs": [],
   "source": []
  }
 ],
 "metadata": {
  "kernelspec": {
   "display_name": "Python 3",
   "language": "python",
   "name": "python3"
  },
  "language_info": {
   "codemirror_mode": {
    "name": "ipython",
    "version": 3
   },
   "file_extension": ".py",
   "mimetype": "text/x-python",
   "name": "python",
   "nbconvert_exporter": "python",
   "pygments_lexer": "ipython3",
   "version": "3.11.1"
  },
  "orig_nbformat": 4
 },
 "nbformat": 4,
 "nbformat_minor": 2
}
