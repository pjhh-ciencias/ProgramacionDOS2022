{
 "cells": [
  {
   "attachments": {},
   "cell_type": "markdown",
   "metadata": {},
   "source": [
    "#### Simula el lanzamiento de una moneda equlibrada en Python y cuenta cuántas veces obtienes aguila y cuántas veces obtienes sol después de un cierto número de lanzamientos. Luego, estima la probabilidad de obtener aguila."
   ]
  },
  {
   "cell_type": "code",
   "execution_count": null,
   "metadata": {},
   "outputs": [],
   "source": [
    "import random\n",
    "\n",
    "num_lanzamientos = 1000000\n",
    "aguilas = 0\n",
    "soles = 0\n",
    "\n",
    "for i in range(num_lanzamientos):\n",
    "    lanzamiento = random.choice(['Aguila','Sol'])\n",
    "    if lanzamiento == 'Aguila':\n",
    "        aguilas +=1\n",
    "    else:\n",
    "        soles += 1\n",
    "\n",
    "print(f\"De los {num_lanzamientos} lanzamientos:  {aguilas} resultaron en aguila y {soles} en soles.\")\n"
   ]
  },
  {
   "cell_type": "code",
   "execution_count": null,
   "metadata": {},
   "outputs": [],
   "source": [
    "import numpy as np\n",
    "import matplotlib.pyplot as plt\n",
    "\n",
    "resultados = ['Aguila', 'Sol']\n",
    "frecuencias = [aguilas/num_lanzamientos, soles/num_lanzamientos]\n",
    "\n",
    "\n",
    "plt.bar(resultados, frecuencias)\n",
    "plt.xlabel('Resultados')\n",
    "plt.ylabel('Frecuencia')\n",
    "plt.yticks(np.arange(0,0.6,0.025))\n",
    "plt.title('Frecuencias - Lanzamiento de moneda')\n",
    "plt.grid(True)\n",
    "plt.show()\n",
    "\n",
    "probabilidad_aguila = aguilas/num_lanzamientos\n",
    "print('La \"Probabilidad\" de obtener aguila es:', probabilidad_aguila)\n",
    "    \n",
    "\n"
   ]
  },
  {
   "attachments": {},
   "cell_type": "markdown",
   "metadata": {},
   "source": [
    "Simula el lanzamiento de dos dados y estima la probabilidad de obtener una suma 5."
   ]
  },
  {
   "cell_type": "code",
   "execution_count": null,
   "metadata": {},
   "outputs": [],
   "source": [
    "import random\n",
    "\n",
    "num_lanzamientos = 100\n",
    "suma_dados = 0\n",
    "\n",
    "for i in range(num_lanzamientos):\n",
    "    dado1 = random.randint(1, 6)\n",
    "    dado2 = random.randint(1, 6)\n",
    "    if dado1 + dado2 == 5:\n",
    "        suma_dados += 1\n",
    "\n",
    "probabilidad = suma_dados / num_lanzamientos\n",
    "print(f\"Probabilidad de obtener una suma de 5: {probabilidad:4f}\")\n"
   ]
  },
  {
   "cell_type": "code",
   "execution_count": null,
   "metadata": {},
   "outputs": [],
   "source": [
    "import numpy as np\n",
    "import matplotlib.pyplot as plt\n",
    "\n",
    "import random\n",
    "\n",
    "num_lanzamientos = 1000000\n",
    "observaciones = np.zeros(11)\n",
    "#frecuencias\n",
    "\n",
    "for i in range(num_lanzamientos):\n",
    "    dado1 = random.randint(1, 6)\n",
    "    dado2 = random.randint(1, 6)\n",
    "    #print(dado1 + dado2)\n",
    "    observaciones[dado1 + dado2 -2] += 1\n",
    "\n",
    "resultados = np.arange(2,13,1)\n",
    "frecuencias = observaciones/num_lanzamientos\n",
    "\n",
    "\n",
    "plt.bar(resultados, frecuencias)\n",
    "plt.xlabel('Resultados')\n",
    "plt.ylabel('Frecuencia')\n",
    "plt.yticks(np.arange(0,0.25,0.01))\n",
    "plt.xticks(np.arange(2,13,1))\n",
    "\n",
    "plt.title('Frecuencias - Lanzamiento de moneda')\n",
    "plt.grid(True)\n",
    "plt.show()\n",
    "\n",
    "print(f\"Probabilidad de obtener una suma de 5: {frecuencias[5-2]:4f}\")"
   ]
  },
  {
   "attachments": {},
   "cell_type": "markdown",
   "metadata": {},
   "source": [
    "En un grupo de personas, se desea determinar la probabilidad de que al menos dos personas cumplan años  el mismo día del año. Supongamos que hay 365 días en un año (ignorando los años bisiestos) y que cada persona tiene la misma probabilidad de nacer en cualquier día del año, independientemente de las demás personas."
   ]
  },
  {
   "cell_type": "code",
   "execution_count": null,
   "metadata": {},
   "outputs": [],
   "source": [
    "import random\n",
    "\n",
    "def coincide_cumpleaños(num_personas):\n",
    "    cumpleaños = set()\n",
    "    \n",
    "    for i in range(num_personas):\n",
    "        dia = random.randint(1, 365) \n",
    "        if dia in cumpleaños:\n",
    "            return True  \n",
    "        cumpleaños.add(dia)\n",
    "    return False  \n",
    "\n",
    "\n",
    "num_personas = 10\n",
    "num_simulaciones = 100000\n",
    "\n",
    "\n",
    "num_exito = 0\n",
    "for i in range(num_simulaciones):\n",
    "    if  coincide_cumpleaños(num_personas):\n",
    "        num_exito += 1\n",
    "\n",
    "probabilidad = num_exito / num_simulaciones\n",
    "\n",
    "print(f\"La probabilidad de que al menos dos personas compartan el mismo cumpleaños en un grupo de {num_personas} personas es  {probabilidad}\")"
   ]
  },
  {
   "cell_type": "code",
   "execution_count": null,
   "metadata": {},
   "outputs": [],
   "source": [
    "import random\n",
    "import matplotlib.pyplot as plt\n",
    "\n",
    "def coincide_cumpleaños(num_personas):\n",
    "    cumpleaños = set()\n",
    "    \n",
    "    for i in range(num_personas):\n",
    "        dia = random.randint(1, 365) \n",
    "        if dia in cumpleaños:\n",
    "            return True  \n",
    "        cumpleaños.add(dia)\n",
    "    return False  \n",
    "\n",
    "\n",
    "num_personas = 25\n",
    "num_simulaciones = 1000\n",
    "\n",
    "x = list(range(1,num_simulaciones+1,1))\n",
    "y = list(range(1,num_simulaciones+1,1))\n",
    "\n",
    "num_exito = 0\n",
    "\n",
    "for i in range(num_simulaciones):\n",
    "    if  coincide_cumpleaños(num_personas):\n",
    "        num_exito += 1\n",
    "    y[i] = num_exito / (i+1)  \n",
    "\n",
    "plt.plot(x,y,linewidth=0.5, color='blue', marker = 'o', markersize = 2.5, markerfacecolor='gold', markeredgecolor = 'r', alpha = 0.9)\n",
    "plt.xlabel('Número de simulaciones')\n",
    "plt.ylabel('Frecuencia')\n",
    "plt.yticks(np.arange(0,1,0.05))\n",
    "plt.grid(True)\n",
    "plt.show()\n",
    "\n",
    "probabilidad = num_exito / num_simulaciones\n",
    "\n",
    "print(f\"La probabilidad de que al menos dos personas compartan el mismo cumpleaños en un grupo de {num_personas} personas es  {probabilidad}\")"
   ]
  },
  {
   "cell_type": "code",
   "execution_count": null,
   "metadata": {},
   "outputs": [],
   "source": []
  }
 ],
 "metadata": {
  "kernelspec": {
   "display_name": "base",
   "language": "python",
   "name": "python3"
  },
  "language_info": {
   "codemirror_mode": {
    "name": "ipython",
    "version": 3
   },
   "file_extension": ".py",
   "mimetype": "text/x-python",
   "name": "python",
   "nbconvert_exporter": "python",
   "pygments_lexer": "ipython3",
   "version": "3.9.13"
  },
  "orig_nbformat": 4
 },
 "nbformat": 4,
 "nbformat_minor": 2
}
