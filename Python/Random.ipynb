{
 "cells": [
  {
   "attachments": {},
   "cell_type": "markdown",
   "metadata": {},
   "source": [
    "# Módulo random"
   ]
  },
  {
   "attachments": {},
   "cell_type": "markdown",
   "metadata": {},
   "source": [
    "El módulo  Random es un módulo integrado de Python que se utiliza para generar números aleatorios. Estos son números pseudoaleatorios, lo que significa que no son realmente aleatorios. Este módulo se puede usar para realizar acciones aleatorias, como generar números aleatorios, imprimir un valor aleatorio para una lista o cadena, etc."
   ]
  },
  {
   "cell_type": "code",
   "execution_count": 14,
   "metadata": {},
   "outputs": [],
   "source": [
    "import random"
   ]
  },
  {
   "attachments": {},
   "cell_type": "markdown",
   "metadata": {},
   "source": [
    "## random.choice"
   ]
  },
  {
   "attachments": {},
   "cell_type": "markdown",
   "metadata": {},
   "source": [
    "Se usa para devolver un elemento aleatorio de una lista, tupla o cadena. Por ejemplo para imprimir un valor aleatorio de una lista"
   ]
  },
  {
   "attachments": {},
   "cell_type": "markdown",
   "metadata": {},
   "source": [
    "**Sintaxis**\n",
    "\n",
    "*`random.choice(secuencia)`*"
   ]
  },
  {
   "cell_type": "code",
   "execution_count": 17,
   "metadata": {},
   "outputs": [
    {
     "name": "stdout",
     "output_type": "stream",
     "text": [
      "2\n"
     ]
    }
   ],
   "source": [
    "import random\n",
    "lista1 = [1, 2, 3, 4, 5, 6] ## imprime un valor aleatorio de la lista\n",
    "print(random.choice(list1))"
   ]
  },
  {
   "cell_type": "code",
   "execution_count": 25,
   "metadata": {},
   "outputs": [
    {
     "name": "stdout",
     "output_type": "stream",
     "text": [
      "1\n",
      "e\n",
      "4\n"
     ]
    }
   ],
   "source": [
    "# Python3 program to demonstrate the use of\n",
    "# choice() method\n",
    "\n",
    "# import random\n",
    "import random\n",
    "\n",
    "# prints a random value from the list\n",
    "list1 = [1, 2, 3, 4, 5, 6]\n",
    "print(random.choice(list1))\n",
    "\n",
    "# prints a random item from the string\n",
    "string = \"geeks\"\n",
    "print(random.choice(string))\n",
    "\n",
    "# prints a random item from the tuple\n",
    "tuple1 = (1, 2, 3, 4, 5)\n",
    "print(random.choice(tuple1))\n"
   ]
  },
  {
   "attachments": {},
   "cell_type": "markdown",
   "metadata": {},
   "source": [
    "## random.seed"
   ]
  },
  {
   "attachments": {},
   "cell_type": "markdown",
   "metadata": {},
   "source": [
    "Hay que destacar que el módulo random crea números pseudoaleatorios. Los números aleatorios dependen \n",
    "del valor de la semilla (*seed*). Por ejemplo, si el valor de la semilla es $5$, la salida del siguiente programa siempre será la misma."
   ]
  },
  {
   "cell_type": "code",
   "execution_count": 20,
   "metadata": {},
   "outputs": [
    {
     "name": "stdout",
     "output_type": "stream",
     "text": [
      "0.6229016948897019\n"
     ]
    }
   ],
   "source": [
    "import random\n",
    "\n",
    "random.seed(5)\n",
    "\n",
    "print(random.random())\n",
    "#print(random.random())\n"
   ]
  },
  {
   "attachments": {},
   "cell_type": "markdown",
   "metadata": {},
   "source": [
    "La salida del código anterior siempre será la misma."
   ]
  },
  {
   "attachments": {},
   "cell_type": "markdown",
   "metadata": {},
   "source": [
    "## random.randint"
   ]
  },
  {
   "attachments": {},
   "cell_type": "markdown",
   "metadata": {},
   "source": [
    "Se utiliza  para generar números enteros aleatorios entre el rango dado. Sintaxis:\n",
    "\n",
    "*`random.randint(inicio, final)`*"
   ]
  },
  {
   "cell_type": "code",
   "execution_count": 23,
   "metadata": {},
   "outputs": [
    {
     "name": "stdout",
     "output_type": "stream",
     "text": [
      "Un número aleatorio ente  5 y  15 is 8\n",
      "Random number between -10 and -2 is -10\n"
     ]
    }
   ],
   "source": [
    "# import random module\n",
    "import random\n",
    "\n",
    "# Generates a random number between a given positive range\n",
    "r1 = random.randint(5, 15)\n",
    "print(\"Un número aleatorio ente  5 y  15 is %s\" % (r1))\n",
    "\n",
    "# Generates a random number between two given negative range\n",
    "r2 = random.randint(-10, -2)\n",
    "print(\"Random number between -10 and -2 is % d\" % (r2))\n"
   ]
  },
  {
   "attachments": {},
   "cell_type": "markdown",
   "metadata": {},
   "source": [
    "## random.random"
   ]
  },
  {
   "attachments": {},
   "cell_type": "markdown",
   "metadata": {},
   "source": [
    " se utiliza para generar valores flotantes aleatorios entre 0,0 y 1."
   ]
  },
  {
   "attachments": {},
   "cell_type": "markdown",
   "metadata": {},
   "source": [
    "**Sintaxis**\n",
    "\n",
    "`*random.random*`"
   ]
  },
  {
   "cell_type": "code",
   "execution_count": 24,
   "metadata": {},
   "outputs": [
    {
     "name": "stdout",
     "output_type": "stream",
     "text": [
      "0.9009004917506227\n"
     ]
    }
   ],
   "source": [
    "# Python3 program to demonstrate\n",
    "# the use of random() function .\n",
    "\t\n",
    "# import random\n",
    "from random import random\n",
    "\t\n",
    "# Prints random item\n",
    "print(random())\n"
   ]
  },
  {
   "attachments": {},
   "cell_type": "markdown",
   "metadata": {},
   "source": [
    "## random.sample"
   ]
  },
  {
   "attachments": {},
   "cell_type": "markdown",
   "metadata": {},
   "source": [
    " El resultado es una Lista de Python que contiene los números aleatorios:\n",
    "\n",
    " *`random.sample(population_sequence,total_count_of_random_numbers)`*"
   ]
  },
  {
   "cell_type": "code",
   "execution_count": 11,
   "metadata": {},
   "outputs": [
    {
     "data": {
      "text/plain": [
       "[8, 1, 6, 2, 7, 4, 9, 5, 0, 3]"
      ]
     },
     "execution_count": 11,
     "metadata": {},
     "output_type": "execute_result"
    }
   ],
   "source": [
    "import random\n",
    "\n",
    "numeros_aleatorios=random.sample(range(10),10)\n",
    "numeros_aleatorios"
   ]
  },
  {
   "cell_type": "code",
   "execution_count": null,
   "metadata": {},
   "outputs": [],
   "source": []
  },
  {
   "cell_type": "code",
   "execution_count": 1,
   "metadata": {},
   "outputs": [],
   "source": [
    "import math\n",
    "def f(x,e):\n",
    "    y=math.sin(2*math.pi *(1-x)**2) + .5*e\n",
    "    return y"
   ]
  },
  {
   "cell_type": "code",
   "execution_count": 2,
   "metadata": {},
   "outputs": [
    {
     "data": {
      "text/plain": [
       "[2, 3, 4]"
      ]
     },
     "execution_count": 2,
     "metadata": {},
     "output_type": "execute_result"
    }
   ],
   "source": [
    "import random\n"
   ]
  },
  {
   "cell_type": "code",
   "execution_count": null,
   "metadata": {},
   "outputs": [],
   "source": []
  }
 ],
 "metadata": {
  "kernelspec": {
   "display_name": "Python 3",
   "language": "python",
   "name": "python3"
  },
  "language_info": {
   "codemirror_mode": {
    "name": "ipython",
    "version": 3
   },
   "file_extension": ".py",
   "mimetype": "text/x-python",
   "name": "python",
   "nbconvert_exporter": "python",
   "pygments_lexer": "ipython3",
   "version": "3.11.0"
  },
  "orig_nbformat": 4,
  "vscode": {
   "interpreter": {
    "hash": "ce4d963573401a72c80fabe1ef75418dde5088fa46d743e51eca5fefbd048d5c"
   }
  }
 },
 "nbformat": 4,
 "nbformat_minor": 2
}
