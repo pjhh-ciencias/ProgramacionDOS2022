{
 "cells": [
  {
   "cell_type": "markdown",
   "metadata": {},
   "source": [
    " # Tipos de datos en Python"
   ]
  },
  {
   "cell_type": "markdown",
   "metadata": {},
   "source": [
    "## Tipos de datos "
   ]
  },
  {
   "cell_type": "markdown",
   "metadata": {},
   "source": [
    "Python admite cinco tipos de datos estándar. Aquí está la lista completa:\n",
    "\n",
    "1. **Números**\n",
    "2. **Cadenas** (Strings)\n",
    "3. **Listas** : En Python una lista es una colección de elementos de un mismo tipo o de diferentes tipos, en las listas podemos guardar todo tipo de datos o valores, ya sean str, int, float, bool incluso otra lista. Las listas son similares a los arreglos en otros lenguajes de programación.\n",
    "4. **Tuplas** : En Python una tupla es conjunto ordenado e inmutable de elementos del mismo o diferente tipo.\n",
    "5. **Diccionarios** : En Python un diccionario es una estructura de datos para trabajar con colecciones de datos almacenados en pares de claves/valores. Los diccionarios se ordenan  y son mutables. Pueden soportar cambios después de su creación, pero son estrictos acerca de entradas duplicadas. Todas las claves/valores deben ser únicos."
   ]
  },
  {
   "cell_type": "markdown",
   "metadata": {},
   "source": [
    "## Función `type( )`"
   ]
  },
  {
   "cell_type": "markdown",
   "metadata": {},
   "source": [
    "Es posible  obtener el tipo de dato de una variable utilizando la función `type( )`"
   ]
  },
  {
   "cell_type": "code",
   "execution_count": 2,
   "metadata": {},
   "outputs": [
    {
     "name": "stdout",
     "output_type": "stream",
     "text": [
      "La variable x es de tipo:  <class 'int'>\n",
      "La variable y es de tipo:  <class 'str'>\n",
      "La variable z es de tipo:  <class 'float'>\n"
     ]
    }
   ],
   "source": [
    "x = 1\n",
    "z=0.5\n",
    "\n",
    "y = \"cadena_caracteres\"\n",
    "\n",
    "print('La variable x es de tipo: ', type(x))\n",
    "print('La variable y es de tipo: ',type(y))\n",
    "print('La variable z es de tipo: ',type(z))"
   ]
  },
  {
   "cell_type": "markdown",
   "metadata": {},
   "source": [
    "Las cadenas pertenezcan al tipo *`str`* y los enteros pertenezcan al tipo *`int`* . Los números con un punto decimal pertenezcan a un tipo llamado *`float`*, porque éstos se representan en un formato denominado **punto flotante**."
   ]
  },
  {
   "cell_type": "markdown",
   "metadata": {},
   "source": [
    "¿Que ocurre con valores como \"17\" y \"3.2\"? Parecen números, pero están encerrados entre comillas como las cadenas."
   ]
  },
  {
   "cell_type": "code",
   "execution_count": null,
   "metadata": {},
   "outputs": [],
   "source": [
    "type(\"17\")\n",
    "\n",
    "\n",
    "type(\"3.2\")\n"
   ]
  },
  {
   "cell_type": "markdown",
   "metadata": {},
   "source": [
    "# Matemáticas con Python"
   ]
  },
  {
   "cell_type": "markdown",
   "metadata": {},
   "source": [
    "Python se usa ampliamente en *finanzas, simulación, ciencia de datos, análisis estadístico* y en muchos otros campos de trabajo matemáticos intensivos. La razón es que Python hace que trabajar con números sea muy fácil e intuitivo."
   ]
  },
  {
   "cell_type": "markdown",
   "metadata": {},
   "source": [
    "## Operadores aritméticos"
   ]
  },
  {
   "cell_type": "markdown",
   "metadata": {},
   "source": [
    "Enseguida presentamos los operadores aritméticos más comunes que  permiten manipular números en Python."
   ]
  },
  {
   "attachments": {},
   "cell_type": "markdown",
   "metadata": {},
   "source": [
    "| Operador aritmético | Operación        | Ejemplo   | Resultado |\n",
    "|---------------------|------------------|-----------|-----------|\n",
    "| **                   | Potencia         | 4**3      | 64        |\n",
    "| *                   | Multiplicación   | 1.25*2    | 2.5       |\n",
    "| /                   | División         | 15/4      | 3.75      |\n",
    "| +                   | Suma             | 20.5+9.2  | 29.7      |\n",
    "| -                   | Resta            | 17.9-14.6 | 3.3       |\n",
    "| %                   | Módulo (residuo) | 15 % 2  | 1         |\n",
    "| //                  | División entera  | 17 // 3  | 5         |"
   ]
  },
  {
   "cell_type": "markdown",
   "metadata": {},
   "source": [
    "### Suma \n",
    "\n",
    "Sean $x,y \\in \\mathbb{R}$, en Python para calcular la suma $x+ y$  utilizamos el operador `+`"
   ]
  },
  {
   "cell_type": "code",
   "execution_count": null,
   "metadata": {},
   "outputs": [],
   "source": [
    "x = 2\n",
    "y = 5\n",
    "\n",
    "sum = x+y \n",
    "sum\n",
    "#print(sum)"
   ]
  },
  {
   "cell_type": "markdown",
   "metadata": {},
   "source": [
    "### Resta\n",
    "\n",
    "Sean $x,y \\in \\mathbb{R}$, en Python para determinar la diferencia $x-y$  utilizamos el operador `-`"
   ]
  },
  {
   "cell_type": "code",
   "execution_count": null,
   "metadata": {},
   "outputs": [
    {
     "name": "stdout",
     "output_type": "stream",
     "text": [
      "-3\n"
     ]
    }
   ],
   "source": [
    "x = 2\n",
    "y = 5\n",
    "\n",
    "dif= x-y\n",
    "print(dif) "
   ]
  },
  {
   "cell_type": "markdown",
   "metadata": {},
   "source": [
    "### Multiplicación \n",
    "\n",
    "Sean $x,y \\in \\mathbb{R}$,  en Python para calcular el producto $x\\cdot y$ utilizamos el operador `*`"
   ]
  },
  {
   "cell_type": "code",
   "execution_count": null,
   "metadata": {},
   "outputs": [
    {
     "name": "stdout",
     "output_type": "stream",
     "text": [
      "15\n"
     ]
    }
   ],
   "source": [
    "x=5\n",
    "y=3\n",
    "\n",
    "prod=x*y\n",
    "print(prod)"
   ]
  },
  {
   "cell_type": "markdown",
   "metadata": {},
   "source": [
    "### División\n",
    "\n",
    "Sean $x,y \\in \\mathbb{R}$ con $y\\not= 0$, en Python para calcular la división $x\\div y$   utilizamos el operador `/`"
   ]
  },
  {
   "cell_type": "code",
   "execution_count": null,
   "metadata": {},
   "outputs": [
    {
     "name": "stdout",
     "output_type": "stream",
     "text": [
      "16.666666666666668\n"
     ]
    }
   ],
   "source": [
    "x = 50\n",
    "y = 3\n",
    "\n",
    "div = x / y\n",
    "print(div)"
   ]
  },
  {
   "cell_type": "code",
   "execution_count": null,
   "metadata": {},
   "outputs": [
    {
     "name": "stdout",
     "output_type": "stream",
     "text": [
      "25.0\n"
     ]
    }
   ],
   "source": [
    "x = 50\n",
    "y = 2\n",
    "\n",
    "div = x / y\n",
    "print(div)"
   ]
  },
  {
   "cell_type": "markdown",
   "metadata": {},
   "source": [
    "### División entera o cociente"
   ]
  },
  {
   "cell_type": "markdown",
   "metadata": {},
   "source": [
    "Sean $a,b \\in \\mathbb{R}$, en Python para encontrar la división entera o cociente de la división  $b\\div a$ se utiliza el operador `%`"
   ]
  },
  {
   "cell_type": "code",
   "execution_count": null,
   "metadata": {},
   "outputs": [
    {
     "name": "stdout",
     "output_type": "stream",
     "text": [
      "5\n"
     ]
    }
   ],
   "source": [
    "a = 2\n",
    "b = 11\n",
    "\n",
    "c = b//a\n",
    "\n",
    "print(c)\n"
   ]
  },
  {
   "cell_type": "markdown",
   "metadata": {},
   "source": [
    "### Módulo o residuo\n",
    "\n",
    "Sean $a,b \\in \\mathbb{R}$, en Python para encontrar el resto de la división $b\\div a$ se utiliza el operador `%`"
   ]
  },
  {
   "cell_type": "code",
   "execution_count": null,
   "metadata": {},
   "outputs": [
    {
     "name": "stdout",
     "output_type": "stream",
     "text": [
      "1.0\n"
     ]
    }
   ],
   "source": [
    "a=2.5\n",
    "b=6\n",
    "\n",
    "c=b%a\n",
    "print(c)"
   ]
  },
  {
   "cell_type": "markdown",
   "metadata": {},
   "source": [
    "### Potencia \n",
    "\n",
    "Sean $a,n \\in \\mathbb{R}$, para determinar la potencia $a^{n}$ en Python utilizamos el operador: `**`"
   ]
  },
  {
   "cell_type": "code",
   "execution_count": null,
   "metadata": {},
   "outputs": [
    {
     "name": "stdout",
     "output_type": "stream",
     "text": [
      "1.0\n"
     ]
    }
   ],
   "source": [
    "a=-1\n",
    "n=-2\n",
    "\n",
    "pot= a**n\n",
    "print(pot)"
   ]
  },
  {
   "attachments": {},
   "cell_type": "markdown",
   "metadata": {},
   "source": [
    "## Jerarquía de operaciones\n",
    "\n",
    "El orden de las operaciones: **PEMDAS**."
   ]
  },
  {
   "cell_type": "code",
   "execution_count": null,
   "metadata": {},
   "outputs": [
    {
     "name": "stdout",
     "output_type": "stream",
     "text": [
      "25.0\n",
      "25.0\n"
     ]
    }
   ],
   "source": [
    "x = (4 * 5) + (20 / (2**2))\n",
    "\n",
    "y=4 * 5 + 20 / 2**2\n",
    "\n",
    "print(x)\n",
    "print(y)"
   ]
  },
  {
   "cell_type": "markdown",
   "metadata": {},
   "source": [
    "## Tipos de números de Python\n",
    "\n",
    "Hay tres tipos de números en Python, y son los siguientes:\n",
    "\n",
    "* ***Int*** : Enteros\n",
    "* ***Float*** : Números de punto flotante\n",
    "* ***Complex*** : Números complejos o imaginarios"
   ]
  },
  {
   "cell_type": "code",
   "execution_count": null,
   "metadata": {},
   "outputs": [
    {
     "name": "stdout",
     "output_type": "stream",
     "text": [
      "<class 'int'>\n",
      "<class 'float'>\n",
      "<class 'complex'>\n"
     ]
    }
   ],
   "source": [
    "i=2 #Entero\n",
    "f=2.5  #Float\n",
    "c=1+4j #Complex\n",
    "\n",
    "print(type(i))\n",
    "print(type(f))\n",
    "print(type(c))"
   ]
  },
  {
   "cell_type": "markdown",
   "metadata": {},
   "source": [
    "\n",
    "### Int\n",
    "\n",
    "Tipo de dato utilizado para representar  números enteros (sin decimales) tales como:\n",
    "\n",
    "$$\\ldots, -2,-1,0,1,2,4,5,\\ldots$$"
   ]
  },
  {
   "cell_type": "code",
   "execution_count": null,
   "metadata": {},
   "outputs": [],
   "source": [
    "a=2\n",
    "b=7\n",
    "c=-3"
   ]
  },
  {
   "cell_type": "markdown",
   "metadata": {},
   "source": [
    "\n",
    "### Float\n",
    "\n",
    "Tipo de dato utilizado para representar números de puto flotante como:\n",
    "\n",
    "$$\\ldots, -2.5,-1.1, -1,-0.5, 0.0 , 0.5, 0.75, 1.25, \\ldots$$"
   ]
  },
  {
   "cell_type": "code",
   "execution_count": null,
   "metadata": {},
   "outputs": [],
   "source": [
    "f1=1.25\n",
    "f2=3.141516\n",
    "f3=-.75"
   ]
  },
  {
   "cell_type": "markdown",
   "metadata": {},
   "source": [
    "### Complex\n",
    "\n",
    "Este tipo de dato se utiliza para almacenar **números complejos** o **imaginarios** i.e. números de la forma:\n",
    "$a + bj$ donde $a,b \\in \\mathbb{R}$ y $j$ es la unidad imaginaria definida tal que  $j^{2}=-1$ "
   ]
  },
  {
   "cell_type": "code",
   "execution_count": null,
   "metadata": {},
   "outputs": [],
   "source": [
    "z= 2+8j\n",
    "w=-1.5 + 5j\n",
    "u=4j\n"
   ]
  },
  {
   "cell_type": "markdown",
   "metadata": {},
   "source": []
  },
  {
   "cell_type": "markdown",
   "metadata": {},
   "source": [
    "## Conversión de tipo de número"
   ]
  },
  {
   "cell_type": "code",
   "execution_count": null,
   "metadata": {},
   "outputs": [
    {
     "name": "stdout",
     "output_type": "stream",
     "text": [
      "5.0\n",
      "<class 'float'>\n",
      "7\n",
      "<class 'int'>\n",
      "<class 'complex'>\n",
      "(5+0j)\n"
     ]
    }
   ],
   "source": [
    "a = 5   # int\n",
    "b = 7.5 # float\n",
    "c = 10j  # complex\n",
    "\n",
    "f = float(a)\n",
    "i = int(b)\n",
    "c = complex(a)\n",
    "\n",
    "print(f)\n",
    "print(type(f))\n",
    "\n",
    "print(i)\n",
    "print(type(i))\n",
    "\n",
    "print(type(c))\n",
    "print(c)\n"
   ]
  },
  {
   "cell_type": "markdown",
   "metadata": {},
   "source": [
    "Tenga en cuenta que no puede convertir números complejos en otra cosa."
   ]
  },
  {
   "cell_type": "markdown",
   "metadata": {},
   "source": [
    "## Funciones matemáticas en Python\n",
    "\n",
    "Mencionamos antes que Python se usa mucho en cualquier campo que utilice matemáticas. Los métodos integrados que proporciona Python son una gran razón para ello. Estos son algunos de los más comunes:"
   ]
  },
  {
   "cell_type": "markdown",
   "metadata": {},
   "source": [
    "### Valor absoluto\n",
    "\n",
    "Sea $x \\in \\mathbb{R}$,  en Python para obtener el **valor absoluto** de $x$,  $|x|$ utilizamos el  método: `abs()`"
   ]
  },
  {
   "cell_type": "code",
   "execution_count": null,
   "metadata": {},
   "outputs": [
    {
     "name": "stdout",
     "output_type": "stream",
     "text": [
      "34\n"
     ]
    }
   ],
   "source": [
    "number = -34\n",
    "print(abs(number))"
   ]
  },
  {
   "attachments": {},
   "cell_type": "markdown",
   "metadata": {},
   "source": [
    "### Función máximo entero (función piso o  floor )\n",
    "\n",
    "La función máximo entero $\\lfloor \\cdot \\rfloor\\colon \\mathbb{R} \\to \\mathbb{N} $ asigna  a cada número real $x$ el mayor número entero $n$ menor o igual  que $x$ i.e. \n",
    "$$\\lfloor x\\rfloor := \\max\\{k \\in \\mathbb{Z} \\colon k\\leq x\\}$$\n",
    "de esta manera:\n",
    "$$\\lfloor x\\rfloor = n \\Longleftrightarrow n\\leq x <n+1  $$   \n",
    "\n",
    "**Observación:** Para utilizar este  y otros métodos matemáticos, se debe importar el <a href=\"https://docs.python.org/es/3/library/math.html#\" title=\"\">***módulo `.math`***</a>."
   ]
  },
  {
   "attachments": {},
   "cell_type": "markdown",
   "metadata": {},
   "source": [
    "Un ***módulo en Python*** es un fichero `.py` que almacena un conjunto de *funciones*, *variables* o *clases* y que puede ser usado por otros módulos. "
   ]
  },
  {
   "cell_type": "code",
   "execution_count": null,
   "metadata": {},
   "outputs": [
    {
     "name": "stdout",
     "output_type": "stream",
     "text": [
      "-7\n"
     ]
    }
   ],
   "source": [
    "import math\n",
    "\n",
    "number = 6.87\n",
    "print(math.floor(number))"
   ]
  },
  {
   "cell_type": "code",
   "execution_count": null,
   "metadata": {},
   "outputs": [
    {
     "name": "stdout",
     "output_type": "stream",
     "text": [
      "-2\n"
     ]
    }
   ],
   "source": [
    "number=-1.5\n",
    "\n",
    "print(math.floor(number))"
   ]
  },
  {
   "cell_type": "markdown",
   "metadata": {},
   "source": [
    "### Función techo (función ceil)\n",
    "\n",
    "La función techo $\\lceil \\cdot \\rceil\\colon \\mathbb{R} \\to \\mathbb{N} $ asigna  a cada número real $x$ el menor número entero $n$ mayor o igual  que $x$ i.e. \n",
    "$$\\lceil x\\rceil := \\min\\{k \\in \\mathbb{Z} \\colon x \\leq k\\}$$\n",
    "de esta manera:\n",
    "$$\\lceil x\\rceil = n \\Longleftrightarrow n-1< x \\leq n  $$   \n",
    "\n",
    "**Observación:** Similarmente para utilizar este se debe importar el módulo `.math`"
   ]
  },
  {
   "cell_type": "code",
   "execution_count": null,
   "metadata": {},
   "outputs": [
    {
     "name": "stdout",
     "output_type": "stream",
     "text": [
      "7\n"
     ]
    }
   ],
   "source": [
    "import math\n",
    "\n",
    "number = 6.21\n",
    "print(math.ceil(number))"
   ]
  },
  {
   "cell_type": "code",
   "execution_count": null,
   "metadata": {},
   "outputs": [
    {
     "name": "stdout",
     "output_type": "stream",
     "text": [
      "-2\n"
     ]
    }
   ],
   "source": [
    "import math\n",
    "\n",
    "number = -2.1\n",
    "print(math.ceil(number))"
   ]
  },
  {
   "cell_type": "markdown",
   "metadata": {},
   "source": [
    "### Logaritmo natural\n",
    "\n",
    "Sea $x \\in \\mathbb{R}^{+}$, en Python para determinar el logaritmo natural de $x$, $ln(x)$"
   ]
  },
  {
   "cell_type": "code",
   "execution_count": 2,
   "metadata": {},
   "outputs": [
    {
     "data": {
      "text/plain": [
       "0.0"
      ]
     },
     "execution_count": 2,
     "metadata": {},
     "output_type": "execute_result"
    }
   ],
   "source": [
    "import math\n",
    "\n",
    "math.log(1)"
   ]
  },
  {
   "attachments": {},
   "cell_type": "markdown",
   "metadata": {},
   "source": [
    "\n",
    "#  Cadenas (Strings)\n",
    "\n",
    "Utilizado para almacenar una sucesión de caracteres. Las ***cadenas en Python 3 son inmutables***, i.e. una vez que definiste una cadena ya no puedes cambiarala despues. Sin embargo, cuando \"modificas\" una cadena  con comandos tales como:  `replace( )` or `join( )`, se crea una copia de la cadena y se aplica la modificación a esta, no se reescribe la original.\n",
    "\n",
    "\n",
    "<!-- El saludo \"*¡Hola mundo!*\" es una cadena en Python.   -->"
   ]
  },
  {
   "cell_type": "markdown",
   "metadata": {},
   "source": [
    "### ¿Como crear una cadena en Python?\n",
    "\n",
    "Para crear una  cadena puedes utilizar **comillas simples**, **dobles** o **triples**. "
   ]
  },
  {
   "cell_type": "code",
   "execution_count": 3,
   "metadata": {},
   "outputs": [],
   "source": [
    "Mi_cadena= \"¡Hoy es un buen día para aprender Python!\"\n",
    "Otra_cadena= 'Esto puede parecer difícil al principio, pero te aseguro que puedes hacerlo!' \n",
    "Cadena_larga= '''En efecto, tu puedes lograr lo que te propongas... :D\n",
    "Observa que utilizando comillas tiples podemos guargar una cadena muy large de varias lineas de texto.'''"
   ]
  },
  {
   "attachments": {},
   "cell_type": "markdown",
   "metadata": {},
   "source": [
    "Enseguida  puedes usar la función `print( )` para generar el valor de la cadena en la ventana de la consola."
   ]
  },
  {
   "cell_type": "code",
   "execution_count": null,
   "metadata": {},
   "outputs": [],
   "source": [
    "print(Mi_cadena)\n",
    "print(Otra_cadena)\n",
    "print(Cadena_larga)"
   ]
  },
  {
   "cell_type": "markdown",
   "metadata": {},
   "source": [
    "### Método format"
   ]
  },
  {
   "attachments": {},
   "cell_type": "markdown",
   "metadata": {},
   "source": [
    "El método `format()` es una función integrada en Python que se utiliza para dar **formato a las cadenas de texto**. El método `format()` se llama en una cadena de texto y toma uno o más argumentos que se utilizan para reemplazar ciertos caracteres de la cadena con los valores proporcionados. Se utiliza `{ }` como **marcadores de posición** en la cadena, y los valores que se utilizan para reemplazar los marcadores de posición se pasan como argumentos a la función `format()`."
   ]
  },
  {
   "cell_type": "code",
   "execution_count": null,
   "metadata": {},
   "outputs": [],
   "source": [
    "username = input(\"Ingrese su nombre de usuario: \")\n",
    "print(\"¡Bienvenido {}!\".format(username))"
   ]
  },
  {
   "cell_type": "code",
   "execution_count": null,
   "metadata": {},
   "outputs": [],
   "source": [
    "palabra = 'mundo'\n",
    "print('¡Hola, {}!'. format(palabra))"
   ]
  },
  {
   "attachments": {},
   "cell_type": "markdown",
   "metadata": {},
   "source": [
    "En el siguiente ejemplo, la cadena de texto tiene tres marcadores de posición `{ }` que se reemplazan con los valores de las variables *precio*, *cantidad* y *total*. El segundo y tercer argumento utilizan la sintaxis `{:.2f}` para especificar que los números deben formatearse con dos decimales."
   ]
  },
  {
   "cell_type": "code",
   "execution_count": null,
   "metadata": {},
   "outputs": [],
   "source": [
    "precio = 15.500000\n",
    "cantidad = 2\n",
    "total = precio * cantidad\n",
    "print(\"El precio unitario es ${:.2f} y compramos {} unidades, por lo que el total es ${:.2f}\".format(precio, cantidad, total))"
   ]
  },
  {
   "attachments": {},
   "cell_type": "markdown",
   "metadata": {},
   "source": [
    "Como podemos observar, pude haber concatenado la variable directamente en la cadena de texto, pero en cambio utilizo el método `format()` y le paso como argumento la variable que quiero mostrar. **Los corchetes vacíos indican donde irá el texto.**"
   ]
  },
  {
   "attachments": {},
   "cell_type": "markdown",
   "metadata": {},
   "source": [
    "#### Especificando el orden de los valores"
   ]
  },
  {
   "attachments": {},
   "cell_type": "markdown",
   "metadata": {},
   "source": [
    "Podemos indicar en los corchetes números. Igual que una lista, el método `format( )` distingue los valores contando desde $0$. Esto a veces puede ser un poco confuso. Para ello podemos asignar nombres a nuestros indices. Veamos un ejemplo:"
   ]
  },
  {
   "attachments": {},
   "cell_type": "markdown",
   "metadata": {},
   "source": [
    "<!-- El método `format()` puede recibir más de un valor. Podemos agregar múltiples valores. Veamos un ejemplo: -->"
   ]
  },
  {
   "cell_type": "code",
   "execution_count": null,
   "metadata": {},
   "outputs": [],
   "source": [
    "name = \"Peter\"\n",
    "lastname = \"Parker\"\n",
    "username = \"El hombre araña\"\n",
    "text = \"Mi nombre es {0} {1}. Pero mis amigos me dicen {2}.\"\n",
    "print(text.format(name, lastname, username))"
   ]
  },
  {
   "cell_type": "code",
   "execution_count": null,
   "metadata": {},
   "outputs": [],
   "source": [
    "text = \"Mi nombre es {name} {lastname}.\"\n",
    "print(text.format(name=\"Pablo\", lastname=\"Hernandez\"))"
   ]
  },
  {
   "attachments": {},
   "cell_type": "markdown",
   "metadata": {},
   "source": [
    "Sin duda a veces  manejar  números en cadenas de texto es dificil. Para ello podemos utilizar tambien el método  `format( )`. La sintaxis no cambia. Veamos otro ejemplo:"
   ]
  },
  {
   "cell_type": "code",
   "execution_count": null,
   "metadata": {},
   "outputs": [],
   "source": [
    "text = \"Yo tengo {age}. Yo nací en el año {year}\"\n",
    "print(text.format(age=23, year=2000))"
   ]
  },
  {
   "attachments": {},
   "cell_type": "markdown",
   "metadata": {},
   "source": [
    "<!-- Como en Python todo es un objeto, cuando queremos imprimir el valor de una variable debemos utilizar la función `format` y el placeholder `{}`. -->"
   ]
  },
  {
   "attachments": {},
   "cell_type": "markdown",
   "metadata": {},
   "source": [
    "## f-Strings \n",
    "\n",
    "Las **f-strings**  son una forma de **formatear cadenas de caracteres en Python 3**. Las f-strings permiten la **inclusión de expresiones de Python dentro de cadenas de caracteres**, lo que permite la creación de cadenas de caracteres dinámicas.\n",
    "\n",
    "Una f-string es una **cadena con formato**,  comienza con la letra `f`. La ventaja de utilizar f-strings es que hacen que el código sea más legible y más fácil de mantener, ya que **permiten incluir valores de variables y expresiones directamente en la cadena de texto**. \n",
    " <!-- Sin embargo, existen grandes cambios con respecto al código legacy que viene de Python 2 hacia Python 3 -->\n",
    "\n",
    "En general, una f-string contiene variables y expresiones entre llaves `{ }` que se sustituyen directamente por su valor. Las `f-strings` se reconocen porque comienzan por una letra `f` antes de las comillas de apertura.\n",
    "\n",
    "Desde Python 3.6 es posible utilizar f-strings para realizar lo mismo que la función format de la siguiente manera:"
   ]
  },
  {
   "cell_type": "code",
   "execution_count": null,
   "metadata": {},
   "outputs": [],
   "source": [
    "sumando1=int(input(\"Ingrese primer valor:\"))\n",
    "sumando2=int(input(\"Ingrese segundo valor:\"))\n",
    "suma=sumando1+sumando2\n",
    "print(f\"La suma de {sumando1} y {sumando2} es {suma}\")\n"
   ]
  },
  {
   "cell_type": "code",
   "execution_count": null,
   "metadata": {},
   "outputs": [],
   "source": [
    "nombre = \"Alicia\"\n",
    "edad = 35\n",
    "print(f\"Me llamo {nombre} y tengo {edad} años.\")"
   ]
  },
  {
   "cell_type": "code",
   "execution_count": null,
   "metadata": {},
   "outputs": [],
   "source": [
    "palabra = 'Mundo'\n",
    "print(f'Hola, {palabra}')"
   ]
  },
  {
   "attachments": {},
   "cell_type": "markdown",
   "metadata": {},
   "source": [
    "## Diferencias entre f-strings y  método format()\n"
   ]
  },
  {
   "attachments": {},
   "cell_type": "markdown",
   "metadata": {},
   "source": [
    "Tanto las f-strings como el método format() se utilizan para formatear cadenas de caracteres en Python, pero hay algunas diferencias importantes entre los dos métodos."
   ]
  },
  {
   "attachments": {},
   "cell_type": "markdown",
   "metadata": {},
   "source": [
    "### Sintaxis\n",
    "\n",
    "La sintaxis de las f-strings es más simple y legible que la del método `format()`. Para crear una f-string, simplemente pon una \"f\" antes de la cadena de caracteres y luego coloca las expresiones de Python dentro de llaves `{ } `dentro de la cadena. \n",
    "\n",
    "Por otro lado, para utilizar el método `format()`, debemos llamar al método en una cadena de caracteres y colocar los valores que deseamos insertar en las llaves {} dentro de la cadena"
   ]
  },
  {
   "attachments": {},
   "cell_type": "markdown",
   "metadata": {},
   "source": [
    "### Evaluación en tiempo de ejecución\n",
    "\n",
    "Con las f-strings, podemos **incluir expresiones de Python dentro de las llaves** `{ }` que **se evalúan en tiempo de ejecución**. Por ejemplo:"
   ]
  },
  {
   "cell_type": "code",
   "execution_count": null,
   "metadata": {},
   "outputs": [],
   "source": [
    "numero = 10\n",
    "print(f\"El doble de {numero} es {numero * 2}.\")"
   ]
  },
  {
   "attachments": {},
   "cell_type": "markdown",
   "metadata": {},
   "source": [
    "En cambio, con el método `format( )`, **no podemos incluir expresiones de Python dentro de las llaves** `{ }`. En su lugar, debemos calcular los valores antes de llamar al método format(). Por ejemplo:"
   ]
  },
  {
   "cell_type": "code",
   "execution_count": null,
   "metadata": {},
   "outputs": [],
   "source": [
    "numero = 10\n",
    "doble = numero * 2\n",
    "print(\"El doble de {} es {}.\".format(numero, doble))"
   ]
  },
  {
   "attachments": {},
   "cell_type": "markdown",
   "metadata": {},
   "source": [
    "**En general**, las `f-strings` son más legibles que el método `format( )` porque la expresión se encuentra directamente dentro de la cadena de caracteres, lo que hace que sea más fácil ver lo que está sucediendo. Además, las `f-strings` son más concisas y reducen la cantidad de código que se debe escribir."
   ]
  },
  {
   "attachments": {},
   "cell_type": "markdown",
   "metadata": {},
   "source": [
    "## Cadenas multilinea\n",
    "\n",
    "Para **imprimir una cadena multilínea** puede realizarse utilizando el **caracter de escape** `\\` o la **triple comilla**.\n",
    "\n",
    "Los siguientes dos ejemplos son equivalentes."
   ]
  },
  {
   "cell_type": "code",
   "execution_count": null,
   "metadata": {},
   "outputs": [],
   "source": [
    "x = 'Hola ' \\\n",
    "    'mundo'\n",
    "x"
   ]
  },
  {
   "cell_type": "code",
   "execution_count": 18,
   "metadata": {},
   "outputs": [],
   "source": [
    "x = '''hello\n",
    "world'''"
   ]
  },
  {
   "cell_type": "markdown",
   "metadata": {},
   "source": [
    "## Concatenar cadenas"
   ]
  },
  {
   "attachments": {},
   "cell_type": "markdown",
   "metadata": {},
   "source": [
    "<!-- la concatenación de cadenas se puede realizar utilizando el operador `+` o el método `join()`. -->\n",
    "\n",
    "Para concatenar dos o más cadenas usando el operador `+`, simplemente colócalas una al lado de la otra con el operador `+` entre ellas o bien utilizando  el método `join()`.:"
   ]
  },
  {
   "cell_type": "code",
   "execution_count": null,
   "metadata": {},
   "outputs": [],
   "source": [
    "cadena1 = \"Hola\"\n",
    "cadena2 = \"mundo\"\n",
    "cadena3 = cadena1 + \" \" + cadena2\n",
    "print(cadena3)"
   ]
  },
  {
   "cell_type": "markdown",
   "metadata": {},
   "source": [
    "También puedes usar la instrucción `join()` para concatenar una lista de cadenas. Este método toma una lista de cadenas y une cada elemento con un separador especificado:"
   ]
  },
  {
   "cell_type": "code",
   "execution_count": null,
   "metadata": {},
   "outputs": [],
   "source": [
    "lista_cadenas = [\"Hola\", \"mundo\"]\n",
    "separador = \" \"\n",
    "cadena = separador.join(lista_cadenas)\n",
    "print(cadena)\n"
   ]
  },
  {
   "cell_type": "markdown",
   "metadata": {},
   "source": [
    "**Observación:** La lista lista_cadenas se une usando el separador `\" \"`, que es un espacio en blanco."
   ]
  },
  {
   "attachments": {},
   "cell_type": "markdown",
   "metadata": {},
   "source": [
    "Las cadenas se pueden **concatenar** (pegar juntas) con el operador `+` y se pueden **repetir** con  `*`:"
   ]
  },
  {
   "cell_type": "code",
   "execution_count": 2,
   "metadata": {},
   "outputs": [
    {
     "data": {
      "text/plain": [
       "'UMARUMARUMARHuatulco'"
      ]
     },
     "execution_count": 2,
     "metadata": {},
     "output_type": "execute_result"
    }
   ],
   "source": [
    "# 3 veces 'UMAR', seguido de  'Huatulco'\n",
    "3 * 'UMAR' + 'Huatulco'"
   ]
  },
  {
   "attachments": {},
   "cell_type": "markdown",
   "metadata": {},
   "source": [
    "**Observación:** Dos o más cadenas literales (es decir, las encerradas entre comillas) una al lado de la otra **se concatenan automáticamente**."
   ]
  },
  {
   "cell_type": "code",
   "execution_count": 3,
   "metadata": {},
   "outputs": [
    {
     "data": {
      "text/plain": [
       "'Python'"
      ]
     },
     "execution_count": 3,
     "metadata": {},
     "output_type": "execute_result"
    }
   ],
   "source": [
    "'Py' 'thon'"
   ]
  },
  {
   "cell_type": "markdown",
   "metadata": {},
   "source": [
    "Esta característica es particularmente útil cuando quieres dividir cadenas largas:"
   ]
  },
  {
   "cell_type": "code",
   "execution_count": 4,
   "metadata": {},
   "outputs": [
    {
     "name": "stdout",
     "output_type": "stream",
     "text": [
      "Cadena1  Cadena2\n"
     ]
    }
   ],
   "source": [
    "text = ('Cadena1  '\n",
    "        'Cadena2')\n",
    "\n",
    "print(text)"
   ]
  },
  {
   "attachments": {},
   "cell_type": "markdown",
   "metadata": {},
   "source": [
    "Esto sólo funciona con dos cadenas, **no con variables ni expresiones**:"
   ]
  },
  {
   "cell_type": "code",
   "execution_count": 7,
   "metadata": {},
   "outputs": [],
   "source": [
    "prefix = 'Py'\n",
    "#prefix 'thon'  # No se puede concatenar con una variable y una expresión"
   ]
  },
  {
   "attachments": {},
   "cell_type": "markdown",
   "metadata": {},
   "source": [
    "Si quieres **concatenar variables o una variable y un literal**, usa `+`"
   ]
  },
  {
   "cell_type": "code",
   "execution_count": 8,
   "metadata": {},
   "outputs": [
    {
     "data": {
      "text/plain": [
       "'Python'"
      ]
     },
     "execution_count": 8,
     "metadata": {},
     "output_type": "execute_result"
    }
   ],
   "source": [
    "prefix + 'thon'"
   ]
  },
  {
   "attachments": {},
   "cell_type": "markdown",
   "metadata": {},
   "source": [
    "**Las cadenas de texto se pueden indexar (subíndices)**, el primer carácter de la cadena tiene el índice 0. No hay un tipo de dato diferente para los caracteres; un carácter es simplemente una cadena de longitud uno:"
   ]
  },
  {
   "cell_type": "code",
   "execution_count": 10,
   "metadata": {},
   "outputs": [
    {
     "name": "stdout",
     "output_type": "stream",
     "text": [
      "t\n"
     ]
    }
   ],
   "source": [
    "word = 'Python'\n",
    "print(word[2])  # caracter en posición 0 \n",
    "#word[5]"
   ]
  },
  {
   "cell_type": "markdown",
   "metadata": {},
   "source": [
    "Los índices también pueden ser números negativos, para empezar a contar desde la derecha:"
   ]
  },
  {
   "cell_type": "code",
   "execution_count": 11,
   "metadata": {},
   "outputs": [
    {
     "data": {
      "text/plain": [
       "'n'"
      ]
     },
     "execution_count": 11,
     "metadata": {},
     "output_type": "execute_result"
    }
   ],
   "source": [
    "word[-1]  # Último caracter  "
   ]
  },
  {
   "cell_type": "code",
   "execution_count": 12,
   "metadata": {},
   "outputs": [
    {
     "data": {
      "text/plain": [
       "'o'"
      ]
     },
     "execution_count": 12,
     "metadata": {},
     "output_type": "execute_result"
    }
   ],
   "source": [
    "word[-2]  # Penultimo  caracter"
   ]
  },
  {
   "cell_type": "code",
   "execution_count": 14,
   "metadata": {},
   "outputs": [
    {
     "ename": "IndexError",
     "evalue": "string index out of range",
     "output_type": "error",
     "traceback": [
      "\u001b[0;31m---------------------------------------------------------------------------\u001b[0m",
      "\u001b[0;31mIndexError\u001b[0m                                Traceback (most recent call last)",
      "Cell \u001b[0;32mIn[14], line 1\u001b[0m\n\u001b[0;32m----> 1\u001b[0m word[\u001b[39m-\u001b[39;49m\u001b[39m7\u001b[39;49m]\n",
      "\u001b[0;31mIndexError\u001b[0m: string index out of range"
     ]
    }
   ],
   "source": [
    "word[-7]"
   ]
  },
  {
   "attachments": {},
   "cell_type": "markdown",
   "metadata": {},
   "source": [
    "**Observación**: Nótese que -0 es lo mismo que 0, **los índice negativos comienzan desde -1.**"
   ]
  },
  {
   "attachments": {},
   "cell_type": "markdown",
   "metadata": {},
   "source": [
    "### Rebanadas de cadenas"
   ]
  },
  {
   "attachments": {},
   "cell_type": "markdown",
   "metadata": {},
   "source": [
    "Además de los índices, las **rebanadas** también están soportadas. Mientras que los índices se utilizar para obtener caracteres individuales, las rebanadas te permiten obtener partes de las cadenas de texto:"
   ]
  },
  {
   "cell_type": "code",
   "execution_count": 15,
   "metadata": {},
   "outputs": [
    {
     "data": {
      "text/plain": [
       "'Py'"
      ]
     },
     "execution_count": 15,
     "metadata": {},
     "output_type": "execute_result"
    }
   ],
   "source": [
    "word[0:2]  # Caracteres desde la posición 0 (incluido) a la posición 2 (excluido)"
   ]
  },
  {
   "cell_type": "code",
   "execution_count": 16,
   "metadata": {},
   "outputs": [
    {
     "data": {
      "text/plain": [
       "'tho'"
      ]
     },
     "execution_count": 16,
     "metadata": {},
     "output_type": "execute_result"
    }
   ],
   "source": [
    "word[2:5] "
   ]
  },
  {
   "cell_type": "markdown",
   "metadata": {},
   "source": [
    "Los índices de las rebanadas tienen valores por defecto útiles; el valor por defecto para el primer índice es cero, el valor por defecto para el segundo índice es la longitud de la cadena a rebanar."
   ]
  },
  {
   "cell_type": "code",
   "execution_count": 17,
   "metadata": {},
   "outputs": [
    {
     "data": {
      "text/plain": [
       "'Py'"
      ]
     },
     "execution_count": 17,
     "metadata": {},
     "output_type": "execute_result"
    }
   ],
   "source": [
    "word[:2]   # Caracter desde el inicio hasta la  posición 2 (excluido) "
   ]
  },
  {
   "cell_type": "code",
   "execution_count": 18,
   "metadata": {},
   "outputs": [
    {
     "data": {
      "text/plain": [
       "'on'"
      ]
     },
     "execution_count": 18,
     "metadata": {},
     "output_type": "execute_result"
    }
   ],
   "source": [
    "word[4:]   # Caracter desde la posicion 4 (included) hasta el final "
   ]
  },
  {
   "cell_type": "code",
   "execution_count": 19,
   "metadata": {},
   "outputs": [
    {
     "data": {
      "text/plain": [
       "'on'"
      ]
     },
     "execution_count": 19,
     "metadata": {},
     "output_type": "execute_result"
    }
   ],
   "source": [
    "word[-2:]# Caracter desde la penultima posicion  (included) hasta el final "
   ]
  },
  {
   "cell_type": "markdown",
   "metadata": {},
   "source": [
    "Nótese cómo el inicio siempre se incluye y el final siempre se excluye. Esto asegura que $s[:i] + s[i:]$ siempre sea igual a $s$:"
   ]
  },
  {
   "cell_type": "code",
   "execution_count": 20,
   "metadata": {},
   "outputs": [
    {
     "data": {
      "text/plain": [
       "'Python'"
      ]
     },
     "execution_count": 20,
     "metadata": {},
     "output_type": "execute_result"
    }
   ],
   "source": [
    "word[:2] + word[2:]"
   ]
  },
  {
   "cell_type": "markdown",
   "metadata": {},
   "source": [
    "**Observación** Intentar usar un índice que es muy grande resultará en un error:"
   ]
  },
  {
   "cell_type": "code",
   "execution_count": 21,
   "metadata": {},
   "outputs": [
    {
     "ename": "IndexError",
     "evalue": "string index out of range",
     "output_type": "error",
     "traceback": [
      "\u001b[0;31m---------------------------------------------------------------------------\u001b[0m",
      "\u001b[0;31mIndexError\u001b[0m                                Traceback (most recent call last)",
      "Cell \u001b[0;32mIn[21], line 1\u001b[0m\n\u001b[0;32m----> 1\u001b[0m word[\u001b[39m50\u001b[39;49m]\n",
      "\u001b[0;31mIndexError\u001b[0m: string index out of range"
     ]
    }
   ],
   "source": [
    "word[50]"
   ]
  },
  {
   "cell_type": "markdown",
   "metadata": {},
   "source": [
    "Sin embargo, los índices de rebanadas fuera de rango se manejan satisfactoriamente cuando se usan para rebanar:"
   ]
  },
  {
   "cell_type": "code",
   "execution_count": 22,
   "metadata": {},
   "outputs": [
    {
     "data": {
      "text/plain": [
       "'on'"
      ]
     },
     "execution_count": 22,
     "metadata": {},
     "output_type": "execute_result"
    }
   ],
   "source": [
    "word[4:42]"
   ]
  },
  {
   "cell_type": "code",
   "execution_count": 23,
   "metadata": {},
   "outputs": [
    {
     "data": {
      "text/plain": [
       "''"
      ]
     },
     "execution_count": 23,
     "metadata": {},
     "output_type": "execute_result"
    }
   ],
   "source": [
    "word[42:]"
   ]
  },
  {
   "attachments": {},
   "cell_type": "markdown",
   "metadata": {},
   "source": [
    "Las cadenas de Python no se pueden modificar, son **immutable**. Por eso, asignar a una posición indexada de la cadena resulta en un error:"
   ]
  },
  {
   "cell_type": "code",
   "execution_count": 24,
   "metadata": {},
   "outputs": [
    {
     "ename": "TypeError",
     "evalue": "'str' object does not support item assignment",
     "output_type": "error",
     "traceback": [
      "\u001b[0;31m---------------------------------------------------------------------------\u001b[0m",
      "\u001b[0;31mTypeError\u001b[0m                                 Traceback (most recent call last)",
      "Cell \u001b[0;32mIn[24], line 1\u001b[0m\n\u001b[0;32m----> 1\u001b[0m word[\u001b[39m0\u001b[39;49m] \u001b[39m=\u001b[39m \u001b[39m'\u001b[39m\u001b[39mJ\u001b[39m\u001b[39m'\u001b[39m\n",
      "\u001b[0;31mTypeError\u001b[0m: 'str' object does not support item assignment"
     ]
    }
   ],
   "source": [
    "word[0] = 'J'"
   ]
  },
  {
   "cell_type": "markdown",
   "metadata": {},
   "source": [
    "Si necesitas una cadena diferente, deberías crear una nueva:"
   ]
  },
  {
   "cell_type": "code",
   "execution_count": 25,
   "metadata": {},
   "outputs": [
    {
     "data": {
      "text/plain": [
       "'Pypy'"
      ]
     },
     "execution_count": 25,
     "metadata": {},
     "output_type": "execute_result"
    }
   ],
   "source": [
    "word[:2] + 'py'"
   ]
  },
  {
   "cell_type": "markdown",
   "metadata": {},
   "source": [
    "La función incorporada `len()` retorna la longitud de una cadena:"
   ]
  },
  {
   "cell_type": "code",
   "execution_count": 27,
   "metadata": {},
   "outputs": [
    {
     "data": {
      "text/plain": [
       "4"
      ]
     },
     "execution_count": 27,
     "metadata": {},
     "output_type": "execute_result"
    }
   ],
   "source": [
    "s='Hola' #parangaricutirimicuaro'\n",
    "len(s)"
   ]
  },
  {
   "attachments": {},
   "cell_type": "markdown",
   "metadata": {},
   "source": [
    "\n",
    "**Observación:** Explora algunos de los <a href=\"https://docs.python.org/es/3/library/stdtypes.html#string-methods\" title=\"\"> ***métodos de la clase `string`***</a>.\n"
   ]
  },
  {
   "cell_type": "markdown",
   "metadata": {},
   "source": [
    "## Operadores de asignación"
   ]
  },
  {
   "attachments": {},
   "cell_type": "markdown",
   "metadata": {},
   "source": [
    "Los **operadores de asignación en Python** son una forma de simplificar la **asignación de valores a una variable**. \n",
    "\n",
    "En la siguiente  tabla se describen los operadores de asignación disponibles en Python, su sintaxis, y su equivalente a la sintaxis tradicional de asignación.\n",
    "<!-- \n",
    "* `=` : asigna el valor de la expresión del lado derecho al nombre de variable del lado izquierdo. Por ejemplo: `a = 10`.\n",
    "\n",
    "* `+=` : incrementa el valor de la variable del lado izquierdo por el valor de la expresión del lado derecho, y luego asigna el resultado a la misma variable. Por ejemplo, `x += 3` es equivalente a `x = x + 3`.\n",
    "\n",
    "* `-=` : disminuye el valor de la variable del lado izquierdo por el valor de la expresión del lado derecho, y luego asigna el resultado a la misma variable. Por ejemplo, `x -= 3` es equivalente a `x = x - 3`.\n",
    "\n",
    "* `*=` : multiplica el valor de la variable del lado izquierdo por el valor de la expresión del lado derecho, y luego asigna el resultado a la misma variable. Por ejemplo, `x *= 3` es equivalente a `x = x * 3`.\n",
    "\n",
    "* `/=` : divide el valor de la variable del lado izquierdo por el valor de la expresión del lado derecho, y luego asigna el resultado a la misma variable. Por ejemplo, `x /= 3` es equivalente a `x = x / 3`.\n",
    "\n",
    "* `//=` : realiza la división entera del valor de la variable del lado izquierdo por el valor de la expresión del lado derecho, y luego asigna el resultado a la misma variable. Por ejemplo, `x //= 3` es equivalente a `x = x // 3`.\n",
    "\n",
    "* `%=` : asigna el resto de la división del valor de la variable del lado izquierdo por el valor de la expresión del lado derecho, y luego asigna el resultado a la misma variable. Por ejemplo, `x %= 3` es equivalente a `x = x % 3`.\n",
    "\n",
    "* `**=`: asigna el resultado de elevar el valor de la variable del lado izquierdo a la potencia de la expresión del lado derecho y luego lo asigna a la misma variable. Por ejemplo, `x **= 3` es equivalente a `x = x ** 3`.\n",
    "\n",
    "\n",
    "En resumen tenemos lo siguiente: -->\n",
    "\n",
    "<center>\n",
    "\n",
    "| Operador | Ejemplo | Equivalente a |\n",
    "|----------|---------|---------------|\n",
    "| `=`      | `x = 5` | `x = 5`       |\n",
    "| `+=`     | `x += 5`| `x = x + 5`   |\n",
    "| `-=`     | `x -= 5`| `x = x - 5`   |\n",
    "| `*=`     | `x *= 5`| `x = x * 5`   |\n",
    "| `/=`     | `x /= 5`| `x = x / 5`   |\n",
    "| `%=`     | `x %= 5`| `x = x % 5`   |\n",
    "| `//=`    | `x //= 5`| `x = x // 5`  |\n",
    "| `**=`    | `x **= 5`| `x = x ** 5`  |\n",
    "\n",
    "</center>"
   ]
  },
  {
   "attachments": {},
   "cell_type": "markdown",
   "metadata": {},
   "source": [
    "Los operadores de asignación son útiles cuando se quiere **actualizar el valor de una variable en función de su valor actual**. "
   ]
  },
  {
   "attachments": {},
   "cell_type": "markdown",
   "metadata": {},
   "source": [
    "Por ejemplo, si `a` es igual a `5`, se puede utilizar el operador `+=` para incrementar su valor en `3` de la siguiente manera: `a += 3`, lo que resultaría en que a tenga un valor de `8`."
   ]
  },
  {
   "cell_type": "code",
   "execution_count": 30,
   "metadata": {},
   "outputs": [
    {
     "name": "stdout",
     "output_type": "stream",
     "text": [
      "15\n"
     ]
    }
   ],
   "source": [
    "a=5\n",
    "a*=3\n",
    "print(a)"
   ]
  },
  {
   "cell_type": "markdown",
   "metadata": {},
   "source": [
    "Aquí hay un ejemplo que utiliza los operadores de asignación:"
   ]
  },
  {
   "cell_type": "code",
   "execution_count": 31,
   "metadata": {},
   "outputs": [
    {
     "name": "stdout",
     "output_type": "stream",
     "text": [
      "13\n",
      "6.5\n",
      "0.5\n"
     ]
    }
   ],
   "source": [
    "x = 10\n",
    "x += 3  # x ahora es 13\n",
    "print(x)\n",
    "x /= 2  # x ahora es 6.5\n",
    "print(x)\n",
    "x %= 3  # x ahora es 0.5\n",
    "print(x)\n"
   ]
  },
  {
   "cell_type": "markdown",
   "metadata": {},
   "source": [
    "En este ejemplo, se inicializa la variable `x` con el valor `10`. Luego se utilizan los operadores de asignación `+=`, `/=` y `%=` para incrementar, dividir y calcular el módulo del valor de `x`, respectivamente. Cada operación utiliza el valor actual de la variable y la cantidad especificada, y luego asigna el resultado a la misma variable."
   ]
  },
  {
   "cell_type": "markdown",
   "metadata": {},
   "source": [
    "## Operadores de comparación"
   ]
  },
  {
   "attachments": {},
   "cell_type": "markdown",
   "metadata": {},
   "source": [
    "Los **operadores de comparación** se utilizan para comparar dos valores y devuelven un resultado verdadero o falso. En Python, los siguientes operadores de comparación están disponibles:\n",
    "\n",
    "<center>\n",
    "\n",
    "| Operador | Descripción              |\n",
    "|----------|--------------------------|\n",
    "| `==`     | Igual a                  |\n",
    "| `!=`     | Diferente de             |\n",
    "| `<`      | Menor que                |\n",
    "| `>`      | Mayor que                |\n",
    "| `<=`     | Menor o igual que        |\n",
    "| `>=`     | Mayor o igual que        |\n",
    "\n",
    "</center>\n",
    "\n",
    "Veamos cada uno de ellos en detalle:\n",
    "\n",
    "* `==` : El operador `==` compara dos valores y devuelve True si son iguales, y `False` en caso contrario. Por ejemplo: `3 == 3` devuelve `True`, mientras que `3 == 4` devuelve `False`.\n",
    "\n",
    "* `!=` : El operador `!=` compara dos valores y devuelve `True` si son diferentes, y `False` en caso contrario. Por ejemplo: `3 != 4` devuelve `True`, mientras que `3 != 3` devuelve False.\n",
    "\n",
    "* `<` : El operador `<` compara dos valores y devuelve `True` si el valor de la izquierda es menor que el de la derecha, y `False` en caso contrario. Por ejemplo: `3 < 4` devuelve `True`, mientras que` 4 < 3` devuelve `False`.\n",
    "\n",
    "* `>` : El operador `>` compara dos valores y devuelve `True` si el valor de la izquierda es mayor que el de la derecha, y `False` en caso contrario. Por ejemplo: `4 > 3` devuelve `True`, mientras que `3 > 4` devuelve `False`.\n",
    "\n",
    "* `<=` : El operador `<=` compara dos valores y devuelve `True` si el valor de la izquierda es menor o igual que el de la derecha, y `False` en caso contrario. Por ejemplo: `3 <= 3` devuelve `True`, mientras que `3 <= 2` devuelve `False`.\n",
    "\n",
    "* `>=` : El operador `>=` compara dos valores y devuelve `True` si el valor de la izquierda es mayor o igual que el de la derecha, y `False` en caso contrario. Por ejemplo: `3 >= 3` devuelve `True`, mientras que `2 >= 3` devuelve `False`."
   ]
  },
  {
   "cell_type": "markdown",
   "metadata": {},
   "source": [
    "Puede comparar los valores de dos variables utilizando los operadores mayor que y menor que . Aquí está cómo usarlos:"
   ]
  },
  {
   "cell_type": "code",
   "execution_count": 32,
   "metadata": {},
   "outputs": [
    {
     "name": "stdout",
     "output_type": "stream",
     "text": [
      "False\n"
     ]
    }
   ],
   "source": [
    "num1 = 3\n",
    "num2 = 6\n",
    "print(num1 > num2) "
   ]
  },
  {
   "cell_type": "code",
   "execution_count": 33,
   "metadata": {},
   "outputs": [
    {
     "name": "stdout",
     "output_type": "stream",
     "text": [
      "True\n"
     ]
    }
   ],
   "source": [
    "num1 = 3\n",
    "num2 = 6\n",
    "print(num1 < num2) "
   ]
  },
  {
   "cell_type": "code",
   "execution_count": 34,
   "metadata": {},
   "outputs": [
    {
     "name": "stdout",
     "output_type": "stream",
     "text": [
      "False\n"
     ]
    }
   ],
   "source": [
    "num1 = 3;num2 = 3\n",
    "\n",
    "print(num1 != num2)"
   ]
  },
  {
   "cell_type": "markdown",
   "metadata": {},
   "source": [
    "En el caso de que necesite verificar si un valor es menor , mayor o igual que otro valor, Python también tiene un operador para eso. Parece una combinación de los operadores que vimos antes:"
   ]
  },
  {
   "cell_type": "code",
   "execution_count": 35,
   "metadata": {},
   "outputs": [
    {
     "name": "stdout",
     "output_type": "stream",
     "text": [
      "True\n",
      "False\n",
      "True\n",
      "False\n"
     ]
    }
   ],
   "source": [
    "print(3 <= 5)\n",
    "print(3 >= 5)\n",
    "print(7 <= 8)\n",
    "print(7 >= 9)"
   ]
  },
  {
   "cell_type": "markdown",
   "metadata": {},
   "source": [
    "## Operadores lógicos"
   ]
  },
  {
   "cell_type": "markdown",
   "metadata": {},
   "source": [
    "En Python, existen tres operadores lógicos básicos: **`and`**, **`or`** y **`not`**. Estos operadores se utilizan para combinar valores lógicos o expresiones booleanas y evaluar si son verdaderos o falsos. A continuación se describen en detalle cada uno de los operadores lógicos en Python:"
   ]
  },
  {
   "attachments": {},
   "cell_type": "markdown",
   "metadata": {},
   "source": [
    "* **Operador `and`**\n",
    "\n",
    "El operador and devuelve True si y solo si ambos operandos son verdaderos. Si uno o ambos operandos son falsos, devuelve False. La tabla de verdad del operador and es la siguiente:\n",
    "<center>\n",
    "\n",
    "| A     | B     | A and B |\n",
    "|-------|-------|---------|\n",
    "| True  | True  | True    |\n",
    "| True  | False | False   |\n",
    "| False | True  | False   |\n",
    "| False | False | False   |\n",
    "</center>"
   ]
  },
  {
   "cell_type": "markdown",
   "metadata": {},
   "source": [
    "* **Operador `or`**\n",
    "\n",
    "El operador or devuelve True si al menos uno de los operandos es verdadero. Si ambos operandos son falsos, devuelve False. La tabla de verdad del operador or es la siguiente:\n",
    "<center>\n",
    "\n",
    "| A     | B     | A or B  |\n",
    "|-------|-------|---------|\n",
    "| True  | True  | True    |\n",
    "| True  | False | True    |\n",
    "| False | True  | True    |\n",
    "| False | False | False   |\n",
    "</center>"
   ]
  },
  {
   "cell_type": "markdown",
   "metadata": {},
   "source": [
    "* **Operador `not`**\n",
    "\n",
    "El operador not devuelve el valor opuesto a su operando. Si el operando es verdadero, devuelve False, y si es falso, devuelve True. La tabla de verdad del operador not es la siguiente:\n",
    "<center>\n",
    "\n",
    "| A    | not A |\n",
    "|------|-------|\n",
    "| True | False |\n",
    "| False| True  |\n",
    "\n",
    "</center>"
   ]
  },
  {
   "attachments": {},
   "cell_type": "markdown",
   "metadata": {},
   "source": [
    "## Los operadores de pertenencia\n",
    "\n",
    "Los operadores de pertenencia se utilizan para **verificar si un valor se encuentra en una secuencia**, como una cadena de texto, una *lista*, una *tupla* o un *conjunto*. En Python, los siguientes operadores de pertenencia están disponibles:\n",
    "\n",
    "<center>\n",
    "\n",
    "| Operador | Descripción |\n",
    "|----------|-------------|\n",
    "| `in`     | Si un valor está en la secuencia |\n",
    "| `not in` | Si un valor no está en la secuencia |\n",
    "\n",
    "\n",
    "</center>\n",
    "\n",
    "Veamos cada uno de ellos en detalle:\n",
    "\n",
    "* `in` : El operador `in` devuelve `True` si un valor está presente en una secuencia, y `False` en caso contrario. Por ejemplo: `3 in [1, 2, 3]` devuelve `True`, mientras que `4 in [1, 2, 3]` devuelve `False`.\n",
    "\n",
    "* `not in` : El operador `not` in devuelve `True` si un valor no está presente en una secuencia, y `False` en caso contrario. Por ejemplo: `4 not in [1, 2, 3]` devuelve `True`, mientras que `3 not in [1, 2, 3]` devuelve `False`."
   ]
  },
  {
   "cell_type": "code",
   "execution_count": 38,
   "metadata": {},
   "outputs": [
    {
     "name": "stdout",
     "output_type": "stream",
     "text": [
      "False\n"
     ]
    }
   ],
   "source": [
    "print(5 not in [1,4,5,6])"
   ]
  },
  {
   "attachments": {},
   "cell_type": "markdown",
   "metadata": {},
   "source": [
    "## Los operadores de identidad \n",
    "\n",
    "Los operadores de identidad en Python se utilizan para comparar si dos variables **apuntan a la misma ubicación en memoria**. En Python, los siguientes operadores de identidad están disponibles:\n",
    "\n",
    "<center>\n",
    "\n",
    "| Operador | Descripción |\n",
    "|----------|-------------|\n",
    "| `is`     | Si dos variables son el mismo objeto |\n",
    "| `is not` | Si dos variables no son el mismo objeto |\n",
    "\n",
    "\n",
    "</center>\n",
    "\n",
    "Veamos cada uno de ellos en detalle:\n",
    "\n",
    "* `is` : El operador `is` devuelve `True` si dos variables apuntan al mismo objeto en memoria, y `False` en caso contrario. Por ejemplo: `a is b` devuelve `True` si `a` y `b` apuntan al mismo objeto en memoria, mientras que `a is b` devuelve `False` si `a` y `b` no apuntan al mismo objeto en memoria.\n",
    "\n",
    "* `is not`: El operador `is not` devuelve `True` si dos variables no apuntan al mismo objeto en memoria, y `False` en caso contrario. Por ejemplo: `a is not b` devuelve `True` si `a` y `b` no apuntan al mismo objeto en memoria, mientras que `a is not b` devuelve `False` si `a` y `b` apuntan al mismo objeto en memoria."
   ]
  },
  {
   "cell_type": "code",
   "execution_count": null,
   "metadata": {},
   "outputs": [],
   "source": [
    "a=3\n",
    "g=3\n",
    "print(a is g)\n",
    "# b=6\n",
    "# c=2\n",
    "# d=b//c\n",
    "\n",
    "# print(a is d)"
   ]
  },
  {
   "cell_type": "markdown",
   "metadata": {},
   "source": [
    "# Estructuras selectivas"
   ]
  },
  {
   "attachments": {},
   "cell_type": "markdown",
   "metadata": {},
   "source": [
    "Ahora que podemos comparar dos valores, podemos hacer algo con ese resultado. Utilizando **condicionales**, ahora podemos tomar diferentes rutas de código dependiendo de si el valor dentro de él es **Verdadero** (`true`)  o **Falso** (`false`)."
   ]
  },
  {
   "attachments": {},
   "cell_type": "markdown",
   "metadata": {},
   "source": [
    "## Condicional: If-Else"
   ]
  },
  {
   "attachments": {},
   "cell_type": "markdown",
   "metadata": {},
   "source": [
    "Usar la instrucción `if` es muy sencillo. Si lo que está comprobando es `true`, se ejecutará lo que esté dentro del siguiente *bloque de código*.\n"
   ]
  },
  {
   "cell_type": "code",
   "execution_count": 53,
   "metadata": {},
   "outputs": [
    {
     "name": "stdout",
     "output_type": "stream",
     "text": [
      "El numero 5 es mayor o igual que 0\n",
      "Este mensaje se imprime sólo en caso de que num1 >= num2\n"
     ]
    }
   ],
   "source": [
    "num1=5; num2=0;\n",
    "if num1>=num2:\n",
    "    print(f'El numero {num1} es mayor o igual que {num2}')\n",
    "    print('Este mensaje se imprime sólo en caso de que num1 >= num2')\n",
    "else:\n",
    "    print(f'El numero {num1} es menor que {num2}')\n",
    "    print('Este mensaje se imprime sólo en caso de no cumplirse que num1 >= num2')\n"
   ]
  },
  {
   "attachments": {},
   "cell_type": "markdown",
   "metadata": {},
   "source": [
    "Es muy importante tener en cuenta que la sentencia `if` debe ir terminada por `:` y el bloque de código a ejecutar debe estar identado. Si usas algún editor de código, seguramente la identación se producirá automáticamente al presionar enter. Nótese que el bloque de código puede también contener más de una línea, es decir puede contener más de una instrucción.\n",
    "\n",
    "Todo lo que vaya después del `if` y esté identado, será parte del bloque de código que se ejecutará si la condición se cumple."
   ]
  },
  {
   "cell_type": "code",
   "execution_count": null,
   "metadata": {},
   "outputs": [
    {
     "name": "stdout",
     "output_type": "stream",
     "text": [
      "You ordered too many burritos.\n"
     ]
    }
   ],
   "source": [
    "burritos = 6\n",
    "\n",
    "if (burritos > 5):\n",
    "    print(\"You ordered too many burritos.\")"
   ]
  },
  {
   "cell_type": "code",
   "execution_count": null,
   "metadata": {},
   "outputs": [],
   "source": [
    "burritos = 3\n",
    "\n",
    "if (burritos > 5):\n",
    "    print(\"You ordered too many burritos.\")"
   ]
  },
  {
   "cell_type": "code",
   "execution_count": null,
   "metadata": {},
   "outputs": [],
   "source": [
    "x = float(input('pregunta:'))\n",
    "if(x>0):\n",
    "    print('positivo')\n",
    "else:\n",
    "    print('No positivo')\n",
    "    "
   ]
  },
  {
   "attachments": {},
   "cell_type": "markdown",
   "metadata": {},
   "source": [
    "Se puede también **combinar varias condiciones entre el `if` y los `:` **. Por ejemplo, se puede requerir que un número sea mayor que $5$ y además menor que $15$. Tenemos en realidad tres operadores usados conjuntamente, que serán evaluados por separado hasta devolver el resultado final, que será `True` si la condición se cumple o `False` de lo contrario."
   ]
  },
  {
   "attachments": {},
   "cell_type": "markdown",
   "metadata": {},
   "source": [
    "### `Pass`"
   ]
  },
  {
   "attachments": {},
   "cell_type": "markdown",
   "metadata": {},
   "source": [
    "**Importante:** A diferencia de otros lenguajes, en Python **no puede haber** un bloque `if` vacío. El siguiente código daría un `SyntaxError`.\n",
    "\n",
    "Por lo tanto si tenemos un `if` sin contenido, tal vez porque sea una tarea pendiente que estamos dejando para implementar en un futuro, es necesario hacer uso de `pass` para evitar el error. Realmente `pass` no hace nada, simplemente es para tener contento y tranquilo al interprete de código."
   ]
  },
  {
   "cell_type": "code",
   "execution_count": 54,
   "metadata": {},
   "outputs": [],
   "source": [
    "if a > 5:\n",
    "    pass"
   ]
  },
  {
   "cell_type": "markdown",
   "metadata": {},
   "source": [
    "## Else"
   ]
  },
  {
   "attachments": {},
   "cell_type": "markdown",
   "metadata": {},
   "source": [
    "Es posible que no solo queramos hacer algo si una determinada condición se cumple, sino que además queramos hacer algo en caso contrario, i.e. en caso de no cumplirse la condición. Es aquí donde entra la instrucción `else`. La parte del `if` se comporta de la manera que ya sabemos, con la diferencia que si esa condición no se cumple, se ejecutará el código presente dentro del `else`. Observa que  **ambos bloque de código son excluyentes** i.e. se entra o en uno o en otro, pero nunca se ejecutarán los dos."
   ]
  },
  {
   "cell_type": "code",
   "execution_count": null,
   "metadata": {},
   "outputs": [],
   "source": [
    "x = 5\n",
    "if x == 5:\n",
    "    print(\"Es 5\")\n",
    "else:\n",
    "    print(\"No es 5\")"
   ]
  },
  {
   "cell_type": "code",
   "execution_count": null,
   "metadata": {},
   "outputs": [],
   "source": [
    "burritos = 3\n",
    "\n",
    "if (burritos < 5):\n",
    "    print(\"Tu necesitas ordenar mas burritos.\")\n",
    "else:\n",
    "    print(\"Tu ordenaste el numero correcto de burritos ;) \")"
   ]
  },
  {
   "attachments": {},
   "cell_type": "markdown",
   "metadata": {},
   "source": [
    "## Else-If"
   ]
  },
  {
   "attachments": {},
   "cell_type": "markdown",
   "metadata": {},
   "source": [
    "Hasta ahora hemos visto como ejecutar un bloque de código si se cumple una instrucción, u otro si no se cumple, pero no es suficiente. En muchos casos, podemos tener varias condiciones diferentes y para cada una queremos un código distinto. Es aquí donde entra en juego la instrucción  `elif`."
   ]
  },
  {
   "cell_type": "code",
   "execution_count": null,
   "metadata": {},
   "outputs": [],
   "source": [
    "x = 5\n",
    "if x == 5:\n",
    "    print(\"Es 5\")\n",
    "elif x == 6:\n",
    "    print(\"Es 6\")\n",
    "elif x == 7:\n",
    "    print(\"Es 7\")"
   ]
  },
  {
   "attachments": {},
   "cell_type": "markdown",
   "metadata": {},
   "source": [
    "Con la instrucción `elif` podemos ejecutar tantos bloques de código distintos como queramos según la condición. "
   ]
  },
  {
   "attachments": {},
   "cell_type": "markdown",
   "metadata": {},
   "source": [
    "Se puede **usar también de manera conjunta todo**, el `if` con el `elif` y un `else` al final. Es muy importante notar que `if` y `else` **solamente puede haber uno**, mientras que `elif` puede haber varios."
   ]
  },
  {
   "cell_type": "code",
   "execution_count": null,
   "metadata": {},
   "outputs": [],
   "source": [
    "x = 5\n",
    "if x == 5:\n",
    "    print(\"Es 5\")\n",
    "elif x == 6:\n",
    "    print(\"Es 6\")\n",
    "elif x == 7:\n",
    "    print(\"Es 7\")\n",
    "else:\n",
    "    print(\"Es otro\")"
   ]
  },
  {
   "attachments": {},
   "cell_type": "markdown",
   "metadata": {},
   "source": [
    "**Observacioón:** Si vienes de otros lenguajes de programación, sabrás que el `switch` es una forma alternativa de `elif`, sin embargo en Python esta instrucción no existe."
   ]
  },
  {
   "attachments": {},
   "cell_type": "markdown",
   "metadata": {},
   "source": [
    "#  `Range` en Python "
   ]
  },
  {
   "attachments": {},
   "cell_type": "markdown",
   "metadata": {},
   "source": [
    "`range` es un tipo de dato que representa una secuencia de números inmutable. Para crear un objeto de tipo `range`, se pueden realizar lo siguiente:\n",
    "\n",
    "* `range(fin)`: Crea una secuencia numérica que va desde $0$ hasta $fin-1$.\n",
    "* `range(inicio,fin,[salto])`:Crea una secuencia numérica que va desde $inicio$ hasta $fin - 1$. Si además se indica el parámetro $paso$, la secuencia genera los números de $paso$ en $paso$."
   ]
  },
  {
   "attachments": {},
   "cell_type": "markdown",
   "metadata": {},
   "source": [
    "Esto es,  `range()` genera una secuencia de números  donde el primer parametro es el **inicio de la secuencia**, el segundo **el final** y el tercero (opcional) indica **el salto** que se desea entre números. Por defecto se empieza en $0$ y el valor predeterminado del salto  es de $1$.\n",
    "\n",
    "<center>\n",
    "<code>range(inicio, fin, salto)</code>\n",
    "</center>"
   ]
  },
  {
   "attachments": {},
   "cell_type": "markdown",
   "metadata": {},
   "source": [
    "**Observación:** Si se llama al constructor `range()` con **parámetros incorrectos**, se obtendrá un **objeto vacío**."
   ]
  },
  {
   "cell_type": "markdown",
   "metadata": {},
   "source": [
    "## Uso de `range() ` "
   ]
  },
  {
   "attachments": {},
   "cell_type": "markdown",
   "metadata": {},
   "source": [
    " Enseguida se generarán números de $0$ a $19$ de dos en dos. Un truco es que  `range( )` se puede convertir en `list`."
   ]
  },
  {
   "cell_type": "code",
   "execution_count": null,
   "metadata": {},
   "outputs": [],
   "source": [
    "secuencia = range(5,20,2)\n",
    "print(list(secuencia))"
   ]
  },
  {
   "attachments": {},
   "cell_type": "markdown",
   "metadata": {},
   "source": [
    "**Observación:**  `range` además de ser un **tipo secuencial** es un **tipo iterable** con una particularidad: a diferencia de los tipos `list` o `tuple`, range calcula los ítems cuando los necesita. Como `list` acepta un objeto iterable como parámetro, podemos pasar un objeto `range` al constructor de `list`, para que se muestre por pantalla la secuencia completa que se genera con range."
   ]
  },
  {
   "attachments": {},
   "cell_type": "markdown",
   "metadata": {},
   "source": [
    "## Ventajas de usar range en Python\n",
    "\n"
   ]
  },
  {
   "attachments": {},
   "cell_type": "markdown",
   "metadata": {},
   "source": [
    "La principal ventaja de usar `range` sobre `list` o `tuple` es que es un iterable que genera los elementos solo en el momento en que realmente los necesita. Esto implica que **usa una cantidad de memoria mínima**, por muy grande que sea el rango de números que represente.\n",
    "\n"
   ]
  },
  {
   "attachments": {},
   "cell_type": "markdown",
   "metadata": {},
   "source": [
    "### Módulo sys \n",
    "El **módulo sys** es un módulo integrado en Python que proporciona funciones y variables que interactúan con el intérprete de Python y el sistema operativo en el que se ejecuta.\n",
    "\n",
    "`sys.getsizeof()` Es una función que devuelve el tamaño de un objeto en bytes."
   ]
  },
  {
   "attachments": {},
   "cell_type": "markdown",
   "metadata": {},
   "source": [
    "Veamos una comparación de una `lista` que almacena los números del $0$ al $100,000$ y un `range` del $0$ al $100,000$:"
   ]
  },
  {
   "cell_type": "code",
   "execution_count": null,
   "metadata": {},
   "outputs": [],
   "source": [
    "import sys\n",
    "lista = list(range(0, 100000))\n",
    "rango = range(0, 100000)"
   ]
  },
  {
   "cell_type": "code",
   "execution_count": null,
   "metadata": {},
   "outputs": [],
   "source": [
    "sys.getsizeof(lista)"
   ]
  },
  {
   "cell_type": "code",
   "execution_count": null,
   "metadata": {},
   "outputs": [],
   "source": [
    "sys.getsizeof(rango)"
   ]
  },
  {
   "cell_type": "markdown",
   "metadata": {},
   "source": [
    "# Ciclos"
   ]
  },
  {
   "cell_type": "markdown",
   "metadata": {},
   "source": [
    "Los bucles son una parte importante de cualquier lenguaje de programación. Nos permiten ejecutar el mismo bloque de código una y otra vez, lo que evita que tengamos que copiarlo y pegarlo.\n",
    "\n",
    "En esta lección, veremos los dos bucles principales en Python , además de algunas declaraciones que puede usar para controlar el flujo mientras está dentro de los bucles."
   ]
  },
  {
   "attachments": {},
   "cell_type": "markdown",
   "metadata": {},
   "source": [
    "## Ciclo `for`"
   ]
  },
  {
   "attachments": {},
   "cell_type": "markdown",
   "metadata": {},
   "source": [
    "El ciclo `for` es un tipo de bucle, parecido al `while` pero con ciertas diferencias. Una de estas diferencias es que el número de iteraciones de un `for` esta previamente definido, mientras que en un `while` no. Por otro lado,  la diferencia principal con respecto al `while` se encuentra en la condición. Mientras que en el while la condición es evaluada en cada iteración para decidir si volver a ejecutar o no el código, en el `for` no existe tal condición, sino un iterable que define las veces que se ejecutará el código"
   ]
  },
  {
   "cell_type": "code",
   "execution_count": null,
   "metadata": {},
   "outputs": [],
   "source": [
    "for i in range(1, 11):\n",
    "    print(i)"
   ]
  },
  {
   "attachments": {},
   "cell_type": "markdown",
   "metadata": {},
   "source": [
    "**En Python se puede iterar prácticamente todo**, como por ejemplo una cadena. En el siguiente ejemplo vemos como la `i` va tomando los valores de cada letra de la cadena. "
   ]
  },
  {
   "cell_type": "code",
   "execution_count": null,
   "metadata": {},
   "outputs": [],
   "source": [
    "for i in \"Python\":\n",
    "    print(i)"
   ]
  },
  {
   "attachments": {},
   "cell_type": "markdown",
   "metadata": {},
   "source": [
    "Python hace que \"**recorrer**\" las cosas sea muy sencillo."
   ]
  },
  {
   "attachments": {},
   "cell_type": "markdown",
   "metadata": {},
   "source": [
    "## Ciclos `for` anidados"
   ]
  },
  {
   "attachments": {},
   "cell_type": "markdown",
   "metadata": {},
   "source": [
    "Es posible anidar los for, es decir, meter uno dentro de otro. Esto puede ser muy útil si queremos iterar algún objeto que en cada elemento, tiene a su vez otra clase iterable. Podemos tener por ejemplo, una lista de listas, una especie de matriz."
   ]
  },
  {
   "cell_type": "code",
   "execution_count": 63,
   "metadata": {},
   "outputs": [],
   "source": [
    "lista = [[56, 34, 1],\n",
    "         [12, 4, 5],\n",
    "         [9, 4, 3]]"
   ]
  },
  {
   "attachments": {},
   "cell_type": "markdown",
   "metadata": {},
   "source": [
    "Si iteramos usando sólo un for, estaremos realmente accediendo a la segunda lista, pero no a los elementos individuales."
   ]
  },
  {
   "cell_type": "code",
   "execution_count": null,
   "metadata": {},
   "outputs": [],
   "source": [
    "for i in lista:\n",
    "    print(i)"
   ]
  },
  {
   "attachments": {},
   "cell_type": "markdown",
   "metadata": {},
   "source": [
    "Si queremos acceder a cada elemento individualmente, podemos anidar dos for. Uno de ellos se encargará de iterar las columnas y el otro las filas."
   ]
  },
  {
   "cell_type": "code",
   "execution_count": null,
   "metadata": {},
   "outputs": [],
   "source": [
    "for i in lista:\n",
    "    for j in i:\n",
    "        print(j)"
   ]
  },
  {
   "attachments": {},
   "cell_type": "markdown",
   "metadata": {},
   "source": [
    "# Ciclo `while`"
   ]
  },
  {
   "attachments": {},
   "cell_type": "markdown",
   "metadata": {},
   "source": [
    "El uso del ciclo `while` nos **permite ejecutar una sección de código repetidas veces**, de ahí su nombre. El código se ejecutará **mientras una condición determinada se cumpla**. Cuando se deje de cumplir, se saldrá del bucle y se continuará la ejecución normal. Llamaremos iteración a una ejecución completa del bloque de código."
   ]
  },
  {
   "attachments": {},
   "cell_type": "markdown",
   "metadata": {},
   "source": [
    "El `while` tiene dos partes:\n",
    "\n",
    "* La **condición** que se tiene que cumplir para que se ejecute el código.\n",
    "\n",
    "\n",
    "* El **bloque de código** que se ejecutará mientras la condición se cumpla."
   ]
  },
  {
   "cell_type": "code",
   "execution_count": null,
   "metadata": {},
   "outputs": [],
   "source": [
    "contador = 1\n",
    "\n",
    "while contador <= 10:\n",
    "    print(contador)\n",
    "    contador +=  1"
   ]
  },
  {
   "attachments": {},
   "cell_type": "markdown",
   "metadata": {},
   "source": [
    "En el siguiente ejemplo  tenemos un caso sencillo de `while`. Tenemos una condición `x>0` y un bloque de código a ejecutar mientras dure esa condición `x-=1` y `print(x)`. Por lo tanto mientras que `x` sea mayor que `0`, se ejecutará el código. Una vez se llega al final, se vuelve a empezar y si la condición se cumple, se ejecuta otra vez. En este caso se entra al bloque de código `5` veces, hasta que en la sexta, `x` vale cero y por lo tanto la condición ya no se cumple. "
   ]
  },
  {
   "cell_type": "code",
   "execution_count": null,
   "metadata": {},
   "outputs": [],
   "source": [
    "x = 5\n",
    "while x > 0:\n",
    "    x -=1\n",
    "    print(x)"
   ]
  },
  {
   "attachments": {},
   "cell_type": "markdown",
   "metadata": {},
   "source": [
    "**Importante:** Ten cuidado ya que un mal uso del `while` puede **dar lugar a bucles infinitos y problemas**. Es cierto que en algún caso tal vez nos interese tener un bucle infinito, pero salvo que estemos seguros de lo que estamos haciendo, hay que tener cuidado. \n",
    "\n",
    "Imaginemos que tenemos un bucle cuya condición siempre se cumple. Por ejemplo, si ponemos `True` en la condición del `while`, siempre que se evalúe esa expresión, el resultado será `True` y se ejecutará el bloque de código. Una vez llegado al final del bloque, se volverá a evaluar la condición, se cumplirá, y vuelta a empezar."
   ]
  },
  {
   "cell_type": "code",
   "execution_count": null,
   "metadata": {},
   "outputs": [],
   "source": [
    "while True:\n",
    "    print(\"Bucle infinito\")"
   ]
  },
  {
   "cell_type": "markdown",
   "metadata": {},
   "source": [
    "# Instrucción Break"
   ]
  },
  {
   "attachments": {},
   "cell_type": "markdown",
   "metadata": {},
   "source": [
    "La sentencia `break` nos permite alterar el comportamiento de los bucles `while` y `for`. Concretamente, permite terminar con la ejecución del bucle.\n",
    "\n",
    "Esto significa que una vez se encuentra la palabra `break`, el bucle se habrá terminado."
   ]
  },
  {
   "attachments": {},
   "cell_type": "markdown",
   "metadata": {},
   "source": [
    "### Break con bucles for"
   ]
  },
  {
   "cell_type": "code",
   "execution_count": null,
   "metadata": {},
   "outputs": [],
   "source": [
    "for i in range(1, 11):\n",
    "    print(i)\n",
    "    if (i == 5):\n",
    "        break"
   ]
  },
  {
   "attachments": {},
   "cell_type": "markdown",
   "metadata": {},
   "source": [
    "El ciclo que normalmente habría continuado hasta que $10$ se imprimió el número, se detuvo en $5$ porque usamos `break`."
   ]
  },
  {
   "attachments": {},
   "cell_type": "markdown",
   "metadata": {},
   "source": [
    "Un ejemplo un poco más útil, sería el de buscar una letra en una palabra. Se itera toda la palabra y en el momento en el que se encuentra la letra que buscábamos, se rompe el bucle y se sale.\n",
    "\n",
    "Esto es algo muy útil porque si ya encontramos lo que estábamos buscando, no tendría mucho sentido seguir iterando la lista, ya que desperdiciaríamos recursos."
   ]
  },
  {
   "cell_type": "code",
   "execution_count": null,
   "metadata": {},
   "outputs": [],
   "source": [
    "cadena = 'Python'\n",
    "for letra in cadena:\n",
    "    if letra == 'h':\n",
    "        print(\"Se encontró la h\")\n",
    "        break\n",
    "    print(letra)"
   ]
  },
  {
   "attachments": {},
   "cell_type": "markdown",
   "metadata": {},
   "source": [
    "### Break con bucles while"
   ]
  },
  {
   "attachments": {},
   "cell_type": "markdown",
   "metadata": {},
   "source": [
    "La instrucción `break` también nos permite alterar el comportamiento del `while`."
   ]
  },
  {
   "attachments": {},
   "cell_type": "markdown",
   "metadata": {},
   "source": [
    " En el siguiente ejemplo la condición `while True` haría que la sección de código se ejecutara indefinidamente, pero al hacer uso del `break`, el bucle se romperá cuando `x` valga cero."
   ]
  },
  {
   "cell_type": "code",
   "execution_count": null,
   "metadata": {},
   "outputs": [],
   "source": [
    "x = 5\n",
    "while True:\n",
    "    x -= 1\n",
    "    print(x)\n",
    "    if x == 0:\n",
    "        break\n",
    "    print(\"Fin del bucle\")\n"
   ]
  },
  {
   "attachments": {},
   "cell_type": "markdown",
   "metadata": {},
   "source": [
    "### Break y bucles anidados"
   ]
  },
  {
   "attachments": {},
   "cell_type": "markdown",
   "metadata": {},
   "source": [
    "El uso de `break` rompe el bucle, pero **sólo aquel en el que está dentro**.\n",
    "\n",
    "Es decir, si tenemos dos bucles anidados, el `break` romperá el bucle anidado, pero no el exterior."
   ]
  },
  {
   "cell_type": "code",
   "execution_count": 17,
   "metadata": {},
   "outputs": [
    {
     "name": "stdout",
     "output_type": "stream",
     "text": [
      "0,0\n",
      "1,0\n",
      "2,0\n",
      "3,0\n"
     ]
    }
   ],
   "source": [
    "for i in range(0, 4):\n",
    "    for j in range(0, 4):\n",
    "        break\n",
    "        #Nunca se realiza más de una iteración\n",
    "    # El break no afecta a este for\n",
    "    print(i, end=\",\")\n",
    "    print(j)"
   ]
  },
  {
   "attachments": {},
   "cell_type": "markdown",
   "metadata": {},
   "source": [
    "## Instrucción continuar "
   ]
  },
  {
   "attachments": {},
   "cell_type": "markdown",
   "metadata": {},
   "source": [
    "El uso de `continue` al igual que el `break`, nos permite modificar el comportamiento de de los bucles `while` y `for`.\n",
    "\n",
    "*  `continue` **se salta todo el código restante en la iteración actual y vuelve al principio en el caso de que aún queden iteraciones por completar**.\n",
    "\n",
    "* La diferencia entre el `break` y `continue` es que el `continue` no rompe el bucle, si no que pasa a la siguiente iteración saltando el código pendiente"
   ]
  },
  {
   "cell_type": "code",
   "execution_count": null,
   "metadata": {},
   "outputs": [],
   "source": [
    "for i in range(1, 11):\n",
    "    if (i == 3 or i == 6):\n",
    "        continue\n",
    "    print(i)"
   ]
  },
  {
   "attachments": {},
   "cell_type": "markdown",
   "metadata": {},
   "source": [
    "En el còdigo anterior los números $3$ y $6$ los omitimos porque continuamos con la siguiente iteración del ciclo en lugar de permitir que se impriman."
   ]
  },
  {
   "attachments": {},
   "cell_type": "markdown",
   "metadata": {},
   "source": [
    "**Observación:** A diferencia del `break`, el `continue` no rompe el bucle sino que finaliza la iteración actual, haciendo que todo el código que va después se salte, y se vuelva al principio a evaluar la condición."
   ]
  },
  {
   "attachments": {},
   "cell_type": "markdown",
   "metadata": {},
   "source": [
    "En el siguiente ejemplo podemos ver como cuando `x` vale $3$, se llama al `continue`, lo que hace que se salte el resto de código de la iteración (el `print()`). Por ello, vemos como el número `3` no se imprime en pantalla."
   ]
  },
  {
   "cell_type": "code",
   "execution_count": null,
   "metadata": {},
   "outputs": [],
   "source": [
    "x = 5\n",
    "while x > 0:\n",
    "    x -= 1\n",
    "    if x == 3:\n",
    "        continue\n",
    "    print(x)"
   ]
  },
  {
   "cell_type": "markdown",
   "metadata": {},
   "source": [
    "# Instrucción Pass "
   ]
  },
  {
   "attachments": {},
   "cell_type": "markdown",
   "metadata": {},
   "source": [
    "La instrucción `pass` en Python es una sentencia nula que **se utiliza como un relleno cuando se necesita escribir una sentencia vacía o placeholder en un bloque de código**.\n",
    "\n",
    " Por ejemplo, se puede usar `pass` en una estructura de control de flujo como un `if` o un `bucle for` para indicar que no se debe hacer nada si se cumple una determinada condición:"
   ]
  },
  {
   "cell_type": "code",
   "execution_count": null,
   "metadata": {},
   "outputs": [],
   "source": [
    "x=-5\n",
    "if x > 0:\n",
    "    pass\n",
    "else:\n",
    "    print(\"x es negativo o cero\")\n"
   ]
  },
  {
   "attachments": {},
   "cell_type": "markdown",
   "metadata": {},
   "source": [
    "O se puede usar `pass` en la definición de una función o una clase para indicar que aún no se ha implementado ninguna funcionalidad:"
   ]
  },
  {
   "cell_type": "code",
   "execution_count": null,
   "metadata": {},
   "outputs": [],
   "source": [
    "def mi_funcion():\n",
    "    pass\n",
    "\n",
    "class MiClase:\n",
    "    pass\n"
   ]
  },
  {
   "cell_type": "markdown",
   "metadata": {},
   "source": [
    "En general, pass es útil en casos en los que se requiere escribir una sentencia vacía, pero se requiere una sintaxis válida en el bloque de código."
   ]
  },
  {
   "cell_type": "markdown",
   "metadata": {},
   "source": [
    "## Iterables e iteradores"
   ]
  },
  {
   "attachments": {},
   "cell_type": "markdown",
   "metadata": {},
   "source": [
    "Una **clase iterable** es una clase que puede ser *iterada*. Dentro de Python hay gran cantidad de clases iterables como las *listas*,* strings*, *diccionarios* o *ficheros*. Si tenemos una clase iterable, podemos usarla a la derecha del `for` de la siguiente manera:\n",
    "\n",
    "<center>\n",
    "<code>for elemento in [clase_iterable]:</code>\n",
    "            \n",
    "</center>\n",
    "\n",
    "Si usamos el for como acabamos de mostrar, la variable elemento irá tomando los valores de cada elemento presente en la clase iterable. De esta manera, ya no tenemos que ir accediendo manualmente con [] a cada elemento."
   ]
  },
  {
   "cell_type": "markdown",
   "metadata": {},
   "source": [
    "* Los **iterables** son aquellos objetos que como su nombre indica pueden ser iterados, lo que dicho de otra forma es, que puedan ser indexados. Si piensas en un *array* (o una *list* en Python), podemos indexarlo con `lista[1]` por ejemplo, por lo que sería un iterable.\n",
    "\n",
    "\n",
    "* Los **iteradores** son objetos que hacen referencia a un elemento, y que tienen un método next que permite hacer referencia al siguiente."
   ]
  },
  {
   "cell_type": "markdown",
   "metadata": {},
   "source": [
    "### Iterables"
   ]
  },
  {
   "cell_type": "markdown",
   "metadata": {},
   "source": [
    "Los **iterables** son objetos que pueden ser iterados o accedidos con un índice. Algunos ejemplos de iterables en Python son las *listas*, *tuplas*, *cadenas* o *diccionarios*. Sabiendo esto, lo primero que tenemos que tener claro es que en un `for`, lo que va después del `in` deberá ser siempre un *iterable*."
   ]
  },
  {
   "cell_type": "markdown",
   "metadata": {},
   "source": [
    "¿Cómo sabemos si algo es iterable o no?. Bien fácil, con la siguiente función `isinstance()` podemos saberlo."
   ]
  },
  {
   "cell_type": "code",
   "execution_count": null,
   "metadata": {},
   "outputs": [],
   "source": [
    "from collections import Iterable\n",
    "lista = [1, 2, 3, 4]\n",
    "cadena = \"Python\"\n",
    "numero = 10\n",
    "print(isinstance(lista, Iterable))  #True\n",
    "print(isinstance(cadena, Iterable)) #True\n",
    "print(isinstance(numero, Iterable)) #False"
   ]
  },
  {
   "cell_type": "markdown",
   "metadata": {},
   "source": [
    "Por lo tanto las listas y las cadenas son iterables, pero numero, que es un entero no lo es. Es por eso por lo que no podemos hacer lo siguiente, ya que daría un error. De hecho el error sería *TypeError: int' object is not iterable*."
   ]
  },
  {
   "cell_type": "code",
   "execution_count": null,
   "metadata": {},
   "outputs": [
    {
     "ename": "TypeError",
     "evalue": "'int' object is not iterable",
     "output_type": "error",
     "traceback": [
      "\u001b[0;31m---------------------------------------------------------------------------\u001b[0m\n",
      "\u001b[0;31mTypeError\u001b[0m                                 Traceback (most recent call last)\n",
      "\u001b[0;32m<ipython-input-3-dad0f98cf8a1>\u001b[0m in \u001b[0;36m<module>\u001b[0;34m\u001b[0m\n",
      "\u001b[1;32m      1\u001b[0m \u001b[0mnumero\u001b[0m \u001b[0;34m=\u001b[0m \u001b[0;36m10\u001b[0m\u001b[0;34m\u001b[0m\u001b[0;34m\u001b[0m\u001b[0m\n",
      "\u001b[0;32m----> 2\u001b[0;31m \u001b[0;32mfor\u001b[0m \u001b[0mi\u001b[0m \u001b[0;32min\u001b[0m \u001b[0mnumero\u001b[0m\u001b[0;34m:\u001b[0m\u001b[0;34m\u001b[0m\u001b[0;34m\u001b[0m\u001b[0m\n",
      "\u001b[0m\u001b[1;32m      3\u001b[0m     \u001b[0mprint\u001b[0m\u001b[0;34m(\u001b[0m\u001b[0mi\u001b[0m\u001b[0;34m)\u001b[0m\u001b[0;34m\u001b[0m\u001b[0;34m\u001b[0m\u001b[0m\n",
      "\n",
      "\u001b[0;31mTypeError\u001b[0m: 'int' object is not iterable"
     ]
    }
   ],
   "source": [
    "numero = 10\n",
    "for i in numero:\n",
    "    print(i)"
   ]
  },
  {
   "cell_type": "markdown",
   "metadata": {},
   "source": [
    "### Iteradores"
   ]
  },
  {
   "cell_type": "markdown",
   "metadata": {},
   "source": [
    "Para entender los **iteradores**, es importante conocer la función iter() en Python. Dicha función puede ser llamada sobre un objeto que sea iterable, y nos devolverá un iterador como se ve en el siguiente ejemplo."
   ]
  },
  {
   "cell_type": "code",
   "execution_count": null,
   "metadata": {},
   "outputs": [],
   "source": [
    "lista = [5, 6, 3, 2]\n",
    "it = iter(lista)\n",
    "print(it)      \n",
    "print(type(it))"
   ]
  },
  {
   "cell_type": "markdown",
   "metadata": {},
   "source": [
    "Vemos que al imprimir it es un iterador, de la *clase list_iterator*. Esta variable iteradora, hace referencia a la lista original y nos permite acceder a sus elementos con la función `next()`. Cada vez que llamamos a `next`() sobre `it`, nos devuelve el siguiente elemento de la lista original. Por lo tanto, si queremos acceder al elemento $4$, tendremos que llamar $4$ veces a `next()`. Nótese que el iterador empieza apuntando fuera de la lista, y no hace referencia al primer elemento hasta que no se llama a `next()` por primera vez."
   ]
  },
  {
   "cell_type": "code",
   "execution_count": null,
   "metadata": {},
   "outputs": [],
   "source": [
    "lista = [5, 6, 3, 2]\n",
    "it = iter(lista)\n",
    "print(next(it))\n",
    "print(next(it))\n",
    "print(next(it))\n",
    "print(next(it))"
   ]
  }
 ],
 "metadata": {
  "kernelspec": {
   "display_name": "Python 3",
   "language": "python",
   "name": "python3"
  },
  "language_info": {
   "codemirror_mode": {
    "name": "ipython",
    "version": 3
   },
   "file_extension": ".py",
   "mimetype": "text/x-python",
   "name": "python",
   "nbconvert_exporter": "python",
   "pygments_lexer": "ipython3",
   "version": "3.8.2"
  },
  "orig_nbformat": 4
 },
 "nbformat": 4,
 "nbformat_minor": 2
}
