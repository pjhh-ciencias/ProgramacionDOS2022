{
 "cells": [
  {
   "cell_type": "markdown",
   "metadata": {},
   "source": [
    " # Tipos de datos en Python"
   ]
  },
  {
   "cell_type": "markdown",
   "metadata": {},
   "source": [
    "## Tipos de datos "
   ]
  },
  {
   "cell_type": "markdown",
   "metadata": {},
   "source": [
    "Python admite cinco tipos de datos estándar. Aquí está la lista completa:\n",
    "\n",
    "1. **Números**\n",
    "2. **Cadenas** (Strings)\n",
    "3. **Listas** : En Python una lista es una colección de elementos de un mismo tipo o de diferentes tipos, en las listas podemos guardar todo tipo de datos o valores, ya sean str, int, float, bool incluso otra lista. Las listas son similares a los arreglos en otros lenguajes de programación.\n",
    "4. **Tuplas** : En Python una tupla es conjunto ordenado e inmutable de elementos del mismo o diferente tipo.\n",
    "5. **Diccionarios** : En Python un diccionario es una estructura de datos para trabajar con colecciones de datos almacenados en pares de claves/valores. Los diccionarios se ordenan  y son mutables. Pueden soportar cambios después de su creación, pero son estrictos acerca de entradas duplicadas. Todas las claves/valores deben ser únicos."
   ]
  },
  {
   "cell_type": "markdown",
   "metadata": {},
   "source": [
    "## Función `type( )`"
   ]
  },
  {
   "cell_type": "markdown",
   "metadata": {},
   "source": [
    "Es posible  obtener el tipo de dato de una variable utilizando la función `type( )`"
   ]
  },
  {
   "cell_type": "code",
   "execution_count": 2,
   "metadata": {},
   "outputs": [
    {
     "name": "stdout",
     "output_type": "stream",
     "text": [
      "La variable x es de tipo:  <class 'int'>\n",
      "La variable y es de tipo:  <class 'str'>\n",
      "La variable z es de tipo:  <class 'float'>\n"
     ]
    }
   ],
   "source": [
    "x = 1\n",
    "z=0.5\n",
    "\n",
    "y = \"cadena_caracteres\"\n",
    "\n",
    "print('La variable x es de tipo: ', type(x))\n",
    "print('La variable y es de tipo: ',type(y))\n",
    "print('La variable z es de tipo: ',type(z))"
   ]
  },
  {
   "cell_type": "markdown",
   "metadata": {},
   "source": [
    "Las cadenas pertenezcan al tipo *`str`* y los enteros pertenezcan al tipo *`int`* . Los números con un punto decimal pertenezcan a un tipo llamado *`float`*, porque éstos se representan en un formato denominado **punto flotante**."
   ]
  },
  {
   "cell_type": "markdown",
   "metadata": {},
   "source": [
    "¿Que ocurre con valores como \"17\" y \"3.2\"? Parecen números, pero están encerrados entre comillas como las cadenas."
   ]
  },
  {
   "cell_type": "code",
   "execution_count": null,
   "metadata": {},
   "outputs": [],
   "source": [
    "type(\"17\")\n",
    "\n",
    "\n",
    "type(\"3.2\")\n"
   ]
  },
  {
   "cell_type": "markdown",
   "metadata": {},
   "source": [
    "# Matemáticas con Python"
   ]
  },
  {
   "cell_type": "markdown",
   "metadata": {},
   "source": [
    "Python se usa ampliamente en *finanzas, simulación, ciencia de datos, análisis estadístico* y en muchos otros campos de trabajo matemáticos intensivos. La razón es que Python hace que trabajar con números sea muy fácil e intuitivo."
   ]
  },
  {
   "cell_type": "markdown",
   "metadata": {},
   "source": [
    "## Operadores aritméticos"
   ]
  },
  {
   "cell_type": "markdown",
   "metadata": {},
   "source": [
    "Enseguida presentamos los operadores aritméticos más comunes que  permiten manipular números en Python."
   ]
  },
  {
   "attachments": {},
   "cell_type": "markdown",
   "metadata": {},
   "source": [
    "| Operador aritmético | Operación        | Ejemplo   | Resultado |\n",
    "|---------------------|------------------|-----------|-----------|\n",
    "| **                   | Potencia         | 4**3      | 64        |\n",
    "| *                   | Multiplicación   | 1.25*2    | 2.5       |\n",
    "| /                   | División         | 15/4      | 3.75      |\n",
    "| +                   | Suma             | 20.5+9.2  | 29.7      |\n",
    "| -                   | Resta            | 17.9-14.6 | 3.3       |\n",
    "| %                   | Módulo (residuo) | 15 % 2  | 1         |\n",
    "| //                  | División entera  | 17 // 3  | 5         |"
   ]
  },
  {
   "cell_type": "markdown",
   "metadata": {},
   "source": [
    "### Suma \n",
    "\n",
    "Sean $x,y \\in \\mathbb{R}$, en Python para calcular la suma $x+ y$  utilizamos el operador `+`"
   ]
  },
  {
   "cell_type": "code",
   "execution_count": null,
   "metadata": {},
   "outputs": [],
   "source": [
    "x = 2\n",
    "y = 5\n",
    "\n",
    "sum = x+y \n",
    "sum\n",
    "#print(sum)"
   ]
  },
  {
   "cell_type": "markdown",
   "metadata": {},
   "source": [
    "### Resta\n",
    "\n",
    "Sean $x,y \\in \\mathbb{R}$, en Python para determinar la diferencia $x-y$  utilizamos el operador `-`"
   ]
  },
  {
   "cell_type": "code",
   "execution_count": null,
   "metadata": {},
   "outputs": [
    {
     "name": "stdout",
     "output_type": "stream",
     "text": [
      "-3\n"
     ]
    }
   ],
   "source": [
    "x = 2\n",
    "y = 5\n",
    "\n",
    "dif= x-y\n",
    "print(dif) "
   ]
  },
  {
   "cell_type": "markdown",
   "metadata": {},
   "source": [
    "### Multiplicación \n",
    "\n",
    "Sean $x,y \\in \\mathbb{R}$,  en Python para calcular el producto $x\\cdot y$ utilizamos el operador `*`"
   ]
  },
  {
   "cell_type": "code",
   "execution_count": null,
   "metadata": {},
   "outputs": [
    {
     "name": "stdout",
     "output_type": "stream",
     "text": [
      "15\n"
     ]
    }
   ],
   "source": [
    "x=5\n",
    "y=3\n",
    "\n",
    "prod=x*y\n",
    "print(prod)"
   ]
  },
  {
   "cell_type": "markdown",
   "metadata": {},
   "source": [
    "### División\n",
    "\n",
    "Sean $x,y \\in \\mathbb{R}$ con $y\\not= 0$, en Python para calcular la división $x\\div y$   utilizamos el operador `/`"
   ]
  },
  {
   "cell_type": "code",
   "execution_count": null,
   "metadata": {},
   "outputs": [
    {
     "name": "stdout",
     "output_type": "stream",
     "text": [
      "16.666666666666668\n"
     ]
    }
   ],
   "source": [
    "x = 50\n",
    "y = 3\n",
    "\n",
    "div = x / y\n",
    "print(div)"
   ]
  },
  {
   "cell_type": "code",
   "execution_count": null,
   "metadata": {},
   "outputs": [
    {
     "name": "stdout",
     "output_type": "stream",
     "text": [
      "25.0\n"
     ]
    }
   ],
   "source": [
    "x = 50\n",
    "y = 2\n",
    "\n",
    "div = x / y\n",
    "print(div)"
   ]
  },
  {
   "cell_type": "markdown",
   "metadata": {},
   "source": [
    "### División entera o cociente"
   ]
  },
  {
   "cell_type": "markdown",
   "metadata": {},
   "source": [
    "Sean $a,b \\in \\mathbb{R}$, en Python para encontrar la división entera o cociente de la división  $b\\div a$ se utiliza el operador `%`"
   ]
  },
  {
   "cell_type": "code",
   "execution_count": null,
   "metadata": {},
   "outputs": [
    {
     "name": "stdout",
     "output_type": "stream",
     "text": [
      "5\n"
     ]
    }
   ],
   "source": [
    "a = 2\n",
    "b = 11\n",
    "\n",
    "c = b//a\n",
    "\n",
    "print(c)\n"
   ]
  },
  {
   "cell_type": "markdown",
   "metadata": {},
   "source": [
    "### Módulo o residuo\n",
    "\n",
    "Sean $a,b \\in \\mathbb{R}$, en Python para encontrar el resto de la división $b\\div a$ se utiliza el operador `%`"
   ]
  },
  {
   "cell_type": "code",
   "execution_count": null,
   "metadata": {},
   "outputs": [
    {
     "name": "stdout",
     "output_type": "stream",
     "text": [
      "1.0\n"
     ]
    }
   ],
   "source": [
    "a=2.5\n",
    "b=6\n",
    "\n",
    "c=b%a\n",
    "print(c)"
   ]
  },
  {
   "cell_type": "markdown",
   "metadata": {},
   "source": [
    "### Potencia \n",
    "\n",
    "Sean $a,n \\in \\mathbb{R}$, para determinar la potencia $a^{n}$ en Python utilizamos el operador: `**`"
   ]
  },
  {
   "cell_type": "code",
   "execution_count": null,
   "metadata": {},
   "outputs": [
    {
     "name": "stdout",
     "output_type": "stream",
     "text": [
      "1.0\n"
     ]
    }
   ],
   "source": [
    "a=-1\n",
    "n=-2\n",
    "\n",
    "pot= a**n\n",
    "print(pot)"
   ]
  },
  {
   "attachments": {},
   "cell_type": "markdown",
   "metadata": {},
   "source": [
    "## Jerarquía de operaciones\n",
    "\n",
    "El orden de las operaciones: **PEMDAS**."
   ]
  },
  {
   "cell_type": "code",
   "execution_count": null,
   "metadata": {},
   "outputs": [
    {
     "name": "stdout",
     "output_type": "stream",
     "text": [
      "25.0\n",
      "25.0\n"
     ]
    }
   ],
   "source": [
    "x = (4 * 5) + (20 / (2**2))\n",
    "\n",
    "y=4 * 5 + 20 / 2**2\n",
    "\n",
    "print(x)\n",
    "print(y)"
   ]
  },
  {
   "cell_type": "markdown",
   "metadata": {},
   "source": [
    "## Tipos de números de Python\n",
    "\n",
    "Hay tres tipos de números en Python, y son los siguientes:\n",
    "\n",
    "* ***Int*** : Enteros\n",
    "* ***Float*** : Números de punto flotante\n",
    "* ***Complex*** : Números complejos o imaginarios"
   ]
  },
  {
   "cell_type": "code",
   "execution_count": null,
   "metadata": {},
   "outputs": [
    {
     "name": "stdout",
     "output_type": "stream",
     "text": [
      "<class 'int'>\n",
      "<class 'float'>\n",
      "<class 'complex'>\n"
     ]
    }
   ],
   "source": [
    "i=2 #Entero\n",
    "f=2.5  #Float\n",
    "c=1+4j #Complex\n",
    "\n",
    "print(type(i))\n",
    "print(type(f))\n",
    "print(type(c))"
   ]
  },
  {
   "cell_type": "markdown",
   "metadata": {},
   "source": [
    "\n",
    "### Int\n",
    "\n",
    "Tipo de dato utilizado para representar  números enteros (sin decimales) tales como:\n",
    "\n",
    "$$\\ldots, -2,-1,0,1,2,4,5,\\ldots$$"
   ]
  },
  {
   "cell_type": "code",
   "execution_count": null,
   "metadata": {},
   "outputs": [],
   "source": [
    "a=2\n",
    "b=7\n",
    "c=-3"
   ]
  },
  {
   "cell_type": "markdown",
   "metadata": {},
   "source": [
    "\n",
    "### Float\n",
    "\n",
    "Tipo de dato utilizado para representar números de puto flotante como:\n",
    "\n",
    "$$\\ldots, -2.5,-1.1, -1,-0.5, 0.0 , 0.5, 0.75, 1.25, \\ldots$$"
   ]
  },
  {
   "cell_type": "code",
   "execution_count": null,
   "metadata": {},
   "outputs": [],
   "source": [
    "f1=1.25\n",
    "f2=3.141516\n",
    "f3=-.75"
   ]
  },
  {
   "cell_type": "markdown",
   "metadata": {},
   "source": [
    "### Complex\n",
    "\n",
    "Este tipo de dato se utiliza para almacenar **números complejos** o **imaginarios** i.e. números de la forma:\n",
    "$a + bj$ donde $a,b \\in \\mathbb{R}$ y $j$ es la unidad imaginaria definida tal que  $j^{2}=-1$ "
   ]
  },
  {
   "cell_type": "code",
   "execution_count": null,
   "metadata": {},
   "outputs": [],
   "source": [
    "z= 2+8j\n",
    "w=-1.5 + 5j\n",
    "u=4j\n"
   ]
  },
  {
   "cell_type": "markdown",
   "metadata": {},
   "source": []
  },
  {
   "cell_type": "markdown",
   "metadata": {},
   "source": [
    "## Conversión de tipo de número"
   ]
  },
  {
   "cell_type": "code",
   "execution_count": null,
   "metadata": {},
   "outputs": [
    {
     "name": "stdout",
     "output_type": "stream",
     "text": [
      "5.0\n",
      "<class 'float'>\n",
      "7\n",
      "<class 'int'>\n",
      "<class 'complex'>\n",
      "(5+0j)\n"
     ]
    }
   ],
   "source": [
    "a = 5   # int\n",
    "b = 7.5 # float\n",
    "c = 10j  # complex\n",
    "\n",
    "f = float(a)\n",
    "i = int(b)\n",
    "c = complex(a)\n",
    "\n",
    "print(f)\n",
    "print(type(f))\n",
    "\n",
    "print(i)\n",
    "print(type(i))\n",
    "\n",
    "print(type(c))\n",
    "print(c)\n"
   ]
  },
  {
   "cell_type": "markdown",
   "metadata": {},
   "source": [
    "Tenga en cuenta que no puede convertir números complejos en otra cosa."
   ]
  },
  {
   "cell_type": "markdown",
   "metadata": {},
   "source": [
    "## Funciones matemáticas en Python\n",
    "\n",
    "Mencionamos antes que Python se usa mucho en cualquier campo que utilice matemáticas. Los métodos integrados que proporciona Python son una gran razón para ello. Estos son algunos de los más comunes:"
   ]
  },
  {
   "cell_type": "markdown",
   "metadata": {},
   "source": [
    "### Valor absoluto\n",
    "\n",
    "Sea $x \\in \\mathbb{R}$,  en Python para obtener el **valor absoluto** de $x$,  $|x|$ utilizamos el  método: `abs()`"
   ]
  },
  {
   "cell_type": "code",
   "execution_count": null,
   "metadata": {},
   "outputs": [
    {
     "name": "stdout",
     "output_type": "stream",
     "text": [
      "34\n"
     ]
    }
   ],
   "source": [
    "number = -34\n",
    "print(abs(number))"
   ]
  },
  {
   "attachments": {},
   "cell_type": "markdown",
   "metadata": {},
   "source": [
    "### Función máximo entero (función piso o  floor )\n",
    "\n",
    "La función máximo entero $\\lfloor \\cdot \\rfloor\\colon \\mathbb{R} \\to \\mathbb{N} $ asigna  a cada número real $x$ el mayor número entero $n$ menor o igual  que $x$ i.e. \n",
    "$$\\lfloor x\\rfloor := \\max\\{k \\in \\mathbb{Z} \\colon k\\leq x\\}$$\n",
    "de esta manera:\n",
    "$$\\lfloor x\\rfloor = n \\Longleftrightarrow n\\leq x <n+1  $$   \n",
    "\n",
    "**Observación:** Para utilizar este  y otros métodos matemáticos, se debe importar el <a href=\"https://docs.python.org/es/3/library/math.html#\" title=\"\">***módulo `.math`***</a>."
   ]
  },
  {
   "attachments": {},
   "cell_type": "markdown",
   "metadata": {},
   "source": [
    "Un ***módulo en Python*** es un fichero `.py` que almacena un conjunto de *funciones*, *variables* o *clases* y que puede ser usado por otros módulos. "
   ]
  },
  {
   "cell_type": "code",
   "execution_count": null,
   "metadata": {},
   "outputs": [
    {
     "name": "stdout",
     "output_type": "stream",
     "text": [
      "-7\n"
     ]
    }
   ],
   "source": [
    "import math\n",
    "\n",
    "number = 6.87\n",
    "print(math.floor(number))"
   ]
  },
  {
   "cell_type": "code",
   "execution_count": null,
   "metadata": {},
   "outputs": [
    {
     "name": "stdout",
     "output_type": "stream",
     "text": [
      "-2\n"
     ]
    }
   ],
   "source": [
    "number=-1.5\n",
    "\n",
    "print(math.floor(number))"
   ]
  },
  {
   "cell_type": "markdown",
   "metadata": {},
   "source": [
    "### Función techo (función ceil)\n",
    "\n",
    "La función techo $\\lceil \\cdot \\rceil\\colon \\mathbb{R} \\to \\mathbb{N} $ asigna  a cada número real $x$ el menor número entero $n$ mayor o igual  que $x$ i.e. \n",
    "$$\\lceil x\\rceil := \\min\\{k \\in \\mathbb{Z} \\colon x \\leq k\\}$$\n",
    "de esta manera:\n",
    "$$\\lceil x\\rceil = n \\Longleftrightarrow n-1< x \\leq n  $$   \n",
    "\n",
    "**Observación:** Similarmente para utilizar este se debe importar el módulo `.math`"
   ]
  },
  {
   "cell_type": "code",
   "execution_count": null,
   "metadata": {},
   "outputs": [
    {
     "name": "stdout",
     "output_type": "stream",
     "text": [
      "7\n"
     ]
    }
   ],
   "source": [
    "import math\n",
    "\n",
    "number = 6.21\n",
    "print(math.ceil(number))"
   ]
  },
  {
   "cell_type": "code",
   "execution_count": null,
   "metadata": {},
   "outputs": [
    {
     "name": "stdout",
     "output_type": "stream",
     "text": [
      "-2\n"
     ]
    }
   ],
   "source": [
    "import math\n",
    "\n",
    "number = -2.1\n",
    "print(math.ceil(number))"
   ]
  },
  {
   "cell_type": "markdown",
   "metadata": {},
   "source": [
    "### Logaritmo natural\n",
    "\n",
    "Sea $x \\in \\mathbb{R}^{+}$, en Python para determinar el logaritmo natural de $x$, $ln(x)$"
   ]
  },
  {
   "cell_type": "code",
   "execution_count": 2,
   "metadata": {},
   "outputs": [
    {
     "data": {
      "text/plain": [
       "0.0"
      ]
     },
     "execution_count": 2,
     "metadata": {},
     "output_type": "execute_result"
    }
   ],
   "source": [
    "import math\n",
    "\n",
    "math.log(1)"
   ]
  },
  {
   "attachments": {},
   "cell_type": "markdown",
   "metadata": {},
   "source": [
    "\n",
    "#  Cadenas (Strings)\n",
    "\n",
    "Utilizado para almacenar una sucesión de caracteres. Las ***cadenas en Python 3 son inmutables***, i.e. una vez que definiste una cadena ya no puedes cambiarala despues. Sin embargo, cuando \"modificas\" una cadena  con comandos tales como:  `replace( )` or `join( )`, se crea una copia de la cadena y se aplica la modificación a esta, no se reescribe la original.\n",
    "\n",
    "\n",
    "<!-- El saludo \"*¡Hola mundo!*\" es una cadena en Python.   -->"
   ]
  },
  {
   "cell_type": "markdown",
   "metadata": {},
   "source": [
    "### ¿Como crear una cadena en Python?\n",
    "\n",
    "Para crear una  cadena puedes utilizar **comillas simples**, **dobles** o **triples**. "
   ]
  },
  {
   "cell_type": "code",
   "execution_count": 3,
   "metadata": {},
   "outputs": [],
   "source": [
    "Mi_cadena= \"¡Hoy es un buen día para aprender Python!\"\n",
    "Otra_cadena= 'Esto puede parecer difícil al principio, pero te aseguro que puedes hacerlo!' \n",
    "Cadena_larga= '''En efecto, tu puedes lograr lo que te propongas... :D\n",
    "Observa que utilizando comillas tiples podemos guargar una cadena muy large de varias lineas de texto.'''"
   ]
  },
  {
   "attachments": {},
   "cell_type": "markdown",
   "metadata": {},
   "source": [
    "Enseguida  puedes usar la función `print( )` para generar el valor de la cadena en la ventana de la consola."
   ]
  },
  {
   "cell_type": "code",
   "execution_count": null,
   "metadata": {},
   "outputs": [],
   "source": [
    "print(Mi_cadena)\n",
    "print(Otra_cadena)\n",
    "print(Cadena_larga)"
   ]
  },
  {
   "cell_type": "markdown",
   "metadata": {},
   "source": [
    "### Método format"
   ]
  },
  {
   "attachments": {},
   "cell_type": "markdown",
   "metadata": {},
   "source": [
    "El método `format()` es una función integrada en Python que se utiliza para dar **formato a las cadenas de texto**. El método `format()` se llama en una cadena de texto y toma uno o más argumentos que se utilizan para reemplazar ciertos caracteres de la cadena con los valores proporcionados. Se utiliza `{ }` como **marcadores de posición** en la cadena, y los valores que se utilizan para reemplazar los marcadores de posición se pasan como argumentos a la función `format()`."
   ]
  },
  {
   "cell_type": "code",
   "execution_count": null,
   "metadata": {},
   "outputs": [],
   "source": [
    "username = input(\"Ingrese su nombre de usuario: \")\n",
    "print(\"¡Bienvenido {}!\".format(username))"
   ]
  },
  {
   "cell_type": "code",
   "execution_count": null,
   "metadata": {},
   "outputs": [],
   "source": [
    "palabra = 'mundo'\n",
    "print('¡Hola, {}!'. format(palabra))"
   ]
  },
  {
   "attachments": {},
   "cell_type": "markdown",
   "metadata": {},
   "source": [
    "En el siguiente ejemplo, la cadena de texto tiene tres marcadores de posición `{ }` que se reemplazan con los valores de las variables *precio*, *cantidad* y *total*. El segundo y tercer argumento utilizan la sintaxis `{:.2f}` para especificar que los números deben formatearse con dos decimales."
   ]
  },
  {
   "cell_type": "code",
   "execution_count": null,
   "metadata": {},
   "outputs": [],
   "source": [
    "precio = 15.500000\n",
    "cantidad = 2\n",
    "total = precio * cantidad\n",
    "print(\"El precio unitario es ${:.2f} y compramos {} unidades, por lo que el total es ${:.2f}\".format(precio, cantidad, total))"
   ]
  },
  {
   "attachments": {},
   "cell_type": "markdown",
   "metadata": {},
   "source": [
    "Como podemos observar, pude haber concatenado la variable directamente en la cadena de texto, pero en cambio utilizo el método `format()` y le paso como argumento la variable que quiero mostrar. **Los corchetes vacíos indican donde irá el texto.**"
   ]
  },
  {
   "attachments": {},
   "cell_type": "markdown",
   "metadata": {},
   "source": [
    "#### Especificando el orden de los valores"
   ]
  },
  {
   "attachments": {},
   "cell_type": "markdown",
   "metadata": {},
   "source": [
    "Podemos indicar en los corchetes números. Igual que una lista, el método `format( )` distingue los valores contando desde $0$. Esto a veces puede ser un poco confuso. Para ello podemos asignar nombres a nuestros indices. Veamos un ejemplo:"
   ]
  },
  {
   "attachments": {},
   "cell_type": "markdown",
   "metadata": {},
   "source": [
    "<!-- El método `format()` puede recibir más de un valor. Podemos agregar múltiples valores. Veamos un ejemplo: -->"
   ]
  },
  {
   "cell_type": "code",
   "execution_count": null,
   "metadata": {},
   "outputs": [],
   "source": [
    "name = \"Peter\"\n",
    "lastname = \"Parker\"\n",
    "username = \"El hombre araña\"\n",
    "text = \"Mi nombre es {0} {1}. Pero mis amigos me dicen {2}.\"\n",
    "print(text.format(name, lastname, username))"
   ]
  },
  {
   "cell_type": "code",
   "execution_count": null,
   "metadata": {},
   "outputs": [],
   "source": [
    "text = \"Mi nombre es {name} {lastname}.\"\n",
    "print(text.format(name=\"Pablo\", lastname=\"Hernandez\"))"
   ]
  },
  {
   "attachments": {},
   "cell_type": "markdown",
   "metadata": {},
   "source": [
    "Sin duda a veces  manejar  números en cadenas de texto es dificil. Para ello podemos utilizar tambien el método  `format( )`. La sintaxis no cambia. Veamos otro ejemplo:"
   ]
  },
  {
   "cell_type": "code",
   "execution_count": null,
   "metadata": {},
   "outputs": [],
   "source": [
    "text = \"Yo tengo {age}. Yo nací en el año {year}\"\n",
    "print(text.format(age=23, year=2000))"
   ]
  },
  {
   "attachments": {},
   "cell_type": "markdown",
   "metadata": {},
   "source": [
    "<!-- Como en Python todo es un objeto, cuando queremos imprimir el valor de una variable debemos utilizar la función `format` y el placeholder `{}`. -->"
   ]
  },
  {
   "attachments": {},
   "cell_type": "markdown",
   "metadata": {},
   "source": [
    "## f-Strings \n",
    "\n",
    "Las **f-strings**  son una forma de **formatear cadenas de caracteres en Python 3**. Las f-strings permiten la **inclusión de expresiones de Python dentro de cadenas de caracteres**, lo que permite la creación de cadenas de caracteres dinámicas.\n",
    "\n",
    "Una f-string es una **cadena con formato**,  comienza con la letra `f`. La ventaja de utilizar f-strings es que hacen que el código sea más legible y más fácil de mantener, ya que **permiten incluir valores de variables y expresiones directamente en la cadena de texto**. \n",
    " <!-- Sin embargo, existen grandes cambios con respecto al código legacy que viene de Python 2 hacia Python 3 -->\n",
    "\n",
    "En general, una f-string contiene variables y expresiones entre llaves `{ }` que se sustituyen directamente por su valor. Las `f-strings` se reconocen porque comienzan por una letra `f` antes de las comillas de apertura.\n",
    "\n",
    "Desde Python 3.6 es posible utilizar f-strings para realizar lo mismo que la función format de la siguiente manera:"
   ]
  },
  {
   "cell_type": "code",
   "execution_count": null,
   "metadata": {},
   "outputs": [],
   "source": [
    "sumando1=int(input(\"Ingrese primer valor:\"))\n",
    "sumando2=int(input(\"Ingrese segundo valor:\"))\n",
    "suma=sumando1+sumando2\n",
    "print(f\"La suma de {sumando1} y {sumando2} es {suma}\")\n"
   ]
  },
  {
   "cell_type": "code",
   "execution_count": null,
   "metadata": {},
   "outputs": [],
   "source": [
    "nombre = \"Alicia\"\n",
    "edad = 35\n",
    "print(f\"Me llamo {nombre} y tengo {edad} años.\")"
   ]
  },
  {
   "cell_type": "code",
   "execution_count": null,
   "metadata": {},
   "outputs": [],
   "source": [
    "palabra = 'Mundo'\n",
    "print(f'Hola, {palabra}')"
   ]
  },
  {
   "attachments": {},
   "cell_type": "markdown",
   "metadata": {},
   "source": [
    "## Diferencias entre f-strings y  método format()\n"
   ]
  },
  {
   "attachments": {},
   "cell_type": "markdown",
   "metadata": {},
   "source": [
    "Tanto las f-strings como el método format() se utilizan para formatear cadenas de caracteres en Python, pero hay algunas diferencias importantes entre los dos métodos."
   ]
  },
  {
   "attachments": {},
   "cell_type": "markdown",
   "metadata": {},
   "source": [
    "### Sintaxis\n",
    "\n",
    "La sintaxis de las f-strings es más simple y legible que la del método `format()`. Para crear una f-string, simplemente pon una \"f\" antes de la cadena de caracteres y luego coloca las expresiones de Python dentro de llaves `{ } `dentro de la cadena. \n",
    "\n",
    "Por otro lado, para utilizar el método `format()`, debemos llamar al método en una cadena de caracteres y colocar los valores que deseamos insertar en las llaves {} dentro de la cadena"
   ]
  },
  {
   "attachments": {},
   "cell_type": "markdown",
   "metadata": {},
   "source": [
    "### Evaluación en tiempo de ejecución\n",
    "\n",
    "Con las f-strings, podemos **incluir expresiones de Python dentro de las llaves** `{ }` que **se evalúan en tiempo de ejecución**. Por ejemplo:"
   ]
  },
  {
   "cell_type": "code",
   "execution_count": null,
   "metadata": {},
   "outputs": [],
   "source": [
    "numero = 10\n",
    "print(f\"El doble de {numero} es {numero * 2}.\")"
   ]
  },
  {
   "attachments": {},
   "cell_type": "markdown",
   "metadata": {},
   "source": [
    "En cambio, con el método `format( )`, **no podemos incluir expresiones de Python dentro de las llaves** `{ }`. En su lugar, debemos calcular los valores antes de llamar al método format(). Por ejemplo:"
   ]
  },
  {
   "cell_type": "code",
   "execution_count": null,
   "metadata": {},
   "outputs": [],
   "source": [
    "numero = 10\n",
    "doble = numero * 2\n",
    "print(\"El doble de {} es {}.\".format(numero, doble))"
   ]
  },
  {
   "attachments": {},
   "cell_type": "markdown",
   "metadata": {},
   "source": [
    "**En general**, las `f-strings` son más legibles que el método `format( )` porque la expresión se encuentra directamente dentro de la cadena de caracteres, lo que hace que sea más fácil ver lo que está sucediendo. Además, las `f-strings` son más concisas y reducen la cantidad de código que se debe escribir."
   ]
  },
  {
   "attachments": {},
   "cell_type": "markdown",
   "metadata": {},
   "source": [
    "## Cadenas multilinea\n",
    "\n",
    "Para **imprimir una cadena multilínea** puede realizarse utilizando el **caracter de escape** `\\` o la **triple comilla**.\n",
    "\n",
    "Los siguientes dos ejemplos son equivalentes."
   ]
  },
  {
   "cell_type": "code",
   "execution_count": null,
   "metadata": {},
   "outputs": [],
   "source": [
    "x = 'Hola ' \\\n",
    "    'mundo'\n",
    "x"
   ]
  },
  {
   "cell_type": "code",
   "execution_count": 18,
   "metadata": {},
   "outputs": [],
   "source": [
    "x = '''hello\n",
    "world'''"
   ]
  },
  {
   "cell_type": "markdown",
   "metadata": {},
   "source": [
    "## Concatenar cadenas"
   ]
  },
  {
   "attachments": {},
   "cell_type": "markdown",
   "metadata": {},
   "source": [
    "<!-- la concatenación de cadenas se puede realizar utilizando el operador `+` o el método `join()`. -->\n",
    "\n",
    "Para concatenar dos o más cadenas usando el operador `+`, simplemente colócalas una al lado de la otra con el operador `+` entre ellas o bien utilizando  el método `join()`.:"
   ]
  },
  {
   "cell_type": "code",
   "execution_count": null,
   "metadata": {},
   "outputs": [],
   "source": [
    "cadena1 = \"Hola\"\n",
    "cadena2 = \"mundo\"\n",
    "cadena3 = cadena1 + \" \" + cadena2\n",
    "print(cadena3)"
   ]
  },
  {
   "cell_type": "markdown",
   "metadata": {},
   "source": [
    "También puedes usar la instrucción `join()` para concatenar una lista de cadenas. Este método toma una lista de cadenas y une cada elemento con un separador especificado:"
   ]
  },
  {
   "cell_type": "code",
   "execution_count": null,
   "metadata": {},
   "outputs": [],
   "source": [
    "lista_cadenas = [\"Hola\", \"mundo\"]\n",
    "separador = \" \"\n",
    "cadena = separador.join(lista_cadenas)\n",
    "print(cadena)\n"
   ]
  },
  {
   "cell_type": "markdown",
   "metadata": {},
   "source": [
    "**Observación:** La lista lista_cadenas se une usando el separador `\" \"`, que es un espacio en blanco."
   ]
  },
  {
   "cell_type": "markdown",
   "metadata": {},
   "source": [
    "Las cadenas se pueden concatenar (pegar juntas) con el operador + y se pueden repetir con *:"
   ]
  },
  {
   "cell_type": "code",
   "execution_count": null,
   "metadata": {},
   "outputs": [],
   "source": [
    "# 3 veces 'UMAR', seguido de  'Huatulco'\n",
    "3 * 'UMAR' + 'Huatulco'"
   ]
  },
  {
   "attachments": {},
   "cell_type": "markdown",
   "metadata": {},
   "source": [
    "**Observación:** Dos o más cadenas literales (es decir, las encerradas entre comillas) una al lado de la otra se concatenan automáticamente."
   ]
  },
  {
   "cell_type": "code",
   "execution_count": null,
   "metadata": {},
   "outputs": [],
   "source": [
    "'Py' 'thon'"
   ]
  },
  {
   "cell_type": "markdown",
   "metadata": {},
   "source": [
    "Esta característica es particularmente útil cuando quieres dividir cadenas largas:"
   ]
  },
  {
   "cell_type": "code",
   "execution_count": null,
   "metadata": {},
   "outputs": [],
   "source": [
    "text = ('Cadena1  '\n",
    "        'Cadena2')\n",
    "\n",
    "print(text)"
   ]
  },
  {
   "cell_type": "markdown",
   "metadata": {},
   "source": [
    "Esto solo funciona con dos literales, no con variables ni expresiones:"
   ]
  },
  {
   "cell_type": "code",
   "execution_count": null,
   "metadata": {},
   "outputs": [],
   "source": [
    "prefix = 'Py'\n",
    "#prefix 'thon'  # can't concatenate a variable and a string literal"
   ]
  },
  {
   "cell_type": "markdown",
   "metadata": {},
   "source": [
    "Si quieres concatenar variables o una variable y un literal, usa `+`"
   ]
  },
  {
   "cell_type": "code",
   "execution_count": null,
   "metadata": {},
   "outputs": [],
   "source": [
    "prefix + 'thon'"
   ]
  },
  {
   "attachments": {},
   "cell_type": "markdown",
   "metadata": {},
   "source": [
    "**Las cadenas de texto se pueden indexar (subíndices)**, el primer carácter de la cadena tiene el índice 0. No hay un tipo de dato diferente para los caracteres; un carácter es simplemente una cadena de longitud uno:"
   ]
  },
  {
   "cell_type": "code",
   "execution_count": null,
   "metadata": {},
   "outputs": [],
   "source": [
    "word = 'Python'\n",
    "word[0]  # character in position 0\n",
    "#word[5]"
   ]
  },
  {
   "cell_type": "markdown",
   "metadata": {},
   "source": [
    "Los índices también pueden ser números negativos, para empezar a contar desde la derecha:"
   ]
  },
  {
   "cell_type": "code",
   "execution_count": null,
   "metadata": {},
   "outputs": [],
   "source": [
    "word[-1]  # last character"
   ]
  },
  {
   "cell_type": "code",
   "execution_count": null,
   "metadata": {},
   "outputs": [],
   "source": [
    "word[-2]  # second-last character"
   ]
  },
  {
   "cell_type": "code",
   "execution_count": null,
   "metadata": {},
   "outputs": [],
   "source": [
    "word[-6]"
   ]
  },
  {
   "cell_type": "markdown",
   "metadata": {},
   "source": [
    "**Observación**: Nótese que -0 es lo mismo que 0, los índice negativos comienzan desde -1."
   ]
  },
  {
   "attachments": {},
   "cell_type": "markdown",
   "metadata": {},
   "source": [
    "### Rebanadas de cadenas"
   ]
  },
  {
   "attachments": {},
   "cell_type": "markdown",
   "metadata": {},
   "source": [
    "Además de los índices, las **rebanadas** también están soportadas. Mientras que los índices se utilizar para obtener caracteres individuales, las rebanadas te permiten obtener partes de las cadenas de texto:"
   ]
  },
  {
   "cell_type": "code",
   "execution_count": null,
   "metadata": {},
   "outputs": [],
   "source": [
    "word[0:2]  # characters from position 0 (included) to 2 (excluded)"
   ]
  },
  {
   "cell_type": "code",
   "execution_count": null,
   "metadata": {},
   "outputs": [],
   "source": [
    "word[2:5] "
   ]
  },
  {
   "cell_type": "markdown",
   "metadata": {},
   "source": [
    "Los índices de las rebanadas tienen valores por defecto útiles; el valor por defecto para el primer índice es cero, el valor por defecto para el segundo índice es la longitud de la cadena a rebanar."
   ]
  },
  {
   "cell_type": "code",
   "execution_count": null,
   "metadata": {},
   "outputs": [],
   "source": [
    "word[:2]   # character from the beginning to position 2 (excluded)"
   ]
  },
  {
   "cell_type": "code",
   "execution_count": null,
   "metadata": {},
   "outputs": [],
   "source": [
    "word[4:]   # characters from position 4 (included) to the end"
   ]
  },
  {
   "cell_type": "code",
   "execution_count": null,
   "metadata": {},
   "outputs": [],
   "source": [
    "word[-2:]"
   ]
  },
  {
   "cell_type": "markdown",
   "metadata": {},
   "source": [
    "Nótese cómo el inicio siempre se incluye y el final siempre se excluye. Esto asegura que $s[:i] + s[i:]$ siempre sea igual a $s$:"
   ]
  },
  {
   "cell_type": "code",
   "execution_count": null,
   "metadata": {},
   "outputs": [],
   "source": [
    "word[:2] + word[2:]"
   ]
  },
  {
   "cell_type": "markdown",
   "metadata": {},
   "source": [
    "**Observación** Intentar usar un índice que es muy grande resultará en un error:"
   ]
  },
  {
   "cell_type": "code",
   "execution_count": null,
   "metadata": {},
   "outputs": [],
   "source": [
    "word[50]"
   ]
  },
  {
   "cell_type": "markdown",
   "metadata": {},
   "source": [
    "Sin embargo, los índices de rebanadas fuera de rango se manejan satisfactoriamente cuando se usan para rebanar:"
   ]
  },
  {
   "cell_type": "code",
   "execution_count": null,
   "metadata": {},
   "outputs": [],
   "source": [
    "word[4:42]"
   ]
  },
  {
   "cell_type": "code",
   "execution_count": null,
   "metadata": {},
   "outputs": [],
   "source": [
    "word[42:]"
   ]
  },
  {
   "cell_type": "markdown",
   "metadata": {},
   "source": [
    "Las cadenas de Python no se pueden modificar, son immutable. Por eso, asignar a una posición indexada de la cadena resulta en un error:"
   ]
  },
  {
   "cell_type": "code",
   "execution_count": null,
   "metadata": {},
   "outputs": [],
   "source": [
    "word[0] = 'J'"
   ]
  },
  {
   "cell_type": "markdown",
   "metadata": {},
   "source": [
    "Si necesitas una cadena diferente, deberías crear una nueva:"
   ]
  },
  {
   "cell_type": "code",
   "execution_count": null,
   "metadata": {},
   "outputs": [],
   "source": [
    "word[:2] + 'py'"
   ]
  },
  {
   "cell_type": "markdown",
   "metadata": {},
   "source": [
    "La función incorporada `len()` retorna la longitud de una cadena:"
   ]
  },
  {
   "cell_type": "code",
   "execution_count": null,
   "metadata": {},
   "outputs": [],
   "source": [
    "s='parangaricutirimicuaro'\n",
    "len(s)"
   ]
  },
  {
   "attachments": {},
   "cell_type": "markdown",
   "metadata": {},
   "source": [
    "\n",
    "**Observación:** Explora algunos de los <a href=\"https://docs.python.org/es/3/library/stdtypes.html#string-methods\" title=\"\"> ***métodos de la clase `string`***</a>.\n"
   ]
  },
  {
   "cell_type": "markdown",
   "metadata": {},
   "source": [
    "## Operadores de asignación"
   ]
  },
  {
   "attachments": {},
   "cell_type": "markdown",
   "metadata": {},
   "source": [
    "Los **operadores de asignación en Python** son una forma de simplificar la **asignación de valores a una variable**. \n",
    "\n",
    "En la siguiente  tabla se describen los operadores de asignación disponibles en Python, su sintaxis, y su equivalente a la sintaxis tradicional de asignación.\n",
    "<!-- \n",
    "* `=` : asigna el valor de la expresión del lado derecho al nombre de variable del lado izquierdo. Por ejemplo: `a = 10`.\n",
    "\n",
    "* `+=` : incrementa el valor de la variable del lado izquierdo por el valor de la expresión del lado derecho, y luego asigna el resultado a la misma variable. Por ejemplo, `x += 3` es equivalente a `x = x + 3`.\n",
    "\n",
    "* `-=` : disminuye el valor de la variable del lado izquierdo por el valor de la expresión del lado derecho, y luego asigna el resultado a la misma variable. Por ejemplo, `x -= 3` es equivalente a `x = x - 3`.\n",
    "\n",
    "* `*=` : multiplica el valor de la variable del lado izquierdo por el valor de la expresión del lado derecho, y luego asigna el resultado a la misma variable. Por ejemplo, `x *= 3` es equivalente a `x = x * 3`.\n",
    "\n",
    "* `/=` : divide el valor de la variable del lado izquierdo por el valor de la expresión del lado derecho, y luego asigna el resultado a la misma variable. Por ejemplo, `x /= 3` es equivalente a `x = x / 3`.\n",
    "\n",
    "* `//=` : realiza la división entera del valor de la variable del lado izquierdo por el valor de la expresión del lado derecho, y luego asigna el resultado a la misma variable. Por ejemplo, `x //= 3` es equivalente a `x = x // 3`.\n",
    "\n",
    "* `%=` : asigna el resto de la división del valor de la variable del lado izquierdo por el valor de la expresión del lado derecho, y luego asigna el resultado a la misma variable. Por ejemplo, `x %= 3` es equivalente a `x = x % 3`.\n",
    "\n",
    "* `**=`: asigna el resultado de elevar el valor de la variable del lado izquierdo a la potencia de la expresión del lado derecho y luego lo asigna a la misma variable. Por ejemplo, `x **= 3` es equivalente a `x = x ** 3`.\n",
    "\n",
    "\n",
    "En resumen tenemos lo siguiente: -->\n",
    "\n",
    "<center>\n",
    "\n",
    "| Operador | Ejemplo | Equivalente a |\n",
    "|----------|---------|---------------|\n",
    "| `=`      | `x = 5` | `x = 5`       |\n",
    "| `+=`     | `x += 5`| `x = x + 5`   |\n",
    "| `-=`     | `x -= 5`| `x = x - 5`   |\n",
    "| `*=`     | `x *= 5`| `x = x * 5`   |\n",
    "| `/=`     | `x /= 5`| `x = x / 5`   |\n",
    "| `%=`     | `x %= 5`| `x = x % 5`   |\n",
    "| `//=`    | `x //= 5`| `x = x // 5`  |\n",
    "| `**=`    | `x **= 5`| `x = x ** 5`  |\n",
    "\n",
    "</center>"
   ]
  },
  {
   "attachments": {},
   "cell_type": "markdown",
   "metadata": {},
   "source": [
    "Los operadores de asignación son útiles cuando se quiere **actualizar el valor de una variable en función de su valor actual**. "
   ]
  },
  {
   "attachments": {},
   "cell_type": "markdown",
   "metadata": {},
   "source": [
    "Por ejemplo, si `a` es igual a `5`, se puede utilizar el operador `+=` para incrementar su valor en `3` de la siguiente manera: `a += 3`, lo que resultaría en que a tenga un valor de `8`."
   ]
  },
  {
   "cell_type": "code",
   "execution_count": null,
   "metadata": {},
   "outputs": [],
   "source": [
    "a=5\n",
    "a+=3\n",
    "print(a)"
   ]
  },
  {
   "cell_type": "markdown",
   "metadata": {},
   "source": [
    "Aquí hay un ejemplo que utiliza los operadores de asignación:"
   ]
  },
  {
   "cell_type": "code",
   "execution_count": null,
   "metadata": {},
   "outputs": [],
   "source": [
    "x = 10\n",
    "x += 3  # x ahora es 13\n",
    "print(x)\n",
    "x /= 2  # x ahora es 6.5\n",
    "print(x)\n",
    "x %= 3  # x ahora es 0.5\n",
    "print(x)\n"
   ]
  },
  {
   "cell_type": "markdown",
   "metadata": {},
   "source": [
    "En este ejemplo, se inicializa la variable `x` con el valor `10`. Luego se utilizan los operadores de asignación `+=`, `/=` y `%=` para incrementar, dividir y calcular el módulo del valor de `x`, respectivamente. Cada operación utiliza el valor actual de la variable y la cantidad especificada, y luego asigna el resultado a la misma variable."
   ]
  },
  {
   "cell_type": "markdown",
   "metadata": {},
   "source": [
    "## Operadores de comparación"
   ]
  },
  {
   "attachments": {},
   "cell_type": "markdown",
   "metadata": {},
   "source": [
    "Los **operadores de comparación** se utilizan para comparar dos valores y devuelven un resultado verdadero o falso. En Python, los siguientes operadores de comparación están disponibles:\n",
    "\n",
    "<center>\n",
    "\n",
    "| Operador | Descripción              |\n",
    "|----------|--------------------------|\n",
    "| `==`     | Igual a                  |\n",
    "| `!=`     | Diferente de             |\n",
    "| `<`      | Menor que                |\n",
    "| `>`      | Mayor que                |\n",
    "| `<=`     | Menor o igual que        |\n",
    "| `>=`     | Mayor o igual que        |\n",
    "\n",
    "</center>\n",
    "\n",
    "Veamos cada uno de ellos en detalle:\n",
    "\n",
    "* `==` : El operador `==` compara dos valores y devuelve True si son iguales, y `False` en caso contrario. Por ejemplo: `3 == 3` devuelve `True`, mientras que `3 == 4` devuelve `False`.\n",
    "\n",
    "* `!=` : El operador `!=` compara dos valores y devuelve `True` si son diferentes, y `False` en caso contrario. Por ejemplo: `3 != 4` devuelve `True`, mientras que `3 != 3` devuelve False.\n",
    "\n",
    "* `<` : El operador `<` compara dos valores y devuelve `True` si el valor de la izquierda es menor que el de la derecha, y `False` en caso contrario. Por ejemplo: `3 < 4` devuelve `True`, mientras que` 4 < 3` devuelve `False`.\n",
    "\n",
    "* `>` : El operador `>` compara dos valores y devuelve `True` si el valor de la izquierda es mayor que el de la derecha, y `False` en caso contrario. Por ejemplo: `4 > 3` devuelve `True`, mientras que `3 > 4` devuelve `False`.\n",
    "\n",
    "* `<=` : El operador `<=` compara dos valores y devuelve `True` si el valor de la izquierda es menor o igual que el de la derecha, y `False` en caso contrario. Por ejemplo: `3 <= 3` devuelve `True`, mientras que `3 <= 2` devuelve `False`.\n",
    "\n",
    "* `>=` : El operador `>=` compara dos valores y devuelve `True` si el valor de la izquierda es mayor o igual que el de la derecha, y `False` en caso contrario. Por ejemplo: `3 >= 3` devuelve `True`, mientras que `2 >= 3` devuelve `False`."
   ]
  },
  {
   "cell_type": "markdown",
   "metadata": {},
   "source": [
    "Puede comparar los valores de dos variables utilizando los operadores mayor que y menor que . Aquí está cómo usarlos:"
   ]
  },
  {
   "cell_type": "code",
   "execution_count": null,
   "metadata": {},
   "outputs": [],
   "source": [
    "num1 = 3\n",
    "num2 = 6\n",
    "print(num1 > num2) "
   ]
  },
  {
   "cell_type": "code",
   "execution_count": null,
   "metadata": {},
   "outputs": [],
   "source": [
    "num1 = 3\n",
    "num2 = 6\n",
    "print(num1 < num2) "
   ]
  },
  {
   "cell_type": "code",
   "execution_count": null,
   "metadata": {},
   "outputs": [],
   "source": [
    "num1 = 3;num2 = 3\n",
    "\n",
    "print(num1 != num2)"
   ]
  },
  {
   "cell_type": "markdown",
   "metadata": {},
   "source": [
    "En el caso de que necesite verificar si un valor es menor , mayor o igual que otro valor, Python también tiene un operador para eso. Parece una combinación de los operadores que vimos antes:"
   ]
  },
  {
   "cell_type": "code",
   "execution_count": null,
   "metadata": {},
   "outputs": [],
   "source": [
    "print(3 <= 5)\n",
    "print(3 >= 5)\n",
    "print(7 <= 8)\n",
    "print(7 >= 9)"
   ]
  },
  {
   "cell_type": "markdown",
   "metadata": {},
   "source": [
    "## Operadores lógicos"
   ]
  },
  {
   "cell_type": "markdown",
   "metadata": {},
   "source": [
    "En Python, existen tres operadores lógicos básicos: **`and`**, **`or`** y **`not`**. Estos operadores se utilizan para combinar valores lógicos o expresiones booleanas y evaluar si son verdaderos o falsos. A continuación se describen en detalle cada uno de los operadores lógicos en Python:"
   ]
  },
  {
   "attachments": {},
   "cell_type": "markdown",
   "metadata": {},
   "source": [
    "* **Operador `and`**\n",
    "\n",
    "El operador and devuelve True si y solo si ambos operandos son verdaderos. Si uno o ambos operandos son falsos, devuelve False. La tabla de verdad del operador and es la siguiente:\n",
    "<center>\n",
    "\n",
    "| A     | B     | A and B |\n",
    "|-------|-------|---------|\n",
    "| True  | True  | True    |\n",
    "| True  | False | False   |\n",
    "| False | True  | False   |\n",
    "| False | False | False   |\n",
    "</center>"
   ]
  },
  {
   "cell_type": "markdown",
   "metadata": {},
   "source": [
    "* **Operador `or`**\n",
    "\n",
    "El operador or devuelve True si al menos uno de los operandos es verdadero. Si ambos operandos son falsos, devuelve False. La tabla de verdad del operador or es la siguiente:\n",
    "<center>\n",
    "\n",
    "| A     | B     | A or B  |\n",
    "|-------|-------|---------|\n",
    "| True  | True  | True    |\n",
    "| True  | False | True    |\n",
    "| False | True  | True    |\n",
    "| False | False | False   |\n",
    "</center>"
   ]
  },
  {
   "cell_type": "markdown",
   "metadata": {},
   "source": [
    "* **Operador `not`**\n",
    "\n",
    "El operador not devuelve el valor opuesto a su operando. Si el operando es verdadero, devuelve False, y si es falso, devuelve True. La tabla de verdad del operador not es la siguiente:\n",
    "<center>\n",
    "\n",
    "| A    | not A |\n",
    "|------|-------|\n",
    "| True | False |\n",
    "| False| True  |\n",
    "\n",
    "</center>"
   ]
  },
  {
   "attachments": {},
   "cell_type": "markdown",
   "metadata": {},
   "source": [
    "## Los operadores de pertenencia\n",
    "\n",
    "Los operadores de pertenencia se utilizan para **verificar si un valor se encuentra en una secuencia**, como una cadena de texto, una *lista*, una *tupla* o un *conjunto*. En Python, los siguientes operadores de pertenencia están disponibles:\n",
    "\n",
    "<center>\n",
    "\n",
    "| Operador | Descripción |\n",
    "|----------|-------------|\n",
    "| `in`     | Si un valor está en la secuencia |\n",
    "| `not in` | Si un valor no está en la secuencia |\n",
    "\n",
    "\n",
    "</center>\n",
    "\n",
    "Veamos cada uno de ellos en detalle:\n",
    "\n",
    "* `in` : El operador `in` devuelve `True` si un valor está presente en una secuencia, y `False` en caso contrario. Por ejemplo: `3 in [1, 2, 3]` devuelve `True`, mientras que `4 in [1, 2, 3]` devuelve `False`.\n",
    "\n",
    "* `not in` : El operador `not` in devuelve `True` si un valor no está presente en una secuencia, y `False` en caso contrario. Por ejemplo: `4 not in [1, 2, 3]` devuelve `True`, mientras que `3 not in [1, 2, 3]` devuelve `False`."
   ]
  },
  {
   "attachments": {},
   "cell_type": "markdown",
   "metadata": {},
   "source": [
    "## Los operadores de identidad \n",
    "\n",
    "Los operadores de identidad en Python se utilizan para comparar si dos variables **apuntan a la misma ubicación en memoria**. En Python, los siguientes operadores de identidad están disponibles:\n",
    "\n",
    "<center>\n",
    "\n",
    "| Operador | Descripción |\n",
    "|----------|-------------|\n",
    "| `is`     | Si dos variables son el mismo objeto |\n",
    "| `is not` | Si dos variables no son el mismo objeto |\n",
    "\n",
    "\n",
    "</center>\n",
    "\n",
    "Veamos cada uno de ellos en detalle:\n",
    "\n",
    "* `is` : El operador `is` devuelve `True` si dos variables apuntan al mismo objeto en memoria, y `False` en caso contrario. Por ejemplo: `a is b` devuelve `True` si `a` y `b` apuntan al mismo objeto en memoria, mientras que `a is b` devuelve `False` si `a` y `b` no apuntan al mismo objeto en memoria.\n",
    "\n",
    "* `is not`: El operador `is not` devuelve `True` si dos variables no apuntan al mismo objeto en memoria, y `False` en caso contrario. Por ejemplo: `a is not b` devuelve `True` si `a` y `b` no apuntan al mismo objeto en memoria, mientras que `a is not b` devuelve `False` si `a` y `b` apuntan al mismo objeto en memoria."
   ]
  }
 ],
 "metadata": {
  "kernelspec": {
   "display_name": "Python 3",
   "language": "python",
   "name": "python3"
  },
  "language_info": {
   "codemirror_mode": {
    "name": "ipython",
    "version": 3
   },
   "file_extension": ".py",
   "mimetype": "text/x-python",
   "name": "python",
   "nbconvert_exporter": "python",
   "pygments_lexer": "ipython3",
   "version": "3.11.1"
  },
  "orig_nbformat": 4
 },
 "nbformat": 4,
 "nbformat_minor": 2
}
