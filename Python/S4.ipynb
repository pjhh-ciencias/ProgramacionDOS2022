{
 "cells": [
  {
   "attachments": {},
   "cell_type": "markdown",
   "metadata": {},
   "source": [
    "# Practica \"Años perrunos\"\n",
    "\n",
    "##### Se dice que un año humano equivale a $7$ años caninos. Sin embargo, esta simple conversión no reconoce que los perros alcanzan la edad adulta en aproximadamente dos años. Como resultado, algunas personas creen que es mejor contar cada uno de los dos primeros años humanos como $10.5$ años caninos y luego contar cada año humano adicional como $4$ años caninos.\n",
    "\n",
    "##### Escriba un programaen Python que implemente la conversion descrita en el párrafo anterior y solicite al usuario (validando entrada: número positivo) los años humano que tiene tu amigo perruno y e imprima los correspondientes años caninos de tu mascota. Asegurate de que tu programa funcione correctamente para conversiones de menos de dos años humanos y para conversiones de dos o más años humanos.\n"
   ]
  },
  {
   "attachments": {},
   "cell_type": "markdown",
   "metadata": {},
   "source": [
    "# Practica \n",
    "\n",
    "#### Crea un programa en Python utilizando el módulo Turtle para dibujar 60 cuadrados, girando a la derecha 5 grados después de cada cuadrado"
   ]
  },
  {
   "attachments": {},
   "cell_type": "markdown",
   "metadata": {},
   "source": [
    "# Practica \n",
    "\n",
    "#### Crea un programa en Python utilizando el módulo Turtle para dibujar 60 cuadrados, girando 5 grados después de cada cuadrado y haciendo que cada cuadrado sucesivo sea más grande. Comience con una longitud de 5 e incremente 5 unidades cada cuadrado. "
   ]
  },
  {
   "attachments": {},
   "cell_type": "markdown",
   "metadata": {},
   "source": [
    "# Practica \n",
    "\n",
    "#### Crea un programa en Python utilizando el módulo Turtle para dibujar la siguiente figura:\n",
    "<center>\n",
    "<img src=\"../Imagenes/espiral_turtle.png\" alt=\"\", width=\"35%\" height=\"auto\">\n",
    "\n",
    "</center>\n",
    "\n",
    "<b>Observación</b> ¡Omitir los colores!"
   ]
  },
  {
   "attachments": {},
   "cell_type": "markdown",
   "metadata": {},
   "source": [
    "# Sets"
   ]
  },
  {
   "attachments": {},
   "cell_type": "markdown",
   "metadata": {},
   "source": [
    "Los **sets** en Python son una estructura de datos usada para almacenar elementos de una manera similar a las listas, pero con ciertas diferencias.\n",
    "\n",
    "* Los elementos de un set son **únicos**, lo que significa que no **puede haber elementos duplicados**.\n",
    "  \n",
    "* Los set son **desordenados**, lo que significa que **no mantienen el orden de cuando son declarados**.\n",
    "  \n",
    "* Sus elementos son **inmutables**."
   ]
  },
  {
   "attachments": {},
   "cell_type": "markdown",
   "metadata": {},
   "source": [
    "## Crear set Python"
   ]
  },
  {
   "attachments": {},
   "cell_type": "markdown",
   "metadata": {},
   "source": [
    "Para crear un set en Python se puede hacer con `set()` y pasando como entrada cualquier tipo iterable, como puede ser una lista. Se puede ver como a pesar de pasar elementos duplicados como dos `8` y en un orden determinado, al imprimir el set no conserva ese orden y los duplicados se han eliminado."
   ]
  },
  {
   "cell_type": "code",
   "execution_count": 4,
   "metadata": {},
   "outputs": [
    {
     "name": "stdout",
     "output_type": "stream",
     "text": [
      "{1, 4, 5, 6, 8}\n",
      "<class 'set'>\n"
     ]
    }
   ],
   "source": [
    "s = set([5, 4, 6, 8, 8, 1])\n",
    "print(s)\n",
    "print(type(s))"
   ]
  },
  {
   "attachments": {},
   "cell_type": "markdown",
   "metadata": {},
   "source": [
    "Se puede hacer lo mismo haciendo uso de `{ }`,  sin usar la palabra `set()` como se muestra a continuación:"
   ]
  },
  {
   "cell_type": "code",
   "execution_count": null,
   "metadata": {},
   "outputs": [],
   "source": [
    "s = {5, 4, 6, 8, 8, 1}\n",
    "print(s)      \n",
    "print(type(s))"
   ]
  },
  {
   "attachments": {},
   "cell_type": "markdown",
   "metadata": {},
   "source": [
    "## Operaciones con sets"
   ]
  },
  {
   "attachments": {},
   "cell_type": "markdown",
   "metadata": {},
   "source": [
    "A diferencia de las listas, en los set **no podemos modificar un elemento a través de su índice**. Si lo intentamos, tendremos un `TypeError`."
   ]
  },
  {
   "cell_type": "code",
   "execution_count": 5,
   "metadata": {},
   "outputs": [
    {
     "ename": "TypeError",
     "evalue": "'set' object is not subscriptable",
     "output_type": "error",
     "traceback": [
      "\u001b[0;31m---------------------------------------------------------------------------\u001b[0m",
      "\u001b[0;31mTypeError\u001b[0m                                 Traceback (most recent call last)",
      "Cell \u001b[0;32mIn[5], line 2\u001b[0m\n\u001b[1;32m      1\u001b[0m s \u001b[39m=\u001b[39m \u001b[39mset\u001b[39m([\u001b[39m5\u001b[39m, \u001b[39m6\u001b[39m, \u001b[39m7\u001b[39m, \u001b[39m8\u001b[39m])\n\u001b[0;32m----> 2\u001b[0m s[\u001b[39m0\u001b[39;49m]\n",
      "\u001b[0;31mTypeError\u001b[0m: 'set' object is not subscriptable"
     ]
    }
   ],
   "source": [
    "s = set([5, 6, 7, 8])\n",
    "s[0]"
   ]
  },
  {
   "attachments": {},
   "cell_type": "markdown",
   "metadata": {},
   "source": [
    "**Los elementos de un `set` deben ser inmutables**, por lo que un elemento de un set **no puede ser** ni un *diccionario* ni una *lista*. Si lo intentamos tendremos un `TypeError`"
   ]
  },
  {
   "cell_type": "code",
   "execution_count": 14,
   "metadata": {},
   "outputs": [
    {
     "ename": "TypeError",
     "evalue": "unhashable type: 'list'",
     "output_type": "error",
     "traceback": [
      "\u001b[0;31m---------------------------------------------------------------------------\u001b[0m",
      "\u001b[0;31mTypeError\u001b[0m                                 Traceback (most recent call last)",
      "Cell \u001b[0;32mIn[14], line 2\u001b[0m\n\u001b[1;32m      1\u001b[0m lista \u001b[39m=\u001b[39m [\u001b[39m\"\u001b[39m\u001b[39mPerú\u001b[39m\u001b[39m\"\u001b[39m, \u001b[39m\"\u001b[39m\u001b[39mArgentina\u001b[39m\u001b[39m\"\u001b[39m]\n\u001b[0;32m----> 2\u001b[0m s \u001b[39m=\u001b[39m \u001b[39mset\u001b[39;49m([\u001b[39m\"\u001b[39;49m\u001b[39mMéxico\u001b[39;49m\u001b[39m\"\u001b[39;49m, \u001b[39m\"\u001b[39;49m\u001b[39mEspaña\u001b[39;49m\u001b[39m\"\u001b[39;49m, lista]) \n",
      "\u001b[0;31mTypeError\u001b[0m: unhashable type: 'list'"
     ]
    }
   ],
   "source": [
    "lista = [\"Perú\", \"Argentina\"]\n",
    "s = set([\"México\", \"España\", lista]) "
   ]
  },
  {
   "attachments": {},
   "cell_type": "markdown",
   "metadata": {},
   "source": [
    "Los sets **se pueden iterar de la misma forma que las listas**."
   ]
  },
  {
   "cell_type": "code",
   "execution_count": 6,
   "metadata": {},
   "outputs": [
    {
     "name": "stdout",
     "output_type": "stream",
     "text": [
      "8\n",
      "5\n",
      "6\n",
      "7\n"
     ]
    }
   ],
   "source": [
    "s = set([5, 6, 7, 8])\n",
    "for ss in s:\n",
    "    print(ss)"
   ]
  },
  {
   "attachments": {},
   "cell_type": "markdown",
   "metadata": {},
   "source": [
    "Con la función `len()` podemos saber la **longitud total del set**. Recuerda que los duplicados son eliminados."
   ]
  },
  {
   "cell_type": "code",
   "execution_count": 7,
   "metadata": {},
   "outputs": [
    {
     "name": "stdout",
     "output_type": "stream",
     "text": [
      "4\n"
     ]
    }
   ],
   "source": [
    "s = set([1, 2, 2, 3, 4])\n",
    "print(len(s)) "
   ]
  },
  {
   "attachments": {},
   "cell_type": "markdown",
   "metadata": {},
   "source": [
    "También **podemos saber si un elemento está presente en un set con el operador `in`**. Se el valor existe en el set, se devolverá `True`."
   ]
  },
  {
   "cell_type": "code",
   "execution_count": 15,
   "metadata": {},
   "outputs": [
    {
     "name": "stdout",
     "output_type": "stream",
     "text": [
      "False\n"
     ]
    }
   ],
   "source": [
    "frutas = set([\"mango\", \"sandia\"])\n",
    "print(\"platano\" in s)"
   ]
  },
  {
   "attachments": {},
   "cell_type": "markdown",
   "metadata": {},
   "source": [
    "Los sets tienen además diferentes funcionalidades, que se pueden aplicar en forma de operador o de método. Por ejemplo, el operador `|` nos permite realizar la **unión de dos sets**, lo que equivale a juntarlos. El equivalente es el método `union()` que veremos a continuación:"
   ]
  },
  {
   "cell_type": "code",
   "execution_count": 9,
   "metadata": {},
   "outputs": [
    {
     "name": "stdout",
     "output_type": "stream",
     "text": [
      "{1, 2, 3, 4, 5}\n"
     ]
    }
   ],
   "source": [
    "s1 = set([1, 2, 3])\n",
    "s2 = set([3, 4, 5])\n",
    "print(s1 | s2)"
   ]
  },
  {
   "attachments": {},
   "cell_type": "markdown",
   "metadata": {},
   "source": [
    "# Métodos `set` en Python "
   ]
  },
  {
   "attachments": {},
   "cell_type": "markdown",
   "metadata": {},
   "source": [
    " <table class=\"post-table\">\n",
    "                                                <thead>\n",
    "                                                    <td>Método</td>\n",
    "                                                    <td>Descripción</td>\n",
    "                                                </thead>\n",
    "                                                <tr>\n",
    "                                                    <td>\n",
    "                                                        <code>add(e)</code>\n",
    "                                                    </td>\n",
    "                                                    <td>Añade un elemento al conjunto.</td>\n",
    "                                                </tr>\n",
    "                                                <tr>\n",
    "                                                    <td>\n",
    "                                                        <code>clear()</code>\n",
    "                                                    </td>\n",
    "                                                    <td>Elimina todos los elementos del conjunto.</td>\n",
    "                                                </tr>\n",
    "                                                <tr>\n",
    "                                                    <td>\n",
    "                                                        <code>copy()</code>\n",
    "                                                    </td>\n",
    "                                                    <td>Devuelve una copia superficial del conjunto.</td>\n",
    "                                                </tr>\n",
    "                                                <tr>\n",
    "                                                    <td>\n",
    "                                                        <code>difference(iterable)</code>\n",
    "                                                    </td>\n",
    "                                                    <td>\n",
    "                                                        Devuelve la diferencia del conjunto con el \n",
    "                                                        <code>iterable</code>\n",
    "                                                         como un conjunto nuevo.\n",
    "                                                    </td>\n",
    "                                                </tr>\n",
    "                                                <tr>\n",
    "                                                    <td>\n",
    "                                                        <code>difference_update(iterable)</code>\n",
    "                                                    </td>\n",
    "                                                    <td>\n",
    "                                                        Actualiza el conjunto tras realizar la diferencia con el \n",
    "                                                        <code>iterable</code>\n",
    "                                                        .\n",
    "                                                    </td>\n",
    "                                                </tr>\n",
    "                                                <tr>\n",
    "                                                    <td>\n",
    "                                                        <code>discard(e)</code>\n",
    "                                                    </td>\n",
    "                                                    <td>Elimina, si existe, el elemento del conjunto.</td>\n",
    "                                                </tr>\n",
    "                                                <tr>\n",
    "                                                    <td>\n",
    "                                                        <code>intersection(iterable)</code>\n",
    "                                                    </td>\n",
    "                                                    <td>\n",
    "                                                        Devuelve la intersección del conjunto con el \n",
    "                                                        <code>iterable</code>\n",
    "                                                         como un conjunto nuevo.\n",
    "                                                    </td>\n",
    "                                                </tr>\n",
    "                                                <tr>\n",
    "                                                    <td>\n",
    "                                                        <code>intersection_update(iterable)</code>\n",
    "                                                    </td>\n",
    "                                                    <td>\n",
    "                                                        Actualiza el conjunto tras realizar la intersección con el \n",
    "                                                        <code>iterable</code>\n",
    "                                                        .\n",
    "                                                    </td>\n",
    "                                                </tr>\n",
    "                                                <tr>\n",
    "                                                    <td>\n",
    "                                                        <code>isdisjoint(iterable)</code>\n",
    "                                                    </td>\n",
    "                                                    <td>\n",
    "                                                        Devuelve \n",
    "                                                        <code>True</code>\n",
    "                                                         si dos conjuntos son disjuntos.\n",
    "                                                    </td>\n",
    "                                                </tr>\n",
    "                                                <tr>\n",
    "                                                    <td>\n",
    "                                                        <code>issubset(iterable)</code>\n",
    "                                                    </td>\n",
    "                                                    <td>\n",
    "                                                        Devuelve \n",
    "                                                        <code>True</code>\n",
    "                                                         si el conjunto es subconjunto del \n",
    "                                                        <code>iterable</code>\n",
    "                                                        .\n",
    "                                                    </td>\n",
    "                                                </tr>\n",
    "                                                <tr>\n",
    "                                                    <td>\n",
    "                                                        <code>issuperset(iterable)</code>\n",
    "                                                    </td>\n",
    "                                                    <td>\n",
    "                                                        Devuelve \n",
    "                                                        <code>True</code>\n",
    "                                                         si el conjunto es superconjunto del \n",
    "                                                        <code>iterable</code>\n",
    "                                                        .\n",
    "                                                    </td>\n",
    "                                                </tr>\n",
    "                                                <tr>\n",
    "                                                    <td>\n",
    "                                                        <code>pop()</code>\n",
    "                                                    </td>\n",
    "                                                    <td>Obtiene y elimina un elemento de forma aleatoria del conjunto.</td>\n",
    "                                                </tr>\n",
    "                                                <tr>\n",
    "                                                    <td>\n",
    "                                                        <code>remove(e)</code>\n",
    "                                                    </td>\n",
    "                                                    <td>Elimina el elemento del conjunto. Si no existe lanza un error.</td>\n",
    "                                                </tr>\n",
    "                                                <tr>\n",
    "                                                    <td>\n",
    "                                                        <code>symmetric_difference(iterable)</code>\n",
    "                                                    </td>\n",
    "                                                    <td>\n",
    "                                                        Devuelve la diferencia simétrica del conjunto con el \n",
    "                                                        <code>iterable</code>\n",
    "                                                         como un conjunto nuevo.\n",
    "                                                    </td>\n",
    "                                                </tr>\n",
    "                                                <tr>\n",
    "                                                    <td>\n",
    "                                                        <code>symmetric_difference_update(iterable)</code>\n",
    "                                                    </td>\n",
    "                                                    <td>\n",
    "                                                        Actualiza el conjunto tras realizar la diferencia simétrica con el \n",
    "                                                        <code>iterable</code>\n",
    "                                                        .\n",
    "                                                    </td>\n",
    "                                                </tr>\n",
    "                                                <tr>\n",
    "                                                    <td>\n",
    "                                                        <code>union(iterable)</code>\n",
    "                                                    </td>\n",
    "                                                    <td>\n",
    "                                                        Devuelve la unión del conjunto con el \n",
    "                                                        <code>iterable</code>\n",
    "                                                         como un conjunto nuevo.\n",
    "                                                    </td>\n",
    "                                                </tr>\n",
    "                                                <tr>\n",
    "                                                    <td>\n",
    "                                                        <code>update(iterable)</code>\n",
    "                                                    </td>\n",
    "                                                    <td>\n",
    "                                                        Actualiza el conjunto tras realizar la unión con el \n",
    "                                                        <code>iterable</code>\n",
    "                                                        .\n",
    "                                                    </td>\n",
    "                                                </tr>\n",
    "                                            </table>"
   ]
  },
  {
   "attachments": {},
   "cell_type": "markdown",
   "metadata": {},
   "source": [
    "# Tupla (tuple)"
   ]
  },
  {
   "attachments": {},
   "cell_type": "markdown",
   "metadata": {},
   "source": [
    "Las **tuplas** en Python son un tipo o estructura de datos que permite almacenar datos de una manera muy parecida a las listas, con la salvedad de que son inmutables."
   ]
  },
  {
   "attachments": {},
   "cell_type": "markdown",
   "metadata": {},
   "source": [
    "Las tuplas en Python o tuples son muy similares a las listas, pero con dos diferencias. Son inmutables, lo que significa que no pueden ser modificadas una vez declaradas, y en vez de inicializarse con corchetes se hace con (). Dependiendo de lo que queramos hacer, las tuplas pueden ser más rápidas."
   ]
  },
  {
   "attachments": {},
   "cell_type": "markdown",
   "metadata": {},
   "source": [
    "## Crear tupla Python"
   ]
  },
  {
   "attachments": {},
   "cell_type": "markdown",
   "metadata": {},
   "source": [
    "En vez de inicializarse con corchetes se hace con ()"
   ]
  },
  {
   "cell_type": "code",
   "execution_count": null,
   "metadata": {},
   "outputs": [],
   "source": [
    "tupla = (1, 2, 3)\n",
    "print(tupla)"
   ]
  },
  {
   "attachments": {},
   "cell_type": "markdown",
   "metadata": {},
   "source": [
    "También pueden declararse sin (), separando por , todos sus elementos."
   ]
  },
  {
   "cell_type": "code",
   "execution_count": 10,
   "metadata": {},
   "outputs": [
    {
     "name": "stdout",
     "output_type": "stream",
     "text": [
      "<class 'tuple'>\n",
      "(1, 2, 3)\n"
     ]
    }
   ],
   "source": [
    "tupla = 1, 2, 3\n",
    "print(type(tupla))\n",
    "print(tupla)"
   ]
  },
  {
   "attachments": {},
   "cell_type": "markdown",
   "metadata": {},
   "source": [
    "## Operaciones con tuplas"
   ]
  },
  {
   "attachments": {},
   "cell_type": "markdown",
   "metadata": {},
   "source": [
    "Como hemos comentado, las tuplas son tipos inmutables, lo que significa que una vez asignado su valor, no puede ser modificado. Si se intenta, tendremos un TypeError."
   ]
  },
  {
   "cell_type": "code",
   "execution_count": null,
   "metadata": {},
   "outputs": [],
   "source": [
    "tupla = (1, 2, 3)\n",
    "tupla[0] = 5"
   ]
  },
  {
   "attachments": {},
   "cell_type": "markdown",
   "metadata": {},
   "source": [
    "Al igual que las listas, las tuplas también pueden ser anidadas."
   ]
  },
  {
   "cell_type": "code",
   "execution_count": 11,
   "metadata": {},
   "outputs": [
    {
     "name": "stdout",
     "output_type": "stream",
     "text": [
      "(1, 2, ('a', 'b'), 3)\n",
      "a\n"
     ]
    }
   ],
   "source": [
    "tupla = 1, 2, ('a', 'b'), 3\n",
    "print(tupla)      \n",
    "print(tupla[2][0])"
   ]
  },
  {
   "attachments": {},
   "cell_type": "markdown",
   "metadata": {},
   "source": [
    "Y también es posible convertir una lista en tupla haciendo uso de al función tuple()."
   ]
  },
  {
   "cell_type": "code",
   "execution_count": null,
   "metadata": {},
   "outputs": [],
   "source": [
    "lista = [1, 2, 3]\n",
    "tupla = tuple(lista)\n",
    "print(type(tupla)) \n",
    "print(tupla) "
   ]
  },
  {
   "attachments": {},
   "cell_type": "markdown",
   "metadata": {},
   "source": [
    "Se puede iterar una tupla de la misma forma que se hacía con las listas."
   ]
  },
  {
   "cell_type": "code",
   "execution_count": 12,
   "metadata": {},
   "outputs": [
    {
     "name": "stdout",
     "output_type": "stream",
     "text": [
      "1\n",
      "2\n",
      "3\n"
     ]
    }
   ],
   "source": [
    "tupla = [1, 2, 3]\n",
    "for t in tupla:\n",
    "    print(t)"
   ]
  },
  {
   "attachments": {},
   "cell_type": "markdown",
   "metadata": {},
   "source": [
    "Y se puede también asignar el valor de una tupla con n elementos a n variables."
   ]
  },
  {
   "cell_type": "code",
   "execution_count": null,
   "metadata": {},
   "outputs": [],
   "source": [
    "l = (1, 2, 3)\n",
    "x, y, z = l\n",
    "print(x, y, z)"
   ]
  },
  {
   "attachments": {},
   "cell_type": "markdown",
   "metadata": {},
   "source": [
    "Aunque tal vez no tenga mucho sentido a nivel práctico, es posible crear una tupla de un solo elemento. Para ello debes usar , antes del paréntesis, porque de lo contrario (2) sería interpretado como int."
   ]
  },
  {
   "cell_type": "code",
   "execution_count": 13,
   "metadata": {},
   "outputs": [
    {
     "name": "stdout",
     "output_type": "stream",
     "text": [
      "<class 'tuple'>\n"
     ]
    }
   ],
   "source": [
    "tupla = (2,)\n",
    "print(type(tupla)) "
   ]
  },
  {
   "attachments": {},
   "cell_type": "markdown",
   "metadata": {},
   "source": [
    "## Métodos tuplas"
   ]
  },
  {
   "attachments": {},
   "cell_type": "markdown",
   "metadata": {},
   "source": [
    "### método count() \n",
    "\n",
    "El método count() cuenta el número de veces que el objeto pasado como parámetro se ha encontrado en la lista."
   ]
  },
  {
   "cell_type": "code",
   "execution_count": null,
   "metadata": {},
   "outputs": [],
   "source": [
    "l = [1, 1, 1, 3, 5]\n",
    "print(l.count(1))"
   ]
  },
  {
   "attachments": {},
   "cell_type": "markdown",
   "metadata": {},
   "source": [
    "### método index() \n",
    "\n",
    "El método index() busca el objeto que se le pasa como parámetro y devuelve el índice en el que se ha encontrado"
   ]
  },
  {
   "cell_type": "code",
   "execution_count": null,
   "metadata": {},
   "outputs": [],
   "source": [
    "l = [7, 7, 7, 3, 5]\n",
    "print(l.index(5))"
   ]
  },
  {
   "attachments": {},
   "cell_type": "markdown",
   "metadata": {},
   "source": [
    "En el caso de no encontrarse, se devuelve un ValueError."
   ]
  },
  {
   "cell_type": "code",
   "execution_count": null,
   "metadata": {},
   "outputs": [],
   "source": [
    "l = [7, 7, 7, 3, 5]\n",
    "print(l.index(35))"
   ]
  },
  {
   "attachments": {},
   "cell_type": "markdown",
   "metadata": {},
   "source": [
    "### método index()\n",
    " \n",
    "El método index() también acepta un segundo parámetro opcional, que indica a partir de que índice empezar a buscar el objeto."
   ]
  },
  {
   "cell_type": "code",
   "execution_count": null,
   "metadata": {},
   "outputs": [],
   "source": [
    "l = [7, 7, 7, 3, 5]\n",
    "print(l.index(7, 2))"
   ]
  }
 ],
 "metadata": {
  "kernelspec": {
   "display_name": "Python 3",
   "language": "python",
   "name": "python3"
  },
  "language_info": {
   "codemirror_mode": {
    "name": "ipython",
    "version": 3
   },
   "file_extension": ".py",
   "mimetype": "text/x-python",
   "name": "python",
   "nbconvert_exporter": "python",
   "pygments_lexer": "ipython3",
   "version": "3.11.2"
  },
  "orig_nbformat": 4,
  "vscode": {
   "interpreter": {
    "hash": "ce4d963573401a72c80fabe1ef75418dde5088fa46d743e51eca5fefbd048d5c"
   }
  }
 },
 "nbformat": 4,
 "nbformat_minor": 2
}
