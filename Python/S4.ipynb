{
 "cells": [
  {
   "attachments": {},
   "cell_type": "markdown",
   "metadata": {},
   "source": [
    "# Practica \"Años perrunos\"\n",
    "\n",
    "##### Se dice que un año humano equivale a $7$ años caninos. Sin embargo, esta simple conversión no reconoce que los perros alcanzan la edad adulta en aproximadamente dos años. Como resultado, algunas personas creen que es mejor contar cada uno de los dos primeros años humanos como $10.5$ años caninos y luego contar cada año humano adicional como $4$ años caninos.\n",
    "\n",
    "##### Escriba un programaen Python que implemente la conversion descrita en el párrafo anterior y solicite al usuario (validando entrada: número positivo) los años humano que tiene tu amigo perruno y e imprima los correspondientes años caninos de tu mascota. Asegurate de que tu programa funcione correctamente para conversiones de menos de dos años humanos y para conversiones de dos o más años humanos.\n"
   ]
  },
  {
   "attachments": {},
   "cell_type": "markdown",
   "metadata": {},
   "source": [
    "# Practica \n",
    "\n",
    "#### Crea un programa en Python utilizando el módulo Turtle para dibujar 60 cuadrados, girando a la derecha 5 grados después de cada cuadrado"
   ]
  },
  {
   "attachments": {},
   "cell_type": "markdown",
   "metadata": {},
   "source": [
    "# Practica \n",
    "\n",
    "#### Crea un programa en Python utilizando el módulo Turtle para dibujar 60 cuadrados, girando 5 grados después de cada cuadrado y haciendo que cada cuadrado sucesivo sea más grande. Comience con una longitud de 5 e incremente 5 unidades cada cuadrado. "
   ]
  },
  {
   "attachments": {},
   "cell_type": "markdown",
   "metadata": {},
   "source": [
    "# Practica \n",
    "\n",
    "#### Crea un programa en Python utilizando el módulo Turtle para dibujar la siguiente figura:\n",
    "<center>\n",
    "<img src=\"../Imagenes/espiral_turtle.png\" alt=\"\", width=\"35%\" height=\"auto\">\n",
    "\n",
    "</center>\n",
    "\n",
    "<b>Observación</b> ¡Omitir los colores!"
   ]
  },
  {
   "attachments": {},
   "cell_type": "markdown",
   "metadata": {},
   "source": [
    "# Sets"
   ]
  },
  {
   "attachments": {},
   "cell_type": "markdown",
   "metadata": {},
   "source": [
    "Los **sets** en Python son una estructura de datos usada para almacenar elementos de una manera similar a las listas, pero con ciertas diferencias.\n",
    "\n",
    "* Los elementos de un set son **únicos**, lo que significa que no **puede haber elementos duplicados**.\n",
    "  \n",
    "* Los set son **desordenados**, lo que significa que **no mantienen el orden de cuando son declarados**.\n",
    "  \n",
    "* Sus elementos son **inmutables**."
   ]
  },
  {
   "attachments": {},
   "cell_type": "markdown",
   "metadata": {},
   "source": [
    "## Crear set Python"
   ]
  },
  {
   "attachments": {},
   "cell_type": "markdown",
   "metadata": {},
   "source": [
    "Para crear un set en Python se puede hacer con `set()` y pasando como entrada cualquier tipo iterable, como puede ser una lista. Se puede ver como a pesar de pasar elementos duplicados como dos `8` y en un orden determinado, al imprimir el set no conserva ese orden y los duplicados se han eliminado."
   ]
  },
  {
   "cell_type": "code",
   "execution_count": null,
   "metadata": {},
   "outputs": [],
   "source": [
    "s = set([5, 4, 6, 8, 8, 1]) \n",
    "print(s)\n",
    "# print(type(s))"
   ]
  },
  {
   "attachments": {},
   "cell_type": "markdown",
   "metadata": {},
   "source": [
    "Se puede hacer lo mismo haciendo uso de `{ }`,  en lugar de usar la palabra `set( )` como se muestra a continuación:"
   ]
  },
  {
   "cell_type": "code",
   "execution_count": null,
   "metadata": {},
   "outputs": [],
   "source": [
    "s = {5, 4, 6, 8, 8, 1}\n",
    "print(s)      \n",
    "#print(type(s))"
   ]
  },
  {
   "cell_type": "code",
   "execution_count": null,
   "metadata": {},
   "outputs": [],
   "source": [
    "colores = {'rojo', 'naranja', 'amarillo', 'verde', 'rojo', 'azul'}\n",
    "print(colores)"
   ]
  },
  {
   "attachments": {},
   "cell_type": "markdown",
   "metadata": {},
   "source": [
    "## Características de los  `sets`"
   ]
  },
  {
   "attachments": {},
   "cell_type": "markdown",
   "metadata": {},
   "source": [
    "A diferencia de las listas, en los set's **no podemos acceder ni modificar un elemento a través de su índice**. Si lo intentamos, tendremos un `TypeError`."
   ]
  },
  {
   "cell_type": "code",
   "execution_count": null,
   "metadata": {},
   "outputs": [],
   "source": [
    "s = set([5, 6, 7, 8])\n",
    "#s[0]\n",
    "#s[0]=9"
   ]
  },
  {
   "attachments": {},
   "cell_type": "markdown",
   "metadata": {},
   "source": [
    "**Los elementos de un `set` deben ser inmutables**, por lo que **un elemento de un set no puede ser** ni un *`diccionario`* ni una *`lista`*. Si lo intentamos tendremos un `TypeError`"
   ]
  },
  {
   "cell_type": "code",
   "execution_count": null,
   "metadata": {},
   "outputs": [],
   "source": [
    "lista = [\"Perú\", \"Argentina\"]\n",
    "s = set([\"México\", \"España\", lista]) "
   ]
  },
  {
   "attachments": {},
   "cell_type": "markdown",
   "metadata": {},
   "source": [
    "Los sets **se pueden iterar de la misma forma que las listas**."
   ]
  },
  {
   "cell_type": "code",
   "execution_count": null,
   "metadata": {},
   "outputs": [],
   "source": [
    "s = set([5, 6, 7, 8])\n",
    "for elemento in s:\n",
    "    print(elemento)"
   ]
  },
  {
   "attachments": {},
   "cell_type": "markdown",
   "metadata": {},
   "source": [
    "## Determinar la longitud de un conjunto"
   ]
  },
  {
   "attachments": {},
   "cell_type": "markdown",
   "metadata": {},
   "source": [
    "Con la función `len( )` podemos saber la **longitud total del set**. Recuerda que los duplicados son eliminados."
   ]
  },
  {
   "cell_type": "code",
   "execution_count": null,
   "metadata": {},
   "outputs": [],
   "source": [
    "s = set([1, 2, 2, 3, 4])\n",
    "print(len(s)) "
   ]
  },
  {
   "attachments": {},
   "cell_type": "markdown",
   "metadata": {},
   "source": [
    "## Determinar si un elemento se encuentra en el conjunto"
   ]
  },
  {
   "attachments": {},
   "cell_type": "markdown",
   "metadata": {},
   "source": [
    "También **podemos saber si un elemento está presente en un set con el operador `in`**. Se el valor existe en el set, se devolverá `True`."
   ]
  },
  {
   "cell_type": "code",
   "execution_count": null,
   "metadata": {},
   "outputs": [],
   "source": [
    "colores = {'rojo', 'naranja', 'amarillo', 'verde', 'rojo', 'azul'}\n",
    "\n",
    "print('rojo' in colores)\n",
    "\n",
    "print('morado' in colores)\n",
    "\n",
    "print('morado' not in colores)\n",
    "\n"
   ]
  },
  {
   "cell_type": "code",
   "execution_count": null,
   "metadata": {},
   "outputs": [],
   "source": [
    "frutas = set([\"mango\", \"sandia\", \"melon\"])\n",
    "print(\"platano\" in s)"
   ]
  },
  {
   "attachments": {},
   "cell_type": "markdown",
   "metadata": {},
   "source": [
    "# Crear un conjunto con un función `set`\n",
    " "
   ]
  },
  {
   "cell_type": "code",
   "execution_count": 59,
   "metadata": {},
   "outputs": [
    {
     "name": "stdout",
     "output_type": "stream",
     "text": [
      "[0, 1, 2, 3, 4, 5, 6, 7, 8, 9, 0, 1, 2, 3, 4]\n",
      "{0, 1, 2, 3, 4, 5, 6, 7, 8, 9}\n"
     ]
    }
   ],
   "source": [
    "numbers = list(range(10)) + list(range(5))\n",
    "print(numbers)\n",
    "print(set(numbers))"
   ]
  },
  {
   "attachments": {},
   "cell_type": "markdown",
   "metadata": {},
   "source": [
    "# Comparar conjuntos"
   ]
  },
  {
   "attachments": {},
   "cell_type": "markdown",
   "metadata": {},
   "source": [
    "# Operaciones matematicas"
   ]
  },
  {
   "attachments": {},
   "cell_type": "markdown",
   "metadata": {},
   "source": [
    "Los sets tienen además diferentes funcionalidades, que se pueden aplicar en forma de operador o de método. Por ejemplo, el operador `|` nos permite realizar la **unión de dos sets**, lo que equivale a *juntarlos*,  lo que en Matemáticas sería realizar la Union de conjuntos. Equivalentemente podemos utilizar el método `union()` que veremos a continuación:"
   ]
  },
  {
   "cell_type": "code",
   "execution_count": null,
   "metadata": {},
   "outputs": [],
   "source": [
    "s1 = set([1, 2, 3])\n",
    "s2 = set([3, 4, 5])\n",
    "print(s1 | s2)"
   ]
  },
  {
   "cell_type": "code",
   "execution_count": null,
   "metadata": {},
   "outputs": [],
   "source": [
    "s1 = set([1, 2, 3])\n",
    "s2 = set([3, 4, 5])\n",
    "print(s1.union(s2))"
   ]
  },
  {
   "attachments": {},
   "cell_type": "markdown",
   "metadata": {},
   "source": [
    "# Iterar a traves de conjuntos"
   ]
  },
  {
   "cell_type": "code",
   "execution_count": 57,
   "metadata": {},
   "outputs": [
    {
     "name": "stdout",
     "output_type": "stream",
     "text": [
      "AMARILLO  NARANJA  VERDE  ROJO  AZUL  "
     ]
    }
   ],
   "source": [
    "for color in colores:\n",
    "    print(color.upper() , end='  ')"
   ]
  },
  {
   "attachments": {},
   "cell_type": "markdown",
   "metadata": {},
   "source": [
    "# Métodos `set` en Python "
   ]
  },
  {
   "attachments": {},
   "cell_type": "markdown",
   "metadata": {},
   "source": [
    " <table class=\"post-table\">\n",
    "                                                <thead>\n",
    "                                                    <td>Método</td>\n",
    "                                                    <td>Descripción</td>\n",
    "                                                </thead>\n",
    "                                                <tr>\n",
    "                                                    <td>\n",
    "                                                        <code>add(e)</code>\n",
    "                                                    </td>\n",
    "                                                    <td>Añade un elemento al conjunto.</td>\n",
    "                                                </tr>\n",
    "                                                <tr>\n",
    "                                                    <td>\n",
    "                                                        <code>clear()</code>\n",
    "                                                    </td>\n",
    "                                                    <td>Elimina todos los elementos del conjunto.</td>\n",
    "                                                </tr>\n",
    "                                                <tr>\n",
    "                                                    <td>\n",
    "                                                        <code>copy()</code>\n",
    "                                                    </td>\n",
    "                                                    <td>Devuelve una copia  del conjunto.</td>\n",
    "                                                </tr>\n",
    "                                                <tr>\n",
    "                                                    <td>\n",
    "                                                        <code>difference(iterable)</code>\n",
    "                                                    </td>\n",
    "                                                    <td>\n",
    "                                                        Devuelve la diferencia del conjunto con el \n",
    "                                                        <code>iterable</code>\n",
    "                                                         como un conjunto nuevo.\n",
    "                                                    </td>\n",
    "                                                </tr>\n",
    "                                                <tr>\n",
    "                                                    <td>\n",
    "                                                        <code>difference_update(iterable)</code>\n",
    "                                                    </td>\n",
    "                                                    <td>\n",
    "                                                        Actualiza el conjunto tras realizar la diferencia con el \n",
    "                                                        <code>iterable</code>\n",
    "                                                        .\n",
    "                                                    </td>\n",
    "                                                </tr>\n",
    "                                                <tr>\n",
    "                                                    <td>\n",
    "                                                        <code>discard(e)</code>\n",
    "                                                    </td>\n",
    "                                                    <td>Elimina, si existe, el elemento del conjunto.</td>\n",
    "                                                </tr>\n",
    "                                                <tr>\n",
    "                                                    <td>\n",
    "                                                        <code>intersection(iterable)</code>\n",
    "                                                    </td>\n",
    "                                                    <td>\n",
    "                                                        Devuelve la intersección del conjunto con el \n",
    "                                                        <code>iterable</code>\n",
    "                                                         como un conjunto nuevo.\n",
    "                                                    </td>\n",
    "                                                </tr>\n",
    "                                                <tr>\n",
    "                                                    <td>\n",
    "                                                        <code>intersection_update(iterable)</code>\n",
    "                                                    </td>\n",
    "                                                    <td>\n",
    "                                                        Actualiza el conjunto tras realizar la intersección con el \n",
    "                                                        <code>iterable</code>\n",
    "                                                        .\n",
    "                                                    </td>\n",
    "                                                </tr>\n",
    "                                                <tr>\n",
    "                                                    <td>\n",
    "                                                        <code>isdisjoint(iterable)</code>\n",
    "                                                    </td>\n",
    "                                                    <td>\n",
    "                                                        Devuelve \n",
    "                                                        <code>True</code>\n",
    "                                                         si dos conjuntos son disjuntos.\n",
    "                                                    </td>\n",
    "                                                </tr>\n",
    "                                                <tr>\n",
    "                                                    <td>\n",
    "                                                        <code>issubset(iterable)</code>\n",
    "                                                    </td>\n",
    "                                                    <td>\n",
    "                                                        Devuelve \n",
    "                                                        <code>True</code>\n",
    "                                                         si el conjunto es subconjunto del \n",
    "                                                        <code>iterable</code>\n",
    "                                                        .\n",
    "                                                    </td>\n",
    "                                                </tr>\n",
    "                                                <tr>\n",
    "                                                    <td>\n",
    "                                                        <code>issuperset(iterable)</code>\n",
    "                                                    </td>\n",
    "                                                    <td>\n",
    "                                                        Devuelve \n",
    "                                                        <code>True</code>\n",
    "                                                         si el conjunto es superconjunto del \n",
    "                                                        <code>iterable</code>\n",
    "                                                        .\n",
    "                                                    </td>\n",
    "                                                </tr>\n",
    "                                                <tr>\n",
    "                                                    <td>\n",
    "                                                        <code>pop()</code>\n",
    "                                                    </td>\n",
    "                                                    <td>Obtiene y elimina un elemento de forma aleatoria del conjunto.</td>\n",
    "                                                </tr>\n",
    "                                                <tr>\n",
    "                                                    <td>\n",
    "                                                        <code>remove(e)</code>\n",
    "                                                    </td>\n",
    "                                                    <td>Elimina el elemento del conjunto. Si no existe lanza un error.</td>\n",
    "                                                </tr>\n",
    "                                                <tr>\n",
    "                                                    <td>\n",
    "                                                        <code>symmetric_difference(iterable)</code>\n",
    "                                                    </td>\n",
    "                                                    <td>\n",
    "                                                        Devuelve la diferencia simétrica del conjunto con el \n",
    "                                                        <code>iterable</code>\n",
    "                                                         como un conjunto nuevo.\n",
    "                                                    </td>\n",
    "                                                </tr>\n",
    "                                                <tr>\n",
    "                                                    <td>\n",
    "                                                        <code>symmetric_difference_update(iterable)</code>\n",
    "                                                    </td>\n",
    "                                                    <td>\n",
    "                                                        Actualiza el conjunto tras realizar la diferencia simétrica con el \n",
    "                                                        <code>iterable</code>\n",
    "                                                        .\n",
    "                                                    </td>\n",
    "                                                </tr>\n",
    "                                                <tr>\n",
    "                                                    <td>\n",
    "                                                        <code>union(iterable)</code>\n",
    "                                                    </td>\n",
    "                                                    <td>\n",
    "                                                        Devuelve la unión del conjunto con el \n",
    "                                                        <code>iterable</code>\n",
    "                                                         como un conjunto nuevo.\n",
    "                                                    </td>\n",
    "                                                </tr>\n",
    "                                                <tr>\n",
    "                                                    <td>\n",
    "                                                        <code>update(iterable)</code>\n",
    "                                                    </td>\n",
    "                                                    <td>\n",
    "                                                        Actualiza el conjunto tras realizar la unión con el \n",
    "                                                        <code>iterable</code>\n",
    "                                                        .\n",
    "                                                    </td>\n",
    "                                                </tr>\n",
    "                                            </table>"
   ]
  },
  {
   "attachments": {},
   "cell_type": "markdown",
   "metadata": {},
   "source": [
    "# Práctica\n",
    "\n",
    "#### Cree dos conjuntos de estudiantes, uno para los que presentaron un examen y otro para los que enviaron un proyecto.\n",
    "\n"
   ]
  },
  {
   "cell_type": "code",
   "execution_count": null,
   "metadata": {},
   "outputs": [],
   "source": [
    "examen={'Benito','Maribel','Ximena','Doroteo','Flavia','Ignacio','Francisco','Lucia','Anahi','Juan','Pedro','Santiago','Lluvia'}\n",
    "\n",
    "proyecto={'Heriberto','Ximena','Flavio','Concepcion','Fernando','Francisco','Jesus','Pedro','Santiago','Sebastian','Coral'}"
   ]
  },
  {
   "cell_type": "code",
   "execution_count": null,
   "metadata": {},
   "outputs": [],
   "source": [
    "print(examen)\n",
    "print(proyecto)"
   ]
  },
  {
   "attachments": {},
   "cell_type": "markdown",
   "metadata": {},
   "source": [
    "#### Usando estos conjuntos responde las siguientes preguntas:\n",
    "\n",
    "* ##### ¿Qué estudiantes presentaron el examen y enviaron el proyecto?\n",
    "* ##### ¿Qué estudiantes sólo presentaron el examen?\n",
    "* ##### ¿Qué estudiantes sólo presentaron el proyecto?\n",
    "* ##### Haga una lista de todos los estudiantes que tomaron el examen y el proyecto (o ambos).\n",
    "* ##### Haga una lista de todos los estudiantes que tomaron el examen y el proyecto (pero no ambos)."
   ]
  }
 ],
 "metadata": {
  "kernelspec": {
   "display_name": "Python 3",
   "language": "python",
   "name": "python3"
  },
  "language_info": {
   "codemirror_mode": {
    "name": "ipython",
    "version": 3
   },
   "file_extension": ".py",
   "mimetype": "text/x-python",
   "name": "python",
   "nbconvert_exporter": "python",
   "pygments_lexer": "ipython3",
   "version": "3.11.1"
  },
  "orig_nbformat": 4,
  "vscode": {
   "interpreter": {
    "hash": "1606ed296fe21ab67c1d4b49f3f22d72247524c93f58d404930dbd4d15d6017c"
   }
  }
 },
 "nbformat": 4,
 "nbformat_minor": 2
}
