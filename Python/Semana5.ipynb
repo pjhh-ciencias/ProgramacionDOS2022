{
 "cells": [
  {
   "attachments": {},
   "cell_type": "markdown",
   "metadata": {},
   "source": [
    "# Funciones en Python"
   ]
  },
  {
   "attachments": {},
   "cell_type": "markdown",
   "metadata": {},
   "source": [
    "Las funciones en Python constituyen unidades lógicas de un programa y en general tienen un doble objetivo:\n",
    "\n",
    "* Dividir y organizar el código en partes más sencillas.\n",
    "\n",
    "* *Encapsular* el código que se repite a lo largo de un programa para ser reutilizado."
   ]
  },
  {
   "attachments": {},
   "cell_type": "markdown",
   "metadata": {},
   "source": [
    "Python cuenta con **funciones predefinidas**  que podemos utilizar directamente en nuestras programas. Por ejemplo, la función `len( )`, que obtiene el número de elementos de un objeto contenedor como una lista, una tupla, un diccionario o un conjunto. También hemos visto la función `print( )`.\n",
    "\n",
    "Sin embargo, es posible  definir  funciones propias para estructurar el código de manera que sea más legible y para reutilizar aquellas partes que se repiten a lo largo de una aplicación."
   ]
  },
  {
   "attachments": {},
   "cell_type": "markdown",
   "metadata": {},
   "source": [
    "En principio, un programa es una secuencia ordenada de instrucciones que se ejecutan una a continuación de la otra. Sin embargo, cuando se utilizan funciones, puedes agrupar parte de esas instrucciones como una unidad más pequeña que ejecuta dichas instrucciones y suele devolver un resultado."
   ]
  },
  {
   "attachments": {},
   "cell_type": "markdown",
   "metadata": {},
   "source": [
    "## Cómo definir una función en Python"
   ]
  },
  {
   "attachments": {},
   "cell_type": "markdown",
   "metadata": {},
   "source": [
    "Una función en Python tiene siempre la siguiente estructura:\n",
    "\n",
    "* Un **encabezado**: Empieza con la palabra reservada `def`. A continuación viene el *nombre* o *identificador* de la función que es el que se utiliza para invocarla. Después del nombre hay que incluir los paréntesis y una lista opcional de *parámetros* que  puede estar vacía o contener un sinnúmero de parámetros. En cualquier caso los paréntesis se requieren. Por último, la *cabecera* o *definición* de la función termina con dos puntos. \n",
    "\n",
    "Podemos inventarnos los nombres que deseemos para las funciones siempre y cuando no use una palabra reservada de Python. \n",
    "\n",
    "* Un **cuerpo**: Despues de los dos puntos se incluye el *cuerpo de la función* (con un  mayor identación, generalmente cuatro espacios) que consistente de una o más sentencias de Python, cada una de ellas con la misma sangría ($4$ espacios es el estándar de Python) a partir del margen izquierdo. \n",
    "\n",
    "\n",
    "* En último lugar y de manera opcional, se añade la instrucción con la palabra reservada `return` para devolver un resultado.\n",
    "\n"
   ]
  },
  {
   "attachments": {},
   "cell_type": "markdown",
   "metadata": {},
   "source": [
    "### Sintaxis"
   ]
  },
  {
   "attachments": {},
   "cell_type": "markdown",
   "metadata": {},
   "source": [
    "La sintaxis básica para definir una función en Python es la siguiente:\n",
    "\n",
    "<pre>\n",
    "            def nombre_de_la_funcion(parametro1, parametro2, ..., parametroN):\n",
    "                # cuerpo de la función\n",
    "                # aquí va el código que realiza la tarea de la función\n",
    "                # puede incluir instrucciones condicionales, bucles, etc.\n",
    "                return resultado  # opcional, si la función debe devolver un valor\n",
    "</pre>"
   ]
  },
  {
   "attachments": {},
   "cell_type": "markdown",
   "metadata": {},
   "source": [
    "**`def`**: es la palabra clave que indica que se está definiendo una función.\n",
    "\n",
    "**`nombre_de_la_funcion`**: es el nombre que se le da a la función. Este nombre debe seguir las mismas reglas que las variables, es decir, debe comenzar con una letra o un guión bajo, y puede contener letras, números y guiones bajos.\n",
    "\n",
    "**`(parametro1, parametro2, ...)`**: son los parámetros que aceptará la función. Los parámetros son opcionales, pero si se definen, se deben separar por comas. Cada parámetro debe tener un nombre que sigue las mismas reglas que las variables. Estos nombres se pueden usar dentro del cuerpo de la función para hacer referencia a los valores que se pasan a la función.\n",
    "\n",
    "**`return resultado`**: es una instrucción opcional que indica que la función debe devolver un valor. La palabra clave return se utiliza para devolver el valor y la variable resultado es el valor que se devuelve.\n",
    "\n",
    "Es importante tener en cuenta que el cuerpo de la función debe estar indentado. Por convención, se utiliza una indentación de cuatro espacios para cada nivel de indentación dentro de una función."
   ]
  },
  {
   "cell_type": "code",
   "execution_count": 3,
   "metadata": {},
   "outputs": [
    {
     "name": "stdout",
     "output_type": "stream",
     "text": [
      "\n",
      "Hola mundo!\n",
      "\n",
      "Pablo\n"
     ]
    }
   ],
   "source": [
    "def nueva_linea():\n",
    "    print ()  # la sentencia print sin argumentos muestra una nueva línea\n",
    "\n",
    "print('Hola mundo!')\n",
    "nueva_linea()\n",
    "print('Pablo')"
   ]
  },
  {
   "attachments": {},
   "cell_type": "markdown",
   "metadata": {},
   "source": [
    "#### **Observación:** \n",
    "Cuando la primera instrucción de una función es un string encerrado entre tres comillas simples `'''` o dobles `\"\"\"`, a dicha instrucción se le conoce como ***docstring***. El docstring es una cadena que se utiliza para documentar la función, es decir, indicar qué hace dicha función."
   ]
  },
  {
   "attachments": {},
   "cell_type": "markdown",
   "metadata": {},
   "source": [
    "## Cómo usar o llamar a una función"
   ]
  },
  {
   "attachments": {},
   "cell_type": "markdown",
   "metadata": {},
   "source": [
    "Definir una nueva función no hace que la función se ejecute. Para hacerlo se necesita una llamada a función. Las llamadas a función contienen el nombre de la función a ejecutar seguida por la lista de valores, llamados argumentos, que son asignados a los parámetros en la definición de función. Nuestra primera función tiene una lista vacía de parámetros, por lo que la llamada a función no tiene ningún argumento. Nótese, sin embargo, que en la llamada a función se requiere los paréntesis:"
   ]
  },
  {
   "cell_type": "code",
   "execution_count": 5,
   "metadata": {},
   "outputs": [
    {
     "name": "stdout",
     "output_type": "stream",
     "text": [
      "Primera Línea.\n",
      "\n",
      "Segunda Línea.\n"
     ]
    }
   ],
   "source": [
    "print (\"Primera Línea.\")\n",
    "nueva_linea()\n",
    "print (\"Segunda Línea.\")"
   ]
  },
  {
   "attachments": {},
   "cell_type": "markdown",
   "metadata": {},
   "source": [
    "¿Qué pasa si deseamos más espacio entre las líneas? "
   ]
  },
  {
   "attachments": {},
   "cell_type": "markdown",
   "metadata": {},
   "source": [
    "Vamos a crear una función que muestra en pantalla  el resultado de multiplicar un número por cinco:"
   ]
  },
  {
   "cell_type": "code",
   "execution_count": 1,
   "metadata": {},
   "outputs": [
    {
     "name": "stdout",
     "output_type": "stream",
     "text": [
      "Comienzo del programa\n",
      "7 * 5 = 35\n",
      "Siguiente\n",
      "113 * 5 = 565\n",
      "Fin\n"
     ]
    }
   ],
   "source": [
    "def multiplica_por_5(numero):\n",
    "    print(f'{numero} * 5 = {numero * 5}')\n",
    "\n",
    "print('Comienzo del programa')    \n",
    "multiplica_por_5(7)\n",
    "print('Siguiente')\n",
    "multiplica_por_5(113)\n",
    "print('Fin')"
   ]
  },
  {
   "attachments": {},
   "cell_type": "markdown",
   "metadata": {},
   "source": [
    "La función multiplica_por_5() define un parámetro llamado numero que es el que se utiliza para multiplicar por 5. El resultado del programa anterior sería el siguiente:"
   ]
  },
  {
   "attachments": {},
   "cell_type": "markdown",
   "metadata": {},
   "source": [
    "#### **Observación:**\n",
    "Diferencia entre parámetro y argumento. La función multiplica_por_5() define un parámetro llamado numero. Sin embargo, cuando desde el código se invoca a la función, por ejemplo, multiplica_por_5(7), se dice que se llama a multiplica por cinco con el argumento 7."
   ]
  },
  {
   "attachments": {},
   "cell_type": "markdown",
   "metadata": {},
   "source": [
    "#### **Observación:**\n",
    "\n",
    "Hasta este punto, puede que no parezca claro por qué hay que tomarse la molestia de crear todas estas funciones. De hecho, hay muchas razones, y el ejemplo que acabamos de ver muestra dos:\n",
    "\n",
    "Crear una nueva función le da a usted la oportunidad de nombrar un grupo de sentencias. Las funciones pueden simplificar un programa escondiendo un cálculo complejo detrás de un comando único que usa palabras en lenguaje natural, en lugar de un código arcano.\n",
    "Crear una nueva función puede recortar el tamaño de un programa eliminando el código repetitivo. Por ejemplo, una forma más corta de mostrar nueve líneas consecutivas consiste en llamar la función tres_líneas tres veces."
   ]
  },
  {
   "attachments": {},
   "cell_type": "markdown",
   "metadata": {},
   "source": [
    "## Sentencia `return`"
   ]
  },
  {
   "attachments": {},
   "cell_type": "markdown",
   "metadata": {},
   "source": [
    "Anteriormente te indicaba que cuando acaba la última instrucción de una función, el flujo del programa continúa por la instrucción que sigue a la llamada de dicha función. Hay una excepción: usar la sentencia return. return hace que termine la ejecución de la función cuando aparece y el programa continúa por su flujo normal.\n",
    "\n",
    "Además, return se puede utilizar para devolver un valor.\n",
    "\n",
    "La sentencia return es opcional, puede devolver, o no, un valor y es posible que aparezca más de una vez dentro de una misma función.\n",
    "\n",
    "A continuación te muestro varios ejemplos:"
   ]
  },
  {
   "attachments": {},
   "cell_type": "markdown",
   "metadata": {},
   "source": [
    "### `Return` que no devuelve ningún valor\n",
    "\n",
    "La siguiente función muestra por pantalla el cuadrado de un número solo si este es par:"
   ]
  },
  {
   "cell_type": "code",
   "execution_count": 4,
   "metadata": {},
   "outputs": [
    {
     "name": "stdout",
     "output_type": "stream",
     "text": [
      "64\n"
     ]
    }
   ],
   "source": [
    ">>> def cuadrado_de_par(numero):\n",
    "...     if not numero % 2 == 0:\n",
    "...         return\n",
    "...     else:\n",
    "...         print(numero ** 2)\n",
    "...     \n",
    ">>> cuadrado_de_par(8)\n",
    "64\n",
    ">>> cuadrado_de_par(3)"
   ]
  },
  {
   "attachments": {},
   "cell_type": "markdown",
   "metadata": {},
   "source": [
    "### Varios `return` en una misma función"
   ]
  },
  {
   "attachments": {},
   "cell_type": "markdown",
   "metadata": {},
   "source": [
    "La función `es_par( )` devuelve `True` si un número es par y `False` en caso contrario:"
   ]
  },
  {
   "cell_type": "code",
   "execution_count": 20,
   "metadata": {},
   "outputs": [
    {
     "data": {
      "text/plain": [
       "False"
      ]
     },
     "execution_count": 20,
     "metadata": {},
     "output_type": "execute_result"
    }
   ],
   "source": [
    "def es_par(numero):\n",
    "    if numero % 2 == 0:\n",
    "        return True\n",
    "    else:\n",
    "        return False\n",
    "\n",
    "#es_par(2)\n",
    "\n",
    "es_par(5)\n"
   ]
  },
  {
   "attachments": {},
   "cell_type": "markdown",
   "metadata": {},
   "source": [
    "### `Return` devuelve más de un valor"
   ]
  },
  {
   "attachments": {},
   "cell_type": "markdown",
   "metadata": {},
   "source": [
    "En Python, es posible devolver más de un valor con una sola sentencia return. Por defecto, con return se puede devolver una tupla de valores. Un ejemplo sería la siguiente función cuadrado_y_cubo() que devuelve el cuadrado y el cubo de un número:"
   ]
  },
  {
   "cell_type": "code",
   "execution_count": 22,
   "metadata": {},
   "outputs": [
    {
     "data": {
      "text/plain": [
       "16"
      ]
     },
     "execution_count": 22,
     "metadata": {},
     "output_type": "execute_result"
    }
   ],
   "source": [
    "def cuadrado_y_cubo(numero):\n",
    "    return numero ** 2, numero ** 3\n",
    "\n",
    "cuad, cubo = cuadrado_y_cubo(4)\n",
    "cuad\n",
    "#cubo\n"
   ]
  },
  {
   "attachments": {},
   "cell_type": "markdown",
   "metadata": {},
   "source": [
    "Sin embargo, se puede usar otra técnica devolviendo los diferentes resultados/valores en una lista. Por ejemplo, la función tabla_del() que se muestra a continuación hace esto:"
   ]
  },
  {
   "cell_type": "code",
   "execution_count": 8,
   "metadata": {},
   "outputs": [
    {
     "data": {
      "text/plain": [
       "[0, 3, 6, 9, 12, 15, 18, 21, 24, 27, 30]"
      ]
     },
     "execution_count": 8,
     "metadata": {},
     "output_type": "execute_result"
    }
   ],
   "source": [
    ">>> def tabla_del(numero):\n",
    "...     resultados = []\n",
    "...     for i in range(11):\n",
    "...         resultados.append(numero * i)\n",
    "...     return resultados\n",
    "... \n",
    ">>> res = tabla_del(3)\n",
    ">>> res\n",
    "[0, 3, 6, 9, 12, 15, 18, 21, 24, 27, 30]"
   ]
  },
  {
   "attachments": {},
   "cell_type": "markdown",
   "metadata": {},
   "source": [
    "#### Observación:\n",
    "\n",
    "En Python una función siempre devuelve un valor. Python, internamente, devuelve por defecto el valor `None` cuando en una función no aparece la sentencia return o esta no devuelve nada."
   ]
  },
  {
   "cell_type": "code",
   "execution_count": 23,
   "metadata": {},
   "outputs": [
    {
     "name": "stdout",
     "output_type": "stream",
     "text": [
      "Hola Pablo\n",
      "None\n"
     ]
    }
   ],
   "source": [
    "def saludo(nombre):\n",
    "    print(f'Hola {nombre}')\n",
    "\n",
    "print(saludo('Pablo'))\n"
   ]
  },
  {
   "attachments": {},
   "cell_type": "markdown",
   "metadata": {},
   "source": [
    "Como puedes ver en el ejemplo anterior, el print que envuelve a la función saludo() muestra None."
   ]
  },
  {
   "attachments": {},
   "cell_type": "markdown",
   "metadata": {},
   "source": [
    "## Parametros vs argumentos de una función en Python "
   ]
  },
  {
   "attachments": {},
   "cell_type": "markdown",
   "metadata": {},
   "source": [
    "En Python, los términos **parámetros** y **argumentos** se refieren a dos conceptos diferentes relacionados con las funciones.\n",
    "\n",
    "* Un **parámetro** es una variable que se define en la definición de la función y se utiliza para recibir un valor específico cuando se llama a la función. Los parámetros se definen en la línea de encabezado de la función y se colocan entre paréntesis. \n",
    "\n",
    "Por ejemplo:"
   ]
  },
  {
   "cell_type": "code",
   "execution_count": null,
   "metadata": {},
   "outputs": [],
   "source": []
  },
  {
   "attachments": {},
   "cell_type": "markdown",
   "metadata": {},
   "source": [
    "## Parámetros de una  función en Python"
   ]
  },
  {
   "attachments": {},
   "cell_type": "markdown",
   "metadata": {},
   "source": [
    "Una función puede definir, **opcionalmente**, una secuencia de parámetros con los que invocarla. \n",
    "\n",
    "* ¿Cómo se asignan en Python los valores a los parámetros? \n",
    "* ¿Se puede modificar el valor de una variable dentro de una función?\n",
    "\n",
    "Es importante recordar  los conceptos de **paso por valor** y **paso por referencia**.\n",
    "\n",
    "* **Paso por valor:** Un lenguaje de programación que utiliza paso por valor de los argumentos, lo que realmente hace es copiar el valor de las variables en los respectivos parámetros. Cualquier modificación del valor del parámetro, no afecta a la variable externa correspondiente.\n",
    "\n",
    "* **Paso por referencia:** Un lenguaje de programación que utiliza paso por referencia, lo que realmente hace es copiar en los parámetros la dirección de memoria de las variables que se usan como argumento. Esto implica que realmente hagan referencia al mismo objeto/elemento y cualquier modificación del valor en el parámetro afectará a la variable externa correspondiente."
   ]
  },
  {
   "attachments": {},
   "cell_type": "markdown",
   "metadata": {},
   "source": [
    "#### **Observación:**\n",
    "\n",
    "Muchos lenguajes de programación usan a la vez paso por valor y por referencia en función del tipo de la variable. Por ejemplo, paso por valor para los tipos simples: entero, float, … y paso por referencia para los objetos."
   ]
  },
  {
   "attachments": {},
   "cell_type": "markdown",
   "metadata": {},
   "source": [
    "Sin embargo, en Python todo es un objeto. Entonces, ¿cómo se pasan los argumentos en Python, por valor o por referencia? Lo que ocurre en Python realmente es que se pasa por valor la referencia del objeto  ¿Qué implicaciones tiene esto? Básicamente que si el tipo que se pasa como argumento es inmutable, cualquier modificación en el valor del parámetro no afectará a la variable externa pero, si es mutable (como una lista o diccionario), sí se verá afectado por las modificaciones. "
   ]
  },
  {
   "attachments": {},
   "cell_type": "markdown",
   "metadata": {},
   "source": [
    "En Python, una función puede tener varios tipos de parámetros:"
   ]
  },
  {
   "attachments": {},
   "cell_type": "markdown",
   "metadata": {},
   "source": [
    "### Parámetros posicionales"
   ]
  },
  {
   "attachments": {},
   "cell_type": "markdown",
   "metadata": {},
   "source": [
    "Son los parámetros más comunes en una función. Estos parámetros son especificados en el orden en que deben ser pasados a la función y son obligatorios. Se pueden pasar cero o más argumentos para estos parámetros."
   ]
  },
  {
   "cell_type": "code",
   "execution_count": 27,
   "metadata": {},
   "outputs": [
    {
     "name": "stdout",
     "output_type": "stream",
     "text": [
      "7\n"
     ]
    }
   ],
   "source": [
    "def sumar(a, b):\n",
    "    return a + b\n",
    "\n",
    "# Invocar la función\n",
    "resultado = sumar(3, 4)\n",
    "print(resultado) # Output: 7\n"
   ]
  },
  {
   "attachments": {},
   "cell_type": "markdown",
   "metadata": {},
   "source": [
    "En el siguiente ejemplo, la función `es_mayor` devuelve `True` si el parámetro $x$ es mayor que el parámetro $y$:"
   ]
  },
  {
   "cell_type": "code",
   "execution_count": 11,
   "metadata": {},
   "outputs": [],
   "source": [
    "def es_mayor(x, y):\n",
    "    return x > y"
   ]
  },
  {
   "attachments": {},
   "cell_type": "markdown",
   "metadata": {},
   "source": [
    "Al invocar a la función, lo haremos del siguiente modo:"
   ]
  },
  {
   "cell_type": "code",
   "execution_count": 24,
   "metadata": {},
   "outputs": [
    {
     "data": {
      "text/plain": [
       "True"
      ]
     },
     "execution_count": 24,
     "metadata": {},
     "output_type": "execute_result"
    }
   ],
   "source": [
    "es_mayor(5,3)"
   ]
  },
  {
   "attachments": {},
   "cell_type": "markdown",
   "metadata": {},
   "source": [
    "Sin embargo, **si al llamar a la función no pasamos todos los argumentos, el intérprete lanzará una excepción:**"
   ]
  },
  {
   "cell_type": "code",
   "execution_count": 13,
   "metadata": {},
   "outputs": [
    {
     "ename": "TypeError",
     "evalue": "es_mayor() missing 1 required positional argument: 'y'",
     "output_type": "error",
     "traceback": [
      "\u001b[1;31m---------------------------------------------------------------------------\u001b[0m",
      "\u001b[1;31mTypeError\u001b[0m                                 Traceback (most recent call last)",
      "Cell \u001b[1;32mIn [13], line 1\u001b[0m\n\u001b[1;32m----> 1\u001b[0m es_mayor(\u001b[39m5\u001b[39;49m)\n",
      "\u001b[1;31mTypeError\u001b[0m: es_mayor() missing 1 required positional argument: 'y'"
     ]
    }
   ],
   "source": [
    "es_mayor(5)"
   ]
  },
  {
   "attachments": {},
   "cell_type": "markdown",
   "metadata": {},
   "source": [
    "Lo que nos está indicando es que el argumento posicional $y$ es obligatorio y no se ha especificado."
   ]
  },
  {
   "cell_type": "code",
   "execution_count": 26,
   "metadata": {},
   "outputs": [
    {
     "name": "stdout",
     "output_type": "stream",
     "text": [
      "7\n"
     ]
    }
   ],
   "source": []
  },
  {
   "attachments": {},
   "cell_type": "markdown",
   "metadata": {},
   "source": [
    "#### **Observación:**\n",
    "Antes de seguir es importante que tengas en cuenta que, por defecto, los valores de los argumentos se asignan a los parámetros en el mismo orden en el que los pasas al llamar a la función."
   ]
  },
  {
   "attachments": {},
   "cell_type": "markdown",
   "metadata": {},
   "source": [
    "### Parámetros con valor por defecto (opcionales)"
   ]
  },
  {
   "attachments": {},
   "cell_type": "markdown",
   "metadata": {},
   "source": [
    "En algunas situaciones, es posible que queramos que un parámetro tenga un valor por defecto en caso de que no se especifique al llamar la función. En este caso, podemos especificar un valor por defecto en la definición de la función."
   ]
  },
  {
   "cell_type": "code",
   "execution_count": 28,
   "metadata": {},
   "outputs": [
    {
     "name": "stdout",
     "output_type": "stream",
     "text": [
      "Hola Juan\n",
      "Buenos días Pedro\n"
     ]
    }
   ],
   "source": [
    "def saludar(nombre, saludo=\"Hola\"):\n",
    "    print(saludo, nombre)\n",
    "\n",
    "# Invocar la función\n",
    "saludar(\"Juan\") # Output: Hola Juan\n",
    "saludar(\"Pedro\", \"Buenos días\") # Output: Buenos días Pedro\n"
   ]
  },
  {
   "attachments": {},
   "cell_type": "markdown",
   "metadata": {},
   "source": [
    "En este ejemplo, el parámetro saludo tiene un valor por defecto de \"Hola\". Si no se proporciona ningún valor para saludo, se utilizará este valor por defecto."
   ]
  },
  {
   "attachments": {},
   "cell_type": "markdown",
   "metadata": {},
   "source": [
    "Una función puede establecer por default  el valor de los argumentos, en caso de que el usuario no los especifique, evitando que se genere un error por cantidad de argumentos incorrectos"
   ]
  },
  {
   "attachments": {},
   "cell_type": "markdown",
   "metadata": {},
   "source": [
    "Una función Python se pueden indicar una serie de parámetros opcionales. Son parámetros que se indican con un valor por defecto y si no se pasan al invocar a la función entonces toman este valor."
   ]
  },
  {
   "cell_type": "code",
   "execution_count": 15,
   "metadata": {},
   "outputs": [
    {
     "data": {
      "text/plain": [
       "210.0"
      ]
     },
     "execution_count": 15,
     "metadata": {},
     "output_type": "execute_result"
    }
   ],
   "source": [
    "def calculo_impuestos(valor, tasa = 0.21):\n",
    "    return valor * tasa\n",
    "    \n",
    "\n",
    "calculo_impuestos(1000)\n",
    "#calculo_impuestos(1100)\n"
   ]
  },
  {
   "cell_type": "code",
   "execution_count": 25,
   "metadata": {},
   "outputs": [
    {
     "data": {
      "text/plain": [
       "157.5"
      ]
     },
     "execution_count": 25,
     "metadata": {},
     "output_type": "execute_result"
    }
   ],
   "source": [
    "def calculo_impuestos(valor, tasa = 0.21):\n",
    "    return valor * tasa\n",
    "    \n",
    "calculo_impuestos(1500, 0.105)"
   ]
  },
  {
   "attachments": {},
   "cell_type": "markdown",
   "metadata": {},
   "source": [
    "#### **Observación:**\n",
    "\n",
    "Los argumentos opcionales solo pueden ir al final ya que se acomodan de izquierda a derecha."
   ]
  },
  {
   "attachments": {},
   "cell_type": "markdown",
   "metadata": {},
   "source": [
    "### Parámetros de longitud variable"
   ]
  },
  {
   "attachments": {},
   "cell_type": "markdown",
   "metadata": {},
   "source": [
    "Consideremos la siguiente función que  toma dos parámetros y devuelve como resultado la suma de los mismos:"
   ]
  },
  {
   "cell_type": "code",
   "execution_count": 46,
   "metadata": {},
   "outputs": [
    {
     "data": {
      "text/plain": [
       "5"
      ]
     },
     "execution_count": 46,
     "metadata": {},
     "output_type": "execute_result"
    }
   ],
   "source": [
    "def sum(x, y):\n",
    "    return x + y\n",
    "\n",
    "sum(2,3)"
   ]
  },
  {
   "attachments": {},
   "cell_type": "markdown",
   "metadata": {},
   "source": [
    " Llamamos a la función con los valores $x=2$ e $y=3$, el resultado devuelto será $5$. Pero, ¿qué ocurre si posteriormente decidimos o nos damos cuenta de que necesitamos sumar un valor más?"
   ]
  },
  {
   "cell_type": "code",
   "execution_count": 47,
   "metadata": {},
   "outputs": [
    {
     "ename": "TypeError",
     "evalue": "sum() takes 2 positional arguments but 3 were given",
     "output_type": "error",
     "traceback": [
      "\u001b[1;31m---------------------------------------------------------------------------\u001b[0m",
      "\u001b[1;31mTypeError\u001b[0m                                 Traceback (most recent call last)",
      "Cell \u001b[1;32mIn [47], line 1\u001b[0m\n\u001b[1;32m----> 1\u001b[0m \u001b[39msum\u001b[39;49m(\u001b[39m2\u001b[39;49m, \u001b[39m3\u001b[39;49m, \u001b[39m4\u001b[39;49m)\n",
      "\u001b[1;31mTypeError\u001b[0m: sum() takes 2 positional arguments but 3 were given"
     ]
    }
   ],
   "source": [
    "sum(2, 3, 4)"
   ]
  },
  {
   "attachments": {},
   "cell_type": "markdown",
   "metadata": {},
   "source": [
    "La mejor solución, la más elegante y la más al estilo Python es hacer uso de `*args` en la definición de esta función. De este modo, podemos pasar tantos argumentos como queramos. Pero antes de esto, tenemos que reimplementar nuestra función `sum`:"
   ]
  },
  {
   "cell_type": "code",
   "execution_count": null,
   "metadata": {},
   "outputs": [],
   "source": [
    "def sum(*args):\n",
    "    value = 0\n",
    "    for n in args:\n",
    "        value += n\n",
    "    return value"
   ]
  },
  {
   "cell_type": "code",
   "execution_count": null,
   "metadata": {},
   "outputs": [
    {
     "data": {
      "text/plain": [
       "0"
      ]
     },
     "metadata": {},
     "output_type": "display_data"
    }
   ],
   "source": [
    "sum()\n",
    "\n",
    "#sum(2, 3)\n",
    "\n",
    "#sum(2, 3, 4)\n",
    "\n",
    "#sum(2, 3, 4, 6, 9, 21)\n"
   ]
  },
  {
   "attachments": {},
   "cell_type": "markdown",
   "metadata": {},
   "source": [
    "Los parámetros de longitud variable en Python permiten a una función aceptar un número variable de argumentos. \n",
    "Python  permite definir dos tipos de parámetros de longitud variable: **`*args`** y **`**kwargs`**:"
   ]
  },
  {
   "attachments": {},
   "cell_type": "markdown",
   "metadata": {},
   "source": [
    "* **`*args`**: permite que una función acepte un número variable de argumentos posicionales. El nombre **`*args`** es una convención, pero el asterisco es lo que indica a Python que se espera un número variable de argumentos. Los argumentos se empaquetan en una tupla.  Por ejemplo"
   ]
  },
  {
   "cell_type": "code",
   "execution_count": 45,
   "metadata": {},
   "outputs": [
    {
     "name": "stdout",
     "output_type": "stream",
     "text": [
      "1\n",
      "2\n",
      "3\n"
     ]
    }
   ],
   "source": [
    "def funcion_con_args(*args):\n",
    "    for arg in args:\n",
    "        print(arg)\n",
    "    \n",
    "funcion_con_args(1, 2, 3)"
   ]
  },
  {
   "cell_type": "code",
   "execution_count": 44,
   "metadata": {},
   "outputs": [
    {
     "name": "stdout",
     "output_type": "stream",
     "text": [
      "Juan\n",
      "Pedro\n",
      "María\n"
     ]
    }
   ],
   "source": [
    "def imprimir_nombres(*nombres):\n",
    "    for nombre in nombres:\n",
    "        print(nombre)\n",
    "\n",
    "# Invocar la función\n",
    "imprimir_nombres(\"Juan\", \"Pedro\", \"María\") # Output: Juan Pedro María"
   ]
  },
  {
   "attachments": {},
   "cell_type": "markdown",
   "metadata": {},
   "source": [
    "El nombre `args` se puede cambiar, pero por convención se utiliza este nombre."
   ]
  },
  {
   "attachments": {},
   "cell_type": "markdown",
   "metadata": {},
   "source": [
    "* **`**kwargs`**:  Parámetros variables clave-valor (keyword arguments) `**kwargs`  pe rmite que una función acepte un número variable de argumentos con nombre. El nombre **`**kwargs`** también es una convención, pero los dos asteriscos son lo que indica a Python que se espera un número variable de argumentos con nombre. Los argumentos se empaquetan en un diccionario. Por ejemplo:"
   ]
  },
  {
   "cell_type": "code",
   "execution_count": 50,
   "metadata": {},
   "outputs": [
    {
     "name": "stdout",
     "output_type": "stream",
     "text": [
      "a = 1\n",
      "b = 2\n",
      "c = 3\n"
     ]
    }
   ],
   "source": [
    "def funcion_con_kwargs(**kwargs):\n",
    "    for key, value in kwargs.items():\n",
    "        print(f\"{key} = {value}\")\n",
    "    \n",
    "funcion_con_kwargs(a=1, b=2, c=3)"
   ]
  },
  {
   "cell_type": "code",
   "execution_count": 49,
   "metadata": {},
   "outputs": [
    {
     "name": "stdout",
     "output_type": "stream",
     "text": [
      "Juan tiene 30 años\n",
      "Pedro tiene 35 años\n",
      "María tiene 25 años\n"
     ]
    }
   ],
   "source": [
    "def imprimir_edades(**edades):\n",
    "    for nombre, edad in edades.items():\n",
    "        print(nombre, \"tiene\", edad, \"años\")\n",
    "\n",
    "# Invocar la función\n",
    "imprimir_edades(Juan=30, Pedro=35, María=25) # Output: Juan tiene 30 años, Pedro tiene 35 años, María tiene 25 años"
   ]
  },
  {
   "cell_type": "markdown",
   "metadata": {},
   "source": [
    "Las principales diferencias con respecto *args son:\n",
    "\n",
    "* Lo que realmente indica que el parámetro es de este tipo es el símbolo ‘**’, el nombre kwargs se usa por convención.\n",
    "\n",
    "* El parámetro recibe los argumentos como un diccionario.\n",
    "\n",
    "* Al tratarse de un diccionario, el orden de los parámetros no importa. Los parámetros se asocian en función de las claves del diccionario."
   ]
  },
  {
   "attachments": {},
   "cell_type": "markdown",
   "metadata": {},
   "source": [
    "El nombre `kwargs` se puede cambiar, pero por convención se utiliza este nombre."
   ]
  },
  {
   "attachments": {},
   "cell_type": "markdown",
   "metadata": {},
   "source": [
    "Estos parámetros de longitud variable son muy útiles cuando se quiere crear funciones que sean flexibles en cuanto a la cantidad y tipo de argumentos que pueden aceptar."
   ]
  },
  {
   "attachments": {},
   "cell_type": "markdown",
   "metadata": {},
   "source": [
    "### Parámetros de palabra clave"
   ]
  },
  {
   "attachments": {},
   "cell_type": "markdown",
   "metadata": {},
   "source": [
    "Los **parámetros de palabra clave** son argumentos que se deben pasar con su nombre correspondiente. Estos parámetros no tienen una posición fija en la lista de argumentos y son opcionales. Los parámetros de palabra clave se definen en la definición de la función utilizando la sintaxis `nombre_parametro=valor_por_defecto`."
   ]
  },
  {
   "cell_type": "code",
   "execution_count": 51,
   "metadata": {},
   "outputs": [
    {
     "name": "stdout",
     "output_type": "stream",
     "text": [
      "12\n"
     ]
    }
   ],
   "source": [
    "def sumar(a, b, c=0):\n",
    "    return a + b + c\n",
    "\n",
    "# Invocar la función\n",
    "resultado = sumar(a=3, b=4, c=5)\n",
    "print(resultado) # Output: 12"
   ]
  }
 ],
 "metadata": {
  "kernelspec": {
   "display_name": "Python 3",
   "language": "python",
   "name": "python3"
  },
  "language_info": {
   "codemirror_mode": {
    "name": "ipython",
    "version": 3
   },
   "file_extension": ".py",
   "mimetype": "text/x-python",
   "name": "python",
   "nbconvert_exporter": "python",
   "pygments_lexer": "ipython3",
   "version": "3.11.1"
  },
  "orig_nbformat": 4,
  "vscode": {
   "interpreter": {
    "hash": "1606ed296fe21ab67c1d4b49f3f22d72247524c93f58d404930dbd4d15d6017c"
   }
  }
 },
 "nbformat": 4,
 "nbformat_minor": 2
}
