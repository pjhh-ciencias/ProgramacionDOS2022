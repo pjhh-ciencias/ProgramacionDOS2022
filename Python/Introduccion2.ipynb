{
 "cells": [
  {
   "attachments": {},
   "cell_type": "markdown",
   "metadata": {},
   "source": [
    "# Operadores, expresiones y sentencias en Python"
   ]
  },
  {
   "attachments": {},
   "cell_type": "markdown",
   "metadata": {},
   "source": [
    "Tenemos que diferenciar entre *operador*, *expresión* y *sentencia*, ya que son las formas básicas que componen la estructura de cualquier programa."
   ]
  },
  {
   "attachments": {},
   "cell_type": "markdown",
   "metadata": {},
   "source": [
    "## Operador\n",
    "\n",
    "En Python, los **operadores** son simbolos especiales que actuan sobre una, dos o más variables y/o literales para  realizar cálculos y comparaciones en expresiones. Algunos de los operadores más comunes en Python son:\n",
    "\n",
    "* **Aritméticos**:  `+`,  `-`,  `*` , `/` , `%` (*módulo*), `//` (*división entera*), `**` (potencia)\n",
    "\n",
    "* **Asignación**: `=`, `+=`, `-=`, `*=`, `/=`, `%=`, `//=`, `**=`\n",
    "\n",
    "* **Comparación**: `==`, `!=`, `<`,` >`,` <=`,` >=`\n",
    "\n",
    "* **Lógicos**: `and`, `or`, `not`\n",
    "\n",
    "* **Pertenencia**: `in`, `not in`\n",
    "\n",
    "* **Identidad**: `is`, `is not`\n",
    "\n",
    "* **Membresía**: `in`, `not in`\n",
    "\n",
    "Los operadores se utilizan para crear *expresiones* que se evalúan a valores booleanos, números, cadenas de texto, etc. Por ejemplo, `2 + 3` es una expresión que utiliza el operador de *suma* `+` para calcular el valor `5`."
   ]
  },
  {
   "attachments": {},
   "cell_type": "markdown",
   "metadata": {},
   "source": [
    "## Expresión"
   ]
  },
  {
   "attachments": {},
   "cell_type": "markdown",
   "metadata": {},
   "source": [
    "En Python, una **expresión** es una secuencia de valores, variables y operadores que produce un resultado cuando se evalúa. Las expresiones pueden ser muy simples, como un número o una variable, o más complejas, combinando varios valores y operadores. Los siguientes son ejemplos de expresiones en Python:"
   ]
  },
  {
   "cell_type": "code",
   "execution_count": 5,
   "metadata": {},
   "outputs": [
    {
     "data": {
      "text/plain": [
       "5"
      ]
     },
     "execution_count": 5,
     "metadata": {},
     "output_type": "execute_result"
    }
   ],
   "source": [
    "2 + 3 #suma de dos números"
   ]
  },
  {
   "cell_type": "code",
   "execution_count": 6,
   "metadata": {},
   "outputs": [
    {
     "data": {
      "text/plain": [
       "'hola mundo'"
      ]
     },
     "execution_count": 6,
     "metadata": {},
     "output_type": "execute_result"
    }
   ],
   "source": [
    "\"hola\" + \" mundo\" # concatenación de dos cadenas de texto"
   ]
  },
  {
   "cell_type": "code",
   "execution_count": 7,
   "metadata": {},
   "outputs": [
    {
     "data": {
      "text/plain": [
       "3.3333333333333335"
      ]
     },
     "execution_count": 7,
     "metadata": {},
     "output_type": "execute_result"
    }
   ],
   "source": [
    "10 / 3 # división de dos números"
   ]
  },
  {
   "cell_type": "code",
   "execution_count": 9,
   "metadata": {},
   "outputs": [
    {
     "data": {
      "text/plain": [
       "4"
      ]
     },
     "execution_count": 9,
     "metadata": {},
     "output_type": "execute_result"
    }
   ],
   "source": [
    "len(\"hola\")  # llamada a una función que devuelve el número de caracteres en una cadena"
   ]
  },
  {
   "attachments": {},
   "cell_type": "markdown",
   "metadata": {},
   "source": [
    "En Python, las expresiones se utilizan en muchos lugares, como en *asignaciones de variables*, en *argumentos de funciones*, en cláusulas de condicionales, etc."
   ]
  },
  {
   "attachments": {},
   "cell_type": "markdown",
   "metadata": {},
   "source": [
    "## Sentencia"
   ]
  },
  {
   "attachments": {},
   "cell_type": "markdown",
   "metadata": {},
   "source": [
    "En Python, una **sentencia** o **declaración** es una instrucción que representa una acción o una operación que se debe realizar. Una sentencia puede estar formada por una o varias *expresiones*, aunque no siempre es así.\n",
    "\n",
    "Algunos de los tipos más comunes de sentencias en Python son:\n",
    "\n",
    "* **Asignación**: asigna un valor a una variable: `x = 10`\n",
    "\n",
    "* **Condicionales**: ejecutan un bloque de código solo si se cumple una condición: `if x > 0: print(\"x es positivo\")`\n",
    "\n",
    "* **Bucles**: ejecutan un bloque de código repetidas veces: `for i in range(10): print(i)`\n",
    "\n",
    "* **Funciones**: definen un bloque de código que se puede ejecutar varias veces: `def sumar(a, b): return a + b`\n",
    "\n",
    "* **Importaciones**: importan módulos o paquetes externos para usarlos en el código:` import math`\n",
    "\n",
    "* **Clases**: definen un tipo de objeto que se puede crear y utilizar en el código: `class Auto: pass`\n",
    "\n",
    "Las sentencias en Python son ejecutadas secuencialmente, de arriba a abajo, en el orden en que aparecen en el código. Cada sentencia debe terminar con un *salto de línea* (`\\n`) o con un *punto y coma* (`;`), aunque en Python generalmente se utiliza un salto de línea para separar sentencias.\n",
    "\n",
    "En definitiva, las sentencias son las instrucciones que componen nuestro programa y determinan su comportamiento.\n"
   ]
  },
  {
   "attachments": {},
   "cell_type": "markdown",
   "metadata": {},
   "source": [
    "### Sentencias de más de una línea en Python\n"
   ]
  },
  {
   "attachments": {},
   "cell_type": "markdown",
   "metadata": {},
   "source": [
    "En Python usualmente, las sentencias ocupan una sola línea. Por ejemplo:"
   ]
  },
  {
   "cell_type": "code",
   "execution_count": 11,
   "metadata": {},
   "outputs": [],
   "source": [
    "a=2+3"
   ]
  },
  {
   "attachments": {},
   "cell_type": "markdown",
   "metadata": {},
   "source": [
    "Sin embargo, algunas  sentencias  son muy largas y pueden  ocupar más de una línea. Para dividir una sentencia en varias líneas se utiliza el carácter `\\`. Por ejemplo:"
   ]
  },
  {
   "cell_type": "code",
   "execution_count": 12,
   "metadata": {},
   "outputs": [],
   "source": [
    "a = 2 + 3 + 5 + \\\n",
    "    7 + 9 + 4 + \\\n",
    "    6"
   ]
  },
  {
   "attachments": {},
   "cell_type": "markdown",
   "metadata": {},
   "source": [
    "Además, de la separación explícita (la que se realiza con el carácter `\\`), en Python la continuación de línea es implícita siempre y cuando la expresión vaya dentro de los caracteres `( )`, `[ ]` y `{ }`."
   ]
  },
  {
   "attachments": {},
   "cell_type": "markdown",
   "metadata": {},
   "source": [
    "Por ejemplo, podemos inicializar una lista del siguiente modo:"
   ]
  },
  {
   "cell_type": "code",
   "execution_count": 13,
   "metadata": {},
   "outputs": [],
   "source": [
    "a = [1, 2, 7,\n",
    "     3, 8, 4,\n",
    "     9]"
   ]
  },
  {
   "attachments": {},
   "cell_type": "markdown",
   "metadata": {},
   "source": [
    "# Bloques de código (Identación)"
   ]
  },
  {
   "attachments": {},
   "cell_type": "markdown",
   "metadata": {},
   "source": [
    "En Python, un **bloque de código** es un conjunto de instrucciones que se ejecutan juntas como una unidad. Los bloques de código se delimitan mediante indentación y generalmente se utilizan para agrupar instrucciones dentro de funciones, bucles, condicionales, entre otros. Por ejemplo:"
   ]
  },
  {
   "cell_type": "code",
   "execution_count": 15,
   "metadata": {},
   "outputs": [
    {
     "name": "stdout",
     "output_type": "stream",
     "text": [
      "x is positive\n"
     ]
    }
   ],
   "source": [
    "x=2\n",
    "if x > 0:\n",
    "    print(\"x is positive\")\n",
    "    x = x - 1"
   ]
  },
  {
   "attachments": {},
   "cell_type": "markdown",
   "metadata": {},
   "source": [
    "En este ejemplo, el bloque de código dentro del `if` está delimitado por la indentación de las líneas `print` y `x = x - 1`. Estas líneas se ejecutarán juntas si la condición `x > 0` se cumple."
   ]
  },
  {
   "cell_type": "markdown",
   "metadata": {},
   "source": [
    "Observa que no fue necesario indicar el fin de la instrucción `If`, ni el uso de corchetes como en otros lenguajes de programación. Por ejemplo lo siguiente nos genera un error de sintaxis. "
   ]
  },
  {
   "cell_type": "code",
   "execution_count": null,
   "metadata": {},
   "outputs": [
    {
     "ename": "IndentationError",
     "evalue": "expected an indented block after 'if' statement on line 1 (1246467150.py, line 2)",
     "output_type": "error",
     "traceback": [
      "\u001b[1;36m  Cell \u001b[1;32mIn[2], line 2\u001b[1;36m\u001b[0m\n",
      "\n",
      "\u001b[1;33m    print(\"True\")\u001b[0m\n",
      "\n",
      "\u001b[1;37m    ^\u001b[0m\n",
      "\n",
      "\u001b[1;31mIndentationError\u001b[0m\u001b[1;31m:\u001b[0m expected an indented block after 'if' statement on line 1\n"
     ]
    }
   ],
   "source": [
    "if True:\n",
    "print(\"True\")\n",
    "else:\n",
    "print(\"False\")"
   ]
  },
  {
   "cell_type": "markdown",
   "metadata": {},
   "source": [
    "El código en Python debe estar perfectamente identado o de lo contrario no se ejecutará o se ejecutará en una forma no deseada."
   ]
  },
  {
   "cell_type": "code",
   "execution_count": null,
   "metadata": {},
   "outputs": [
    {
     "name": "stdout",
     "output_type": "stream",
     "text": [
      "0\n",
      "1\n",
      "2\n"
     ]
    }
   ],
   "source": [
    "if True:\n",
    "    print(\"0\")\n",
    "print(\"1\")\n",
    "print(\"2\")"
   ]
  },
  {
   "attachments": {},
   "cell_type": "markdown",
   "metadata": {},
   "source": [
    "El sangrado o indentación consiste en mover un bloque de texto hacia la derecha insertando espacios o tabuladores al principio de la línea, dejando un margen a la izquierda. Un bloque comienza con un nuevo sangrado y acaba con la primera línea cuyo sangrado sea menor. De nuevo, la guía de estilo de Python recomienda usar los espacios en lugar de las tabulaciones para realizar el sangrado. Yo suelo utilizar 4 espacios."
   ]
  },
  {
   "cell_type": "markdown",
   "metadata": {},
   "source": [
    "# Comentarios o referencias\n",
    "\n",
    "Así es como se ven los comentarios en Python:"
   ]
  },
  {
   "cell_type": "code",
   "execution_count": null,
   "metadata": {},
   "outputs": [
    {
     "name": "stdout",
     "output_type": "stream",
     "text": [
      "¡Hola mundo!\n"
     ]
    }
   ],
   "source": [
    "print(\"¡Hola mundo!\") # Comentando una instrucción."
   ]
  },
  {
   "cell_type": "markdown",
   "metadata": {},
   "source": [
    "Los comentarios en Python comienzan con `#` y lo que le sigue es el comentario en sí. A diferencia de la mayoría de los lenguajes de programación, Python no admite comentarios de varias líneas. Sin embargo, técnicamente nada te impide hacer esto:#"
   ]
  },
  {
   "cell_type": "code",
   "execution_count": null,
   "metadata": {},
   "outputs": [
    {
     "name": "stdout",
     "output_type": "stream",
     "text": [
      "¡Hola mundo!\n"
     ]
    }
   ],
   "source": [
    "# Comentario 1\n",
    "# Comentario 2\n",
    "# Como puede ver, en Python puedes agregar comentarios  de varias lineas utilizando el simbolo: #  \n",
    "\n",
    "print(\"¡Hola mundo!\") "
   ]
  },
  {
   "attachments": {},
   "cell_type": "markdown",
   "metadata": {},
   "source": [
    "## Comentarios de varias líneas"
   ]
  },
  {
   "attachments": {},
   "cell_type": "markdown",
   "metadata": {},
   "source": [
    "Para escribir comentarios que ocupan varias líneas, simplemente escribe cada una de las líneas anteponiendo el carácter `#`:"
   ]
  },
  {
   "cell_type": "code",
   "execution_count": null,
   "metadata": {},
   "outputs": [],
   "source": [
    "# Primera linea de  comentario \n",
    "# Segunda  linea de  comentario "
   ]
  },
  {
   "attachments": {},
   "cell_type": "markdown",
   "metadata": {},
   "source": [
    "También puedes escribir un comentario en varias líneas si lo encierras entre tres comillas simples `'''` o dobles `\"\"\"`"
   ]
  },
  {
   "cell_type": "code",
   "execution_count": 16,
   "metadata": {},
   "outputs": [
    {
     "name": "stdout",
     "output_type": "stream",
     "text": [
      "2\n"
     ]
    }
   ],
   "source": [
    "a = 2\n",
    "'''Este comentario\n",
    "también ocupa 2 líneas'''\n",
    "print(a)"
   ]
  },
  {
   "attachments": {},
   "cell_type": "markdown",
   "metadata": {},
   "source": [
    "# Docstrings"
   ]
  },
  {
   "attachments": {},
   "cell_type": "markdown",
   "metadata": {},
   "source": [
    "Los docstrings son un tipo de comentarios especiales que se usan para documentar un módulo, función, clase o método. En realidad son la primera sentencia de cada uno de ellos y se encierran entre tres comillas simples o dobles.\n",
    "\n",
    "Los docstrings son utilizados para generar la documentación de un programa. Además, suelen utilizarlos los entornos de desarrollo para mostrar la documentación al programador de forma fácil e intuitiva.\n",
    "\n",
    "Veámoslo con un ejemplo:"
   ]
  },
  {
   "cell_type": "code",
   "execution_count": 19,
   "metadata": {},
   "outputs": [],
   "source": [
    "def suma(a, b):\n",
    "    \"\"\"Esta función devuelve la suma de los parámetros a y b\"\"\"\n",
    "    return a + b"
   ]
  },
  {
   "attachments": {},
   "cell_type": "markdown",
   "metadata": {},
   "source": [
    "# Convenciones de nombres en Python\n",
    "\n"
   ]
  },
  {
   "attachments": {},
   "cell_type": "markdown",
   "metadata": {},
   "source": [
    "#### **Importante** \n",
    "No te preocupes si no entiendes totalmente lo que  hacen cada uno de los elementos y estructuras en los  ejemplos anteriores, profundizaremos en ellos más adelante. \n",
    "<!-- Por el momento es  importante que comprendas e identifiques los conceptos de *Operador*, *Expresión*,  *Sentencia* y *bloques de código*. -->"
   ]
  },
  {
   "attachments": {},
   "cell_type": "markdown",
   "metadata": {},
   "source": [
    "# Escribir/ imprimir en Python"
   ]
  },
  {
   "attachments": {},
   "cell_type": "markdown",
   "metadata": {},
   "source": [
    "### Mi primer programa en Python"
   ]
  },
  {
   "attachments": {},
   "cell_type": "markdown",
   "metadata": {},
   "source": [
    "Para escribir o imprimir  un mensaje (cadena de caracteres) en Python utilizamos el comando `print( )`,  encerrando  entre comillas simples ` '... ' `  o dobles `\"...\"` el mensaje obteniendo el mismo resultado: "
   ]
  },
  {
   "cell_type": "code",
   "execution_count": 1,
   "metadata": {},
   "outputs": [
    {
     "name": "stdout",
     "output_type": "stream",
     "text": [
      "¡Hola mundo!\n"
     ]
    }
   ],
   "source": [
    "print('¡Hola mundo!') #Utilizando comillas simples"
   ]
  },
  {
   "cell_type": "code",
   "execution_count": 2,
   "metadata": {},
   "outputs": [
    {
     "name": "stdout",
     "output_type": "stream",
     "text": [
      "¡Hola mundo!\n"
     ]
    }
   ],
   "source": [
    "print(\"¡Hola mundo!\") #Utilizando comillas dobles"
   ]
  },
  {
   "attachments": {},
   "cell_type": "markdown",
   "metadata": {},
   "source": [
    "Si necesitas imprimir comillas simples o dobles dentro del mensaje, puedes combinarlas de la siguiente manera:"
   ]
  },
  {
   "cell_type": "code",
   "execution_count": 3,
   "metadata": {},
   "outputs": [
    {
     "name": "stdout",
     "output_type": "stream",
     "text": [
      "Le gusta que le digan \"Beto\" \n"
     ]
    }
   ],
   "source": [
    "print('Le gusta que le digan \"Beto\" ')"
   ]
  },
  {
   "cell_type": "code",
   "execution_count": 6,
   "metadata": {},
   "outputs": [
    {
     "name": "stdout",
     "output_type": "stream",
     "text": [
      "Le gusta que le digan 'Beto'\n"
     ]
    }
   ],
   "source": [
    "print(\"Le gusta que le digan 'Beto'\")"
   ]
  },
  {
   "attachments": {},
   "cell_type": "markdown",
   "metadata": {},
   "source": [
    "O bien puedes utilizar `\\` para *escapar comillas*:"
   ]
  },
  {
   "cell_type": "code",
   "execution_count": 7,
   "metadata": {},
   "outputs": [
    {
     "name": "stdout",
     "output_type": "stream",
     "text": [
      "Le gusta que le digan \"Beto\" \n"
     ]
    }
   ],
   "source": [
    "print(\"Le gusta que le digan \\\"Beto\\\" \")"
   ]
  },
  {
   "attachments": {},
   "cell_type": "markdown",
   "metadata": {},
   "source": [
    "## Salto de línea"
   ]
  },
  {
   "attachments": {},
   "cell_type": "markdown",
   "metadata": {},
   "source": []
  },
  {
   "cell_type": "code",
   "execution_count": 12,
   "metadata": {},
   "outputs": [
    {
     "data": {
      "text/plain": [
       "'Primera linea de texto\\n Segunda linea de texto'"
      ]
     },
     "execution_count": 12,
     "metadata": {},
     "output_type": "execute_result"
    }
   ],
   "source": [
    "texto=\"Primera linea de texto\\n Segunda linea de texto\"\n",
    "texto\n",
    "#print(texto)"
   ]
  },
  {
   "attachments": {},
   "cell_type": "markdown",
   "metadata": {},
   "source": [
    "**Observacíon:** La función `print()` produce una salida más legible, omitiendo las comillas que la encierran e imprimiendo caracteres especiales y escapados:"
   ]
  },
  {
   "attachments": {},
   "cell_type": "markdown",
   "metadata": {},
   "source": [
    "Si no quieres que los caracteres precedidos por \\ se interpreten como caracteres especiales, puedes usar cadenas sin formato agregando una r antes de la primera comilla:"
   ]
  },
  {
   "cell_type": "code",
   "execution_count": 19,
   "metadata": {},
   "outputs": [
    {
     "name": "stdout",
     "output_type": "stream",
     "text": [
      "C:\n",
      "ame\n",
      "C:\\name\n"
     ]
    }
   ],
   "source": [
    "print('C:\\name')\n",
    "print(r'C:\\name')"
   ]
  },
  {
   "attachments": {},
   "cell_type": "markdown",
   "metadata": {},
   "source": [
    "## Imprimir  múltiples líneas"
   ]
  },
  {
   "attachments": {},
   "cell_type": "markdown",
   "metadata": {},
   "source": [
    "Las cadenas de texto literales pueden contener múltiples líneas. Una forma es usar triples comillas: \n",
    "`\"\"\". . .\"\"\"` o `'''. . .'''`. Los fin de línea son incluidos automáticamente, pero es posible prevenir esto agregando una `\\` al final de la línea. Por ejemplo:"
   ]
  },
  {
   "cell_type": "code",
   "execution_count": 25,
   "metadata": {},
   "outputs": [
    {
     "name": "stdout",
     "output_type": "stream",
     "text": [
      "Usage: thingy [OPTIONS]\n",
      "     -h                    Display this usage message\n",
      "     -H hostname               Hostname to connect to\n",
      "\n"
     ]
    }
   ],
   "source": [
    "print(\"\"\"\\\n",
    "Usage: thingy [OPTIONS]\n",
    "     -h                    Display this usage message\n",
    "     -H hostname               Hostname to connect to\n",
    "\"\"\")"
   ]
  },
  {
   "attachments": {},
   "cell_type": "markdown",
   "metadata": {},
   "source": [
    "También puedes utilizar el comando `print( )` para imprimir el valor de una variable: "
   ]
  },
  {
   "cell_type": "code",
   "execution_count": 4,
   "metadata": {},
   "outputs": [
    {
     "name": "stdout",
     "output_type": "stream",
     "text": [
      "50\n"
     ]
    }
   ],
   "source": [
    "x = 50\n",
    "print(x)"
   ]
  },
  {
   "cell_type": "markdown",
   "metadata": {},
   "source": [
    "También puedes imprimir un mensaje para acompañar el valor de la variable:"
   ]
  },
  {
   "cell_type": "code",
   "execution_count": 3,
   "metadata": {},
   "outputs": [
    {
     "name": "stdout",
     "output_type": "stream",
     "text": [
      "El valor de la variable x es:  50\n"
     ]
    }
   ],
   "source": [
    "print('El valor de la variable x es: ', x)"
   ]
  },
  {
   "attachments": {},
   "cell_type": "markdown",
   "metadata": {},
   "source": [
    "# Uso del punto y coma en Python"
   ]
  },
  {
   "attachments": {},
   "cell_type": "markdown",
   "metadata": {},
   "source": [
    "El punto y coma permite escribir distintas instrucciones en una misma línea. Por ejemplo, puedes asignar valores a distintas variables en una sóla linea utilizando **;** para separar cada asignación: "
   ]
  },
  {
   "cell_type": "code",
   "execution_count": 15,
   "metadata": {},
   "outputs": [
    {
     "data": {
      "text/plain": [
       "10"
      ]
     },
     "execution_count": 15,
     "metadata": {},
     "output_type": "execute_result"
    }
   ],
   "source": [
    "x=3; y=2; z=5; x+y+z"
   ]
  },
  {
   "cell_type": "code",
   "execution_count": 9,
   "metadata": {},
   "outputs": [
    {
     "name": "stdout",
     "output_type": "stream",
     "text": [
      "Hola\n",
      "Mundo\n"
     ]
    }
   ],
   "source": [
    "print(\"Hola\"); print(\"Mundo\")"
   ]
  },
  {
   "attachments": {},
   "cell_type": "markdown",
   "metadata": {},
   "source": [
    "De ahí que terminar las líneas con este carácter, si bien no es necesario, no genera ningún error:"
   ]
  },
  {
   "cell_type": "code",
   "execution_count": 13,
   "metadata": {},
   "outputs": [
    {
     "name": "stdout",
     "output_type": "stream",
     "text": [
      "Hola\n"
     ]
    }
   ],
   "source": [
    "print(\"Hola\"); # Terminar una instrucción con ; no es necesario pero tampoco produce un error."
   ]
  },
  {
   "attachments": {},
   "cell_type": "markdown",
   "metadata": {},
   "source": [
    "# Leer en Python"
   ]
  },
  {
   "cell_type": "code",
   "execution_count": 34,
   "metadata": {},
   "outputs": [],
   "source": [
    "z = int(input()) # Leer un número entero y lo almacena en la variable z. "
   ]
  },
  {
   "cell_type": "code",
   "execution_count": 35,
   "metadata": {},
   "outputs": [
    {
     "name": "stdout",
     "output_type": "stream",
     "text": [
      "3\n"
     ]
    }
   ],
   "source": [
    "print(z)"
   ]
  },
  {
   "cell_type": "code",
   "execution_count": 36,
   "metadata": {},
   "outputs": [],
   "source": [
    "w = int(input('Dame un número entero')) # Solicita y lee  número entero y lo almacena en la variable  x"
   ]
  },
  {
   "cell_type": "code",
   "execution_count": 37,
   "metadata": {},
   "outputs": [
    {
     "name": "stdout",
     "output_type": "stream",
     "text": [
      "7\n"
     ]
    }
   ],
   "source": [
    "print(w)"
   ]
  },
  {
   "cell_type": "code",
   "execution_count": null,
   "metadata": {},
   "outputs": [],
   "source": [
    "a = float(input()) # Leer un número real y lo almacena en la variable a. "
   ]
  }
 ],
 "metadata": {
  "kernelspec": {
   "display_name": "Python 3",
   "language": "python",
   "name": "python3"
  },
  "language_info": {
   "codemirror_mode": {
    "name": "ipython",
    "version": 3
   },
   "file_extension": ".py",
   "mimetype": "text/x-python",
   "name": "python",
   "nbconvert_exporter": "python",
   "pygments_lexer": "ipython3",
   "version": "3.11.0"
  },
  "orig_nbformat": 4,
  "vscode": {
   "interpreter": {
    "hash": "ce4d963573401a72c80fabe1ef75418dde5088fa46d743e51eca5fefbd048d5c"
   }
  }
 },
 "nbformat": 4,
 "nbformat_minor": 2
}
