{
 "cells": [
  {
   "cell_type": "markdown",
   "metadata": {},
   "source": [
    "# Manejo de excepciones\n",
    "\n",
    "Es importante aprender cómo manejar y controlar las excepciones en Python para asegurarse de que las aplicaciones sean resistentes a errores y se ejecuten de manera consistente."
   ]
  },
  {
   "cell_type": "markdown",
   "metadata": {},
   "source": [
    "# Sentencia Try-Except\n",
    "\n",
    "\n",
    "La sentencia `try` contiene el bloque de código que puede ocasionar una excepción o un error, mientras que la sentencia `except`   contiene el bloque de código que se ejecutará si y sólo si un error es detectado en nuestro código. \n",
    "\n",
    "Por ejemplo, las líneas de código siguiente nos dará error si el usuario introduce letras en lugar de números:  "
   ]
  },
  {
   "cell_type": "code",
   "execution_count": null,
   "metadata": {},
   "outputs": [
    {
     "name": "stdout",
     "output_type": "stream",
     "text": [
      "tienes  8 años\n"
     ]
    }
   ],
   "source": [
    "num=int(input('¿Cuantos años tienes?'))\n",
    "print(f'Tienes  {num} años')"
   ]
  },
  {
   "cell_type": "markdown",
   "metadata": {},
   "source": [
    "Por lo tanto podemos implementar la sentencia `try-excep`:"
   ]
  },
  {
   "cell_type": "code",
   "execution_count": null,
   "metadata": {},
   "outputs": [
    {
     "name": "stdout",
     "output_type": "stream",
     "text": [
      "Tienes  9 años\n"
     ]
    }
   ],
   "source": [
    "try:\n",
    "    num=int(input('¿Cuantos años tienes?'))\n",
    "    print(f'Tienes  {num} años')\n",
    "except:\n",
    "    print('Tipo de dato incorrecto')"
   ]
  },
  {
   "cell_type": "markdown",
   "metadata": {},
   "source": [
    "## Multiples excepciones\n",
    "\n",
    "En algunas ocasiones necesitaremos agregar **multiples excepciones** en caso de que nuestro código tenga varios tipos de errores. Para lo cual Python cuenta con palabras reservadas para clasificar el tipo de error : si es un error de sintaxis, si es un error de tipo de variable entre otros. "
   ]
  },
  {
   "cell_type": "code",
   "execution_count": null,
   "metadata": {},
   "outputs": [],
   "source": [
    "num1 = input"
   ]
  },
  {
   "attachments": {},
   "cell_type": "markdown",
   "metadata": {},
   "source": [
    "# Funciones"
   ]
  },
  {
   "cell_type": "markdown",
   "metadata": {},
   "source": [
    "### Parámetros de palabra clave"
   ]
  },
  {
   "cell_type": "markdown",
   "metadata": {},
   "source": [
    "Los **parámetros de palabra clave** son argumentos que se deben pasar con su nombre correspondiente. Estos parámetros no tienen una posición fija en la lista de argumentos y son opcionales. Los parámetros de palabra clave se definen en la definición de la función utilizando la sintaxis `nombre_parametro=valor_por_defecto`."
   ]
  },
  {
   "cell_type": "code",
   "execution_count": null,
   "metadata": {},
   "outputs": [
    {
     "name": "stdout",
     "output_type": "stream",
     "text": [
      "12\n"
     ]
    }
   ],
   "source": [
    "def sumar(a, b, c=0):\n",
    "    return a + b + c\n",
    "\n",
    "# Invocar la función\n",
    "resultado = sumar(a=3, b=4, c=5)\n",
    "print(resultado) # Output: 12"
   ]
  },
  {
   "cell_type": "markdown",
   "metadata": {},
   "source": [
    "# Funciones"
   ]
  },
  {
   "cell_type": "markdown",
   "metadata": {},
   "source": [
    "Las funciones son bloques de código que se ejecutan cuando se las llama. Estos sirven como una forma conveniente de dividir su código en bloques útiles y con nombre para que pueda usarlos cuando lo desee.\n",
    "\n",
    "Ya hemos visto usos de ellos en el pasado, incluidos print()."
   ]
  },
  {
   "cell_type": "code",
   "execution_count": null,
   "metadata": {},
   "outputs": [],
   "source": [
    "def introduction():\n",
    "    print(\"Hello from Sabe.io!\")"
   ]
  },
  {
   "cell_type": "markdown",
   "metadata": {},
   "source": [
    "Es así de simple. Use la defpalabra clave para definir su función y coloque el código que desea ejecutar debajo de ella mientras lo sangra."
   ]
  },
  {
   "cell_type": "markdown",
   "metadata": {},
   "source": [
    "## Invocar una función"
   ]
  },
  {
   "cell_type": "markdown",
   "metadata": {},
   "source": [
    "Lo que acabamos de ver es una función válida, pero no pasará nada si la ejecutamos. Esto se debe a que aún es necesario llamar o invocar las funciones . Así es como lo invocamos:"
   ]
  },
  {
   "cell_type": "code",
   "execution_count": null,
   "metadata": {},
   "outputs": [
    {
     "name": "stdout",
     "output_type": "stream",
     "text": [
      "Hello from Sabe.io!\n"
     ]
    }
   ],
   "source": [
    "def introduction():\n",
    "    print(\"Hello from Sabe.io!\")\n",
    "\n",
    "introduction()"
   ]
  },
  {
   "cell_type": "markdown",
   "metadata": {},
   "source": [
    "Ahora bien, esto es genial y todo, pero las funciones son mucho más poderosas que esto. Podemos pasar datos a la función para que pueda realizar diferentes tareas."
   ]
  },
  {
   "cell_type": "markdown",
   "metadata": {},
   "source": [
    "## Parámetros"
   ]
  },
  {
   "cell_type": "markdown",
   "metadata": {},
   "source": [
    "Estos datos que podemos pasar a las funciones se llaman parámetros . Siguiendo con nuestro ejemplo anterior, pasemos a otro sitio web en lugar de este."
   ]
  },
  {
   "cell_type": "code",
   "execution_count": null,
   "metadata": {},
   "outputs": [
    {
     "name": "stdout",
     "output_type": "stream",
     "text": [
      "Hello from Mixcurb.com!\n"
     ]
    }
   ],
   "source": [
    "def introduction(url):\n",
    "    print(\"Hello from \" + url + \"!\")\n",
    "\n",
    "introduction(\"Mixcurb.com\")"
   ]
  },
  {
   "cell_type": "markdown",
   "metadata": {},
   "source": [
    "Ahora que nuestra función toma a urlcomo parámetro, podemos hacer que la salida se refiera a cualquier sitio web que queramos. ¡Cosas bastante poderosas!"
   ]
  },
  {
   "cell_type": "markdown",
   "metadata": {},
   "source": [
    "Veamos un ejemplo de una función que nos devuelve algo:"
   ]
  },
  {
   "cell_type": "code",
   "execution_count": null,
   "metadata": {},
   "outputs": [
    {
     "name": "stdout",
     "output_type": "stream",
     "text": [
      "28.274333882308138\n"
     ]
    }
   ],
   "source": [
    "import math\n",
    "\n",
    "def get_area_of_circle(radius):\n",
    "    return radius * radius * math.pi\n",
    "\n",
    "radius = 4\n",
    "area = get_area_of_circle(3)\n",
    "\n",
    "print(area)"
   ]
  },
  {
   "cell_type": "markdown",
   "metadata": {},
   "source": [
    "Nuestra nueva get_area_of_circlefunción toma el radio del círculo, calcula el área y luego lo devuelve. Luego creamos una nueva variable areaque ahora tiene ese valor. Luego simplemente lo imprimimos para ver el valor."
   ]
  },
  {
   "cell_type": "markdown",
   "metadata": {},
   "source": [
    "**Observación** Una función puede devolver prácticamente cualquier cosa. Si necesita usar el valor de retorno, asegúrese de establecerlo en una variable como lo hicimos en el ejemplo anterior."
   ]
  },
  {
   "cell_type": "markdown",
   "metadata": {},
   "source": [
    "# Valores de parámetros predeterminados"
   ]
  },
  {
   "cell_type": "markdown",
   "metadata": {},
   "source": [
    "Otra parte interesante de Python es la capacidad de establecer un valor predeterminado para un parámetro de modo que, si no lo pasa, la función sigue siendo válida y se ejecuta de todos modos.\n",
    "\n",
    "Apliquemos esto usando nuestro ejemplo anterior:"
   ]
  },
  {
   "cell_type": "code",
   "execution_count": null,
   "metadata": {},
   "outputs": [
    {
     "name": "stdout",
     "output_type": "stream",
     "text": [
      "28.274333882308138\n",
      "3.141592653589793\n"
     ]
    }
   ],
   "source": [
    "import math\n",
    "\n",
    "def get_area_of_circle(radius = 1):\n",
    "    return radius * radius * math.pi\n",
    "\n",
    "radius = 4\n",
    "area = get_area_of_circle(3)\n",
    "\n",
    "print(area)\n",
    "\n",
    "area2 = get_area_of_circle()\n",
    "\n",
    "print(area2)"
   ]
  },
  {
   "cell_type": "markdown",
   "metadata": {},
   "source": [
    "Debido a que establecimos el valor predeterminado para radiusser 1, cuando llamamos get_area_of_circlesin pasar un radio, el valor predeterminado 1fue el esperado. El resto de la función se ejecutó normalmente y obtuvimos nuestra respuesta."
   ]
  }
 ],
 "metadata": {
  "kernelspec": {
   "display_name": "Python 3",
   "language": "python",
   "name": "python3"
  },
  "language_info": {
   "codemirror_mode": {
    "name": "ipython",
    "version": 3
   },
   "file_extension": ".py",
   "mimetype": "text/x-python",
   "name": "python",
   "nbconvert_exporter": "python",
   "pygments_lexer": "ipython3",
   "version": "3.9.13"
  },
  "orig_nbformat": 4,
  "vscode": {
   "interpreter": {
    "hash": "ce4d963573401a72c80fabe1ef75418dde5088fa46d743e51eca5fefbd048d5c"
   }
  }
 },
 "nbformat": 4,
 "nbformat_minor": 2
}
