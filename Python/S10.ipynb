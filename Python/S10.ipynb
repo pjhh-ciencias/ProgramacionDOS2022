{
 "cells": [
  {
   "cell_type": "code",
   "execution_count": null,
   "metadata": {},
   "outputs": [],
   "source": []
  },
  {
   "cell_type": "code",
   "execution_count": null,
   "metadata": {},
   "outputs": [],
   "source": [
    "class Punto:\n",
    "    \n",
    "    def __init__(self,x=0,y=0):\n",
    "        self.x = x\n",
    "        self.y = y\n",
    "    \n",
    "    def norma(self):\n",
    "        return (self.x**2 + self.y**2)**(1/2)\n",
    "    \n",
    "    def diferencia(self, otro_punto):\n",
    "        return Punto(self.x - otro_punto.x, self.y - otro_punto.y) \n",
    "    \n",
    "    def distancia(self,otro_punto):\n",
    "        \n",
    "        return self.diferencia(otro_punto).norma()\n",
    "    \n",
    "    def punto_medio(self,otro_punto):\n",
    "        \n",
    "        return Punto((self.x + otro_punto.x)/2, (self.y + otro_punto.y)/2)\n",
    "    \n",
    "    "
   ]
  },
  {
   "cell_type": "code",
   "execution_count": null,
   "metadata": {},
   "outputs": [
    {
     "name": "stdout",
     "output_type": "stream",
     "text": [
      "<__main__.Punto object at 0x1090fcd10>\n"
     ]
    }
   ],
   "source": [
    "a = Punto(1,2)\n",
    "print(a)\n",
    "\n",
    "# print('x = ',a.x)\n",
    "# print('y = ',a.y)\n",
    "\n",
    "\n",
    "b = Punto(2,3)\n",
    "\n",
    "# print('x = ',b.x)\n",
    "# print('y = ',b.y)\n",
    "\n",
    "# c = Punto(3,4)\n",
    "\n",
    " d = Punto()\n",
    "# print(d.x,d.y)\n",
    "\n",
    "\n",
    "\n",
    " "
   ]
  },
  {
   "cell_type": "code",
   "execution_count": null,
   "metadata": {},
   "outputs": [
    {
     "data": {
      "text/plain": [
       "5.0"
      ]
     },
     "metadata": {},
     "output_type": "display_data"
    }
   ],
   "source": [
    "c.norma()\n"
   ]
  },
  {
   "cell_type": "code",
   "execution_count": null,
   "metadata": {},
   "outputs": [
    {
     "name": "stdout",
     "output_type": "stream",
     "text": [
      "1.0 4.0\n"
     ]
    }
   ],
   "source": [
    "p1 = Punto(1,2)\n",
    "p2 = Punto(1,6)\n",
    "#p1.diferencia(p2)\n",
    "#p1.distancia(p2)\n",
    "print(p1.punto_medio(p2).x, p1.punto_medio(p2).y)"
   ]
  },
  {
   "cell_type": "code",
   "execution_count": null,
   "metadata": {},
   "outputs": [],
   "source": []
  }
 ],
 "metadata": {
  "language_info": {
   "name": "python"
  },
  "orig_nbformat": 4
 },
 "nbformat": 4,
 "nbformat_minor": 2
}
