{
 "cells": [
  {
   "cell_type": "code",
   "execution_count": null,
   "metadata": {},
   "outputs": [],
   "source": []
  },
  {
   "cell_type": "code",
   "execution_count": null,
   "metadata": {},
   "outputs": [],
   "source": [
    "class Punto:\n",
    "    \n",
    "    def __init__(self,x=0,y=0):\n",
    "        self.x = x\n",
    "        self.y = y\n",
    "    \n",
    "    def norma(self):\n",
    "        return (self.x**2 + self.y**2)**(1/2)\n",
    "    \n",
    "    def diferencia(self, otro_punto):\n",
    "        return Punto(self.x - otro_punto.x, self.y - otro_punto.y) \n",
    "    \n",
    "    def distancia(self,otro_punto):\n",
    "        \n",
    "        return self.diferencia(otro_punto).norma()\n",
    "    \n",
    "    def punto_medio(self,otro_punto):\n",
    "        \n",
    "        return Punto((self.x + otro_punto.x)/2, (self.y + otro_punto.y)/2)\n",
    "    \n",
    "    "
   ]
  },
  {
   "cell_type": "code",
   "execution_count": null,
   "metadata": {},
   "outputs": [
    {
     "name": "stdout",
     "output_type": "stream",
     "text": [
      "<__main__.Punto object at 0x1090fcd10>\n"
     ]
    }
   ],
   "source": [
    "a = Punto(1,2)\n",
    "print(a)\n",
    "\n",
    "# print('x = ',a.x)\n",
    "# print('y = ',a.y)\n",
    "\n",
    "\n",
    "b = Punto(2,3)\n",
    "\n",
    "# print('x = ',b.x)\n",
    "# print('y = ',b.y)\n",
    "\n",
    "# c = Punto(3,4)\n",
    "\n",
    " d = Punto()\n",
    "# print(d.x,d.y)\n",
    "\n",
    "\n",
    "\n",
    " "
   ]
  },
  {
   "cell_type": "code",
   "execution_count": null,
   "metadata": {},
   "outputs": [
    {
     "data": {
      "text/plain": [
       "5.0"
      ]
     },
     "metadata": {},
     "output_type": "display_data"
    }
   ],
   "source": [
    "c.norma()\n"
   ]
  },
  {
   "cell_type": "code",
   "execution_count": null,
   "metadata": {},
   "outputs": [
    {
     "name": "stdout",
     "output_type": "stream",
     "text": [
      "1.0 4.0\n"
     ]
    }
   ],
   "source": [
    "p1 = Punto(1,2)\n",
    "p2 = Punto(1,6)\n",
    "#p1.diferencia(p2)\n",
    "#p1.distancia(p2)\n",
    "print(p1.punto_medio(p2).x, p1.punto_medio(p2).y)"
   ]
  },
  {
   "attachments": {},
   "cell_type": "markdown",
   "metadata": {},
   "source": [
    "## `dir`"
   ]
  },
  {
   "cell_type": "code",
   "execution_count": 14,
   "metadata": {},
   "outputs": [
    {
     "data": {
      "text/plain": [
       "['__add__',\n",
       " '__class__',\n",
       " '__contains__',\n",
       " '__delattr__',\n",
       " '__dir__',\n",
       " '__doc__',\n",
       " '__eq__',\n",
       " '__format__',\n",
       " '__ge__',\n",
       " '__getattribute__',\n",
       " '__getitem__',\n",
       " '__getnewargs__',\n",
       " '__getstate__',\n",
       " '__gt__',\n",
       " '__hash__',\n",
       " '__init__',\n",
       " '__init_subclass__',\n",
       " '__iter__',\n",
       " '__le__',\n",
       " '__len__',\n",
       " '__lt__',\n",
       " '__mod__',\n",
       " '__mul__',\n",
       " '__ne__',\n",
       " '__new__',\n",
       " '__reduce__',\n",
       " '__reduce_ex__',\n",
       " '__repr__',\n",
       " '__rmod__',\n",
       " '__rmul__',\n",
       " '__setattr__',\n",
       " '__sizeof__',\n",
       " '__str__',\n",
       " '__subclasshook__',\n",
       " 'capitalize',\n",
       " 'casefold',\n",
       " 'center',\n",
       " 'count',\n",
       " 'encode',\n",
       " 'endswith',\n",
       " 'expandtabs',\n",
       " 'find',\n",
       " 'format',\n",
       " 'format_map',\n",
       " 'index',\n",
       " 'isalnum',\n",
       " 'isalpha',\n",
       " 'isascii',\n",
       " 'isdecimal',\n",
       " 'isdigit',\n",
       " 'isidentifier',\n",
       " 'islower',\n",
       " 'isnumeric',\n",
       " 'isprintable',\n",
       " 'isspace',\n",
       " 'istitle',\n",
       " 'isupper',\n",
       " 'join',\n",
       " 'ljust',\n",
       " 'lower',\n",
       " 'lstrip',\n",
       " 'maketrans',\n",
       " 'partition',\n",
       " 'removeprefix',\n",
       " 'removesuffix',\n",
       " 'replace',\n",
       " 'rfind',\n",
       " 'rindex',\n",
       " 'rjust',\n",
       " 'rpartition',\n",
       " 'rsplit',\n",
       " 'rstrip',\n",
       " 'split',\n",
       " 'splitlines',\n",
       " 'startswith',\n",
       " 'strip',\n",
       " 'swapcase',\n",
       " 'title',\n",
       " 'translate',\n",
       " 'upper',\n",
       " 'zfill']"
      ]
     },
     "execution_count": 14,
     "metadata": {},
     "output_type": "execute_result"
    }
   ],
   "source": [
    "\n",
    "dir('cadena')"
   ]
  },
  {
   "attachments": {},
   "cell_type": "markdown",
   "metadata": {},
   "source": [
    "## `Property`"
   ]
  },
  {
   "attachments": {},
   "cell_type": "markdown",
   "metadata": {},
   "source": [
    "Los atributos de instancia, definen una serie de características que poseen los objetos. Como hemos visto anteriormente, se declaran haciendo uso de la referencia a la instancia a través de `self`. Sin embargo, Python nos ofrece la posibilidad de utilizar un método alternativo que resulta especialmente útil ***cuando estos atributos requieren de un procesamiento inicial en el momento de ser accedidos***. Para implementar este mecanismo, Python emplea un ***decorador*** llamado `property`."
   ]
  },
  {
   "attachments": {},
   "cell_type": "markdown",
   "metadata": {},
   "source": [
    "\n",
    "En Python, una **propiedad** (property) es una **forma de controlar el acceso y la manipulación de atributos de una clase**. Permite definir métodos especiales, conocidos como ***métodos de acceso*** (`getter`) y **métodos de asignación** (`setter`), que se utilizan para obtener y establecer valores en un atributo específico.\n",
    "\n",
    "La idea detrás de las propiedades es que, en lugar de acceder directamente a los atributos de una clase, se utilicen métodos para interactuar con ellos. Esto proporciona un mayor control sobre cómo se obtienen y establecen los valores, lo que puede ser útil para realizar validaciones, cálculos adicionales u otras operaciones."
   ]
  },
  {
   "attachments": {},
   "cell_type": "markdown",
   "metadata": {},
   "source": [
    "### Definir una propiedad"
   ]
  },
  {
   "attachments": {},
   "cell_type": "markdown",
   "metadata": {},
   "source": [
    "Para definir una propiedad en Python, se utilizan los ***decoradores*** `@property` y `@<nombre_atributo.setter`. Aquí hay un ejemplo que ilustra cómo se utiliza:"
   ]
  },
  {
   "cell_type": "code",
   "execution_count": 1,
   "metadata": {},
   "outputs": [],
   "source": [
    "class Punto:\n",
    "    \n",
    "    def __init__(self,x=0,y=0):\n",
    "        self.x = x\n",
    "        self.y = y\n",
    "    \n",
    "    @property\n",
    "    def x(self):\n",
    "        return self._x\n",
    "    \n",
    "    @x.setter\n",
    "    def x(self,nueva_cordenada):\n",
    "        self._x = nueva_cordenada\n",
    "        \n",
    "    @property\n",
    "    def y(self):\n",
    "        return self._y\n",
    "    \n",
    "    @x.setter\n",
    "    def y(self,nueva_cordenada):\n",
    "        if isinstance(nueva_cordenada,(int,float)):\n",
    "            self._y = nueva_cordenada\n",
    "        else:\n",
    "            raise ValueError('El valor ingresado debe ser un numero')\n",
    "    \n",
    "    def norma(self):\n",
    "        return (self.x**2 + self.y**2)**(1/2)\n",
    "    \n",
    "    def diferencia(self, otro_punto):\n",
    "        return Punto(self.x - otro_punto.x, self.y - otro_punto.y) \n",
    "    \n",
    "    def distancia(self,otro_punto):\n",
    "        \n",
    "        return self.diferencia(otro_punto).norma()\n",
    "    \n",
    "    def punto_medio(self,otro_punto):\n",
    "        \n",
    "        return Punto((self.x + otro_punto.x)/2, (self.y + otro_punto.y)/2)"
   ]
  },
  {
   "cell_type": "code",
   "execution_count": 5,
   "metadata": {},
   "outputs": [
    {
     "ename": "ValueError",
     "evalue": "El valor ingresado debe ser un numero",
     "output_type": "error",
     "traceback": [
      "\u001b[0;31m---------------------------------------------------------------------------\u001b[0m",
      "\u001b[0;31mValueError\u001b[0m                                Traceback (most recent call last)",
      "Cell \u001b[0;32mIn[5], line 1\u001b[0m\n\u001b[0;32m----> 1\u001b[0m a \u001b[39m=\u001b[39m Punto(\u001b[39m1\u001b[39;49m,\u001b[39m'\u001b[39;49m\u001b[39mk\u001b[39;49m\u001b[39m'\u001b[39;49m)\n\u001b[1;32m      2\u001b[0m a\n",
      "Cell \u001b[0;32mIn[1], line 5\u001b[0m, in \u001b[0;36mPunto.__init__\u001b[0;34m(self, x, y)\u001b[0m\n\u001b[1;32m      3\u001b[0m \u001b[39mdef\u001b[39;00m \u001b[39m__init__\u001b[39m(\u001b[39mself\u001b[39m,x\u001b[39m=\u001b[39m\u001b[39m0\u001b[39m,y\u001b[39m=\u001b[39m\u001b[39m0\u001b[39m):\n\u001b[1;32m      4\u001b[0m     \u001b[39mself\u001b[39m\u001b[39m.\u001b[39mx \u001b[39m=\u001b[39m x\n\u001b[0;32m----> 5\u001b[0m     \u001b[39mself\u001b[39;49m\u001b[39m.\u001b[39;49my \u001b[39m=\u001b[39m y\n",
      "Cell \u001b[0;32mIn[1], line 24\u001b[0m, in \u001b[0;36mPunto.y\u001b[0;34m(self, nueva_cordenada)\u001b[0m\n\u001b[1;32m     22\u001b[0m     \u001b[39mself\u001b[39m\u001b[39m.\u001b[39m_y \u001b[39m=\u001b[39m nueva_cordenada\n\u001b[1;32m     23\u001b[0m \u001b[39melse\u001b[39;00m:\n\u001b[0;32m---> 24\u001b[0m     \u001b[39mraise\u001b[39;00m \u001b[39mValueError\u001b[39;00m(\u001b[39m'\u001b[39m\u001b[39mEl valor ingresado debe ser un numero\u001b[39m\u001b[39m'\u001b[39m)\n",
      "\u001b[0;31mValueError\u001b[0m: El valor ingresado debe ser un numero"
     ]
    }
   ],
   "source": [
    "a = Punto(1,'k')\n",
    "a"
   ]
  },
  {
   "attachments": {},
   "cell_type": "markdown",
   "metadata": {},
   "source": [
    "# Métodos especiales"
   ]
  },
  {
   "attachments": {},
   "cell_type": "markdown",
   "metadata": {},
   "source": [
    "Así como el constructor, `__init__`, existen diversos métodos especiales que, si están definidos en nuestra clase, Python los llamará por nosotros cuando se utilice una instancia en situaciones particulares.\n",
    "\n"
   ]
  },
  {
   "attachments": {},
   "cell_type": "markdown",
   "metadata": {},
   "source": [
    "## Un método para mostrar objetos"
   ]
  },
  {
   "attachments": {},
   "cell_type": "markdown",
   "metadata": {},
   "source": [
    "Para mostrar objetos, Python indica que hay que agregarle a la clase un método especial, llamado `__str__` que debe devolver una cadena de caracteres con lo que queremos mostrar. Ese método se invoca cada vez que se llama a la función `str`\n",
    "\n"
   ]
  },
  {
   "attachments": {},
   "cell_type": "markdown",
   "metadata": {},
   "source": [
    "El método `__str__` tiene un solo parámetro, self."
   ]
  },
  {
   "attachments": {},
   "cell_type": "markdown",
   "metadata": {},
   "source": [
    "En nuestro caso decidimos mostrar el punto como un par ordenado, por lo que escribimos el siguiente método dentro de la clase Punto:"
   ]
  },
  {
   "cell_type": "code",
   "execution_count": 10,
   "metadata": {},
   "outputs": [],
   "source": [
    "class Punto:\n",
    "    \n",
    "    def __init__(self,x=0,y=0):\n",
    "        self.x = x\n",
    "        self.y = y\n",
    "    \n",
    "    @property\n",
    "    def x(self):\n",
    "        return self._x\n",
    "    \n",
    "    @x.setter\n",
    "    def x(self,nueva_cordenada):\n",
    "        self._x = nueva_cordenada\n",
    "        \n",
    "    @property\n",
    "    def y(self):\n",
    "        return self._y\n",
    "    \n",
    "    @x.setter\n",
    "    def y(self,nueva_cordenada):\n",
    "        if isinstance(nueva_cordenada,(int,float)):\n",
    "            self._y = nueva_cordenada\n",
    "        else:\n",
    "            raise ValueError('El valor ingresado debe ser un numero')\n",
    "    \n",
    "    def __str__(self):\n",
    "        \"\"\" Muestra el punto como un par ordenado. \"\"\"\n",
    "        return \"(\" + str(self.x) + \", \" + str(self.y) + \")\"\n",
    "    \n",
    "    def norma(self):\n",
    "        return (self.x**2 + self.y**2)**(1/2)\n",
    "    \n",
    "    def diferencia(self, otro_punto):\n",
    "        return Punto(self.x - otro_punto.x, self.y - otro_punto.y) \n",
    "    \n",
    "    def distancia(self,otro_punto):\n",
    "        \n",
    "        return self.diferencia(otro_punto).norma()\n",
    "    \n",
    "    def punto_medio(self,otro_punto):\n",
    "        \n",
    "        return Punto((self.x + otro_punto.x)/2, (self.y + otro_punto.y)/2)\n",
    "    "
   ]
  },
  {
   "attachments": {},
   "cell_type": "markdown",
   "metadata": {},
   "source": [
    "Una vez definido este método, nuestro punto se mostrará como un par ordenado cuando se necesite una representación de cadenas."
   ]
  },
  {
   "cell_type": "code",
   "execution_count": 12,
   "metadata": {},
   "outputs": [
    {
     "name": "stdout",
     "output_type": "stream",
     "text": [
      "(-6, -6)\n"
     ]
    }
   ],
   "source": [
    "p = Punto(-6,18)\n",
    "#str(p)\n",
    "print(p)\n"
   ]
  },
  {
   "attachments": {},
   "cell_type": "markdown",
   "metadata": {},
   "source": [
    "Vemos que con `str(p)` se obtiene la cadena construida dentro de `__str__`, y que internamente Python llama a `__str__` cuando se le pide que imprima una variable de la clase Punto."
   ]
  },
  {
   "attachments": {},
   "cell_type": "markdown",
   "metadata": {},
   "source": [
    "## Métodos para operar matemáticamente"
   ]
  },
  {
   "attachments": {},
   "cell_type": "markdown",
   "metadata": {},
   "source": [
    "Ya hemos visto un método que permitía restar dos puntos. Si bien esta implementación es perfectamente válida, no es posible usar esa función para realizar una resta con el operador `-`."
   ]
  },
  {
   "cell_type": "code",
   "execution_count": 15,
   "metadata": {},
   "outputs": [
    {
     "ename": "TypeError",
     "evalue": "unsupported operand type(s) for -: 'Punto' and 'Punto'",
     "output_type": "error",
     "traceback": [
      "\u001b[0;31m---------------------------------------------------------------------------\u001b[0m",
      "\u001b[0;31mTypeError\u001b[0m                                 Traceback (most recent call last)",
      "Cell \u001b[0;32mIn[15], line 4\u001b[0m\n\u001b[1;32m      1\u001b[0m p \u001b[39m=\u001b[39m Punto(\u001b[39m1\u001b[39m,\u001b[39m3\u001b[39m)\n\u001b[1;32m      2\u001b[0m q \u001b[39m=\u001b[39m Punto(\u001b[39m1\u001b[39m,\u001b[39m10\u001b[39m)\n\u001b[0;32m----> 4\u001b[0m \u001b[39mprint\u001b[39m(p\u001b[39m-\u001b[39;49mq)\n",
      "\u001b[0;31mTypeError\u001b[0m: unsupported operand type(s) for -: 'Punto' and 'Punto'"
     ]
    }
   ],
   "source": [
    "p = Punto(1,3)\n",
    "q = Punto(1,10)\n",
    "\n",
    "print(p-q)"
   ]
  },
  {
   "attachments": {},
   "cell_type": "markdown",
   "metadata": {},
   "source": [
    "Si queremos que este operador (o el equivalente para la suma) funcione, será necesario implementar algunos métodos especiales."
   ]
  },
  {
   "cell_type": "code",
   "execution_count": 31,
   "metadata": {},
   "outputs": [],
   "source": [
    "class Punto:\n",
    "    \n",
    "    def __init__(self,x=0,y=0):\n",
    "        self.x = x\n",
    "        self.y = y\n",
    "    \n",
    "    @property\n",
    "    def x(self):\n",
    "        return self._x\n",
    "    \n",
    "    @x.setter\n",
    "    def x(self,nueva_cordenada):\n",
    "        self._x = nueva_cordenada\n",
    "        \n",
    "    @property\n",
    "    def y(self):\n",
    "        return self._y\n",
    "    \n",
    "    @y.setter\n",
    "    def y(self,nueva_cordenada):\n",
    "        if isinstance(nueva_cordenada,(int,float)):\n",
    "            self._y = nueva_cordenada\n",
    "        else:\n",
    "            raise ValueError('El valor ingresado debe ser un numero')\n",
    "    \n",
    "    def __str__(self):\n",
    "        \"\"\" Muestra el punto como un par ordenado. \"\"\"\n",
    "        return \"(\" + str(self.x) + \", \" + str(self.y) + \")\"\n",
    "    \n",
    "    def norma(self):\n",
    "        return (self.x**2 + self.y**2)**(1/2)\n",
    "    \n",
    "    def diferencia(self, otro_punto):\n",
    "        return Punto(self.x - otro_punto.x, self.y - otro_punto.y) \n",
    "    \n",
    "    def distancia(self,otro_punto):\n",
    "        return self.diferencia(otro_punto).norma()\n",
    "    \n",
    "    def punto_medio(self,otro_punto):\n",
    "        return Punto((self.x + otro_punto.x)/2, (self.y + otro_punto.y)/2)\n",
    "    \n",
    "    def __add__(self, otro_punto):\n",
    "        \"\"\" Devuelve la suma de ambos puntos. \"\"\"\n",
    "        return Punto(self.x + otro_punto.x, self.y + otro_punto.y)\n",
    "\n",
    "    def __sub__(self, otro_punto):\n",
    "        \"\"\" Devuelve la diferencia de ambos puntos. \"\"\"\n",
    "        return Punto(self.x - otro_punto.x, self.y - otro_punto.y)"
   ]
  },
  {
   "attachments": {},
   "cell_type": "markdown",
   "metadata": {},
   "source": [
    "El método `__add__` es el que se utiliza para el operador `+`, el primer parámetro es el primer operando de la suma, y el segundo parámetro el segundo operando. De la misma forma, el método `__sub__` es el utilizado por el operador `-`."
   ]
  },
  {
   "attachments": {},
   "cell_type": "markdown",
   "metadata": {},
   "source": [
    "Ahora es posible operar con los puntos directamente mediante los operadores, en lugar de llamar a métodos:"
   ]
  },
  {
   "cell_type": "code",
   "execution_count": 32,
   "metadata": {},
   "outputs": [
    {
     "name": "stdout",
     "output_type": "stream",
     "text": [
      "(-2, -1)\n"
     ]
    }
   ],
   "source": [
    "p = Punto(0,3)\n",
    "q = Punto(2,4)\n",
    "\n",
    "print(p-q)"
   ]
  },
  {
   "attachments": {},
   "cell_type": "markdown",
   "metadata": {},
   "source": [
    "De la misma forma, si se quiere poder utilizar cualquier otro operador matemático, será necesario definir el método apropiado."
   ]
  },
  {
   "attachments": {},
   "cell_type": "markdown",
   "metadata": {},
   "source": []
  },
  {
   "attachments": {},
   "cell_type": "markdown",
   "metadata": {},
   "source": [
    "**Observación:** La posibilidad de definir cuál será el comportamiento de los operadores básicos (como `+`, `-`, `*`, `/`), se llama ***sobrecarga de operadores***."
   ]
  },
  {
   "attachments": {},
   "cell_type": "markdown",
   "metadata": {},
   "source": [
    "# Métodos mágicos o métodos de operador"
   ]
  },
  {
   "attachments": {},
   "cell_type": "markdown",
   "metadata": {},
   "source": [
    "En Python, el ***sobrecargo de operadores*** se logra mediante la implementación de métodos especiales en las clases, conocidos como **métodos de operador** o **métodos mágicos**. Estos métodos tienen nombres especiales que comienzan y terminan con doble guion bajo (por ejemplo, `__add__` para el operador de suma)."
   ]
  },
  {
   "attachments": {},
   "cell_type": "markdown",
   "metadata": {},
   "source": [
    "Enseguida algunos ejemplos de métodos mágicos utilizados para sobrecargar operadores en Python:\n",
    "\n",
    "* `__add__(self, other):` Define el comportamiento para el operador de suma (`+`).\n",
    "  \n",
    "* `__sub__(self, other):` Define el comportamiento para el operador de resta (`-`).\n",
    "  \n",
    "* `__mul__(self, other):` Define el comportamiento para el operador de multiplicación `(*`).\n",
    "  \n",
    "* `__truediv__(self, other):` Define el comportamiento para el operador de división (`/`).\n",
    "  \n",
    "* `__eq__(self, other):` Define el comportamiento para el operador de igualdad (`==`)."
   ]
  },
  {
   "attachments": {},
   "cell_type": "markdown",
   "metadata": {},
   "source": [
    "La sobrecarga de operadores proporciona flexibilidad y permite que tus clases personalizadas se comporten de manera más intuitiva cuando se utilizan con operadores estándar. Sin embargo, se recomienda utilizarla con moderación y siguiendo buenas prácticas de diseño de código, ya que un uso excesivo o incorrecto puede dificultar la comprensión  del código."
   ]
  },
  {
   "cell_type": "code",
   "execution_count": null,
   "metadata": {},
   "outputs": [],
   "source": []
  }
 ],
 "metadata": {
  "kernelspec": {
   "display_name": "Python 3",
   "language": "python",
   "name": "python3"
  },
  "language_info": {
   "codemirror_mode": {
    "name": "ipython",
    "version": 3
   },
   "file_extension": ".py",
   "mimetype": "text/x-python",
   "name": "python",
   "nbconvert_exporter": "python",
   "pygments_lexer": "ipython3",
   "version": "3.11.2"
  },
  "orig_nbformat": 4
 },
 "nbformat": 4,
 "nbformat_minor": 2
}
