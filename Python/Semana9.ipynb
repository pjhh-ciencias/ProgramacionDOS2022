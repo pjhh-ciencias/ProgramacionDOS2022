{
 "cells": [
  {
   "cell_type": "markdown",
   "metadata": {},
   "source": [
    "# Funciones"
   ]
  },
  {
   "attachments": {},
   "cell_type": "markdown",
   "metadata": {},
   "source": [
    "Las funciones son bloques de código que se ejecutan cuando se las llama. Estos sirven como una forma conveniente de dividir su código en bloques útiles y con nombre para que pueda usarlos cuando lo desee.\n",
    "\n",
    "Ya hemos visto usos de ellos en el pasado, incluidos print()."
   ]
  },
  {
   "cell_type": "code",
   "execution_count": 2,
   "metadata": {},
   "outputs": [],
   "source": [
    "def introduction():\n",
    "    print(\"Hello from Sabe.io!\")"
   ]
  },
  {
   "attachments": {},
   "cell_type": "markdown",
   "metadata": {},
   "source": [
    "Es así de simple. Use la defpalabra clave para definir su función y coloque el código que desea ejecutar debajo de ella mientras lo sangra."
   ]
  },
  {
   "attachments": {},
   "cell_type": "markdown",
   "metadata": {},
   "source": [
    "## Invocar una función"
   ]
  },
  {
   "attachments": {},
   "cell_type": "markdown",
   "metadata": {},
   "source": [
    "Lo que acabamos de ver es una función válida, pero no pasará nada si la ejecutamos. Esto se debe a que aún es necesario llamar o invocar las funciones . Así es como lo invocamos:"
   ]
  },
  {
   "cell_type": "code",
   "execution_count": 3,
   "metadata": {},
   "outputs": [
    {
     "name": "stdout",
     "output_type": "stream",
     "text": [
      "Hello from Sabe.io!\n"
     ]
    }
   ],
   "source": [
    "def introduction():\n",
    "    print(\"Hello from Sabe.io!\")\n",
    "\n",
    "introduction()"
   ]
  },
  {
   "attachments": {},
   "cell_type": "markdown",
   "metadata": {},
   "source": [
    "Ahora bien, esto es genial y todo, pero las funciones son mucho más poderosas que esto. Podemos pasar datos a la función para que pueda realizar diferentes tareas."
   ]
  },
  {
   "attachments": {},
   "cell_type": "markdown",
   "metadata": {},
   "source": [
    "## Parámetros"
   ]
  },
  {
   "attachments": {},
   "cell_type": "markdown",
   "metadata": {},
   "source": [
    "Estos datos que podemos pasar a las funciones se llaman parámetros . Siguiendo con nuestro ejemplo anterior, pasemos a otro sitio web en lugar de este."
   ]
  },
  {
   "cell_type": "code",
   "execution_count": 4,
   "metadata": {},
   "outputs": [
    {
     "name": "stdout",
     "output_type": "stream",
     "text": [
      "Hello from Mixcurb.com!\n"
     ]
    }
   ],
   "source": [
    "def introduction(url):\n",
    "    print(\"Hello from \" + url + \"!\")\n",
    "\n",
    "introduction(\"Mixcurb.com\")"
   ]
  },
  {
   "attachments": {},
   "cell_type": "markdown",
   "metadata": {},
   "source": [
    "Ahora que nuestra función toma a urlcomo parámetro, podemos hacer que la salida se refiera a cualquier sitio web que queramos. ¡Cosas bastante poderosas!"
   ]
  },
  {
   "attachments": {},
   "cell_type": "markdown",
   "metadata": {},
   "source": [
    "Veamos un ejemplo de una función que nos devuelve algo:"
   ]
  },
  {
   "cell_type": "code",
   "execution_count": 5,
   "metadata": {},
   "outputs": [
    {
     "name": "stdout",
     "output_type": "stream",
     "text": [
      "28.274333882308138\n"
     ]
    }
   ],
   "source": [
    "import math\n",
    "\n",
    "def get_area_of_circle(radius):\n",
    "    return radius * radius * math.pi\n",
    "\n",
    "radius = 4\n",
    "area = get_area_of_circle(3)\n",
    "\n",
    "print(area)"
   ]
  },
  {
   "attachments": {},
   "cell_type": "markdown",
   "metadata": {},
   "source": [
    "Nuestra nueva get_area_of_circlefunción toma el radio del círculo, calcula el área y luego lo devuelve. Luego creamos una nueva variable areaque ahora tiene ese valor. Luego simplemente lo imprimimos para ver el valor."
   ]
  },
  {
   "attachments": {},
   "cell_type": "markdown",
   "metadata": {},
   "source": [
    "**Observación** Una función puede devolver prácticamente cualquier cosa. Si necesita usar el valor de retorno, asegúrese de establecerlo en una variable como lo hicimos en el ejemplo anterior."
   ]
  },
  {
   "attachments": {},
   "cell_type": "markdown",
   "metadata": {},
   "source": [
    "# Valores de parámetros predeterminados"
   ]
  },
  {
   "attachments": {},
   "cell_type": "markdown",
   "metadata": {},
   "source": [
    "Otra parte interesante de Python es la capacidad de establecer un valor predeterminado para un parámetro de modo que, si no lo pasa, la función sigue siendo válida y se ejecuta de todos modos.\n",
    "\n",
    "Apliquemos esto usando nuestro ejemplo anterior:"
   ]
  },
  {
   "cell_type": "code",
   "execution_count": 6,
   "metadata": {},
   "outputs": [
    {
     "name": "stdout",
     "output_type": "stream",
     "text": [
      "28.274333882308138\n",
      "3.141592653589793\n"
     ]
    }
   ],
   "source": [
    "import math\n",
    "\n",
    "def get_area_of_circle(radius = 1):\n",
    "    return radius * radius * math.pi\n",
    "\n",
    "radius = 4\n",
    "area = get_area_of_circle(3)\n",
    "\n",
    "print(area)\n",
    "\n",
    "area2 = get_area_of_circle()\n",
    "\n",
    "print(area2)"
   ]
  },
  {
   "attachments": {},
   "cell_type": "markdown",
   "metadata": {},
   "source": [
    "Debido a que establecimos el valor predeterminado para radiusser 1, cuando llamamos get_area_of_circlesin pasar un radio, el valor predeterminado 1fue el esperado. El resto de la función se ejecutó normalmente y obtuvimos nuestra respuesta."
   ]
  },
  {
   "cell_type": "code",
   "execution_count": null,
   "metadata": {},
   "outputs": [],
   "source": []
  }
 ],
 "metadata": {
  "kernelspec": {
   "display_name": "Python 3",
   "language": "python",
   "name": "python3"
  },
  "language_info": {
   "codemirror_mode": {
    "name": "ipython",
    "version": 3
   },
   "file_extension": ".py",
   "mimetype": "text/x-python",
   "name": "python",
   "nbconvert_exporter": "python",
   "pygments_lexer": "ipython3",
   "version": "3.11.1"
  },
  "orig_nbformat": 4,
  "vscode": {
   "interpreter": {
    "hash": "1606ed296fe21ab67c1d4b49f3f22d72247524c93f58d404930dbd4d15d6017c"
   }
  }
 },
 "nbformat": 4,
 "nbformat_minor": 2
}
