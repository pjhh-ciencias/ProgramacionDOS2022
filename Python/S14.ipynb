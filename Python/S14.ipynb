{
 "cells": [
  {
   "attachments": {},
   "cell_type": "markdown",
   "metadata": {},
   "source": [
    "# `Pandas`"
   ]
  },
  {
   "attachments": {},
   "cell_type": "markdown",
   "metadata": {},
   "source": [
    "Pandas es una biblioteca de Python ampliamente utilizada para el análisis y manipulación de datos. Proporciona estructuras de datos eficientes y flexibles, así como herramientas para el procesamiento de datos. Con Pandas, puedes importar, limpiar, transformar y analizar datos de manera sencilla y eficiente."
   ]
  },
  {
   "attachments": {},
   "cell_type": "markdown",
   "metadata": {},
   "source": [
    "La estructura de datos principal en Pandas es el `DataFrame`, que es una tabla bidimensional que puede contener datos heterogéneos. Puedes pensar en un *DataFrame* como una hoja de cálculo o una base de datos donde cada columna representa una variable y cada fila representa una observación."
   ]
  },
  {
   "attachments": {},
   "cell_type": "markdown",
   "metadata": {},
   "source": [
    "Pandas ofrece numerosas funcionalidades para realizar tareas comunes de análisis de datos, como la manipulación de columnas y filas, filtrado de datos, agregación, cálculos estadísticos, fusión y concatenación de DataFrames, entre otros."
   ]
  },
  {
   "attachments": {},
   "cell_type": "markdown",
   "metadata": {},
   "source": [
    "## Características"
   ]
  },
  {
   "attachments": {},
   "cell_type": "markdown",
   "metadata": {},
   "source": [
    "Las principales características de esta librería son:\n",
    "\n",
    "* Define nuevas estructuras de datos basadas en los arrays de la librería NumPy pero con nuevas funcionalidades.\n",
    "\n",
    "* Permite leer y escribir fácilmente ficheros en formato CSV, Excel y bases de datos SQL.\n",
    "\n",
    "* Permite acceder a los datos mediante índices o nombres para filas y columnas.\n",
    "\n",
    "* Ofrece métodos para reordenar, dividir y combinar conjuntos de datos.\n",
    "\n",
    "* Permite trabajar con series temporales.\n",
    "\n",
    "* Realiza todas estas operaciones de manera muy eficiente."
   ]
  },
  {
   "attachments": {},
   "cell_type": "markdown",
   "metadata": {},
   "source": [
    "## Tipos de datos de Pandas"
   ]
  },
  {
   "attachments": {},
   "cell_type": "markdown",
   "metadata": {},
   "source": [
    "\n",
    "Pandas dispone de tres estructuras de datos diferentes:\n",
    "\n",
    "* **Series:** Estructura de una dimensión.\n",
    "  \n",
    "* **DataFrame:** Estructura de dos dimensiones (tablas).\n",
    "  \n",
    "* **Panel:** Estructura de tres dimensiones (cubos).\n",
    "\n",
    "Estas estructuras se construyen a partir de arrays de la librería NumPy, añadiendo nuevas funcionalidades."
   ]
  },
  {
   "attachments": {},
   "cell_type": "markdown",
   "metadata": {},
   "source": [
    "## Series"
   ]
  },
  {
   "attachments": {},
   "cell_type": "markdown",
   "metadata": {},
   "source": [
    "Son estructuras similares a los arrays de una dimensión. Son **homogéneas**, es decir, sus elementos tienen que ser del mismo tipo, y su tamaño es **inmutable**, es decir, no se puede cambiar, aunque si su contenido.\n",
    "\n",
    "Dispone de un índice que asocia un nombre a cada elemento del la serie, a través de la cuál se accede al elemento."
   ]
  },
  {
   "cell_type": "code",
   "execution_count": null,
   "metadata": {},
   "outputs": [],
   "source": [
    "import numpy as np\n",
    "import pandas as pd\n",
    "\n",
    "s = pd.Series([1, 3, 5, np.nan, 6, 8], name = 'Mi serie')\n",
    "print(s)\n",
    "\n",
    "s1 = s.copy()\n",
    "s1[1]=10\n",
    "print(s)"
   ]
  },
  {
   "attachments": {},
   "cell_type": "markdown",
   "metadata": {},
   "source": [
    "**Observación:** `np.nan` se refiere a la representación de un valor `NaN` (`Not a Number`) en la biblioteca NumPy. NaN es un valor especial utilizado para indicar datos faltantes o no válidos en arreglos numéricos.\n",
    "\n",
    "NaN se utiliza comúnmente en cálculos y operaciones donde puede haber valores faltantes o datos no válidos. En lugar de simplemente dejar un espacio en blanco o usar un valor predeterminado para indicar la ausencia de datos, NaN proporciona una forma estándar de representar estos valores faltantes."
   ]
  },
  {
   "attachments": {},
   "cell_type": "markdown",
   "metadata": {},
   "source": [
    "La clase Series en Pandas acepta varios argumentos adicionales aparte de los datos y el índice. Aquí tienes una lista de algunos argumentos comunes que se pueden utilizar al crear una Serie o al llamar a métodos de una Serie:"
   ]
  },
  {
   "attachments": {},
   "cell_type": "markdown",
   "metadata": {},
   "source": [
    "<center>\n",
    "<table>\n",
    "  <tr>\n",
    "    <th>Argumento</th>\n",
    "    <th>Descripción</th>\n",
    "    <th>Ejemplo de Uso</th>\n",
    "  </tr>\n",
    "  <tr>\n",
    "    <td>name</td>\n",
    "    <td>Asigna un nombre a la Serie.</td>\n",
    "    <td>pd.Series(data, name=\"Ventas\")</td>\n",
    "  </tr>\n",
    "  <tr>\n",
    "    <td>dtype</td>\n",
    "    <td>Especifica el tipo de datos de la Serie.</td>\n",
    "    <td>pd.Series(data, dtype=np.float64)</td>\n",
    "  </tr>\n",
    "  <tr>\n",
    "    <td>copy</td>\n",
    "    <td>Realiza una copia de los datos.</td>\n",
    "    <td>serie.copy()</td>\n",
    "  </tr>\n",
    "  <!-- <tr>\n",
    "    <td>fastpath</td>\n",
    "    <td>Habilita el código de camino rápido para la construcción de la Serie.</td>\n",
    "    <td>pd.Series(data, fastpath=True)</td>\n",
    "  </tr>\n",
    "  <tr>\n",
    "    <td>verify_integrity</td>\n",
    "    <td>Verifica la integridad de los datos al crear la Serie.</td>\n",
    "    <td>pd.Series(data, verify_integrity=True)</td>\n",
    "  </tr> -->\n",
    "</table>\n",
    "\n",
    "</center>"
   ]
  },
  {
   "attachments": {},
   "cell_type": "markdown",
   "metadata": {},
   "source": [
    "## Creación de una serie a partir de una lista"
   ]
  },
  {
   "attachments": {},
   "cell_type": "markdown",
   "metadata": {},
   "source": [
    "`Series(data=lista, index=indices, dtype=tipo)`: Devuelve un objeto de tipo Series con los datos de la lista lista, las filas especificados en la lista indices y el tipo de datos indicado en tipo. Si no se pasa la lista de índices se utilizan como índices los enteros del 0 al , done  es el tamaño de la serie. Si no se pasa el tipo de dato se infiere."
   ]
  },
  {
   "cell_type": "code",
   "execution_count": null,
   "metadata": {},
   "outputs": [],
   "source": [
    "import pandas as pd\n",
    "s = pd.Series(['Matemáticas', 'Historia', 'Economía', 'Programación', 'Inglés'], dtype='string')\n",
    "print(s)"
   ]
  },
  {
   "cell_type": "code",
   "execution_count": null,
   "metadata": {},
   "outputs": [],
   "source": [
    "import pandas as pd\n",
    "\n",
    "lista = [10, 20, 30, 40, 50]\n",
    "\n",
    "serie = pd.Series(lista)\n",
    "\n",
    "etiquetas = ['a', 'b', 'c', 'd', 'e']\n",
    "\n",
    "serie = pd.Series(lista, index=etiquetas)\n",
    "print(serie)"
   ]
  },
  {
   "attachments": {},
   "cell_type": "markdown",
   "metadata": {},
   "source": [
    "## Creación de una serie a partir de un diccionario"
   ]
  },
  {
   "attachments": {},
   "cell_type": "markdown",
   "metadata": {},
   "source": [
    "`Series(data=diccionario, index=indices)`: Devuelve un objeto de tipo Series con los valores del diccionario diccionario y las filas especificados en la lista indices. Si no se pasa la lista de índices se utilizan como índices las claves del diccionario."
   ]
  },
  {
   "cell_type": "code",
   "execution_count": null,
   "metadata": {},
   "outputs": [],
   "source": [
    "import pandas as pd\n",
    "s = pd.Series({'Matemáticas': 6.0,  'Economía': 4.5, 'Programación': 8.5})\n",
    "print(s)"
   ]
  },
  {
   "cell_type": "code",
   "execution_count": null,
   "metadata": {},
   "outputs": [],
   "source": [
    "s.size\n",
    "print(s.index)\n",
    "s.dtype"
   ]
  },
  {
   "attachments": {},
   "cell_type": "markdown",
   "metadata": {},
   "source": [
    "## Atributos de una serie"
   ]
  },
  {
   "attachments": {},
   "cell_type": "markdown",
   "metadata": {},
   "source": [
    "Existen varias propiedades o métodos para ver las características de una serie.\n",
    "\n",
    "* `s.size` : Devuelve el número de elementos de la serie s.\n",
    "\n",
    "* `s.index` : Devuelve una lista con los nombres de las filas del DataFrame s.\n",
    "\n",
    "* `s.dtype` : Devuelve el tipo de datos de los elementos de la serie s."
   ]
  },
  {
   "attachments": {},
   "cell_type": "markdown",
   "metadata": {},
   "source": [
    "## Acceso a los elementos de una serie"
   ]
  },
  {
   "attachments": {},
   "cell_type": "markdown",
   "metadata": {},
   "source": [
    "### Acceso por posición"
   ]
  },
  {
   "attachments": {},
   "cell_type": "markdown",
   "metadata": {},
   "source": [
    "\n",
    "Se realiza de forma similar a como se accede a los elementos de un array.\n",
    "\n",
    "* `s[i]` : Devuelve el elemento que ocupa la posición i+1 en la serie s.\n",
    "s[posiciones]: Devuelve otra serie con los elementos que ocupan las posiciones de la lista posiciones."
   ]
  },
  {
   "attachments": {},
   "cell_type": "markdown",
   "metadata": {},
   "source": [
    "### Acceso por índice\n"
   ]
  },
  {
   "attachments": {},
   "cell_type": "markdown",
   "metadata": {},
   "source": [
    "* `s[nombre]` : Devuelve el elemento con el nombre nombre en el índice.\n",
    "* s[nombres] : Devuelve otra serie con los elementos correspondientes a los nombres indicadas en la lista nombres en el índice.\n"
   ]
  },
  {
   "cell_type": "code",
   "execution_count": null,
   "metadata": {},
   "outputs": [],
   "source": [
    "s[['Matemáticas','Programación']]"
   ]
  },
  {
   "attachments": {},
   "cell_type": "markdown",
   "metadata": {},
   "source": [
    "<center>\n",
    "<table>\n",
    "  <tr>\n",
    "    <th>Atributo</th>\n",
    "    <th>Descripción</th>\n",
    "    <th>Ejemplo de Uso</th>\n",
    "  </tr>\n",
    "  <tr>\n",
    "    <td>values</td>\n",
    "    <td>Devuelve los valores de la serie como un array NumPy.</td>\n",
    "    <td><code>serie.values</code></td>\n",
    "  </tr>\n",
    "  <tr>\n",
    "    <td>index</td>\n",
    "    <td>Devuelve los índices de la serie.</td>\n",
    "    <td><code>serie.index</code></td>\n",
    "  </tr>\n",
    "  <tr>\n",
    "    <td>name</td>\n",
    "    <td>Devuelve el nombre de la serie.</td>\n",
    "    <td><code>serie.name</code></td>\n",
    "  </tr>\n",
    "  <tr>\n",
    "    <td>dtype</td>\n",
    "    <td>Devuelve el tipo de datos de la serie.</td>\n",
    "    <td><code>serie.dtype</code></td>\n",
    "  </tr>\n",
    "  <tr>\n",
    "    <td>size</td>\n",
    "    <td>Devuelve la cantidad de elementos en la serie.</td>\n",
    "    <td><code>serie.size</code></td>\n",
    "  </tr>\n",
    "  <tr>\n",
    "    <td>shape</td>\n",
    "    <td>Devuelve una tupla que indica la forma de la serie (número de filas, número de columnas).</td>\n",
    "    <td><code>serie.shape</code></td>\n",
    "  </tr>\n",
    "  <tr>\n",
    "    <td>ndim</td>\n",
    "    <td>Devuelve la cantidad de dimensiones de la serie.</td>\n",
    "    <td><code>serie.ndim</code></td>\n",
    "  </tr>\n",
    "  <tr>\n",
    "    <td>empty</td>\n",
    "    <td>Devuelve un valor booleano que indica si la serie está vacía o no.</td>\n",
    "    <td><code>serie.empty</code></td>\n",
    "  </tr>\n",
    "  <tr>\n",
    "    <td>head()</td>\n",
    "    <td>Devuelve las primeras n filas de la serie.</td>\n",
    "    <td><code>serie.head(5)</code></td>\n",
    "  </tr>\n",
    "  <tr>\n",
    "    <td>tail()</td>\n",
    "    <td>Devuelve las últimas n filas de la serie.</td>\n",
    "    <td><code>serie.tail(5)</code></td>\n",
    "  </tr>\n",
    "  <tr>\n",
    "    <td>describe()</td>\n",
    "    <td>Calcula estadísticas descriptivas para la serie (conteo, media, desviación estándar, mínimo, percentiles, máximo, entre otros).</td>\n",
    "    <td><code>serie.describe()</code></td>\n",
    "  </tr>\n",
    "  <tr>\n",
    "    <td>min()</td>\n",
    "    <td>Devuelve el valor mínimo de la serie.</td>\n",
    "    <td><code>serie.min()</code></td>\n",
    "  </tr>\n",
    "  <tr>\n",
    "    <td>max()</td>\n",
    "    <td>Devuelve el valor máximo de la serie.</td>\n",
    "    <td><code>serie.max()</code></td>\n",
    "  </tr>\n",
    "  <tr>\n",
    "    <td>sum()</td>\n",
    "    <td>Calcula la suma de los valores en la serie.</td>\n",
    "    <td><code>serie.sum()</code></td>\n",
    "  </tr>\n",
    "  <tr>\n",
    "    <td>mean()</td>\n",
    "    <td>Calcula la media de los valores en la serie.</td>\n",
    "    <td><code>serie.mean()</code></td>\n",
    "  </tr>\n",
    "  <tr>\n",
    "    <td>median()</td>\n",
    "    <td>Calcula la mediana de los valores en la serie.</td>\n",
    "    <td><code>serie.median()</code></td>\n",
    "  </tr>\n",
    "  <tr>\n",
    "    <td>std()</td>\n",
    "    <td>Calcula la desviación estándar de los valores en la serie.</td>\n",
    "    <td><code>serie.std()</code></td>\n",
    "  </tr>\n",
    "  <tr>\n",
    "    <td>var()</td>\n",
    "    <td>Calcula la varianza de los valores en la serie.</td>\n",
    "    <td><code>serie.var()</code></td>\n",
    "  </tr>\n",
    "  <tr>\n",
    "    <td>count()</td>\n",
    "    <td>Devuelve la cantidad de valores no nulos en la serie.</td>\n",
    "    <td><code>serie.count()</code></td>\n",
    "  </tr>\n",
    "  <tr>\n",
    "    <td>idxmin()</td>\n",
    "    <td>Devuelve el índice del valor mínimo en la serie.</td>\n",
    "    <td><code>serie.idxmin()</code></td>\n",
    "  </tr>\n",
    "  <tr>\n",
    "    <td>idxmax()</td>\n",
    "    <td>Devuelve el índice del valor máximo en la serie.</td>\n",
    "    <td><code>serie.idxmax()</code></td>\n",
    "  </tr>\n",
    "  <tr>\n",
    "    <td>all()</td>\n",
    "    <td>Devuelve True si todos los elementos de la serie son verdaderos.</td>\n",
    "    <td><code>serie.all()</code></td>\n",
    "  </tr>\n",
    "  <tr>\n",
    "    <td>any()</td>\n",
    "    <td>Devuelve True si al menos un elemento de la serie es verdadero.</td>\n",
    "    <td><code>serie.any()</code></td>\n",
    "  </tr>\n",
    "  <!-- Agrega más filas según sea necesario -->\n",
    "</table>\n",
    "</center>"
   ]
  },
  {
   "cell_type": "code",
   "execution_count": null,
   "metadata": {},
   "outputs": [],
   "source": [
    "import pandas as pd\n",
    "\n",
    "precios_viviendas = [250000, 270000, 290000, 320000, 320000, 330000, 340000, 250000]\n",
    "years = ['2018 Q1', '2018 Q2', '2018 Q3', '2018 Q4', '2019 Q1', '2019 Q2', '2019 Q3', '2019 Q4']\n",
    "\n",
    "serie_precios = pd.Series(precios_viviendas, index=years)\n",
    "\n",
    "serie_precios.name = \"Precio promedio de viviendas por trimestre\"\n",
    "\n",
    "serie_precios\n",
    "#print(serie_precios)"
   ]
  },
  {
   "cell_type": "code",
   "execution_count": null,
   "metadata": {},
   "outputs": [],
   "source": [
    "serie_precios.head(5)\n",
    "#serie_precios.tail(2)"
   ]
  },
  {
   "cell_type": "code",
   "execution_count": null,
   "metadata": {},
   "outputs": [],
   "source": [
    "resumen = serie_precios.describe()\n",
    "print(resumen)"
   ]
  },
  {
   "cell_type": "code",
   "execution_count": null,
   "metadata": {},
   "outputs": [],
   "source": [
    "print(serie_precios.value_counts())\n",
    "print(serie_precios.unique())"
   ]
  },
  {
   "attachments": {},
   "cell_type": "markdown",
   "metadata": {},
   "source": [
    "## Operaciones a una `serie` "
   ]
  },
  {
   "attachments": {},
   "cell_type": "markdown",
   "metadata": {},
   "source": [
    "Los operadores binarios (`+`, `*`, `/`, etc.) pueden utilizarse con una serie, y devuelven otra serie con el resultado de aplicar la operación a cada elemento de la serie."
   ]
  },
  {
   "cell_type": "code",
   "execution_count": null,
   "metadata": {},
   "outputs": [],
   "source": [
    "import pandas as pd\n",
    "s = pd.Series([1, 2, 3, 4])\n",
    "s * 2"
   ]
  },
  {
   "cell_type": "code",
   "execution_count": null,
   "metadata": {},
   "outputs": [],
   "source": [
    "s = pd.Series([1, 2, 3, 4])\n",
    "s % 2"
   ]
  },
  {
   "cell_type": "code",
   "execution_count": null,
   "metadata": {},
   "outputs": [],
   "source": [
    "s = pd.Series(['a', 'b', 'c'])\n",
    "s * 5"
   ]
  },
  {
   "attachments": {},
   "cell_type": "markdown",
   "metadata": {},
   "source": [
    "## Ordenar una serie"
   ]
  },
  {
   "attachments": {},
   "cell_type": "markdown",
   "metadata": {},
   "source": [
    "Para ordenar una serie se utilizan los siguientes métodos:\n",
    "\n",
    "<center> <code>s.sort_values(ascending=booleano)</code></center>\n",
    "\n",
    "Devuelve la serie que resulta de ordenar los valores la serie `s`. Si argumento del parámetro ***ascending*** es `True` el orden es creciente y si es `False` decreciente.\n",
    "\n",
    "<center> <code>df.sort_index(ascending=booleano)</code></center> \n",
    "\n",
    "Devuelve la serie que resulta de ordenar el índice de la serie `s`. Si el argumento del parámetro ***ascending*** es `True` el orden es creciente y si es `False` decreciente."
   ]
  },
  {
   "cell_type": "code",
   "execution_count": null,
   "metadata": {},
   "outputs": [],
   "source": [
    "import pandas as pd\n",
    "s = pd.Series({'Matemáticas': 6.0,  'Economía': 9.5, 'Programación': 8.5})\n",
    "print(s.sort_values())"
   ]
  },
  {
   "cell_type": "code",
   "execution_count": null,
   "metadata": {},
   "outputs": [],
   "source": [
    "print(s.sort_index())\n",
    "#print(s.sort_index(ascending = False))"
   ]
  },
  {
   "attachments": {},
   "cell_type": "markdown",
   "metadata": {},
   "source": [
    "## Eliminar los dados desconocidos en una serie "
   ]
  },
  {
   "attachments": {},
   "cell_type": "markdown",
   "metadata": {},
   "source": [
    "Los **datos desconocidos** se representan en `Pandas` por `NaN` y los nulos por `None`. Tanto unos como otros suelen ser un problema a la hora de realizar algún análisis de datos, por lo que es habitual eliminarlos. Para eliminarlos de una serie se utiliza el siguiente método:\n",
    "\n",
    "<center><code>s.dropna()</code></center> \n",
    "\n",
    "`s.dropna()` elimina los datos desconocidos o nulos de la serie `s`."
   ]
  },
  {
   "cell_type": "code",
   "execution_count": null,
   "metadata": {},
   "outputs": [],
   "source": [
    "import pandas as pd\n",
    "import numpy as np\n",
    "s = pd.Series(['a', 'b', None, 'c', np.NaN,  'd'])"
   ]
  },
  {
   "cell_type": "code",
   "execution_count": null,
   "metadata": {},
   "outputs": [],
   "source": [
    "s.dropna()"
   ]
  },
  {
   "attachments": {},
   "cell_type": "markdown",
   "metadata": {},
   "source": [
    "## Función `any`"
   ]
  },
  {
   "attachments": {},
   "cell_type": "markdown",
   "metadata": {},
   "source": [
    "La función `any()` en Pandas se utiliza para verificar si al menos un elemento de una serie es verdadero. Devuelve `True` si al menos un elemento es verdadero y `False` si todos los elementos son falsos."
   ]
  },
  {
   "cell_type": "code",
   "execution_count": null,
   "metadata": {},
   "outputs": [],
   "source": [
    "import pandas as pd\n",
    "import numpy as np\n",
    "\n",
    "# Crear una Serie con valores incluyendo NaN\n",
    "serie = pd.Series([1, 2, np.nan, 4, 5])\n",
    "\n",
    "# Verificar si al menos un valor faltante está presente en la Serie\n",
    "resultado = serie.isna().any()\n",
    "print(resultado)\n",
    "# Salida: True\n"
   ]
  },
  {
   "cell_type": "code",
   "execution_count": null,
   "metadata": {},
   "outputs": [],
   "source": [
    "import pandas as pd\n",
    "\n",
    "serie = pd.Series([10, 20, 30, 40, 50])\n",
    "\n",
    "resultado = (serie > 30).any()\n",
    "print(resultado)"
   ]
  },
  {
   "cell_type": "code",
   "execution_count": null,
   "metadata": {},
   "outputs": [],
   "source": [
    "print((serie > 30 ).sum())"
   ]
  },
  {
   "attachments": {},
   "cell_type": "markdown",
   "metadata": {},
   "source": [
    "## Aplicar funciones a una serie"
   ]
  },
  {
   "attachments": {},
   "cell_type": "markdown",
   "metadata": {},
   "source": [
    "También es posible aplicar una función a cada elemento de la serie mediante el siguiente método:\n",
    "\n",
    "<center><code>s.apply(f)</code></center>\n",
    "\n",
    "Devuelve una serie con el resultado de aplicar la función `f` a cada uno de los elementos de la serie `s`.\n"
   ]
  },
  {
   "cell_type": "code",
   "execution_count": null,
   "metadata": {},
   "outputs": [],
   "source": [
    "import pandas as pd\n",
    "import numpy as np\n",
    "from math import log\n",
    "\n",
    "s = pd.Series([np.pi, 2*np.pi, 3*np.pi, 4*np.pi])\n",
    "s.apply(np.sin)"
   ]
  },
  {
   "cell_type": "code",
   "execution_count": null,
   "metadata": {},
   "outputs": [],
   "source": [
    "s = pd.Series(['a', 'b', 'c'])\n",
    "s.apply(str.upper)"
   ]
  },
  {
   "attachments": {},
   "cell_type": "markdown",
   "metadata": {},
   "source": [
    "## Filtrar una serie"
   ]
  },
  {
   "attachments": {},
   "cell_type": "markdown",
   "metadata": {},
   "source": [
    "Para filtrar una serie y quedarse con los valores que cumplen una determinada condición se utiliza el siguiente método:\n",
    "\n",
    "<center><code>s[condicion]</code></center> \n",
    "\n",
    "Devuelve una serie con los elementos de la serie `s` que se corresponden con el valor `True` de la lista booleana `condicion`. `condicion` debe ser una lista de valores booleanos de la misma longitud que la serie."
   ]
  },
  {
   "cell_type": "code",
   "execution_count": null,
   "metadata": {},
   "outputs": [],
   "source": [
    "import pandas as pd\n",
    "s = pd.Series({'Matemáticas': 6.0,  'Economía': 4.5, 'Programación': 8.5})\n",
    "print(s[s > 5])"
   ]
  },
  {
   "attachments": {},
   "cell_type": "markdown",
   "metadata": {},
   "source": [
    "# Dataframe"
   ]
  },
  {
   "attachments": {},
   "cell_type": "markdown",
   "metadata": {},
   "source": [
    "Un objeto del tipo `DataFrame` define un conjunto de datos estructurado en forma de tabla donde cada columna es un objeto de tipo `Series`, es decir, todos los datos de una misma columna son del mismo tipo, y las filas son registros que pueden contender datos de distintos tipos."
   ]
  },
  {
   "attachments": {},
   "cell_type": "markdown",
   "metadata": {},
   "source": [
    "Un `DataFrame` contiene dos índices, uno para las *filas* y otro para las *columnas*, y se puede acceder a sus elementos mediante los nombres de las filas y las columnas."
   ]
  },
  {
   "attachments": {},
   "cell_type": "markdown",
   "metadata": {},
   "source": [
    "## Creación de un DataFrame"
   ]
  },
  {
   "cell_type": "code",
   "execution_count": null,
   "metadata": {},
   "outputs": [],
   "source": [
    "import pandas as pd\n",
    "\n",
    "pd.Dataframe({'A': [1, 2, 3]})"
   ]
  },
  {
   "attachments": {},
   "cell_type": "markdown",
   "metadata": {},
   "source": [
    "### Creación de un DataFrame a partir de un diccionario de listas"
   ]
  },
  {
   "attachments": {},
   "cell_type": "markdown",
   "metadata": {},
   "source": [
    "Para crear un `DataFrame` a partir de un diccionario cuyas claves son los nombres de las columnas y los valores son listas con los datos de las columnas se utiliza el método:\n",
    "\n",
    "`pd.Dataframe(data=diccionario, index=filas, columns=columnas, dtype=tipos)`\n",
    "\n",
    "* Devuelve un objeto del tipo DataFrame cuyas columnas son las listas contenidas en los valores del diccionario `diccionario`,\n",
    "  \n",
    "* Los nombres de filas son los indicados en la lista filas,\n",
    "\n",
    "* Los nombres de columnas son los indicados en la lista columnas y los tipos indicados en la lista tipos.\n",
    "\n",
    "* La lista filas tiene que tener el mismo tamaño que las listas del diccionario, mientras que las listas columnas y tipos tienen que tener el mismo tamaño que el diccionario. \n",
    "  \n",
    "* Si no se pasa la lista de filas se utilizan como nombres los enteros empezando en 0. Si no se pasa la lista de columnas se utilizan como nombres las claves del diccionario. Si no se pasa la lista de tipos, se infiere."
   ]
  },
  {
   "attachments": {},
   "cell_type": "markdown",
   "metadata": {},
   "source": [
    "**Observación:** Los valores asociados a las claves del diccionario deben ser listas del mismo tamaño."
   ]
  },
  {
   "cell_type": "code",
   "execution_count": null,
   "metadata": {},
   "outputs": [],
   "source": [
    "import pandas as pd\n",
    "datos = {'nombre':['María', 'Luis', 'Carmen', 'Antonio'],\n",
    "         'edad':[18, 22, 20, 21], \n",
    "         'grado':['Economía', 'Medicina', 'Arquitectura', 'Economía'],\n",
    "         'correo':['maria@gmail.com', 'luis@yahoo.es', 'carmen@gmail.com', 'antonio@gmail.com']\n",
    "         }\n",
    "df = pd.Dataframe(datos)\n",
    "df\n",
    "#print(df)"
   ]
  },
  {
   "attachments": {},
   "cell_type": "markdown",
   "metadata": {},
   "source": [
    "### Creación de un DataFrame a partir de una listas de listas"
   ]
  },
  {
   "attachments": {},
   "cell_type": "markdown",
   "metadata": {},
   "source": [
    "Para crear un `DataFrame` a **partir de una lista de listas** con los datos de las columnas se utiliza el siguiente método:\n",
    "\n",
    "`pd.Dataframe(data=listas, index=filas, columns=columnas, dtype=tipos)`\n",
    "\n",
    "* Devuelve un objeto del tipo `DataFrame` cuyas columnas son los valores de las listas de la lista listas, \n",
    "\n",
    "* Los nombres de filas indicados en la lista filas, los nombres de columnas indicados en la lista columnas y los tipos indicados en la lista tipos. \n",
    "  \n",
    "* La lista filas, tiene que tener el mismo tamaño que la lista listas mientras que las listas columnas y tipos tienen que tener el mismo tamaño que las listas anidadas en listas. \n",
    "  \n",
    "* Si no se pasa la lista de filas o de columnas se utilizan enteros empezando en 0. Si no se pasa la lista de tipos, se infiere."
   ]
  },
  {
   "attachments": {},
   "cell_type": "markdown",
   "metadata": {},
   "source": [
    "**Observación:** Si las listas anidadas en listas no tienen el mismo tamaño, las listas menores se rellenan con valores `NaN`."
   ]
  },
  {
   "cell_type": "code",
   "execution_count": null,
   "metadata": {},
   "outputs": [],
   "source": [
    "import pandas as pd\n",
    "df = pd.Dataframe([['María', 18], ['Luis', 22], ['Carmen', 20]], columns=['Nombre', 'Edad'])\n",
    "print(df)\n"
   ]
  },
  {
   "attachments": {},
   "cell_type": "markdown",
   "metadata": {},
   "source": [
    "### Creación de un DataFrame a partir de una lista de diccionarios"
   ]
  },
  {
   "attachments": {},
   "cell_type": "markdown",
   "metadata": {},
   "source": [
    "Para crear un DataFrame a partir de una lista de diccionarios con los datos de las filas, se utiliza el siguiente método:\n",
    "\n",
    "`pd.Dataframe(data=diccionarios, index=filas, columns=columnas, dtype=tipos)`\n",
    "\n",
    "* Devuelve un objeto del tipo DataFrame cuyas filas contienen los valores de los diccionarios de la lista diccionarios,\n",
    "\n",
    "* Los nombres de filas indicados en la lista filas, los nombres de columnas indicados en la lista columnas y los tipos indicados en la lista tipos. \n",
    "\n",
    "* La lista filas tiene que tener el mismo tamaño que la lista lista. Si no se pasa la lista de filas se utilizan enteros empezando en 0.\n",
    "  \n",
    "* Si no se pasa la lista de columnas se utilizan las claves de los diccionarios."
   ]
  },
  {
   "attachments": {},
   "cell_type": "markdown",
   "metadata": {},
   "source": [
    "**Observación:** Si no se pasa la lista de tipos, se infiere. Si los diccionarios no tienen las mismas claves, las claves que no aparecen en el diccionario se rellenan con valores `NaN`."
   ]
  },
  {
   "cell_type": "code",
   "execution_count": null,
   "metadata": {},
   "outputs": [],
   "source": [
    "import pandas as pd\n",
    "df = pd.Dataframe([{'Nombre':'María', 'Edad':18}, {'Nombre':'Luis', 'Edad':22}, {'Nombre':'Carmen'}])\n",
    "print(df)"
   ]
  },
  {
   "attachments": {},
   "cell_type": "markdown",
   "metadata": {},
   "source": [
    "### Creación de un DataFrame a partir de un array"
   ]
  },
  {
   "attachments": {},
   "cell_type": "markdown",
   "metadata": {},
   "source": [
    "Para crear un DataFrame a partir de un `array` de NumPy se utiliza el siguiente método:\n",
    "\n",
    "`pd.Dataframe(data=array, index=filas, columns=columnas, dtype=tipo)`\n",
    " \n",
    "* Devuelde un objeto del tipo `DataFrame` cuyas filas y columnas son las del array array,\n",
    "\n",
    "* Los nombres de filas indicados en la lista filas, los nombres de columnas indicados en la lista columnas y el tipo indicado en tipo.\n",
    "  \n",
    "* La lista filas tiene que tener el mismo tamaño que el número de filas del array y la lista columnas el mismo tamaño que el número de columnas del array. \n",
    "  \n",
    "* Si no se pasa la lista de filas se utilizan enteros empezando en 0. Si no se pasa la lista de columnas se utilizan las claves de los diccionarios. Si no se pasa la lista de tipos, se infiere."
   ]
  },
  {
   "cell_type": "code",
   "execution_count": null,
   "metadata": {},
   "outputs": [],
   "source": [
    "import pandas as pd\n",
    "import numpy as np\n",
    "\n",
    "df = pd.DataFrame(np.random.randn(4, 3), columns=['a', 'b', 'c'])\n",
    "print(df)"
   ]
  },
  {
   "attachments": {},
   "cell_type": "markdown",
   "metadata": {},
   "source": [
    "### Creación de un DataFrame a partir de un fichero CSV o Excel"
   ]
  },
  {
   "attachments": {},
   "cell_type": "markdown",
   "metadata": {},
   "source": [
    "Dependiendo del tipo de fichero, existen distintas funciones para importar un DataFrame desde un fichero.\n",
    "\n",
    "`read_csv(fichero.csv, sep=separador, header=n, index_col=m, na_values=no-validos, decimal=separador-decimal)` \n",
    "\n",
    "* Devuelve un objeto del tipo DataFrame con los datos del fichero CSV fichero.csv \n",
    "\n",
    "* Se usan como separador de los datos la cadena separador.\n",
    " \n",
    "* Como nombres de columnas se utiliza los valores de la fila n y como nombres de filas los valores de la columna m.\n",
    "  \n",
    "*  Si no se indica m se utilizan como nombres de filas los enteros empezando en 0.\n",
    "  \n",
    "* Los valores incluídos en la lista no-validos se convierten en `NaN`.\n",
    "  \n",
    "* Para los datos numéricos se utiliza como separador de decimales el carácter indicado en `separador-decimal`."
   ]
  },
  {
   "attachments": {},
   "cell_type": "markdown",
   "metadata": {},
   "source": [
    "`read_excel(fichero.xlsx, sheet_name=hoja, header=n, index_col=m, na_values=no-validos, decimal=separador-decimal)`\n",
    "\n",
    "* Devuelve un objeto del tipo `DataFrame` con los datos de la hoja de cálculo hoja del fichero Excel `fichero.xlsx`. \n",
    "  \n",
    "* Como nombres de columnas se utiliza los valores de la fila n y como nombres de filas los valores de la columna m.\n",
    "  \n",
    "* Si no se indica m se utilizan como nombres de filas los enteros empezando en 0. Los valores incluídos en la lista no-validos se convierten en NaN. Para los datos numéricos se utiliza como separador de decimales el carácter indicado en separador-decimal."
   ]
  },
  {
   "attachments": {},
   "cell_type": "markdown",
   "metadata": {},
   "source": [
    "## Atributoa de un Dataframe"
   ]
  },
  {
   "attachments": {},
   "cell_type": "markdown",
   "metadata": {},
   "source": [
    "<center>\n",
    "<table>\n",
    "  <tr>\n",
    "    <th>Atributo</th>\n",
    "    <th>Descripción</th>\n",
    "    <th>Ejemplo de Uso</th>\n",
    "  </tr>\n",
    "  <tr>\n",
    "    <td>shape</td>\n",
    "    <td>Devuelve una tupla con el número de filas y columnas del DataFrame</td>\n",
    "    <td>df.shape</td>\n",
    "  </tr>\n",
    "  <tr>\n",
    "    <td>columns</td>\n",
    "    <td>Devuelve una lista con los nombres de las columnas del DataFrame</td>\n",
    "    <td>df.columns</td>\n",
    "  </tr>\n",
    "  <tr>\n",
    "    <td>index</td>\n",
    "    <td>Devuelve el índice (etiquetas de fila) del DataFrame</td>\n",
    "    <td>df.index</td>\n",
    "  </tr>\n",
    "  <tr>\n",
    "    <td>values</td>\n",
    "    <td>Devuelve una matriz NumPy que representa los datos del DataFrame</td>\n",
    "    <td>df.values</td>\n",
    "  </tr>\n",
    "  <tr>\n",
    "    <td>dtypes</td>\n",
    "    <td>Devuelve los tipos de datos de cada columna del DataFrame</td>\n",
    "    <td>df.dtypes</td>\n",
    "  </tr>\n",
    "  <tr>\n",
    "    <td>info()</td>\n",
    "    <td>Proporciona información sobre el DataFrame, incluyendo el número total de entradas no nulas por columna y el tipo de datos de cada columna</td>\n",
    "    <td>df.info()</td>\n",
    "  </tr>\n",
    "  <tr>\n",
    "    <td>describe()</td>\n",
    "    <td>Calcula estadísticas descriptivas para las columnas numéricas del DataFrame</td>\n",
    "    <td>df.describe()</td>\n",
    "  </tr>\n",
    "  <tr>\n",
    "    <td>head(n)</td>\n",
    "    <td>Devuelve las primeras n filas del DataFrame</td>\n",
    "    <td>df.head()</td>\n",
    "  </tr>\n",
    "  <tr>\n",
    "    <td>tail(n)</td>\n",
    "    <td>Devuelve las últimas n filas del DataFrame</td>\n",
    "    <td>df.tail()</td>\n",
    "  </tr>\n",
    "  <tr>\n",
    "    <td>T</td>\n",
    "    <td>Devuelve una transposición del DataFrame, intercambiando filas y columnas</td>\n",
    "    <td>df.T</td>\n",
    "  </tr>\n",
    "  <tr>\n",
    "    <td>empty</td>\n",
    "    <td>Devuelve un valor booleano que indica si el DataFrame está vacío</td>\n",
    "    <td>df.empty</td>\n",
    "  </tr>\n",
    "  <tr>\n",
    "    <td>ndim</td>\n",
    "    <td>Devuelve el número de dimensiones del DataFrame</td>\n",
    "    <td>df.ndim</td>\n",
    "  </tr>\n",
    "  <tr>\n",
    "    <td>size</td>\n",
    "    <td>Devuelve el número total de elementos en el DataFrame</td>\n",
    "    <td>df.size</td>\n",
    "  </tr>\n",
    "  <tr>\n",
    "    <td>style</td>\n",
    "    <td>Permite aplicar estilos a un DataFrame para resaltar visualmente los datos</td>\n",
    "    <td>df.style</td>\n",
    "  </tr>\n",
    "  <tr>\n",
    "    <td>nunique()</td>\n",
    "    <td>Devuelve el número de valores únicos en cada columna</td>\n",
    "    <td>df['columna'].nunique()</td>\n",
    "  </tr>\n",
    "  <tr>\n",
    "    <td>unique()</td>\n",
    "    <td>Devuelve una matriz con los valores únicos en una columna específica</td>\n",
    "    <td>df['columna'].unique()</td>\n",
    "  </tr>\n",
    "  <tr>\n",
    "    <td>duplicated()</td>\n",
    "    <td>Devuelve una serie booleana que indica si cada fila es duplicada o no</td>\n",
    "    <td>df.duplicated()</td>\n",
    "  </tr>\n",
    "  <tr>\n",
    "    <td>drop_duplicates()</td>\n",
    "    <td>Elimina las filas duplicadas del DataFrame y devuelve el DataFrame resultante</td>\n",
    "    <td>df.drop_duplicates()</td>\n",
    "  </tr>\n",
    "  <tr>\n",
    "    <td>corr()</td>\n",
    "    <td>Calcula la correlación entre columnas numéricas en el DataFrame</td>\n",
    "    <td>df.corr()</td>\n",
    "  </tr>\n",
    "  <tr>\n",
    "    <td>cov()</td>\n",
    "    <td>Calcula la covarianza entre columnas numéricas en el DataFrame</td>\n",
    "    <td>df.cov()</td>\n",
    "  </tr>\n",
    "  <tr>\n",
    "    <td>min()</td>\n",
    "    <td>Devuelve el valor mínimo de cada columna numérica</td>\n",
    "    <td>df.min()</td>\n",
    "  </tr>\n",
    "  <tr>\n",
    "    <td>max()</td>\n",
    "    <td>Devuelve el valor máximo de cada columna numérica</td>\n",
    "    <td>df.max()</td>\n",
    "  </tr>\n",
    "  <tr>\n",
    "    <td>sum()</td>\n",
    "    <td>Calcula la suma de los valores en cada columna numérica</td>\n",
    "    <td>df.sum()</td>\n",
    "  </tr>\n",
    "  <tr>\n",
    "    <td>mean()</td>\n",
    "    <td>Calcula la media de los valores en cada columna numérica</td>\n",
    "    <td>df.mean()</td>\n",
    "  </tr>\n",
    "  <tr>\n",
    "    <td>median()</td>\n",
    "    <td>Calcula la mediana de los valores en cada columna numérica</td>\n",
    "    <td>df.median()</td>\n",
    "  </tr>\n",
    "  <tr>\n",
    "    <td>std()</td>\n",
    "    <td>Calcula la desviación estándar de los valores en cada columna numérica</td>\n",
    "    <td>df.std()</td>\n",
    "  </tr>\n",
    "  <tr>\n",
    "    <td>var()</td>\n",
    "    <td>Calcula la varianza de los valores en cada columna numérica</td>\n",
    "    <td>df.var()</td>\n",
    "  </tr>\n",
    "  <tr>\n",
    "    <td>count()</td>\n",
    "    <td>Calcula el número de valores no nulos en cada columna</td>\n",
    "    <td>df.count()</td>\n",
    "  </tr>\n",
    "  <tr>\n",
    "    <td>isnull()</td>\n",
    "    <td>Devuelve una matriz booleana que indica qué valores son nulos</td>\n",
    "    <td>df.isnull()</td>\n",
    "  </tr>\n",
    "  <tr>\n",
    "    <td>notnull()</td>\n",
    "    <td>Devuelve una matriz booleana que indica qué valores no son nulos</td>\n",
    "    <td>df.notnull()</td>\n",
    "  </tr>\n",
    "  <tr>\n",
    "    <td>astype()</td>\n",
    "    <td>Convierte el tipo de datos de una o varias columnas en un tipo de datos específico</td>\n",
    "    <td>df['columna'].astype('tipo')</td>\n",
    "  </tr>\n",
    "  <tr>\n",
    "    <td>fillna()</td>\n",
    "    <td>Rellena los valores faltantes (NaN) en el DataFrame con un valor específico</td>\n",
    "    <td>df.fillna(valor)</td>\n",
    "  </tr>\n",
    "  <tr>\n",
    "    <td>dropna()</td>\n",
    "    <td>Elimina las filas con valores faltantes (NaN) del DataFrame y devuelve el DataFrame resultante</td>\n",
    "    <td>df.dropna()</td>\n",
    "  </tr>\n",
    "</table>\n",
    "\n",
    "</center>"
   ]
  }
 ],
 "metadata": {
  "kernelspec": {
   "display_name": "Python 3",
   "language": "python",
   "name": "python3"
  },
  "language_info": {
   "codemirror_mode": {
    "name": "ipython",
    "version": 3
   },
   "file_extension": ".py",
   "mimetype": "text/x-python",
   "name": "python",
   "nbconvert_exporter": "python",
   "pygments_lexer": "ipython3",
   "version": "3.9.13"
  },
  "orig_nbformat": 4
 },
 "nbformat": 4,
 "nbformat_minor": 2
}
