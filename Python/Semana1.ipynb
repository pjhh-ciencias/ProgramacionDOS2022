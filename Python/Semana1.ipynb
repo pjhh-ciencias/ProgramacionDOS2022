{
 "cells": [
  {
   "cell_type": "markdown",
   "metadata": {},
   "source": [
    "## Ejecutando un  Script de Python "
   ]
  },
  {
   "cell_type": "markdown",
   "metadata": {},
   "source": [
    "Un **script** es un archivo independiente  con  instrucciones/comandos (un programa) en lenguaje  Python  que se ejecuta sin la necesidad (explicita) de usar el comando `python`. "
   ]
  },
  {
   "cell_type": "markdown",
   "metadata": {},
   "source": [
    "En sistemas operativos tipo Unix, como *Linux* y *Mac OS* se utiliza una *línea shebang* para indicar al sistema operativo qué intérprete  se dede utilizar para ejecutar el script.\n",
    "\n",
    "Un **shebang** es una línea especial que se coloca en la parte superior del archivo Python, antes de cualquier código Python y que debe empezar con '**`#`**', seguido de un signo de exclamación '**`!`**', y luego la ruta completa del intérprete de Python."
   ]
  },
  {
   "cell_type": "markdown",
   "metadata": {},
   "source": [
    "Esta  línea  indica  la *ruta* al  interprete de Python a utilizar con el resto del archivo, i.e. la ruta que que la computadora debe tomarpara encontrar el interprete de Python específico.\n"
   ]
  },
  {
   "cell_type": "markdown",
   "metadata": {},
   "source": [
    " ## Usando Python en un IDE\n",
    "\n",
    " ### Configurando el ambiente python\n",
    "\n",
    " Esto es necesario porque cuando ejecuta un programa de Python, busca el intérprete de Python que se utiliza para ejecutar su programa o secuencia de comandos. Sin el intérprete de python instalado en su máquina, los programas de Python son solo archivos de texto"
   ]
  }
 ],
 "metadata": {
  "kernelspec": {
   "display_name": "Python 3",
   "language": "python",
   "name": "python3"
  },
  "language_info": {
   "codemirror_mode": {
    "name": "ipython",
    "version": 3
   },
   "file_extension": ".py",
   "mimetype": "text/x-python",
   "name": "python",
   "nbconvert_exporter": "python",
   "pygments_lexer": "ipython3",
   "version": "3.11.0"
  },
  "orig_nbformat": 4,
  "vscode": {
   "interpreter": {
    "hash": "ce4d963573401a72c80fabe1ef75418dde5088fa46d743e51eca5fefbd048d5c"
   }
  }
 },
 "nbformat": 4,
 "nbformat_minor": 2
}
