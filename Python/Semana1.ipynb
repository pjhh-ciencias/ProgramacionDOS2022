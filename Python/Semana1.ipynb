{
 "cells": [
  {
   "attachments": {},
   "cell_type": "markdown",
   "metadata": {},
   "source": [
    "## Ejecutando un archivo Python"
   ]
  },
  {
   "attachments": {},
   "cell_type": "markdown",
   "metadata": {},
   "source": [
    "Es posible por supuesto almacenar los comando Python en un archivo. Se crea entonces un archivo de programa que puede ser ejecutado como un argumento de el comando `python` .\n",
    "\n",
    "De esta manera, resulta muy sencillo crear programas en el lenguaje  Python que puedan ser almacenados en un archivo y  entonces ejecutarlo cuando se requiera en cualquier plataforma como se requiera (Windows, Linux o Mac). Esto ilustra la naturaleza multiplataforma de Python y esta es justamente una de las rrazones por las que Python es muy popular."
   ]
  },
  {
   "cell_type": "markdown",
   "metadata": {},
   "source": [
    "#### **Nota:** \n",
    "\n",
    "El **símbolo del sistema** es una característica de Microsoft Windows que permite a los usuarios acceder a las herramientas y recursos del sistema operativo. Es también conocido como *cmd*  o *interfaz de línea de comandos*.\n",
    "\n",
    "Puedes acceder al símbolo del sistema en Windows  haciendo clic en \"*inicio*\",  escribiendo *cmd* en el cuadro de busqueda y presionando Enter. Una vez en el símbolo del sistema, puedes ejecutar comandos y scipts para realizar diversas tareas, como administrar archivos. Es importante tener precaución  al usar el símbolo del sistema ya que los comandos y scripts pueden tener un impacto significativo en el sistema operativo y los datos del usuario si se utilizan incorrectamente.  "
   ]
  },
  {
   "attachments": {},
   "cell_type": "markdown",
   "metadata": {},
   "source": [
    "## Ejecutando un  Script de Python "
   ]
  },
  {
   "attachments": {},
   "cell_type": "markdown",
   "metadata": {},
   "source": [
    "Un **script** es un archivo independiente  con  instrucciones/comandos (un programa) en lenguaje  Python  que se ejecuta sin la necesidad (explicita) de usar el comando `python`. "
   ]
  },
  {
   "attachments": {},
   "cell_type": "markdown",
   "metadata": {},
   "source": [
    "En sistemas operativos tipo Unix, como *Linux* y *Mac OS* se utiliza una *línea shebang* para indicar al sistema operativo qué intérprete  se dede utilizar para ejecutar el script.\n",
    "\n",
    "Un **shebang** es una línea especial que se coloca en la parte superior del archivo Python, antes de cualquier código Python y que debe empezar con '**`#`**', seguido de un signo de exclamación '**`!`**', y luego la ruta completa del intérprete de Python."
   ]
  },
  {
   "attachments": {},
   "cell_type": "markdown",
   "metadata": {},
   "source": [
    "Esta  línea  indica  la *ruta* al  interprete de Python a utilizar con el resto del archivo, i.e. la ruta que que la computadora debe tomarpara encontrar el interprete de Python específico.\n"
   ]
  },
  {
   "attachments": {},
   "cell_type": "markdown",
   "metadata": {},
   "source": [
    "###"
   ]
  },
  {
   "attachments": {},
   "cell_type": "markdown",
   "metadata": {},
   "source": [
    "## Usando Python en un IDE"
   ]
  },
  {
   "cell_type": "markdown",
   "metadata": {},
   "source": []
  },
  {
   "attachments": {},
   "cell_type": "markdown",
   "metadata": {},
   "source": [
    "# Configurando el ambiente python"
   ]
  },
  {
   "attachments": {},
   "cell_type": "markdown",
   "metadata": {},
   "source": [
    "Esto es necesario porque cuando ejecuta un programa de Python, busca el intérprete de Python que se utiliza para ejecutar su programa o secuencia de comandos. Sin el intérprete de python instalado en su máquina, los programas de Python son solo archivos de texto"
   ]
  },
  {
   "cell_type": "markdown",
   "metadata": {},
   "source": []
  }
 ],
 "metadata": {
  "kernelspec": {
   "display_name": "Python 3",
   "language": "python",
   "name": "python3"
  },
  "language_info": {
   "codemirror_mode": {
    "name": "ipython",
    "version": 3
   },
   "file_extension": ".py",
   "mimetype": "text/x-python",
   "name": "python",
   "nbconvert_exporter": "python",
   "pygments_lexer": "ipython3",
   "version": "3.11.0"
  },
  "orig_nbformat": 4,
  "vscode": {
   "interpreter": {
    "hash": "ce4d963573401a72c80fabe1ef75418dde5088fa46d743e51eca5fefbd048d5c"
   }
  }
 },
 "nbformat": 4,
 "nbformat_minor": 2
}
