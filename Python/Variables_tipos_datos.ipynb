{
 "cells": [
  {
   "cell_type": "markdown",
   "metadata": {},
   "source": [
    "# Variables y  tipos de datos en Python\n",
    "\n",
    "## Declaración (asignación) de variables en Python \n",
    "\n",
    "La declararación de  una variable es increíblemente simple en Python.\n",
    "\n",
    "Las **variables** son una forma de almacenar un dato y son una parte fundamental de Python, como lo son con cualquier lenguaje de programación. Las variables tienen dos componentes, el *nombre* y su *valor*. "
   ]
  },
  {
   "cell_type": "code",
   "execution_count": null,
   "metadata": {},
   "outputs": [
    {
     "name": "stdout",
     "output_type": "stream",
     "text": [
      "1\n",
      "Cadena de caracteres\n"
     ]
    }
   ],
   "source": [
    "x = 1 # Declaración de la variable x \n",
    "y = \"Esto es una cadena de caracteres\" # Declaración de la variable y\n",
    "print(x)\n",
    "print(y)"
   ]
  },
  {
   "cell_type": "markdown",
   "metadata": {},
   "source": [
    "Las variables en Python se crean simplemente estableciendo (asignando) sus valores, eso es todo no hay que hacer más. De esta manera a diferencia de otros lenguajes de programación, no es necesario especificar el tipo de variable, se realiza automáticamente, Python detecta que tipo de dato es el que se esta almacenando.\n",
    "\n",
    "## Reglas de nomenclatura de variables\n",
    "\n",
    "Estas son algunas buenas reglas para nombres validos de  variables en Python :\n",
    "\n",
    "* El nombre de la variable debe comenzar con una letra o un guión bajo\n",
    "* El nombre de la variable no puede comenzar con un número o símbolo\n",
    "* Dentro del  nombre de la variable, solo puede contener caracteres alfanuméricos, con la única excepción de los guiones bajos.\n",
    "\n",
    "Bajo estas reglas, enseguida se muestran  algunos ejemplos de nombres de variables  válidos de Python:"
   ]
  },
  {
   "cell_type": "code",
   "execution_count": null,
   "metadata": {},
   "outputs": [],
   "source": [
    "variable\n",
    "Variable\n",
    "variable_1\n",
    "_variable_"
   ]
  },
  {
   "cell_type": "markdown",
   "metadata": {},
   "source": [
    "Enseguida se muestran algunos  ejemplos de nombres de variables de Python no válidos:"
   ]
  },
  {
   "cell_type": "code",
   "execution_count": null,
   "metadata": {},
   "outputs": [
    {
     "ename": "SyntaxError",
     "evalue": "invalid decimal literal (3658697568.py, line 1)",
     "output_type": "error",
     "traceback": [
      "\u001b[1;36m  Cell \u001b[1;32mIn [18], line 1\u001b[1;36m\u001b[0m\n",
      "\u001b[1;33m    0variable\u001b[0m\n",
      "\u001b[1;37m    ^\u001b[0m\n",
      "\u001b[1;31mSyntaxError\u001b[0m\u001b[1;31m:\u001b[0m invalid decimal literal\n"
     ]
    }
   ],
   "source": [
    "0variable\n",
    "&variable\n",
    "%variable_1\n",
    "$variable_ = 3"
   ]
  },
  {
   "cell_type": "markdown",
   "metadata": {},
   "source": [
    "**¡Es muy importante tener en cuenta que los nombres de las variables distinguen entre mayúsculas y minúsculas!**"
   ]
  },
  {
   "cell_type": "markdown",
   "metadata": {},
   "source": [
    "## Tipos de datos \n",
    "\n",
    "Python admite cinco tipos de datos estándar. Aquí está la lista completa:\n",
    "\n",
    "1. **Números**\n",
    "2. **Cadenas** (Strings)\n",
    "3. **Listas** : En Python una lista es una colección de elementos de un mismo tipo o de diferentes tipos, en las listas podemos guardar todo tipo de datos o valores, ya sean str, int, float, bool incluso otra lista. Las listas son similares a los arreglos en otros lenguajes de programación.\n",
    "4. **Tuplas** : En Python una tupla es conjunto ordenado e inmutable de elementos del mismo o diferente tipo.\n",
    "5. **Diccionarios** : En Python un diccionario es una estructura de datos para trabajar con colecciones de datos almacenados en pares de claves/valores. Los diccionarios se ordenan  y son mutables. Pueden soportar cambios después de su creación, pero son estrictos acerca de entradas duplicadas. Todas las claves/valores deben ser únicos."
   ]
  },
  {
   "cell_type": "markdown",
   "metadata": {},
   "source": [
    "**Observación** : Es útil saber que se puede obtener el tipo de una variable utilizando el método: `type`"
   ]
  },
  {
   "cell_type": "code",
   "execution_count": null,
   "metadata": {},
   "outputs": [
    {
     "name": "stdout",
     "output_type": "stream",
     "text": [
      "La variable x es de tipo:  <class 'int'>\n",
      "La variable y es de tipo:  <class 'str'>\n"
     ]
    }
   ],
   "source": [
    "x = 1\n",
    "y = \"cadena_caracteres\"\n",
    "print('La variable x es de tipo: ', type(x))\n",
    "print('La variable y es de tipo: ',type(y))"
   ]
  }
 ],
 "metadata": {
  "kernelspec": {
   "display_name": "Python 3",
   "language": "python",
   "name": "python3"
  },
  "language_info": {
   "name": "python",
   "version": "3.11.0"
  },
  "orig_nbformat": 4,
  "vscode": {
   "interpreter": {
    "hash": "ce4d963573401a72c80fabe1ef75418dde5088fa46d743e51eca5fefbd048d5c"
   }
  }
 },
 "nbformat": 4,
 "nbformat_minor": 2
}
