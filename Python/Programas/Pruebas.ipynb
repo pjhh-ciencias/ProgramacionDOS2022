{
 "cells": [
  {
   "cell_type": "code",
   "execution_count": 1,
   "metadata": {},
   "outputs": [],
   "source": [
    "import math\n",
    "def f(x,e):\n",
    "    y=math.sin(2*math.pi *(1-x)**2) + .5*e\n",
    "    return y"
   ]
  },
  {
   "cell_type": "code",
   "execution_count": 8,
   "metadata": {},
   "outputs": [
    {
     "data": {
      "text/plain": [
       "[1, 3, 4]"
      ]
     },
     "execution_count": 8,
     "metadata": {},
     "output_type": "execute_result"
    }
   ],
   "source": [
    "import random\n",
    "\n",
    "rn=random.sample(range(6),3)\n",
    "rn"
   ]
  },
  {
   "cell_type": "code",
   "execution_count": 1,
   "metadata": {},
   "outputs": [
    {
     "name": "stderr",
     "output_type": "stream",
     "text": [
      "1   HIToolbox                           0x00007ff81c105726 _ZN15MenuBarInstance22EnsureAutoShowObserverEv + 102\n",
      "2   HIToolbox                           0x00007ff81c1052b8 _ZN15MenuBarInstance14EnableAutoShowEv + 52\n",
      "3   HIToolbox                           0x00007ff81c074cd7 _ZN15MenuBarInstance21UpdateAggregateUIModeE21MenuBarAnimationStylehhh + 1113\n",
      "4   HIToolbox                           0x00007ff81c105173 _ZN15MenuBarInstance19SetFullScreenUIModeEjj + 175\n",
      "5   AppKit                              0x00007ff815bd224b -[NSApplication _setPresentationOptions:instance:flags:] + 1145\n",
      "6   AppKit                              0x00007ff815a27005 -[NSApplication _updateFullScreenPresentationOptionsForInstance:] + 582\n",
      "7   CoreFoundation                      0x00007ff81273c3d4 __CFNOTIFICATIONCENTER_IS_CALLING_OUT_TO_AN_OBSERVER__ + 137\n",
      "8   CoreFoundation                      0x00007ff8127d641a ___CFXRegistrationPost_block_invoke + 88\n",
      "9   CoreFoundation                      0x00007ff8127d6369 _CFXRegistrationPost + 536\n",
      "10  CoreFoundation                      0x00007ff81270f8f9 _CFXNotificationPost + 735\n",
      "11  Foundation                          0x00007ff81354babc -[NSNotificationCenter postNotificationName:object:userInfo:] + 82\n",
      "12  AppKit                              0x00007ff815bd28bc spacesNotificationHandler + 119\n",
      "13  SkyLight                            0x00007ff81737323d _ZN12_GLOBAL__N_123notify_datagram_handlerEj15CGSDatagramTypePvmS1_ + 1030\n",
      "14  SkyLight                            0x00007ff81768605a _ZN21CGSDatagramReadStream26dispatchMainQueueDatagramsEv + 202\n",
      "15  SkyLight                            0x00007ff817685f81 ___ZN21CGSDatagramReadStream15mainQueueWakeupEv_block_invoke + 18\n",
      "16  libdispatch.dylib                   0x00007ff8124ea7fb _dispatch_call_block_and_release + 12\n",
      "17  libdispatch.dylib                   0x00007ff8124eba44 _dispatch_client_callout + 8\n",
      "18  libdispatch.dylib                   0x00007ff8124f87b9 _dispatch_main_queue_drain + 952\n",
      "19  libdispatch.dylib                   0x00007ff8124f83f3 _dispatch_main_queue_callback_4CF + 31\n",
      "20  CoreFoundation                      0x00007ff8127855f0 __CFRUNLOOP_IS_SERVICING_THE_MAIN_DISPATCH_QUEUE__ + 9\n",
      "21  CoreFoundation                      0x00007ff812745b70 __CFRunLoopRun + 2454\n",
      "22  CoreFoundation                      0x00007ff812744b60 CFRunLoopRunSpecific + 560\n",
      "23  HIToolbox                           0x00007ff81c092766 RunCurrentEventLoopInMode + 292\n",
      "24  HIToolbox                           0x00007ff81c0923bb ReceiveNextEventCommon + 236\n",
      "25  HIToolbox                           0x00007ff81c0922b3 _BlockUntilNextEventMatchingListInModeWithFilter + 70\n",
      "26  AppKit                              0x00007ff815895293 _DPSNextEvent + 909\n",
      "27  AppKit                              0x00007ff815894114 -[NSApplication(NSEvent) _nextEventMatchingEventMask:untilDate:inMode:dequeue:] + 1219\n",
      "28  libtk8.6.dylib                      0x00000001072a72c0 TkMacOSXDrawAllViews + 752\n",
      "29  libtcl8.6.dylib                     0x0000000107584171 TclServiceIdle + 75\n",
      "30  libtcl8.6.dylib                     0x0000000107568796 Tcl_DoOneEvent + 341\n",
      "31  libtk8.6.dylib                      0x00000001071eff9f Tk_UpdateObjCmd + 132\n",
      "32  libtcl8.6.dylib                     0x00000001074bfc71 TclNRRunCallbacks + 79\n",
      "33  _tkinter.cpython-311-darwin.so      0x0000000105300ba5 Tkapp_Call + 389\n",
      "34  Python                              0x00000001047ce539 method_vectorcall_VARARGS + 121\n",
      "35  Python                              0x00000001048ea2ef _PyEval_EvalFrameDefault + 60207\n",
      "36  Python                              0x00000001048da47a PyEval_EvalCode + 282\n",
      "37  Python                              0x00000001048d4ce3 builtin_exec + 483\n",
      "38  Python                              0x00000001048ec5ab _PyEval_EvalFrameDefault + 69099\n",
      "39  Python                              0x00000001047d9f71 gen_send_ex2 + 209\n",
      "40  Python                              0x00000001048dfa08 _PyEval_EvalFrameDefault + 16968\n",
      "41  Python                              0x00000001047d9f71 gen_send_ex2 + 209\n",
      "42  Python                              0x00000001048dfa08 _PyEval_EvalFrameDefault + 16968\n",
      "43  Python                              0x00000001047d9f71 gen_send_ex2 + 209\n",
      "44  Python                              0x00000001047da6bc gen_send + 28\n",
      "45  Python                              0x00000001047ce211 method_vectorcall_O + 97\n",
      "46  Python                              0x00000001048ea2ef _PyEval_EvalFrameDefault + 60207\n",
      "47  Python                              0x00000001048f04d0 _PyEval_Vector + 128\n",
      "48  Python                              0x00000001047c079e method_vectorcall + 334\n",
      "49  Python                              0x00000001047bcf78 _PyVectorcall_Call + 120\n",
      "50  Python                              0x00000001048ed54a _PyEval_EvalFrameDefault + 73098\n",
      "51  Python                              0x00000001047d9f71 gen_send_ex2 + 209\n",
      "52  Python                              0x00000001048dfa08 _PyEval_EvalFrameDefault + 16968\n",
      "53  Python                              0x00000001047d9f71 gen_send_ex2 + 209\n",
      "54  Python                              0x00000001048dfa08 _PyEval_EvalFrameDefault + 16968\n",
      "55  Python                              0x00000001047d9f71 gen_send_ex2 + 209\n",
      "56  Python                              0x00000001048dfa08 _PyEval_EvalFrameDefault + 16968\n",
      "57  Python                              0x00000001047d9f71 gen_send_ex2 + 209\n",
      "58  Python                              0x00000001048dfa08 _PyEval_EvalFrameDefault + 16968\n",
      "59  Python                              0x00000001047d9f71 gen_send_ex2 + 209\n",
      "60  _asyncio.cpython-311-darwin.so      0x00000001041bc78a task_step_impl + 426\n",
      "61  _asyncio.cpython-311-darwin.so      0x00000001041bc570 task_step + 48\n",
      "62  _asyncio.cpython-311-darwin.so      0x00000001041bcf40 task_wakeup + 96\n",
      "63  Python                              0x00000001048223cb cfunction_vectorcall_O + 91\n",
      "64  Python                              0x000000010491a632 _PyObject_VectorcallTstate.4587 + 82\n",
      "65  Python                              0x000000010491a53d context_run + 173\n",
      "66  Python                              0x0000000104822144 cfunction_vectorcall_FASTCALL_KEYWORDS + 68\n",
      "67  Python                              0x00000001048ed54a _PyEval_EvalFrameDefault + 73098\n",
      "68  Python                              0x00000001048da47a PyEval_EvalCode + 282\n",
      "69  Python                              0x00000001048d4ce3 builtin_exec + 483\n",
      "70  Python                              0x0000000104822144 cfunction_vectorcall_FASTCALL_KEYWORDS + 68\n",
      "71  Python                              0x00000001048ea2ef _PyEval_EvalFrameDefault + 60207\n",
      "72  Python                              0x00000001048f04d0 _PyEval_Vector + 128\n",
      "73  Python                              0x00000001049876fd pymain_run_module + 253\n",
      "74  Python                              0x00000001049871c1 Py_RunMain + 2225\n",
      "75  Python                              0x000000010498817b pymain_main + 43\n",
      "76  Python                              0x0000000104988c9a Py_BytesMain + 42\n",
      "77  dyld                                0x00007ff812338310 start + 2432\n"
     ]
    }
   ],
   "source": [
    "from turtle import *\n",
    "shape('turtle')\n",
    "def square():\n",
    "    for i in range(4):\n",
    "        forward(100)\n",
    "        right(90)\n",
    "\n",
    "for i in range(0,80):\n",
    "    square()\n",
    "    right(5)"
   ]
  },
  {
   "cell_type": "code",
   "execution_count": 1,
   "metadata": {},
   "outputs": [],
   "source": [
    "eqn=input('Ingresa la ecuación cuadrática')\n"
   ]
  },
  {
   "cell_type": "code",
   "execution_count": 2,
   "metadata": {},
   "outputs": [
    {
     "data": {
      "text/plain": [
       "'3x^2+6x-4'"
      ]
     },
     "execution_count": 2,
     "metadata": {},
     "output_type": "execute_result"
    }
   ],
   "source": [
    "eqn."
   ]
  },
  {
   "cell_type": "code",
   "execution_count": null,
   "metadata": {},
   "outputs": [],
   "source": []
  }
 ],
 "metadata": {
  "kernelspec": {
   "display_name": "Python 3",
   "language": "python",
   "name": "python3"
  },
  "language_info": {
   "codemirror_mode": {
    "name": "ipython",
    "version": 3
   },
   "file_extension": ".py",
   "mimetype": "text/x-python",
   "name": "python",
   "nbconvert_exporter": "python",
   "pygments_lexer": "ipython3",
   "version": "3.11.0"
  },
  "orig_nbformat": 4,
  "vscode": {
   "interpreter": {
    "hash": "ce4d963573401a72c80fabe1ef75418dde5088fa46d743e51eca5fefbd048d5c"
   }
  }
 },
 "nbformat": 4,
 "nbformat_minor": 2
}
