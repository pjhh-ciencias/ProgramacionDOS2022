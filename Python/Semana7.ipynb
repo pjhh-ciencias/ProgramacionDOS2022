{
 "cells": [
  {
   "attachments": {},
   "cell_type": "markdown",
   "metadata": {},
   "source": [
    "## Operador de igualdad"
   ]
  },
  {
   "attachments": {},
   "cell_type": "markdown",
   "metadata": {},
   "source": [
    "El operador de comparación más básico que tenemos es el operador de igualdad . Esto simplemente verifica si dos valores son equivalentes o no. Si son iguales, el resultado será true, y si no son iguales, el resultado será false.\n",
    "\n",
    "Para usar el operador de igualdad, simplemente use dos signos de igual ."
   ]
  },
  {
   "cell_type": "code",
   "execution_count": 3,
   "metadata": {},
   "outputs": [
    {
     "name": "stdout",
     "output_type": "stream",
     "text": [
      "True\n"
     ]
    }
   ],
   "source": [
    "number1 = 3; number2 = 3\n",
    "\n",
    "print(number1 == number2)"
   ]
  },
  {
   "cell_type": "code",
   "execution_count": 4,
   "metadata": {},
   "outputs": [
    {
     "name": "stdout",
     "output_type": "stream",
     "text": [
      "False\n"
     ]
    }
   ],
   "source": [
    "number1 = 3\n",
    "number2 = 6\n",
    "\n",
    "print(number1 == number2)"
   ]
  },
  {
   "attachments": {},
   "cell_type": "markdown",
   "metadata": {},
   "source": [
    "## Operadores de asignación"
   ]
  },
  {
   "attachments": {},
   "cell_type": "markdown",
   "metadata": {},
   "source": [
    "Los operadores de asignación en Python son una forma de simplificar la asignación de valores a una variable. En lugar de utilizar la sintaxis de asignación simple (=), los operadores de asignación combinan una operación aritmética con la asignación.\n",
    "\n",
    "En la siguiente  tabla se describen los operadores de asignación disponibles en Python, su sintaxis, y su equivalente a la sintaxis tradicional de asignación.\n",
    "<!-- \n",
    "* `=` : asigna el valor de la expresión del lado derecho al nombre de variable del lado izquierdo. Por ejemplo: `a = 10`.\n",
    "\n",
    "* `+=` : incrementa el valor de la variable del lado izquierdo por el valor de la expresión del lado derecho, y luego asigna el resultado a la misma variable. Por ejemplo, `x += 3` es equivalente a `x = x + 3`.\n",
    "\n",
    "* `-=` : disminuye el valor de la variable del lado izquierdo por el valor de la expresión del lado derecho, y luego asigna el resultado a la misma variable. Por ejemplo, `x -= 3` es equivalente a `x = x - 3`.\n",
    "\n",
    "* `*=` : multiplica el valor de la variable del lado izquierdo por el valor de la expresión del lado derecho, y luego asigna el resultado a la misma variable. Por ejemplo, `x *= 3` es equivalente a `x = x * 3`.\n",
    "\n",
    "* `/=` : divide el valor de la variable del lado izquierdo por el valor de la expresión del lado derecho, y luego asigna el resultado a la misma variable. Por ejemplo, `x /= 3` es equivalente a `x = x / 3`.\n",
    "\n",
    "* `//=` : realiza la división entera del valor de la variable del lado izquierdo por el valor de la expresión del lado derecho, y luego asigna el resultado a la misma variable. Por ejemplo, `x //= 3` es equivalente a `x = x // 3`.\n",
    "\n",
    "* `%=` : asigna el resto de la división del valor de la variable del lado izquierdo por el valor de la expresión del lado derecho, y luego asigna el resultado a la misma variable. Por ejemplo, `x %= 3` es equivalente a `x = x % 3`.\n",
    "\n",
    "* `**=`: asigna el resultado de elevar el valor de la variable del lado izquierdo a la potencia de la expresión del lado derecho y luego lo asigna a la misma variable. Por ejemplo, `x **= 3` es equivalente a `x = x ** 3`.\n",
    "\n",
    "\n",
    "En resumen tenemos lo siguiente: -->\n",
    "\n",
    "<center>\n",
    "\n",
    "| Operador | Ejemplo | Equivalente a |\n",
    "|----------|---------|---------------|\n",
    "| `=`      | `x = 5` | `x = 5`       |\n",
    "| `+=`     | `x += 5`| `x = x + 5`   |\n",
    "| `-=`     | `x -= 5`| `x = x - 5`   |\n",
    "| `*=`     | `x *= 5`| `x = x * 5`   |\n",
    "| `/=`     | `x /= 5`| `x = x / 5`   |\n",
    "| `%=`     | `x %= 5`| `x = x % 5`   |\n",
    "| `//=`    | `x //= 5`| `x = x // 5`  |\n",
    "| `**=`    | `x **= 5`| `x = x ** 5`  |\n",
    "\n",
    "</center>"
   ]
  },
  {
   "attachments": {},
   "cell_type": "markdown",
   "metadata": {},
   "source": [
    "Los operadores de asignación son útiles cuando se quiere actualizar el valor de una variable en función de su valor actual. Por ejemplo, si `a` es igual a `5`, se puede utilizar el operador `+=` para incrementar su valor en `3` de la siguiente manera: `a += 3`, lo que resultaría en que a tenga un valor de `8`."
   ]
  },
  {
   "attachments": {},
   "cell_type": "markdown",
   "metadata": {},
   "source": [
    "Aquí hay un ejemplo que utiliza los operadores de asignación:"
   ]
  },
  {
   "cell_type": "code",
   "execution_count": 1,
   "metadata": {},
   "outputs": [],
   "source": [
    "x = 10\n",
    "x += 3  # x ahora es 13\n",
    "x /= 2  # x ahora es 6.5\n",
    "x %= 3  # x ahora es 0.5\n"
   ]
  },
  {
   "attachments": {},
   "cell_type": "markdown",
   "metadata": {},
   "source": [
    "En este ejemplo, se inicializa la variable `x` con el valor `10`. Luego se utilizan los operadores de asignación `+=`, `/=` y `%=` para incrementar, dividir y calcular el módulo del valor de `x`, respectivamente. Cada operación utiliza el valor actual de la variable y la cantidad especificada, y luego asigna el resultado a la misma variable."
   ]
  },
  {
   "attachments": {},
   "cell_type": "markdown",
   "metadata": {},
   "source": [
    "## Operador de desigualdad"
   ]
  },
  {
   "attachments": {},
   "cell_type": "markdown",
   "metadata": {},
   "source": [
    "El operador de desigualdad funciona exactamente igual que el operador de igualdad que acabamos de ver, pero a la inversa. Si los dos valores son iguales, dará como resultado false, y si son diferentes, dará como resultado true.\n",
    "\n",
    "Para usar este operador, coloque un signo de exclamación delante del signo igual, así:"
   ]
  },
  {
   "cell_type": "code",
   "execution_count": 5,
   "metadata": {},
   "outputs": [
    {
     "name": "stdout",
     "output_type": "stream",
     "text": [
      "False\n"
     ]
    }
   ],
   "source": [
    "number1 = 3;number2 = 3\n",
    "\n",
    "print(number1 != number2)"
   ]
  },
  {
   "attachments": {},
   "cell_type": "markdown",
   "metadata": {},
   "source": [
    "## Operadores de comparación"
   ]
  },
  {
   "attachments": {},
   "cell_type": "markdown",
   "metadata": {},
   "source": [
    "Puede comparar los valores de dos variables utilizando los operadores mayor que y menor que . Aquí está cómo usarlos:"
   ]
  },
  {
   "cell_type": "code",
   "execution_count": 6,
   "metadata": {},
   "outputs": [
    {
     "name": "stdout",
     "output_type": "stream",
     "text": [
      "False\n"
     ]
    }
   ],
   "source": [
    "number1 = 3\n",
    "number2 = 6\n",
    "print(number1 > number2) # greater than"
   ]
  },
  {
   "cell_type": "code",
   "execution_count": 7,
   "metadata": {},
   "outputs": [
    {
     "name": "stdout",
     "output_type": "stream",
     "text": [
      "True\n"
     ]
    }
   ],
   "source": [
    "number1 = 3\n",
    "number2 = 6\n",
    "print(number1 < number2) # less than"
   ]
  },
  {
   "attachments": {},
   "cell_type": "markdown",
   "metadata": {},
   "source": [
    "En el caso de que necesite verificar si un valor es menor , mayor o igual que otro valor, Python también tiene un operador para eso. Parece una combinación de los operadores que vimos antes:"
   ]
  },
  {
   "cell_type": "code",
   "execution_count": null,
   "metadata": {},
   "outputs": [],
   "source": [
    "print(3 <= 5)\n",
    "print(3 >= 5)\n",
    "print(7 <= 8)\n",
    "print(7 >= 9)"
   ]
  },
  {
   "attachments": {},
   "cell_type": "markdown",
   "metadata": {},
   "source": [
    "## Operadores lógicos"
   ]
  },
  {
   "attachments": {},
   "cell_type": "markdown",
   "metadata": {},
   "source": [
    "En Python, existen tres operadores lógicos básicos: **`and`**, **`or`** y **`not`**. Estos operadores se utilizan para combinar valores lógicos o expresiones booleanas y evaluar si son verdaderos o falsos. A continuación se describen en detalle cada uno de los operadores lógicos en Python:"
   ]
  },
  {
   "attachments": {},
   "cell_type": "markdown",
   "metadata": {},
   "source": [
    "* **Operador `and`**\n",
    "\n",
    "El operador and devuelve True si y solo si ambos operandos son verdaderos. Si uno o ambos operandos son falsos, devuelve False. La tabla de verdad del operador and es la siguiente:\n",
    "<center>\n",
    "\n",
    "| A     | B     | A and B |\n",
    "|-------|-------|---------|\n",
    "| True  | True  | True    |\n",
    "| True  | False | False   |\n",
    "| False | True  | False   |\n",
    "| False | False | False   |\n",
    "</center>"
   ]
  },
  {
   "attachments": {},
   "cell_type": "markdown",
   "metadata": {},
   "source": [
    "* **Operador `or`**\n",
    "\n",
    "El operador or devuelve True si al menos uno de los operandos es verdadero. Si ambos operandos son falsos, devuelve False. La tabla de verdad del operador or es la siguiente:\n",
    "<center>\n",
    "\n",
    "| A     | B     | A or B  |\n",
    "|-------|-------|---------|\n",
    "| True  | True  | True    |\n",
    "| True  | False | True    |\n",
    "| False | True  | True    |\n",
    "| False | False | False   |\n",
    "</center>"
   ]
  },
  {
   "attachments": {},
   "cell_type": "markdown",
   "metadata": {},
   "source": [
    "* **Operador `not`**\n",
    "\n",
    "El operador not devuelve el valor opuesto a su operando. Si el operando es verdadero, devuelve False, y si es falso, devuelve True. La tabla de verdad del operador not es la siguiente:\n",
    "<center>\n",
    "\n",
    "| A    | not A |\n",
    "|------|-------|\n",
    "| True | False |\n",
    "| False| True  |\n",
    "\n",
    "</center>"
   ]
  },
  {
   "cell_type": "markdown",
   "metadata": {},
   "source": [
    "# Estructuras selectivas"
   ]
  },
  {
   "attachments": {},
   "cell_type": "markdown",
   "metadata": {},
   "source": [
    "Ahora que podemos comparar dos valores, ahora podemos hacer algo con ese resultado. Usando condicionales , ahora podemos tomar diferentes rutas de código dependiendo de si el valor dentro de él es trueo false."
   ]
  },
  {
   "cell_type": "markdown",
   "metadata": {},
   "source": [
    "## Condicional: If Else"
   ]
  },
  {
   "attachments": {},
   "cell_type": "markdown",
   "metadata": {},
   "source": [
    "Usar la palabra clave if es muy sencillo. Si lo que está comprobando es true, se ejecutará lo que esté dentro del siguiente bloque de código.\n",
    "\n",
    "Veamos un ejemplo de esto:"
   ]
  },
  {
   "cell_type": "code",
   "execution_count": 8,
   "metadata": {},
   "outputs": [
    {
     "name": "stdout",
     "output_type": "stream",
     "text": [
      "You ordered too many burritos.\n"
     ]
    }
   ],
   "source": [
    "burritos = 6\n",
    "\n",
    "if (burritos > 5):\n",
    "    print(\"You ordered too many burritos.\")"
   ]
  },
  {
   "cell_type": "code",
   "execution_count": 9,
   "metadata": {},
   "outputs": [],
   "source": [
    "burritos = 3\n",
    "\n",
    "if (burritos > 5):\n",
    "    print(\"You ordered too many burritos.\")"
   ]
  },
  {
   "cell_type": "code",
   "execution_count": null,
   "metadata": {},
   "outputs": [
    {
     "name": "stdout",
     "output_type": "stream",
     "text": [
      "No positivo\n"
     ]
    }
   ],
   "source": [
    "x = float(input('pregunta:'))\n",
    "if(x>0):\n",
    "    print('positivo')\n",
    "else:\n",
    "    print('No positivo')\n",
    "    "
   ]
  },
  {
   "attachments": {},
   "cell_type": "markdown",
   "metadata": {},
   "source": [
    "## Else"
   ]
  },
  {
   "attachments": {},
   "cell_type": "markdown",
   "metadata": {},
   "source": [
    "Probablemente esté pensando, bueno, quiero generar algo incluso si se ordenó la cantidad correcta de burritos. Bueno, ahí es donde más entra en juego.\n",
    "\n",
    "Podemos definir otro bloque de código para que se ejecute siempre que el ifcondicional sea falso."
   ]
  },
  {
   "cell_type": "code",
   "execution_count": 11,
   "metadata": {},
   "outputs": [
    {
     "name": "stdout",
     "output_type": "stream",
     "text": [
      "You ordered a correct number of burritos!\n"
     ]
    }
   ],
   "source": [
    "burritos = 3\n",
    "\n",
    "if (burritos > 5):\n",
    "    print(\"You ordered too many burritos.\")\n",
    "else:\n",
    "    print(\"You ordered a correct number of burritos!\")"
   ]
  },
  {
   "attachments": {},
   "cell_type": "markdown",
   "metadata": {},
   "source": [
    "## Else If"
   ]
  },
  {
   "attachments": {},
   "cell_type": "markdown",
   "metadata": {},
   "source": [
    "Eso está bien, pero ¿y si quisiéramos más de 2 rutas de código? Ahí es donde  entra en juego `Else if` , o `elif` ."
   ]
  },
  {
   "cell_type": "code",
   "execution_count": 12,
   "metadata": {},
   "outputs": [
    {
     "name": "stdout",
     "output_type": "stream",
     "text": [
      "You ordered the PERFECT number of burritos!\n"
     ]
    }
   ],
   "source": [
    "burritos = 2\n",
    "\n",
    "if (burritos > 5):\n",
    "    print(\"You ordered too many burritos.\")\n",
    "elif (burritos == 2):\n",
    "    print(\"You ordered the PERFECT number of burritos!\")\n",
    "else:\n",
    "    print(\"You ordered a correct number of burritos!\")"
   ]
  },
  {
   "attachments": {},
   "cell_type": "markdown",
   "metadata": {},
   "source": [
    "Dado que el código se ejecuta de arriba a abajo, primero hará el primer condicional. Como el valor no era mayor que 5, se movió en el segundo condicional. Dado que el condicional había true, ese bloque de código se ejecutó en lugar del que está debajo."
   ]
  },
  {
   "attachments": {},
   "cell_type": "markdown",
   "metadata": {},
   "source": [
    "# Operadores logicos"
   ]
  },
  {
   "attachments": {},
   "cell_type": "markdown",
   "metadata": {},
   "source": [
    "Hasta ahora hemos visto cómo funciona la lógica cuando solo tenemos un condicional con el que trabajar. Eventualmente, deberá usar múltiples condicionales para finalmente tomar la decisión sobre qué ruta de código desea tomar. Cuando desea usar múltiples condicionales a la vez, usa un operador lógico ."
   ]
  },
  {
   "attachments": {},
   "cell_type": "markdown",
   "metadata": {},
   "source": [
    "## Operador And"
   ]
  },
  {
   "attachments": {},
   "cell_type": "markdown",
   "metadata": {},
   "source": [
    "Al usar el operador and , el bloque de código solo se ejecutará si ambos lados del operador son verdaderos:"
   ]
  },
  {
   "cell_type": "code",
   "execution_count": 13,
   "metadata": {},
   "outputs": [
    {
     "name": "stdout",
     "output_type": "stream",
     "text": [
      "Since I am hungry and there is food, I shall eat.\n"
     ]
    }
   ],
   "source": [
    "isHungry = True\n",
    "foodAvailable = True\n",
    "\n",
    "if (isHungry and foodAvailable):\n",
    "    print(\"Since I am hungry and there is food, I shall eat.\")"
   ]
  },
  {
   "attachments": {},
   "cell_type": "markdown",
   "metadata": {},
   "source": [
    "Dado que en este caso ambas variables eran true, se ejecutó el bloque de código resultante y se mostró la declaración de impresión."
   ]
  },
  {
   "attachments": {},
   "cell_type": "markdown",
   "metadata": {},
   "source": [
    "## Operador Or"
   ]
  },
  {
   "attachments": {},
   "cell_type": "markdown",
   "metadata": {},
   "source": [
    "Al usar el andoperador, ambos condicionales deben ser true, pero con el oroperador, solo uno debe ser true.\n",
    "\n",
    "Considere este ejemplo:"
   ]
  },
  {
   "cell_type": "code",
   "execution_count": 14,
   "metadata": {},
   "outputs": [
    {
     "name": "stdout",
     "output_type": "stream",
     "text": [
      "Since it is either sunny outside or I'm bored, I will go play basketball.\n"
     ]
    }
   ],
   "source": [
    "sunny = False\n",
    "bored = True\n",
    "\n",
    "if (sunny or bored):\n",
    "    print(\"Since it is either sunny outside or I'm bored, I will go play basketball.\")"
   ]
  },
  {
   "attachments": {},
   "cell_type": "markdown",
   "metadata": {},
   "source": [
    "## Operador Not "
   ]
  },
  {
   "attachments": {},
   "cell_type": "markdown",
   "metadata": {},
   "source": [
    "En nuestro operador lógico final, puedes invertir los resultados de un condicional por completo pero usando el operador not .\n",
    "\n",
    "Veamos un ejemplo:"
   ]
  },
  {
   "cell_type": "code",
   "execution_count": 15,
   "metadata": {},
   "outputs": [
    {
     "name": "stdout",
     "output_type": "stream",
     "text": [
      "Since it isn't hot, I will wear boots today!\n"
     ]
    }
   ],
   "source": [
    "temperature = 50\n",
    "hot = temperature > 70\n",
    "\n",
    "if not (hot):\n",
    "    print(\"Since it isn't hot, I will wear boots today!\")"
   ]
  },
  {
   "attachments": {},
   "cell_type": "markdown",
   "metadata": {},
   "source": [
    "# Ciclos"
   ]
  },
  {
   "attachments": {},
   "cell_type": "markdown",
   "metadata": {},
   "source": [
    "Los bucles son una parte importante de cualquier lenguaje de programación. Nos permiten ejecutar el mismo bloque de código una y otra vez, lo que evita que tengamos que copiarlo y pegarlo.\n",
    "\n",
    "En esta lección, veremos los dos bucles principales en Python , además de algunas declaraciones que puede usar para controlar el flujo mientras está dentro de los bucles."
   ]
  },
  {
   "attachments": {},
   "cell_type": "markdown",
   "metadata": {},
   "source": [
    "## Ciclo For"
   ]
  },
  {
   "cell_type": "code",
   "execution_count": 16,
   "metadata": {},
   "outputs": [
    {
     "name": "stdout",
     "output_type": "stream",
     "text": [
      "1\n",
      "2\n",
      "3\n",
      "4\n",
      "5\n",
      "6\n",
      "7\n",
      "8\n",
      "9\n",
      "10\n"
     ]
    }
   ],
   "source": [
    "for i in range(1, 11):\n",
    "    print(i)"
   ]
  },
  {
   "attachments": {},
   "cell_type": "markdown",
   "metadata": {},
   "source": [
    "Aquí hay un ciclo for iterando sobre los caracteres en una cadena:\n",
    "\n",
    "for letter in \"sabe.io\":"
   ]
  },
  {
   "cell_type": "code",
   "execution_count": 17,
   "metadata": {},
   "outputs": [
    {
     "name": "stdout",
     "output_type": "stream",
     "text": [
      "s\n",
      "a\n",
      "b\n",
      "e\n",
      ".\n",
      "i\n",
      "o\n"
     ]
    }
   ],
   "source": [
    "for letter in \"sabe.io\":\n",
    "    print(letter)"
   ]
  },
  {
   "attachments": {},
   "cell_type": "markdown",
   "metadata": {},
   "source": [
    "Una cosa genial que puedes hacer es adjuntar una elsepalabra clave a un bucle for. Esto hará que se ejecute un bloque de código después de que finalice el bucle:"
   ]
  },
  {
   "cell_type": "code",
   "execution_count": 18,
   "metadata": {},
   "outputs": [
    {
     "name": "stdout",
     "output_type": "stream",
     "text": [
      "1\n",
      "2\n",
      "3\n",
      "4\n",
      "5\n",
      "6\n",
      "7\n",
      "8\n",
      "9\n",
      "10\n",
      "We are done!\n"
     ]
    }
   ],
   "source": [
    "for i in range(1, 11):\n",
    "    print(i)\n",
    "else:\n",
    "    print(\"We are done!\")"
   ]
  },
  {
   "attachments": {},
   "cell_type": "markdown",
   "metadata": {},
   "source": [
    "Python hace que recorrer las cosas sea muy sencillo."
   ]
  },
  {
   "attachments": {},
   "cell_type": "markdown",
   "metadata": {},
   "source": [
    "# Ciclo While"
   ]
  },
  {
   "attachments": {},
   "cell_type": "markdown",
   "metadata": {},
   "source": [
    "Un ciclo while es un ciclo aún más simple. Un ciclo while toma un condicional y si esa condición es true, continuará con otro ciclo.\n",
    "\n",
    "Veamos el bucle de 1a 10otra vez, pero esta vez usando un bucle while:"
   ]
  },
  {
   "cell_type": "code",
   "execution_count": 21,
   "metadata": {},
   "outputs": [
    {
     "name": "stdout",
     "output_type": "stream",
     "text": [
      "1\n",
      "2\n",
      "3\n",
      "4\n",
      "5\n",
      "6\n",
      "7\n",
      "8\n",
      "9\n",
      "10\n"
     ]
    }
   ],
   "source": [
    "count = 1\n",
    "\n",
    "while count <= 10:\n",
    "    print(count)\n",
    "    count = count +  1"
   ]
  },
  {
   "attachments": {},
   "cell_type": "markdown",
   "metadata": {},
   "source": [
    "Primero declaramos e inicializamos una variable nombrada county establecemos su valor en 1. En el primer paso, 1es menor que 10, por lo que se repite. Imprimimos el número, incrementamos nuestra variable y repetimos. Eventualmente, 10se imprime, se incrementa a 11, y la condición ahora es false, por lo que el bucle finaliza."
   ]
  },
  {
   "attachments": {},
   "cell_type": "markdown",
   "metadata": {},
   "source": [
    "\n",
    "También puede usar la elsepalabra clave con bucles while:"
   ]
  },
  {
   "cell_type": "code",
   "execution_count": 22,
   "metadata": {},
   "outputs": [
    {
     "name": "stdout",
     "output_type": "stream",
     "text": [
      "1\n",
      "2\n",
      "3\n",
      "4\n",
      "5\n",
      "6\n",
      "7\n",
      "8\n",
      "9\n",
      "10\n",
      "We are done!\n"
     ]
    }
   ],
   "source": [
    "count = 1\n",
    "\n",
    "while count <= 10:\n",
    "    print(count)\n",
    "    count += 1\n",
    "else:\n",
    "    print(\"We are done!\")"
   ]
  },
  {
   "attachments": {},
   "cell_type": "markdown",
   "metadata": {},
   "source": [
    "# Instrucción Break"
   ]
  },
  {
   "attachments": {},
   "cell_type": "markdown",
   "metadata": {},
   "source": [
    "La instrucción break se puede usar en cualquier punto dentro de un ciclo para terminarlo de inmediato. Así es como terminamos el bucle después de 5imprimir el número:"
   ]
  },
  {
   "cell_type": "code",
   "execution_count": 24,
   "metadata": {},
   "outputs": [
    {
     "name": "stdout",
     "output_type": "stream",
     "text": [
      "1\n",
      "2\n",
      "3\n",
      "4\n",
      "5\n"
     ]
    }
   ],
   "source": [
    "for i in range(1, 11):\n",
    "    print(i)\n",
    "    if (i == 5):\n",
    "        break"
   ]
  },
  {
   "attachments": {},
   "cell_type": "markdown",
   "metadata": {},
   "source": [
    "El ciclo que normalmente habría continuado hasta que 10se imprimió el número, se detuvo en 5porque usamos break."
   ]
  },
  {
   "attachments": {},
   "cell_type": "markdown",
   "metadata": {},
   "source": [
    "## Instrucción continuar "
   ]
  },
  {
   "attachments": {},
   "cell_type": "markdown",
   "metadata": {},
   "source": [
    "La declaración de continuar le permite continuar con la siguiente parte del ciclo sin terminar el resto del bloque de código. Es casi como breakexcepto que no termina el ciclo."
   ]
  },
  {
   "cell_type": "code",
   "execution_count": 25,
   "metadata": {},
   "outputs": [
    {
     "name": "stdout",
     "output_type": "stream",
     "text": [
      "1\n",
      "2\n",
      "4\n",
      "5\n",
      "7\n",
      "8\n",
      "9\n",
      "10\n"
     ]
    }
   ],
   "source": [
    "for i in range(1, 11):\n",
    "    if (i == 3 or i == 6):\n",
    "        continue\n",
    "    print(i)"
   ]
  },
  {
   "attachments": {},
   "cell_type": "markdown",
   "metadata": {},
   "source": [
    "Exactamente como lo codificamos, los números 3y 6los omitimos porque continuamos con la siguiente iteración del ciclo en lugar de permitir que se imprima solo."
   ]
  },
  {
   "cell_type": "code",
   "execution_count": null,
   "metadata": {},
   "outputs": [],
   "source": []
  },
  {
   "attachments": {},
   "cell_type": "markdown",
   "metadata": {},
   "source": [
    "# Instrucción Pass "
   ]
  },
  {
   "attachments": {},
   "cell_type": "markdown",
   "metadata": {},
   "source": [
    "La instrucción pass en Python es una sentencia nula que se utiliza como un relleno cuando se necesita escribir una sentencia vacía o placeholder en un bloque de código. Por ejemplo, se puede usar pass en una estructura de control de flujo como un if o un bucle for para indicar que no se debe hacer nada si se cumple una determinada condición:"
   ]
  },
  {
   "cell_type": "code",
   "execution_count": 2,
   "metadata": {},
   "outputs": [
    {
     "name": "stdout",
     "output_type": "stream",
     "text": [
      "x es negativo o cero\n"
     ]
    }
   ],
   "source": [
    "x=-5\n",
    "if x > 0:\n",
    "    pass\n",
    "else:\n",
    "    print(\"x es negativo o cero\")\n"
   ]
  },
  {
   "attachments": {},
   "cell_type": "markdown",
   "metadata": {},
   "source": [
    "O se puede usar pass en la definición de una función o una clase para indicar que aún no se ha implementado ninguna funcionalidad:"
   ]
  },
  {
   "cell_type": "code",
   "execution_count": 3,
   "metadata": {},
   "outputs": [],
   "source": [
    "def mi_funcion():\n",
    "    pass\n",
    "\n",
    "class MiClase:\n",
    "    pass\n"
   ]
  },
  {
   "cell_type": "markdown",
   "metadata": {},
   "source": []
  },
  {
   "attachments": {},
   "cell_type": "markdown",
   "metadata": {},
   "source": [
    "En general, pass es útil en casos en los que se requiere escribir una sentencia vacía, pero se requiere una sintaxis válida en el bloque de código."
   ]
  },
  {
   "cell_type": "markdown",
   "metadata": {},
   "source": []
  }
 ],
 "metadata": {
  "kernelspec": {
   "display_name": "Python 3",
   "language": "python",
   "name": "python3"
  },
  "language_info": {
   "codemirror_mode": {
    "name": "ipython",
    "version": 3
   },
   "file_extension": ".py",
   "mimetype": "text/x-python",
   "name": "python",
   "nbconvert_exporter": "python",
   "pygments_lexer": "ipython3",
   "version": "3.11.0"
  },
  "orig_nbformat": 4,
  "vscode": {
   "interpreter": {
    "hash": "ce4d963573401a72c80fabe1ef75418dde5088fa46d743e51eca5fefbd048d5c"
   }
  }
 },
 "nbformat": 4,
 "nbformat_minor": 2
}
