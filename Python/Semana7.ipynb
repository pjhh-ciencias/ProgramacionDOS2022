{
 "cells": [
  {
   "cell_type": "markdown",
   "metadata": {},
   "source": []
  },
  {
   "cell_type": "markdown",
   "metadata": {},
   "source": [
    "# Listas en Python"
   ]
  },
  {
   "cell_type": "markdown",
   "metadata": {},
   "source": [
    "Las **listas** en Python son un tipo de dato que permite almacenar datos de cualquier tipo. Son ***mutables*** y ***dinámicas***, lo cual es la principal diferencia con los *sets* y las *tuplas*."
   ]
  },
  {
   "cell_type": "markdown",
   "metadata": {},
   "source": [
    "## Crear listas en Python "
   ]
  },
  {
   "cell_type": "markdown",
   "metadata": {},
   "source": [
    "Las listas en Python son uno de los tipos o estructuras de datos más versátiles del lenguaje, ya que permiten almacenar un conjunto arbitrario de datos. Es decir, podemos guardar en ellas prácticamente lo que sea. Se podría decir que son \"similares\" a los *arrays*."
   ]
  },
  {
   "cell_type": "code",
   "execution_count": null,
   "metadata": {},
   "outputs": [],
   "source": [
    "lista=[1,2,3,4,5]"
   ]
  },
  {
   "cell_type": "markdown",
   "metadata": {},
   "source": [
    "# Estructuras selectivas"
   ]
  },
  {
   "cell_type": "markdown",
   "metadata": {},
   "source": [
    "Ahora que podemos comparar dos valores, ahora podemos hacer algo con ese resultado. Usando condicionales , ahora podemos tomar diferentes rutas de código dependiendo de si el valor dentro de él es trueo false."
   ]
  },
  {
   "cell_type": "markdown",
   "metadata": {},
   "source": [
    "## Condicional: If Else"
   ]
  },
  {
   "cell_type": "markdown",
   "metadata": {},
   "source": [
    "Usar la palabra clave if es muy sencillo. Si lo que está comprobando es true, se ejecutará lo que esté dentro del siguiente bloque de código.\n",
    "\n",
    "Veamos un ejemplo de esto:"
   ]
  },
  {
   "cell_type": "code",
   "execution_count": null,
   "metadata": {},
   "outputs": [
    {
     "name": "stdout",
     "output_type": "stream",
     "text": [
      "You ordered too many burritos.\n"
     ]
    }
   ],
   "source": [
    "burritos = 6\n",
    "\n",
    "if (burritos > 5):\n",
    "    print(\"You ordered too many burritos.\")"
   ]
  },
  {
   "cell_type": "code",
   "execution_count": null,
   "metadata": {},
   "outputs": [],
   "source": [
    "burritos = 3\n",
    "\n",
    "if (burritos > 5):\n",
    "    print(\"You ordered too many burritos.\")"
   ]
  },
  {
   "cell_type": "code",
   "execution_count": null,
   "metadata": {},
   "outputs": [
    {
     "name": "stdout",
     "output_type": "stream",
     "text": [
      "No positivo\n"
     ]
    }
   ],
   "source": [
    "x = float(input('pregunta:'))\n",
    "if(x>0):\n",
    "    print('positivo')\n",
    "else:\n",
    "    print('No positivo')\n",
    "    "
   ]
  },
  {
   "cell_type": "markdown",
   "metadata": {},
   "source": [
    "## Else"
   ]
  },
  {
   "cell_type": "markdown",
   "metadata": {},
   "source": [
    "Probablemente esté pensando, bueno, quiero generar algo incluso si se ordenó la cantidad correcta de burritos. Bueno, ahí es donde más entra en juego.\n",
    "\n",
    "Podemos definir otro bloque de código para que se ejecute siempre que el ifcondicional sea falso."
   ]
  },
  {
   "cell_type": "code",
   "execution_count": null,
   "metadata": {},
   "outputs": [
    {
     "name": "stdout",
     "output_type": "stream",
     "text": [
      "You ordered a correct number of burritos!\n"
     ]
    }
   ],
   "source": [
    "burritos = 3\n",
    "\n",
    "if (burritos > 5):\n",
    "    print(\"You ordered too many burritos.\")\n",
    "else:\n",
    "    print(\"You ordered a correct number of burritos!\")"
   ]
  },
  {
   "cell_type": "markdown",
   "metadata": {},
   "source": [
    "## Else If"
   ]
  },
  {
   "cell_type": "markdown",
   "metadata": {},
   "source": [
    "Eso está bien, pero ¿y si quisiéramos más de 2 rutas de código? Ahí es donde  entra en juego `Else if` , o `elif` ."
   ]
  },
  {
   "cell_type": "code",
   "execution_count": null,
   "metadata": {},
   "outputs": [
    {
     "name": "stdout",
     "output_type": "stream",
     "text": [
      "You ordered the PERFECT number of burritos!\n"
     ]
    }
   ],
   "source": [
    "burritos = 2\n",
    "\n",
    "if (burritos > 5):\n",
    "    print(\"You ordered too many burritos.\")\n",
    "elif (burritos == 2):\n",
    "    print(\"You ordered the PERFECT number of burritos!\")\n",
    "else:\n",
    "    print(\"You ordered a correct number of burritos!\")"
   ]
  },
  {
   "cell_type": "markdown",
   "metadata": {},
   "source": [
    "Dado que el código se ejecuta de arriba a abajo, primero hará el primer condicional. Como el valor no era mayor que 5, se movió en el segundo condicional. Dado que el condicional había true, ese bloque de código se ejecutó en lugar del que está debajo."
   ]
  },
  {
   "cell_type": "markdown",
   "metadata": {},
   "source": [
    "# Operadores logicos"
   ]
  },
  {
   "cell_type": "markdown",
   "metadata": {},
   "source": [
    "Hasta ahora hemos visto cómo funciona la lógica cuando solo tenemos un condicional con el que trabajar. Eventualmente, deberá usar múltiples condicionales para finalmente tomar la decisión sobre qué ruta de código desea tomar. Cuando desea usar múltiples condicionales a la vez, usa un operador lógico ."
   ]
  },
  {
   "cell_type": "markdown",
   "metadata": {},
   "source": [
    "## Operador And"
   ]
  },
  {
   "cell_type": "markdown",
   "metadata": {},
   "source": [
    "Al usar el operador and , el bloque de código solo se ejecutará si ambos lados del operador son verdaderos:"
   ]
  },
  {
   "cell_type": "code",
   "execution_count": null,
   "metadata": {},
   "outputs": [
    {
     "name": "stdout",
     "output_type": "stream",
     "text": [
      "Since I am hungry and there is food, I shall eat.\n"
     ]
    }
   ],
   "source": [
    "isHungry = True\n",
    "foodAvailable = True\n",
    "\n",
    "if (isHungry and foodAvailable):\n",
    "    print(\"Since I am hungry and there is food, I shall eat.\")"
   ]
  },
  {
   "cell_type": "markdown",
   "metadata": {},
   "source": [
    "Dado que en este caso ambas variables eran true, se ejecutó el bloque de código resultante y se mostró la declaración de impresión."
   ]
  },
  {
   "cell_type": "markdown",
   "metadata": {},
   "source": [
    "## Operador Or"
   ]
  },
  {
   "cell_type": "markdown",
   "metadata": {},
   "source": [
    "Al usar el andoperador, ambos condicionales deben ser true, pero con el oroperador, solo uno debe ser true.\n",
    "\n",
    "Considere este ejemplo:"
   ]
  },
  {
   "cell_type": "code",
   "execution_count": null,
   "metadata": {},
   "outputs": [
    {
     "name": "stdout",
     "output_type": "stream",
     "text": [
      "Since it is either sunny outside or I'm bored, I will go play basketball.\n"
     ]
    }
   ],
   "source": [
    "sunny = False\n",
    "bored = True\n",
    "\n",
    "if (sunny or bored):\n",
    "    print(\"Since it is either sunny outside or I'm bored, I will go play basketball.\")"
   ]
  },
  {
   "cell_type": "markdown",
   "metadata": {},
   "source": [
    "## Operador Not "
   ]
  },
  {
   "cell_type": "markdown",
   "metadata": {},
   "source": [
    "En nuestro operador lógico final, puedes invertir los resultados de un condicional por completo pero usando el operador not .\n",
    "\n",
    "Veamos un ejemplo:"
   ]
  },
  {
   "cell_type": "code",
   "execution_count": null,
   "metadata": {},
   "outputs": [
    {
     "name": "stdout",
     "output_type": "stream",
     "text": [
      "Since it isn't hot, I will wear boots today!\n"
     ]
    }
   ],
   "source": [
    "temperature = 50\n",
    "hot = temperature > 70\n",
    "\n",
    "if not (hot):\n",
    "    print(\"Since it isn't hot, I will wear boots today!\")"
   ]
  },
  {
   "cell_type": "markdown",
   "metadata": {},
   "source": [
    "# Ciclos"
   ]
  },
  {
   "cell_type": "markdown",
   "metadata": {},
   "source": [
    "Los bucles son una parte importante de cualquier lenguaje de programación. Nos permiten ejecutar el mismo bloque de código una y otra vez, lo que evita que tengamos que copiarlo y pegarlo.\n",
    "\n",
    "En esta lección, veremos los dos bucles principales en Python , además de algunas declaraciones que puede usar para controlar el flujo mientras está dentro de los bucles."
   ]
  },
  {
   "cell_type": "markdown",
   "metadata": {},
   "source": [
    "## Ciclo For"
   ]
  },
  {
   "cell_type": "code",
   "execution_count": null,
   "metadata": {},
   "outputs": [
    {
     "name": "stdout",
     "output_type": "stream",
     "text": [
      "1\n",
      "2\n",
      "3\n",
      "4\n",
      "5\n",
      "6\n",
      "7\n",
      "8\n",
      "9\n",
      "10\n"
     ]
    }
   ],
   "source": [
    "for i in range(1, 11):\n",
    "    print(i)"
   ]
  },
  {
   "cell_type": "markdown",
   "metadata": {},
   "source": [
    "Aquí hay un ciclo for iterando sobre los caracteres en una cadena:\n",
    "\n",
    "for letter in \"sabe.io\":"
   ]
  },
  {
   "cell_type": "code",
   "execution_count": null,
   "metadata": {},
   "outputs": [
    {
     "name": "stdout",
     "output_type": "stream",
     "text": [
      "s\n",
      "a\n",
      "b\n",
      "e\n",
      ".\n",
      "i\n",
      "o\n"
     ]
    }
   ],
   "source": [
    "for letter in \"sabe.io\":\n",
    "    print(letter)"
   ]
  },
  {
   "cell_type": "markdown",
   "metadata": {},
   "source": [
    "Una cosa genial que puedes hacer es adjuntar una elsepalabra clave a un bucle for. Esto hará que se ejecute un bloque de código después de que finalice el bucle:"
   ]
  },
  {
   "cell_type": "code",
   "execution_count": null,
   "metadata": {},
   "outputs": [
    {
     "name": "stdout",
     "output_type": "stream",
     "text": [
      "1\n",
      "2\n",
      "3\n",
      "4\n",
      "5\n",
      "6\n",
      "7\n",
      "8\n",
      "9\n",
      "10\n",
      "We are done!\n"
     ]
    }
   ],
   "source": [
    "for i in range(1, 11):\n",
    "    print(i)\n",
    "else:\n",
    "    print(\"We are done!\")"
   ]
  },
  {
   "cell_type": "markdown",
   "metadata": {},
   "source": [
    "Python hace que recorrer las cosas sea muy sencillo."
   ]
  },
  {
   "cell_type": "markdown",
   "metadata": {},
   "source": [
    "# Ciclo While"
   ]
  },
  {
   "cell_type": "markdown",
   "metadata": {},
   "source": [
    "Un ciclo while es un ciclo aún más simple. Un ciclo while toma un condicional y si esa condición es true, continuará con otro ciclo.\n",
    "\n",
    "Veamos el bucle de 1a 10otra vez, pero esta vez usando un bucle while:"
   ]
  },
  {
   "cell_type": "code",
   "execution_count": null,
   "metadata": {},
   "outputs": [
    {
     "name": "stdout",
     "output_type": "stream",
     "text": [
      "1\n",
      "2\n",
      "3\n",
      "4\n",
      "5\n",
      "6\n",
      "7\n",
      "8\n",
      "9\n",
      "10\n"
     ]
    }
   ],
   "source": [
    "count = 1\n",
    "\n",
    "while count <= 10:\n",
    "    print(count)\n",
    "    count = count +  1"
   ]
  },
  {
   "cell_type": "markdown",
   "metadata": {},
   "source": [
    "Primero declaramos e inicializamos una variable nombrada county establecemos su valor en 1. En el primer paso, 1es menor que 10, por lo que se repite. Imprimimos el número, incrementamos nuestra variable y repetimos. Eventualmente, 10se imprime, se incrementa a 11, y la condición ahora es false, por lo que el bucle finaliza."
   ]
  },
  {
   "cell_type": "markdown",
   "metadata": {},
   "source": [
    "\n",
    "También puede usar la elsepalabra clave con bucles while:"
   ]
  },
  {
   "cell_type": "code",
   "execution_count": null,
   "metadata": {},
   "outputs": [
    {
     "name": "stdout",
     "output_type": "stream",
     "text": [
      "1\n",
      "2\n",
      "3\n",
      "4\n",
      "5\n",
      "6\n",
      "7\n",
      "8\n",
      "9\n",
      "10\n",
      "We are done!\n"
     ]
    }
   ],
   "source": [
    "count = 1\n",
    "\n",
    "while count <= 10:\n",
    "    print(count)\n",
    "    count += 1\n",
    "else:\n",
    "    print(\"We are done!\")"
   ]
  },
  {
   "cell_type": "markdown",
   "metadata": {},
   "source": [
    "# Instrucción Break"
   ]
  },
  {
   "cell_type": "markdown",
   "metadata": {},
   "source": [
    "La instrucción break se puede usar en cualquier punto dentro de un ciclo para terminarlo de inmediato. Así es como terminamos el bucle después de 5imprimir el número:"
   ]
  },
  {
   "cell_type": "code",
   "execution_count": null,
   "metadata": {},
   "outputs": [
    {
     "name": "stdout",
     "output_type": "stream",
     "text": [
      "1\n",
      "2\n",
      "3\n",
      "4\n",
      "5\n"
     ]
    }
   ],
   "source": [
    "for i in range(1, 11):\n",
    "    print(i)\n",
    "    if (i == 5):\n",
    "        break"
   ]
  },
  {
   "cell_type": "markdown",
   "metadata": {},
   "source": [
    "El ciclo que normalmente habría continuado hasta que 10se imprimió el número, se detuvo en 5porque usamos break."
   ]
  },
  {
   "cell_type": "markdown",
   "metadata": {},
   "source": [
    "## Instrucción continuar "
   ]
  },
  {
   "cell_type": "markdown",
   "metadata": {},
   "source": [
    "La declaración de continuar le permite continuar con la siguiente parte del ciclo sin terminar el resto del bloque de código. Es casi como breakexcepto que no termina el ciclo."
   ]
  },
  {
   "cell_type": "code",
   "execution_count": null,
   "metadata": {},
   "outputs": [
    {
     "name": "stdout",
     "output_type": "stream",
     "text": [
      "1\n",
      "2\n",
      "4\n",
      "5\n",
      "7\n",
      "8\n",
      "9\n",
      "10\n"
     ]
    }
   ],
   "source": [
    "for i in range(1, 11):\n",
    "    if (i == 3 or i == 6):\n",
    "        continue\n",
    "    print(i)"
   ]
  },
  {
   "cell_type": "markdown",
   "metadata": {},
   "source": [
    "Exactamente como lo codificamos, los números 3y 6los omitimos porque continuamos con la siguiente iteración del ciclo en lugar de permitir que se imprima solo."
   ]
  },
  {
   "cell_type": "code",
   "execution_count": null,
   "metadata": {},
   "outputs": [],
   "source": []
  },
  {
   "cell_type": "markdown",
   "metadata": {},
   "source": [
    "# Instrucción Pass "
   ]
  },
  {
   "cell_type": "markdown",
   "metadata": {},
   "source": [
    "La instrucción pass en Python es una sentencia nula que se utiliza como un relleno cuando se necesita escribir una sentencia vacía o placeholder en un bloque de código. Por ejemplo, se puede usar pass en una estructura de control de flujo como un if o un bucle for para indicar que no se debe hacer nada si se cumple una determinada condición:"
   ]
  },
  {
   "cell_type": "code",
   "execution_count": null,
   "metadata": {},
   "outputs": [
    {
     "name": "stdout",
     "output_type": "stream",
     "text": [
      "x es negativo o cero\n"
     ]
    }
   ],
   "source": [
    "x=-5\n",
    "if x > 0:\n",
    "    pass\n",
    "else:\n",
    "    print(\"x es negativo o cero\")\n"
   ]
  },
  {
   "cell_type": "markdown",
   "metadata": {},
   "source": [
    "O se puede usar pass en la definición de una función o una clase para indicar que aún no se ha implementado ninguna funcionalidad:"
   ]
  },
  {
   "cell_type": "code",
   "execution_count": null,
   "metadata": {},
   "outputs": [],
   "source": [
    "def mi_funcion():\n",
    "    pass\n",
    "\n",
    "class MiClase:\n",
    "    pass\n"
   ]
  },
  {
   "cell_type": "markdown",
   "metadata": {},
   "source": []
  },
  {
   "cell_type": "markdown",
   "metadata": {},
   "source": [
    "En general, pass es útil en casos en los que se requiere escribir una sentencia vacía, pero se requiere una sintaxis válida en el bloque de código."
   ]
  },
  {
   "cell_type": "markdown",
   "metadata": {},
   "source": []
  }
 ],
 "metadata": {
  "kernelspec": {
   "display_name": "Python 3",
   "language": "python",
   "name": "python3"
  },
  "language_info": {
   "codemirror_mode": {
    "name": "ipython",
    "version": 3
   },
   "file_extension": ".py",
   "mimetype": "text/x-python",
   "name": "python",
   "nbconvert_exporter": "python",
   "pygments_lexer": "ipython3",
   "version": "3.11.0"
  },
  "orig_nbformat": 4,
  "vscode": {
   "interpreter": {
    "hash": "ce4d963573401a72c80fabe1ef75418dde5088fa46d743e51eca5fefbd048d5c"
   }
  }
 },
 "nbformat": 4,
 "nbformat_minor": 2
}
