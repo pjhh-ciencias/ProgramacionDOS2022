{
 "cells": [
  {
   "cell_type": "markdown",
   "metadata": {},
   "source": [
    "# Sangria o identación\n",
    "\n",
    "La sintaxis de Python es diferente a la mayoría de los otros lenguajes de programación. Algunas de sus **palabras clave** rara vez se ven en otros lugares, y la **sangría** es muy importante en Python, mientras que para casi todos los demás lenguajes, esto no importa.\n",
    "\n",
    "En Python la sangría es la forma de denotar un nuevo bloque de código en Python. Por ejemplo:"
   ]
  },
  {
   "cell_type": "code",
   "execution_count": null,
   "metadata": {},
   "outputs": [
    {
     "name": "stdout",
     "output_type": "stream",
     "text": [
      "El valor de la variable 'valor' es Falso\n"
     ]
    }
   ],
   "source": [
    "valor=False\n",
    "\n",
    "if valor == True:\n",
    "    print(\"El valor de la variable 'valor' es Verdadero\")\n",
    "else:\n",
    "    print(\"El valor de la variable 'valor' es Falso\")"
   ]
  },
  {
   "cell_type": "markdown",
   "metadata": {},
   "source": [
    "Observa que no fue necesario indicar el fin de la instrucción `If`, ni el uso de corchetes como en otros lenguajes de programación. Por ejemplo lo siguiente nos genera un error de sintaxis. "
   ]
  },
  {
   "cell_type": "code",
   "execution_count": null,
   "metadata": {},
   "outputs": [
    {
     "ename": "IndentationError",
     "evalue": "expected an indented block after 'if' statement on line 1 (1246467150.py, line 2)",
     "output_type": "error",
     "traceback": [
      "\u001b[1;36m  Cell \u001b[1;32mIn[2], line 2\u001b[1;36m\u001b[0m\n",
      "\u001b[1;33m    print(\"True\")\u001b[0m\n",
      "\u001b[1;37m    ^\u001b[0m\n",
      "\u001b[1;31mIndentationError\u001b[0m\u001b[1;31m:\u001b[0m expected an indented block after 'if' statement on line 1\n"
     ]
    }
   ],
   "source": [
    "if True:\n",
    "print(\"True\")\n",
    "else:\n",
    "print(\"False\")"
   ]
  },
  {
   "cell_type": "markdown",
   "metadata": {},
   "source": [
    "El código en Python debe estar perfectamente identado o de lo contrario no se ejecutará o se ejecutará en una forma no deseada."
   ]
  },
  {
   "cell_type": "code",
   "execution_count": null,
   "metadata": {},
   "outputs": [
    {
     "name": "stdout",
     "output_type": "stream",
     "text": [
      "0\n",
      "1\n",
      "2\n"
     ]
    }
   ],
   "source": [
    "if True:\n",
    "    print(\"0\")\n",
    "print(\"1\")\n",
    "print(\"2\")"
   ]
  }
 ],
 "metadata": {
  "language_info": {
   "name": "python"
  },
  "orig_nbformat": 4
 },
 "nbformat": 4,
 "nbformat_minor": 2
}
