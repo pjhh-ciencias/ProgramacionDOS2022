{
 "cells": [
  {
   "attachments": {},
   "cell_type": "markdown",
   "metadata": {},
   "source": [
    "# Módulos en Python"
   ]
  },
  {
   "attachments": {},
   "cell_type": "markdown",
   "metadata": {},
   "source": [
    "Un *módulo* en Python es un fichero `.py` que contiene un conjunto de *funciones*, *variables* o *clases* y que puede ser usado por otros módulos. Podemos definir un módulo mimodulo.py con dos funciones suma() y resta()."
   ]
  },
  {
   "cell_type": "code",
   "execution_count": null,
   "metadata": {},
   "outputs": [],
   "source": [
    "#mimodulo.py\n",
    "def suma(a, b):\n",
    "    return a + b\n",
    "\n",
    "def resta(a, b):\n",
    "    return a - b"
   ]
  },
  {
   "attachments": {},
   "cell_type": "markdown",
   "metadata": {},
   "source": [
    "Una vez definido, dicho módulo puede ser usado o importado en otro fichero, como mostramos a continuación. Usando import podemos importar todo el contenido."
   ]
  },
  {
   "cell_type": "code",
   "execution_count": 2,
   "metadata": {},
   "outputs": [],
   "source": [
    "import mimodulo"
   ]
  },
  {
   "cell_type": "code",
   "execution_count": 3,
   "metadata": {},
   "outputs": [
    {
     "name": "stdout",
     "output_type": "stream",
     "text": [
      "2.7215464\n",
      "10.7215464\n"
     ]
    }
   ],
   "source": [
    "#print(mimodulo.suma(4, 3))   \n",
    "#print(mimodulo.resta(10, 9)) \n",
    "#print(mimodulo.multiplicacion(2,-1))\n",
    "\n",
    "print(mimodulo.CONSTANTE)\n",
    "\n",
    "print(mimodulo.OTRA_CONSTANTE)\n",
    "\n"
   ]
  },
  {
   "attachments": {},
   "cell_type": "markdown",
   "metadata": {},
   "source": [
    "También podemos importar únicamente los componentes que nos interesen de nuestro modulo como se muestra a continuación:"
   ]
  },
  {
   "cell_type": "code",
   "execution_count": 4,
   "metadata": {},
   "outputs": [
    {
     "name": "stdout",
     "output_type": "stream",
     "text": [
      "7\n",
      "1\n",
      "2.7215464\n"
     ]
    }
   ],
   "source": [
    "from mimodulo import suma, resta, CONSTANTE\n",
    "\n",
    "print(suma(4, 3))   \n",
    "print(resta(10, 9))  \n",
    "print(CONSTANTE)"
   ]
  },
  {
   "attachments": {},
   "cell_type": "markdown",
   "metadata": {},
   "source": [
    "Por último, podemos importar todo el módulo haciendo uso de `*`, sin necesidad de usar `mimodulo.*.`"
   ]
  },
  {
   "cell_type": "code",
   "execution_count": 5,
   "metadata": {},
   "outputs": [
    {
     "name": "stdout",
     "output_type": "stream",
     "text": [
      "2\n",
      "-14\n"
     ]
    }
   ],
   "source": [
    "from mimodulo import *\n",
    "\n",
    "\n",
    "\n",
    "print(suma(2,0))\n",
    "print(multiplicacion(2,-7))\n",
    "\n",
    "\n"
   ]
  },
  {
   "attachments": {},
   "cell_type": "markdown",
   "metadata": {},
   "source": [
    "# Rutas y Uso de sys.path"
   ]
  },
  {
   "attachments": {},
   "cell_type": "markdown",
   "metadata": {},
   "source": [
    "Normalmente los módulos que importamos están en la misma carpeta, pero es posible acceder también a módulos ubicados en una subcarpeta. "
   ]
  },
  {
   "attachments": {},
   "cell_type": "markdown",
   "metadata": {},
   "source": [
    "Podemos importar el módulo `miotromodulo.py` de la siguiente manera:"
   ]
  },
  {
   "cell_type": "code",
   "execution_count": null,
   "metadata": {},
   "outputs": [],
   "source": [
    "from Mis_modulos.miotromodulo import *\n",
    "\n",
    "saludo()"
   ]
  },
  {
   "attachments": {},
   "cell_type": "markdown",
   "metadata": {},
   "source": [
    "Es importante notar que Python busca los módulos en las rutas indicadas por el `sys.path`. Es decir, cuando se importa un módulo, lo intenta buscar en dichas carpetas. Puedes ver tu `sys.path` de la siguiente manera:"
   ]
  },
  {
   "cell_type": "code",
   "execution_count": 6,
   "metadata": {},
   "outputs": [
    {
     "name": "stdout",
     "output_type": "stream",
     "text": [
      "['/Users/pablojorge/Desktop/Repositorios/ProgramacionDOS/Python', '/Library/Frameworks/Python.framework/Versions/3.11/lib/python311.zip', '/Library/Frameworks/Python.framework/Versions/3.11/lib/python3.11', '/Library/Frameworks/Python.framework/Versions/3.11/lib/python3.11/lib-dynload', '', '/Library/Frameworks/Python.framework/Versions/3.11/lib/python3.11/site-packages']\n"
     ]
    }
   ],
   "source": [
    "import sys\n",
    "print(sys.path)"
   ]
  },
  {
   "attachments": {},
   "cell_type": "markdown",
   "metadata": {},
   "source": [
    "Como puedes observar la carpeta de tu proyecta está incluida, pero ¿y si queremos importar un módulo que se encuentre en una ubicación distinta? Pues bien, podemos añadir al `sys.path` la ruta en la que queremos que Python busque."
   ]
  },
  {
   "cell_type": "code",
   "execution_count": null,
   "metadata": {},
   "outputs": [],
   "source": [
    "import sys\n",
    "sys.path.append(r'/ruta/de/tu/modulo')"
   ]
  },
  {
   "attachments": {},
   "cell_type": "markdown",
   "metadata": {},
   "source": [
    "Una vez realizado esto, los módulos contenidos en dicha carpeta podrán ser importados sin problema como hemos visto anteriormente."
   ]
  },
  {
   "attachments": {},
   "cell_type": "markdown",
   "metadata": {},
   "source": [
    "# El uso de `as`"
   ]
  },
  {
   "attachments": {},
   "cell_type": "markdown",
   "metadata": {},
   "source": [
    "Es posible cambiar el nombre del módulo usando `as`. Imaginemos que tenemos un módulo cuyo nombre es: `nombre_modulo_muylargo.py`"
   ]
  },
  {
   "cell_type": "code",
   "execution_count": 7,
   "metadata": {},
   "outputs": [
    {
     "name": "stdout",
     "output_type": "stream",
     "text": [
      "2.7215464\n"
     ]
    }
   ],
   "source": [
    "import Mis_modulos.nombre_modulo_muylargo  as m\n",
    "\n",
    "print(m.CONSTANTE)\n",
    "\n"
   ]
  },
  {
   "attachments": {},
   "cell_type": "markdown",
   "metadata": {},
   "source": []
  }
 ],
 "metadata": {
  "kernelspec": {
   "display_name": "Python 3",
   "language": "python",
   "name": "python3"
  },
  "language_info": {
   "codemirror_mode": {
    "name": "ipython",
    "version": 3
   },
   "file_extension": ".py",
   "mimetype": "text/x-python",
   "name": "python",
   "nbconvert_exporter": "python",
   "pygments_lexer": "ipython3",
   "version": "3.11.2"
  },
  "orig_nbformat": 4
 },
 "nbformat": 4,
 "nbformat_minor": 2
}
