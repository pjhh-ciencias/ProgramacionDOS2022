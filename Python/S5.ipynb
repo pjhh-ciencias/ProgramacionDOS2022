{
 "cells": [
  {
   "cell_type": "markdown",
   "metadata": {},
   "source": [
    "# Sets"
   ]
  },
  {
   "cell_type": "markdown",
   "metadata": {},
   "source": [
    "Los **sets** en Python son una estructura de datos usada para almacenar elementos de una manera similar a las listas, pero con ciertas diferencias.\n",
    "\n",
    "* Los elementos de un set son **únicos**, lo que significa que no **puede haber elementos duplicados**.\n",
    "  \n",
    "* Los set son **desordenados**, lo que significa que **no mantienen el orden de cuando son declarados**.\n",
    "  \n",
    "* Sus elementos son **inmutables**."
   ]
  },
  {
   "cell_type": "markdown",
   "metadata": {},
   "source": [
    "## Crear set Python"
   ]
  },
  {
   "cell_type": "markdown",
   "metadata": {},
   "source": [
    "Para crear un set en Python se puede hacer con `set()` y pasando como entrada cualquier tipo iterable, como puede ser una lista. Se puede ver como a pesar de pasar elementos duplicados como dos `8` y en un orden determinado, al imprimir el set no conserva ese orden y los duplicados se han eliminado."
   ]
  },
  {
   "cell_type": "code",
   "execution_count": null,
   "metadata": {},
   "outputs": [],
   "source": [
    "s = set([5, 4, 6, 8, 8, 1,1]) \n",
    "print(s)\n",
    "# print(type(s))"
   ]
  },
  {
   "cell_type": "markdown",
   "metadata": {},
   "source": [
    "Se puede hacer lo mismo haciendo uso de `{ }`,  en lugar de usar la palabra `set( )` como se muestra a continuación:"
   ]
  },
  {
   "cell_type": "code",
   "execution_count": null,
   "metadata": {},
   "outputs": [],
   "source": [
    "s = {5, 4, 6, 8, 8, 1}\n",
    "print(s)      \n",
    "#print(type(s))"
   ]
  },
  {
   "cell_type": "code",
   "execution_count": null,
   "metadata": {},
   "outputs": [],
   "source": [
    "colores = {'rojo', 'naranja', 'amarillo', 'verde', 'rojo', 'azul'}\n",
    "print(colores)"
   ]
  },
  {
   "cell_type": "markdown",
   "metadata": {},
   "source": [
    "## Características de los  `sets`"
   ]
  },
  {
   "cell_type": "markdown",
   "metadata": {},
   "source": [
    "A diferencia de las listas, en los set's **no podemos acceder ni modificar un elemento a través de su índice**. Si lo intentamos, tendremos un `TypeError`."
   ]
  },
  {
   "cell_type": "code",
   "execution_count": null,
   "metadata": {},
   "outputs": [],
   "source": [
    "s = set([5, 6, 7, 8])\n",
    "#s[0]\n",
    "s[0]=9"
   ]
  },
  {
   "cell_type": "markdown",
   "metadata": {},
   "source": [
    "**Los elementos de un `set` deben ser inmutables**, por lo que **un elemento de un set no puede ser** ni un *`diccionario`* ni una *`lista`*. Si lo intentamos tendremos un `TypeError`"
   ]
  },
  {
   "cell_type": "code",
   "execution_count": null,
   "metadata": {},
   "outputs": [],
   "source": [
    "lista = [\"Perú\", \"Argentina\"]\n",
    "s = set([\"México\", \"España\", lista]) "
   ]
  },
  {
   "cell_type": "markdown",
   "metadata": {},
   "source": [
    "Los sets **se pueden iterar de la misma forma que las listas**."
   ]
  },
  {
   "cell_type": "code",
   "execution_count": null,
   "metadata": {},
   "outputs": [],
   "source": [
    "s = set([5, 6, 7, 7,8,8])\n",
    "for elemento in s:\n",
    "    print(elemento)"
   ]
  },
  {
   "cell_type": "code",
   "execution_count": null,
   "metadata": {},
   "outputs": [],
   "source": [
    "letras=set('actuaria')\n",
    "print(letras)"
   ]
  },
  {
   "cell_type": "markdown",
   "metadata": {},
   "source": [
    "## Determinar la longitud de un conjunto"
   ]
  },
  {
   "cell_type": "markdown",
   "metadata": {},
   "source": [
    "Con la función `len( )` podemos saber la **longitud total del set**. Recuerda que los duplicados son eliminados."
   ]
  },
  {
   "cell_type": "code",
   "execution_count": null,
   "metadata": {},
   "outputs": [],
   "source": [
    "s = set([1, 2, 2, 3, 4])\n",
    "print(len(s)) \n",
    "\n",
    "letras=set('actuaria')\n",
    "print(len(letras))\n"
   ]
  },
  {
   "cell_type": "markdown",
   "metadata": {},
   "source": [
    "## Determinar si un elemento se encuentra en el conjunto"
   ]
  },
  {
   "cell_type": "markdown",
   "metadata": {},
   "source": [
    "También **podemos saber si un elemento está presente en un set con el operador `in`**. Se el valor existe en el set, se devolverá `True`."
   ]
  },
  {
   "cell_type": "code",
   "execution_count": null,
   "metadata": {},
   "outputs": [],
   "source": [
    "colores = {'rojo', 'naranja', 'amarillo', 'verde', 'rojo', 'azul'}\n",
    "\n",
    "print('rojo' in colores)\n",
    "\n",
    "print('morado' in colores)\n",
    "\n",
    "print('morado' not in colores)"
   ]
  },
  {
   "cell_type": "code",
   "execution_count": null,
   "metadata": {},
   "outputs": [],
   "source": [
    "frutas = set([\"mango\", \"sandia\", \"melon\",'melon'])\n",
    "print(frutas)\n",
    "print(\"platano\" in frutas)"
   ]
  },
  {
   "cell_type": "markdown",
   "metadata": {},
   "source": [
    "# Crear un conjunto con un función `set`\n",
    " "
   ]
  },
  {
   "cell_type": "code",
   "execution_count": null,
   "metadata": {},
   "outputs": [],
   "source": [
    "numbers = list(range(10)) + list(range(5))\n",
    "print(numbers)\n",
    "print(set(numbers))"
   ]
  },
  {
   "cell_type": "markdown",
   "metadata": {},
   "source": [
    "# Comparar conjuntos"
   ]
  },
  {
   "cell_type": "code",
   "execution_count": null,
   "metadata": {},
   "outputs": [],
   "source": [
    "s1={1,2,3,4,5}\n",
    "s2={1,2,3,4,5}\n",
    "s3={2,3,4,5}\n",
    "\n",
    "print(s1==s2)\n",
    "print(s1==s3)\n",
    "print(s1!=s3)\n"
   ]
  },
  {
   "cell_type": "markdown",
   "metadata": {},
   "source": [
    "# Operaciones matematicas"
   ]
  },
  {
   "cell_type": "markdown",
   "metadata": {},
   "source": [
    "Los sets tienen además diferentes funcionalidades, que se pueden aplicar en forma de operador o de método. Por ejemplo, el operador `|` nos permite realizar la **unión de dos sets**, lo que equivale a *juntarlos*,  lo que en Matemáticas sería realizar la Union de conjuntos. Equivalentemente podemos utilizar el método `union()` que veremos a continuación:"
   ]
  },
  {
   "cell_type": "code",
   "execution_count": null,
   "metadata": {},
   "outputs": [],
   "source": [
    "s1 = set([1, 2, 3])\n",
    "s2 = set([3, 4, 5])\n",
    "print(s1 | s2)"
   ]
  },
  {
   "cell_type": "code",
   "execution_count": null,
   "metadata": {},
   "outputs": [],
   "source": [
    "s1 = set([1, 2, 3,6])\n",
    "s2 = set([3, 4, 5,4])\n",
    "print(s1.union(s2))"
   ]
  },
  {
   "cell_type": "markdown",
   "metadata": {},
   "source": [
    "# Iterar a traves de conjuntos"
   ]
  },
  {
   "cell_type": "code",
   "execution_count": null,
   "metadata": {},
   "outputs": [],
   "source": [
    "for color in colores:\n",
    "    print(color.upper() , end='  ')"
   ]
  },
  {
   "cell_type": "markdown",
   "metadata": {},
   "source": [
    "# Métodos `set` en Python "
   ]
  },
  {
   "cell_type": "markdown",
   "metadata": {},
   "source": [
    " <table class=\"post-table\">\n",
    "                                                <thead>\n",
    "                                                    <td>Método</td>\n",
    "                                                    <td>Descripción</td>\n",
    "                                                </thead>\n",
    "                                                <tr>\n",
    "                                                    <td>\n",
    "                                                        <code>add(e)</code>\n",
    "                                                    </td>\n",
    "                                                    <td>Añade un elemento al conjunto.</td>\n",
    "                                                </tr>\n",
    "                                                <tr>\n",
    "                                                    <td>\n",
    "                                                        <code>clear()</code>\n",
    "                                                    </td>\n",
    "                                                    <td>Elimina todos los elementos del conjunto.</td>\n",
    "                                                </tr>\n",
    "                                                <tr>\n",
    "                                                    <td>\n",
    "                                                        <code>copy()</code>\n",
    "                                                    </td>\n",
    "                                                    <td>Devuelve una copia  del conjunto.</td>\n",
    "                                                </tr>\n",
    "                                                <tr>\n",
    "                                                    <td>\n",
    "                                                        <code>difference(iterable)</code>\n",
    "                                                    </td>\n",
    "                                                    <td>\n",
    "                                                        Devuelve la diferencia del conjunto con el \n",
    "                                                        <code>iterable</code>\n",
    "                                                         como un conjunto nuevo.\n",
    "                                                    </td>\n",
    "                                                </tr>\n",
    "                                                <tr>\n",
    "                                                    <td>\n",
    "                                                        <code>difference_update(iterable)</code>\n",
    "                                                    </td>\n",
    "                                                    <td>\n",
    "                                                        Actualiza el conjunto tras realizar la diferencia con el \n",
    "                                                        <code>iterable</code>\n",
    "                                                        .\n",
    "                                                    </td>\n",
    "                                                </tr>\n",
    "                                                <tr>\n",
    "                                                    <td>\n",
    "                                                        <code>discard(e)</code>\n",
    "                                                    </td>\n",
    "                                                    <td>Elimina, si existe, el elemento del conjunto.</td>\n",
    "                                                </tr>\n",
    "                                                <tr>\n",
    "                                                    <td>\n",
    "                                                        <code>intersection(iterable)</code>\n",
    "                                                    </td>\n",
    "                                                    <td>\n",
    "                                                        Devuelve la intersección del conjunto con el \n",
    "                                                        <code>iterable</code>\n",
    "                                                         como un conjunto nuevo.\n",
    "                                                    </td>\n",
    "                                                </tr>\n",
    "                                                <tr>\n",
    "                                                    <td>\n",
    "                                                        <code>intersection_update(iterable)</code>\n",
    "                                                    </td>\n",
    "                                                    <td>\n",
    "                                                        Actualiza el conjunto tras realizar la intersección con el \n",
    "                                                        <code>iterable</code>\n",
    "                                                        .\n",
    "                                                    </td>\n",
    "                                                </tr>\n",
    "                                                <tr>\n",
    "                                                    <td>\n",
    "                                                        <code>isdisjoint(iterable)</code>\n",
    "                                                    </td>\n",
    "                                                    <td>\n",
    "                                                        Devuelve \n",
    "                                                        <code>True</code>\n",
    "                                                         si dos conjuntos son disjuntos.\n",
    "                                                    </td>\n",
    "                                                </tr>\n",
    "                                                <tr>\n",
    "                                                    <td>\n",
    "                                                        <code>issubset(iterable)</code>\n",
    "                                                    </td>\n",
    "                                                    <td>\n",
    "                                                        Devuelve \n",
    "                                                        <code>True</code>\n",
    "                                                         si el conjunto es subconjunto del \n",
    "                                                        <code>iterable</code>\n",
    "                                                        .\n",
    "                                                    </td>\n",
    "                                                </tr>\n",
    "                                                <tr>\n",
    "                                                    <td>\n",
    "                                                        <code>issuperset(iterable)</code>\n",
    "                                                    </td>\n",
    "                                                    <td>\n",
    "                                                        Devuelve \n",
    "                                                        <code>True</code>\n",
    "                                                         si el conjunto es superconjunto del \n",
    "                                                        <code>iterable</code>\n",
    "                                                        .\n",
    "                                                    </td>\n",
    "                                                </tr>\n",
    "                                                <tr>\n",
    "                                                    <td>\n",
    "                                                        <code>pop()</code>\n",
    "                                                    </td>\n",
    "                                                    <td>Obtiene y elimina un elemento de forma aleatoria del conjunto.</td>\n",
    "                                                </tr>\n",
    "                                                <tr>\n",
    "                                                    <td>\n",
    "                                                        <code>remove(e)</code>\n",
    "                                                    </td>\n",
    "                                                    <td>Elimina el elemento del conjunto. Si no existe lanza un error.</td>\n",
    "                                                </tr>\n",
    "                                                <tr>\n",
    "                                                    <td>\n",
    "                                                        <code>symmetric_difference(iterable)</code>\n",
    "                                                    </td>\n",
    "                                                    <td>\n",
    "                                                        Devuelve la diferencia simétrica del conjunto con el \n",
    "                                                        <code>iterable</code>\n",
    "                                                         como un conjunto nuevo.\n",
    "                                                    </td>\n",
    "                                                </tr>\n",
    "                                                <tr>\n",
    "                                                    <td>\n",
    "                                                        <code>symmetric_difference_update(iterable)</code>\n",
    "                                                    </td>\n",
    "                                                    <td>\n",
    "                                                        Actualiza el conjunto tras realizar la diferencia simétrica con el \n",
    "                                                        <code>iterable</code>\n",
    "                                                        .\n",
    "                                                    </td>\n",
    "                                                </tr>\n",
    "                                                <tr>\n",
    "                                                    <td>\n",
    "                                                        <code>union(iterable)</code>\n",
    "                                                    </td>\n",
    "                                                    <td>\n",
    "                                                        Devuelve la unión del conjunto con el \n",
    "                                                        <code>iterable</code>\n",
    "                                                         como un conjunto nuevo.\n",
    "                                                    </td>\n",
    "                                                </tr>\n",
    "                                                <tr>\n",
    "                                                    <td>\n",
    "                                                        <code>update(iterable)</code>\n",
    "                                                    </td>\n",
    "                                                    <td>\n",
    "                                                        Actualiza el conjunto tras realizar la unión con el \n",
    "                                                        <code>iterable</code>\n",
    "                                                        .\n",
    "                                                    </td>\n",
    "                                                </tr>\n",
    "                                            </table>"
   ]
  },
  {
   "cell_type": "markdown",
   "metadata": {},
   "source": [
    "# A practicar ... \n",
    "<center>\n",
    "<img src=\"../Imagenes/gorila_music.png\" alt=\"\", width=\"25%\" height=\"auto\">\n",
    "<!-- ![Tablero de ajedrez](./Quizes_Imagenes/tablero_ajedrez.jpg) -->\n",
    "</center>"
   ]
  },
  {
   "cell_type": "markdown",
   "metadata": {},
   "source": [
    "## Practica 4.1 \"Años perrunos\"\n",
    "\n",
    "##### Se dice que un año humano equivale a $7$ años caninos. Sin embargo, esta simple conversión no reconoce que los perros alcanzan la edad adulta en aproximadamente dos años. Como resultado, algunas personas creen que es mejor contar cada uno de los dos primeros años humanos como $10.5$ años caninos y luego contar cada año humano adicional como $4$ años caninos.\n",
    "\n",
    "##### Escriba un programaen Python que implemente la conversion descrita en el párrafo anterior y solicite al usuario (validando entrada: número positivo) los años humano que tiene tu amigo perruno y e imprima los correspondientes años caninos de tu mascota. Asegurate de que tu programa funcione correctamente para conversiones de menos de dos años humanos y para conversiones de dos o más años humanos.\n"
   ]
  },
  {
   "cell_type": "markdown",
   "metadata": {},
   "source": [
    "## Practica 4.2 \n",
    "\n",
    "#### Crea un programa en Python utilizando el módulo Turtle para dibujar 60 cuadrados, girando a la derecha 5 grados después de cada cuadrado"
   ]
  },
  {
   "cell_type": "markdown",
   "metadata": {},
   "source": [
    "## Practica 4.3\n",
    "\n",
    "#### Crea un programa en Python utilizando el módulo Turtle para dibujar 60 cuadrados, girando 5 grados después de cada cuadrado y haciendo que cada cuadrado sucesivo sea más grande. Comience con una longitud de 5 e incremente 5 unidades cada cuadrado. "
   ]
  },
  {
   "cell_type": "markdown",
   "metadata": {},
   "source": [
    "## Practica 4.4 \n",
    "\n",
    "#### Crea un programa en Python utilizando el módulo Turtle para dibujar la siguiente figura:\n",
    "<center>\n",
    "<img src=\"../Imagenes/espiral_turtle.png\" alt=\"\", width=\"35%\" height=\"auto\">\n",
    "\n",
    "</center>\n",
    "\n",
    "<b>Observación</b> ¡Omitir los colores!"
   ]
  },
  {
   "cell_type": "markdown",
   "metadata": {},
   "source": []
  },
  {
   "attachments": {},
   "cell_type": "markdown",
   "metadata": {},
   "source": [
    "## Práctica 5.1\n",
    "\n",
    "#### Cree dos conjuntos de estudiantes, uno para los que presentaron un examen y otro para los que enviaron un proyecto.\n",
    "\n"
   ]
  },
  {
   "cell_type": "code",
   "execution_count": null,
   "metadata": {},
   "outputs": [],
   "source": [
    "examen={'Benito','Maribel','Ximena','Doroteo','Flavia','Ignacio','Francisco','Lucia','Anahi','Juan','Pedro','Santiago','Lluvia'}\n",
    "\n",
    "proyecto={'Heriberto','Ximena','Flavio','Concepcion','Fernando','Francisco','Jesus','Pedro','Santiago','Sebastian','Coral'}"
   ]
  },
  {
   "cell_type": "code",
   "execution_count": null,
   "metadata": {},
   "outputs": [],
   "source": [
    "print(examen)\n",
    "print(proyecto)"
   ]
  },
  {
   "attachments": {},
   "cell_type": "markdown",
   "metadata": {},
   "source": [
    "#### Usando estos conjuntos responde las siguientes preguntas:\n",
    "\n",
    "* ##### ¿Qué estudiantes presentaron el examen y enviaron el proyecto?\n",
    "* ##### ¿Qué estudiantes sólo presentaron el examen?\n",
    "* ##### ¿Qué estudiantes sólo presentaron el proyecto?\n",
    "* ##### Haga una lista de todos los estudiantes que presentaron el examen y el proyecto (o ambos).\n",
    "* ##### Haga una lista de todos los estudiantes que  presentaron el examen y el proyecto (pero no ambos)."
   ]
  },
  {
   "attachments": {},
   "cell_type": "markdown",
   "metadata": {},
   "source": [
    "# Tuplas (tuple) en Python"
   ]
  },
  {
   "attachments": {},
   "cell_type": "markdown",
   "metadata": {},
   "source": [
    "Las **tuplas** o **tuples**  en Python son un tipo o estructura de datos que permite almacenar datos de una manera muy parecida a las *listas*, con la salvedad de que son ***inmutables***. Usualmente en las tuplas almacenan datos *heterogéneos*, pero los datos pueden ser *homogéneos*."
   ]
  },
  {
   "attachments": {},
   "cell_type": "markdown",
   "metadata": {},
   "source": [
    "Las **tuplas** en Python son **muy similares a las listas**, pero con la diferencia de que son **inmutables**, es decir, sus elementos  no pueden ser modificados. Al igual que con las *cadenas*, las componentes de las tuplas no pueden ser modificadas una vez declaradas. "
   ]
  },
  {
   "cell_type": "markdown",
   "metadata": {},
   "source": [
    "## Crear tupla Python"
   ]
  },
  {
   "attachments": {},
   "cell_type": "markdown",
   "metadata": {},
   "source": [
    "Para crear una tupla en Python se inicializa con  `( )` en lugar de corchetes."
   ]
  },
  {
   "cell_type": "code",
   "execution_count": null,
   "metadata": {},
   "outputs": [],
   "source": [
    "tupla = (1,2,3,1,3)\n",
    "print(tupla)"
   ]
  },
  {
   "cell_type": "markdown",
   "metadata": {},
   "source": [
    "También pueden declararse sin `( )`, separando por **`,`** todos sus elementos:"
   ]
  },
  {
   "cell_type": "code",
   "execution_count": null,
   "metadata": {},
   "outputs": [],
   "source": [
    "tupla = 1,2,3,1,3\n",
    "print(type(tupla))\n",
    "print(tupla)"
   ]
  },
  {
   "attachments": {},
   "cell_type": "markdown",
   "metadata": {},
   "source": [
    "## Accediendo a los elementos de la tupla"
   ]
  },
  {
   "cell_type": "markdown",
   "metadata": {},
   "source": [
    "Como hemos comentado, las tuplas son tipos inmutables, lo que significa que una vez asignado su valor, no puede ser modificado. Si se intenta, tendremos un TypeError."
   ]
  },
  {
   "cell_type": "code",
   "execution_count": null,
   "metadata": {},
   "outputs": [],
   "source": [
    "tupla = (1,2,3,1,3)\n",
    "tupla[0] = 5"
   ]
  },
  {
   "attachments": {},
   "cell_type": "markdown",
   "metadata": {},
   "source": [
    "Sin embargo, **si es posible acceder  a cada uno de sus elementos mediante sus índices**:"
   ]
  },
  {
   "cell_type": "code",
   "execution_count": 2,
   "metadata": {},
   "outputs": [
    {
     "name": "stdout",
     "output_type": "stream",
     "text": [
      "True\n"
     ]
    },
    {
     "data": {
      "text/plain": [
       "1"
      ]
     },
     "execution_count": 2,
     "metadata": {},
     "output_type": "execute_result"
    }
   ],
   "source": [
    "tupla = (1,2,3,1,3)\n",
    "print(3 in tupla)\n",
    "tupla[0] "
   ]
  },
  {
   "cell_type": "markdown",
   "metadata": {},
   "source": [
    "Al igual que las listas, las tuplas también pueden ser anidadas."
   ]
  },
  {
   "cell_type": "code",
   "execution_count": null,
   "metadata": {},
   "outputs": [],
   "source": [
    "tupla = 1,2,('a', 'b'),3\n",
    "print(tupla)      \n",
    "print(tupla[2][0])"
   ]
  },
  {
   "attachments": {},
   "cell_type": "markdown",
   "metadata": {},
   "source": [
    "## Agregar elementos a una cadena o tupla"
   ]
  },
  {
   "attachments": {},
   "cell_type": "markdown",
   "metadata": {},
   "source": [
    "Al igual que con las listas, la declaración de asignación  `+=` se puede usar con cadenas y tuplas, aunque son inmutables. En el siguiente código, después de las dos asignaciones, `tuple1` y `tuple2` se refieren al mismo objeto de tupla"
   ]
  },
  {
   "cell_type": "code",
   "execution_count": 5,
   "metadata": {},
   "outputs": [
    {
     "data": {
      "text/plain": [
       "(10, 20, 30)"
      ]
     },
     "execution_count": 5,
     "metadata": {},
     "output_type": "execute_result"
    }
   ],
   "source": [
    "tuple1 = (10, 20, 30)\n",
    "tuple2 = tuple1\n",
    "\n",
    "tuple2"
   ]
  },
  {
   "attachments": {},
   "cell_type": "markdown",
   "metadata": {},
   "source": [
    "Concatenar la tupla `(40, 50)` a `tupla1` crea una nueva tupla, luego le asigna una referencia a la variable `tupla1`, mientras que `tupla2` todavía se refiere a la tupla original: "
   ]
  },
  {
   "cell_type": "code",
   "execution_count": 6,
   "metadata": {},
   "outputs": [
    {
     "data": {
      "text/plain": [
       "(10, 20, 30, 40, 50)"
      ]
     },
     "execution_count": 6,
     "metadata": {},
     "output_type": "execute_result"
    }
   ],
   "source": [
    "tuple1 += (40, 50)\n",
    "\n",
    "tuple1\n",
    "\n"
   ]
  },
  {
   "attachments": {},
   "cell_type": "markdown",
   "metadata": {},
   "source": [
    "### Observación:\n",
    "\n",
    "Para una cadena o tupla, el elemento a la derecha de += debe ser una cadena o tupla, respectivamente. Mezclar tipos provoca un `TypeError`."
   ]
  },
  {
   "attachments": {},
   "cell_type": "markdown",
   "metadata": {},
   "source": [
    "## Agregar tuplas a las listas"
   ]
  },
  {
   "attachments": {},
   "cell_type": "markdown",
   "metadata": {},
   "source": [
    "Se puede utilizar `+=` para agregar una *tupla* a una *lista*:"
   ]
  },
  {
   "cell_type": "code",
   "execution_count": 9,
   "metadata": {},
   "outputs": [
    {
     "name": "stdout",
     "output_type": "stream",
     "text": [
      "[1, 2, 3, 4, 5, 6, 7]\n"
     ]
    },
    {
     "ename": "ValueError",
     "evalue": "0 is not in list",
     "output_type": "error",
     "traceback": [
      "\u001b[0;31m---------------------------------------------------------------------------\u001b[0m",
      "\u001b[0;31mValueError\u001b[0m                                Traceback (most recent call last)",
      "\u001b[0;32m/var/folders/cv/9b0z6xrs33j_klsdlq5l4_2c0000gn/T/ipykernel_27295/420418591.py\u001b[0m in \u001b[0;36m<module>\u001b[0;34m\u001b[0m\n\u001b[1;32m      4\u001b[0m \u001b[0;34m\u001b[0m\u001b[0m\n\u001b[1;32m      5\u001b[0m \u001b[0mprint\u001b[0m\u001b[0;34m(\u001b[0m\u001b[0mnumbers\u001b[0m\u001b[0;34m)\u001b[0m\u001b[0;34m\u001b[0m\u001b[0;34m\u001b[0m\u001b[0m\n\u001b[0;32m----> 6\u001b[0;31m \u001b[0mnumbers\u001b[0m\u001b[0;34m.\u001b[0m\u001b[0mindex\u001b[0m\u001b[0;34m(\u001b[0m\u001b[0;36m0\u001b[0m\u001b[0;34m)\u001b[0m\u001b[0;34m\u001b[0m\u001b[0;34m\u001b[0m\u001b[0m\n\u001b[0m",
      "\u001b[0;31mValueError\u001b[0m: 0 is not in list"
     ]
    }
   ],
   "source": [
    "numbers = [1, 2, 3, 4, 5]\n",
    "\n",
    "numbers += (6, 7)\n",
    "\n",
    "print(numbers)\n",
    "numbers.index(0)"
   ]
  },
  {
   "attachments": {},
   "cell_type": "markdown",
   "metadata": {},
   "source": [
    "## Convertir una lista en una tupla"
   ]
  },
  {
   "attachments": {},
   "cell_type": "markdown",
   "metadata": {},
   "source": [
    "También es posible **convertir una lista en tupla** haciendo uso de la función `tuple( )`."
   ]
  },
  {
   "cell_type": "code",
   "execution_count": null,
   "metadata": {},
   "outputs": [],
   "source": [
    "lista = [1,2,3,1,3]\n",
    "tupla = tuple(lista)\n",
    "print(type(tupla)) \n",
    "print(tupla) "
   ]
  },
  {
   "attachments": {},
   "cell_type": "markdown",
   "metadata": {},
   "source": [
    "## Iterandos sobre tuplas"
   ]
  },
  {
   "cell_type": "markdown",
   "metadata": {},
   "source": [
    "Se puede iterar una tupla de la misma forma que se hacía con las listas."
   ]
  },
  {
   "cell_type": "code",
   "execution_count": null,
   "metadata": {},
   "outputs": [],
   "source": [
    "tupla = (1,2,3,1,3)\n",
    "for t in tupla:\n",
    "    print(t)"
   ]
  },
  {
   "attachments": {},
   "cell_type": "markdown",
   "metadata": {},
   "source": [
    "## Desempaquetado secuencias"
   ]
  },
  {
   "attachments": {},
   "cell_type": "markdown",
   "metadata": {},
   "source": [
    "Se puede también **asignar el valor de una tupla con $n$ elementos a $n$ variables**."
   ]
  },
  {
   "cell_type": "code",
   "execution_count": null,
   "metadata": {},
   "outputs": [],
   "source": [
    "tupla = (1, 2, 3)\n",
    "x, y, z = tupla\n",
    "print(x, y, z)"
   ]
  },
  {
   "cell_type": "code",
   "execution_count": null,
   "metadata": {},
   "outputs": [],
   "source": [
    "tupla_estudiante = ('Amanda', [9.8, 8.5, 8.7,6])\n",
    "nombre, calificaciones = tupla_estudiante\n",
    "\n",
    "print(nombre)\n",
    "\n",
    "print(calificaciones)"
   ]
  },
  {
   "cell_type": "code",
   "execution_count": null,
   "metadata": {},
   "outputs": [],
   "source": [
    "number1 = 99\n",
    "number2 = 22\n",
    "\n",
    "number1, number2 = (number2, number1)\n",
    "\n",
    "print(f'number1 = {number1}, number2 = {number2}')"
   ]
  },
  {
   "attachments": {},
   "cell_type": "markdown",
   "metadata": {},
   "source": [
    "El siguiente código desempaqueta una cadena, una lista y una secuencia producida por rango:"
   ]
  },
  {
   "cell_type": "code",
   "execution_count": null,
   "metadata": {},
   "outputs": [],
   "source": [
    "primero, segundo = 'Hi'"
   ]
  },
  {
   "cell_type": "code",
   "execution_count": null,
   "metadata": {},
   "outputs": [],
   "source": [
    "number1, number2, number3 = [2, 3, 5]"
   ]
  },
  {
   "cell_type": "code",
   "execution_count": null,
   "metadata": {},
   "outputs": [],
   "source": [
    "number1, number2, number3 = range(10, 40, 10)"
   ]
  },
  {
   "attachments": {},
   "cell_type": "markdown",
   "metadata": {},
   "source": [
    "# Tuplas con un sólo elemento "
   ]
  },
  {
   "cell_type": "markdown",
   "metadata": {},
   "source": [
    "Aunque tal vez no tenga mucho sentido a nivel práctico, es posible crear una tupla de un solo elemento. Para ello debes usar , antes del paréntesis, porque de lo contrario (2) sería interpretado como int."
   ]
  },
  {
   "cell_type": "code",
   "execution_count": null,
   "metadata": {},
   "outputs": [],
   "source": [
    "tupla = (2,)\n",
    "print(type(tupla)) \n",
    "print(tupla)"
   ]
  },
  {
   "attachments": {},
   "cell_type": "markdown",
   "metadata": {},
   "source": [
    "# Longitud de una tupla"
   ]
  },
  {
   "attachments": {},
   "cell_type": "markdown",
   "metadata": {},
   "source": [
    "A las tuplas  se les puede aplicar la función `len()` para calcular su longitud. El valor de esta función aplicada a una tupla nos indica cuántas componentes tiene esa tupla."
   ]
  },
  {
   "cell_type": "markdown",
   "metadata": {},
   "source": [
    "## Métodos tuplas"
   ]
  },
  {
   "cell_type": "markdown",
   "metadata": {},
   "source": [
    "### Método `count( )`\n",
    "\n",
    "El método `count( )` cuenta el número de veces que el objeto pasado como parámetro se ha encontrado en la lista."
   ]
  },
  {
   "cell_type": "code",
   "execution_count": null,
   "metadata": {},
   "outputs": [],
   "source": [
    "tupla = [1, 1, 1, 3, 5]\n",
    "print(tupla.count(1))"
   ]
  },
  {
   "cell_type": "markdown",
   "metadata": {},
   "source": [
    "### Método `index( )`\n",
    "\n",
    "El método `index( )` **busca el objeto que se le pasa como parámetro** y **devuelve el índice en el que se ha encontrado**"
   ]
  },
  {
   "cell_type": "code",
   "execution_count": null,
   "metadata": {},
   "outputs": [],
   "source": [
    "tupla = [7, 7, 7, 3, 5]\n",
    "print(tupla.index(5))"
   ]
  },
  {
   "cell_type": "markdown",
   "metadata": {},
   "source": [
    "En el caso de no encontrarse, se devuelve un ValueError."
   ]
  },
  {
   "cell_type": "code",
   "execution_count": null,
   "metadata": {},
   "outputs": [],
   "source": [
    "l = [7, 7, 7, 3, 5]\n",
    "print(l.index(35))"
   ]
  },
  {
   "cell_type": "markdown",
   "metadata": {},
   "source": [
    "### Método `index( )`\n",
    " \n",
    "El método `index( )` también acepta un segundo parámetro opcional, que indica a partir de que índice empezar a buscar el objeto."
   ]
  },
  {
   "cell_type": "code",
   "execution_count": null,
   "metadata": {},
   "outputs": [],
   "source": [
    "tupla = [7, 7, 7, 3, 5]\n",
    "print(tupla.index(7, 2))"
   ]
  },
  {
   "attachments": {},
   "cell_type": "markdown",
   "metadata": {},
   "source": [
    "## Acceder a índices y valores con la función integrada enumerar"
   ]
  },
  {
   "cell_type": "markdown",
   "metadata": {},
   "source": [
    "# A practicar ... \n",
    "<center>\n",
    "<img src=\"../Imagenes/gorila_music.png\" alt=\"\", width=\"25%\" height=\"auto\">\n",
    "<!-- ![Tablero de ajedrez](./Quizes_Imagenes/tablero_ajedrez.jpg) -->\n",
    "</center>"
   ]
  },
  {
   "cell_type": "markdown",
   "metadata": {},
   "source": [
    "## Práctica 5.1\n",
    "\n",
    "#### Cree dos conjuntos de estudiantes, uno para los que presentaron un examen y otro para los que enviaron un proyecto.\n",
    "\n"
   ]
  },
  {
   "cell_type": "code",
   "execution_count": 1,
   "metadata": {},
   "outputs": [
    {
     "name": "stdout",
     "output_type": "stream",
     "text": [
      "{'Lucia', 'Pedro', 'Maribel', 'Ximena', 'Flavia', 'Anahi', 'Benito', 'Ignacio', 'Francisco', 'Lluvia', 'Juan', 'Santiago', 'Doroteo'}\n",
      "{'Jesus', 'Pedro', 'Sebastian', 'Fernando', 'Ximena', 'Concepcion', 'Coral', 'Francisco', 'Flavio', 'Heriberto', 'Santiago'}\n"
     ]
    }
   ],
   "source": [
    "examen={'Benito','Maribel','Ximena','Doroteo','Flavia','Ignacio','Francisco','Lucia','Anahi','Juan','Pedro','Santiago','Lluvia'}\n",
    "proyecto={'Heriberto','Ximena','Flavio','Concepcion','Fernando','Francisco','Jesus','Pedro','Santiago','Sebastian','Coral'}\n",
    "print(examen)\n",
    "print(proyecto)"
   ]
  },
  {
   "attachments": {},
   "cell_type": "markdown",
   "metadata": {},
   "source": [
    "#### Usando estos conjuntos e instrucciones en Python responde las siguientes preguntas:\n",
    "\n",
    "* ##### ¿Qué estudiantes presentaron el examen y enviaron el proyecto?\n",
    "* ##### ¿Qué estudiantes sólo presentaron el examen?\n",
    "* ##### ¿Qué estudiantes sólo presentaron el proyecto?\n",
    "* ##### Haga una lista de todos los estudiantes que presentaron el examen y el proyecto (o ambos).\n",
    "* ##### Haga una lista de todos los estudiantes que  presentaron el examen y el proyecto (pero no ambos)."
   ]
  },
  {
   "attachments": {},
   "cell_type": "markdown",
   "metadata": {},
   "source": [
    "## Indices"
   ]
  },
  {
   "attachments": {},
   "cell_type": "markdown",
   "metadata": {},
   "source": [
    "Para acceder al índice y valor de un elementoes recomendable utilizar la función integrada `enumerate`. Esta función recibe un *iterable* y crea un *iterador* que, para cada elemento, devuelve una *tupla* que contiene el *índice* y el *valor del elemento*. \n",
    "\n",
    "El siguiente código utiliza la función predefinida `list` para crear una lista que contiene los resultados de `enumerate`"
   ]
  },
  {
   "cell_type": "code",
   "execution_count": null,
   "metadata": {},
   "outputs": [],
   "source": [
    "colores = ['rojo','verde','amarillo','azul']\n",
    "list(enumerate(colores))"
   ]
  },
  {
   "attachments": {},
   "cell_type": "markdown",
   "metadata": {},
   "source": [
    "Similarmente, la función predefinida `tuple` crea una tupla de una secuencia: "
   ]
  },
  {
   "cell_type": "code",
   "execution_count": null,
   "metadata": {},
   "outputs": [],
   "source": [
    "tuple(enumerate(colores))"
   ]
  },
  {
   "attachments": {},
   "cell_type": "markdown",
   "metadata": {},
   "source": [
    "En  el codigo siguiente el ciclo `for` *desempaqueta* cada tupla retornada por enumerate en las variables `indice` y `valor`  y las muestra:"
   ]
  },
  {
   "cell_type": "code",
   "execution_count": null,
   "metadata": {},
   "outputs": [],
   "source": [
    "for indice, valor in enumerate(colores):\n",
    "    print(f'{indice}: {valor}')"
   ]
  },
  {
   "attachments": {},
   "cell_type": "markdown",
   "metadata": {},
   "source": []
  },
  {
   "attachments": {},
   "cell_type": "markdown",
   "metadata": {},
   "source": []
  },
  {
   "attachments": {},
   "cell_type": "markdown",
   "metadata": {},
   "source": [
    "# A practicar ... \n",
    "<center>\n",
    "<img src=\"../Imagenes/gorila_music.png\" alt=\"\", width=\"25%\" height=\"auto\">\n",
    "<!-- ![Tablero de ajedrez](./Quizes_Imagenes/tablero_ajedrez.jpg) -->\n",
    "</center>"
   ]
  },
  {
   "attachments": {},
   "cell_type": "markdown",
   "metadata": {},
   "source": [
    "## Practica 5.2 \n",
    "\n",
    "#### Crea un programa en Python \n",
    "<center>\n",
    "<img src=\"../Imagenes/barra_numeros.jpg\" alt=\"\", width=\"35%\" height=\"auto\">\n",
    "</center>"
   ]
  },
  {
   "attachments": {},
   "cell_type": "markdown",
   "metadata": {},
   "source": [
    "**Solución:**"
   ]
  },
  {
   "cell_type": "code",
   "execution_count": 29,
   "metadata": {},
   "outputs": [
    {
     "name": "stdout",
     "output_type": "stream",
     "text": [
      "\n",
      " Grafica de barras de números\n",
      "\n",
      "  Indice         Valor               Barra        \n",
      "    0     19                       ******************* \n",
      "    1     20                       ********************\n",
      "    2     15                       ***************     \n",
      "    3     7                        *******             \n",
      "    4     11                       ***********         \n"
     ]
    }
   ],
   "source": [
    "numeros = [19, 20, 15, 7, 11]\n",
    "print('\\n Grafica de barras de números\\n')\n",
    "print(f'{\"Indice\":^10}{\"Valor\":^20}{\"Barra\":^20}')\n",
    "for index, value in enumerate(numeros):\n",
    "    print(f'{index:^10}{value:<25}{\"*\"*value:<20}')"
   ]
  },
  {
   "attachments": {},
   "cell_type": "markdown",
   "metadata": {},
   "source": [
    "## Práctica 5.3 Zodiaco Chino\n",
    "\n",
    "#### El zodíaco Chino asigna animales a los años en un ciclo de $12$ años. En la siguiente tabla se muestra un ciclo de $12$ años. El patrón se repite a partir de ahí, siendo $2012$ otro año del dragón y $1999$ otro año de la liebre.\n",
    "\n",
    "<center>\n",
    "<img src=\"../Imagenes/Zodiaco_chino.jpg\" alt=\"\", width=\"auto\" height=\"auto\">\n",
    "</center>\n",
    "\n",
    "#### Escriba un programa en Python que solicite al usuario un año y muestre el animal asociado con ese año. El  programa debe funcionar correctamente para cualquier año mayor o igual a cero, no solo para los enumerados en la tabla."
   ]
  },
  {
   "attachments": {},
   "cell_type": "markdown",
   "metadata": {},
   "source": [
    "## Practica 5.4 ¿Qué día de la semana es el 1 de enero?\n",
    "\n",
    "#### La siguiente fórmula se puede utilizar para determinar el día de la semana para el 1 de enero en un año determinado:\n",
    "\n",
    "$$ \\mathrm{dia\\_semana}= \\left( \\mathrm{año} + \\left \\lfloor \\frac{\\mathrm{año} - 1}{4} \\right\\rfloor - \\left \\lfloor \\frac{\\mathrm{año} - 1}{100} \\right\\rfloor  + \\left \\lfloor \\frac{\\mathrm{año} - 1}{400} \\right\\rfloor  \\right)\\% 7    $$\n",
    "\n",
    "#### El resultado calculado por esta fórmula es un número entero que representa el día de la semana. El domingo está representado por $0$. Los días restantes de la semana siguen en secuencia hasta el sábado, que está representado por $6$.\n",
    "\n",
    "#### Usa la fórmula anterior para escribir un programa solicite al usuario un  año   e informe el día de la semana para el $1$ de enero de ese año La salida del  programa debe incluir el nombre completo del día de la semana, no solo el número entero devuelto por la fórmula."
   ]
  },
  {
   "attachments": {},
   "cell_type": "markdown",
   "metadata": {},
   "source": [
    "## Practica 5.5\n",
    "\n",
    "#### En un estado en particular, las placas de  automóviles más antiguas constan de tres letras mayúsculas seguidas de tres dígitos. Cuando se habían utilizado todas las matrículas que seguían ese patrón, se cambió el formato a cuatro dígitos seguidos de tres letras mayúsculas. \n",
    "\n",
    "#### Escribe  un programa en Python que solicite al usuario una cadena de caracteres. Entonces, evalua e imprime  un mensaje que indique si los caracteres son válidos para una placa de estilo más antiguo o para una placa de estilo más nuevo. El programa debe mostrar un mensaje apropiado si la cadena ingresada por el usuario no es válida para ningún estilo de matrícula."
   ]
  },
  {
   "attachments": {},
   "cell_type": "markdown",
   "metadata": {},
   "source": [
    "## Práctica 5.6\n",
    "\n",
    "#### Crea un programa en Python que imprima la tabla Pitagórica que muestre los productos de todas las combinaciones de números enteros desde $1$ a $1$ hasta $10$ por $10$ inclusive. La tabla Pitagórica debe incluir una fila de etiquetas en la parte superior. que contenga los números del $1$ al $10$. También debe incluir etiquetas en el lado izquierdo que contengan los números del $1$ al $10$. El resultado esperado del programa se muestra a continuación:\n",
    "\n",
    "<center>\n",
    "<img src=\"../Imagenes/tabla_pitagorica.jpg\" alt=\"\", width=\"auto\" height=\"auto\">\n",
    "</center>\n",
    "\n"
   ]
  },
  {
   "cell_type": "markdown",
   "metadata": {},
   "source": []
  }
 ],
 "metadata": {
  "kernelspec": {
   "display_name": "Python 3",
   "language": "python",
   "name": "python3"
  },
  "language_info": {
   "codemirror_mode": {
    "name": "ipython",
    "version": 3
   },
   "file_extension": ".py",
   "mimetype": "text/x-python",
   "name": "python",
   "nbconvert_exporter": "python",
   "pygments_lexer": "ipython3",
   "version": "3.11.0"
  },
  "orig_nbformat": 4,
  "vscode": {
   "interpreter": {
    "hash": "1606ed296fe21ab67c1d4b49f3f22d72247524c93f58d404930dbd4d15d6017c"
   }
  }
 },
 "nbformat": 4,
 "nbformat_minor": 2
}
