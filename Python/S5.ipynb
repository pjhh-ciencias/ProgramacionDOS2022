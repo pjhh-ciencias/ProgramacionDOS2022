{
 "cells": [
  {
   "cell_type": "markdown",
   "metadata": {},
   "source": [
    "# Sets"
   ]
  },
  {
   "cell_type": "markdown",
   "metadata": {},
   "source": [
    "Los **sets** en Python son una estructura de datos usada para almacenar elementos de una manera similar a las listas, pero con ciertas diferencias.\n",
    "\n",
    "* Los elementos de un set son **únicos**, lo que significa que no **puede haber elementos duplicados**.\n",
    "  \n",
    "* Los set son **desordenados**, lo que significa que **no mantienen el orden de cuando son declarados**.\n",
    "  \n",
    "* Sus elementos son **inmutables**."
   ]
  },
  {
   "cell_type": "markdown",
   "metadata": {},
   "source": [
    "## Crear set Python"
   ]
  },
  {
   "cell_type": "markdown",
   "metadata": {},
   "source": [
    "Para crear un set en Python se puede hacer con `set()` y pasando como entrada cualquier tipo iterable, como puede ser una lista. Se puede ver como a pesar de pasar elementos duplicados como dos `8` y en un orden determinado, al imprimir el set no conserva ese orden y los duplicados se han eliminado."
   ]
  },
  {
   "cell_type": "code",
   "execution_count": null,
   "metadata": {},
   "outputs": [],
   "source": [
    "s = set([5, 4, 6, 8, 8, 1,1]) \n",
    "print(s)\n",
    "# print(type(s))"
   ]
  },
  {
   "cell_type": "markdown",
   "metadata": {},
   "source": [
    "Se puede hacer lo mismo haciendo uso de `{ }`,  en lugar de usar la palabra `set( )` como se muestra a continuación:"
   ]
  },
  {
   "cell_type": "code",
   "execution_count": null,
   "metadata": {},
   "outputs": [],
   "source": [
    "s = {5, 4, 6, 8, 8, 1}\n",
    "print(s)      \n",
    "#print(type(s))"
   ]
  },
  {
   "cell_type": "code",
   "execution_count": null,
   "metadata": {},
   "outputs": [],
   "source": [
    "colores = {'rojo', 'naranja', 'amarillo', 'verde', 'rojo', 'azul'}\n",
    "print(colores)"
   ]
  },
  {
   "cell_type": "markdown",
   "metadata": {},
   "source": [
    "## Características de los  `sets`"
   ]
  },
  {
   "cell_type": "markdown",
   "metadata": {},
   "source": [
    "A diferencia de las listas, en los set's **no podemos acceder ni modificar un elemento a través de su índice**. Si lo intentamos, tendremos un `TypeError`."
   ]
  },
  {
   "cell_type": "code",
   "execution_count": null,
   "metadata": {},
   "outputs": [],
   "source": [
    "s = set([5, 6, 7, 8])\n",
    "#s[0]\n",
    "s[0]=9"
   ]
  },
  {
   "cell_type": "markdown",
   "metadata": {},
   "source": [
    "**Los elementos de un `set` deben ser inmutables**, por lo que **un elemento de un set no puede ser** ni un *`diccionario`* ni una *`lista`*. Si lo intentamos tendremos un `TypeError`"
   ]
  },
  {
   "cell_type": "code",
   "execution_count": null,
   "metadata": {},
   "outputs": [],
   "source": [
    "lista = [\"Perú\", \"Argentina\"]\n",
    "s = set([\"México\", \"España\", lista]) "
   ]
  },
  {
   "cell_type": "markdown",
   "metadata": {},
   "source": [
    "Los sets **se pueden iterar de la misma forma que las listas**."
   ]
  },
  {
   "cell_type": "code",
   "execution_count": null,
   "metadata": {},
   "outputs": [],
   "source": [
    "s = set([5, 6, 7, 7,8,8])\n",
    "for elemento in s:\n",
    "    print(elemento)"
   ]
  },
  {
   "cell_type": "code",
   "execution_count": null,
   "metadata": {},
   "outputs": [],
   "source": [
    "letras=set('actuaria')\n",
    "print(letras)"
   ]
  },
  {
   "cell_type": "markdown",
   "metadata": {},
   "source": [
    "## Determinar la longitud de un conjunto"
   ]
  },
  {
   "cell_type": "markdown",
   "metadata": {},
   "source": [
    "Con la función `len( )` podemos saber la **longitud total del set**. Recuerda que los duplicados son eliminados."
   ]
  },
  {
   "cell_type": "code",
   "execution_count": null,
   "metadata": {},
   "outputs": [],
   "source": [
    "s = set([1, 2, 2, 3, 4])\n",
    "print(len(s)) \n",
    "\n",
    "letras=set('actuaria')\n",
    "print(len(letras))\n"
   ]
  },
  {
   "cell_type": "markdown",
   "metadata": {},
   "source": [
    "## Determinar si un elemento se encuentra en el conjunto"
   ]
  },
  {
   "cell_type": "markdown",
   "metadata": {},
   "source": [
    "También **podemos saber si un elemento está presente en un set con el operador `in`**. Se el valor existe en el set, se devolverá `True`."
   ]
  },
  {
   "cell_type": "code",
   "execution_count": null,
   "metadata": {},
   "outputs": [],
   "source": [
    "colores = {'rojo', 'naranja', 'amarillo', 'verde', 'rojo', 'azul'}\n",
    "\n",
    "print('rojo' in colores)\n",
    "\n",
    "print('morado' in colores)\n",
    "\n",
    "print('morado' not in colores)"
   ]
  },
  {
   "cell_type": "code",
   "execution_count": null,
   "metadata": {},
   "outputs": [],
   "source": [
    "frutas = set([\"mango\", \"sandia\", \"melon\",'melon'])\n",
    "print(frutas)\n",
    "print(\"platano\" in frutas)"
   ]
  },
  {
   "cell_type": "markdown",
   "metadata": {},
   "source": [
    "# Crear un conjunto con un función `set`\n",
    " "
   ]
  },
  {
   "cell_type": "code",
   "execution_count": null,
   "metadata": {},
   "outputs": [
    {
     "name": "stdout",
     "output_type": "stream",
     "text": [
      "[0, 1, 2, 3, 4, 5, 6, 7, 8, 9, 0, 1, 2, 3, 4]\n",
      "{0, 1, 2, 3, 4, 5, 6, 7, 8, 9}\n"
     ]
    }
   ],
   "source": [
    "numbers = list(range(10)) + list(range(5))\n",
    "print(numbers)\n",
    "print(set(numbers))"
   ]
  },
  {
   "cell_type": "markdown",
   "metadata": {},
   "source": [
    "# Comparar conjuntos"
   ]
  },
  {
   "cell_type": "code",
   "execution_count": null,
   "metadata": {},
   "outputs": [
    {
     "name": "stdout",
     "output_type": "stream",
     "text": [
      "True\n",
      "False\n",
      "True\n"
     ]
    }
   ],
   "source": [
    "s1={1,2,3,4,5}\n",
    "s2={1,2,3,4,5}\n",
    "s3={2,3,4,5}\n",
    "\n",
    "print(s1==s2)\n",
    "print(s1==s3)\n",
    "print(s1!=s3)\n"
   ]
  },
  {
   "cell_type": "markdown",
   "metadata": {},
   "source": [
    "# Operaciones matematicas"
   ]
  },
  {
   "cell_type": "markdown",
   "metadata": {},
   "source": [
    "Los sets tienen además diferentes funcionalidades, que se pueden aplicar en forma de operador o de método. Por ejemplo, el operador `|` nos permite realizar la **unión de dos sets**, lo que equivale a *juntarlos*,  lo que en Matemáticas sería realizar la Union de conjuntos. Equivalentemente podemos utilizar el método `union()` que veremos a continuación:"
   ]
  },
  {
   "cell_type": "code",
   "execution_count": null,
   "metadata": {},
   "outputs": [
    {
     "name": "stdout",
     "output_type": "stream",
     "text": [
      "{1, 2, 3, 4, 5}\n"
     ]
    }
   ],
   "source": [
    "s1 = set([1, 2, 3])\n",
    "s2 = set([3, 4, 5])\n",
    "print(s1 | s2)"
   ]
  },
  {
   "cell_type": "code",
   "execution_count": null,
   "metadata": {},
   "outputs": [
    {
     "name": "stdout",
     "output_type": "stream",
     "text": [
      "{1, 2, 3, 4, 5, 6}\n"
     ]
    }
   ],
   "source": [
    "s1 = set([1, 2, 3,6])\n",
    "s2 = set([3, 4, 5,4])\n",
    "print(s1.union(s2))"
   ]
  },
  {
   "cell_type": "markdown",
   "metadata": {},
   "source": [
    "# Iterar a traves de conjuntos"
   ]
  },
  {
   "cell_type": "code",
   "execution_count": null,
   "metadata": {},
   "outputs": [],
   "source": [
    "for color in colores:\n",
    "    print(color.upper() , end='  ')"
   ]
  },
  {
   "cell_type": "markdown",
   "metadata": {},
   "source": [
    "# Métodos `set` en Python "
   ]
  },
  {
   "cell_type": "markdown",
   "metadata": {},
   "source": [
    " <table class=\"post-table\">\n",
    "                                                <thead>\n",
    "                                                    <td>Método</td>\n",
    "                                                    <td>Descripción</td>\n",
    "                                                </thead>\n",
    "                                                <tr>\n",
    "                                                    <td>\n",
    "                                                        <code>add(e)</code>\n",
    "                                                    </td>\n",
    "                                                    <td>Añade un elemento al conjunto.</td>\n",
    "                                                </tr>\n",
    "                                                <tr>\n",
    "                                                    <td>\n",
    "                                                        <code>clear()</code>\n",
    "                                                    </td>\n",
    "                                                    <td>Elimina todos los elementos del conjunto.</td>\n",
    "                                                </tr>\n",
    "                                                <tr>\n",
    "                                                    <td>\n",
    "                                                        <code>copy()</code>\n",
    "                                                    </td>\n",
    "                                                    <td>Devuelve una copia  del conjunto.</td>\n",
    "                                                </tr>\n",
    "                                                <tr>\n",
    "                                                    <td>\n",
    "                                                        <code>difference(iterable)</code>\n",
    "                                                    </td>\n",
    "                                                    <td>\n",
    "                                                        Devuelve la diferencia del conjunto con el \n",
    "                                                        <code>iterable</code>\n",
    "                                                         como un conjunto nuevo.\n",
    "                                                    </td>\n",
    "                                                </tr>\n",
    "                                                <tr>\n",
    "                                                    <td>\n",
    "                                                        <code>difference_update(iterable)</code>\n",
    "                                                    </td>\n",
    "                                                    <td>\n",
    "                                                        Actualiza el conjunto tras realizar la diferencia con el \n",
    "                                                        <code>iterable</code>\n",
    "                                                        .\n",
    "                                                    </td>\n",
    "                                                </tr>\n",
    "                                                <tr>\n",
    "                                                    <td>\n",
    "                                                        <code>discard(e)</code>\n",
    "                                                    </td>\n",
    "                                                    <td>Elimina, si existe, el elemento del conjunto.</td>\n",
    "                                                </tr>\n",
    "                                                <tr>\n",
    "                                                    <td>\n",
    "                                                        <code>intersection(iterable)</code>\n",
    "                                                    </td>\n",
    "                                                    <td>\n",
    "                                                        Devuelve la intersección del conjunto con el \n",
    "                                                        <code>iterable</code>\n",
    "                                                         como un conjunto nuevo.\n",
    "                                                    </td>\n",
    "                                                </tr>\n",
    "                                                <tr>\n",
    "                                                    <td>\n",
    "                                                        <code>intersection_update(iterable)</code>\n",
    "                                                    </td>\n",
    "                                                    <td>\n",
    "                                                        Actualiza el conjunto tras realizar la intersección con el \n",
    "                                                        <code>iterable</code>\n",
    "                                                        .\n",
    "                                                    </td>\n",
    "                                                </tr>\n",
    "                                                <tr>\n",
    "                                                    <td>\n",
    "                                                        <code>isdisjoint(iterable)</code>\n",
    "                                                    </td>\n",
    "                                                    <td>\n",
    "                                                        Devuelve \n",
    "                                                        <code>True</code>\n",
    "                                                         si dos conjuntos son disjuntos.\n",
    "                                                    </td>\n",
    "                                                </tr>\n",
    "                                                <tr>\n",
    "                                                    <td>\n",
    "                                                        <code>issubset(iterable)</code>\n",
    "                                                    </td>\n",
    "                                                    <td>\n",
    "                                                        Devuelve \n",
    "                                                        <code>True</code>\n",
    "                                                         si el conjunto es subconjunto del \n",
    "                                                        <code>iterable</code>\n",
    "                                                        .\n",
    "                                                    </td>\n",
    "                                                </tr>\n",
    "                                                <tr>\n",
    "                                                    <td>\n",
    "                                                        <code>issuperset(iterable)</code>\n",
    "                                                    </td>\n",
    "                                                    <td>\n",
    "                                                        Devuelve \n",
    "                                                        <code>True</code>\n",
    "                                                         si el conjunto es superconjunto del \n",
    "                                                        <code>iterable</code>\n",
    "                                                        .\n",
    "                                                    </td>\n",
    "                                                </tr>\n",
    "                                                <tr>\n",
    "                                                    <td>\n",
    "                                                        <code>pop()</code>\n",
    "                                                    </td>\n",
    "                                                    <td>Obtiene y elimina un elemento de forma aleatoria del conjunto.</td>\n",
    "                                                </tr>\n",
    "                                                <tr>\n",
    "                                                    <td>\n",
    "                                                        <code>remove(e)</code>\n",
    "                                                    </td>\n",
    "                                                    <td>Elimina el elemento del conjunto. Si no existe lanza un error.</td>\n",
    "                                                </tr>\n",
    "                                                <tr>\n",
    "                                                    <td>\n",
    "                                                        <code>symmetric_difference(iterable)</code>\n",
    "                                                    </td>\n",
    "                                                    <td>\n",
    "                                                        Devuelve la diferencia simétrica del conjunto con el \n",
    "                                                        <code>iterable</code>\n",
    "                                                         como un conjunto nuevo.\n",
    "                                                    </td>\n",
    "                                                </tr>\n",
    "                                                <tr>\n",
    "                                                    <td>\n",
    "                                                        <code>symmetric_difference_update(iterable)</code>\n",
    "                                                    </td>\n",
    "                                                    <td>\n",
    "                                                        Actualiza el conjunto tras realizar la diferencia simétrica con el \n",
    "                                                        <code>iterable</code>\n",
    "                                                        .\n",
    "                                                    </td>\n",
    "                                                </tr>\n",
    "                                                <tr>\n",
    "                                                    <td>\n",
    "                                                        <code>union(iterable)</code>\n",
    "                                                    </td>\n",
    "                                                    <td>\n",
    "                                                        Devuelve la unión del conjunto con el \n",
    "                                                        <code>iterable</code>\n",
    "                                                         como un conjunto nuevo.\n",
    "                                                    </td>\n",
    "                                                </tr>\n",
    "                                                <tr>\n",
    "                                                    <td>\n",
    "                                                        <code>update(iterable)</code>\n",
    "                                                    </td>\n",
    "                                                    <td>\n",
    "                                                        Actualiza el conjunto tras realizar la unión con el \n",
    "                                                        <code>iterable</code>\n",
    "                                                        .\n",
    "                                                    </td>\n",
    "                                                </tr>\n",
    "                                            </table>"
   ]
  },
  {
   "cell_type": "markdown",
   "metadata": {},
   "source": [
    "# Práctica\n",
    "\n",
    "#### Cree dos conjuntos de estudiantes, uno para los que presentaron un examen y otro para los que enviaron un proyecto.\n",
    "\n"
   ]
  },
  {
   "cell_type": "code",
   "execution_count": null,
   "metadata": {},
   "outputs": [],
   "source": [
    "examen={'Benito','Maribel','Ximena','Doroteo','Flavia','Ignacio','Francisco','Lucia','Anahi','Juan','Pedro','Santiago','Lluvia'}\n",
    "\n",
    "proyecto={'Heriberto','Ximena','Flavio','Concepcion','Fernando','Francisco','Jesus','Pedro','Santiago','Sebastian','Coral'}"
   ]
  },
  {
   "cell_type": "code",
   "execution_count": null,
   "metadata": {},
   "outputs": [],
   "source": [
    "print(examen)\n",
    "print(proyecto)"
   ]
  },
  {
   "cell_type": "markdown",
   "metadata": {},
   "source": [
    "#### Usando estos conjuntos responde las siguientes preguntas:\n",
    "\n",
    "* ##### ¿Qué estudiantes presentaron el examen y enviaron el proyecto?\n",
    "* ##### ¿Qué estudiantes sólo presentaron el examen?\n",
    "* ##### ¿Qué estudiantes sólo presentaron el proyecto?\n",
    "* ##### Haga una lista de todos los estudiantes que tomaron el examen y el proyecto (o ambos).\n",
    "* ##### Haga una lista de todos los estudiantes que tomaron el examen y el proyecto (pero no ambos)."
   ]
  },
  {
   "cell_type": "markdown",
   "metadata": {},
   "source": [
    "# Tupla (tuple)"
   ]
  },
  {
   "cell_type": "markdown",
   "metadata": {},
   "source": [
    "Las **tuplas** en Python son un tipo o estructura de datos que permite almacenar datos de una manera muy parecida a las listas, con la salvedad de que son inmutables."
   ]
  },
  {
   "cell_type": "markdown",
   "metadata": {},
   "source": [
    "Las **tuplas** o **tuples** en Python  son **muy similares a las listas**, pero con dos diferencias. Son **inmutables**, lo que significa que no pueden ser modificadas una vez declaradas. Dependiendo de lo que queramos hacer, las tuplas pueden ser más rápidas."
   ]
  },
  {
   "cell_type": "markdown",
   "metadata": {},
   "source": [
    "## Crear tupla Python"
   ]
  },
  {
   "cell_type": "markdown",
   "metadata": {},
   "source": [
    "Para crear una tupla en Python se inicializa con  `( )` en lugar de corchetes. En vez de inicializarse con corchetes se hace con `( )`"
   ]
  },
  {
   "cell_type": "code",
   "execution_count": null,
   "metadata": {},
   "outputs": [
    {
     "name": "stdout",
     "output_type": "stream",
     "text": [
      "(1, 2, 3, 1, 3)\n"
     ]
    }
   ],
   "source": [
    "tupla = (1,2,3,1,3)\n",
    "print(tupla)"
   ]
  },
  {
   "cell_type": "markdown",
   "metadata": {},
   "source": [
    "También pueden declararse sin `( )`, separando por **`,`** todos sus elementos:"
   ]
  },
  {
   "cell_type": "code",
   "execution_count": null,
   "metadata": {},
   "outputs": [
    {
     "name": "stdout",
     "output_type": "stream",
     "text": [
      "<class 'tuple'>\n",
      "(1, 2, 3, 1, 3)\n"
     ]
    }
   ],
   "source": [
    "tupla = 1,2,3,1,3\n",
    "print(type(tupla))\n",
    "print(tupla)"
   ]
  },
  {
   "cell_type": "markdown",
   "metadata": {},
   "source": [
    "## Operaciones con tuplas"
   ]
  },
  {
   "cell_type": "markdown",
   "metadata": {},
   "source": [
    "Como hemos comentado, las tuplas son tipos inmutables, lo que significa que una vez asignado su valor, no puede ser modificado. Si se intenta, tendremos un TypeError."
   ]
  },
  {
   "cell_type": "code",
   "execution_count": null,
   "metadata": {},
   "outputs": [
    {
     "ename": "TypeError",
     "evalue": "'tuple' object does not support item assignment",
     "output_type": "error",
     "traceback": [
      "\u001b[1;31m---------------------------------------------------------------------------\u001b[0m\n",
      "\u001b[1;31mTypeError\u001b[0m                                 Traceback (most recent call last)\n",
      "Cell \u001b[1;32mIn[25], line 2\u001b[0m\n",
      "\u001b[0;32m      1\u001b[0m tupla \u001b[39m=\u001b[39m (\u001b[39m1\u001b[39m,\u001b[39m2\u001b[39m,\u001b[39m3\u001b[39m,\u001b[39m1\u001b[39m,\u001b[39m3\u001b[39m)\n",
      "\u001b[1;32m----> 2\u001b[0m tupla[\u001b[39m0\u001b[39;49m] \u001b[39m=\u001b[39m \u001b[39m5\u001b[39m\n",
      "\n",
      "\u001b[1;31mTypeError\u001b[0m: 'tuple' object does not support item assignment"
     ]
    }
   ],
   "source": [
    "tupla = (1,2,3,1,3)\n",
    "tupla[0] = 5"
   ]
  },
  {
   "cell_type": "markdown",
   "metadata": {},
   "source": [
    "Sin embargo, si es posible acceder  a cada uno de sus elementos mediante sus índices:"
   ]
  },
  {
   "cell_type": "code",
   "execution_count": null,
   "metadata": {},
   "outputs": [
    {
     "data": {
      "text/plain": [
       "1"
      ]
     },
     "metadata": {},
     "output_type": "display_data"
    }
   ],
   "source": [
    "tupla = (1,2,3,1,3)\n",
    "tupla[0] "
   ]
  },
  {
   "cell_type": "markdown",
   "metadata": {},
   "source": [
    "Al igual que las listas, las tuplas también pueden ser anidadas."
   ]
  },
  {
   "cell_type": "code",
   "execution_count": null,
   "metadata": {},
   "outputs": [
    {
     "name": "stdout",
     "output_type": "stream",
     "text": [
      "(1, 2, ('a', 'b'), 3)\n",
      "a\n"
     ]
    }
   ],
   "source": [
    "tupla = 1,2,('a', 'b'),3\n",
    "print(tupla)      \n",
    "print(tupla[2][0])"
   ]
  },
  {
   "cell_type": "markdown",
   "metadata": {},
   "source": [
    "Y también es posible **convertir una lista en tupla** haciendo uso de la función `tuple( )`."
   ]
  },
  {
   "cell_type": "code",
   "execution_count": null,
   "metadata": {},
   "outputs": [
    {
     "name": "stdout",
     "output_type": "stream",
     "text": [
      "<class 'tuple'>\n",
      "(1, 2, 3, 1, 3)\n"
     ]
    }
   ],
   "source": [
    "lista = [1,2,3,1,3]\n",
    "tupla = tuple(lista)\n",
    "print(type(tupla)) \n",
    "print(tupla) "
   ]
  },
  {
   "cell_type": "markdown",
   "metadata": {},
   "source": [
    "Se puede iterar una tupla de la misma forma que se hacía con las listas."
   ]
  },
  {
   "cell_type": "code",
   "execution_count": null,
   "metadata": {},
   "outputs": [
    {
     "name": "stdout",
     "output_type": "stream",
     "text": [
      "1\n",
      "2\n",
      "3\n",
      "1\n",
      "3\n"
     ]
    }
   ],
   "source": [
    "tupla = (1,2,3,1,3)\n",
    "for t in tupla:\n",
    "    print(t)"
   ]
  },
  {
   "cell_type": "markdown",
   "metadata": {},
   "source": [
    "Y se puede también **asignar el valor de una tupla con $n$ elementos a $n$ variables**."
   ]
  },
  {
   "cell_type": "code",
   "execution_count": null,
   "metadata": {},
   "outputs": [
    {
     "name": "stdout",
     "output_type": "stream",
     "text": [
      "1 2 3\n"
     ]
    }
   ],
   "source": [
    "tupla = (1, 2, 3)\n",
    "x, y, z = tupla\n",
    "print(x, y, z)"
   ]
  },
  {
   "cell_type": "markdown",
   "metadata": {},
   "source": [
    "Aunque tal vez no tenga mucho sentido a nivel práctico, es posible crear una tupla de un solo elemento. Para ello debes usar , antes del paréntesis, porque de lo contrario (2) sería interpretado como int."
   ]
  },
  {
   "cell_type": "code",
   "execution_count": null,
   "metadata": {},
   "outputs": [
    {
     "name": "stdout",
     "output_type": "stream",
     "text": [
      "<class 'tuple'>\n",
      "(2,)\n"
     ]
    }
   ],
   "source": [
    "tupla = (2,)\n",
    "print(type(tupla)) \n",
    "print(tupla)"
   ]
  },
  {
   "cell_type": "markdown",
   "metadata": {},
   "source": [
    "## Métodos tuplas"
   ]
  },
  {
   "cell_type": "markdown",
   "metadata": {},
   "source": [
    "### Método `count( )`\n",
    "\n",
    "El método `count( )` cuenta el número de veces que el objeto pasado como parámetro se ha encontrado en la lista."
   ]
  },
  {
   "cell_type": "code",
   "execution_count": null,
   "metadata": {},
   "outputs": [
    {
     "name": "stdout",
     "output_type": "stream",
     "text": [
      "3\n"
     ]
    }
   ],
   "source": [
    "tupla = [1, 1, 1, 3, 5]\n",
    "print(tupla.count(1))"
   ]
  },
  {
   "cell_type": "markdown",
   "metadata": {},
   "source": [
    "### Método `index( )`\n",
    "\n",
    "El método `index( )` **busca el objeto que se le pasa como parámetro** y **devuelve el índice en el que se ha encontrado**"
   ]
  },
  {
   "cell_type": "code",
   "execution_count": null,
   "metadata": {},
   "outputs": [
    {
     "name": "stdout",
     "output_type": "stream",
     "text": [
      "4\n"
     ]
    }
   ],
   "source": [
    "tupla = [7, 7, 7, 3, 5]\n",
    "print(tupla.index(5))"
   ]
  },
  {
   "cell_type": "markdown",
   "metadata": {},
   "source": [
    "En el caso de no encontrarse, se devuelve un ValueError."
   ]
  },
  {
   "cell_type": "code",
   "execution_count": null,
   "metadata": {},
   "outputs": [
    {
     "ename": "ValueError",
     "evalue": "35 is not in list",
     "output_type": "error",
     "traceback": [
      "\u001b[1;31m---------------------------------------------------------------------------\u001b[0m\n",
      "\u001b[1;31mValueError\u001b[0m                                Traceback (most recent call last)\n",
      "Cell \u001b[1;32mIn[38], line 2\u001b[0m\n",
      "\u001b[0;32m      1\u001b[0m l \u001b[39m=\u001b[39m [\u001b[39m7\u001b[39m, \u001b[39m7\u001b[39m, \u001b[39m7\u001b[39m, \u001b[39m3\u001b[39m, \u001b[39m5\u001b[39m]\n",
      "\u001b[1;32m----> 2\u001b[0m \u001b[39mprint\u001b[39m(l\u001b[39m.\u001b[39;49mindex(\u001b[39m35\u001b[39;49m))\n",
      "\n",
      "\u001b[1;31mValueError\u001b[0m: 35 is not in list"
     ]
    }
   ],
   "source": [
    "l = [7, 7, 7, 3, 5]\n",
    "print(l.index(35))"
   ]
  },
  {
   "cell_type": "markdown",
   "metadata": {},
   "source": [
    "### Método `index( )`\n",
    " \n",
    "El método `index( )` también acepta un segundo parámetro opcional, que indica a partir de que índice empezar a buscar el objeto."
   ]
  },
  {
   "cell_type": "code",
   "execution_count": null,
   "metadata": {},
   "outputs": [
    {
     "name": "stdout",
     "output_type": "stream",
     "text": [
      "2\n"
     ]
    }
   ],
   "source": [
    "tupla = [7, 7, 7, 3, 5]\n",
    "print(tupla.index(7, 2))"
   ]
  },
  {
   "cell_type": "markdown",
   "metadata": {},
   "source": [
    "## Iterables e iteradores"
   ]
  },
  {
   "cell_type": "markdown",
   "metadata": {},
   "source": [
    "Una **clase iterable** es una clase que puede ser *iterada*. Dentro de Python hay gran cantidad de clases iterables como las *listas*,* strings*, *diccionarios* o *ficheros*. Si tenemos una clase iterable, podemos usarla a la derecha del `for` de la siguiente manera:\n",
    "\n",
    "<center>\n",
    "<code>for elemento in [clase_iterable]:</code>\n",
    "            \n",
    "</center>\n",
    "\n",
    "Si usamos el for como acabamos de mostrar, la variable elemento irá tomando los valores de cada elemento presente en la clase iterable. De esta manera, ya no tenemos que ir accediendo manualmente con [] a cada elemento."
   ]
  },
  {
   "cell_type": "markdown",
   "metadata": {},
   "source": [
    "* Los **iterables** son aquellos objetos que como su nombre indica pueden ser iterados, lo que dicho de otra forma es, que puedan ser indexados. Si piensas en un *array* (o una *list* en Python), podemos indexarlo con `lista[1]` por ejemplo, por lo que sería un iterable.\n",
    "\n",
    "\n",
    "* Los **iteradores** son objetos que hacen referencia a un elemento, y que tienen un método next que permite hacer referencia al siguiente."
   ]
  },
  {
   "cell_type": "markdown",
   "metadata": {},
   "source": [
    "### Iterables"
   ]
  },
  {
   "cell_type": "markdown",
   "metadata": {},
   "source": [
    "Los **iterables** son objetos que pueden ser iterados o accedidos con un índice. Algunos ejemplos de iterables en Python son las *listas*, *tuplas*, *cadenas* o *diccionarios*. Sabiendo esto, lo primero que tenemos que tener claro es que en un `for`, lo que va después del `in` deberá ser siempre un *iterable*."
   ]
  },
  {
   "cell_type": "markdown",
   "metadata": {},
   "source": [
    "¿Cómo sabemos si algo es iterable o no?. Bien fácil, con la siguiente función `isinstance()` podemos saberlo."
   ]
  },
  {
   "cell_type": "code",
   "execution_count": null,
   "metadata": {},
   "outputs": [],
   "source": [
    "from collections import Iterable\n",
    "lista = [1, 2, 3, 4]\n",
    "cadena = \"Python\"\n",
    "numero = 10\n",
    "print(isinstance(lista, Iterable))  #True\n",
    "print(isinstance(cadena, Iterable)) #True\n",
    "print(isinstance(numero, Iterable)) #False"
   ]
  },
  {
   "cell_type": "markdown",
   "metadata": {},
   "source": [
    "Por lo tanto las listas y las cadenas son iterables, pero numero, que es un entero no lo es. Es por eso por lo que no podemos hacer lo siguiente, ya que daría un error. De hecho el error sería *TypeError: int' object is not iterable*."
   ]
  },
  {
   "cell_type": "code",
   "execution_count": null,
   "metadata": {},
   "outputs": [
    {
     "ename": "TypeError",
     "evalue": "'int' object is not iterable",
     "output_type": "error",
     "traceback": [
      "\u001b[0;31m---------------------------------------------------------------------------\u001b[0m\n",
      "\n",
      "\u001b[0;31mTypeError\u001b[0m                                 Traceback (most recent call last)\n",
      "\n",
      "\u001b[0;32m<ipython-input-3-dad0f98cf8a1>\u001b[0m in \u001b[0;36m<module>\u001b[0;34m\u001b[0m\n",
      "\n",
      "\u001b[1;32m      1\u001b[0m \u001b[0mnumero\u001b[0m \u001b[0;34m=\u001b[0m \u001b[0;36m10\u001b[0m\u001b[0;34m\u001b[0m\u001b[0;34m\u001b[0m\u001b[0m\n",
      "\n",
      "\u001b[0;32m----> 2\u001b[0;31m \u001b[0;32mfor\u001b[0m \u001b[0mi\u001b[0m \u001b[0;32min\u001b[0m \u001b[0mnumero\u001b[0m\u001b[0;34m:\u001b[0m\u001b[0;34m\u001b[0m\u001b[0;34m\u001b[0m\u001b[0m\n",
      "\n",
      "\u001b[0m\u001b[1;32m      3\u001b[0m     \u001b[0mprint\u001b[0m\u001b[0;34m(\u001b[0m\u001b[0mi\u001b[0m\u001b[0;34m)\u001b[0m\u001b[0;34m\u001b[0m\u001b[0;34m\u001b[0m\u001b[0m\n",
      "\n",
      "\n",
      "\n",
      "\u001b[0;31mTypeError\u001b[0m: 'int' object is not iterable"
     ]
    }
   ],
   "source": [
    "numero = 10\n",
    "for i in numero:\n",
    "    print(i)"
   ]
  },
  {
   "cell_type": "markdown",
   "metadata": {},
   "source": [
    "### Iteradores"
   ]
  },
  {
   "cell_type": "markdown",
   "metadata": {},
   "source": [
    "Para entender los **iteradores**, es importante conocer la función iter() en Python. Dicha función puede ser llamada sobre un objeto que sea iterable, y nos devolverá un iterador como se ve en el siguiente ejemplo."
   ]
  },
  {
   "cell_type": "code",
   "execution_count": null,
   "metadata": {},
   "outputs": [],
   "source": [
    "lista = [5, 6, 3, 2]\n",
    "it = iter(lista)\n",
    "print(it)      \n",
    "print(type(it))"
   ]
  },
  {
   "cell_type": "markdown",
   "metadata": {},
   "source": [
    "Vemos que al imprimir it es un iterador, de la *clase list_iterator*. Esta variable iteradora, hace referencia a la lista original y nos permite acceder a sus elementos con la función `next()`. Cada vez que llamamos a `next`() sobre `it`, nos devuelve el siguiente elemento de la lista original. Por lo tanto, si queremos acceder al elemento $4$, tendremos que llamar $4$ veces a `next()`. Nótese que el iterador empieza apuntando fuera de la lista, y no hace referencia al primer elemento hasta que no se llama a `next()` por primera vez."
   ]
  },
  {
   "cell_type": "code",
   "execution_count": null,
   "metadata": {},
   "outputs": [],
   "source": [
    "lista = [5, 6, 3, 2]\n",
    "it = iter(lista)\n",
    "print(next(it))\n",
    "print(next(it))\n",
    "print(next(it))\n",
    "print(next(it))"
   ]
  },
  {
   "cell_type": "markdown",
   "metadata": {},
   "source": [
    "# Manejo de excepciones\n",
    "\n",
    "Es importante aprender cómo manejar y controlar las excepciones en Python para asegurarse de que las aplicaciones sean resistentes a errores y se ejecuten de manera consistente."
   ]
  },
  {
   "cell_type": "markdown",
   "metadata": {},
   "source": [
    "# Sentencia Try-Except\n",
    "\n",
    "\n",
    "La sentencia `try` contiene el bloque de código que puede ocasionar una excepción o un error, mientras que la sentencia `except`   contiene el bloque de código que se ejecutará si y sólo si un error es detectado en nuestro código. \n",
    "\n",
    "Por ejemplo, las líneas de código siguiente nos dará error si el usuario introduce letras en lugar de números:  "
   ]
  },
  {
   "cell_type": "code",
   "execution_count": null,
   "metadata": {},
   "outputs": [
    {
     "name": "stdout",
     "output_type": "stream",
     "text": [
      "tienes  8 años\n"
     ]
    }
   ],
   "source": [
    "num=int(input('¿Cuantos años tienes?'))\n",
    "print(f'Tienes  {num} años')"
   ]
  },
  {
   "cell_type": "markdown",
   "metadata": {},
   "source": [
    "Por lo tanto podemos implementar la sentencia `try-excep`:"
   ]
  },
  {
   "cell_type": "code",
   "execution_count": null,
   "metadata": {},
   "outputs": [
    {
     "name": "stdout",
     "output_type": "stream",
     "text": [
      "Tienes  9 años\n"
     ]
    }
   ],
   "source": [
    "try:\n",
    "    num=int(input('¿Cuantos años tienes?'))\n",
    "    print(f'Tienes  {num} años')\n",
    "except:\n",
    "    print('Tipo de dato incorrecto')"
   ]
  },
  {
   "cell_type": "markdown",
   "metadata": {},
   "source": [
    "## Multiples excepciones\n",
    "\n",
    "En algunas ocasiones necesitaremos agregar **multiples excepciones** en caso de que nuestro código tenga varios tipos de errores. Para lo cual Python cuenta con palabras reservadas para clasificar el tipo de error : si es un error de sintaxis, si es un error de tipo de variable entre otros. "
   ]
  },
  {
   "cell_type": "code",
   "execution_count": null,
   "metadata": {},
   "outputs": [],
   "source": [
    "num1 = input"
   ]
  }
 ],
 "metadata": {
  "kernelspec": {
   "display_name": "Python 3",
   "language": "python",
   "name": "python3"
  },
  "language_info": {
   "codemirror_mode": {
    "name": "ipython",
    "version": 3
   },
   "file_extension": ".py",
   "mimetype": "text/x-python",
   "name": "python",
   "nbconvert_exporter": "python",
   "pygments_lexer": "ipython3",
   "version": "3.11.0"
  },
  "orig_nbformat": 4,
  "vscode": {
   "interpreter": {
    "hash": "ce4d963573401a72c80fabe1ef75418dde5088fa46d743e51eca5fefbd048d5c"
   }
  }
 },
 "nbformat": 4,
 "nbformat_minor": 2
}
