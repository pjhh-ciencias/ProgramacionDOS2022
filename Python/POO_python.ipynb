{
 "cells": [
  {
   "attachments": {},
   "cell_type": "markdown",
   "metadata": {},
   "source": [
    "# Programación Orientada a Objetos en Python"
   ]
  },
  {
   "attachments": {},
   "cell_type": "markdown",
   "metadata": {},
   "source": [
    "Python es un lenguaje de programación orientado a objetos. Lo que esto significa es que casi todo es un *objeto*.  Cuando creas una variable y le asignas un valor entero, ese valor es un objeto; una función es un objeto; las *listas, tuplas, diccionarios, conjuntos*,... son objetos; una cadena de caracteres es un objeto. Y así podría seguir indefinidamente. \n",
    "\n",
    "La Programacion Orientada a objetos nos permite encapsular y aislar datos y operaciones que se pueden realizar sobre dichos datos.\n",
    "\n"
   ]
  },
  {
   "attachments": {},
   "cell_type": "markdown",
   "metadata": {},
   "source": [
    "## Clase"
   ]
  },
  {
   "attachments": {},
   "cell_type": "markdown",
   "metadata": {},
   "source": [
    "Básicamente, una clase es una entidad que define una serie de elementos que determinan un estado (datos) y un comportamiento (operaciones sobre los datos que modifican su estado). Por su parte, un objeto es una concreción o instancia de una clase."
   ]
  },
  {
   "cell_type": "markdown",
   "metadata": {},
   "source": [
    "# Objetos"
   ]
  },
  {
   "attachments": {},
   "cell_type": "markdown",
   "metadata": {},
   "source": [
    " Un **objeto** en Python es una colección de atributos que describen colectivamente una \"cosa\". Esa \"cosa\" puede ser lo que quieras: un libro, un animal, una película."
   ]
  },
  {
   "cell_type": "markdown",
   "metadata": {},
   "source": [
    "Una clase en Python es una plantilla para crear objetos, que tienen atributos y métodos (características y comportamientos). Cada objeto creado a partir de una clase se conoce como una instancia de la clase. Las clases proporcionan una forma de agrupar datos y funcionalidad relacionados juntos, lo que facilita el mantenimiento y reutilización del código."
   ]
  },
  {
   "cell_type": "markdown",
   "metadata": {},
   "source": [
    "\n",
    "Una clase es una plantilla o molde para crear objetos, y cada objeto creado a partir de una clase se conoce como una instancia de la clase. Las propiedades y métodos de una clase se definen dentro de la clase usando la sintaxis de Python."
   ]
  },
  {
   "cell_type": "markdown",
   "metadata": {},
   "source": [
    "## Crear una clase"
   ]
  },
  {
   "attachments": {},
   "cell_type": "markdown",
   "metadata": {},
   "source": [
    "Para crear un objeto, primero debemos definir una **clase**. Crear una clase es simplemente definir la *plantilla*  que será utilizado por todos los objetos subsiguientes. Para definir una clase, use la palabra clave *class*:"
   ]
  },
  {
   "cell_type": "code",
   "execution_count": 13,
   "metadata": {},
   "outputs": [],
   "source": [
    "class Alumno:\n",
    "    nombre = \"Benito Juarez\""
   ]
  },
  {
   "attachments": {},
   "cell_type": "markdown",
   "metadata": {},
   "source": [
    "Así de facil, hemos definido una clase, llamada *Alumno*  y contiene una propiedad llamada `nombre` que tiene como valor predeterminado la cadena:  'Benito Juarez'."
   ]
  },
  {
   "cell_type": "markdown",
   "metadata": {},
   "source": [
    "## Crear un objeto"
   ]
  },
  {
   "attachments": {},
   "cell_type": "markdown",
   "metadata": {},
   "source": [
    "Para crear un nuevo objeto de una clase determinada, es decir, **instanciar una clase**, se usa el nombre de la clase de la cual dese construir el objeto y a continuación agregue  paréntesis (como si se llamara a una función).\n",
    "\n",
    "<pre>objeto = Nombre_clase() </code>"
   ]
  },
  {
   "attachments": {},
   "cell_type": "markdown",
   "metadata": {},
   "source": [
    "En este caso, usaremos nuestra clase *Alumno*  previamente definida:"
   ]
  },
  {
   "cell_type": "code",
   "execution_count": 82,
   "metadata": {},
   "outputs": [
    {
     "name": "stdout",
     "output_type": "stream",
     "text": [
      "Benito Juarez\n"
     ]
    }
   ],
   "source": [
    "class Alumno:\n",
    "    nombre = \"Benito Juarez\"\n",
    "\n",
    "alumno1 = Alumno()\n",
    "print(alumno1.nombre)"
   ]
  },
  {
   "attachments": {},
   "cell_type": "markdown",
   "metadata": {},
   "source": [
    "¡Impresionante!, hemos creamos un nuevo alumno e imprimimos el nombre accediendo directamente a la propiedad. Esto es genial y todo eso, pero ahora hagamos que nuestras clases sean útiles."
   ]
  },
  {
   "cell_type": "markdown",
   "metadata": {},
   "source": [
    "## Constructor de clase"
   ]
  },
  {
   "attachments": {},
   "cell_type": "markdown",
   "metadata": {},
   "source": [
    "<!-- El código anterior crea una nueva instancia de la clase `Nombre_clase` y asigna dicho objeto a la variable `objeto`. Esto crea un objeto vacío, sin estado. -->\n",
    "Sin embargo, a veces es necesario definir  clases (como nuestra clase Almuno) que deben o necesitan crear instancias de objetos con un *estado inicial*. Esto se consigue implementando el método especial `__init__()`. Este método es conocido como el **constructor de la clase** y se invoca cada vez que se instancia un nuevo objeto.\n",
    "De esta manera,  un constructor para tu clase  inicializa tu nuevo objeto usando los parámetros que le pasas.\n",
    "\n",
    "El **método `__init__( )`** establece un primer parámetro especial que se suele llamar `self` (veremos qué significa este nombre más adelante). Pero puede especificar otros parámetros siguiendo las mismas reglas que cualquier otra función.\n",
    "\n",
    "La  palabra clave `self` se utiliza para referirse al objeto actual que se está creando. Por lo tanto, cuando se llama al constructor (lo que ocurre automáticamente), está configurando las propiedades del nuevo objeto utilizando los parámetros que pasó."
   ]
  },
  {
   "attachments": {},
   "cell_type": "markdown",
   "metadata": {},
   "source": [
    "Hagamos que el nombre del alumno sea personalizable usando la función incorporada `__init__( )`:"
   ]
  },
  {
   "cell_type": "code",
   "execution_count": 83,
   "metadata": {},
   "outputs": [],
   "source": [
    "class Alumno: # class es la palabra reservada para definir una clase\n",
    "    \"\"\"Esta clase define las propiedades y el comportamiento de un estudiante \"\"\" #Docsstring\n",
    "\n",
    "    # Constructor de la clase\n",
    "    def __init__(self,nombre):\n",
    "        self.nombre=nombre"
   ]
  },
  {
   "attachments": {},
   "cell_type": "markdown",
   "metadata": {},
   "source": [
    "En nuestro caso, el constructor de la clase Alumno es:\n",
    "\n",
    "<pre>\n",
    "    def __init__(self,nombre,campus, carrera):\n",
    "        self.nombre=nombre\n",
    "        self.campus=campus\n",
    "        self.carrera=carrera\n",
    "</pre>"
   ]
  },
  {
   "attachments": {},
   "cell_type": "markdown",
   "metadata": {},
   "source": [
    "De esta manera, para instanciar un objeto de tipo `Alumno`, debemos pasar como argumentos el *nombre*:"
   ]
  },
  {
   "cell_type": "code",
   "execution_count": 84,
   "metadata": {},
   "outputs": [
    {
     "name": "stdout",
     "output_type": "stream",
     "text": [
      "Angel Mateo\n"
     ]
    }
   ],
   "source": [
    "alumno1 = Alumno(\"Angel Mateo\")\n",
    "print(alumno1.nombre)"
   ]
  },
  {
   "attachments": {},
   "cell_type": "markdown",
   "metadata": {},
   "source": [
    "Dado que las clases son solo plantillas de objetos, también puede crear varios objetos utilizando la misma clase:"
   ]
  },
  {
   "cell_type": "code",
   "execution_count": 85,
   "metadata": {},
   "outputs": [
    {
     "name": "stdout",
     "output_type": "stream",
     "text": [
      "Angel Mateo\n",
      "Mauricio Jesus\n"
     ]
    }
   ],
   "source": [
    "alumno1 = Alumno(\"Angel Mateo\")\n",
    "alumno2 = Alumno(\"Mauricio Jesus\")\n",
    "\n",
    "print(alumno1.nombre)\n",
    "print(alumno2.nombre)"
   ]
  },
  {
   "cell_type": "markdown",
   "metadata": {},
   "source": [
    "También puede cambiar la propiedad de un objeto directamente:"
   ]
  },
  {
   "cell_type": "code",
   "execution_count": 86,
   "metadata": {},
   "outputs": [
    {
     "name": "stdout",
     "output_type": "stream",
     "text": [
      "Angel Mateo\n",
      "Ángel Mateo Hernandez\n"
     ]
    }
   ],
   "source": [
    "alumno1 = Alumno(\"Angel Mateo\")\n",
    "print(alumno1.nombre)\n",
    "\n",
    "alumno1.nombre='Ángel Mateo Hernandez'\n",
    "print(alumno1.nombre)\n",
    "\n"
   ]
  },
  {
   "attachments": {},
   "cell_type": "markdown",
   "metadata": {},
   "source": [
    "#### **Nota:**\n",
    "\n",
    "Una convención importante respecto a la  notación para los nombres de las clases es la siguiente: la primera letra de cada palabra del nombre debe estar en mayúsculas y el resto de letras  en minúsculas."
   ]
  },
  {
   "attachments": {},
   "cell_type": "markdown",
   "metadata": {},
   "source": [
    "#### **Observación:**\n",
    "\n",
    "A diferencia de otros lenguajes, en los que está permitido implementar más de un constructor, en Python solo se puede definir un método `__init__()`."
   ]
  },
  {
   "attachments": {},
   "cell_type": "markdown",
   "metadata": {},
   "source": [
    "En resumen, el método __init__ es un constructor en Python que se invoca automáticamente al crear una instancia de una clase y se utiliza para inicializar los atributos de un objeto recién creado."
   ]
  },
  {
   "attachments": {},
   "cell_type": "markdown",
   "metadata": {},
   "source": [
    "## Atributos, atributos de datos y métodos"
   ]
  },
  {
   "attachments": {},
   "cell_type": "markdown",
   "metadata": {},
   "source": [
    "La única operación que pueden realizar los objetos es referenciar a sus atributos por medio del operador `.`"
   ]
  },
  {
   "attachments": {},
   "cell_type": "markdown",
   "metadata": {},
   "source": [
    "Un objeto tiene dos tipos de **atributos**: *atributos de datos* y *métodos*:\n",
    "\n",
    "* Los **atributos de datos** definen el estado del objeto. En otros lenguajes son conocidos simplemente como atributos o miembros.\n",
    "* Los **métodos** son las funciones definidas dentro de la clase."
   ]
  },
  {
   "attachments": {},
   "cell_type": "markdown",
   "metadata": {},
   "source": [
    "##### **Ejemplo** \n",
    "\n",
    "Cuando pensamos en un alumno, seguramente nos preguntamos por su nombre, número de matricula, su edad,  la carrera que estudia, etc. \n",
    "\n",
    "<!-- el campus de la UMAR en el que se encuentra inscrito, etc. -->\n",
    "<!-- \n",
    "Pues todo lo que acabo de describir viene a ser una clase y cada uno de los de coches que has imaginado, serían objetos de dicha clase. -->"
   ]
  },
  {
   "cell_type": "code",
   "execution_count": 94,
   "metadata": {},
   "outputs": [
    {
     "name": "stdout",
     "output_type": "stream",
     "text": [
      "Pablo\n"
     ]
    }
   ],
   "source": [
    "class Alumno: # class es la palabra reservada para definir una clase\n",
    "    \"\"\"Esta clase define las propiedades y el comportamiento de un estudiante \"\"\" #Docsstring\n",
    "    \n",
    "    # Constructor de la clase\n",
    "    def __init__(self,nombre, carrera):\n",
    "        self.nombre=nombre          \n",
    "        self.carrera=carrera\n",
    "    \n",
    "alumno1=Alumno('Pablo','Matematicas Aplicadas')\n",
    "print(alumno1.nombre)"
   ]
  },
  {
   "cell_type": "code",
   "execution_count": 93,
   "metadata": {},
   "outputs": [
    {
     "name": "stdout",
     "output_type": "stream",
     "text": [
      "Pablo Jorge\n",
      "Matematicas Aplicadas\n"
     ]
    }
   ],
   "source": [
    "alumno1=Alumno('Pablo Jorge','Matematicas Aplicadas')\n",
    "print(alumno1.nombre)\n",
    "print(alumno1.carrera)"
   ]
  },
  {
   "attachments": {},
   "cell_type": "markdown",
   "metadata": {},
   "source": [
    "En la  línea 1 del código anterior, el objeto `alumno1` está referenciando al *atributo de dato* `nombre` y en la  línea 5  al atributo `carrera`."
   ]
  },
  {
   "attachments": {},
   "cell_type": "markdown",
   "metadata": {},
   "source": [
    "## Atributos de datos"
   ]
  },
  {
   "attachments": {},
   "cell_type": "markdown",
   "metadata": {},
   "source": [
    "A diferencia de otros lenguajes, los atributos de datos no necesitan ser declarados previamente. Un objeto los crea del mismo modo en que se crean las variables en Python, es decir, cuando les asigna un valor por primera vez."
   ]
  },
  {
   "cell_type": "code",
   "execution_count": 96,
   "metadata": {},
   "outputs": [
    {
     "name": "stdout",
     "output_type": "stream",
     "text": [
      "Angel Mateo\n",
      "Mauricio Jesus\n",
      "Mendez\n"
     ]
    },
    {
     "ename": "AttributeError",
     "evalue": "'Alumno' object has no attribute 'apellido_paterno'",
     "output_type": "error",
     "traceback": [
      "\u001b[1;31m---------------------------------------------------------------------------\u001b[0m",
      "\u001b[1;31mAttributeError\u001b[0m                            Traceback (most recent call last)",
      "Cell \u001b[1;32mIn [96], line 17\u001b[0m\n\u001b[0;32m     14\u001b[0m alumno1\u001b[39m.\u001b[39mapellido_paterno\u001b[39m=\u001b[39m\u001b[39m'\u001b[39m\u001b[39mMendez\u001b[39m\u001b[39m'\u001b[39m\n\u001b[0;32m     15\u001b[0m \u001b[39mprint\u001b[39m(alumno1\u001b[39m.\u001b[39mapellido_paterno)\n\u001b[1;32m---> 17\u001b[0m \u001b[39mprint\u001b[39m(alumno2\u001b[39m.\u001b[39;49mapellido_paterno)\n",
      "\u001b[1;31mAttributeError\u001b[0m: 'Alumno' object has no attribute 'apellido_paterno'"
     ]
    }
   ],
   "source": [
    "class Alumno: # class es la palabra reservada para definir una clase\n",
    "    \"\"\"Esta clase define las propiedades y el comportamiento de un estudiante \"\"\" #Docsstring\n",
    "\n",
    "    # Constructor de la clase\n",
    "    def __init__(self,nombre):\n",
    "        self.nombre=nombre\n",
    "        \n",
    "alumno1 = Alumno(\"Angel Mateo\")\n",
    "alumno2 = Alumno(\"Mauricio Jesus\")\n",
    "\n",
    "print(alumno1.nombre)\n",
    "print(alumno2.nombre)\n",
    "\n",
    "alumno1.apellido_paterno='Mendez'\n",
    "print(alumno1.apellido_paterno)\n",
    "\n",
    "print(alumno2.apellido_paterno)\n",
    "\n"
   ]
  },
  {
   "attachments": {},
   "cell_type": "markdown",
   "metadata": {},
   "source": [
    "Los objetos `alumno1` y `alumno2` pueden referenciar al atributo `nombre` porque está definido en la clase `Alumno`. Sin embargo, solo el objeto `alumno1` puede referenciar al atributo `apellido_paterno` a partir de la línea 8, porque se inicializa dicho atributo en esa línea. Si el objeto `alumno2` intenta referenciar al mismo atributo, como no está definido en la clase y tampoco lo ha inicializado, el intérprete lanzará un error.\n"
   ]
  },
  {
   "attachments": {},
   "cell_type": "markdown",
   "metadata": {},
   "source": [
    "## Métodos"
   ]
  },
  {
   "attachments": {},
   "cell_type": "markdown",
   "metadata": {},
   "source": [
    "Los **métodos** son las funciones que se definen dentro de una clase y que, por consiguiente, pueden ser referenciadas por los objetos de dicha clase. Sin embargo, realmente los métodos son algo más. Por ejemplo, en nuestra clase `alumno` definiremos las funciones `saludo( )` y `cambiar_carrera()`."
   ]
  },
  {
   "attachments": {},
   "cell_type": "markdown",
   "metadata": {},
   "source": [
    "<pre> \n",
    "def saludo(self):\n",
    "        print('Hola ' + self.nombre)\n",
    "</pre>"
   ]
  },
  {
   "cell_type": "code",
   "execution_count": 106,
   "metadata": {},
   "outputs": [
    {
     "name": "stdout",
     "output_type": "stream",
     "text": [
      "Hola Pablo Jorge\n",
      "Matematicas Aplicadas\n",
      "Actuaria\n"
     ]
    }
   ],
   "source": [
    "class Alumno: # class es la palabra reservada para definir una clase\n",
    "    \"\"\"Esta clase define las propiedades y el comportamiento de un estudiante \"\"\" #Docsstring\n",
    "    \n",
    "    # Atibutos de la clase  \n",
    "    universidad='UMAR' \n",
    "\n",
    "    # Constructor de la clase\n",
    "    def __init__(self,nombre, carrera):\n",
    "        self.nombre=nombre        \n",
    "        self.carrera=carrera\n",
    "    \n",
    "    #Métodos\n",
    "    def saludo(self):\n",
    "        print('Hola ' + self.nombre)\n",
    "\n",
    "    def cambiar_carrera(self,carrera):\n",
    "        self.carrera=carrera\n",
    "    \n",
    "\n",
    "alumno1=Alumno('Pablo Jorge',  'Matematicas Aplicadas')\n",
    "alumno1.saludo()\n",
    "\n",
    "print(alumno1.carrera)\n",
    "alumno1.cambiar_carrera('Actuaria')\n",
    "print(alumno1.carrera)"
   ]
  },
  {
   "attachments": {},
   "cell_type": "markdown",
   "metadata": {},
   "source": [
    "Observemos que cuando se usa la función `saludo( )` no se introduce ningún argumento. Sin embargo, en la definición  de la función `saludo` se tiene un argumento: `self` ¿Qué está pasando entonces? resulta  que `saludo( )` está al estar siendo utilizada como un método por los objetos de la clase `Alumno`, es necesario que cuando un objeto referencia a dicha función,  pase su propia referencia como primer parámetro de la función."
   ]
  },
  {
   "attachments": {},
   "cell_type": "markdown",
   "metadata": {},
   "source": [
    "Similarmente si se llama al método `cambiar_campus()`, se observa que se ingresa sólo un argumento `carrera` y a diferencia de la función `saludo` esta función si modifica las propiedades del objeto, dado que cambia la `carrera`. Este hecho lo puedes apreciar cuando se vuelve a referenciar al atributo `carrera`."
   ]
  },
  {
   "attachments": {},
   "cell_type": "markdown",
   "metadata": {},
   "source": [
    "#### **Nota:** \n",
    "\n",
    "Por convención, se utiliza la palabra `self` para referenciar a la instancia actual en los métodos de una clase. "
   ]
  },
  {
   "attachments": {},
   "cell_type": "markdown",
   "metadata": {},
   "source": [
    "Sabiendo esto, podemos comprender, por qué todos los objetos de tipo `Alumno()` pueden referenciar a los atributos de datos  `nombre` o `carrera` por ejemplo. Son inicializados para cada objeto en el método\n",
    "`__init__()`."
   ]
  },
  {
   "attachments": {},
   "cell_type": "markdown",
   "metadata": {},
   "source": [
    "#### **Observación:** \n",
    "Del mismo modo, el siguiente ejemplo muestra dos formas diferentes y equivalentes de llamar al método `saludo()`:"
   ]
  },
  {
   "cell_type": "code",
   "execution_count": 107,
   "metadata": {},
   "outputs": [
    {
     "name": "stdout",
     "output_type": "stream",
     "text": [
      "Hola Pablo Jorge\n",
      "Hola Angel Mateo\n"
     ]
    }
   ],
   "source": [
    "class Alumno: # class es la palabra reservada para definir una clase\n",
    "    \"\"\"Esta clase define las propiedades y el comportamiento de un estudiante \"\"\" #Docsstring\n",
    "    \n",
    "    # Constructor de la clase\n",
    "    def __init__(self,nombre,carrera):\n",
    "        self.nombre=nombre        \n",
    "        self.carrera=carrera\n",
    "    \n",
    "    #Métodos\n",
    "    def saludo(self):\n",
    "        print('Hola ' + self.nombre)\n",
    "\n",
    "alumno1=Alumno('Pablo Jorge', 'Matematicas Aplicadas')\n",
    "alumno2=Alumno('Angel Mateo','Enfermeria')    \n",
    "\n",
    "alumno1.saludo()\n",
    "\n",
    "Alumno.saludo(alumno2)\n"
   ]
  },
  {
   "attachments": {},
   "cell_type": "markdown",
   "metadata": {},
   "source": [
    "Para la clase `Alumno`, `saludo()` es una función. Sin embargo, para los objetos de la clase `Alumno`, `saludo( )` es un método."
   ]
  },
  {
   "cell_type": "code",
   "execution_count": 108,
   "metadata": {},
   "outputs": [
    {
     "name": "stdout",
     "output_type": "stream",
     "text": [
      "<class 'function'>\n",
      "<class 'method'>\n"
     ]
    }
   ],
   "source": [
    "print(type(Alumno.saludo))\n",
    "\n",
    "print(type(alumno1.saludo))"
   ]
  },
  {
   "attachments": {},
   "cell_type": "markdown",
   "metadata": {},
   "source": [
    "## Atributos de clase y atributos de instancia"
   ]
  },
  {
   "attachments": {},
   "cell_type": "markdown",
   "metadata": {},
   "source": [
    "Una clase puede definir dos tipos diferentes de atributos de datos: *atributos de clase* y *atributos de instancia*.\n",
    "\n",
    "* Los **atributos de clase** son atributos compartidos por todas las instancias de esa clase.\n",
    "* Los **atributos de instancia**, por el contrario, son únicos para cada uno de los objetos pertenecientes a dicha clase."
   ]
  },
  {
   "attachments": {},
   "cell_type": "markdown",
   "metadata": {},
   "source": [
    "Agreguemos un atributo de clase a nuestra clase **`Alumno`**:"
   ]
  },
  {
   "cell_type": "code",
   "execution_count": 113,
   "metadata": {},
   "outputs": [],
   "source": [
    "class Alumno: # class es la palabra reservada para definir una clase\n",
    "    \"\"\"Esta clase define las propiedades y el comportamiento de un estudiante \"\"\" #Docsstring\n",
    "    \n",
    "    # Atibutos de la clase  \n",
    "    universidad='SUNEO'\n",
    "\n",
    "    # Constructor de la clase\n",
    "    def __init__(self,nombre,carrera):\n",
    "        self.nombre=nombre        \n",
    "        self.carrera=carrera\n",
    "    \n",
    "    #Métodos\n",
    "    def saludo(self):\n",
    "        print('Hola ' + self.nombre)\n",
    "\n",
    "    \n",
    "    def cambiar_carrera(self,carrera):\n",
    "        self.carrera=carrera"
   ]
  },
  {
   "attachments": {},
   "cell_type": "markdown",
   "metadata": {},
   "source": [
    "En el ejemplo de la clase **`Alumno`**, `universidad` se ha definido como un *atributo de clase*, mientras que *nombre y carrera* son *atributos de instancia*.\n",
    "\n",
    "Para referenciar a un atributo de clase se utiliza, generalmente, el nombre de la clase. Al modificar un atributo de este tipo, los cambios se verán reflejados en todas y cada una las instancias."
   ]
  },
  {
   "attachments": {},
   "cell_type": "markdown",
   "metadata": {},
   "source": [
    "Para referenciar a un atributo de clase se utiliza, generalmente, el nombre de la clase. Al modificar un atributo de este tipo, los cambios se verán reflejados en todas y cada una las instancias."
   ]
  },
  {
   "cell_type": "code",
   "execution_count": 115,
   "metadata": {},
   "outputs": [
    {
     "name": "stdout",
     "output_type": "stream",
     "text": [
      "Matematicas Aplicadas\n",
      "Enfermeria\n",
      "Si\n",
      "Si\n",
      "No\n",
      "No\n"
     ]
    }
   ],
   "source": [
    "class Alumno: # class es la palabra reservada para definir una clase\n",
    "    \"\"\"Esta clase define las propiedades y el comportamiento de un estudiante \"\"\" #Docsstring\n",
    "    \n",
    "    # Atibutos de la clase  \n",
    "    universidad='SUNEO'\n",
    "\n",
    "    # Constructor de la clase\n",
    "    def __init__(self,nombre, carrera):\n",
    "        self.nombre=nombre        \n",
    "        self.carrera=carrera\n",
    "    \n",
    "    #Métodos\n",
    "    def saludo(self):\n",
    "        print('Hola ' + self.nombre)\n",
    "\n",
    "    \n",
    "    def cambiar_carrera(self,carrera):\n",
    "        self.carrera=carrera\n",
    "\n",
    "alumno1=Alumno('Pablo Jorge','Matematicas Aplicadas')\n",
    "\n",
    "alumno2=Alumno('Angel Mateo','Enfermeria')\n",
    "\n",
    "print(alumno1.carrera) #Atributo de instancia\n",
    "\n",
    "print(alumno2.carrera) #Atributo de instancia\n",
    "\n",
    "print(alumno1.universidad) #Atributo de clase\n",
    "\n",
    "print(alumno2.universidad)  #Atributo de clase\n",
    "\n",
    "Alumno.universidad='No'    #Atributo de clase\n",
    "\n",
    "print(alumno1.universidad)  #Atributo de clase\n",
    "\n",
    "print(alumno2.universidad)  #Atributo de clase"
   ]
  },
  {
   "attachments": {},
   "cell_type": "markdown",
   "metadata": {},
   "source": [
    "Si un objeto modifica un atributo de clase, lo que realmente hace es crear un atributo de instancia con el mismo nombre que el atributo de clase."
   ]
  },
  {
   "cell_type": "code",
   "execution_count": 28,
   "metadata": {},
   "outputs": [
    {
     "name": "stdout",
     "output_type": "stream",
     "text": [
      "UMAR\n",
      "SUNEO\n",
      "SUNEO\n"
     ]
    }
   ],
   "source": [
    "class Alumno: # class es la palabra reservada para definir una clase\n",
    "    \"\"\"Esta clase define las propiedades y el comportamiento de un estudiante \"\"\" #Docsstring\n",
    "    \n",
    "    # Atibutos de la clase  \n",
    "    universidad='SUNEO' \n",
    "\n",
    "    # Constructor de la clase\n",
    "    def __init__(self,nombre, carrera):\n",
    "        self.nombre=nombre        \n",
    "        self.carrera=carrera\n",
    "    \n",
    "    #Métodos\n",
    "    def saludo(self):\n",
    "        print('Hola ' + self.nombre)\n",
    "\n",
    "    \n",
    "    def cambiar_carrera(self,carrera):\n",
    "        self.carrera=carrera\n",
    "\n",
    "alumno1=Alumno('Pablo Jorge','Matematicas Aplicadas')\n",
    "\n",
    "alumno2=Alumno('Angel Mateo','Enfermeria')\n",
    "\n",
    "alumno1.universidad='UMAR'\n",
    "\n",
    "print(alumno1.universidad)  #Atributo de clase\n",
    "\n",
    "print(alumno2.universidad)  #Atributo de clase\n",
    "\n",
    "print(Alumno.universidad)\n",
    "\n"
   ]
  },
  {
   "attachments": {},
   "cell_type": "markdown",
   "metadata": {},
   "source": [
    "## Herencia en Python"
   ]
  },
  {
   "attachments": {},
   "cell_type": "markdown",
   "metadata": {},
   "source": [
    "La herencia es un concepto clave en la programación orientada a objetos que permite a una clase heredar los atributos y métodos de otra clase.  En Python, la herencia se logra definiendo una clase que hereda de otra clase en la definición de la clase. Una clase que hereda de otra puede añadir nuevos atributos, ocultarlos, añadir nuevos métodos o redefinirlos.\n",
    "\n",
    "En Python, podemos indicar que una clase hereda de otra de la siguiente manera:"
   ]
  },
  {
   "cell_type": "code",
   "execution_count": 33,
   "metadata": {},
   "outputs": [
    {
     "name": "stdout",
     "output_type": "stream",
     "text": [
      "Hola Pablo Jorge\n",
      "6.5\n"
     ]
    }
   ],
   "source": [
    "class Alumno: # class es la palabra reservada para definir una clase\n",
    "    \"\"\"Esta clase define las propiedades y el comportamiento de un estudiante \"\"\" #Docsstring\n",
    "    \n",
    "    # Atibutos de la clase  \n",
    "    universidad='SUNEO'\n",
    "\n",
    "    # Constructor de la clase\n",
    "    def __init__(self,nombre, carrera):\n",
    "        self.nombre=nombre        \n",
    "        self.carrera=carrera\n",
    "    \n",
    "    #Métodos\n",
    "    def saludo(self):\n",
    "        print('Hola ' + self.nombre)\n",
    "\n",
    "    \n",
    "    def cambiar_carrera(self,carrera):\n",
    "        self.carrera=carrera\n",
    "\n",
    "#------------------------------------------------------------------------------------------------\n",
    "\n",
    "class AlumnoUMAR(Alumno):\n",
    "\n",
    "    universidad='UMAR'\n",
    "\n",
    "    # Constructor de la clase\n",
    "    def __init__(self,nombre,carrera,campus,calificaciones):\n",
    "        super().__init__(nombre,carrera)\n",
    "        self.campus=campus\n",
    "        self.calificaciones=calificaciones\n",
    "    #Métodos\n",
    "    def promedio(self):\n",
    "        p=sum(self.calificaciones)/len(self.calificaciones)\n",
    "        return p\n",
    "\n",
    "alumno1=AlumnoUMAR('Pablo Jorge','Matematicas Aplicadas','Huatulco',[5,6,7,8])\n",
    "alumno1.saludo()\n",
    "print(alumno1.promedio())\n"
   ]
  },
  {
   "attachments": {},
   "cell_type": "markdown",
   "metadata": {},
   "source": [
    "Como puedes observar, la clase `AlumnoUMAR` hereda de la clase `Alumno`. En Python, el nombre de la *clase padre* se indica entre paréntesis a continuación del nombre de la *clase hija*.\n",
    "\n",
    "La clase `AlumnoUMAR` redefine el atributo de clase `universidad`, estableciendo su valor a `UMAR` e implementa un  métodos nuevo:  `promedio( )`."
   ]
  },
  {
   "attachments": {},
   "cell_type": "markdown",
   "metadata": {},
   "source": [
    "Ahora observemos que en el  método `__init__()` aparece la función `super()`. Esta función devuelve un objeto temporal de la superclase que permite invocar a los métodos definidos en la misma. Lo que está ocurriendo es que se está redefiniendo el método `__init__( )` de la clase hija usando la funcionalidad del método de la clase padre. Como la clase `Alumno` es la que define los atributos `nombre` y `carrera` , estos se pasan al constructor de la clase padre y, a continuación, se crean los atributos de instancia  `campus` y `calificaciones` solo para objetos de la clase `AlumnoUMAR`."
   ]
  },
  {
   "attachments": {},
   "cell_type": "markdown",
   "metadata": {},
   "source": [
    "\n",
    "Al utilizar la herencia, todos los atributos (atributos de datos y métodos) de la clase padre también pueden ser referenciados por objetos de las clases hijas. Al revés no ocurre lo mismo."
   ]
  },
  {
   "attachments": {},
   "cell_type": "markdown",
   "metadata": {},
   "source": [
    "# Las funciones `isinstance( )` e `issubclass( )`\n"
   ]
  },
  {
   "attachments": {},
   "cell_type": "markdown",
   "metadata": {},
   "source": [
    "La función incorporada `type( )` devuelve el tipo o la clase a la que pertenece un objeto. En nuestro caso, si ejecutamos `type()` pasando como argumento un objeto de clase `Alumno( )` o un objeto de clase `AlumnoUMAR` obtendremos lo siguiente:"
   ]
  },
  {
   "cell_type": "code",
   "execution_count": 41,
   "metadata": {},
   "outputs": [
    {
     "name": "stdout",
     "output_type": "stream",
     "text": [
      "<class '__main__.Alumno'>\n",
      "<class '__main__.AlumnoUMAR'>\n"
     ]
    }
   ],
   "source": [
    "class Alumno: # class es la palabra reservada para definir una clase\n",
    "    \"\"\"Esta clase define las propiedades y el comportamiento de un estudiante \"\"\" #Docsstring\n",
    "    \n",
    "    # Atibutos de la clase  \n",
    "    universidad='SUNEO'\n",
    "\n",
    "    # Constructor de la clase\n",
    "    def __init__(self,nombre, carrera):\n",
    "        self.nombre=nombre        \n",
    "        self.carrera=carrera\n",
    "    \n",
    "    #Métodos\n",
    "    def saludo(self):\n",
    "        print('Hola ' + self.nombre)\n",
    "\n",
    "    \n",
    "    def cambiar_carrera(self,carrera):\n",
    "        self.carrera=carrera\n",
    "\n",
    "#------------------------------------------------------------------------------------------------\n",
    "\n",
    "class AlumnoUMAR(Alumno):\n",
    "\n",
    "    universidad='UMAR'\n",
    "\n",
    "    # Constructor de la clase\n",
    "    def __init__(self,nombre,carrera,campus,calificaciones):\n",
    "        super().__init__(nombre,carrera)\n",
    "        self.campus=campus\n",
    "        self.calificaciones=calificaciones\n",
    "    #Métodos\n",
    "    def promedio(self):\n",
    "        p=sum(self.calificaciones)/len(self.calificaciones)\n",
    "        return p\n",
    "\n",
    "a=Alumno('Pablo Jorge','Matematicas Aplicadas')\n",
    "au=AlumnoUMAR('Pablo Jorge','Matematicas Aplicadas','Huatulco',[5,6,7,8])\n",
    "\n",
    "print(type(a))\n",
    "\n",
    "print(type(au))"
   ]
  },
  {
   "attachments": {},
   "cell_type": "markdown",
   "metadata": {},
   "source": [
    "Sin embargo, Python incorpora otras dos funciones que pueden ser de utilidad cuando se quiere conocer el tipo de una clase. Son: `isinstance( )` e `issubclass( )`.\n",
    "\n",
    "* **`isinstance(objeto, clase)`**: devuelve **True** si *objeto* es de la clase *clase* o de una de sus *clases hijas*. Por tanto, un objeto de la clase `AlumnoUMAR` es instancia de `AlumnoUMAR` pero también lo es de `Alumno`. Sin embargo, un objeto de la clase `Alumno` nunca será instancia de la clase `AlumnoUMAR`.\n",
    "\n",
    "* **`issubclass(clase, claseinfo)`**: comprueba la herencia de clases. Devuelve True en caso de que *clase* sea una subclase de *claseinfo*, False en caso contrario. *claseinfo* puede ser una clase o una tupla de clases."
   ]
  },
  {
   "cell_type": "code",
   "execution_count": 49,
   "metadata": {},
   "outputs": [
    {
     "name": "stdout",
     "output_type": "stream",
     "text": [
      "True\n",
      "False\n"
     ]
    }
   ],
   "source": [
    "class Alumno: # class es la palabra reservada para definir una clase\n",
    "    \"\"\"Esta clase define las propiedades y el comportamiento de un estudiante \"\"\" #Docsstring\n",
    "    \n",
    "    # Atibutos de la clase  \n",
    "    universidad='SUNEO'\n",
    "\n",
    "    # Constructor de la clase\n",
    "    def __init__(self,nombre, carrera):\n",
    "        self.nombre=nombre        \n",
    "        self.carrera=carrera\n",
    "    \n",
    "    #Métodos\n",
    "    def saludo(self):\n",
    "        print('Hola ' + self.nombre)\n",
    "\n",
    "    \n",
    "    def cambiar_carrera(self,carrera):\n",
    "        self.carrera=carrera\n",
    "\n",
    "#------------------------------------------------------------------------------------------------\n",
    "\n",
    "class AlumnoUMAR(Alumno):\n",
    "\n",
    "    universidad='UMAR'\n",
    "\n",
    "    # Constructor de la clase\n",
    "    def __init__(self,nombre,carrera,campus,calificaciones):\n",
    "        super().__init__(nombre,carrera)\n",
    "        self.campus=campus\n",
    "        self.calificaciones=calificaciones\n",
    "    #Métodos\n",
    "    def promedio(self):\n",
    "        p=sum(self.calificaciones)/len(self.calificaciones)\n",
    "        return p\n",
    "\n",
    "a=Alumno('Pablo Jorge','Matematicas Aplicadas')\n",
    "au=AlumnoUMAR('Pablo Jorge','Matematicas Aplicadas','Huatulco',[5,6,7,8])\n",
    "\n",
    "#print(type(a))\n",
    "#print(type(au))\n",
    "\n",
    "print(isinstance(a,Alumno))\n",
    "print(issubclass(Alumno,AlumnoUMAR))"
   ]
  },
  {
   "attachments": {},
   "cell_type": "markdown",
   "metadata": {},
   "source": [
    "## `super().__init__`\n",
    "\n",
    "super() es una función en Python que permite acceder al método de una clase padre en una clase hija. En el contexto de un método __init__ en una clase hija, super().__init__ se utiliza para llamar al método __init__ de la clase padre, para asegurarse de que se inicialice correctamente la clase hija.\n",
    "\n",
    "Por ejemplo, supongamos que tenemos una clase padre Persona con un método __init__ que inicializa el nombre y la edad de una persona:"
   ]
  },
  {
   "cell_type": "code",
   "execution_count": 54,
   "metadata": {},
   "outputs": [],
   "source": [
    "class Persona:\n",
    "    def __init__(self, nombre, edad):\n",
    "        self.nombre = nombre\n",
    "        self.edad = edad"
   ]
  },
  {
   "attachments": {},
   "cell_type": "markdown",
   "metadata": {},
   "source": [
    "Y luego tenemos una clase hija Empleado que hereda de Persona y agrega un atributo adicional para la posición:"
   ]
  },
  {
   "cell_type": "code",
   "execution_count": 55,
   "metadata": {},
   "outputs": [],
   "source": [
    "class Empleado(Persona):\n",
    "    def __init__(self, nombre, edad, posicion):\n",
    "        super().__init__(nombre, edad)\n",
    "        self.posicion = posicion"
   ]
  },
  {
   "attachments": {},
   "cell_type": "markdown",
   "metadata": {},
   "source": [
    "En este ejemplo, la clase hija Empleado llama a super().__init__ para inicializar los atributos nombre y edad de la clase padre Persona. De esta manera, el método __init__ de la clase hija se asegura de que los atributos de la clase padre se inicialicen correctamente antes de agregar su propio atributo adicional."
   ]
  },
  {
   "attachments": {},
   "cell_type": "markdown",
   "metadata": {},
   "source": [
    "# Herencia múltiple en Python"
   ]
  },
  {
   "attachments": {},
   "cell_type": "markdown",
   "metadata": {},
   "source": [
    "En Python, es posible utilizar la **herencia múltiple**, es decir, una clase puede heredar de más de una clase padre, i.e.  una clase puede heredar de más de una clase a la vez. Aquí está un ejemplo de herencia múltiple en Python:"
   ]
  },
  {
   "cell_type": "code",
   "execution_count": 51,
   "metadata": {},
   "outputs": [
    {
     "name": "stdout",
     "output_type": "stream",
     "text": [
      "92.5\n"
     ]
    }
   ],
   "source": [
    "class Persona:\n",
    "    def __init__(self, nombre, edad):\n",
    "        self.nombre = nombre\n",
    "        self.edad = edad\n",
    "\n",
    "class Estudiante:\n",
    "    def __init__(self, nombre, edad, calificaciones):\n",
    "        self.nombre = nombre\n",
    "        self.edad = edad\n",
    "        self.calificaciones = calificaciones\n",
    "\n",
    "    def promedio(self):\n",
    "        return sum(self.calificaciones) / len(self.calificaciones)\n",
    "\n",
    "class AlumnoDePosgrado(Persona, Estudiante):\n",
    "    def __init__(self, nombre, edad, calificaciones, tesis):\n",
    "        Persona.__init__(self, nombre, edad)\n",
    "        Estudiante.__init__(self, nombre, edad, calificaciones)\n",
    "        self.tesis = tesis\n",
    "\n",
    "    def promedio(self):\n",
    "        return sum(self.calificaciones + [self.tesis]) / (len(self.calificaciones) + 1)\n",
    "\n",
    "# Creación de un objeto de la clase AlumnoDePosgrado\n",
    "alumno_de_posgrado = AlumnoDePosgrado(\"Pedro\", 25, [85, 90, 95], 100)\n",
    "\n",
    "# Obtener el promedio del alumno de posgrado\n",
    "print(alumno_de_posgrado.promedio())\n"
   ]
  },
  {
   "attachments": {},
   "cell_type": "markdown",
   "metadata": {},
   "source": [
    "En este ejemplo, la clase AlumnoDePosgrado hereda tanto de Persona como de Estudiante. Esto significa que la clase AlumnoDePosgrado tendrá los atributos y métodos de ambas clases padre. Además, en el método __init__ de la clase AlumnoDePosgrado, se llaman los métodos __init__ de ambas clases padre para inicializar los atributos correspondientes.\n",
    "\n",
    "Hay que tener en cuenta que en caso de que existan atributos o métodos con el mismo nombre en las clases padre, la primera clase en la lista de herencia tendrá prioridad en la resolución de los mismos. En este caso, si se quisiera acceder al atributo nombre en un objeto de la clase AlumnoDePosgrado, se accedería al atributo nombre de la clase Persona."
   ]
  },
  {
   "cell_type": "code",
   "execution_count": 50,
   "metadata": {},
   "outputs": [
    {
     "name": "stdout",
     "output_type": "stream",
     "text": [
      "a\n",
      "b\n",
      "c\n"
     ]
    }
   ],
   "source": [
    "class A:\n",
    "    def print_a(self):\n",
    "        print('a')\n",
    "class B:\n",
    "    def print_b(self):\n",
    "        print('b')\n",
    "class C(A, B):\n",
    "    def print_c(self):\n",
    "        print('c')\n",
    "c = C()\n",
    "c.print_a()\n",
    "c.print_b()\n",
    "c.print_c()"
   ]
  },
  {
   "attachments": {},
   "cell_type": "markdown",
   "metadata": {},
   "source": [
    "# Encapsulación: atributos privados"
   ]
  },
  {
   "attachments": {},
   "cell_type": "markdown",
   "metadata": {},
   "source": [
    "En programación orientada a objetos **Encapsulación** (o **encapsulamiento**) permite limitar el acceso a los atributos y métodos de una clase, de manera que sus datos solo se puedan modificar por medio de las operaciones (métodos) que ofrece. Por defecto, en Python, todos los atributos de una clase (atributos de datos y métodos) son públicos. Esto quiere decir que desde un código que use la clase, se puede acceder a todos los atributos y métodos de dicha clase.\n",
    "\n",
    "Sin embargo, hay una forma de indicar en Python que un atributo, ya sea un dato o un método, es interno a una clase y no se debería utilizar fuera de ella. En Python, el encapsulamiento se logra a través del uso de nombres de atributos y métodos con un doble guión bajo al principio (__). Esto es,  usando el carácter guión bajo `_atributo` antes del nombre del atributo que queramos ocultar.\n",
    "\n",
    "Los atributos con doble guión bajo al principio se consideran privados y no deben ser accedidos directamente desde fuera de la clase. Sin embargo, se pueden acceder a ellos mediante métodos específicos. \n",
    "\n",
    "En cualquier caso, el atributo seguirá siendo accesible desde fuera de la clase, pero el programador está indicando que es privado y no debería utilizarse porque no se sabe qué consecuencias puede tener.\n",
    "\n",
    "También es posible usar un doble guión bajo __atributo. Esto hace que el identificador sea literalmente reemplazado por el texto _Clase__atributo, donde Clase es el nombre de la clase actual."
   ]
  },
  {
   "cell_type": "code",
   "execution_count": 52,
   "metadata": {},
   "outputs": [
    {
     "name": "stdout",
     "output_type": "stream",
     "text": [
      "1000\n",
      "1500\n"
     ]
    }
   ],
   "source": [
    "class CuentaBancaria:\n",
    "    def __init__(self, saldo):\n",
    "        self.__saldo = saldo\n",
    "\n",
    "    def obtener_saldo(self):\n",
    "        return self.__saldo\n",
    "\n",
    "    def depositar(self, monto):\n",
    "        self.__saldo += monto\n",
    "\n",
    "    def retirar(self, monto):\n",
    "        if monto > self.__saldo:\n",
    "            raise Exception(\"Saldo insuficiente\")\n",
    "        self.__saldo -= monto\n",
    "\n",
    "# Creación de un objeto de la clase CuentaBancaria\n",
    "cuenta = CuentaBancaria(1000)\n",
    "\n",
    "# Obtener el saldo de la cuenta a través del método obtener_saldo\n",
    "print(cuenta.obtener_saldo())\n",
    "\n",
    "# Depositar dinero en la cuenta\n",
    "cuenta.depositar(500)\n",
    "\n",
    "# Obtener el saldo de la cuenta a través del método obtener_saldo\n",
    "print(cuenta.obtener_saldo())"
   ]
  },
  {
   "attachments": {},
   "cell_type": "markdown",
   "metadata": {},
   "source": [
    "En este ejemplo, el atributo `__saldo` se considera privado y no se puede acceder directamente desde fuera de la clase. Sin embargo, se puede acceder a él mediante el método `obtener_saldo`, el cual devuelve el valor de `__saldo`."
   ]
  },
  {
   "attachments": {},
   "cell_type": "markdown",
   "metadata": {},
   "source": [
    "**Observación**: Es importante destacar que, aunque los atributos y métodos con doble guión bajo al principio no pueden ser accedidos directamente desde fuera de la clase, pueden ser accedidos indirectamente. Por lo tanto, esta convención no es una garantía absoluta de seguridad, sino más bien una indicación de que ese atributo o método se considera privado y no debería ser accedido directamente."
   ]
  },
  {
   "attachments": {},
   "cell_type": "markdown",
   "metadata": {},
   "source": [
    "# Polimorfismo"
   ]
  },
  {
   "attachments": {},
   "cell_type": "markdown",
   "metadata": {},
   "source": [
    "**Polimorfismo** es la capacidad de una entidad de referenciar en tiempo de ejecución a instancias de diferentes clases.\n",
    "\n",
    "El polimorfismo es un concepto de programación orientada a objetos que permite que distintas clases relacionadas por herencia compartan un mismo nombre de método y comportamiento. "
   ]
  },
  {
   "attachments": {},
   "cell_type": "markdown",
   "metadata": {},
   "source": [
    "#### **Ejemplo**\n",
    "\n",
    "Supongamos que tenemos una clase `FiguraGeometrica` y dos clases hijas: `Triangulo` y `Rectangulo`. Cada una de estas clases tendrá un método `calcular_area` con un comportamiento diferente."
   ]
  },
  {
   "cell_type": "code",
   "execution_count": 57,
   "metadata": {},
   "outputs": [
    {
     "name": "stdout",
     "output_type": "stream",
     "text": [
      "Área del triángulo: 25.0\n",
      "Área del rectángulo: 50\n"
     ]
    }
   ],
   "source": [
    "class FiguraGeometrica:\n",
    "    def calcular_area(self):\n",
    "        pass\n",
    "\n",
    "class Triangulo(FiguraGeometrica):\n",
    "    def __init__(self, base, altura):\n",
    "        self.base = base\n",
    "        self.altura = altura\n",
    "\n",
    "    def calcular_area(self):\n",
    "        return (self.base * self.altura) / 2\n",
    "\n",
    "class Rectangulo(FiguraGeometrica):\n",
    "    def __init__(self, base, altura):\n",
    "        self.base = base\n",
    "        self.altura = altura\n",
    "\n",
    "    def calcular_area(self):\n",
    "        return self.base * self.altura\n",
    "\n",
    "# Creación de objetos de las clases Triangulo y Rectangulo\n",
    "triangulo = Triangulo(10, 5)\n",
    "rectangulo = Rectangulo(10, 5)\n",
    "\n",
    "# Cálculo del área de cada figura utilizando el método calcular_area\n",
    "print(\"Área del triángulo:\", triangulo.calcular_area())\n",
    "print(\"Área del rectángulo:\", rectangulo.calcular_area())\n"
   ]
  },
  {
   "attachments": {},
   "cell_type": "markdown",
   "metadata": {},
   "source": [
    "En este ejemplo, ambas clases hijas *Triangulo* y *Rectangulo* comparten el nombre de método `calcular_area`, pero tienen comportamientos diferentes. Esto permite que distintos objetos de estas clases puedan ser tratados de manera uniforme utilizando el método `calcular_area`, lo que es un ejemplo de polimorfismo."
   ]
  },
  {
   "cell_type": "markdown",
   "metadata": {},
   "source": []
  }
 ],
 "metadata": {
  "kernelspec": {
   "display_name": "Python 3",
   "language": "python",
   "name": "python3"
  },
  "language_info": {
   "codemirror_mode": {
    "name": "ipython",
    "version": 3
   },
   "file_extension": ".py",
   "mimetype": "text/x-python",
   "name": "python",
   "nbconvert_exporter": "python",
   "pygments_lexer": "ipython3",
   "version": "3.11.0"
  },
  "orig_nbformat": 4,
  "vscode": {
   "interpreter": {
    "hash": "ce4d963573401a72c80fabe1ef75418dde5088fa46d743e51eca5fefbd048d5c"
   }
  }
 },
 "nbformat": 4,
 "nbformat_minor": 2
}
