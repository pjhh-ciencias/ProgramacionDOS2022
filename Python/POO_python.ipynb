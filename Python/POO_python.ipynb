{
 "cells": [
  {
   "attachments": {},
   "cell_type": "markdown",
   "metadata": {},
   "source": [
    "# Programación Orientada a Objetos en Python"
   ]
  },
  {
   "attachments": {},
   "cell_type": "markdown",
   "metadata": {},
   "source": [
    "Python es un lenguaje de programación orientado a objetos. Lo que esto significa es que casi todo es un *objeto*.  Cuando creas una variable y le asignas un valor entero, ese valor es un objeto; una función es un objeto; las *listas, tuplas, diccionarios, conjuntos*,... son objetos; una cadena de caracteres es un objeto. Y así podría seguir indefinidamente. \n",
    "\n",
    "La Programacion Orientada a objetos nos permite encapsular y aislar datos y operaciones que se pueden realizar sobre dichos datos.\n",
    "\n"
   ]
  },
  {
   "attachments": {},
   "cell_type": "markdown",
   "metadata": {},
   "source": [
    "## Clase"
   ]
  },
  {
   "attachments": {},
   "cell_type": "markdown",
   "metadata": {},
   "source": [
    "Básicamente, una clase es una entidad que define una serie de elementos que determinan un estado (datos) y un comportamiento (operaciones sobre los datos que modifican su estado). Por su parte, un objeto es una concreción o instancia de una clase."
   ]
  },
  {
   "cell_type": "markdown",
   "metadata": {},
   "source": [
    "# Objetos"
   ]
  },
  {
   "attachments": {},
   "cell_type": "markdown",
   "metadata": {},
   "source": [
    " Un **objeto** en Python es una colección de atributos que describen colectivamente una \"cosa\". Esa \"cosa\" puede ser lo que quieras: un libro, un animal, una película."
   ]
  },
  {
   "cell_type": "markdown",
   "metadata": {},
   "source": [
    "Una clase en Python es una plantilla para crear objetos, que tienen atributos y métodos (características y comportamientos). Cada objeto creado a partir de una clase se conoce como una instancia de la clase. Las clases proporcionan una forma de agrupar datos y funcionalidad relacionados juntos, lo que facilita el mantenimiento y reutilización del código."
   ]
  },
  {
   "cell_type": "markdown",
   "metadata": {},
   "source": [
    "\n",
    "Una clase es una plantilla o molde para crear objetos, y cada objeto creado a partir de una clase se conoce como una instancia de la clase. Las propiedades y métodos de una clase se definen dentro de la clase usando la sintaxis de Python."
   ]
  },
  {
   "cell_type": "markdown",
   "metadata": {},
   "source": [
    "## Crear una clase"
   ]
  },
  {
   "attachments": {},
   "cell_type": "markdown",
   "metadata": {},
   "source": [
    "Para crear un objeto, primero debemos definir una **clase**. Crear una clase es simplemente definir la *plantilla*  que será utilizado por todos los objetos subsiguientes. Para definir una clase, use la palabra clave *class*:"
   ]
  },
  {
   "cell_type": "code",
   "execution_count": 13,
   "metadata": {},
   "outputs": [],
   "source": [
    "class Alumno:\n",
    "    nombre = \"Benito Juarez\""
   ]
  },
  {
   "attachments": {},
   "cell_type": "markdown",
   "metadata": {},
   "source": [
    "Así de facil, hemos definido una clase, llamada *Alumno*  y contiene una propiedad llamada `nombre` que tiene como valor predeterminado la cadena:  'Benito Juarez'."
   ]
  },
  {
   "cell_type": "markdown",
   "metadata": {},
   "source": [
    "## Crear un objeto"
   ]
  },
  {
   "attachments": {},
   "cell_type": "markdown",
   "metadata": {},
   "source": [
    "Para crear un nuevo objeto de una clase determinada, es decir, **instanciar una clase**, se usa el nombre de la clase de la cual dese construir el objeto y a continuación agregue  paréntesis (como si se llamara a una función).\n",
    "\n",
    "<pre>objeto = Nombre_clase() </code>"
   ]
  },
  {
   "attachments": {},
   "cell_type": "markdown",
   "metadata": {},
   "source": [
    "En este caso, usaremos nuestra clase *Alumno*  previamente definida:"
   ]
  },
  {
   "cell_type": "code",
   "execution_count": 14,
   "metadata": {},
   "outputs": [
    {
     "name": "stdout",
     "output_type": "stream",
     "text": [
      "Benito Juarez\n"
     ]
    }
   ],
   "source": [
    "class Alumno:\n",
    "    nombre = \"Benito Juarez\"\n",
    "\n",
    "alumno1 = Alumno()\n",
    "print(alumno1.nombre)"
   ]
  },
  {
   "attachments": {},
   "cell_type": "markdown",
   "metadata": {},
   "source": [
    "¡Impresionante!, hemos creamos un nuevo alumno e imprimimos el nombre accediendo directamente a la propiedad. Esto es genial y todo eso, pero ahora hagamos que nuestras clases sean útiles."
   ]
  },
  {
   "cell_type": "markdown",
   "metadata": {},
   "source": [
    "## Constructor de clase"
   ]
  },
  {
   "attachments": {},
   "cell_type": "markdown",
   "metadata": {},
   "source": [
    "<!-- El código anterior crea una nueva instancia de la clase `Nombre_clase` y asigna dicho objeto a la variable `objeto`. Esto crea un objeto vacío, sin estado. -->\n",
    "Sin embargo, a veces es necesario definir  clases (como nuestra clase Almuno) que deben o necesitan crear instancias de objetos con un *estado inicial*. Esto se consigue implementando el método especial `__init__()`. Este método es conocido como el **constructor de la clase** y se invoca cada vez que se instancia un nuevo objeto.\n",
    "De esta manera,  un constructor para tu clase  inicializa tu nuevo objeto usando los parámetros que le pasas.\n",
    "\n",
    "El **método `__init__( )`** establece un primer parámetro especial que se suele llamar `self` (veremos qué significa este nombre más adelante). Pero puede especificar otros parámetros siguiendo las mismas reglas que cualquier otra función.\n",
    "\n",
    "La  palabra clave `self` se utiliza para referirse al objeto actual que se está creando. Por lo tanto, cuando se llama al constructor (lo que ocurre automáticamente), está configurando las propiedades del nuevo objeto utilizando los parámetros que pasó."
   ]
  },
  {
   "attachments": {},
   "cell_type": "markdown",
   "metadata": {},
   "source": [
    "Hagamos que el nombre del alumno sea personalizable usando la función incorporada `__init__( )`:"
   ]
  },
  {
   "cell_type": "code",
   "execution_count": 18,
   "metadata": {},
   "outputs": [],
   "source": [
    "class Alumno: # class es la palabra reservada para definir una clase\n",
    "    \"\"\"Esta clase define las propiedades y el comportamiento de un estudiante \"\"\" #Docsstring\n",
    "\n",
    "    # Constructor de la clase\n",
    "    def __init__(self,nombre):\n",
    "        self.nombre=nombre"
   ]
  },
  {
   "attachments": {},
   "cell_type": "markdown",
   "metadata": {},
   "source": [
    "En nuestro caso, el constructor de la clase Alumno es:\n",
    "\n",
    "<pre>\n",
    "    def __init__(self,nombre,campus, carrera):\n",
    "        self.nombre=nombre\n",
    "        self.campus=campus\n",
    "        self.carrera=carrera\n",
    "</pre>"
   ]
  },
  {
   "attachments": {},
   "cell_type": "markdown",
   "metadata": {},
   "source": [
    "De esta manera, para instanciar un objeto de tipo `Alumno`, debemos pasar como argumentos el *nombre*:"
   ]
  },
  {
   "cell_type": "code",
   "execution_count": 20,
   "metadata": {},
   "outputs": [
    {
     "name": "stdout",
     "output_type": "stream",
     "text": [
      "Angel Mateo\n"
     ]
    }
   ],
   "source": [
    "alumno1 = Alumno(\"Angel Mateo\")\n",
    "print(alumno1.nombre)"
   ]
  },
  {
   "attachments": {},
   "cell_type": "markdown",
   "metadata": {},
   "source": [
    "Dado que las clases son solo plantillas de objetos, también puede crear varios objetos utilizando la misma clase:"
   ]
  },
  {
   "cell_type": "code",
   "execution_count": 23,
   "metadata": {},
   "outputs": [
    {
     "name": "stdout",
     "output_type": "stream",
     "text": [
      "Angel Mateo\n",
      "Mauricio Jesus\n"
     ]
    }
   ],
   "source": [
    "alumno1 = Alumno(\"Angel Mateo\")\n",
    "alumno2 = Alumno(\"Mauricio Jesus\")\n",
    "\n",
    "print(alumno1.nombre)\n",
    "print(alumno2.nombre)"
   ]
  },
  {
   "cell_type": "markdown",
   "metadata": {},
   "source": [
    "También puede cambiar la propiedad de un objeto directamente:"
   ]
  },
  {
   "cell_type": "code",
   "execution_count": 25,
   "metadata": {},
   "outputs": [
    {
     "name": "stdout",
     "output_type": "stream",
     "text": [
      "Angel Mateo\n",
      "Ángel Mateo Hernandez\n"
     ]
    }
   ],
   "source": [
    "alumno1 = Alumno(\"Angel Mateo\")\n",
    "print(alumno1.nombre)\n",
    "\n",
    "alumno1.nombre='Ángel Mateo Hernandez'\n",
    "print(alumno1.nombre)\n",
    "\n"
   ]
  },
  {
   "attachments": {},
   "cell_type": "markdown",
   "metadata": {},
   "source": [
    "#### **Nota:**\n",
    "\n",
    "Una convención importante respecto a la  notación para los nombres de las clases es la siguiente: la primera letra de cada palabra del nombre debe estar en mayúsculas y el resto de letras  en minúsculas."
   ]
  },
  {
   "attachments": {},
   "cell_type": "markdown",
   "metadata": {},
   "source": [
    "#### **Observación:**\n",
    "\n",
    "A diferencia de otros lenguajes, en los que está permitido implementar más de un constructor, en Python solo se puede definir un método `__init__()`."
   ]
  },
  {
   "attachments": {},
   "cell_type": "markdown",
   "metadata": {},
   "source": [
    "## Atributos, atributos de datos y métodos"
   ]
  },
  {
   "attachments": {},
   "cell_type": "markdown",
   "metadata": {},
   "source": [
    "La única operación que pueden realizar los objetos es referenciar a sus atributos por medio del operador."
   ]
  },
  {
   "attachments": {},
   "cell_type": "markdown",
   "metadata": {},
   "source": [
    "Un objeto tiene dos tipos de **atributos**: *atributos de datos* y *métodos*:\n",
    "\n",
    "* Los **atributos de datos** definen el estado del objeto. En otros lenguajes son conocidos simplemente como atributos o miembros.\n",
    "* Los **métodos** son las funciones definidas dentro de la clase."
   ]
  },
  {
   "attachments": {},
   "cell_type": "markdown",
   "metadata": {},
   "source": [
    "##### **Ejemplo** \n",
    "\n",
    "Cuando pensamos en un alumno de la UMAR, seguramente nos preguntamos por su nombre, número de matricula, su edad,  la carrera que estudia, el campus de la UMAR en el que se encuentra inscrito, etc.\n",
    "<!-- \n",
    "Pues todo lo que acabo de describir viene a ser una clase y cada uno de los de coches que has imaginado, serían objetos de dicha clase. -->"
   ]
  },
  {
   "cell_type": "code",
   "execution_count": 53,
   "metadata": {},
   "outputs": [
    {
     "name": "stdout",
     "output_type": "stream",
     "text": [
      "Hola Pablo\n"
     ]
    }
   ],
   "source": [
    "class Alumno: # class es la palabra reservada para definir una clase\n",
    "    \"\"\"Esta clase define las propiedades y el comportamiento de un estudiante \"\"\" #Docsstring\n",
    "    \n",
    "    # Atibutos de la clase  \n",
    "    universidad='UMAR' \n",
    "\n",
    "    # Constructor de la clase\n",
    "    def __init__(self,nombre,campus, carrera):\n",
    "        self.nombre=nombre\n",
    "        \n",
    "        self.campus=campus\n",
    "        self.carrera=carrera\n",
    "    \n",
    "    #Métodos\n",
    "    def saludo(self):\n",
    "        print('Hola ' + self.nombre)\n",
    "\n",
    "    \n",
    "    def cambiar_campus(self,campus):\n",
    "        self.campus=campus\n",
    "    \n",
    "\n",
    "a1=Alumno('Pablo','Huatulco','Matematicas Aplicadas')\n",
    "a1.saludo()"
   ]
  },
  {
   "cell_type": "code",
   "execution_count": 54,
   "metadata": {},
   "outputs": [
    {
     "name": "stdout",
     "output_type": "stream",
     "text": [
      "Pablo Jorge\n",
      "Huatulco\n",
      "Puerto Ángel\n"
     ]
    }
   ],
   "source": [
    "alumno1=Alumno('Pablo Jorge', 'Huatulco', 'Matematicas Aplicadas')\n",
    "\n",
    "print(alumno1.nombre)\n",
    "\n",
    "print(alumno1.campus)\n",
    "\n",
    "alumno1.cambiar_campus('Puerto Ángel')\n",
    "\n",
    "print(alumno1.campus)\n"
   ]
  },
  {
   "attachments": {},
   "cell_type": "markdown",
   "metadata": {},
   "source": [
    "En la  línea 1 del código anterior, el objeto `alumno1` está referenciando al *atributo de dato* `nombre` y en la  línea 5  al atributo `campus`. Sin embargo, en la línea  de codigo 7 se referencia al método `cambiar_campus()`. Llamar a este método tiene una implicación como puedes observar y es que modifica el estado del objeto, dado que cambia el campus. Este hecho lo puedes apreciar cuando se vuelve a referenciar al atributo campus en la línea 9."
   ]
  },
  {
   "attachments": {},
   "cell_type": "markdown",
   "metadata": {},
   "source": [
    "## Atributos de datos"
   ]
  },
  {
   "attachments": {},
   "cell_type": "markdown",
   "metadata": {},
   "source": [
    "A diferencia de otros lenguajes, los atributos de datos no necesitan ser declarados previamente. Un objeto los crea del mismo modo en que se crean las variables en Python, es decir, cuando les asigna un valor por primera vez."
   ]
  },
  {
   "cell_type": "code",
   "execution_count": 58,
   "metadata": {},
   "outputs": [
    {
     "ename": "TypeError",
     "evalue": "Alumno.__init__() missing 2 required positional arguments: 'campus' and 'carrera'",
     "output_type": "error",
     "traceback": [
      "\u001b[1;31m---------------------------------------------------------------------------\u001b[0m",
      "\u001b[1;31mTypeError\u001b[0m                                 Traceback (most recent call last)",
      "Cell \u001b[1;32mIn [58], line 23\u001b[0m\n\u001b[0;32m     19\u001b[0m     \u001b[39mdef\u001b[39;00m \u001b[39mcambiar_campus\u001b[39m(\u001b[39mself\u001b[39m,campus):\n\u001b[0;32m     20\u001b[0m         \u001b[39mself\u001b[39m\u001b[39m.\u001b[39mcampus\u001b[39m=\u001b[39mcampus\n\u001b[1;32m---> 23\u001b[0m alumno1 \u001b[39m=\u001b[39m Alumno(\u001b[39m\"\u001b[39;49m\u001b[39mAngel Mateo\u001b[39;49m\u001b[39m\"\u001b[39;49m)\n\u001b[0;32m     24\u001b[0m alumno2 \u001b[39m=\u001b[39m Alumno(\u001b[39m\"\u001b[39m\u001b[39mMauricio Jesus\u001b[39m\u001b[39m\"\u001b[39m)\n\u001b[0;32m     26\u001b[0m \u001b[39mprint\u001b[39m(alumno1\u001b[39m.\u001b[39mnombre)\n",
      "\u001b[1;31mTypeError\u001b[0m: Alumno.__init__() missing 2 required positional arguments: 'campus' and 'carrera'"
     ]
    }
   ],
   "source": [
    "class Alumno: # class es la palabra reservada para definir una clase\n",
    "    \"\"\"Esta clase define las propiedades y el comportamiento de un estudiante \"\"\" #Docsstring\n",
    "\n",
    "    # Constructor de la clase\n",
    "    def __init__(self,nombre):\n",
    "        self.nombre=nombre\n",
    "        \n",
    "alumno1 = Alumno(\"Angel Mateo\")\n",
    "alumno2 = Alumno(\"Mauricio Jesus\")\n",
    "\n",
    "print(alumno1.nombre)\n",
    "\n",
    "print(alumno2.nombre)\n",
    "\n",
    "alumno1.apellido_paterno='Mendez'\n",
    "\n",
    "print(alumno1.apellido_paterno)\n",
    "\n",
    "#print(alumno2.apellido_paterno)\n",
    "\n"
   ]
  },
  {
   "attachments": {},
   "cell_type": "markdown",
   "metadata": {},
   "source": [
    "Los objetos `alumno1` y `alumno2` pueden referenciar al atributo `nombre` porque está definido en la clase `Alumno`. Sin embargo, solo el objeto `alumno1` puede referenciar al atributo `apellido_paterno` a partir de la línea 8, porque se inicializa dicho atributo en esa línea. Si el objeto `alumno2` intenta referenciar al mismo atributo, como no está definido en la clase y tampoco lo ha inicializado, el intérprete lanzará un error.\n"
   ]
  },
  {
   "attachments": {},
   "cell_type": "markdown",
   "metadata": {},
   "source": [
    "## Métodos"
   ]
  },
  {
   "attachments": {},
   "cell_type": "markdown",
   "metadata": {},
   "source": [
    "Los métodos son las funciones que se definen dentro de una clase y que, por consiguiente, pueden ser referenciadas por los objetos de dicha clase. Sin embargo, realmente los métodos son algo más. Por ejmplo, en nuestra clase `alumno` la función `saludo( )` definen un parámetro self."
   ]
  },
  {
   "attachments": {},
   "cell_type": "markdown",
   "metadata": {},
   "source": [
    "<pre> \n",
    "def saludo(self):\n",
    "        print('Hola ' + self.nombre)\n",
    "</pre>"
   ]
  },
  {
   "cell_type": "code",
   "execution_count": 60,
   "metadata": {},
   "outputs": [
    {
     "name": "stdout",
     "output_type": "stream",
     "text": [
      "Hola Pablo Jorge\n"
     ]
    }
   ],
   "source": [
    "class Alumno: # class es la palabra reservada para definir una clase\n",
    "    \"\"\"Esta clase define las propiedades y el comportamiento de un estudiante \"\"\" #Docsstring\n",
    "    \n",
    "    # Atibutos de la clase  \n",
    "    universidad='UMAR' \n",
    "\n",
    "    # Constructor de la clase\n",
    "    def __init__(self,nombre,campus, carrera):\n",
    "        self.nombre=nombre        \n",
    "        self.campus=campus\n",
    "        self.carrera=carrera\n",
    "    \n",
    "    #Métodos\n",
    "    def saludo(self):\n",
    "        print('Hola ' + self.nombre)\n",
    "\n",
    "    \n",
    "    def cambiar_campus(self,campus):\n",
    "        self.campus=campus\n",
    "\n",
    "alumno1=Alumno('Pablo Jorge', 'Huatulco', 'Matematicas Aplicadas')\n",
    "\n",
    "alumno1.saludo()"
   ]
  },
  {
   "attachments": {},
   "cell_type": "markdown",
   "metadata": {},
   "source": [
    "No obstante, cuando se usan dichas funciones no se pasa ningún argumento. ¿Qué está pasando? resulta  que `saludo( )` está siendo utilizada como un método por los objetos de la clase `Alumno`, de tal manera que cuando un objeto referencia a dicha función, realmente pasa su propia referencia como primer parámetro de la función."
   ]
  },
  {
   "attachments": {},
   "cell_type": "markdown",
   "metadata": {},
   "source": [
    "#### **Nota:** \n",
    "\n",
    "Por convención, se utiliza la palabra self para referenciar a la instancia actual en los métodos de una clase. "
   ]
  },
  {
   "attachments": {},
   "cell_type": "markdown",
   "metadata": {},
   "source": [
    "Sabiendo esto, podemos comprender, por qué todos los objetos de tipo `Alumno()` pueden referenciar a los atributos de datos  `nombre` o `carrera` por ejemplo. Son inicializados para cada objeto en el método\n",
    "`__init__()`."
   ]
  },
  {
   "attachments": {},
   "cell_type": "markdown",
   "metadata": {},
   "source": [
    "#### **Observación:** \n",
    "Del mismo modo, el siguiente ejemplo muestra dos formas diferentes y equivalentes de llamar al método `saludo()`:"
   ]
  },
  {
   "cell_type": "code",
   "execution_count": 63,
   "metadata": {},
   "outputs": [
    {
     "name": "stdout",
     "output_type": "stream",
     "text": [
      "Hola Pablo Jorge\n",
      "Hola Angel Mateo\n"
     ]
    }
   ],
   "source": [
    "class Alumno: # class es la palabra reservada para definir una clase\n",
    "    \"\"\"Esta clase define las propiedades y el comportamiento de un estudiante \"\"\" #Docsstring\n",
    "    \n",
    "    # Constructor de la clase\n",
    "    def __init__(self,nombre,campus, carrera):\n",
    "        self.nombre=nombre        \n",
    "        self.campus=campus\n",
    "        self.carrera=carrera\n",
    "    \n",
    "    #Métodos\n",
    "    def saludo(self):\n",
    "        print('Hola ' + self.nombre)\n",
    "\n",
    "alumno1=Alumno('Pablo Jorge', 'Huatulco', 'Matematicas Aplicadas')\n",
    "alumno2=Alumno('Angel Mateo', 'Puerto Angel','Enfermeria')    \n",
    "\n",
    "alumno1.saludo()\n",
    "\n",
    "Alumno.saludo(alumno2)\n"
   ]
  },
  {
   "attachments": {},
   "cell_type": "markdown",
   "metadata": {},
   "source": [
    "Para la clase `Alumno`, `saludo()` es una función. Sin embargo, para los objetos de la clase `Alumno`, `saludo( )` es un método."
   ]
  },
  {
   "cell_type": "code",
   "execution_count": 68,
   "metadata": {},
   "outputs": [
    {
     "name": "stdout",
     "output_type": "stream",
     "text": [
      "<class 'function'>\n",
      "<class 'method'>\n"
     ]
    }
   ],
   "source": [
    "print(type(Alumno.saludo))\n",
    "\n",
    "print(type(alumno1.saludo))"
   ]
  },
  {
   "attachments": {},
   "cell_type": "markdown",
   "metadata": {},
   "source": [
    "## Atributos de clase y atributos de instancia"
   ]
  },
  {
   "attachments": {},
   "cell_type": "markdown",
   "metadata": {},
   "source": [
    "Una clase puede definir dos tipos diferentes de atributos de datos: *atributos de clase* y *atributos de instancia*.\n",
    "\n",
    "* Los **atributos de clase** son atributos compartidos por todas las instancias de esa clase.\n",
    "* Los **atributos de instancia**, por el contrario, son únicos para cada uno de los objetos pertenecientes a dicha clase."
   ]
  },
  {
   "cell_type": "code",
   "execution_count": 69,
   "metadata": {},
   "outputs": [],
   "source": [
    "class Alumno: # class es la palabra reservada para definir una clase\n",
    "    \"\"\"Esta clase define las propiedades y el comportamiento de un estudiante \"\"\" #Docsstring\n",
    "    \n",
    "    # Atibutos de la clase  \n",
    "    universidad='UMAR' \n",
    "\n",
    "    # Constructor de la clase\n",
    "    def __init__(self,nombre,campus, carrera):\n",
    "        self.nombre=nombre        \n",
    "        self.campus=campus\n",
    "        self.carrera=carrera\n",
    "    \n",
    "    #Métodos\n",
    "    def saludo(self):\n",
    "        print('Hola ' + self.nombre)\n",
    "\n",
    "    \n",
    "    def cambiar_campus(self,campus):\n",
    "        self.campus=campus"
   ]
  },
  {
   "attachments": {},
   "cell_type": "markdown",
   "metadata": {},
   "source": [
    "En el ejemplo de la clase **`Alumno`**, `universidad` se ha definido como un *atributo de clase*, mientras que *nombre, campus y carrera* son atributos de instancia.\n",
    "\n",
    "Para referenciar a un atributo de clase se utiliza, generalmente, el nombre de la clase. Al modificar un atributo de este tipo, los cambios se verán reflejados en todas y cada una las instancias."
   ]
  },
  {
   "attachments": {},
   "cell_type": "markdown",
   "metadata": {},
   "source": [
    "Para referenciar a un atributo de clase se utiliza, generalmente, el nombre de la clase. Al modificar un atributo de este tipo, los cambios se verán reflejados en todas y cada una las instancias."
   ]
  },
  {
   "cell_type": "code",
   "execution_count": 77,
   "metadata": {},
   "outputs": [
    {
     "name": "stdout",
     "output_type": "stream",
     "text": [
      "Huatulco\n",
      "Puerto Angel\n",
      "UMAR\n",
      "UMAR\n",
      "UTM\n",
      "UTM\n"
     ]
    }
   ],
   "source": [
    "class Alumno: # class es la palabra reservada para definir una clase\n",
    "    \"\"\"Esta clase define las propiedades y el comportamiento de un estudiante \"\"\" #Docsstring\n",
    "    \n",
    "    # Atibutos de la clase  \n",
    "    universidad='UMAR' \n",
    "\n",
    "    # Constructor de la clase\n",
    "    def __init__(self,nombre,campus, carrera):\n",
    "        self.nombre=nombre        \n",
    "        self.campus=campus\n",
    "        self.carrera=carrera\n",
    "    \n",
    "    #Métodos\n",
    "    def saludo(self):\n",
    "        print('Hola ' + self.nombre)\n",
    "\n",
    "    \n",
    "    def cambiar_campus(self,campus):\n",
    "        self.campus=campus\n",
    "\n",
    "alumno1=Alumno('Pablo Jorge', 'Huatulco', 'Matematicas Aplicadas')\n",
    "\n",
    "alumno2=Alumno('Angel Mateo', 'Puerto Angel','Enfermeria')\n",
    "\n",
    "print(alumno1.campus) #Atributo de instancia\n",
    "\n",
    "print(alumno2.campus) #Atributo de instancia\n",
    "\n",
    "print(alumno1.universidad) #Atributo de clase\n",
    "\n",
    "print(alumno2.universidad)  #Atributo de clase\n",
    "\n",
    "Alumno.universidad='UTM'    #Atributo de clase\n",
    "\n",
    "print(alumno1.universidad)  #Atributo de clase\n",
    "\n",
    "print(alumno2.universidad)  #Atributo de clase"
   ]
  },
  {
   "attachments": {},
   "cell_type": "markdown",
   "metadata": {},
   "source": [
    "Si un objeto modifica un atributo de clase, lo que realmente hace es crear un atributo de instancia con el mismo nombre que el atributo de clase."
   ]
  },
  {
   "cell_type": "code",
   "execution_count": null,
   "metadata": {},
   "outputs": [],
   "source": [
    "class Alumno: # class es la palabra reservada para definir una clase\n",
    "    \"\"\"Esta clase define las propiedades y el comportamiento de un estudiante \"\"\" #Docsstring\n",
    "    \n",
    "    # Atibutos de la clase  \n",
    "    universidad='UMAR' \n",
    "\n",
    "    # Constructor de la clase\n",
    "    def __init__(self,nombre,campus, carrera):\n",
    "        self.nombre=nombre        \n",
    "        self.campus=campus\n",
    "        self.carrera=carrera\n",
    "    \n",
    "    #Métodos\n",
    "    def saludo(self):\n",
    "        print('Hola ' + self.nombre)\n",
    "\n",
    "    \n",
    "    def cambiar_campus(self,campus):\n",
    "        self.campus=campus\n",
    "\n",
    "alumno1=Alumno('Pablo Jorge', 'Huatulco', 'Matematicas Aplicadas')\n",
    "\n",
    "alumno2=Alumno('Angel Mateo', 'Puerto Angel','Enfermeria')\n",
    "\n"
   ]
  }
 ],
 "metadata": {
  "kernelspec": {
   "display_name": "Python 3",
   "language": "python",
   "name": "python3"
  },
  "language_info": {
   "codemirror_mode": {
    "name": "ipython",
    "version": 3
   },
   "file_extension": ".py",
   "mimetype": "text/x-python",
   "name": "python",
   "nbconvert_exporter": "python",
   "pygments_lexer": "ipython3",
   "version": "3.11.0"
  },
  "orig_nbformat": 4,
  "vscode": {
   "interpreter": {
    "hash": "ce4d963573401a72c80fabe1ef75418dde5088fa46d743e51eca5fefbd048d5c"
   }
  }
 },
 "nbformat": 4,
 "nbformat_minor": 2
}
