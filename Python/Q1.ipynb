{
 "cells": [
  {
   "attachments": {},
   "cell_type": "markdown",
   "metadata": {},
   "source": [
    "# <center> Quiz 1 </center>"
   ]
  },
  {
   "attachments": {},
   "cell_type": "markdown",
   "metadata": {},
   "source": [
    "# Ejercicio 1\n",
    "\n",
    "Escribe un programa en Python que solicite al usuario su nombre(s), luego solicita su apellido materno y paterno (por separado). Enseguida crea una variable `nombre_completo`  y en ella almacena el nombre completo del usuario. Finalmente imprime un mensaje como el siguiente:\n",
    "\n",
    "<center>¡Hola <code>nombre_completo</code>! </center>"
   ]
  },
  {
   "attachments": {},
   "cell_type": "markdown",
   "metadata": {},
   "source": [
    "# Ejercicio 2\n",
    "\n",
    "Escribe un programa en Python que solicite al usuario su su edad cumplida. Calcule su edad por cumplir y almacenela en una nueva variable `edad_por_cumplir`. Luego, muestre un mensaje indicandole su edad para el  siguiente año:\n",
    "\n",
    "<center>!El proximo año tendras <code>edad_por_cumplir</code>! </center>"
   ]
  }
 ],
 "metadata": {
  "kernelspec": {
   "display_name": "Python 3",
   "language": "python",
   "name": "python3"
  },
  "language_info": {
   "codemirror_mode": {
    "name": "ipython",
    "version": 3
   },
   "file_extension": ".py",
   "mimetype": "text/x-python",
   "name": "python",
   "nbconvert_exporter": "python",
   "pygments_lexer": "ipython3",
   "version": "3.11.2"
  },
  "orig_nbformat": 4
 },
 "nbformat": 4,
 "nbformat_minor": 2
}
