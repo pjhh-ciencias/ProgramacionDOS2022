{
 "cells": [
  {
   "attachments": {},
   "cell_type": "markdown",
   "metadata": {},
   "source": [
    "# Iterables e iteradores"
   ]
  },
  {
   "attachments": {},
   "cell_type": "markdown",
   "metadata": {},
   "source": [
    "## Iterables"
   ]
  },
  {
   "attachments": {},
   "cell_type": "markdown",
   "metadata": {},
   "source": [
    "Los ***iterables*** son objetos en Python que como su nombre lo indica, **pueden ser *iterados***, que dicho de otra forma es, que **pueden ser *indexados***. Si piensas en una *lista* en Python, podemos indexarlo como: `lista[i]` por ejemplo, por lo que sería un iterable.\n",
    "\n",
    "Algunos ejemplos de iterables en Python son las *strings*, *listas*, *tuplas*, *diccionarios* o *ficheros*. "
   ]
  },
  {
   "attachments": {},
   "cell_type": "markdown",
   "metadata": {},
   "source": [
    "Si tenemos un iterable, podemos usarlo a la derecha del `for` de la siguiente manera:\n",
    "\n",
    "<center>\n",
    "<code>for elemento in iterable:</code>\n",
    "</center>\n",
    "\n",
    "Si usamos el `for` como acabamos de mostrar, la variable `elemento` irá tomando los valores de cada elemento presente en el `iterable`. De esta manera, ya no tenemos que ir accediendo manualmente con `[ ]` a cada elemento."
   ]
  },
  {
   "attachments": {},
   "cell_type": "markdown",
   "metadata": {},
   "source": [
    "**Observación:** Tenemos que tener claro que en un `for`, lo que va después del `in` deberá ser siempre un *iterable*."
   ]
  },
  {
   "attachments": {},
   "cell_type": "markdown",
   "metadata": {},
   "source": [
    "Por lo tanto, las *listas* y las *cadenas* son iterables, pero un entero no lo es. Es por eso por lo que no podemos hacer lo siguiente, ya que daría un error. De hecho el error sería `TypeError: int' object is not iterable`."
   ]
  },
  {
   "cell_type": "code",
   "execution_count": null,
   "metadata": {},
   "outputs": [],
   "source": [
    "numero = 10\n",
    "for i in numero:\n",
    "    print(i)"
   ]
  },
  {
   "attachments": {},
   "cell_type": "markdown",
   "metadata": {},
   "source": [
    "Python nos ofrece también diferentes métodos que pueden ser usados sobre clases iterables:\n",
    "\n",
    "* `list()` convierte a lista una clase iterable.\n",
    "\n",
    "* `sum()` cuando sea posible, suma los elementos de una clase iterable.\n",
    "\n",
    "* `join()` permite unir cada elemento de una clase iterable con el primer argumento usado."
   ]
  },
  {
   "cell_type": "code",
   "execution_count": null,
   "metadata": {},
   "outputs": [],
   "source": [
    "print(list('Hola mundo'))"
   ]
  },
  {
   "cell_type": "code",
   "execution_count": null,
   "metadata": {},
   "outputs": [],
   "source": [
    "print(sum([1,2,3,4,5]))"
   ]
  },
  {
   "cell_type": "code",
   "execution_count": null,
   "metadata": {},
   "outputs": [],
   "source": [
    "print(\"-\".join('Hola mundo'))"
   ]
  },
  {
   "attachments": {},
   "cell_type": "markdown",
   "metadata": {},
   "source": [
    "Recordemos que de la misma forma que iteramos una *cadena* o una *lista*, también podemos iterar un *diccionario*. El iterador del diccionario devuelve las *claves* o *keys* del mismo."
   ]
  },
  {
   "cell_type": "code",
   "execution_count": null,
   "metadata": {},
   "outputs": [],
   "source": [
    "mi_diccionario = dict( a=1,b=2,c=3)\n",
    "\n",
    "#print(mi_diccionario)\n",
    "for x in mi_diccionario:\n",
    "    print(x)"
   ]
  },
  {
   "attachments": {},
   "cell_type": "markdown",
   "metadata": {},
   "source": [
    "## Diferencia entre iteradores e iterables"
   ]
  },
  {
   "attachments": {},
   "cell_type": "markdown",
   "metadata": {},
   "source": [
    "Se podría explicar la **diferencia entre *iteradores* e *iterables*** usando un libro como analogía. **El libro sería nuestra clase *iterable***, ya que tiene diferentes páginas a las que podemos acceder. El libro podría ser una lista, y cada página un elemento de la lista. Por otro lado, **el *iterador* sería un marcapáginas**, es decir, una referencia que nos indica en qué posición estamos del libro, y que puede ser usado para “navegar” por él."
   ]
  },
  {
   "attachments": {},
   "cell_type": "markdown",
   "metadata": {},
   "source": [
    "## Iteradores"
   ]
  },
  {
   "attachments": {},
   "cell_type": "markdown",
   "metadata": {},
   "source": [
    "Para entender los **iteradores**, es importante conocer la función `iter()` en Python. Dicha función **puede ser llamada sobre un objeto que sea iterable**, y **nos devolverá un iterador**.\n",
    "\n",
    "Es posible obtener un iterador a partir de una clase iterable con la función `iter()`. "
   ]
  },
  {
   "attachments": {},
   "cell_type": "markdown",
   "metadata": {},
   "source": [
    " Siguiendo la analogía del libro consideremos el  siguiente ejemplo:"
   ]
  },
  {
   "cell_type": "code",
   "execution_count": null,
   "metadata": {},
   "outputs": [],
   "source": [
    "libro = ['Pagina 1', 'Pagina 2', 'Pagina 3', 'Pagina 4', 'Pagina 5', 'Pagina 6' ]\n",
    "marcapaginas = iter(libro)\n",
    "print(libro)      \n",
    "print(type(libro))"
   ]
  },
  {
   "attachments": {},
   "cell_type": "markdown",
   "metadata": {},
   "source": [
    "En este punto, *marcapaginas* almacena un iterador, de la `clase list_iterator`. Esta variable iteradora, hace referencia a la lista original, se trata de un objeto que podemos usar para navegar a través del libro y nos permite **acceder a sus elementos** usando la función `next()` sobre el iterador `marcapaginas`, podemos ir accediendo secuencialmente a cada elemento de nuestra lista (las páginas de libro). Por lo tanto, si queremos acceder al elemento $4$, tendremos que llamar $4$ veces a `next()`."
   ]
  },
  {
   "cell_type": "code",
   "execution_count": null,
   "metadata": {},
   "outputs": [],
   "source": [
    "libro = ['Pagina 1', 'Pagina 2', 'Pagina 3', 'Pagina 4', 'Pagina 5', 'Pagina 6' ]\n",
    "marcapaginas = iter(libro)\n",
    "print(next(marcapaginas))\n",
    "print(next(marcapaginas))\n",
    "print(next(marcapaginas))\n",
    "print(next(marcapaginas))\n",
    "print(next(marcapaginas))\n",
    "print(next(marcapaginas))"
   ]
  },
  {
   "attachments": {},
   "cell_type": "markdown",
   "metadata": {},
   "source": [
    "Consideremos otro ejemplo:"
   ]
  },
  {
   "cell_type": "code",
   "execution_count": null,
   "metadata": {},
   "outputs": [],
   "source": [
    "lista = [5, 6, 3, 2]\n",
    "it = iter(lista)\n",
    "elemento = next(it)\n",
    "print(elemento)\n",
    "elemento = next(it)\n",
    "print(elemento)\n",
    "elemento = next(it)\n",
    "print(elemento)\n",
    "elemento = next(it)\n",
    "print(elemento)\n"
   ]
  },
  {
   "attachments": {},
   "cell_type": "markdown",
   "metadata": {},
   "source": [
    "**Observación:** Cuando el iterador es obtenido con la función `iter()`, apunta por defecto fuera de la lista. Es decir, si queremos acceder al primer elemento de la lista, deberemos llamar una vez a `next()`.\n",
    "\n",
    "Por otro lado, a diferencia de un marcapáginas de un libro (en el mundo real), el iterador sólo puede ir hacia delante. **No es posible retroceder**."
   ]
  },
  {
   "attachments": {},
   "cell_type": "markdown",
   "metadata": {},
   "source": [
    "# Función `zip()`en Python"
   ]
  },
  {
   "attachments": {},
   "cell_type": "markdown",
   "metadata": {},
   "source": [
    "La función `zip()` de Python puede ser usada sin tener que importarse."
   ]
  },
  {
   "attachments": {},
   "cell_type": "markdown",
   "metadata": {},
   "source": [
    "Dadas dos listas, digamos *lista1* y *lista2*, al pasarlas a `zip()` como entrada, el *elemento 1* de *lista1* se asocia con el *elemento 1* de *lista2*, el *elemento 2* de *lista1* se asocia con el *elemento 2* de *lista2*, el *elemento 3* de *lista1* se asocia con el *elemento 3* de *lista2*, y así sucesivamente. Finalmene el resultado será una tupla donde cada elemento sera una tupla de la forma: `(i-esimo_elemento_lista1, i-esimo_elemento_lista2)`."
   ]
  },
  {
   "cell_type": "code",
   "execution_count": null,
   "metadata": {},
   "outputs": [],
   "source": [
    "lista1 = [1,2]\n",
    "lista2 = ['uno','dos']\n",
    "\n",
    "lista = zip(lista1,lista2)\n",
    "type(lista)\n",
    "print(list(lista))"
   ]
  },
  {
   "attachments": {},
   "cell_type": "markdown",
   "metadata": {},
   "source": [
    "## Iterar con `zip()` en Python"
   ]
  },
  {
   "attachments": {},
   "cell_type": "markdown",
   "metadata": {},
   "source": [
    "Puede parecer una función no muy relevante, pero es realmente útil combinada con un `for` para iterar dos listas simultaneamente:"
   ]
  },
  {
   "cell_type": "code",
   "execution_count": null,
   "metadata": {},
   "outputs": [],
   "source": [
    "a = [1, 2]\n",
    "b = [\"Uno\", \"Dos\"]\n",
    "c = zip(a, b)\n",
    "\n",
    "for numero, texto in zip(a, b):\n",
    "    print(\"Número:\", numero, \"Letra:\", texto)"
   ]
  },
  {
   "attachments": {},
   "cell_type": "markdown",
   "metadata": {},
   "source": [
    "## `zip()` con n argumentos"
   ]
  },
  {
   "attachments": {},
   "cell_type": "markdown",
   "metadata": {},
   "source": [
    "Ya hemos visto el uso de zip con dos listas, pero es posible pasar un número arbitrario de iterables como entrada.\n",
    "\n",
    "Veamos un ejemplo con varias listas. Es importante notar que todas tienen la misma longitud, dos."
   ]
  },
  {
   "cell_type": "code",
   "execution_count": null,
   "metadata": {},
   "outputs": [],
   "source": [
    "numeros = [1, 2]\n",
    "espanol = [\"Uno\", \"Dos\"]\n",
    "ingles = [\"One\", \"Two\"]\n",
    "frances = [\"Un\", \"Deux\"]\n",
    "c = zip(numeros, espanol, ingles, frances)\n",
    "\n",
    "for n, e, i, f in zip(numeros, espanol, ingles, frances):\n",
    "    print(n, e, i, f)"
   ]
  },
  {
   "attachments": {},
   "cell_type": "markdown",
   "metadata": {},
   "source": [
    "## `zip()` con diferentes longitudes"
   ]
  },
  {
   "attachments": {},
   "cell_type": "markdown",
   "metadata": {},
   "source": [
    "También podemos usar zip usando iterables de diferentes longitudes. En este caso lo que pasará es que el iterador para cuando la lista más pequeña se acaba.\n",
    "\n"
   ]
  },
  {
   "cell_type": "code",
   "execution_count": null,
   "metadata": {},
   "outputs": [],
   "source": [
    "numeros = [1, 2, 3, 4, 5]\n",
    "espanol = [\"Uno\", \"Dos\"]\n",
    "\n",
    "for n, e in zip(numeros, espanol):\n",
    "    print(n, e)"
   ]
  },
  {
   "attachments": {},
   "cell_type": "markdown",
   "metadata": {},
   "source": [
    "Resulta lógico que este sea el comportamiento, porque de no ser así y se continuara, no tendríamos valores para usar."
   ]
  },
  {
   "attachments": {},
   "cell_type": "markdown",
   "metadata": {},
   "source": [
    "## `zip()` con un argumento"
   ]
  },
  {
   "attachments": {},
   "cell_type": "markdown",
   "metadata": {},
   "source": [
    "Como cabría esperar, dado que zip está definido para un número arbitrario de parámetros de entrada, es posible también posible usar un único valor. El resultado son tuplas de un elemento."
   ]
  },
  {
   "cell_type": "code",
   "execution_count": null,
   "metadata": {},
   "outputs": [],
   "source": [
    "numeros = [1, 2, 3, 4, 5]\n",
    "zz = zip(numeros)\n",
    "print(list(zz))"
   ]
  },
  {
   "attachments": {},
   "cell_type": "markdown",
   "metadata": {},
   "source": [
    "**Recuerda:** Las tuplas se representan escribiendo los elementos entre paréntesis y separados por comas. Una tupla puede no contener ningún elemento, es decir, ser una tupla vacía. Una tupla puede incluir un único elemento, pero para que Python entienda que nos estamos refiriendo a una tupla es necesario escribir al menos una coma."
   ]
  },
  {
   "attachments": {},
   "cell_type": "markdown",
   "metadata": {},
   "source": [
    "## `zip()` con diccionarios"
   ]
  },
  {
   "attachments": {},
   "cell_type": "markdown",
   "metadata": {},
   "source": [
    "Hasta ahora sólo hemos usado  `zip()` con listas, pero la función está definida para cualquier clase iterable. Por lo tanto podemos usarla también con diccionarios."
   ]
  },
  {
   "attachments": {},
   "cell_type": "markdown",
   "metadata": {},
   "source": [
    "En las siguientes lineas de codigo, `a,b` toman los valores de las *key* del diccionario."
   ]
  },
  {
   "cell_type": "code",
   "execution_count": null,
   "metadata": {},
   "outputs": [],
   "source": [
    "espanish = {'1': 'Uno', '2': 'Dos', '3': 'Tres'}\n",
    "english = {'1': 'One', '2': 'Two', '3': 'Three'}\n",
    "\n",
    "for a, b in zip(espanish, english):\n",
    "    print(a, b)"
   ]
  },
  {
   "attachments": {},
   "cell_type": "markdown",
   "metadata": {},
   "source": [
    "Sin embargo, si hacemos uso de la función `items`, podemos acceder al *key* y *value* de cada elemento."
   ]
  },
  {
   "cell_type": "code",
   "execution_count": null,
   "metadata": {},
   "outputs": [],
   "source": [
    "espanish = {'1': 'Uno', '2': 'Dos', '3': 'Tres'}\n",
    "english = {'1': 'One', '2': 'Two', '3': 'Three'}\n",
    "\n",
    "for (k1, v1), (k2, v2) in zip(espanish.items(), english.items()):\n",
    "    print(k1, v1, v2)"
   ]
  },
  {
   "attachments": {},
   "cell_type": "markdown",
   "metadata": {},
   "source": [
    "Nótese que en este caso ambas key k1 y k2 son iguales, pero no es necesario que lo sean."
   ]
  },
  {
   "attachments": {},
   "cell_type": "markdown",
   "metadata": {},
   "source": [
    "## Deshacer el `zip()`"
   ]
  },
  {
   "attachments": {},
   "cell_type": "markdown",
   "metadata": {},
   "source": [
    "Es posible deshacer el `zip` en una sola línea de código. Supongamos que hemos usado `zip` para obtener `c`."
   ]
  },
  {
   "cell_type": "code",
   "execution_count": null,
   "metadata": {},
   "outputs": [],
   "source": [
    "a = [1, 2, 3]\n",
    "b = [\"One\", \"Two\", \"Three\"]\n",
    "c = zip(a, b)\n",
    "\n",
    "print(list(c))"
   ]
  },
  {
   "attachments": {},
   "cell_type": "markdown",
   "metadata": {},
   "source": [
    "¿Es posible obtener `a` y `b` desde `c`? "
   ]
  },
  {
   "cell_type": "code",
   "execution_count": null,
   "metadata": {},
   "outputs": [],
   "source": [
    "c = [(1, 'One'), (2, 'Two'), (3, 'Three')]\n",
    "a, b = zip(*c)\n",
    "\n",
    "print(a)  \n",
    "print(b)  "
   ]
  },
  {
   "attachments": {},
   "cell_type": "markdown",
   "metadata": {},
   "source": [
    "El uso de `*c`, lo que es conocido como ***unpacking*** en Python"
   ]
  },
  {
   "attachments": {},
   "cell_type": "markdown",
   "metadata": {},
   "source": [
    " "
   ]
  },
  {
   "attachments": {},
   "cell_type": "markdown",
   "metadata": {},
   "source": [
    "# Comprensiones de listas"
   ]
  },
  {
   "attachments": {},
   "cell_type": "markdown",
   "metadata": {},
   "source": [
    "Una de las principales ventajas de Python es que una misma funcionalidad puede ser escrita de maneras muy diferentes. Las ***list comprehension*** o ***comprensión de listas*** son una de ellas. Las *list comprehension* nos permiten crear listas de elementos en una sola línea de código. "
   ]
  },
  {
   "attachments": {},
   "cell_type": "markdown",
   "metadata": {},
   "source": [
    "## Sintaxis"
   ]
  },
  {
   "attachments": {},
   "cell_type": "markdown",
   "metadata": {},
   "source": [
    " La sintaxis general de las comprensiones de listas es:"
   ]
  },
  {
   "cell_type": "code",
   "execution_count": null,
   "metadata": {},
   "outputs": [],
   "source": [
    " # lista = [expresion for elemento in iterable if condicion]"
   ]
  },
  {
   "attachments": {},
   "cell_type": "markdown",
   "metadata": {},
   "source": [
    "Aquí, \"lista\" es la lista que se va a crear, \"expresion\" es la expresión que se va a aplicar a cada elemento de \"iterable\", \"elemento\" es una variable que toma el valor de cada elemento de \"iterable\" en orden, y \"condicion\" es una expresión booleana **opcional** que se utiliza para filtrar los elementos de \"iterable\" que se incluirán en \"lista\"."
   ]
  },
  {
   "attachments": {},
   "cell_type": "markdown",
   "metadata": {},
   "source": [
    "Es decir, por un lado tenemos el `for elemento in iterable if condicion`, que itera un determinado iterable que cumpla la condicion y “almacena” cada uno de estos elementos en `elemento`. Por otro lado, tenemos la `expresión`, que es lo que será añadido a la lista en cada iteración.\n",
    "\n",
    "La expresión puede ser una operación como veremos más adelante, pero también puede ser un valor constante."
   ]
  },
  {
   "cell_type": "code",
   "execution_count": null,
   "metadata": {},
   "outputs": [],
   "source": [
    "cuadrados = [i**2 for i in range(5)]\n",
    "print(cuadrados)"
   ]
  },
  {
   "attachments": {},
   "cell_type": "markdown",
   "metadata": {},
   "source": [
    "De no existir, podríamos hacer lo mismo de la siguiente forma, pero necesitamos alguna que otra línea más de código."
   ]
  },
  {
   "cell_type": "code",
   "execution_count": null,
   "metadata": {},
   "outputs": [],
   "source": [
    "cuadrados = []\n",
    "for i in range(5):\n",
    "    cuadrados.append(i**2)"
   ]
  },
  {
   "attachments": {},
   "cell_type": "markdown",
   "metadata": {},
   "source": [
    " El siguiente ejemplo genera una lista de cinco unos:"
   ]
  },
  {
   "cell_type": "code",
   "execution_count": null,
   "metadata": {},
   "outputs": [],
   "source": [
    "unos = [1 for i in range(5)]"
   ]
  },
  {
   "attachments": {},
   "cell_type": "markdown",
   "metadata": {},
   "source": [
    "**Observación:** La expresión también puede ser una llamada a una función."
   ]
  },
  {
   "attachments": {},
   "cell_type": "markdown",
   "metadata": {},
   "source": [
    "Cualquier elemento que sea iterable puede ser usado con las list comprehensions. Anteriormente hemos iterado range() pero podemos hacer lo mismo para una lista. En el siguiente ejemplo vemos como dividir todos los números de una lista entre 10."
   ]
  },
  {
   "cell_type": "code",
   "execution_count": null,
   "metadata": {},
   "outputs": [],
   "source": [
    "lista = [10, 20, 30, 40 , 50]\n",
    "nueva_lista = [i/10 for i in lista]"
   ]
  },
  {
   "attachments": {},
   "cell_type": "markdown",
   "metadata": {},
   "source": [
    "## Añadiendo condicionales"
   ]
  },
  {
   "attachments": {},
   "cell_type": "markdown",
   "metadata": {},
   "source": [
    "¿Y si quisiéramos realizar la operación sobre el elemento sólo si una determinada condición se cumple? Es posible añadir un condicional `if`. "
   ]
  },
  {
   "cell_type": "code",
   "execution_count": null,
   "metadata": {},
   "outputs": [],
   "source": [
    "# lista = [expresión for elemento in iterable if condición]"
   ]
  },
  {
   "attachments": {},
   "cell_type": "markdown",
   "metadata": {},
   "source": [
    "Por lo tanto la `expresión` sólo se aplicará al `elemento` si se cumple la `condición`. "
   ]
  },
  {
   "attachments": {},
   "cell_type": "markdown",
   "metadata": {},
   "source": [
    "Veamos un ejemplo con una frase, de la que queremos saber el número de 'a' que tiene."
   ]
  },
  {
   "cell_type": "code",
   "execution_count": null,
   "metadata": {},
   "outputs": [],
   "source": [
    "frase = \"Anita lava la tina\"\n",
    "letra_a = [i for i in frase if i == 'a']"
   ]
  },
  {
   "attachments": {},
   "cell_type": "markdown",
   "metadata": {},
   "source": [
    "Lo que hace el código anterior es *iterar* cada letra de la frase, y si es una 'a', se añade a la lista. De esta manera el resultado es una lista con tantas letras 'a' como la frase original tiene, y podemos calcular las veces que se repite con `len()`."
   ]
  },
  {
   "cell_type": "code",
   "execution_count": null,
   "metadata": {},
   "outputs": [],
   "source": [
    "print(len(letra_a))"
   ]
  },
  {
   "cell_type": "markdown",
   "metadata": {},
   "source": []
  },
  {
   "attachments": {},
   "cell_type": "markdown",
   "metadata": {},
   "source": [
    "# Comprensiones de conjuntos"
   ]
  },
  {
   "attachments": {},
   "cell_type": "markdown",
   "metadata": {},
   "source": [
    "Las ***set comprehensions*** son muy similares a las listas que hemos visto con anterioridad. La única diferencia es que debemos cambiar el `()` por `{}`. Como resulta evidente, dado que los set no permiten duplicados, si intentamos añadir un elemento que ya existe en el set, simplemente no se añadirá."
   ]
  },
  {
   "cell_type": "code",
   "execution_count": null,
   "metadata": {},
   "outputs": [],
   "source": [
    "frase = \"Anita lava la tina\"\n",
    "letra_a = {i for i in frase if i == 'a'}\n",
    "print(letra_a)"
   ]
  },
  {
   "attachments": {},
   "cell_type": "markdown",
   "metadata": {},
   "source": [
    "# Comprension de diccionarios"
   ]
  },
  {
   "attachments": {},
   "cell_type": "markdown",
   "metadata": {},
   "source": [
    "ambién tenemos las comprensiones de diccionarios. Son muy similares a las anteriores, con la única diferencia que debemos especificar la *key* o llave. Veamos un ejemplo.\n",
    "\n"
   ]
  },
  {
   "cell_type": "code",
   "execution_count": null,
   "metadata": {},
   "outputs": [],
   "source": [
    "lista1 = ['nombre', 'edad', 'semestre']\n",
    "lista2 = ['Jorge', 30, 'Octavo']\n",
    "\n",
    "mi_diccionario = {i:j for i,j in zip(lista1, lista2)}\n",
    "print(mi_diccionario)"
   ]
  },
  {
   "attachments": {},
   "cell_type": "markdown",
   "metadata": {},
   "source": [
    "**Observación** Usando `:` asignamos un valor a una llave. Hemos usado también `zip()`, que nos permite iterar dos listas paralelamente.\n",
    "Por lo tanto, en este ejemplo estamos convirtiendo dos listas a un diccionario."
   ]
  },
  {
   "attachments": {},
   "cell_type": "markdown",
   "metadata": {},
   "source": [
    "Las comprensiones de listas, sets o diccionarios son una herramienta muy útil para hacer que nuestro código resulte más compacto y fácil de leer. Siempre que tengamos una colección iterable que queramos modificar, son una buena opción para evitar tener que escribir bucles for.\n",
    "\n"
   ]
  },
  {
   "cell_type": "code",
   "execution_count": null,
   "metadata": {},
   "outputs": [],
   "source": []
  }
 ],
 "metadata": {
  "kernelspec": {
   "display_name": "Python 3",
   "language": "python",
   "name": "python3"
  },
  "language_info": {
   "codemirror_mode": {
    "name": "ipython",
    "version": 3
   },
   "file_extension": ".py",
   "mimetype": "text/x-python",
   "name": "python",
   "nbconvert_exporter": "python",
   "pygments_lexer": "ipython3",
   "version": "3.11.2"
  },
  "orig_nbformat": 4,
  "vscode": {
   "interpreter": {
    "hash": "ce4d963573401a72c80fabe1ef75418dde5088fa46d743e51eca5fefbd048d5c"
   }
  }
 },
 "nbformat": 4,
 "nbformat_minor": 2
}
