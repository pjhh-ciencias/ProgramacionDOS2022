{
 "cells": [
  {
   "cell_type": "markdown",
   "metadata": {},
   "source": [
    "\n",
    "#  Cadenas (Strings)\n",
    "\n",
    "Utilizado para almacenar una sucesión de caracteres. Las cadenas en Python 3 son inmutables, i.e. una vez que definiste una cadena ya no puedes cambiarala despues. Sin embargo, cuando \"modificas\" una cadena \n",
    "con comandos tales como:  **replace()** or **join()**, se crea una copia de la cadena y se aplica la modificación a esta, no se reescribe original.\n",
    "\n",
    "\n",
    "El saludo \"*¡Hola mundo!*\" es una cadena en Python.  "
   ]
  },
  {
   "cell_type": "markdown",
   "metadata": {},
   "source": [
    "### ¿Como crear una cadena en Python?\n",
    "\n",
    "Para crear una  cadena puedes utilizar **comillas simples**, **dobles** o **triples**. "
   ]
  },
  {
   "cell_type": "code",
   "execution_count": null,
   "metadata": {},
   "outputs": [],
   "source": [
    "Mi_cadena= \"¡Hoy es un buen día para aprender Python!\"\n",
    "Otra_cadena= 'Esto puede parecer difícil al principio, pero te aseguro que puedes hacerlo!' \n",
    "Cadena_larga= '''En efecto, tu puedes lograr lo que te propongas... :D\n",
    "Observa que utilizando comillas tiples podemos guargar una cadena muy large de carias lineas de texto.'''"
   ]
  },
  {
   "cell_type": "markdown",
   "metadata": {},
   "source": [
    "Enseguida  puedes usar la función **print()** para generar el valor de la cadena en la ventana de la consola."
   ]
  },
  {
   "cell_type": "code",
   "execution_count": null,
   "metadata": {},
   "outputs": [
    {
     "name": "stdout",
     "output_type": "stream",
     "text": [
      "¡Hoy es un buen día para aprender Python!\n",
      "Esto puede parecer difícil al principio, pero te aseguro que puedes hacerlo!\n",
      "En efecto, tu puedes lograr lo que te propongas... ;)\n",
      "Observa que utilizando comillas tiples podemos guargar una cadena muy large de carias lineas de texto.\n"
     ]
    }
   ],
   "source": [
    "print(Mi_cadena)\n",
    "print(Otra_cadena)\n",
    "print(Cadena_larga)"
   ]
  },
  {
   "cell_type": "markdown",
   "metadata": {},
   "source": [
    "### Concatenación de cadenas"
   ]
  },
  {
   "cell_type": "markdown",
   "metadata": {},
   "source": [
    "Otros tres tipos de datos sumamente importants son las listas, los diccionarios y las tuplas."
   ]
  },
  {
   "cell_type": "markdown",
   "metadata": {},
   "source": [
    "### Método format"
   ]
  },
  {
   "cell_type": "markdown",
   "metadata": {},
   "source": [
    "En términos generales la función print en Python permite imprimir una cadena de texto. Sin embargo, existen grandes cambios con respecto al código legacy que viene de Python 2 hacia Python 3"
   ]
  },
  {
   "cell_type": "code",
   "execution_count": null,
   "metadata": {},
   "outputs": [
    {
     "name": "stdout",
     "output_type": "stream",
     "text": [
      "¡Bienvenido Pablo!\n"
     ]
    }
   ],
   "source": [
    "username = input(\"Ingrese su nombre de usuario: \")\n",
    "text = \"¡Bienvenido {}!\"\n",
    "print(text.format(username))\n"
   ]
  },
  {
   "cell_type": "markdown",
   "metadata": {},
   "source": [
    "Como podemos observar, pude haber concatenado la variable directamente en la cadena de texto, pero en cambio utilizo el método format() y le paso como argumento la variable que quiero mostrar. Fíjese que los corchetes vacíos indican donde irá el texto.\n",
    "\n",
    "`format()` puede recibir más de un valor. Podemos agregar múltiples valores. Veamos un ejemplo:"
   ]
  },
  {
   "cell_type": "code",
   "execution_count": null,
   "metadata": {},
   "outputs": [
    {
     "name": "stdout",
     "output_type": "stream",
     "text": [
      "Mi nombre es Peter Parker. Pero mis amigos me dicen La Araña Humana.\n"
     ]
    }
   ],
   "source": [
    "name = \"Peter\"\n",
    "lastname = \"Parker\"\n",
    "username = \"La Araña Humana\"\n",
    "text = \"Mi nombre es {0} {1}. Pero mis amigos me dicen {2}.\"\n",
    "print(text.format(name, lastname, username))"
   ]
  },
  {
   "cell_type": "markdown",
   "metadata": {},
   "source": [
    "hemos rellenado los corchetes con números. Igual que una lista, el método format distingue los valores contando desde 0. Esto aveces puede ser un poco confuso. Para ello podemos asignar nombres a nuestros indices. Veamos un ejemplo:"
   ]
  },
  {
   "cell_type": "code",
   "execution_count": null,
   "metadata": {},
   "outputs": [
    {
     "name": "stdout",
     "output_type": "stream",
     "text": [
      "Mi nombre es Walter White.\n"
     ]
    }
   ],
   "source": [
    "text = \"Mi nombre es {name} {lastname}.\"\n",
    "print(text.format(name=\"Walter\", lastname=\"White\"))"
   ]
  },
  {
   "cell_type": "markdown",
   "metadata": {},
   "source": [
    "Sin duda a veces lo más difícil de ,manejar son los números en cadenas de texto. Para ello podemos utilizar format(). La sintaxis no cambia. Veamos otro ejemplo:"
   ]
  },
  {
   "cell_type": "code",
   "execution_count": null,
   "metadata": {},
   "outputs": [
    {
     "name": "stdout",
     "output_type": "stream",
     "text": [
      "Yo tengo 20. Yo nací en el año 2000\n"
     ]
    }
   ],
   "source": [
    "text = \"Yo tengo {age}. Yo nací en el año {year}\"\n",
    "print(text.format(age=20, year=2000))"
   ]
  },
  {
   "cell_type": "markdown",
   "metadata": {},
   "source": [
    "Debido a que todo en Python es un objeto, cuando queremos imprimir el valor de una variable debemos utilizar la función `format` y el placeholder `{}`."
   ]
  },
  {
   "cell_type": "code",
   "execution_count": null,
   "metadata": {},
   "outputs": [
    {
     "name": "stdout",
     "output_type": "stream",
     "text": [
      "Hello, World\n"
     ]
    }
   ],
   "source": [
    "word = 'World'\n",
    "print('Hello, {}' . format(word))"
   ]
  },
  {
   "cell_type": "markdown",
   "metadata": {},
   "source": [
    "## Cadenas \"f\" \n",
    "\n",
    "A partir de la versión 3.6 de Python, se añadió (PEP 498), una nueva notación para cadenas llamada cadenas \"f\", que hace más sencillo introducir variables y expresiones en las cadenas. Una cadena \"f\" contiene variables y expresiones entre llaves \"{}\" que se sustituyen directamente por su valor. Las cadenas \"f\" se reconocen porque comienzan por una letra f antes de las comillas de apertura.\n",
    "\n",
    "Desde Python 3.6 es posible utilizar **cadenas F** para realizar lo mismo que la función format de la siguiente manera:"
   ]
  },
  {
   "cell_type": "code",
   "execution_count": null,
   "metadata": {},
   "outputs": [
    {
     "name": "stdout",
     "output_type": "stream",
     "text": [
      "Me llamo Alicia y tengo 35 años.\n"
     ]
    }
   ],
   "source": [
    "nombre = \"Alicia\"\n",
    "edad = 35\n",
    "print(f\"Me llamo {nombre} y tengo {edad} años.\")"
   ]
  },
  {
   "cell_type": "code",
   "execution_count": null,
   "metadata": {},
   "outputs": [
    {
     "name": "stdout",
     "output_type": "stream",
     "text": [
      "Hello, World\n"
     ]
    }
   ],
   "source": [
    "word = 'World'\n",
    "print(f'Hello, {word}')"
   ]
  },
  {
   "cell_type": "markdown",
   "metadata": {},
   "source": [
    "Esta última sintaxis es mucha más descriptiva en ciertos escenarios. Observemos el siguiente ejemplo."
   ]
  },
  {
   "cell_type": "code",
   "execution_count": null,
   "metadata": {},
   "outputs": [
    {
     "name": "stdout",
     "output_type": "stream",
     "text": [
      "7 is less than 9\n"
     ]
    }
   ],
   "source": [
    "n1 = 7\n",
    "n2 = 9\n",
    "print('{} is less than {}' . format(n1, n2))"
   ]
  },
  {
   "cell_type": "code",
   "execution_count": null,
   "metadata": {},
   "outputs": [
    {
     "name": "stdout",
     "output_type": "stream",
     "text": [
      "7 is less than 9\n"
     ]
    }
   ],
   "source": [
    "n1 = 7\n",
    "n2 = 9\n",
    "print(f'{n1} is less than {n2}')"
   ]
  },
  {
   "cell_type": "markdown",
   "metadata": {},
   "source": [
    "Al utilizar cadenas F es mucho más explíctio el mensaje:"
   ]
  },
  {
   "cell_type": "markdown",
   "metadata": {},
   "source": [
    "## Cadenas multilinea\n",
    "\n",
    "Para imprimir una cadena multilínea puede realizarse utilizando el caracter de escape o la triple comilla.\n",
    "\n",
    "Los siguientes dos ejemplos son equivalentes."
   ]
  },
  {
   "cell_type": "code",
   "execution_count": null,
   "metadata": {},
   "outputs": [],
   "source": [
    "x = 'hello\\n' \\\n",
    "    'world'"
   ]
  },
  {
   "cell_type": "code",
   "execution_count": null,
   "metadata": {},
   "outputs": [],
   "source": [
    "x = '''hello\n",
    "world'''"
   ]
  }
 ],
 "metadata": {
  "kernelspec": {
   "display_name": "Python 3",
   "language": "python",
   "name": "python3"
  },
  "language_info": {
   "name": "python",
   "version": "3.11.0"
  },
  "orig_nbformat": 4,
  "vscode": {
   "interpreter": {
    "hash": "ce4d963573401a72c80fabe1ef75418dde5088fa46d743e51eca5fefbd048d5c"
   }
  }
 },
 "nbformat": 4,
 "nbformat_minor": 2
}
