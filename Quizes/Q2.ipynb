{
 "cells": [
  {
   "attachments": {},
   "cell_type": "markdown",
   "metadata": {},
   "source": [
    "# <center> Quiz 2 </center>"
   ]
  },
  {
   "attachments": {},
   "cell_type": "markdown",
   "metadata": {},
   "source": [
    "# Ejercicio \n",
    "\n",
    "##### Las posiciones en un tablero de ajedrez se identifican con una letra y un número. La letra identifica la columna, mientras que el número identifica la fila, como se muestra a continuación:\n",
    "\n",
    "<center>\n",
    "<img src=\"./Imagenes/tablero_ajedrez.jpg\" alt=\"Tablero de ajedrez\", width=\"35%\" height=\"auto\">\n",
    "<!-- ![Tablero de ajedrez](./Quizes_Imagenes/tablero_ajedrez.jpg) -->\n",
    "</center>\n",
    "\n",
    "##### Escribe un programa en Python que solicite al usuario una posición en el tablero de Ajedrez y determine el color del cuadrado en esa posición. Por ejemplo, si el usuario ingresa $a1$, el programa debería informar que el cuadrado es negro, mientras que si el usuario ingresa $d5$, el programa debe informar que el cuadrado es blanco. Por este momento puede asumir que el usuario siempre ingresará una posición válida, no es necesario realizar ninguna comprobación de errores."
   ]
  },
  {
   "cell_type": "markdown",
   "metadata": {},
   "source": []
  }
 ],
 "metadata": {
  "kernelspec": {
   "display_name": "Python 3",
   "language": "python",
   "name": "python3"
  },
  "language_info": {
   "codemirror_mode": {
    "name": "ipython",
    "version": 3
   },
   "file_extension": ".py",
   "mimetype": "text/x-python",
   "name": "python",
   "nbconvert_exporter": "python",
   "pygments_lexer": "ipython3",
   "version": "3.11.2"
  },
  "orig_nbformat": 4
 },
 "nbformat": 4,
 "nbformat_minor": 2
}
