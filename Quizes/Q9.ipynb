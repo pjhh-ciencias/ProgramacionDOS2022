{
 "cells": [
  {
   "attachments": {},
   "cell_type": "markdown",
   "metadata": {},
   "source": [
    "# <center> Quiz 9 </center>\n",
    "\n",
    "## Instrucciones: \n",
    "\n",
    "* #### Para cada ejercicio debes enviar el archivo en formato `.py` o `.ipynb` con el programa correspondiente.\n",
    "\n",
    "* #### Los archivos correspondientes a cada pregunta se deben nombrar de la siguiente manera: \n",
    "  <center><font size=4><b>TuNombre_TuPrimerApellido_Q9_#</b></font></center>\n",
    "  \n",
    "  #### donde en lugar de \\#  tienes que colocar el número de ejercicio. \n",
    "\n",
    "* #### Enviar los archivos al correo **pablo.jorge@aulavirtual.umar.mx**, en el asunto escribe **Quiz 9**. No olvides adjuntar los archivos, de otra forma el ejercicio no será tomado en cuenta. \n",
    "\n",
    "* #### Después de las 17:00 horas por cada 5 minutos de retraso al enviar tus archivos se tendrá una penalización de 0.5 puntos menos sobre la calificación final del Quiz. \n",
    "\n"
   ]
  },
  {
   "attachments": {},
   "cell_type": "markdown",
   "metadata": {},
   "source": [
    "## Pregunta 1 \n",
    "\n",
    "####  Crea una clase que se llame `Banco` y una clase que se llame `Cuenta`. La clase `Cuenta` debe tener atributos como *número de cuenta* (`cuenta`) y *saldo* (`saldo`), y métodos para *depositar* (`depositar`) y *retirar dinero* (`retirar`), estos dos métodos deben recibir como argumento la cantidad de dinero que se desea depositar o retirar respectivamente. En la clase `Banco` debes crear  métodos para *agregar una cuenta* (`agregar_cuenta`), *eliminar una cuenta*(`eliminar_cuenta`), estos dos métodos deben recibir como argumento el número de cuenta que se desea agregar o eliminar y *mostrar el saldo total del banco* (`saldo_total`).\n",
    "\n"
   ]
  },
  {
   "attachments": {},
   "cell_type": "markdown",
   "metadata": {},
   "source": [
    "## Pregunta 2\n",
    "\n",
    "#### Crea una clase `Persona` con atributos como `nombre` y `edad`, y una clase `Estudiante` que sea hija de la clase `Persona` y tenga atributos adicionales como la *matricula del estudiante* (`matricula`) y el *promedio del estudiante* (`promedio`). Implementa un método para *calcular el promedio de un estudiante* (`calcular_promedio` este metodo debe recibir la lista de calificaciones obtenidas por el estudiante) y otro método para *imprimir su información del estudiante*: nombre,edad,matrícula y promedio."
   ]
  }
 ],
 "metadata": {
  "kernelspec": {
   "display_name": "Python 3",
   "language": "python",
   "name": "python3"
  },
  "language_info": {
   "codemirror_mode": {
    "name": "ipython",
    "version": 3
   },
   "file_extension": ".py",
   "mimetype": "text/x-python",
   "name": "python",
   "nbconvert_exporter": "python",
   "pygments_lexer": "ipython3",
   "version": "3.11.2"
  },
  "orig_nbformat": 4
 },
 "nbformat": 4,
 "nbformat_minor": 2
}
