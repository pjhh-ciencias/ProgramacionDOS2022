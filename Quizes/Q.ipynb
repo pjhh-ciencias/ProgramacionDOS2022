{
 "cells": [
  {
   "attachments": {},
   "cell_type": "markdown",
   "metadata": {},
   "source": [
    "# <center> Quiz 2 </center>"
   ]
  },
  {
   "attachments": {},
   "cell_type": "markdown",
   "metadata": {},
   "source": [
    "# Ejercicio 1 \"Años perrunos\"\n",
    "\n",
    "##### Se dice que un año humano equivale a $7$ años caninos. Sin embargo, esta simple conversión no reconoce que los perros alcanzan la edad adulta en aproximadamente dos años. Como resultado, algunas personas creen que es mejor contar cada uno de los dos primeros años humanos como $10.5$ años caninos y luego contar cada año humano adicional como $4$ años caninos.\n",
    "\n",
    "##### Escriba un programaen Python que implemente la conversion descrita en el párrafo anterior y solicite al usuario (validando entrada: número positivo) los años humano que tiene tu amigo perruno y e imprima los correspondientes años caninos de tu mascota. Asegurate de que tu programa funcione correctamente para conversiones de menos de dos años humanos y para conversiones de dos o más años humanos.\n"
   ]
  }
 ],
 "metadata": {
  "kernelspec": {
   "display_name": "Python 3",
   "language": "python",
   "name": "python3"
  },
  "language_info": {
   "codemirror_mode": {
    "name": "ipython",
    "version": 3
   },
   "file_extension": ".py",
   "mimetype": "text/x-python",
   "name": "python",
   "nbconvert_exporter": "python",
   "pygments_lexer": "ipython3",
   "version": "3.11.2"
  },
  "orig_nbformat": 4
 },
 "nbformat": 4,
 "nbformat_minor": 2
}
