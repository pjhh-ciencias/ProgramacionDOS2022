{
 "cells": [
  {
   "attachments": {},
   "cell_type": "markdown",
   "metadata": {},
   "source": [
    "# <center> Quiz 5 </center>\n",
    "\n",
    "## Instrucciones: \n",
    "\n",
    "* #### Para cada ejercicio debes enviar el archivo en formato `.py` o `.ipynb` con el programa correspondiente.\n",
    "\n",
    "* #### Los archivos correspondientes a cada pregunta se deben nombrar de la siguiente manera: \n",
    "  $$ \\text{TuNombre_TuPrimerApellido_Q5_#} $$\n",
    "  #### donde en lugar de \\#  tienes que colocar el número de ejercicio. \n",
    "\n",
    "* #### Enviar los archivos al correo **pablo.jorge@aulavirtual.umar.mx**. No olvides adjuntar los archivos, de otra forma el ejercicio no será tomado en cuenta. \n",
    "\n",
    "* #### Después de las $17:00$ horas por cada $5$ minutos de retraso al enviar tus archivos se tendrá una penalización de $0.75$ puntos menos sobre la calificación final del Quiz. \n",
    "\n"
   ]
  },
  {
   "attachments": {},
   "cell_type": "markdown",
   "metadata": {},
   "source": [
    "## Pregunta 1\n",
    "\n",
    "#### Escribe un programa en Python que lea una `lista de tuplas`, y crea un diccionario en donde las claves sean los primeros elementos de las tuplas, y los valores una **lista** con los segundos. Imprime el diccionario resultante y luego para cada clave imprime los valores correspondientes.\n",
    "\n",
    "#### Por ejemplo: En la lista `lista_tutores_tutorados` se tiene almacenados en tuplas, el nombre del tutor y de su tutorado. Como cada tutor puede tener más de un tutorado, hay tuplas que tienen como primer elemento al mismo tutor:\n",
    "\n",
    "###### `lista_tutores_tutorados = [('Tutor1','Jorge'), ('Tutor2','Benito'), ('Tutor1','Mateo'), ('Tutor3','Maura'), ('Tutor1','Jesus'), ('Tutor4','Ximena')]`\n",
    "\n",
    "#### Despues de crear el diccionario e imprimirlo el resultado será algo similar a:\n",
    "\n",
    "###### `{'Tutor1': ['Jorge', 'Mateo', 'Jesus'], 'Tutor4': ['Ximena'], 'Tutor3': ['Maura'], 'Tutor2': ['Benito']}`\n",
    "\n",
    "#### El resultado de imprimir a cada tutor  y sus correspondientes tutorados se debe ver como:\n",
    "\n",
    "<center>\n",
    "<img src=\"../Imagenes/tutores_tutorados.png\" alt=\"\", width=\"25%\" height=\"auto\">\n",
    "\n",
    "</center>\n"
   ]
  },
  {
   "cell_type": "markdown",
   "metadata": {},
   "source": []
  }
 ],
 "metadata": {
  "kernelspec": {
   "display_name": "Python 3",
   "language": "python",
   "name": "python3"
  },
  "language_info": {
   "codemirror_mode": {
    "name": "ipython",
    "version": 3
   },
   "file_extension": ".py",
   "mimetype": "text/x-python",
   "name": "python",
   "nbconvert_exporter": "python",
   "pygments_lexer": "ipython3",
   "version": "3.11.2"
  },
  "orig_nbformat": 4
 },
 "nbformat": 4,
 "nbformat_minor": 2
}
