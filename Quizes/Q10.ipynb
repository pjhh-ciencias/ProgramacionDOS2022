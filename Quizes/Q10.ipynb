{
 "cells": [
  {
   "attachments": {},
   "cell_type": "markdown",
   "metadata": {},
   "source": [
    "# <center> Quiz 10 </center>\n",
    "\n",
    "## Instrucciones: \n",
    "\n",
    "* #### Para cada ejercicio debes enviar el archivo en formato `.py` o `.ipynb` con el programa correspondiente.\n",
    "\n",
    "* #### Los archivos correspondientes a cada pregunta se deben nombrar de la siguiente manera: \n",
    "  <center><font size=4><b>TuNombre_TuPrimerApellido_Q10_#</b></font></center>\n",
    "  \n",
    "  #### donde en lugar de \\#  tienes que colocar el número de ejercicio. \n",
    "\n",
    "* #### Enviar los archivos al correo **pablo.jorge@aulavirtual.umar.mx**, en el asunto escribe **Quiz 10**. No olvides adjuntar los archivos, de otra forma el ejercicio no será tomado en cuenta. \n",
    "\n",
    "* #### Después de las 17:00 horas por cada 5 minutos de retraso al enviar tus archivos se tendrá una penalización de 0.5 puntos menos sobre la calificación final del Quiz. \n",
    "\n"
   ]
  },
  {
   "attachments": {},
   "cell_type": "markdown",
   "metadata": {},
   "source": [
    "## Pregunta 1.  Resolución de ecuaciones lineales.  \n",
    "\n",
    "#### Crea un módulo en python que se llame `algebra`, y dentro de este módulo define una función que se llame `sol_ecuacion_lineal` que reciba como argumento  los coeficientes $a,b,c$ y $d$ correspondientes a una ecuación lineal expresada en la forma: $$ax + b = cx + d$$ (estos argumentos deben estar predefinidos como $0$) e imprima la solución de la ecuación. Observa que los coeficientes $a$ y $b$ no pueden ser cero simultaneamente, ya que de ser así no se tendría una ecuación. La impresión de la solución debe ser expresada como una  fracción reducida a su minima expresión o bien como un número entero en caso de  que $d-b$ sea divisible  entre $a-c$.\n",
    "\n",
    "#### Por ejemplo si la ecuacion en cuestión es $-2x + 5 = 13$ el usuario debe llamar a la funcion de la siguiente manera: `sol_ecuacion_lineal(-2,5,0,13)` y se debe imprimir $-4.0$\n"
   ]
  },
  {
   "attachments": {},
   "cell_type": "markdown",
   "metadata": {},
   "source": [
    "# Pregunta 2. "
   ]
  },
  {
   "attachments": {},
   "cell_type": "markdown",
   "metadata": {},
   "source": [
    "#### Escribe el codigo corresondiente para resolver la siguiente ecuación $12x + 18 = –34x + 67$ usuando el módulo `algebra` que acabas de crear.  \n",
    " "
   ]
  },
  {
   "attachments": {},
   "cell_type": "markdown",
   "metadata": {},
   "source": []
  }
 ],
 "metadata": {
  "kernelspec": {
   "display_name": "Python 3",
   "language": "python",
   "name": "python3"
  },
  "language_info": {
   "codemirror_mode": {
    "name": "ipython",
    "version": 3
   },
   "file_extension": ".py",
   "mimetype": "text/x-python",
   "name": "python",
   "nbconvert_exporter": "python",
   "pygments_lexer": "ipython3",
   "version": "3.11.2"
  },
  "orig_nbformat": 4
 },
 "nbformat": 4,
 "nbformat_minor": 2
}
