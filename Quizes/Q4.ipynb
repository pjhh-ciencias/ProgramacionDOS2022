{
 "cells": [
  {
   "attachments": {},
   "cell_type": "markdown",
   "metadata": {},
   "source": [
    "# <center> Quiz 4 </center>"
   ]
  },
  {
   "cell_type": "markdown",
   "metadata": {},
   "source": [
    "## Pregunta 1\n",
    "\n",
    "#### Crea un programa en Python que solicite al usuario el nombre de $5$ paises, almacenalos en una tupla, e imprime la tupla completa. Luego, realiza lo siguiente: Solicita al usuario que ingrese el nombre de uno de los paises que se encuentran en la tupla validar la entrada en el siguiente sentido, si el nombre del pais ingresado no se encuentra en la tupla manda un mensaje indicando  solicitando nuevamente el nombre del pais, luego muestra la posición de este pais en la tupla."
   ]
  },
  {
   "cell_type": "markdown",
   "metadata": {},
   "source": [
    "## Pregunta 2\n",
    "\n",
    "#### En los siguientes conjuntos se almacenan los nombres de estudiantes que practican el determinado deporte:"
   ]
  },
  {
   "cell_type": "code",
   "execution_count": null,
   "metadata": {},
   "outputs": [],
   "source": [
    "futbol={'Jose','Ximena','Adrian','Mariana','Angel','Rosario','Jesus','Carolina'}\n",
    "tenis={'Carolina','Manuel','Ximena', 'Paola','Adrian','Jorge','Mauricio','Rosario','Joel'}\n",
    "atletismo={'Ximena','Angel','Mateo','Ximena','Paola','Janett','Cassandra','Mauricio'}"
   ]
  },
  {
   "cell_type": "markdown",
   "metadata": {},
   "source": [
    "#### Utiliza instrucciones en Python para responder las siguientes preguntas:\n",
    "\n",
    "#### 1. ¿Qué estudiantes practican los tres deportes?\n",
    "   \n",
    "#### 2. ¿Cuantos estudiantes practican los tres deportes?\n",
    "   \n",
    "#### 3. ¿Qué estudiantes practican futbol y tenis pero no atletismo?\n",
    "   \n",
    "#### 4. ¿Cuantos estudiantes practican futbol o tenis pero no atletismo?\n",
    "   \n",
    "#### 5. ¿Qué estudiantes practican unicamente tenis?\n",
    "\n",
    "#### 6. Almacena en una lista el nombre de todos los estudiantes que practiquen alguno de los tres deportes.\n",
    "\n",
    "#### 7. Almacena en una lista el nombre de todos los estudiantes que practiquen uno y sólo uno de los tres deportes."
   ]
  }
 ],
 "metadata": {
  "language_info": {
   "name": "python"
  },
  "orig_nbformat": 4
 },
 "nbformat": 4,
 "nbformat_minor": 2
}
