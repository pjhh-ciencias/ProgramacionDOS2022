{
 "cells": [
  {
   "attachments": {},
   "cell_type": "markdown",
   "metadata": {},
   "source": [
    "# <center> Quiz 7 </center>\n",
    "\n",
    "## Instrucciones: \n",
    "\n",
    "* #### Para cada ejercicio debes enviar el archivo en formato `.py` o `.ipynb` con el programa correspondiente.\n",
    "\n",
    "* #### Los archivos correspondientes a cada pregunta se deben nombrar de la siguiente manera: \n",
    "  <center><font size=4><b>TuNombre_TuPrimerApellido_Q7_#</b></font></center>\n",
    "  \n",
    "  #### donde en lugar de \\#  tienes que colocar el número de ejercicio. \n",
    "\n",
    "* #### Enviar los archivos al correo **pablo.jorge@aulavirtual.umar.mx**. No olvides adjuntar los archivos, de otra forma el ejercicio no será tomado en cuenta. \n",
    "\n",
    "* #### Después de las 17:00 horas por cada 5 minutos de retraso al enviar tus archivos se tendrá una penalización de 0.5 puntos menos sobre la calificación final del Quiz. \n",
    "\n"
   ]
  },
  {
   "attachments": {},
   "cell_type": "markdown",
   "metadata": {},
   "source": [
    "## Pregunta 1\n",
    "\n",
    "#### Escriba una función en Python que se llame `random_password` que genere una contraseña aleatoria. La contraseña debe tener una longitud aleatoria de entre 8 y 12 caracteres. Cada carácter debe seleccionarse al azar de las posiciones 33 a 126 en la tabla ASCII. La función no recibirá ningún parámetro y  devolverá la contraseña generada aleatoriamente como único resultado. Muestre la contraseña generada aleatoriamente en el programa principal de su archivo (fuera de la función). \n",
    "\n",
    "#### **Sugerencia:** Posiblemente la función `chr` resulte util para resolver este ejercicio."
   ]
  },
  {
   "cell_type": "markdown",
   "metadata": {},
   "source": [
    "## Pregunta 2\n",
    "\n",
    "#### Escribe un programa en Python que solicite al usuario un número entero (usa r `try-except` para validar entrada) e imprima  la suma de sus dígitos. Por ejemplo si el usuario ingresa `3114`, entonces se debe imprimir `9` porque $3+1+4+1=9$"
   ]
  },
  {
   "cell_type": "code",
   "execution_count": 7,
   "metadata": {},
   "outputs": [
    {
     "data": {
      "text/plain": [
       "False"
      ]
     },
     "execution_count": 7,
     "metadata": {},
     "output_type": "execute_result"
    }
   ],
   "source": [
    "x='10.5'\n",
    "z = float(x)\n",
    "y = int(z)\n",
    "\n",
    "z == y"
   ]
  },
  {
   "cell_type": "code",
   "execution_count": null,
   "metadata": {},
   "outputs": [],
   "source": []
  }
 ],
 "metadata": {
  "kernelspec": {
   "display_name": "Python 3",
   "language": "python",
   "name": "python3"
  },
  "language_info": {
   "codemirror_mode": {
    "name": "ipython",
    "version": 3
   },
   "file_extension": ".py",
   "mimetype": "text/x-python",
   "name": "python",
   "nbconvert_exporter": "python",
   "pygments_lexer": "ipython3",
   "version": "3.11.2"
  },
  "orig_nbformat": 4
 },
 "nbformat": 4,
 "nbformat_minor": 2
}
