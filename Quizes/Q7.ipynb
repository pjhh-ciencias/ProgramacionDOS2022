{
 "cells": [
  {
   "attachments": {},
   "cell_type": "markdown",
   "metadata": {},
   "source": [
    "# <center> Quiz 7 </center>\n",
    "\n",
    "## Instrucciones: \n",
    "\n",
    "* #### Para cada ejercicio debes enviar el archivo en formato `.py` o `.ipynb` con el programa correspondiente.\n",
    "\n",
    "* #### Los archivos correspondientes a cada pregunta se deben nombrar de la siguiente manera: \n",
    "  <center><font size=4><b>TuNombre_TuPrimerApellido_Q7_#</b></font></center>\n",
    "  \n",
    "  #### donde en lugar de \\#  tienes que colocar el número de ejercicio. \n",
    "\n",
    "* #### Enviar los archivos al correo **pablo.jorge@aulavirtual.umar.mx**. No olvides adjuntar los archivos, de otra forma el ejercicio no será tomado en cuenta. \n",
    "\n",
    "* #### Después de las 17:00 horas por cada 5 minutos de retraso al enviar tus archivos se tendrá una penalización de 0.75 puntos menos sobre la calificación final del Quiz. \n",
    "\n"
   ]
  },
  {
   "attachments": {},
   "cell_type": "markdown",
   "metadata": {},
   "source": [
    "## Pregunta 1\n",
    "\n",
    "#### Escribir una función en Python llamada `good_password` que reciba una cadena de caracteres y determine si esta es una buena contraseña o no. Diremos que una **buena contraseña** es aquella que cumple las siguientes características:\n",
    "\n",
    "####    1. La contraseña debe tener al menos 8 caracteres. \n",
    "####    2. Contenga al menos una letra mayúscula, al menos una letra minúscula y al menos un número.\n",
    "\n",
    "#### La función debe devolver `True` si la contraseña que se le pasó como su único parámetro es buena. De lo contrario, debería devolver `False`. \n",
    "\n",
    "#### Fuera de la función `good_password` solicite al usuario ingresar una contraseña, llame a la función con argumento la contraseña ingresada por el usuario e informe si es buena o no. \n",
    "\n",
    "\n",
    "#### **Sugerencia:**"
   ]
  },
  {
   "attachments": {},
   "cell_type": "markdown",
   "metadata": {},
   "source": [
    "## Pregunta 2\n",
    "\n",
    "#### Escribe una función en Python que se llame `reduce` y que reciba como únicos parámetros dos enteros positivos que representen el numerador y el denominador de una fracción respectivamente. La función debe reducir En el cuerpo de la función se debe reducir la fracción a su mínima expresión y luego devolver tanto el numerador como el denominador de la fracción reducida.\n",
    "\n",
    "#### Por ejemplo, si los parámetros pasados a la función `reduce` son 25 y 10, entonces la función debería devolver 5 y 2. Incluya fuera de la funcion las instrucciones que soliciten al usuario  el numerador y  denominador. Entonces llama a la función `reduce` con estos argumentos.\n",
    "\n",
    "#### **Sugerencia:** Importa la biblioteca `math` y utiliza la función `math.gcd(a,b)` *greatest common divisor(gcd)* que devuelve el máximo común divisor de $a$ y $b$."
   ]
  },
  {
   "cell_type": "code",
   "execution_count": 3,
   "metadata": {},
   "outputs": [
    {
     "name": "stdout",
     "output_type": "stream",
     "text": [
      "2\n"
     ]
    }
   ],
   "source": [
    "import math\n",
    "\n",
    "mcd = math.gcd(4,2)\n",
    "print(mcd)"
   ]
  },
  {
   "cell_type": "code",
   "execution_count": null,
   "metadata": {},
   "outputs": [],
   "source": []
  }
 ],
 "metadata": {
  "kernelspec": {
   "display_name": "Python 3",
   "language": "python",
   "name": "python3"
  },
  "language_info": {
   "codemirror_mode": {
    "name": "ipython",
    "version": 3
   },
   "file_extension": ".py",
   "mimetype": "text/x-python",
   "name": "python",
   "nbconvert_exporter": "python",
   "pygments_lexer": "ipython3",
   "version": "3.11.2"
  },
  "orig_nbformat": 4
 },
 "nbformat": 4,
 "nbformat_minor": 2
}
