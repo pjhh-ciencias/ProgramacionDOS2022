{
 "cells": [
  {
   "attachments": {},
   "cell_type": "markdown",
   "metadata": {},
   "source": [
    "# <center> Quiz 6 </center>\n",
    "\n",
    "## Instrucciones: \n",
    "\n",
    "* #### Para cada ejercicio debes enviar el archivo en formato `.py` o `.ipynb` con el programa correspondiente.\n",
    "\n",
    "* #### Los archivos correspondientes a cada pregunta se deben nombrar de la siguiente manera: \n",
    "  <center><font size=4><b>TuNombre_TuPrimerApellido_Q6_#</b></font></center>\n",
    "  \n",
    "  #### donde en lugar de \\#  tienes que colocar el número de ejercicio. \n",
    "\n",
    "* #### Enviar los archivos al correo **pablo.jorge@aulavirtual.umar.mx**. No olvides adjuntar los archivos, de otra forma el ejercicio no será tomado en cuenta. \n",
    "\n",
    "* #### Después de las 17:00 horas por cada 5 minutos de retraso al enviar tus archivos se tendrá una penalización de 0.75 puntos menos sobre la calificación final del Quiz. \n",
    "\n"
   ]
  },
  {
   "attachments": {},
   "cell_type": "markdown",
   "metadata": {},
   "source": [
    "## Pregunta 1\n",
    "\n",
    "#### Escribir una función en Python llamada `good_password` que reciba una cadena de caracteres y determine si esta es una buena contraseña o no. Diremos que una **buena contraseña** es aquella que cumple las siguientes características:\n",
    "\n",
    "####    1. La contraseña debe tener al menos 8 caracteres. \n",
    "####    2. Contenga al menos una letra mayúscula, al menos una letra minúscula y al menos un número.\n",
    "\n",
    "#### La función debe devolver `True` si la contraseña que se le pasó como su único parámetro es buena. De lo contrario, debería devolver `False`. \n",
    "\n",
    "#### Fuera de la función `good_password` solicite al usuario ingresar una contraseña, llame a la función con argumento la contraseña ingresada por el usuario e informe si es buena o no. "
   ]
  },
  {
   "cell_type": "code",
   "execution_count": 10,
   "metadata": {},
   "outputs": [
    {
     "name": "stdout",
     "output_type": "stream",
     "text": [
      "0 -> \u0000 , 1 -> \u0001 , 2 -> \u0002 , 3 -> \u0003 , 4 -> \u0004 , 5 -> \u0005 , 6 -> \u0006 , 7 -> \u0007 , 8 -> , 9 -> \t , 10 -> \n",
      " , 14 -> \u000e , 15 -> \u000f , 16 -> \u0010 , 17 -> \u0011 , 18 -> \u0012 , 19 -> \u0013 , 20 -> \u0014 , 21 -> \u0015 , 22 -> \u0016 , 23 -> \u0017 , 24 -> \u0018 , 25 -> \u0019 , 26 -> \u001a , 27 -> \u001b , 28 -> \u001c , 29 -> \u001d , 30 -> \u001e , 31 -> \u001f , 32 ->   , 33 -> ! , 34 -> \" , 35 -> # , 36 -> $ , 37 -> % , 38 -> & , 39 -> ' , 40 -> ( , 41 -> ) , 42 -> * , 43 -> + , 44 -> , , 45 -> - , 46 -> . , 47 -> / , 48 -> 0 , 49 -> 1 , 50 -> 2 , 51 -> 3 , 52 -> 4 , 53 -> 5 , 54 -> 6 , 55 -> 7 , 56 -> 8 , 57 -> 9 , 58 -> : , 59 -> ; , 60 -> < , 61 -> = , 62 -> > , 63 -> ? , 64 -> @ , 65 -> A , 66 -> B , 67 -> C , 68 -> D , 69 -> E , 70 -> F , 71 -> G , 72 -> H , 73 -> I , 74 -> J , 75 -> K , 76 -> L , 77 -> M , 78 -> N , 79 -> O , 80 -> P , 81 -> Q , 82 -> R , 83 -> S , 84 -> T , 85 -> U , 86 -> V , 87 -> W , 88 -> X , 89 -> Y , 90 -> Z , 91 -> [ , 92 -> \\ , 93 -> ] , 94 -> ^ , 95 -> _ , 96 -> ` , 97 -> a , 98 -> b , 99 -> c , 100 -> d , 101 -> e , 102 -> f , 103 -> g , 104 -> h , 105 -> i , 106 -> j , 107 -> k , 108 -> l , 109 -> m , 110 -> n , 111 -> o , 112 -> p , 113 -> q , 114 -> r , 115 -> s , 116 -> t , 117 -> u , 118 -> v , 119 -> w , 120 -> x , 121 -> y , 122 -> z , 123 -> { , 124 -> | , 125 -> } , 126 -> ~ , 127 ->  , 128 ->  , 129 ->  , 130 ->  , 131 ->  , 132 ->  , 133 ->  , 134 ->  , 135 ->  , 136 ->  , 137 ->  , 138 ->  , 139 ->  , 140 ->  , 141 ->  , 142 ->  , 143 ->  , "
     ]
    }
   ],
   "source": [
    "for i in range(0,144):\n",
    "    print(f\"{i} -> {chr(i)}\", end=' , ')"
   ]
  },
  {
   "attachments": {},
   "cell_type": "markdown",
   "metadata": {},
   "source": [
    "## Pregunta 2\n",
    "\n",
    "#### Escribe una función en Python que se llame `reduce` y que reciba como únicos parámetros dos enteros positivos que representen el numerador y el denominador de una fracción respectivamente. La función debe reducir En el cuerpo de la función se debe reducir la fracción a su mínima expresión y luego devolver tanto el numerador como el denominador de la fracción reducida.\n",
    "\n",
    "#### Por ejemplo, si los parámetros pasados a la función `reduce` son 25 y 10, entonces la función debería devolver 5 y 2. Incluya fuera de la funcion las instrucciones que soliciten al usuario  el numerador y  denominador. Entonces llama a la función `reduce` con estos argumentos.\n",
    "\n",
    "#### Sugerencia: Importa la biblioteca `math` y utiliza la función `math.gcd(a,b)` *greatest common divisor(gcd)* que devuelve el máximo común divisor de $a$ y $b$."
   ]
  },
  {
   "cell_type": "code",
   "execution_count": 5,
   "metadata": {},
   "outputs": [
    {
     "name": "stdout",
     "output_type": "stream",
     "text": [
      "2\n"
     ]
    }
   ],
   "source": [
    "import math\n",
    "\n",
    "mcd = math.gcd(4,6)\n",
    "print(mcd)"
   ]
  },
  {
   "cell_type": "code",
   "execution_count": 9,
   "metadata": {},
   "outputs": [
    {
     "name": "stdout",
     "output_type": "stream",
     "text": [
      "20 -> \u0014\n",
      "21 -> \u0015\n",
      "22 -> \u0016\n",
      "23 -> \u0017\n",
      "24 -> \u0018\n",
      "25 -> \u0019\n",
      "26 -> \u001a\n",
      "27 -> \u001b\n",
      "28 -> \u001c\n",
      "29 -> \u001d\n",
      "30 -> \u001e\n",
      "31 -> \u001f\n",
      "32 ->  \n",
      "33 -> !\n",
      "34 -> \"\n",
      "35 -> #\n",
      "36 -> $\n",
      "37 -> %\n",
      "38 -> &\n",
      "39 -> '\n",
      "40 -> (\n",
      "41 -> )\n",
      "42 -> *\n",
      "43 -> +\n",
      "44 -> ,\n",
      "45 -> -\n",
      "46 -> .\n",
      "47 -> /\n",
      "48 -> 0\n",
      "49 -> 1\n"
     ]
    }
   ],
   "source": [
    "for i in range(20,50):\n",
    "    print(f\"{i} -> {chr(i)}\")\n"
   ]
  },
  {
   "cell_type": "code",
   "execution_count": null,
   "metadata": {},
   "outputs": [],
   "source": []
  }
 ],
 "metadata": {
  "kernelspec": {
   "display_name": "Python 3",
   "language": "python",
   "name": "python3"
  },
  "language_info": {
   "codemirror_mode": {
    "name": "ipython",
    "version": 3
   },
   "file_extension": ".py",
   "mimetype": "text/x-python",
   "name": "python",
   "nbconvert_exporter": "python",
   "pygments_lexer": "ipython3",
   "version": "3.11.2"
  },
  "orig_nbformat": 4
 },
 "nbformat": 4,
 "nbformat_minor": 2
}
